{
 "cells": [
  {
   "cell_type": "markdown",
   "metadata": {
    "collapsed": true,
    "pycharm": {
     "name": "#%% md\n"
    }
   },
   "source": [
    "# Notebook for time-series classification\n",
    "\n",
    "Useful links:\n",
    "* [Time Series Classifiers Explained](https://towardsdatascience.com/a-brief-introduction-to-time-series-classification-algorithms-7b4284d31b97)\n",
    "\n",
    "Time-series classifiers:\n",
    "* Distance based\n",
    "    * __KNN with Dynamic Time Warping (DTW)__\n",
    "        * Euclidean distance is replaced with DTW\n",
    "        * DTW measures similarity between two sequences that may not align exactly in time, speed, or length.\n",
    "        * KNN-DTW compares each object with all the other objects in the training set.\n",
    "        * Provides limited information about why a series was assigned to a certain class.\n",
    "        * KNN may also perform poorly with noisy series.\n",
    "* Interval based\n",
    "    * __Time Series Fores Classifier__\n",
    "        * Random Forest Classifier adapted to series data.\n",
    "        * Computationally efficient.\n",
    "        * Interpretable model.\n",
    "* Dictionary based\n",
    "    * Transforms real-valued time series into a sequence of discrete \"words\".\n",
    "    * Classification is based on the distribution of the extracted symbolic words.\n",
    "    * A series in a window `w` is transformed into a \"word\" of length `l` - word consists of `α` possible letters.\n",
    "    * __Bag of SFA Symbols__\n",
    "    * __The BOSS Ensemble__\n",
    "    * __cBOSS__\n",
    "* Frequency base\n",
    "    * Random Interval Spectral Ensemble (RISE)\n",
    "        * Variant of time series forest.\n",
    "        * Uses single time series interval pre tree.\n",
    "        * Trained from spectral features, not summary statistics.\n",
    "* Shapelet based\n",
    "    * Subsequences or small sub-shapes of time series that are representative of a class.\n",
    "\n",
    "I think that we can try using the Shapelet based classifier."
   ]
  }
 ],
 "metadata": {
  "kernelspec": {
   "display_name": "Python 3",
   "language": "python",
   "name": "python3"
  },
  "language_info": {
   "codemirror_mode": {
    "name": "ipython",
    "version": 2
   },
   "file_extension": ".py",
   "mimetype": "text/x-python",
   "name": "python",
   "nbconvert_exporter": "python",
   "pygments_lexer": "ipython2",
   "version": "2.7.6"
  }
 },
 "nbformat": 4,
 "nbformat_minor": 0
}