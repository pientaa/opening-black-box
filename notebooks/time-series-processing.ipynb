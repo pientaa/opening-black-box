{
 "cells": [
  {
   "cell_type": "markdown",
   "source": [
    "# Time Series Processing"
   ],
   "metadata": {
    "collapsed": false
   }
  },
  {
   "cell_type": "code",
   "execution_count": 2,
   "outputs": [],
   "source": [
    "import stumpy\n",
    "import pandas as pd\n",
    "from fastdtw import fastdtw\n",
    "import numpy as np\n",
    "import matplotlib.pyplot as plt\n",
    "from pathlib import Path\n",
    "from IPython.display import display, HTML\n",
    "from scipy.spatial.distance import euclidean"
   ],
   "metadata": {
    "collapsed": false,
    "pycharm": {
     "name": "#%%\n"
    }
   }
  },
  {
   "cell_type": "code",
   "execution_count": 3,
   "outputs": [],
   "source": [
    "def get_subdirectories(directory=\"\"):\n",
    "    subdirectories = []\n",
    "    p = Path(\"./../experiments_data/\" + directory)\n",
    "    for item in p.glob('*/'):\n",
    "        if item.suffix not in (['.csv', '.zip']):\n",
    "            subdirectories.append(directory + \"/\" + item.name)\n",
    "    return subdirectories"
   ],
   "metadata": {
    "collapsed": false,
    "pycharm": {
     "name": "#%%\n"
    }
   }
  },
  {
   "cell_type": "code",
   "execution_count": 4,
   "outputs": [
    {
     "data": {
      "text/plain": "['/avgNetProfitGroupedBySoldDate',\n '/avgNetProfitGroupedBySoldDateWhereProfitNegative',\n '/avgNetProfitGroupedBySoldDateWhereYearAfter2000',\n '/avgWholeSaleCostGroupedBySoldDate',\n '/countDistinctTicketNumber',\n '/countNetProfitGroupedBySoldDate',\n '/countNetProfitGroupedBySoldDateWhereProfitNegative',\n '/countNetProfitGroupedBySoldDateWhereYearAfter2000',\n '/countWholeSaleCostGroupedBySoldDate',\n '/filterCatalogSalesWhereProfitNegative',\n '/filterCatalogSalesWhereProfitNegativeAndYearAfter2000',\n '/filterCatalogSalesWhereYearAfter2000',\n '/filterStoreSalesWhereProfitNegative',\n '/filterStoreSalesWhereProfitNegativeAndYearAfter2000',\n '/filterStoreSalesWhereYearAfter2000',\n '/maxNetProfitGroupedBySoldDate',\n '/maxNetProfitGroupedBySoldDateWhereProfitNegative',\n '/maxNetProfitGroupedBySoldDateWhereYearAfter2000',\n '/maxWholeSaleCostGroupedBySoldDate',\n '/minNetProfitGroupedBySoldDate',\n '/minNetProfitGroupedBySoldDateWhereProfitNegative',\n '/minNetProfitGroupedBySoldDateWhereYearAfter2000',\n '/minWholeSaleCostGroupedBySoldDate',\n '/summaryNetProfitGroupedBySoldDate',\n '/summaryWholeSaleCostGroupedBySoldDate',\n '/sumNetProfitGroupedBySoldDate',\n '/sumNetProfitGroupedBySoldDateWhereProfitNegative',\n '/sumNetProfitGroupedBySoldDateWhereYearAfter2000',\n '/sumWholeSaleCostGroupedBySoldDate']"
     },
     "execution_count": 4,
     "metadata": {},
     "output_type": "execute_result"
    }
   ],
   "source": [
    "all_directories = get_subdirectories()\n",
    "nodes_directories = [x for x in all_directories if \"node\" in x]\n",
    "\n",
    "data_directories = []\n",
    "data_directories_groups = []\n",
    "for directory in nodes_directories:\n",
    "    cur_node_subdirectories = get_subdirectories(directory)\n",
    "    data_directories.append(cur_node_subdirectories)\n",
    "\n",
    "data_directories_groups = data_directories\n",
    "data_directories = [item for sublist in data_directories for item in sublist]\n",
    "\n",
    "function_names = data_directories_groups[1]\n",
    "function_names = list(map(lambda x: x[8:], data_directories_groups[1]))\n",
    "function_names"
   ],
   "metadata": {
    "collapsed": false,
    "pycharm": {
     "name": "#%%\n"
    }
   }
  },
  {
   "cell_type": "markdown",
   "source": [
    "### Aggregating labels by functions names"
   ],
   "metadata": {
    "collapsed": false
   }
  },
  {
   "cell_type": "code",
   "execution_count": 5,
   "outputs": [
    {
     "data": {
      "text/plain": "                                        function_name  \\\n0                       avgNetProfitGroupedBySoldDate   \n1    avgNetProfitGroupedBySoldDateWhereProfitNegative   \n2     avgNetProfitGroupedBySoldDateWhereYearAfter2000   \n3                   avgWholeSaleCostGroupedBySoldDate   \n4                           countDistinctTicketNumber   \n5                     countNetProfitGroupedBySoldDate   \n6   countNetProfitGroupedBySoldDateWhereProfitNega...   \n7   countNetProfitGroupedBySoldDateWhereYearAfter2000   \n8                 countWholeSaleCostGroupedBySoldDate   \n9               filterCatalogSalesWhereProfitNegative   \n10  filterCatalogSalesWhereProfitNegativeAndYearAf...   \n11               filterCatalogSalesWhereYearAfter2000   \n12                filterStoreSalesWhereProfitNegative   \n13  filterStoreSalesWhereProfitNegativeAndYearAfte...   \n14                 filterStoreSalesWhereYearAfter2000   \n15                      maxNetProfitGroupedBySoldDate   \n16   maxNetProfitGroupedBySoldDateWhereProfitNegative   \n17    maxNetProfitGroupedBySoldDateWhereYearAfter2000   \n18                  maxWholeSaleCostGroupedBySoldDate   \n19                      minNetProfitGroupedBySoldDate   \n20   minNetProfitGroupedBySoldDateWhereProfitNegative   \n21    minNetProfitGroupedBySoldDateWhereYearAfter2000   \n22                  minWholeSaleCostGroupedBySoldDate   \n23                      sumNetProfitGroupedBySoldDate   \n24   sumNetProfitGroupedBySoldDateWhereProfitNegative   \n25    sumNetProfitGroupedBySoldDateWhereYearAfter2000   \n26                  sumWholeSaleCostGroupedBySoldDate   \n27                  summaryNetProfitGroupedBySoldDate   \n28              summaryWholeSaleCostGroupedBySoldDate   \n\n                            label  \n0                     aggregation  \n1         aggregation, filtration  \n2   aggregation, filtration, join  \n3                     aggregation  \n4                     aggregation  \n5                     aggregation  \n6         aggregation, filtration  \n7   aggregation, filtration, join  \n8                     aggregation  \n9                      filtration  \n10               filtration, join  \n11               filtration, join  \n12                     filtration  \n13               filtration, join  \n14               filtration, join  \n15                    aggregation  \n16        aggregation, filtration  \n17  aggregation, filtration, join  \n18                    aggregation  \n19                    aggregation  \n20        aggregation, filtration  \n21  aggregation, filtration, join  \n22                    aggregation  \n23                    aggregation  \n24        aggregation, filtration  \n25  aggregation, filtration, join  \n26                    aggregation  \n27                    aggregation  \n28                    aggregation  ",
      "text/html": "<div>\n<style scoped>\n    .dataframe tbody tr th:only-of-type {\n        vertical-align: middle;\n    }\n\n    .dataframe tbody tr th {\n        vertical-align: top;\n    }\n\n    .dataframe thead th {\n        text-align: right;\n    }\n</style>\n<table border=\"1\" class=\"dataframe\">\n  <thead>\n    <tr style=\"text-align: right;\">\n      <th></th>\n      <th>function_name</th>\n      <th>label</th>\n    </tr>\n  </thead>\n  <tbody>\n    <tr>\n      <th>0</th>\n      <td>avgNetProfitGroupedBySoldDate</td>\n      <td>aggregation</td>\n    </tr>\n    <tr>\n      <th>1</th>\n      <td>avgNetProfitGroupedBySoldDateWhereProfitNegative</td>\n      <td>aggregation, filtration</td>\n    </tr>\n    <tr>\n      <th>2</th>\n      <td>avgNetProfitGroupedBySoldDateWhereYearAfter2000</td>\n      <td>aggregation, filtration, join</td>\n    </tr>\n    <tr>\n      <th>3</th>\n      <td>avgWholeSaleCostGroupedBySoldDate</td>\n      <td>aggregation</td>\n    </tr>\n    <tr>\n      <th>4</th>\n      <td>countDistinctTicketNumber</td>\n      <td>aggregation</td>\n    </tr>\n    <tr>\n      <th>5</th>\n      <td>countNetProfitGroupedBySoldDate</td>\n      <td>aggregation</td>\n    </tr>\n    <tr>\n      <th>6</th>\n      <td>countNetProfitGroupedBySoldDateWhereProfitNega...</td>\n      <td>aggregation, filtration</td>\n    </tr>\n    <tr>\n      <th>7</th>\n      <td>countNetProfitGroupedBySoldDateWhereYearAfter2000</td>\n      <td>aggregation, filtration, join</td>\n    </tr>\n    <tr>\n      <th>8</th>\n      <td>countWholeSaleCostGroupedBySoldDate</td>\n      <td>aggregation</td>\n    </tr>\n    <tr>\n      <th>9</th>\n      <td>filterCatalogSalesWhereProfitNegative</td>\n      <td>filtration</td>\n    </tr>\n    <tr>\n      <th>10</th>\n      <td>filterCatalogSalesWhereProfitNegativeAndYearAf...</td>\n      <td>filtration, join</td>\n    </tr>\n    <tr>\n      <th>11</th>\n      <td>filterCatalogSalesWhereYearAfter2000</td>\n      <td>filtration, join</td>\n    </tr>\n    <tr>\n      <th>12</th>\n      <td>filterStoreSalesWhereProfitNegative</td>\n      <td>filtration</td>\n    </tr>\n    <tr>\n      <th>13</th>\n      <td>filterStoreSalesWhereProfitNegativeAndYearAfte...</td>\n      <td>filtration, join</td>\n    </tr>\n    <tr>\n      <th>14</th>\n      <td>filterStoreSalesWhereYearAfter2000</td>\n      <td>filtration, join</td>\n    </tr>\n    <tr>\n      <th>15</th>\n      <td>maxNetProfitGroupedBySoldDate</td>\n      <td>aggregation</td>\n    </tr>\n    <tr>\n      <th>16</th>\n      <td>maxNetProfitGroupedBySoldDateWhereProfitNegative</td>\n      <td>aggregation, filtration</td>\n    </tr>\n    <tr>\n      <th>17</th>\n      <td>maxNetProfitGroupedBySoldDateWhereYearAfter2000</td>\n      <td>aggregation, filtration, join</td>\n    </tr>\n    <tr>\n      <th>18</th>\n      <td>maxWholeSaleCostGroupedBySoldDate</td>\n      <td>aggregation</td>\n    </tr>\n    <tr>\n      <th>19</th>\n      <td>minNetProfitGroupedBySoldDate</td>\n      <td>aggregation</td>\n    </tr>\n    <tr>\n      <th>20</th>\n      <td>minNetProfitGroupedBySoldDateWhereProfitNegative</td>\n      <td>aggregation, filtration</td>\n    </tr>\n    <tr>\n      <th>21</th>\n      <td>minNetProfitGroupedBySoldDateWhereYearAfter2000</td>\n      <td>aggregation, filtration, join</td>\n    </tr>\n    <tr>\n      <th>22</th>\n      <td>minWholeSaleCostGroupedBySoldDate</td>\n      <td>aggregation</td>\n    </tr>\n    <tr>\n      <th>23</th>\n      <td>sumNetProfitGroupedBySoldDate</td>\n      <td>aggregation</td>\n    </tr>\n    <tr>\n      <th>24</th>\n      <td>sumNetProfitGroupedBySoldDateWhereProfitNegative</td>\n      <td>aggregation, filtration</td>\n    </tr>\n    <tr>\n      <th>25</th>\n      <td>sumNetProfitGroupedBySoldDateWhereYearAfter2000</td>\n      <td>aggregation, filtration, join</td>\n    </tr>\n    <tr>\n      <th>26</th>\n      <td>sumWholeSaleCostGroupedBySoldDate</td>\n      <td>aggregation</td>\n    </tr>\n    <tr>\n      <th>27</th>\n      <td>summaryNetProfitGroupedBySoldDate</td>\n      <td>aggregation</td>\n    </tr>\n    <tr>\n      <th>28</th>\n      <td>summaryWholeSaleCostGroupedBySoldDate</td>\n      <td>aggregation</td>\n    </tr>\n  </tbody>\n</table>\n</div>"
     },
     "execution_count": 5,
     "metadata": {},
     "output_type": "execute_result"
    }
   ],
   "source": [
    "labels = pd.read_csv(\"./../notebooks/functions.csv\")\n",
    "labels = labels.groupby('function_name')['label'].apply(', '.join).reset_index()\n",
    "labels"
   ],
   "metadata": {
    "collapsed": false,
    "pycharm": {
     "name": "#%%\n"
    }
   }
  },
  {
   "cell_type": "markdown",
   "source": [
    "### Adding symbols (ts1, ts2, ...) to function names"
   ],
   "metadata": {
    "collapsed": false
   }
  },
  {
   "cell_type": "code",
   "execution_count": 6,
   "outputs": [],
   "source": [
    "iterator = 1\n",
    "symbolic_data = pd.DataFrame(columns=[\"sym\", \"f_name\"])\n",
    "for function in function_names:\n",
    "    symbolic_data = symbolic_data.append({\"sym\": f\"ts{iterator}\", \"f_name\": function[1:]}, ignore_index=True)\n",
    "    iterator += 1"
   ],
   "metadata": {
    "collapsed": false,
    "pycharm": {
     "name": "#%%\n"
    }
   }
  },
  {
   "cell_type": "markdown",
   "source": [
    "### Merging labels with symbols"
   ],
   "metadata": {
    "collapsed": false
   }
  },
  {
   "cell_type": "code",
   "execution_count": 7,
   "outputs": [
    {
     "name": "stdout",
     "output_type": "stream",
     "text": [
      "Legend:\n"
     ]
    },
    {
     "data": {
      "text/plain": "     sym                                             f_name  \\\n0    ts1                      avgNetProfitGroupedBySoldDate   \n1    ts2   avgNetProfitGroupedBySoldDateWhereProfitNegative   \n2    ts3    avgNetProfitGroupedBySoldDateWhereYearAfter2000   \n3    ts4                  avgWholeSaleCostGroupedBySoldDate   \n4    ts5                          countDistinctTicketNumber   \n5    ts6                    countNetProfitGroupedBySoldDate   \n6    ts7  countNetProfitGroupedBySoldDateWhereProfitNega...   \n7    ts8  countNetProfitGroupedBySoldDateWhereYearAfter2000   \n8    ts9                countWholeSaleCostGroupedBySoldDate   \n9   ts10              filterCatalogSalesWhereProfitNegative   \n10  ts11  filterCatalogSalesWhereProfitNegativeAndYearAf...   \n11  ts12               filterCatalogSalesWhereYearAfter2000   \n12  ts13                filterStoreSalesWhereProfitNegative   \n13  ts14  filterStoreSalesWhereProfitNegativeAndYearAfte...   \n14  ts15                 filterStoreSalesWhereYearAfter2000   \n15  ts16                      maxNetProfitGroupedBySoldDate   \n16  ts17   maxNetProfitGroupedBySoldDateWhereProfitNegative   \n17  ts18    maxNetProfitGroupedBySoldDateWhereYearAfter2000   \n18  ts19                  maxWholeSaleCostGroupedBySoldDate   \n19  ts20                      minNetProfitGroupedBySoldDate   \n20  ts21   minNetProfitGroupedBySoldDateWhereProfitNegative   \n21  ts22    minNetProfitGroupedBySoldDateWhereYearAfter2000   \n22  ts23                  minWholeSaleCostGroupedBySoldDate   \n23  ts24                  summaryNetProfitGroupedBySoldDate   \n24  ts25              summaryWholeSaleCostGroupedBySoldDate   \n25  ts26                      sumNetProfitGroupedBySoldDate   \n26  ts27   sumNetProfitGroupedBySoldDateWhereProfitNegative   \n27  ts28    sumNetProfitGroupedBySoldDateWhereYearAfter2000   \n28  ts29                  sumWholeSaleCostGroupedBySoldDate   \n\n                            label  \n0                     aggregation  \n1         aggregation, filtration  \n2   aggregation, filtration, join  \n3                     aggregation  \n4                     aggregation  \n5                     aggregation  \n6         aggregation, filtration  \n7   aggregation, filtration, join  \n8                     aggregation  \n9                      filtration  \n10               filtration, join  \n11               filtration, join  \n12                     filtration  \n13               filtration, join  \n14               filtration, join  \n15                    aggregation  \n16        aggregation, filtration  \n17  aggregation, filtration, join  \n18                    aggregation  \n19                    aggregation  \n20        aggregation, filtration  \n21  aggregation, filtration, join  \n22                    aggregation  \n23                    aggregation  \n24                    aggregation  \n25                    aggregation  \n26        aggregation, filtration  \n27  aggregation, filtration, join  \n28                    aggregation  ",
      "text/html": "<div>\n<style scoped>\n    .dataframe tbody tr th:only-of-type {\n        vertical-align: middle;\n    }\n\n    .dataframe tbody tr th {\n        vertical-align: top;\n    }\n\n    .dataframe thead th {\n        text-align: right;\n    }\n</style>\n<table border=\"1\" class=\"dataframe\">\n  <thead>\n    <tr style=\"text-align: right;\">\n      <th></th>\n      <th>sym</th>\n      <th>f_name</th>\n      <th>label</th>\n    </tr>\n  </thead>\n  <tbody>\n    <tr>\n      <th>0</th>\n      <td>ts1</td>\n      <td>avgNetProfitGroupedBySoldDate</td>\n      <td>aggregation</td>\n    </tr>\n    <tr>\n      <th>1</th>\n      <td>ts2</td>\n      <td>avgNetProfitGroupedBySoldDateWhereProfitNegative</td>\n      <td>aggregation, filtration</td>\n    </tr>\n    <tr>\n      <th>2</th>\n      <td>ts3</td>\n      <td>avgNetProfitGroupedBySoldDateWhereYearAfter2000</td>\n      <td>aggregation, filtration, join</td>\n    </tr>\n    <tr>\n      <th>3</th>\n      <td>ts4</td>\n      <td>avgWholeSaleCostGroupedBySoldDate</td>\n      <td>aggregation</td>\n    </tr>\n    <tr>\n      <th>4</th>\n      <td>ts5</td>\n      <td>countDistinctTicketNumber</td>\n      <td>aggregation</td>\n    </tr>\n    <tr>\n      <th>5</th>\n      <td>ts6</td>\n      <td>countNetProfitGroupedBySoldDate</td>\n      <td>aggregation</td>\n    </tr>\n    <tr>\n      <th>6</th>\n      <td>ts7</td>\n      <td>countNetProfitGroupedBySoldDateWhereProfitNega...</td>\n      <td>aggregation, filtration</td>\n    </tr>\n    <tr>\n      <th>7</th>\n      <td>ts8</td>\n      <td>countNetProfitGroupedBySoldDateWhereYearAfter2000</td>\n      <td>aggregation, filtration, join</td>\n    </tr>\n    <tr>\n      <th>8</th>\n      <td>ts9</td>\n      <td>countWholeSaleCostGroupedBySoldDate</td>\n      <td>aggregation</td>\n    </tr>\n    <tr>\n      <th>9</th>\n      <td>ts10</td>\n      <td>filterCatalogSalesWhereProfitNegative</td>\n      <td>filtration</td>\n    </tr>\n    <tr>\n      <th>10</th>\n      <td>ts11</td>\n      <td>filterCatalogSalesWhereProfitNegativeAndYearAf...</td>\n      <td>filtration, join</td>\n    </tr>\n    <tr>\n      <th>11</th>\n      <td>ts12</td>\n      <td>filterCatalogSalesWhereYearAfter2000</td>\n      <td>filtration, join</td>\n    </tr>\n    <tr>\n      <th>12</th>\n      <td>ts13</td>\n      <td>filterStoreSalesWhereProfitNegative</td>\n      <td>filtration</td>\n    </tr>\n    <tr>\n      <th>13</th>\n      <td>ts14</td>\n      <td>filterStoreSalesWhereProfitNegativeAndYearAfte...</td>\n      <td>filtration, join</td>\n    </tr>\n    <tr>\n      <th>14</th>\n      <td>ts15</td>\n      <td>filterStoreSalesWhereYearAfter2000</td>\n      <td>filtration, join</td>\n    </tr>\n    <tr>\n      <th>15</th>\n      <td>ts16</td>\n      <td>maxNetProfitGroupedBySoldDate</td>\n      <td>aggregation</td>\n    </tr>\n    <tr>\n      <th>16</th>\n      <td>ts17</td>\n      <td>maxNetProfitGroupedBySoldDateWhereProfitNegative</td>\n      <td>aggregation, filtration</td>\n    </tr>\n    <tr>\n      <th>17</th>\n      <td>ts18</td>\n      <td>maxNetProfitGroupedBySoldDateWhereYearAfter2000</td>\n      <td>aggregation, filtration, join</td>\n    </tr>\n    <tr>\n      <th>18</th>\n      <td>ts19</td>\n      <td>maxWholeSaleCostGroupedBySoldDate</td>\n      <td>aggregation</td>\n    </tr>\n    <tr>\n      <th>19</th>\n      <td>ts20</td>\n      <td>minNetProfitGroupedBySoldDate</td>\n      <td>aggregation</td>\n    </tr>\n    <tr>\n      <th>20</th>\n      <td>ts21</td>\n      <td>minNetProfitGroupedBySoldDateWhereProfitNegative</td>\n      <td>aggregation, filtration</td>\n    </tr>\n    <tr>\n      <th>21</th>\n      <td>ts22</td>\n      <td>minNetProfitGroupedBySoldDateWhereYearAfter2000</td>\n      <td>aggregation, filtration, join</td>\n    </tr>\n    <tr>\n      <th>22</th>\n      <td>ts23</td>\n      <td>minWholeSaleCostGroupedBySoldDate</td>\n      <td>aggregation</td>\n    </tr>\n    <tr>\n      <th>23</th>\n      <td>ts24</td>\n      <td>summaryNetProfitGroupedBySoldDate</td>\n      <td>aggregation</td>\n    </tr>\n    <tr>\n      <th>24</th>\n      <td>ts25</td>\n      <td>summaryWholeSaleCostGroupedBySoldDate</td>\n      <td>aggregation</td>\n    </tr>\n    <tr>\n      <th>25</th>\n      <td>ts26</td>\n      <td>sumNetProfitGroupedBySoldDate</td>\n      <td>aggregation</td>\n    </tr>\n    <tr>\n      <th>26</th>\n      <td>ts27</td>\n      <td>sumNetProfitGroupedBySoldDateWhereProfitNegative</td>\n      <td>aggregation, filtration</td>\n    </tr>\n    <tr>\n      <th>27</th>\n      <td>ts28</td>\n      <td>sumNetProfitGroupedBySoldDateWhereYearAfter2000</td>\n      <td>aggregation, filtration, join</td>\n    </tr>\n    <tr>\n      <th>28</th>\n      <td>ts29</td>\n      <td>sumWholeSaleCostGroupedBySoldDate</td>\n      <td>aggregation</td>\n    </tr>\n  </tbody>\n</table>\n</div>"
     },
     "metadata": {},
     "output_type": "display_data"
    }
   ],
   "source": [
    "print(\"Legend:\")\n",
    "labeled_data = pd.merge(symbolic_data, labels, left_on='f_name', right_on='function_name', how='left').drop('function_name', axis=1)\n",
    "labeled_data = labeled_data\n",
    "display(labeled_data)\n",
    "# print(labeled_data['label'].to_string(index=False))\n",
    "labeled_data.to_csv(f\"./../experiments_data_/preprocessed-data/corr_legend.csv\")"
   ],
   "metadata": {
    "collapsed": false,
    "pycharm": {
     "name": "#%%\n"
    }
   }
  },
  {
   "cell_type": "code",
   "execution_count": 15,
   "outputs": [
    {
     "name": "stdout",
     "output_type": "stream",
     "text": [
      "avgNetProfitGroupedBySoldDate\n",
      "avgWholeSaleCostGroupedBySoldDate\n",
      "countDistinctTicketNumber\n",
      "countNetProfitGroupedBySoldDate\n",
      "countWholeSaleCostGroupedBySoldDate\n",
      "maxNetProfitGroupedBySoldDate\n",
      "maxWholeSaleCostGroupedBySoldDate\n",
      "minNetProfitGroupedBySoldDate\n",
      "minWholeSaleCostGroupedBySoldDate\n",
      "sumNetProfitGroupedBySoldDate\n",
      "sumWholeSaleCostGroupedBySoldDate\n",
      "summaryNetProfitGroupedBySoldDate\n",
      "summaryWholeSaleCostGroupedBySoldDate\n"
     ]
    }
   ],
   "source": [
    "agg_labeled = labels.loc[labels[\"label\"] == \"aggregation\"]\n",
    "agg_fil_labeled = labels.loc[labels[\"label\"] == \"aggregation, filtration\"]\n",
    "fil_labeled = labels.loc[labels[\"label\"] == \"filtration\"]\n",
    "agg_fil_join_labeled = labels.loc[labels[\"label\"] == \"aggregation, filtration, join\"]"
   ],
   "metadata": {
    "collapsed": false,
    "pycharm": {
     "name": "#%%\n"
    }
   }
  },
  {
   "cell_type": "code",
   "execution_count": 40,
   "outputs": [],
   "source": [
    "def dtw_distance(x_labels, y_labels):\n",
    "    tmp_euc_dist = []\n",
    "    array_dist = np.empty((agg_labeled.shape[0], agg_labeled.shape[0]))\n",
    "    x_index = 0\n",
    "    y_index = 0\n",
    "    for x_name in x_labels[\"function_name\"]:\n",
    "        try:\n",
    "            x_data = pd.read_csv(f\"./../experiments_data_/preprocessed-data/workers-mean-data/{x_name}/smooth_mean_data.csv\")\n",
    "            print(\"\\n\")\n",
    "            print(x_name)\n",
    "        except OSError as e:\n",
    "            print(\"Error: %s - %s.\" % (e.filename, e.strerror))\n",
    "        for y_name in y_labels[\"function_name\"]:\n",
    "            try:\n",
    "                y_data = pd.read_csv(f\"./../experiments_data_/preprocessed-data/workers-mean-data/{y_name}/smooth_mean_data.csv\")\n",
    "                distance, path = fastdtw(x_data[\"CPU\"], y_data[\"CPU\"], dist=euclidean)\n",
    "                print(f\"{round(distance, 2)} | {y_name}\")\n",
    "                # array_dist[x_index][y_index] = round(distance, 2)\n",
    "                tmp_euc_dist.append(distance)\n",
    "            except OSError as e:\n",
    "                print(\"Error: %s - %s.\" % (e.filename, e.strerror))\n",
    "\n",
    "            y_index =+ 1\n",
    "        x_index += 1\n",
    "    return"
   ],
   "metadata": {
    "collapsed": false,
    "pycharm": {
     "name": "#%%\n"
    }
   }
  },
  {
   "cell_type": "code",
   "execution_count": 41,
   "outputs": [
    {
     "name": "stdout",
     "output_type": "stream",
     "text": [
      "\n",
      "\n",
      "avgNetProfitGroupedBySoldDate\n",
      "423.24 | filterCatalogSalesWhereProfitNegative\n",
      "501.91 | filterStoreSalesWhereProfitNegative\n",
      "\n",
      "\n",
      "avgWholeSaleCostGroupedBySoldDate\n",
      "354.28 | filterCatalogSalesWhereProfitNegative\n",
      "478.53 | filterStoreSalesWhereProfitNegative\n",
      "\n",
      "\n",
      "countDistinctTicketNumber\n",
      "770.2 | filterCatalogSalesWhereProfitNegative\n",
      "808.64 | filterStoreSalesWhereProfitNegative\n",
      "\n",
      "\n",
      "countNetProfitGroupedBySoldDate\n",
      "431.86 | filterCatalogSalesWhereProfitNegative\n",
      "508.15 | filterStoreSalesWhereProfitNegative\n",
      "\n",
      "\n",
      "countWholeSaleCostGroupedBySoldDate\n",
      "429.74 | filterCatalogSalesWhereProfitNegative\n",
      "580.13 | filterStoreSalesWhereProfitNegative\n",
      "\n",
      "\n",
      "maxNetProfitGroupedBySoldDate\n",
      "192.83 | filterCatalogSalesWhereProfitNegative\n",
      "314.57 | filterStoreSalesWhereProfitNegative\n",
      "\n",
      "\n",
      "maxWholeSaleCostGroupedBySoldDate\n",
      "471.75 | filterCatalogSalesWhereProfitNegative\n",
      "594.76 | filterStoreSalesWhereProfitNegative\n",
      "\n",
      "\n",
      "minNetProfitGroupedBySoldDate\n",
      "370.08 | filterCatalogSalesWhereProfitNegative\n",
      "509.94 | filterStoreSalesWhereProfitNegative\n",
      "\n",
      "\n",
      "minWholeSaleCostGroupedBySoldDate\n",
      "425.45 | filterCatalogSalesWhereProfitNegative\n",
      "527.07 | filterStoreSalesWhereProfitNegative\n",
      "\n",
      "\n",
      "sumNetProfitGroupedBySoldDate\n",
      "392.72 | filterCatalogSalesWhereProfitNegative\n",
      "549.68 | filterStoreSalesWhereProfitNegative\n",
      "\n",
      "\n",
      "sumWholeSaleCostGroupedBySoldDate\n",
      "428.99 | filterCatalogSalesWhereProfitNegative\n",
      "542.09 | filterStoreSalesWhereProfitNegative\n",
      "\n",
      "\n",
      "summaryNetProfitGroupedBySoldDate\n",
      "296.87 | filterCatalogSalesWhereProfitNegative\n",
      "363.15 | filterStoreSalesWhereProfitNegative\n",
      "\n",
      "\n",
      "summaryWholeSaleCostGroupedBySoldDate\n",
      "311.62 | filterCatalogSalesWhereProfitNegative\n",
      "362.08 | filterStoreSalesWhereProfitNegative\n"
     ]
    }
   ],
   "source": [
    "dtw_distance(agg_labeled, fil_labeled)"
   ],
   "metadata": {
    "collapsed": false,
    "pycharm": {
     "name": "#%%\n"
    }
   }
  },
  {
   "cell_type": "code",
   "execution_count": 42,
   "outputs": [
    {
     "name": "stdout",
     "output_type": "stream",
     "text": [
      "\n",
      "\n",
      "avgNetProfitGroupedBySoldDate\n",
      "410.67 | avgNetProfitGroupedBySoldDateWhereProfitNegative\n",
      "404.61 | countNetProfitGroupedBySoldDateWhereProfitNegative\n",
      "391.09 | maxNetProfitGroupedBySoldDateWhereProfitNegative\n",
      "429.32 | minNetProfitGroupedBySoldDateWhereProfitNegative\n",
      "425.87 | sumNetProfitGroupedBySoldDateWhereProfitNegative\n",
      "\n",
      "\n",
      "avgWholeSaleCostGroupedBySoldDate\n",
      "369.21 | avgNetProfitGroupedBySoldDateWhereProfitNegative\n",
      "386.94 | countNetProfitGroupedBySoldDateWhereProfitNegative\n",
      "358.39 | maxNetProfitGroupedBySoldDateWhereProfitNegative\n",
      "375.01 | minNetProfitGroupedBySoldDateWhereProfitNegative\n",
      "360.54 | sumNetProfitGroupedBySoldDateWhereProfitNegative\n",
      "\n",
      "\n",
      "countDistinctTicketNumber\n",
      "710.31 | avgNetProfitGroupedBySoldDateWhereProfitNegative\n",
      "801.54 | countNetProfitGroupedBySoldDateWhereProfitNegative\n",
      "688.65 | maxNetProfitGroupedBySoldDateWhereProfitNegative\n",
      "743.97 | minNetProfitGroupedBySoldDateWhereProfitNegative\n",
      "724.69 | sumNetProfitGroupedBySoldDateWhereProfitNegative\n",
      "\n",
      "\n",
      "countNetProfitGroupedBySoldDate\n",
      "371.72 | avgNetProfitGroupedBySoldDateWhereProfitNegative\n",
      "397.41 | countNetProfitGroupedBySoldDateWhereProfitNegative\n",
      "338.93 | maxNetProfitGroupedBySoldDateWhereProfitNegative\n",
      "410.22 | minNetProfitGroupedBySoldDateWhereProfitNegative\n",
      "391.03 | sumNetProfitGroupedBySoldDateWhereProfitNegative\n",
      "\n",
      "\n",
      "countWholeSaleCostGroupedBySoldDate\n",
      "436.71 | avgNetProfitGroupedBySoldDateWhereProfitNegative\n",
      "405.56 | countNetProfitGroupedBySoldDateWhereProfitNegative\n",
      "429.4 | maxNetProfitGroupedBySoldDateWhereProfitNegative\n",
      "463.01 | minNetProfitGroupedBySoldDateWhereProfitNegative\n",
      "440.35 | sumNetProfitGroupedBySoldDateWhereProfitNegative\n",
      "\n",
      "\n",
      "maxNetProfitGroupedBySoldDate\n",
      "87.6 | avgNetProfitGroupedBySoldDateWhereProfitNegative\n",
      "114.84 | countNetProfitGroupedBySoldDateWhereProfitNegative\n",
      "92.92 | maxNetProfitGroupedBySoldDateWhereProfitNegative\n",
      "176.97 | minNetProfitGroupedBySoldDateWhereProfitNegative\n",
      "89.67 | sumNetProfitGroupedBySoldDateWhereProfitNegative\n",
      "\n",
      "\n",
      "maxWholeSaleCostGroupedBySoldDate\n",
      "421.96 | avgNetProfitGroupedBySoldDateWhereProfitNegative\n",
      "422.29 | countNetProfitGroupedBySoldDateWhereProfitNegative\n",
      "423.58 | maxNetProfitGroupedBySoldDateWhereProfitNegative\n",
      "470.15 | minNetProfitGroupedBySoldDateWhereProfitNegative\n",
      "394.45 | sumNetProfitGroupedBySoldDateWhereProfitNegative\n",
      "\n",
      "\n",
      "minNetProfitGroupedBySoldDate\n",
      "373.48 | avgNetProfitGroupedBySoldDateWhereProfitNegative\n",
      "390.34 | countNetProfitGroupedBySoldDateWhereProfitNegative\n",
      "361.27 | maxNetProfitGroupedBySoldDateWhereProfitNegative\n",
      "401.53 | minNetProfitGroupedBySoldDateWhereProfitNegative\n",
      "334.58 | sumNetProfitGroupedBySoldDateWhereProfitNegative\n",
      "\n",
      "\n",
      "minWholeSaleCostGroupedBySoldDate\n",
      "426.55 | avgNetProfitGroupedBySoldDateWhereProfitNegative\n",
      "409.81 | countNetProfitGroupedBySoldDateWhereProfitNegative\n",
      "411.3 | maxNetProfitGroupedBySoldDateWhereProfitNegative\n",
      "465.95 | minNetProfitGroupedBySoldDateWhereProfitNegative\n",
      "406.59 | sumNetProfitGroupedBySoldDateWhereProfitNegative\n",
      "\n",
      "\n",
      "sumNetProfitGroupedBySoldDate\n",
      "375.86 | avgNetProfitGroupedBySoldDateWhereProfitNegative\n",
      "384.51 | countNetProfitGroupedBySoldDateWhereProfitNegative\n",
      "395.02 | maxNetProfitGroupedBySoldDateWhereProfitNegative\n",
      "414.07 | minNetProfitGroupedBySoldDateWhereProfitNegative\n",
      "394.66 | sumNetProfitGroupedBySoldDateWhereProfitNegative\n",
      "\n",
      "\n",
      "sumWholeSaleCostGroupedBySoldDate\n",
      "364.76 | avgNetProfitGroupedBySoldDateWhereProfitNegative\n",
      "394.41 | countNetProfitGroupedBySoldDateWhereProfitNegative\n",
      "334.45 | maxNetProfitGroupedBySoldDateWhereProfitNegative\n",
      "454.08 | minNetProfitGroupedBySoldDateWhereProfitNegative\n",
      "419.35 | sumNetProfitGroupedBySoldDateWhereProfitNegative\n",
      "\n",
      "\n",
      "summaryNetProfitGroupedBySoldDate\n",
      "257.86 | avgNetProfitGroupedBySoldDateWhereProfitNegative\n",
      "387.78 | countNetProfitGroupedBySoldDateWhereProfitNegative\n",
      "276.46 | maxNetProfitGroupedBySoldDateWhereProfitNegative\n",
      "341.92 | minNetProfitGroupedBySoldDateWhereProfitNegative\n",
      "263.86 | sumNetProfitGroupedBySoldDateWhereProfitNegative\n",
      "\n",
      "\n",
      "summaryWholeSaleCostGroupedBySoldDate\n",
      "278.77 | avgNetProfitGroupedBySoldDateWhereProfitNegative\n",
      "334.64 | countNetProfitGroupedBySoldDateWhereProfitNegative\n",
      "308.82 | maxNetProfitGroupedBySoldDateWhereProfitNegative\n",
      "339.43 | minNetProfitGroupedBySoldDateWhereProfitNegative\n",
      "281.08 | sumNetProfitGroupedBySoldDateWhereProfitNegative\n"
     ]
    }
   ],
   "source": [
    "dtw_distance(agg_labeled, agg_fil_labeled)"
   ],
   "metadata": {
    "collapsed": false,
    "pycharm": {
     "name": "#%%\n"
    }
   }
  },
  {
   "cell_type": "code",
   "execution_count": 43,
   "outputs": [
    {
     "name": "stdout",
     "output_type": "stream",
     "text": [
      "\n",
      "\n",
      "filterCatalogSalesWhereProfitNegative\n",
      "173.46 | avgNetProfitGroupedBySoldDateWhereProfitNegative\n",
      "168.45 | countNetProfitGroupedBySoldDateWhereProfitNegative\n",
      "186.68 | maxNetProfitGroupedBySoldDateWhereProfitNegative\n",
      "189.44 | minNetProfitGroupedBySoldDateWhereProfitNegative\n",
      "195.92 | sumNetProfitGroupedBySoldDateWhereProfitNegative\n",
      "\n",
      "\n",
      "filterStoreSalesWhereProfitNegative\n",
      "280.25 | avgNetProfitGroupedBySoldDateWhereProfitNegative\n",
      "298.79 | countNetProfitGroupedBySoldDateWhereProfitNegative\n",
      "299.79 | maxNetProfitGroupedBySoldDateWhereProfitNegative\n",
      "248.6 | minNetProfitGroupedBySoldDateWhereProfitNegative\n",
      "284.49 | sumNetProfitGroupedBySoldDateWhereProfitNegative\n"
     ]
    }
   ],
   "source": [
    "dtw_distance(fil_labeled, agg_fil_labeled)"
   ],
   "metadata": {
    "collapsed": false,
    "pycharm": {
     "name": "#%%\n"
    }
   }
  },
  {
   "cell_type": "code",
   "execution_count": 8,
   "outputs": [
    {
     "name": "stdout",
     "output_type": "stream",
     "text": [
      "0.0\n"
     ]
    }
   ],
   "source": [
    "ts1 = pd.read_csv(\"./../experiments_data_/preprocessed-data/workers-mean-data/avgWholeSaleCostGroupedBySoldDate/smooth_mean_data.csv\")\n",
    "# ts1 = ts1[\"CPU\"].tolist()\n",
    "# print(ts1[:50])\n",
    "ts2 = pd.read_csv(\"./../experiments_data_/preprocessed-data/workers-mean-data/countNetProfitGroupedBySoldDate/smooth_mean_data.csv\")\n",
    "# ts2 = ts2[\"CPU\"].tolist()\n",
    "# print(ts2[:50])\n",
    "distance, path = fastdtw(ts1[\"CPU\"], ts1[\"CPU\"], dist=euclidean)\n",
    "\n",
    "print(distance)"
   ],
   "metadata": {
    "collapsed": false,
    "pycharm": {
     "name": "#%%\n"
    }
   }
  },
  {
   "cell_type": "code",
   "execution_count": 3,
   "outputs": [
    {
     "name": "stdout",
     "output_type": "stream",
     "text": [
      "2.8284271247461903\n"
     ]
    }
   ],
   "source": [
    "x = np.array([[1,1], [2,2], [3,3], [4,4], [5,5]])\n",
    "y = np.array([[2,2], [3,3], [4,4]])\n",
    "\n",
    "distance2, path2 = fastdtw(x, y, dist=euclidean)\n",
    "print(distance2)"
   ],
   "metadata": {
    "collapsed": false,
    "pycharm": {
     "name": "#%%\n"
    }
   }
  },
  {
   "cell_type": "markdown",
   "source": [
    "### Filling missing values with '0'"
   ],
   "metadata": {
    "collapsed": false
   }
  },
  {
   "cell_type": "code",
   "execution_count": 27,
   "outputs": [],
   "source": [
    "corr_df = pd.DataFrame()\n",
    "ts_counter = 1\n",
    "\n",
    "for function in function_names:\n",
    "    df_ts = pd.read_csv(f\"./../experiments_data/preprocessed-data/workers-mean-data{function}/smooth_mean_data.csv\")\n",
    "    corr_df[f\"ts{ts_counter}\"] = df_ts[\"CPU\"]\n",
    "    ts_counter += 1\n",
    "\n",
    "corr_df = corr_df.fillna(0)\n"
   ],
   "metadata": {
    "collapsed": false,
    "pycharm": {
     "name": "#%%\n"
    }
   }
  },
  {
   "cell_type": "markdown",
   "source": [
    "### Time series correlation\n",
    "* Pearson\n",
    "* Kendall\n",
    "* Spearman"
   ],
   "metadata": {
    "collapsed": false
   }
  },
  {
   "cell_type": "code",
   "execution_count": 28,
   "outputs": [],
   "source": [
    "measures = {\"pearson\", \"kendall\", \"spearman\"}\n",
    "measures_data = []\n",
    "\n",
    "for measure in measures:\n",
    "    df = corr_df.corr(method=measure)\n",
    "    measures_data.append(df)\n",
    "    df.to_csv(f\"./../experiments_data/preprocessed-data/smooth_corr_{measure}.csv\")\n",
    "\n"
   ],
   "metadata": {
    "collapsed": false,
    "pycharm": {
     "name": "#%%\n"
    }
   }
  }
 ],
 "metadata": {
  "kernelspec": {
   "name": "pycharm-afd99e2c",
   "language": "python",
   "display_name": "PyCharm (opening-black-box)"
  },
  "language_info": {
   "codemirror_mode": {
    "name": "ipython",
    "version": 2
   },
   "file_extension": ".py",
   "mimetype": "text/x-python",
   "name": "python",
   "nbconvert_exporter": "python",
   "pygments_lexer": "ipython2",
   "version": "2.7.6"
  }
 },
 "nbformat": 4,
 "nbformat_minor": 0
}