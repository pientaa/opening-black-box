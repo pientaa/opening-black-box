{
 "nbformat": 4,
 "nbformat_minor": 0,
 "metadata": {
  "colab": {
   "name": "prepare_data.ipynb",
   "provenance": []
  },
  "kernelspec": {
   "name": "pycharm-afd99e2c",
   "language": "python",
   "display_name": "PyCharm (opening-black-box)"
  },
  "language_info": {
   "name": "python"
  }
 },
 "cells": [
  {
   "cell_type": "code",
   "metadata": {
    "id": "FQnQig-Tqwrs"
   },
   "source": [
    "import pandas as pd   \n",
    "import matplotlib.pyplot as plt\n",
    "from datetime import datetime\n",
    "from pathlib import Path\n",
    "import os"
   ],
   "execution_count": 34,
   "outputs": []
  },
  {
   "cell_type": "code",
   "metadata": {
    "colab": {
     "base_uri": "https://localhost:8080/"
    },
    "id": "1Vh0LI7K_iA4",
    "outputId": "aa6efb62-be1e-4b06-9179-248da533e9d7"
   },
   "source": [
    "start_data_11_iter_1 = data_11_iter_1['timestamp'].max()\n",
    "stop_data_11_iter_1 = data_11_iter_2['timestamp'].min()"
   ],
   "execution_count": 6,
   "outputs": []
  },
  {
   "cell_type": "code",
   "metadata": {
    "colab": {
     "base_uri": "https://localhost:8080/"
    },
    "id": "0ldKg0Vh_jGc",
    "outputId": "cdd8f163-000d-4c3e-d98d-cac352e900bf"
   },
   "source": [
    "start_datetime = datetime.strptime(start_data_11_iter_1, '%Y-%m-%d %H:%M:%S.%f')\n",
    "stop_datetime = datetime.strptime(stop_data_11_iter_1, '%Y-%m-%d %H:%M:%S.%f')\n",
    "duration = stop_datetime - start_datetime\n",
    "print(\"Experiment duration {} \".format(duration))\n",
    "print(\"Number of rows {}\".format(agg_data_11_iter_1.shape[0]))\n",
    "print(\"Number of rows {}\".format(agg_data_11_iter_2.shape[0]))"
   ],
   "execution_count": 11,
   "outputs": [
    {
     "name": "stdout",
     "output_type": "stream",
     "text": [
      "Experiment duration 0:00:00.414602 \n",
      "Number of rows 1007\n",
      "Number of rows 1007\n"
     ]
    }
   ]
  },
  {
   "cell_type": "code",
   "execution_count": 83,
   "outputs": [],
   "source": [
    "def get_subdirectories(directory=\"\"):\n",
    "    subdirectories = []\n",
    "    p = Path(\"./../experiments_data/\" + directory)\n",
    "    for item in p.glob('*/'):\n",
    "        if item.suffix not in (['.csv', '.zip']):\n",
    "            subdirectories.append(directory + \"/\" + item.name)\n",
    "    return subdirectories"
   ],
   "metadata": {
    "collapsed": false,
    "pycharm": {
     "name": "#%%\n"
    }
   }
  },
  {
   "cell_type": "code",
   "execution_count": 84,
   "outputs": [
    {
     "data": {
      "text/plain": "['/11_experiments_data_2021_05_05_21_37',\n '/12_experiments_data_2021_05_05_21_37',\n '/13_experiments_data_2021_05_05_21_37',\n '/20_experiments_data_2021_05_05_21_37']"
     },
     "execution_count": 84,
     "metadata": {},
     "output_type": "execute_result"
    }
   ],
   "source": [
    "nodes_directories = get_subdirectories()\n",
    "nodes_directories"
   ],
   "metadata": {
    "collapsed": false,
    "pycharm": {
     "name": "#%%\n"
    }
   }
  },
  {
   "cell_type": "code",
   "execution_count": 91,
   "outputs": [
    {
     "data": {
      "text/plain": "['/11_experiments_data_2021_05_05_21_37/countDistinctTicketNumber',\n '/12_experiments_data_2021_05_05_21_37/countDistinctTicketNumber',\n '/13_experiments_data_2021_05_05_21_37/averageTemperatureByDeviceIdSeason',\n '/13_experiments_data_2021_05_05_21_37/countDistinctTicketNumber',\n '/20_experiments_data_2021_05_05_21_37/countDistinctTicketNumber']"
     },
     "execution_count": 91,
     "metadata": {},
     "output_type": "execute_result"
    }
   ],
   "source": [
    "data_directories = []\n",
    "for directory in nodes_directories:\n",
    "    cur_node_subdirectories = get_subdirectories(directory)\n",
    "    data_directories.append(cur_node_subdirectories)\n",
    "\n",
    "data_directories = [item for sublist in data_directories for item in sublist]\n",
    "data_directories"
   ],
   "metadata": {
    "collapsed": false,
    "pycharm": {
     "name": "#%%\n"
    }
   }
  },
  {
   "cell_type": "code",
   "execution_count": 121,
   "outputs": [
    {
     "name": "stdout",
     "output_type": "stream",
     "text": [
      " 1153 rows\n"
     ]
    }
   ],
   "source": [
    "for experiment_directory in data_directories[0:1]:\n",
    "    path = \"./../experiments_data\" + experiment_directory\n",
    "    p = Path(path)\n",
    "    iteration = 1\n",
    "    agg_base_data = pd.DataFrame()\n",
    "\n",
    "    for file in p.glob('*.csv'):\n",
    "        if iteration == 1:\n",
    "            base_data = pd.read_csv(path + \"/\" + file.name)\n",
    "            agg_base_data = base_data.groupby('timestamp', as_index=False).agg({\"CPU\": \"sum\", \"RAM\": \"sum\"})\n",
    "\n",
    "            fig = plt.figure(figsize=(20,10))\n",
    "            plt.plot(agg_base_data.index, agg_base_data.CPU, 'r.-')\n",
    "            plt.savefig(path + \"/\" + str(iteration) + \"CPU.png\")\n",
    "            plt.close(fig)\n",
    "        else:\n",
    "            new_data = pd.read_csv(path + \"/\" + file.name)\n",
    "            agg_new_data = new_data.groupby('timestamp', as_index=False).agg({\"CPU\": \"sum\", \"RAM\": \"sum\"})\n",
    "\n",
    "            fig = plt.figure(figsize=(20,10))\n",
    "            plt.plot(agg_new_data.index, agg_new_data.CPU, 'r.-')\n",
    "            plt.savefig(path + \"/\" + str(iteration) + \"CPU.png\")\n",
    "            plt.close(fig)\n",
    "            \n",
    "            concat_data = pd.concat((agg_base_data, agg_new_data))\n",
    "            by_rows_index = concat_data.groupby(concat_data.index)\n",
    "            agg_base_data = by_rows_index.mean()\n",
    "\n",
    "        iteration += 1\n",
    "\n",
    "    agg_base_data.to_csv(path + \"/data.csv\", index=False)\n",
    "\n",
    "    fig = plt.figure(figsize=(20,10))\n",
    "    plt.plot(agg_base_data.index, agg_base_data.CPU, 'r.-')\n",
    "    plt.savefig(path + \"/\" + \"avg_CPU.png\")\n",
    "    plt.close(fig)\n"
   ],
   "metadata": {
    "collapsed": false,
    "pycharm": {
     "name": "#%%\n"
    }
   }
  }
 ]
}