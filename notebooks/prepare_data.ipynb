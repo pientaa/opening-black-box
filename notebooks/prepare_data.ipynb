{
 "nbformat": 4,
 "nbformat_minor": 0,
 "metadata": {
  "colab": {
   "name": "prepare_data.ipynb",
   "provenance": []
  },
  "kernelspec": {
   "name": "pycharm-afd99e2c",
   "language": "python",
   "display_name": "PyCharm (opening-black-box)"
  },
  "language_info": {
   "name": "python"
  }
 },
 "cells": [
  {
   "cell_type": "code",
   "metadata": {
    "id": "FQnQig-Tqwrs"
   },
   "source": [
    "import pandas as pd   \n",
    "import matplotlib.pyplot as plt\n",
    "import matplotlib.colors as colors\n",
    "import os\n",
    "import shutil\n",
    "import gc\n",
    "from pathlib import Path\n",
    "# from tsmoothie.smoother import *\n",
    "from statistics import mean"
   ],
   "execution_count": 2,
   "outputs": []
  },
  {
   "cell_type": "markdown",
   "source": [
    "# Notebook for preprocessing data from experiments"
   ],
   "metadata": {
    "collapsed": false,
    "pycharm": {
     "name": "#%% md\n"
    }
   }
  },
  {
   "cell_type": "markdown",
   "source": [
    "Set working directory. Default is `experiments_data`."
   ],
   "metadata": {
    "collapsed": false
   }
  },
  {
   "cell_type": "code",
   "execution_count": 3,
   "outputs": [],
   "source": [
    "working_directory = \"2GB-9N-spark-listener\""
   ],
   "metadata": {
    "collapsed": false,
    "pycharm": {
     "name": "#%%\n"
    }
   }
  },
  {
   "cell_type": "code",
   "execution_count": 9,
   "outputs": [],
   "source": [
    "def get_subdirectories(directory=\"\"):\n",
    "    subdirectories = []\n",
    "    p = Path(f\"./../{working_directory}/{directory}\")\n",
    "    for item in p.glob('*/'):\n",
    "        if item.suffix not in (['.csv', '.zip']):\n",
    "            subdirectories.append(directory + \"/\" + item.name)\n",
    "    return subdirectories\n",
    "\n",
    "def get_timestamp_info(data):\n",
    "    data['timestamp'] = pd.to_datetime(data['timestamp'])\n",
    "    start_time = data['timestamp'].min()\n",
    "    stop_time = data['timestamp'].max()\n",
    "\n",
    "    data['timestamp'] = pd.to_numeric(data['timestamp'])\n",
    "    mean_interval = mean(data.diff(axis=0)['timestamp'][1:].tolist())\n",
    "    mean_interval = round(mean_interval / 1000000000, 3)\n",
    "\n",
    "    return (stop_time - start_time).total_seconds(), mean_interval\n",
    "\n",
    "def preprocess_file(file_path, save_path, filename, iteration):\n",
    "    read_data = pd.read_csv(file_path + \"/\" + filename)\n",
    "    agg_read_data = read_data.\\\n",
    "        groupby('timestamp', as_index=False).\\\n",
    "        agg({\"CPU\": \"sum\", \"RAM\": \"sum\"})\n",
    "\n",
    "    generate_plot(agg_read_data.index, agg_read_data.CPU, \"{0}/CPU/{1}_CPU.png\".format(save_path, iteration), ylabel=\"Procentowe zużycie CPU\")\n",
    "    generate_plot(agg_read_data.index, agg_read_data.RAM, \"{0}/RAM/{1}_RAM.png\".format(save_path, iteration), ylabel=\"Procentowe zużycie RAM\")\n",
    "\n",
    "    return agg_read_data, get_timestamp_info(agg_read_data)\n",
    "\n",
    "def generate_plot(data_x=\"\", data_y=\"\", plot_path=\"\", title=\"\", ylabel=\"\"):\n",
    "    fig = plt.figure(figsize=(10,10))\n",
    "    fig.patch.set_facecolor('white')\n",
    "    plt.plot(data_x, data_y, 'r.-')\n",
    "    plt.title(title)\n",
    "    plt.xlabel(\"Numer próbki\", fontsize=15)\n",
    "    plt.ylabel(ylabel, fontsize=15)\n",
    "    plt.savefig(plot_path)\n",
    "    plt.close(fig)\n",
    "\n",
    "def create_directory(path):\n",
    "    try:\n",
    "        os.mkdir(path)\n",
    "    except OSError as e:\n",
    "        print(\"Error: %s - %s.\" % (e.filename, e.strerror))"
   ],
   "metadata": {
    "collapsed": false,
    "pycharm": {
     "name": "#%%\n"
    }
   }
  },
  {
   "cell_type": "markdown",
   "source": [
    "Check for subdirectories. Number of subdirectories should much the number of nodes used for experiments."
   ],
   "metadata": {
    "collapsed": false,
    "pycharm": {
     "name": "#%% md\n"
    }
   }
  },
  {
   "cell_type": "code",
   "execution_count": 6,
   "outputs": [
    {
     "data": {
      "text/plain": "['/node_11',\n '/node_12',\n '/node_13',\n '/node_14',\n '/node_15',\n '/node_16',\n '/node_17',\n '/node_18',\n '/node_19',\n '/node_20']"
     },
     "execution_count": 6,
     "metadata": {},
     "output_type": "execute_result"
    }
   ],
   "source": [
    "all_directories = get_subdirectories()\n",
    "nodes_directories = [x for x in all_directories if \"node\" in x]\n",
    "nodes_directories"
   ],
   "metadata": {
    "collapsed": false,
    "pycharm": {
     "name": "#%%\n"
    }
   }
  },
  {
   "cell_type": "code",
   "execution_count": 7,
   "outputs": [
    {
     "data": {
      "text/plain": "[['/node_11/avgNetProfitGroupedBySoldDate',\n  '/node_11/avgNetProfitGroupedBySoldDateWhereProfitNegative',\n  '/node_11/avgNetProfitGroupedBySoldDateWhereYearAfter2000',\n  '/node_11/avgWholeSaleCostGroupedBySoldDate',\n  '/node_11/countNetProfitGroupedBySoldDate',\n  '/node_11/countNetProfitGroupedBySoldDateWhereProfitNegative',\n  '/node_11/countNetProfitGroupedBySoldDateWhereYearAfter2000',\n  '/node_11/countWholeSaleCostGroupedBySoldDate',\n  '/node_11/filterCatalogSalesWhereProfitNegative',\n  '/node_11/filterCatalogSalesWhereProfitNegativeAndYearAfter2000',\n  '/node_11/filterCatalogSalesWhereYearAfter2000',\n  '/node_11/filterStoreSalesWhereProfitNegative',\n  '/node_11/filterStoreSalesWhereProfitNegativeAndYearAfter2000',\n  '/node_11/filterStoreSalesWhereYearAfter2000',\n  '/node_11/maxNetProfitGroupedBySoldDate',\n  '/node_11/maxNetProfitGroupedBySoldDateWhereProfitNegative',\n  '/node_11/maxNetProfitGroupedBySoldDateWhereYearAfter2000',\n  '/node_11/maxWholeSaleCostGroupedBySoldDate',\n  '/node_11/minNetProfitGroupedBySoldDate',\n  '/node_11/minNetProfitGroupedBySoldDateWhereProfitNegative',\n  '/node_11/minNetProfitGroupedBySoldDateWhereYearAfter2000',\n  '/node_11/minWholeSaleCostGroupedBySoldDate',\n  '/node_11/summaryNetProfitGroupedBySoldDate',\n  '/node_11/summaryWholeSaleCostGroupedBySoldDate',\n  '/node_11/sumNetProfitGroupedBySoldDate',\n  '/node_11/sumNetProfitGroupedBySoldDateWhereProfitNegative',\n  '/node_11/sumNetProfitGroupedBySoldDateWhereYearAfter2000',\n  '/node_11/sumWholeSaleCostGroupedBySoldDate'],\n ['/node_12/avgNetProfitGroupedBySoldDate',\n  '/node_12/avgNetProfitGroupedBySoldDateWhereProfitNegative',\n  '/node_12/avgNetProfitGroupedBySoldDateWhereYearAfter2000',\n  '/node_12/avgWholeSaleCostGroupedBySoldDate',\n  '/node_12/countNetProfitGroupedBySoldDate',\n  '/node_12/countNetProfitGroupedBySoldDateWhereProfitNegative',\n  '/node_12/countNetProfitGroupedBySoldDateWhereYearAfter2000',\n  '/node_12/countWholeSaleCostGroupedBySoldDate',\n  '/node_12/filterCatalogSalesWhereProfitNegative',\n  '/node_12/filterCatalogSalesWhereProfitNegativeAndYearAfter2000',\n  '/node_12/filterCatalogSalesWhereYearAfter2000',\n  '/node_12/filterStoreSalesWhereProfitNegative',\n  '/node_12/filterStoreSalesWhereProfitNegativeAndYearAfter2000',\n  '/node_12/filterStoreSalesWhereYearAfter2000',\n  '/node_12/maxNetProfitGroupedBySoldDate',\n  '/node_12/maxNetProfitGroupedBySoldDateWhereProfitNegative',\n  '/node_12/maxNetProfitGroupedBySoldDateWhereYearAfter2000',\n  '/node_12/maxWholeSaleCostGroupedBySoldDate',\n  '/node_12/minNetProfitGroupedBySoldDate',\n  '/node_12/minNetProfitGroupedBySoldDateWhereProfitNegative',\n  '/node_12/minNetProfitGroupedBySoldDateWhereYearAfter2000',\n  '/node_12/minWholeSaleCostGroupedBySoldDate',\n  '/node_12/summaryNetProfitGroupedBySoldDate',\n  '/node_12/summaryWholeSaleCostGroupedBySoldDate',\n  '/node_12/sumNetProfitGroupedBySoldDate',\n  '/node_12/sumNetProfitGroupedBySoldDateWhereProfitNegative',\n  '/node_12/sumNetProfitGroupedBySoldDateWhereYearAfter2000',\n  '/node_12/sumWholeSaleCostGroupedBySoldDate'],\n ['/node_13/avgNetProfitGroupedBySoldDate',\n  '/node_13/avgNetProfitGroupedBySoldDateWhereProfitNegative',\n  '/node_13/avgNetProfitGroupedBySoldDateWhereYearAfter2000',\n  '/node_13/avgWholeSaleCostGroupedBySoldDate',\n  '/node_13/countNetProfitGroupedBySoldDate',\n  '/node_13/countNetProfitGroupedBySoldDateWhereProfitNegative',\n  '/node_13/countNetProfitGroupedBySoldDateWhereYearAfter2000',\n  '/node_13/countWholeSaleCostGroupedBySoldDate',\n  '/node_13/filterCatalogSalesWhereProfitNegative',\n  '/node_13/filterCatalogSalesWhereProfitNegativeAndYearAfter2000',\n  '/node_13/filterCatalogSalesWhereYearAfter2000',\n  '/node_13/filterStoreSalesWhereProfitNegative',\n  '/node_13/filterStoreSalesWhereProfitNegativeAndYearAfter2000',\n  '/node_13/filterStoreSalesWhereYearAfter2000',\n  '/node_13/maxNetProfitGroupedBySoldDate',\n  '/node_13/maxNetProfitGroupedBySoldDateWhereProfitNegative',\n  '/node_13/maxNetProfitGroupedBySoldDateWhereYearAfter2000',\n  '/node_13/maxWholeSaleCostGroupedBySoldDate',\n  '/node_13/minNetProfitGroupedBySoldDate',\n  '/node_13/minNetProfitGroupedBySoldDateWhereProfitNegative',\n  '/node_13/minNetProfitGroupedBySoldDateWhereYearAfter2000',\n  '/node_13/minWholeSaleCostGroupedBySoldDate',\n  '/node_13/summaryNetProfitGroupedBySoldDate',\n  '/node_13/summaryWholeSaleCostGroupedBySoldDate',\n  '/node_13/sumNetProfitGroupedBySoldDate',\n  '/node_13/sumNetProfitGroupedBySoldDateWhereProfitNegative',\n  '/node_13/sumNetProfitGroupedBySoldDateWhereYearAfter2000',\n  '/node_13/sumWholeSaleCostGroupedBySoldDate'],\n ['/node_14/avgNetProfitGroupedBySoldDate',\n  '/node_14/avgNetProfitGroupedBySoldDateWhereProfitNegative',\n  '/node_14/avgNetProfitGroupedBySoldDateWhereYearAfter2000',\n  '/node_14/avgWholeSaleCostGroupedBySoldDate',\n  '/node_14/countNetProfitGroupedBySoldDate',\n  '/node_14/countNetProfitGroupedBySoldDateWhereProfitNegative',\n  '/node_14/countNetProfitGroupedBySoldDateWhereYearAfter2000',\n  '/node_14/countWholeSaleCostGroupedBySoldDate',\n  '/node_14/filterCatalogSalesWhereProfitNegative',\n  '/node_14/filterCatalogSalesWhereProfitNegativeAndYearAfter2000',\n  '/node_14/filterCatalogSalesWhereYearAfter2000',\n  '/node_14/filterStoreSalesWhereProfitNegative',\n  '/node_14/filterStoreSalesWhereProfitNegativeAndYearAfter2000',\n  '/node_14/filterStoreSalesWhereYearAfter2000',\n  '/node_14/maxNetProfitGroupedBySoldDate',\n  '/node_14/maxNetProfitGroupedBySoldDateWhereProfitNegative',\n  '/node_14/maxNetProfitGroupedBySoldDateWhereYearAfter2000',\n  '/node_14/maxWholeSaleCostGroupedBySoldDate',\n  '/node_14/minNetProfitGroupedBySoldDate',\n  '/node_14/minNetProfitGroupedBySoldDateWhereProfitNegative',\n  '/node_14/minNetProfitGroupedBySoldDateWhereYearAfter2000',\n  '/node_14/minWholeSaleCostGroupedBySoldDate',\n  '/node_14/summaryNetProfitGroupedBySoldDate',\n  '/node_14/summaryWholeSaleCostGroupedBySoldDate',\n  '/node_14/sumNetProfitGroupedBySoldDate',\n  '/node_14/sumNetProfitGroupedBySoldDateWhereProfitNegative',\n  '/node_14/sumNetProfitGroupedBySoldDateWhereYearAfter2000',\n  '/node_14/sumWholeSaleCostGroupedBySoldDate'],\n ['/node_15/avgNetProfitGroupedBySoldDate',\n  '/node_15/avgNetProfitGroupedBySoldDateWhereProfitNegative',\n  '/node_15/avgNetProfitGroupedBySoldDateWhereYearAfter2000',\n  '/node_15/avgWholeSaleCostGroupedBySoldDate',\n  '/node_15/countNetProfitGroupedBySoldDate',\n  '/node_15/countNetProfitGroupedBySoldDateWhereProfitNegative',\n  '/node_15/countNetProfitGroupedBySoldDateWhereYearAfter2000',\n  '/node_15/countWholeSaleCostGroupedBySoldDate',\n  '/node_15/filterCatalogSalesWhereProfitNegative',\n  '/node_15/filterCatalogSalesWhereProfitNegativeAndYearAfter2000',\n  '/node_15/filterCatalogSalesWhereYearAfter2000',\n  '/node_15/filterStoreSalesWhereProfitNegative',\n  '/node_15/filterStoreSalesWhereProfitNegativeAndYearAfter2000',\n  '/node_15/filterStoreSalesWhereYearAfter2000',\n  '/node_15/maxNetProfitGroupedBySoldDate',\n  '/node_15/maxNetProfitGroupedBySoldDateWhereProfitNegative',\n  '/node_15/maxNetProfitGroupedBySoldDateWhereYearAfter2000',\n  '/node_15/maxWholeSaleCostGroupedBySoldDate',\n  '/node_15/minNetProfitGroupedBySoldDate',\n  '/node_15/minNetProfitGroupedBySoldDateWhereProfitNegative',\n  '/node_15/minNetProfitGroupedBySoldDateWhereYearAfter2000',\n  '/node_15/minWholeSaleCostGroupedBySoldDate',\n  '/node_15/summaryNetProfitGroupedBySoldDate',\n  '/node_15/summaryWholeSaleCostGroupedBySoldDate',\n  '/node_15/sumNetProfitGroupedBySoldDate',\n  '/node_15/sumNetProfitGroupedBySoldDateWhereProfitNegative',\n  '/node_15/sumNetProfitGroupedBySoldDateWhereYearAfter2000',\n  '/node_15/sumWholeSaleCostGroupedBySoldDate'],\n ['/node_16/avgNetProfitGroupedBySoldDate',\n  '/node_16/avgNetProfitGroupedBySoldDateWhereProfitNegative',\n  '/node_16/avgNetProfitGroupedBySoldDateWhereYearAfter2000',\n  '/node_16/avgWholeSaleCostGroupedBySoldDate',\n  '/node_16/countNetProfitGroupedBySoldDate',\n  '/node_16/countNetProfitGroupedBySoldDateWhereProfitNegative',\n  '/node_16/countNetProfitGroupedBySoldDateWhereYearAfter2000',\n  '/node_16/countWholeSaleCostGroupedBySoldDate',\n  '/node_16/filterCatalogSalesWhereProfitNegative',\n  '/node_16/filterCatalogSalesWhereProfitNegativeAndYearAfter2000',\n  '/node_16/filterCatalogSalesWhereYearAfter2000',\n  '/node_16/filterStoreSalesWhereProfitNegative',\n  '/node_16/filterStoreSalesWhereProfitNegativeAndYearAfter2000',\n  '/node_16/filterStoreSalesWhereYearAfter2000',\n  '/node_16/maxNetProfitGroupedBySoldDate',\n  '/node_16/maxNetProfitGroupedBySoldDateWhereProfitNegative',\n  '/node_16/maxNetProfitGroupedBySoldDateWhereYearAfter2000',\n  '/node_16/maxWholeSaleCostGroupedBySoldDate',\n  '/node_16/minNetProfitGroupedBySoldDate',\n  '/node_16/minNetProfitGroupedBySoldDateWhereProfitNegative',\n  '/node_16/minNetProfitGroupedBySoldDateWhereYearAfter2000',\n  '/node_16/minWholeSaleCostGroupedBySoldDate',\n  '/node_16/summaryNetProfitGroupedBySoldDate',\n  '/node_16/summaryWholeSaleCostGroupedBySoldDate',\n  '/node_16/sumNetProfitGroupedBySoldDate',\n  '/node_16/sumNetProfitGroupedBySoldDateWhereProfitNegative',\n  '/node_16/sumNetProfitGroupedBySoldDateWhereYearAfter2000',\n  '/node_16/sumWholeSaleCostGroupedBySoldDate'],\n ['/node_17/avgNetProfitGroupedBySoldDate',\n  '/node_17/avgNetProfitGroupedBySoldDateWhereProfitNegative',\n  '/node_17/avgNetProfitGroupedBySoldDateWhereYearAfter2000',\n  '/node_17/avgWholeSaleCostGroupedBySoldDate',\n  '/node_17/countNetProfitGroupedBySoldDate',\n  '/node_17/countNetProfitGroupedBySoldDateWhereProfitNegative',\n  '/node_17/countNetProfitGroupedBySoldDateWhereYearAfter2000',\n  '/node_17/countWholeSaleCostGroupedBySoldDate',\n  '/node_17/filterCatalogSalesWhereProfitNegative',\n  '/node_17/filterCatalogSalesWhereProfitNegativeAndYearAfter2000',\n  '/node_17/filterCatalogSalesWhereYearAfter2000',\n  '/node_17/filterStoreSalesWhereProfitNegative',\n  '/node_17/filterStoreSalesWhereProfitNegativeAndYearAfter2000',\n  '/node_17/filterStoreSalesWhereYearAfter2000',\n  '/node_17/maxNetProfitGroupedBySoldDate',\n  '/node_17/maxNetProfitGroupedBySoldDateWhereProfitNegative',\n  '/node_17/maxNetProfitGroupedBySoldDateWhereYearAfter2000',\n  '/node_17/maxWholeSaleCostGroupedBySoldDate',\n  '/node_17/minNetProfitGroupedBySoldDate',\n  '/node_17/minNetProfitGroupedBySoldDateWhereProfitNegative',\n  '/node_17/minNetProfitGroupedBySoldDateWhereYearAfter2000',\n  '/node_17/minWholeSaleCostGroupedBySoldDate',\n  '/node_17/summaryNetProfitGroupedBySoldDate',\n  '/node_17/summaryWholeSaleCostGroupedBySoldDate',\n  '/node_17/sumNetProfitGroupedBySoldDate',\n  '/node_17/sumNetProfitGroupedBySoldDateWhereProfitNegative',\n  '/node_17/sumNetProfitGroupedBySoldDateWhereYearAfter2000',\n  '/node_17/sumWholeSaleCostGroupedBySoldDate'],\n ['/node_18/avgNetProfitGroupedBySoldDate',\n  '/node_18/avgNetProfitGroupedBySoldDateWhereProfitNegative',\n  '/node_18/avgNetProfitGroupedBySoldDateWhereYearAfter2000',\n  '/node_18/avgWholeSaleCostGroupedBySoldDate',\n  '/node_18/countNetProfitGroupedBySoldDate',\n  '/node_18/countNetProfitGroupedBySoldDateWhereProfitNegative',\n  '/node_18/countNetProfitGroupedBySoldDateWhereYearAfter2000',\n  '/node_18/countWholeSaleCostGroupedBySoldDate',\n  '/node_18/filterCatalogSalesWhereProfitNegative',\n  '/node_18/filterCatalogSalesWhereProfitNegativeAndYearAfter2000',\n  '/node_18/filterCatalogSalesWhereYearAfter2000',\n  '/node_18/filterStoreSalesWhereProfitNegative',\n  '/node_18/filterStoreSalesWhereProfitNegativeAndYearAfter2000',\n  '/node_18/filterStoreSalesWhereYearAfter2000',\n  '/node_18/maxNetProfitGroupedBySoldDate',\n  '/node_18/maxNetProfitGroupedBySoldDateWhereProfitNegative',\n  '/node_18/maxNetProfitGroupedBySoldDateWhereYearAfter2000',\n  '/node_18/maxWholeSaleCostGroupedBySoldDate',\n  '/node_18/minNetProfitGroupedBySoldDate',\n  '/node_18/minNetProfitGroupedBySoldDateWhereProfitNegative',\n  '/node_18/minNetProfitGroupedBySoldDateWhereYearAfter2000',\n  '/node_18/minWholeSaleCostGroupedBySoldDate',\n  '/node_18/summaryNetProfitGroupedBySoldDate',\n  '/node_18/summaryWholeSaleCostGroupedBySoldDate',\n  '/node_18/sumNetProfitGroupedBySoldDate',\n  '/node_18/sumNetProfitGroupedBySoldDateWhereProfitNegative',\n  '/node_18/sumNetProfitGroupedBySoldDateWhereYearAfter2000',\n  '/node_18/sumWholeSaleCostGroupedBySoldDate'],\n ['/node_19/avgNetProfitGroupedBySoldDate',\n  '/node_19/avgNetProfitGroupedBySoldDateWhereProfitNegative',\n  '/node_19/avgNetProfitGroupedBySoldDateWhereYearAfter2000',\n  '/node_19/avgWholeSaleCostGroupedBySoldDate',\n  '/node_19/countNetProfitGroupedBySoldDate',\n  '/node_19/countNetProfitGroupedBySoldDateWhereProfitNegative',\n  '/node_19/countNetProfitGroupedBySoldDateWhereYearAfter2000',\n  '/node_19/countWholeSaleCostGroupedBySoldDate',\n  '/node_19/filterCatalogSalesWhereProfitNegative',\n  '/node_19/filterCatalogSalesWhereProfitNegativeAndYearAfter2000',\n  '/node_19/filterCatalogSalesWhereYearAfter2000',\n  '/node_19/filterStoreSalesWhereProfitNegative',\n  '/node_19/filterStoreSalesWhereProfitNegativeAndYearAfter2000',\n  '/node_19/filterStoreSalesWhereYearAfter2000',\n  '/node_19/maxNetProfitGroupedBySoldDate',\n  '/node_19/maxNetProfitGroupedBySoldDateWhereProfitNegative',\n  '/node_19/maxNetProfitGroupedBySoldDateWhereYearAfter2000',\n  '/node_19/maxWholeSaleCostGroupedBySoldDate',\n  '/node_19/minNetProfitGroupedBySoldDate',\n  '/node_19/minNetProfitGroupedBySoldDateWhereProfitNegative',\n  '/node_19/minNetProfitGroupedBySoldDateWhereYearAfter2000',\n  '/node_19/minWholeSaleCostGroupedBySoldDate',\n  '/node_19/summaryNetProfitGroupedBySoldDate',\n  '/node_19/summaryWholeSaleCostGroupedBySoldDate',\n  '/node_19/sumNetProfitGroupedBySoldDate',\n  '/node_19/sumNetProfitGroupedBySoldDateWhereProfitNegative',\n  '/node_19/sumNetProfitGroupedBySoldDateWhereYearAfter2000',\n  '/node_19/sumWholeSaleCostGroupedBySoldDate'],\n ['/node_20/avgNetProfitGroupedBySoldDate',\n  '/node_20/avgNetProfitGroupedBySoldDateWhereProfitNegative',\n  '/node_20/avgNetProfitGroupedBySoldDateWhereYearAfter2000',\n  '/node_20/avgWholeSaleCostGroupedBySoldDate',\n  '/node_20/countNetProfitGroupedBySoldDate',\n  '/node_20/countNetProfitGroupedBySoldDateWhereProfitNegative',\n  '/node_20/countNetProfitGroupedBySoldDateWhereYearAfter2000',\n  '/node_20/countWholeSaleCostGroupedBySoldDate',\n  '/node_20/filterCatalogSalesWhereProfitNegative',\n  '/node_20/filterCatalogSalesWhereProfitNegativeAndYearAfter2000',\n  '/node_20/filterCatalogSalesWhereYearAfter2000',\n  '/node_20/filterStoreSalesWhereProfitNegative',\n  '/node_20/filterStoreSalesWhereProfitNegativeAndYearAfter2000',\n  '/node_20/filterStoreSalesWhereYearAfter2000',\n  '/node_20/maxNetProfitGroupedBySoldDate',\n  '/node_20/maxNetProfitGroupedBySoldDateWhereProfitNegative',\n  '/node_20/maxNetProfitGroupedBySoldDateWhereYearAfter2000',\n  '/node_20/maxWholeSaleCostGroupedBySoldDate',\n  '/node_20/minNetProfitGroupedBySoldDate',\n  '/node_20/minNetProfitGroupedBySoldDateWhereProfitNegative',\n  '/node_20/minNetProfitGroupedBySoldDateWhereYearAfter2000',\n  '/node_20/minWholeSaleCostGroupedBySoldDate',\n  '/node_20/summaryNetProfitGroupedBySoldDate',\n  '/node_20/summaryWholeSaleCostGroupedBySoldDate',\n  '/node_20/sumNetProfitGroupedBySoldDate',\n  '/node_20/sumNetProfitGroupedBySoldDateWhereProfitNegative',\n  '/node_20/sumNetProfitGroupedBySoldDateWhereYearAfter2000',\n  '/node_20/sumWholeSaleCostGroupedBySoldDate']]"
     },
     "execution_count": 7,
     "metadata": {},
     "output_type": "execute_result"
    }
   ],
   "source": [
    "data_directories = []\n",
    "data_directories_groups = []\n",
    "for directory in nodes_directories:\n",
    "    cur_node_subdirectories = get_subdirectories(directory)\n",
    "    data_directories.append(cur_node_subdirectories)\n",
    "\n",
    "data_directories_groups = data_directories\n",
    "data_directories = [item for sublist in data_directories for item in sublist]\n",
    "data_directories_groups"
   ],
   "metadata": {
    "collapsed": false,
    "pycharm": {
     "name": "#%%\n"
    }
   }
  },
  {
   "cell_type": "markdown",
   "source": [
    "Check for function names in each node directory.\n",
    "These names should match the names in `experiments-plan.csv`.\n"
   ],
   "metadata": {
    "collapsed": false
   }
  },
  {
   "cell_type": "code",
   "execution_count": 8,
   "outputs": [
    {
     "data": {
      "text/plain": "['/avgNetProfitGroupedBySoldDate',\n '/avgNetProfitGroupedBySoldDateWhereProfitNegative',\n '/avgNetProfitGroupedBySoldDateWhereYearAfter2000',\n '/avgWholeSaleCostGroupedBySoldDate',\n '/countNetProfitGroupedBySoldDate',\n '/countNetProfitGroupedBySoldDateWhereProfitNegative',\n '/countNetProfitGroupedBySoldDateWhereYearAfter2000',\n '/countWholeSaleCostGroupedBySoldDate',\n '/filterCatalogSalesWhereProfitNegative',\n '/filterCatalogSalesWhereProfitNegativeAndYearAfter2000',\n '/filterCatalogSalesWhereYearAfter2000',\n '/filterStoreSalesWhereProfitNegative',\n '/filterStoreSalesWhereProfitNegativeAndYearAfter2000',\n '/filterStoreSalesWhereYearAfter2000',\n '/maxNetProfitGroupedBySoldDate',\n '/maxNetProfitGroupedBySoldDateWhereProfitNegative',\n '/maxNetProfitGroupedBySoldDateWhereYearAfter2000',\n '/maxWholeSaleCostGroupedBySoldDate',\n '/minNetProfitGroupedBySoldDate',\n '/minNetProfitGroupedBySoldDateWhereProfitNegative',\n '/minNetProfitGroupedBySoldDateWhereYearAfter2000',\n '/minWholeSaleCostGroupedBySoldDate',\n '/summaryNetProfitGroupedBySoldDate',\n '/summaryWholeSaleCostGroupedBySoldDate',\n '/sumNetProfitGroupedBySoldDate',\n '/sumNetProfitGroupedBySoldDateWhereProfitNegative',\n '/sumNetProfitGroupedBySoldDateWhereYearAfter2000',\n '/sumWholeSaleCostGroupedBySoldDate']"
     },
     "execution_count": 8,
     "metadata": {},
     "output_type": "execute_result"
    }
   ],
   "source": [
    "function_names = data_directories_groups[1]\n",
    "function_names = list(map(lambda x: x[8:], data_directories_groups[1]))\n",
    "function_names"
   ],
   "metadata": {
    "collapsed": false,
    "pycharm": {
     "name": "#%%\n"
    }
   }
  },
  {
   "cell_type": "markdown",
   "source": [
    "### Aggregating data from all nodes (11-19)"
   ],
   "metadata": {
    "collapsed": false
   }
  },
  {
   "cell_type": "code",
   "execution_count": 9,
   "outputs": [
    {
     "data": {
      "text/plain": "['/node_11',\n '/node_12',\n '/node_13',\n '/node_14',\n '/node_15',\n '/node_16',\n '/node_17',\n '/node_18',\n '/node_19']"
     },
     "execution_count": 9,
     "metadata": {},
     "output_type": "execute_result"
    }
   ],
   "source": [
    "master_dir_index = nodes_directories.index('/node_20')\n",
    "workers_directories = nodes_directories.copy()\n",
    "del workers_directories[master_dir_index]\n",
    "\n",
    "workers_directories"
   ],
   "metadata": {
    "collapsed": false,
    "pycharm": {
     "name": "#%%\n"
    }
   }
  },
  {
   "cell_type": "code",
   "execution_count": 10,
   "outputs": [
    {
     "name": "stdout",
     "output_type": "stream",
     "text": [
      "Error: ./../2GB-9N-spark-listener/preprocessed-data - Nie można utworzyć pliku, który już istnieje.\n",
      "Error: ./../2GB-9N-spark-listener/preprocessed-data/workers-mean-data - Nie można utworzyć pliku, który już istnieje.\n"
     ]
    }
   ],
   "source": [
    "create_directory(f\"./../{working_directory}/preprocessed-data\")\n",
    "\n",
    "mean_dir = f\"./../{working_directory}/preprocessed-data/workers-mean-data\"\n",
    "create_directory(mean_dir)\n",
    "workers_summary = pd.DataFrame(columns=[\"function_name\",\n",
    "                                             \"mean_duration\",\n",
    "                                             \"mean_interval\",\n",
    "                                             \"nodes_durations\",\n",
    "                                             \"nodes_intervals\"])\n",
    "\n",
    "workers_summary.to_csv(\"{0}/experiments_mean_duration.csv\".format(mean_dir), index=False)"
   ],
   "metadata": {
    "collapsed": false,
    "pycharm": {
     "name": "#%%\n"
    }
   }
  },
  {
   "cell_type": "code",
   "execution_count": 11,
   "outputs": [],
   "source": [
    "def preprocess_selected_function(f_names, workers_summary):\n",
    "    for function_name in f_names:\n",
    "        base_data = pd.DataFrame()\n",
    "        experiment_duration = []\n",
    "        experiment_interval = []\n",
    "        nodes_durations = []\n",
    "        nodes_intervals = []\n",
    "\n",
    "        experiment_mean_dir = \"{0}{1}\".format(mean_dir, function_name)\n",
    "        create_directory(experiment_mean_dir)\n",
    "\n",
    "        for node_dir in workers_directories:\n",
    "            file_path = f\"./../{working_directory}{node_dir}{function_name}\"\n",
    "            p = Path(file_path)\n",
    "            plots_path = \"{0}/plots\".format(file_path)\n",
    "\n",
    "            create_directory(plots_path)\n",
    "            create_directory(plots_path + \"/RAM\")\n",
    "            create_directory(plots_path + \"/CPU\")\n",
    "\n",
    "            experiment_number = 1\n",
    "            node_intervals = []\n",
    "            node_durations = []\n",
    "\n",
    "            for file in p.glob('*.csv'):\n",
    "                new_data, (duration, interval) = preprocess_file(file_path, plots_path, file.name, experiment_number)\n",
    "                base_data = pd.concat((base_data, new_data))\n",
    "\n",
    "                experiment_duration.append(duration)\n",
    "                experiment_interval.append(interval)\n",
    "                node_intervals.append(interval)\n",
    "                node_durations.append(duration)\n",
    "\n",
    "                experiment_number += 1\n",
    "\n",
    "            print(\"{0} | {1} durations: {2}\".format(function_name[1:], node_dir[1:], node_durations))\n",
    "\n",
    "            nodes_intervals.append((node_dir[1:], round(mean(node_intervals), 3)))\n",
    "            nodes_durations.append((node_dir[1:], round(mean(node_durations), 3)))\n",
    "\n",
    "        mean_interval = round(mean(experiment_interval), 3)\n",
    "\n",
    "        base_data[\"timestamp\"] = base_data.apply(lambda row: mean_interval * row.name, axis = 1)\n",
    "        base_data = base_data.groupby(base_data.index).mean()\n",
    "        base_data.to_csv(\"{0}/mean_data.csv\".format(experiment_mean_dir), index=False)\n",
    "\n",
    "        generate_plot(base_data.index, base_data.CPU, \"{0}/mean_CPU.png\".format(experiment_mean_dir), function_name[1:] + \" CPU\", ylabel=\"Procentowe zużycie CPU\")\n",
    "        generate_plot(base_data.index, base_data.RAM, \"{0}/mean_RAM.png\".format(experiment_mean_dir), function_name[1:] + \" RAM\", ylabel=\"Procentowe zużycie RAM\")\n",
    "\n",
    "        workers_summary = workers_summary.append({\"function_name\": function_name[1:],\n",
    "                                                            \"mean_duration\": round(mean(experiment_duration), 3),\n",
    "                                                            \"mean_interval\": mean_interval,\n",
    "                                                            \"nodes_durations\": nodes_durations,\n",
    "                                                            \"nodes_intervals\": nodes_intervals}, ignore_index=True)\n",
    "\n",
    "    workers_summary.to_csv(\"{0}/experiments_mean_duration.csv\".format(mean_dir), index=False, mode=\"a\", header=False)\n",
    "\n",
    "    del base_data\n",
    "    del experiment_interval\n",
    "    del experiment_duration\n",
    "    del nodes_durations\n",
    "    del nodes_intervals\n",
    "    del new_data\n",
    "    del node_intervals\n",
    "    del node_durations\n",
    "    del workers_summary\n",
    "    gc.collect()"
   ],
   "metadata": {
    "collapsed": false,
    "pycharm": {
     "name": "#%%\n"
    }
   }
  },
  {
   "cell_type": "code",
   "execution_count": 12,
   "outputs": [
    {
     "name": "stdout",
     "output_type": "stream",
     "text": [
      "Functions: 28\n"
     ]
    }
   ],
   "source": [
    "print(f\"Functions: {len(function_names)}\")"
   ],
   "metadata": {
    "collapsed": false,
    "pycharm": {
     "name": "#%%\n"
    }
   }
  },
  {
   "cell_type": "code",
   "execution_count": 13,
   "outputs": [
    {
     "name": "stdout",
     "output_type": "stream",
     "text": [
      "Error: ./../2GB-9N-spark-listener/preprocessed-data/workers-mean-data/avgNetProfitGroupedBySoldDate - Nie można utworzyć pliku, który już istnieje.\n",
      "Error: ./../2GB-9N-spark-listener/node_11/avgNetProfitGroupedBySoldDate/plots - Nie można utworzyć pliku, który już istnieje.\n",
      "Error: ./../2GB-9N-spark-listener/node_11/avgNetProfitGroupedBySoldDate/plots/RAM - Nie można utworzyć pliku, który już istnieje.\n",
      "Error: ./../2GB-9N-spark-listener/node_11/avgNetProfitGroupedBySoldDate/plots/CPU - Nie można utworzyć pliku, który już istnieje.\n",
      "avgNetProfitGroupedBySoldDate | node_11 durations: [75.617426, 81.921216, 115.250959, 90.102612, 83.642518, 88.211326, 91.03458, 114.454795, 87.906797, 89.154313, 89.095469, 128.585716, 85.858125, 88.053029, 119.336517, 89.776026, 89.776034, 86.16495, 86.170587, 121.195235, 88.992776, 94.971442, 116.031863, 89.155557, 87.887605]\n",
      "avgNetProfitGroupedBySoldDate | node_12 durations: [75.619632, 81.692906, 115.280751, 89.950068, 83.569651, 88.071983, 91.019049, 114.377944, 87.757975, 89.02266, 89.032936, 128.405899, 85.742888, 87.924156, 119.180806, 89.642193, 89.634643, 86.045788, 86.076076, 121.066057, 88.852181, 94.76601, 115.952668, 89.013583, 87.623834]\n",
      "avgNetProfitGroupedBySoldDate | node_13 durations: [75.364081, 81.732457, 115.039915, 89.844427, 83.453411, 87.950792, 90.781983, 114.258661, 87.649897, 88.775978, 88.890409, 128.390783, 85.589936, 87.766439, 119.131241, 89.537188, 89.683151, 85.958036, 86.029737, 120.933291, 88.748277, 94.677856, 116.116816, 88.880435, 87.651473]\n",
      "avgNetProfitGroupedBySoldDate | node_14 durations: [75.333536, 81.638917, 114.883969, 89.492909, 83.363477, 87.909056, 90.58571, 114.189572, 87.606543, 88.709579, 88.79628, 128.30173, 85.547898, 87.753033, 119.050886, 89.451434, 89.499904, 85.87232, 85.871274, 120.788745, 88.700143, 94.524319, 116.06326, 88.862529, 87.459011]\n",
      "avgNetProfitGroupedBySoldDate | node_15 durations: [75.270122, 81.399088, 114.882564, 89.414887, 83.293057, 87.855158, 90.524792, 114.025167, 87.496598, 88.581986, 88.625177, 128.085264, 85.481465, 87.540221, 118.942839, 89.415025, 89.378681, 85.802102, 85.802226, 120.727545, 88.61772, 94.444597, 115.882812, 88.633524, 87.360869]\n",
      "avgNetProfitGroupedBySoldDate | node_16 durations: [75.14277, 81.342428, 114.789149, 89.242988, 83.21201, 87.719975, 90.378551, 114.011132, 87.268353, 88.515268, 88.502622, 128.017591, 85.256523, 87.412046, 118.853987, 89.287364, 89.318169, 85.714311, 85.74255, 120.698977, 88.517869, 94.423098, 115.756526, 88.589268, 87.279714]\n",
      "avgNetProfitGroupedBySoldDate | node_17 durations: [75.120674, 81.218997, 114.654084, 89.145337, 83.139853, 87.598803, 90.230477, 113.907306, 87.283293, 88.391237, 88.515804, 128.025089, 85.272192, 87.43254, 118.834936, 89.268396, 89.262691, 85.523063, 85.562273, 120.552109, 88.367053, 94.357084, 115.737126, 88.519198, 87.269469]\n",
      "avgNetProfitGroupedBySoldDate | node_18 durations: [74.946025, 81.232829, 114.532275, 89.090122, 83.117575, 87.529951, 90.196783, 113.763847, 87.197207, 88.317085, 88.307998, 127.921228, 85.154889, 87.29335, 118.643955, 89.106103, 89.086789, 85.48108, 85.474461, 120.355105, 88.309589, 94.121305, 115.639125, 88.302934, 87.052368]\n",
      "avgNetProfitGroupedBySoldDate | node_19 durations: [74.956361, 81.002514, 114.551082, 89.052213, 82.969095, 87.367653, 90.118085, 113.450737, 87.050604, 88.155815, 88.307799, 127.750033, 85.012427, 87.200441, 118.628011, 88.934831, 88.939781, 85.321086, 85.465185, 120.378912, 88.250377, 94.126321, 115.49138, 88.305362, 87.019961]\n",
      "avgNetProfitGroupedBySoldDateWhereProfitNegative | node_11 durations: [78.686355, 78.686224, 78.861409, 108.289931, 78.850591, 116.307462, 110.020444, 87.202025, 77.750289, 77.741204, 83.013032, 78.843335, 118.345137, 83.904626, 82.786502, 78.221507, 82.62926, 111.42516, 79.584219, 80.735817, 82.821296, 78.073342, 78.841637, 84.684849, 80.913812]\n",
      "avgNetProfitGroupedBySoldDateWhereProfitNegative | node_12 durations: [78.584094, 78.593548, 78.758188, 108.128594, 78.887225, 116.235254, 110.017364, 86.98899, 77.649635, 77.5157, 82.947699, 78.737572, 118.235539, 83.728428, 82.651057, 78.113413, 82.630733, 111.309175, 79.565645, 80.76997, 82.781669, 77.966037, 78.756543, 84.683071, 80.781154]\n",
      "avgNetProfitGroupedBySoldDateWhereProfitNegative | node_13 durations: [78.450283, 78.454781, 78.614711, 108.030255, 78.621853, 116.034432, 109.921643, 86.871887, 77.52707, 77.407214, 82.831661, 78.699081, 118.157287, 83.76795, 82.528751, 78.026615, 82.489736, 111.157623, 79.410087, 80.583885, 82.676272, 77.813152, 78.615819, 84.548103, 80.653069]\n",
      "avgNetProfitGroupedBySoldDateWhereProfitNegative | node_14 durations: [78.363348, 78.333559, 78.502197, 108.007481, 78.50068, 115.943448, 109.802006, 86.795867, 77.387421, 77.400001, 82.711821, 78.510594, 118.1388, 83.530378, 82.436097, 77.892284, 82.434039, 111.051564, 79.287633, 80.532639, 82.434814, 77.707821, 78.502424, 84.42797, 80.536941]\n",
      "avgNetProfitGroupedBySoldDateWhereProfitNegative | node_15 durations: [78.320619, 78.310682, 78.478142, 107.868007, 78.306643, 115.84116, 109.630005, 86.803795, 77.369625, 77.21765, 82.71399, 78.461106, 118.065157, 83.49927, 82.409918, 77.836326, 82.350575, 111.037464, 79.25453, 80.35692, 82.486215, 77.643243, 78.475325, 84.306728, 80.454334]\n",
      "avgNetProfitGroupedBySoldDateWhereProfitNegative | node_16 durations: [78.254864, 78.123979, 78.411319, 107.817942, 78.279619, 115.754001, 109.676723, 86.662778, 77.217918, 77.175463, 82.615386, 78.407937, 117.935516, 83.408464, 82.303916, 77.826765, 82.160101, 110.780318, 79.186709, 80.308115, 82.321774, 77.4905, 78.260848, 84.332703, 80.358535]\n",
      "avgNetProfitGroupedBySoldDateWhereProfitNegative | node_17 durations: [78.152792, 78.022116, 78.278587, 107.685213, 78.131881, 115.638957, 109.43931, 86.535417, 77.180897, 77.052788, 82.489383, 78.293639, 117.802344, 83.258736, 82.151634, 77.658312, 82.167737, 110.613802, 79.056017, 80.296723, 82.173375, 77.506686, 78.30291, 84.21243, 80.306798]\n",
      "avgNetProfitGroupedBySoldDateWhereProfitNegative | node_18 durations: [77.989537, 77.987008, 78.146309, 107.539627, 77.99477, 115.575358, 109.451554, 86.419041, 77.058301, 77.051545, 82.401536, 78.101091, 117.773419, 83.183567, 82.037616, 77.534642, 82.08716, 110.549936, 78.937589, 80.135093, 82.091207, 77.380584, 78.103337, 84.050713, 80.202308]\n",
      "avgNetProfitGroupedBySoldDateWhereProfitNegative | node_19 durations: [78.040895, 77.92739, 78.02958, 107.301325, 77.987551, 115.460945, 109.357741, 86.415046, 76.901495, 76.922519, 82.323771, 78.084886, 117.664481, 83.102606, 82.011019, 77.449226, 81.85319, 110.442251, 78.857419, 79.975357, 82.005928, 77.288544, 78.079898, 83.911847, 80.119146]\n",
      "avgNetProfitGroupedBySoldDateWhereYearAfter2000 | node_11 durations: [88.774052, 90.839064, 91.098875, 89.124371, 89.105111, 90.858211, 115.053219, 84.825129, 87.981093, 85.777235, 115.377224, 90.833732, 88.931444, 85.944633, 97.083067, 98.989368, 90.830339, 87.828221, 88.774062, 86.911864, 87.828725, 85.766741, 88.697988, 104.050009, 87.822214]\n",
      "avgNetProfitGroupedBySoldDateWhereYearAfter2000 | node_12 durations: [88.679543, 90.776687, 90.935603, 88.929711, 89.060513, 90.772574, 114.915044, 84.72206, 87.857646, 85.631121, 115.243469, 90.793756, 88.806532, 85.814387, 97.036169, 98.927095, 90.798319, 87.686061, 88.649299, 86.914617, 87.696121, 85.772608, 88.620408, 104.019495, 87.696274]\n",
      "avgNetProfitGroupedBySoldDateWhereYearAfter2000 | node_13 durations: [88.596904, 90.670549, 90.852825, 88.793862, 88.823341, 90.700186, 114.818563, 84.631565, 87.721535, 85.545667, 115.125194, 90.701203, 88.673635, 85.744469, 96.897766, 98.802108, 90.676923, 87.715569, 88.677463, 86.795287, 87.578744, 85.633862, 88.660932, 103.936973, 87.534699]\n",
      "avgNetProfitGroupedBySoldDateWhereYearAfter2000 | node_14 durations: [88.56042, 90.619329, 90.756571, 88.725123, 88.738684, 90.596251, 114.677716, 84.475608, 87.618608, 85.420602, 115.000795, 90.615582, 88.574897, 85.615258, 96.75359, 98.631331, 90.574169, 87.616974, 88.452232, 86.68729, 87.47256, 85.568889, 88.418919, 103.821451, 87.47144]\n",
      "avgNetProfitGroupedBySoldDateWhereYearAfter2000 | node_15 durations: [88.371671, 90.583903, 90.597038, 88.696225, 88.703186, 90.440078, 114.66011, 84.317807, 87.450055, 85.384406, 114.995936, 90.397382, 88.541498, 85.537464, 96.711521, 98.602494, 90.435031, 87.433317, 88.377101, 86.643418, 87.442735, 85.384274, 88.390082, 103.6242, 87.446462]\n",
      "avgNetProfitGroupedBySoldDateWhereYearAfter2000 | node_16 durations: [88.264829, 90.469164, 90.627908, 88.600298, 88.611468, 90.318934, 114.574388, 84.262217, 87.351519, 85.353664, 114.917848, 90.330442, 88.384943, 85.502032, 96.68651, 98.534617, 90.33041, 87.349695, 88.269034, 86.420959, 87.276038, 85.321346, 88.279506, 103.536199, 87.347734]\n",
      "avgNetProfitGroupedBySoldDateWhereYearAfter2000 | node_17 durations: [88.236892, 90.338121, 90.474447, 88.432706, 88.483293, 90.331832, 114.451466, 84.271143, 87.370841, 85.215049, 114.7326, 90.300742, 88.269412, 85.334689, 96.563416, 98.418521, 90.331072, 87.248205, 88.160743, 86.440801, 87.223986, 85.259113, 88.158353, 103.399218, 87.211712]\n",
      "avgNetProfitGroupedBySoldDateWhereYearAfter2000 | node_18 durations: [88.059195, 90.308029, 90.320872, 88.406111, 88.404017, 90.121485, 114.34422, 84.176994, 87.128317, 85.083466, 114.661045, 90.145138, 88.209512, 85.199328, 96.500882, 98.255297, 90.194017, 87.102677, 88.052151, 86.346516, 87.141199, 85.231471, 88.088499, 103.359931, 87.169303]\n",
      "avgNetProfitGroupedBySoldDateWhereYearAfter2000 | node_19 durations: [87.984087, 90.187958, 90.346226, 88.281403, 88.313216, 90.022736, 114.231248, 84.044411, 87.04084, 85.00748, 114.372795, 90.039424, 88.091163, 85.153897, 96.329542, 98.176622, 90.034778, 87.016165, 88.049915, 86.192544, 87.051438, 85.132699, 87.997067, 103.221625, 87.018833]\n",
      "avgWholeSaleCostGroupedBySoldDate | node_11 durations: [86.803328, 88.35692, 88.0444, 75.877604, 85.838095, 85.996283, 88.741163, 86.901089, 76.899105, 121.229822, 121.692592, 88.000342, 86.478677, 89.289926, 89.167013, 87.109399, 88.209313, 119.159602, 88.217536, 81.912182, 115.262236, 91.323271, 88.266716, 88.937876, 87.88447]\n",
      "avgWholeSaleCostGroupedBySoldDate | node_12 durations: [86.694793, 88.377354, 87.914242, 75.645161, 85.734196, 85.890788, 88.733769, 86.844005, 76.72625, 121.207535, 121.519452, 87.920834, 86.344118, 89.02466, 89.168229, 87.146049, 88.065745, 119.047577, 88.086007, 81.701827, 115.193512, 91.201998, 88.073418, 88.864395, 87.779809]\n",
      "avgWholeSaleCostGroupedBySoldDate | node_13 durations: [86.652665, 88.287327, 87.83964, 75.539083, 85.656433, 85.796298, 88.585489, 86.712357, 76.609219, 121.121047, 121.420538, 87.918618, 86.117926, 88.92306, 89.070895, 87.020013, 87.970219, 118.937773, 87.987372, 81.738588, 115.044305, 91.081767, 87.998382, 88.749136, 87.662467]\n",
      "avgWholeSaleCostGroupedBySoldDate | node_14 durations: [86.463562, 88.089422, 87.768435, 75.492788, 85.576834, 85.72588, 88.561015, 86.671505, 76.445871, 120.972195, 121.286845, 87.607285, 86.036789, 88.871396, 88.846338, 86.838169, 87.918131, 118.853832, 87.855168, 81.640124, 114.954111, 90.903954, 87.929102, 88.717658, 87.612337]\n",
      "avgWholeSaleCostGroupedBySoldDate | node_15 durations: [86.453925, 88.009122, 87.549922, 75.437559, 85.495204, 85.497489, 88.448398, 86.60603, 76.378654, 120.875291, 121.1837, 87.553451, 85.969139, 88.796685, 88.812288, 86.718811, 87.702083, 118.84035, 87.711477, 81.403057, 114.897371, 90.687821, 87.854392, 88.63943, 87.509156]\n",
      "avgWholeSaleCostGroupedBySoldDate | node_16 durations: [86.367161, 87.877164, 87.477969, 75.303569, 85.400114, 85.391004, 88.340646, 86.477541, 76.381282, 120.860384, 121.152194, 87.578241, 85.870735, 88.675318, 88.662857, 86.644889, 87.585769, 118.682784, 87.592812, 81.34733, 114.794611, 90.691504, 87.737954, 88.544356, 87.271583]\n",
      "avgWholeSaleCostGroupedBySoldDate | node_17 durations: [86.194981, 87.891649, 87.445682, 75.288933, 85.242388, 85.4046, 88.217844, 86.345479, 76.242201, 120.746454, 121.043697, 87.431247, 85.730224, 88.672301, 88.682145, 86.656099, 87.483302, 118.558139, 87.515118, 81.368527, 114.805234, 90.570914, 87.58376, 88.362061, 87.172061]\n",
      "avgWholeSaleCostGroupedBySoldDate | node_18 durations: [86.107245, 87.692309, 87.358736, 75.113985, 85.18959, 85.259131, 88.151705, 86.279079, 76.09228, 120.700428, 120.964826, 87.362765, 85.635784, 88.46732, 88.459618, 86.428002, 87.523726, 118.483636, 87.368119, 81.23815, 114.702709, 90.50277, 87.531095, 88.312325, 87.057331]\n",
      "avgWholeSaleCostGroupedBySoldDate | node_19 durations: [86.095026, 87.575781, 87.028904, 75.088304, 84.99393, 85.200348, 87.982817, 86.256629, 76.049123, 120.514461, 120.834068, 87.195756, 85.462388, 88.452044, 88.449272, 86.38824, 87.356621, 118.461722, 87.349268, 81.056402, 114.543158, 90.345272, 87.346158, 88.251835, 87.048713]\n"
     ]
    }
   ],
   "source": [
    "preprocess_selected_function(function_names[0:4], workers_summary)"
   ],
   "metadata": {
    "collapsed": false,
    "pycharm": {
     "name": "#%%\n"
    }
   }
  },
  {
   "cell_type": "code",
   "execution_count": 14,
   "outputs": [
    {
     "data": {
      "text/plain": "4918525"
     },
     "execution_count": 14,
     "metadata": {},
     "output_type": "execute_result"
    }
   ],
   "source": [
    "gc.collect()"
   ],
   "metadata": {
    "collapsed": false,
    "pycharm": {
     "name": "#%%\n"
    }
   }
  },
  {
   "cell_type": "code",
   "execution_count": 15,
   "outputs": [
    {
     "name": "stdout",
     "output_type": "stream",
     "text": [
      "countNetProfitGroupedBySoldDate | node_11 durations: [74.848017, 121.411503, 86.871233, 76.584208, 76.579207, 92.78657, 87.916142, 88.066721, 80.98118, 76.736351, 119.98516, 87.913388, 84.920649, 86.772157, 91.987026, 88.852881, 115.080518, 90.894199, 85.847809, 76.762645, 87.832972, 86.803521, 84.919808, 119.314193, 83.66941]\n",
      "countNetProfitGroupedBySoldDate | node_12 durations: [74.825135, 121.356113, 86.815597, 76.584236, 76.55009, 92.750672, 87.769045, 88.067866, 80.933317, 76.701965, 119.959368, 87.938762, 84.836084, 86.676473, 91.956605, 88.683375, 114.978387, 90.871495, 85.744333, 76.713118, 87.76624, 86.688073, 84.801137, 119.342015, 83.585407]\n",
      "countNetProfitGroupedBySoldDate | node_13 durations: [74.7137, 121.2446, 86.691036, 76.435121, 76.434529, 92.638228, 87.638732, 87.969508, 80.802482, 76.646428, 119.909027, 87.776489, 84.769273, 86.539619, 91.840564, 88.696964, 114.868932, 90.745454, 85.780569, 76.570105, 87.638576, 86.543029, 84.672996, 119.217472, 83.607391]\n",
      "countNetProfitGroupedBySoldDate | node_14 durations: [74.541728, 121.127899, 86.654731, 76.277711, 76.264434, 92.436217, 87.609142, 87.751155, 80.683031, 76.573814, 119.727662, 87.70828, 84.611215, 86.50392, 91.699145, 88.508114, 114.810146, 90.585684, 85.552492, 76.439949, 87.554906, 86.441144, 84.605884, 119.023305, 83.508684]\n",
      "countNetProfitGroupedBySoldDate | node_15 durations: [74.476249, 120.995701, 86.40788, 76.201013, 76.202309, 92.38281, 87.466009, 87.663377, 80.598998, 76.347886, 119.572957, 87.53319, 84.607179, 86.348287, 91.756982, 88.477078, 114.708479, 90.495518, 85.46533, 76.362365, 87.371114, 86.415751, 84.522214, 118.951846, 83.366204]\n",
      "countNetProfitGroupedBySoldDate | node_16 durations: [74.351945, 121.009333, 86.354516, 76.234291, 76.064952, 92.250734, 87.260308, 87.596009, 80.571138, 76.380456, 119.60225, 87.519178, 84.493352, 86.346893, 91.643412, 88.409689, 114.499012, 90.404697, 85.402661, 76.269991, 87.268214, 86.336909, 84.331614, 118.857365, 83.238513]\n",
      "countNetProfitGroupedBySoldDate | node_17 durations: [74.208799, 120.885258, 86.349176, 76.073332, 76.0802, 92.256252, 87.209121, 87.441214, 80.422737, 76.254005, 119.514274, 87.447511, 84.326724, 86.191776, 91.526671, 88.214598, 114.497809, 90.398683, 85.268263, 76.28188, 87.181174, 86.284294, 84.332646, 118.868713, 83.085144]\n",
      "countNetProfitGroupedBySoldDate | node_18 durations: [74.173178, 120.837218, 86.120425, 75.98859, 75.894315, 92.091939, 87.07312, 87.367043, 80.236739, 76.055548, 119.27876, 87.378972, 84.230061, 86.123642, 91.306431, 88.17838, 114.404894, 90.299516, 85.159336, 76.215499, 87.063582, 86.130912, 84.151525, 118.648773, 83.129965]\n",
      "countNetProfitGroupedBySoldDate | node_19 durations: [74.019002, 120.67947, 86.105261, 75.913359, 75.813142, 92.088108, 87.057175, 87.324267, 80.136881, 76.050453, 119.280774, 87.213276, 84.222289, 85.951547, 91.241234, 87.99943, 114.242467, 90.043451, 85.116672, 76.056098, 87.06645, 85.959598, 84.071646, 118.644236, 82.981389]\n",
      "countNetProfitGroupedBySoldDateWhereProfitNegative | node_11 durations: [83.955666, 105.951454, 72.002713, 113.990322, 79.710659, 79.80646, 81.908395, 76.885887, 84.787669, 82.864845, 77.666179, 85.684201, 81.915292, 112.264048, 77.819958, 82.706375, 77.679427, 81.603123, 81.836816, 80.890193, 81.677105, 83.813511, 76.568556, 77.680168, 77.97608]\n",
      "countNetProfitGroupedBySoldDateWhereProfitNegative | node_12 durations: [83.844582, 105.792536, 71.886742, 113.936855, 79.669411, 79.809298, 81.856333, 76.731323, 84.792809, 82.776762, 77.474061, 85.566597, 81.841733, 112.16566, 77.631083, 82.627226, 77.508378, 81.527683, 81.683486, 80.755577, 81.530349, 83.747627, 76.557265, 77.641337, 77.938294]\n",
      "countNetProfitGroupedBySoldDateWhereProfitNegative | node_13 durations: [83.780406, 105.684621, 71.756978, 113.78886, 79.55415, 79.685981, 81.586895, 76.573556, 84.657017, 82.642384, 77.50862, 85.538926, 81.69519, 112.074584, 77.536021, 82.658191, 77.509905, 81.449109, 81.583536, 80.773457, 81.446131, 83.734192, 76.439693, 77.50891, 77.837648]\n",
      "countNetProfitGroupedBySoldDateWhereProfitNegative | node_14 durations: [83.500664, 105.538961, 71.706819, 113.678003, 79.430144, 79.573695, 81.618402, 76.582827, 84.595011, 82.539233, 77.374577, 85.378444, 81.615841, 111.818374, 77.402746, 82.549132, 77.377125, 81.450382, 81.461606, 80.658361, 81.44884, 83.510042, 76.267749, 77.371158, 77.676235]\n",
      "countNetProfitGroupedBySoldDateWhereProfitNegative | node_15 durations: [83.276842, 105.443551, 71.567367, 113.598133, 79.283856, 79.497777, 81.551805, 76.508977, 84.536044, 82.490403, 77.300995, 85.313189, 81.542396, 111.745419, 77.293889, 82.32219, 77.304399, 81.227415, 81.386268, 80.446757, 81.396288, 83.421605, 76.192427, 77.309114, 77.607942]\n",
      "countNetProfitGroupedBySoldDateWhereProfitNegative | node_16 durations: [83.219176, 105.463138, 71.413964, 113.574833, 79.246416, 79.358407, 81.392223, 76.380116, 84.345199, 82.307282, 77.159207, 85.244882, 81.391511, 111.695323, 77.166752, 82.283887, 77.157046, 81.201888, 81.357755, 80.433756, 81.195244, 83.365046, 76.218679, 77.318533, 77.478592]\n",
      "countNetProfitGroupedBySoldDateWhereProfitNegative | node_17 durations: [83.083476, 105.333402, 71.42131, 113.41045, 79.036285, 79.348202, 81.367187, 76.240502, 84.195087, 82.311737, 77.016937, 85.098197, 81.377591, 111.571792, 77.163267, 82.149934, 77.024006, 81.087597, 81.220795, 80.292187, 81.06632, 83.25453, 76.084079, 77.193904, 77.326428]\n",
      "countNetProfitGroupedBySoldDateWhereProfitNegative | node_18 durations: [83.079166, 105.120216, 71.199265, 113.322927, 79.045239, 79.195157, 81.249298, 76.215937, 84.174485, 82.130742, 76.995884, 84.96786, 81.197614, 111.57417, 76.996603, 82.105162, 77.003415, 80.93669, 81.080579, 80.247997, 81.092356, 83.134438, 75.902313, 77.170623, 77.301395]\n",
      "countNetProfitGroupedBySoldDateWhereProfitNegative | node_19 durations: [82.968892, 105.137852, 71.033353, 113.302415, 78.891188, 79.048597, 80.920394, 76.109064, 84.081714, 82.025977, 76.844505, 84.863428, 81.17644, 111.426846, 76.87681, 81.967144, 76.858854, 80.932456, 81.094902, 80.139071, 80.934265, 83.13205, 75.899677, 77.157021, 77.154822]\n",
      "countNetProfitGroupedBySoldDateWhereYearAfter2000 | node_11 durations: [123.245, 84.395784, 116.3218, 94.881956, 118.680734, 125.130481, 94.128984, 94.07287, 82.77778, 94.849213, 88.754361, 100.245927, 92.872617, 116.167163, 124.353939, 90.970476, 86.113069, 115.218788, 101.0674, 97.117378, 83.745079, 96.013695, 87.369288, 82.896792, 88.79031]\n",
      "countNetProfitGroupedBySoldDateWhereYearAfter2000 | node_12 durations: [123.145857, 84.282195, 116.334941, 94.836656, 118.511143, 124.983359, 94.03043, 94.0605, 82.696185, 94.834428, 88.75878, 100.119191, 92.813971, 116.020108, 124.255848, 90.933544, 85.952383, 115.101311, 100.907673, 97.03381, 83.633921, 95.92119, 87.214542, 82.947337, 88.785803]\n",
      "countNetProfitGroupedBySoldDateWhereYearAfter2000 | node_13 durations: [123.041173, 84.290684, 116.202485, 94.729808, 118.423765, 124.932183, 93.95604, 93.978532, 82.519203, 94.758026, 88.642955, 99.968119, 92.738966, 115.934992, 124.186885, 90.723318, 85.691025, 114.996982, 100.815164, 96.949667, 83.560841, 95.87036, 87.110164, 82.746997, 88.638826]\n",
      "countNetProfitGroupedBySoldDateWhereYearAfter2000 | node_14 durations: [122.81119, 84.182054, 116.09214, 94.544407, 118.279245, 124.74421, 93.735205, 93.770312, 82.419793, 94.546518, 88.427795, 99.892813, 92.598452, 115.780333, 124.140042, 90.621546, 85.586661, 114.882322, 100.735243, 96.716349, 83.563472, 95.822552, 86.985458, 82.749434, 88.562197]\n",
      "countNetProfitGroupedBySoldDateWhereYearAfter2000 | node_15 durations: [122.83631, 83.989371, 116.05252, 94.513405, 118.202626, 124.721654, 93.731657, 93.729198, 82.38764, 94.549135, 88.391001, 99.865929, 92.483261, 115.741895, 123.976681, 90.610674, 85.531325, 114.806256, 100.64399, 96.741634, 83.482378, 95.61906, 86.965715, 82.544422, 88.405187]\n",
      "countNetProfitGroupedBySoldDateWhereYearAfter2000 | node_16 durations: [122.672238, 83.906075, 115.830523, 94.377553, 118.1449, 124.567452, 93.580299, 93.569233, 82.204378, 94.377996, 88.307951, 99.789359, 92.496646, 115.663669, 123.906155, 90.447638, 85.509429, 114.726458, 100.554232, 96.538283, 83.317187, 95.618142, 86.886298, 82.459445, 88.440826]\n",
      "countNetProfitGroupedBySoldDateWhereYearAfter2000 | node_17 durations: [122.53774, 83.766825, 115.85556, 94.364766, 118.014196, 124.555971, 93.467606, 93.588525, 82.180187, 94.375989, 88.255002, 99.661621, 92.331036, 115.543772, 123.638528, 90.327172, 85.353958, 114.62864, 100.456186, 96.518398, 83.177518, 95.461094, 86.777065, 82.35109, 88.266527]\n",
      "countNetProfitGroupedBySoldDateWhereYearAfter2000 | node_18 durations: [122.526446, 83.664461, 115.622315, 94.169148, 117.962317, 124.407712, 93.453445, 93.422919, 82.086434, 94.21078, 88.075883, 99.436982, 92.329032, 115.446097, 123.479264, 90.239566, 85.252894, 114.51037, 100.336605, 96.37423, 83.058269, 95.455088, 86.676134, 82.240647, 88.239349]\n",
      "countNetProfitGroupedBySoldDateWhereYearAfter2000 | node_19 durations: [122.388954, 83.709984, 115.626818, 94.10182, 117.814353, 124.422592, 93.155585, 93.30048, 82.003877, 94.083958, 88.002603, 99.452863, 92.210815, 115.315355, 123.474935, 90.167345, 85.179757, 114.364765, 100.222646, 96.313426, 83.038299, 95.384367, 86.512849, 82.152222, 88.079649]\n",
      "countWholeSaleCostGroupedBySoldDate | node_11 durations: [75.64079, 75.953266, 125.30825, 88.053273, 117.28589, 86.73413, 89.849548, 83.954181, 85.821814, 81.920745, 84.922975, 88.057045, 86.002079, 86.941714, 84.822684, 84.74154, 85.837907, 86.945016, 112.581264, 84.915762, 85.694149, 87.889687, 84.929455, 88.691076, 113.201889]\n",
      "countWholeSaleCostGroupedBySoldDate | node_12 durations: [75.492144, 75.79253, 125.238805, 87.880143, 117.149492, 86.684606, 89.627397, 83.875239, 85.731682, 81.699217, 84.805043, 88.068749, 85.913313, 86.741647, 84.719156, 84.680953, 85.712971, 86.808163, 112.476095, 84.666504, 85.724621, 87.899324, 84.797629, 88.696584, 113.094092]\n",
      "countWholeSaleCostGroupedBySoldDate | node_13 durations: [75.489845, 75.812025, 125.139667, 87.780107, 117.081133, 86.528247, 89.672365, 83.698464, 85.642552, 81.703038, 84.664761, 87.93203, 85.916544, 86.694385, 84.688925, 84.512738, 85.599594, 86.798179, 112.369048, 84.681887, 85.610235, 87.788159, 84.668405, 88.569163, 112.989509]\n",
      "countWholeSaleCostGroupedBySoldDate | node_14 durations: [75.330368, 75.640297, 125.033048, 87.751467, 116.892803, 86.450463, 89.432712, 83.659597, 85.541394, 81.619993, 84.602751, 87.753846, 85.701451, 86.648357, 84.605697, 84.445329, 85.385671, 86.653255, 112.288045, 84.601811, 85.553061, 87.590657, 84.61172, 88.388324, 112.91549]\n",
      "countWholeSaleCostGroupedBySoldDate | node_15 durations: [75.220416, 75.510615, 124.89705, 87.671929, 116.91147, 86.414106, 89.405927, 83.59133, 85.321649, 81.542683, 84.541408, 87.668753, 85.647019, 86.579891, 84.373593, 84.369626, 85.281137, 86.570863, 112.228697, 84.299857, 85.324341, 87.525831, 84.532569, 88.416336, 112.705868]\n",
      "countWholeSaleCostGroupedBySoldDate | node_16 durations: [75.156726, 75.451962, 124.779911, 87.416639, 116.807203, 86.334966, 89.309425, 83.38032, 85.264844, 81.363467, 84.477196, 87.574128, 85.558404, 86.492871, 84.296332, 84.307731, 85.261375, 86.488951, 112.150785, 84.324572, 85.245106, 87.480818, 84.319902, 88.208968, 112.620651]\n",
      "countWholeSaleCostGroupedBySoldDate | node_17 durations: [75.142044, 75.340996, 124.65031, 87.447711, 116.72025, 86.20949, 89.14629, 83.394713, 85.260293, 81.283312, 84.333643, 87.537393, 85.422983, 86.315533, 84.32677, 84.182654, 85.122445, 86.381267, 112.016523, 84.243687, 85.198746, 87.339331, 84.172668, 88.219108, 112.536379]\n",
      "countWholeSaleCostGroupedBySoldDate | node_18 durations: [74.952515, 75.142536, 124.60578, 87.367591, 116.586735, 86.099198, 89.107883, 83.215488, 85.111757, 81.075234, 84.215382, 87.309764, 85.316163, 86.217314, 84.080375, 84.064004, 85.016679, 86.269804, 111.884219, 84.07908, 85.011733, 87.199933, 84.078935, 88.005421, 112.511627]\n",
      "countWholeSaleCostGroupedBySoldDate | node_19 durations: [74.799489, 75.122666, 124.444077, 87.205778, 116.44863, 85.949846, 88.957326, 83.124212, 85.005504, 80.93181, 84.066325, 87.213578, 85.013077, 86.117569, 84.074698, 84.032068, 85.016488, 86.231934, 111.859701, 83.933913, 85.019706, 87.232349, 84.080231, 88.012465, 112.356863]\n"
     ]
    }
   ],
   "source": [
    "preprocess_selected_function(function_names[4:8], workers_summary)"
   ],
   "metadata": {
    "collapsed": false,
    "pycharm": {
     "name": "#%%\n"
    }
   }
  },
  {
   "cell_type": "code",
   "execution_count": 16,
   "outputs": [
    {
     "data": {
      "text/plain": "4918708"
     },
     "execution_count": 16,
     "metadata": {},
     "output_type": "execute_result"
    }
   ],
   "source": [
    "gc.collect()"
   ],
   "metadata": {
    "collapsed": false,
    "pycharm": {
     "name": "#%%\n"
    }
   }
  },
  {
   "cell_type": "code",
   "execution_count": 17,
   "outputs": [
    {
     "name": "stdout",
     "output_type": "stream",
     "text": [
      "filterCatalogSalesWhereProfitNegative | node_11 durations: [22.014344, 24.053962, 21.064842, 22.948834, 22.169002, 23.123414, 24.993903, 24.994915, 23.114927, 22.170919, 22.146901, 22.014774, 22.040685, 22.169824, 22.965886, 22.024023, 21.998419, 22.295906, 22.00985, 21.223733, 22.176171, 22.17074, 22.011975, 24.057829, 22.013201]\n",
      "filterCatalogSalesWhereProfitNegative | node_12 durations: [21.868063, 23.972916, 21.012796, 22.890582, 21.994496, 22.894436, 24.981498, 24.913487, 23.038523, 22.011509, 22.105816, 21.960429, 21.948696, 22.102371, 22.904673, 21.959932, 21.953364, 22.112994, 21.963145, 21.060459, 22.118073, 22.146472, 21.958535, 23.970314, 22.016061]\n",
      "filterCatalogSalesWhereProfitNegative | node_13 durations: [21.804978, 23.913943, 20.801787, 22.747031, 21.957427, 22.913243, 24.916276, 24.85105, 22.890631, 21.954532, 22.041191, 21.815844, 21.811251, 21.885462, 22.910011, 21.806388, 21.80691, 22.11828, 21.811095, 21.034186, 21.968157, 21.959021, 21.953607, 23.833481, 21.805711]\n",
      "filterCatalogSalesWhereProfitNegative | node_14 durations: [21.703831, 23.72838, 20.752829, 22.650601, 21.850131, 22.807139, 24.67956, 24.684966, 22.794646, 21.859395, 21.859914, 21.70228, 21.698578, 21.700261, 22.674854, 21.702057, 21.700113, 22.0088, 21.702986, 20.913603, 21.864319, 21.857929, 21.853276, 23.743757, 21.698354]\n",
      "filterCatalogSalesWhereProfitNegative | node_15 durations: [21.672946, 23.569356, 20.581135, 22.643049, 21.674781, 22.643784, 24.663057, 24.668485, 22.625313, 21.837286, 21.840266, 21.690891, 21.525464, 21.685485, 22.624048, 21.674493, 21.676957, 21.842745, 21.683441, 20.891883, 21.702749, 21.834668, 21.67936, 23.567499, 21.682963]\n",
      "filterCatalogSalesWhereProfitNegative | node_16 durations: [21.476545, 23.493919, 20.539352, 22.567672, 21.553706, 22.571141, 24.593445, 24.590108, 22.564843, 21.635738, 21.787222, 21.52573, 21.490973, 21.521129, 22.470983, 21.484269, 21.476802, 21.706646, 21.471867, 20.711982, 21.646554, 21.709135, 21.639282, 23.498981, 21.520728]\n",
      "filterCatalogSalesWhereProfitNegative | node_17 durations: [21.483738, 23.503073, 20.423606, 22.478536, 21.483407, 22.463001, 24.441736, 24.437716, 22.466429, 21.642775, 21.640172, 21.495255, 21.377885, 21.481043, 22.425547, 21.486721, 21.483422, 21.637446, 21.378387, 20.612123, 21.542499, 21.638316, 21.479009, 23.421457, 21.478543]\n",
      "filterCatalogSalesWhereProfitNegative | node_18 durations: [21.368338, 23.405636, 20.422732, 22.322902, 21.36868, 22.317823, 24.357633, 24.347995, 22.299861, 21.517616, 21.529676, 21.379779, 21.368076, 21.369447, 22.312149, 21.366694, 21.359572, 21.51699, 21.37223, 20.576543, 21.532486, 21.524221, 21.359429, 23.410474, 21.363061]\n",
      "filterCatalogSalesWhereProfitNegative | node_19 durations: [21.192243, 23.250102, 20.267366, 22.309677, 21.363151, 22.310451, 24.198844, 24.199368, 22.173495, 21.365924, 21.522053, 21.2175, 21.213732, 21.210065, 22.309982, 21.210785, 21.244141, 21.524964, 21.384632, 20.424135, 21.367351, 21.369747, 21.2376, 23.244029, 21.205991]\n",
      "filterCatalogSalesWhereProfitNegativeAndYearAfter2000 | node_11 durations: [30.036198, 28.300891, 29.243719, 27.196126, 29.096171, 27.351306, 27.053034, 29.23575, 27.058974, 28.312076, 27.040929, 27.354493, 27.04513, 30.199574, 26.099309, 28.142908, 28.146848, 27.063691, 27.039662, 27.504967, 27.048849, 30.359831, 27.043186, 31.138178, 27.036734]\n",
      "filterCatalogSalesWhereProfitNegativeAndYearAfter2000 | node_12 durations: [30.041632, 28.190923, 29.115272, 27.092904, 28.968053, 27.245381, 26.933414, 29.115844, 27.055939, 28.181032, 27.04763, 27.188621, 26.969343, 30.054528, 26.014285, 28.028945, 27.990423, 26.942155, 26.929586, 27.360706, 27.043458, 30.197376, 26.939807, 30.988901, 26.928068]\n",
      "filterCatalogSalesWhereProfitNegativeAndYearAfter2000 | node_13 durations: [29.858442, 28.031407, 28.927002, 27.108985, 28.97988, 26.916815, 26.905978, 28.96934, 26.937901, 28.046231, 26.944859, 27.107418, 26.948172, 29.899508, 25.866568, 27.890848, 27.897098, 26.948096, 26.949331, 27.262414, 26.945729, 30.063161, 26.797841, 30.950026, 26.882376]\n",
      "filterCatalogSalesWhereProfitNegativeAndYearAfter2000 | node_14 durations: [29.881585, 27.994805, 28.791861, 26.901322, 28.801614, 26.895515, 26.736168, 28.943592, 26.737304, 28.000893, 26.742539, 27.050691, 26.732861, 29.779702, 25.794416, 27.844213, 27.843519, 26.741256, 26.746732, 27.202221, 26.750094, 30.062786, 26.732128, 30.840943, 26.731842]\n",
      "filterCatalogSalesWhereProfitNegativeAndYearAfter2000 | node_15 durations: [29.702057, 27.871442, 28.756011, 26.868683, 28.766379, 26.714422, 26.718125, 28.772458, 26.708174, 27.849898, 26.710693, 27.021231, 26.713356, 29.699526, 25.664429, 27.698467, 27.690244, 26.723787, 26.710998, 27.042599, 26.716204, 29.862489, 26.715212, 30.644131, 26.720482]\n",
      "filterCatalogSalesWhereProfitNegativeAndYearAfter2000 | node_16 durations: [29.564222, 27.710974, 28.627597, 26.766211, 28.59733, 26.607576, 26.507549, 28.79335, 26.55226, 27.706137, 26.581996, 26.712433, 26.574226, 29.57751, 25.481489, 27.509, 27.545806, 26.549096, 26.554241, 26.927823, 26.616077, 29.755425, 26.538332, 30.646717, 26.612863]\n",
      "filterCatalogSalesWhereProfitNegativeAndYearAfter2000 | node_17 durations: [29.568597, 27.693181, 28.478488, 26.723241, 28.492655, 26.615976, 26.458911, 28.574889, 26.472895, 27.713425, 26.4628, 26.657403, 26.430821, 29.582386, 25.534851, 27.544665, 27.559106, 26.462259, 26.470465, 26.931078, 26.551552, 29.734991, 26.512074, 30.506274, 26.456031]\n",
      "filterCatalogSalesWhereProfitNegativeAndYearAfter2000 | node_18 durations: [29.384923, 27.661326, 28.443668, 26.56173, 28.440723, 26.548282, 26.389293, 28.596141, 26.395606, 27.336034, 26.395445, 26.550612, 26.38963, 29.387322, 25.3026, 27.339652, 27.337298, 26.415914, 26.390444, 26.722503, 26.400532, 29.52914, 26.39245, 30.319095, 26.423167]\n",
      "filterCatalogSalesWhereProfitNegativeAndYearAfter2000 | node_19 durations: [29.375312, 27.502653, 28.275182, 26.240037, 28.284362, 26.405434, 26.22586, 28.444686, 26.230272, 27.335755, 26.230099, 26.390144, 26.230126, 29.382798, 25.297213, 27.340965, 27.343024, 26.237649, 26.249305, 26.733307, 26.236622, 29.375191, 26.228182, 30.320263, 26.244017]\n",
      "filterCatalogSalesWhereYearAfter2000 | node_11 durations: [27.042679, 29.09154, 24.997574, 29.239433, 30.056746, 27.202284, 27.061842, 25.309307, 27.048366, 26.134001, 29.107166, 28.141389, 26.092698, 28.158154, 27.200578, 26.101145, 27.045237, 28.134784, 27.067938, 29.093943, 24.994881, 26.104263, 28.309843, 28.146344, 26.100447]\n",
      "filterCatalogSalesWhereYearAfter2000 | node_12 durations: [26.977086, 28.969223, 24.910999, 29.107255, 30.072833, 27.084507, 26.929519, 25.316993, 26.934736, 25.994278, 28.949693, 28.025988, 25.998985, 28.017343, 27.181887, 25.992842, 26.924957, 27.917024, 27.052205, 28.965925, 24.905817, 25.929743, 28.184552, 28.037753, 26.00464]\n",
      "filterCatalogSalesWhereYearAfter2000 | node_13 durations: [26.934571, 28.967129, 24.873045, 29.05826, 29.953827, 26.988783, 26.90518, 25.18074, 26.846924, 25.852017, 28.97258, 27.890342, 25.818355, 27.866845, 26.943419, 25.895944, 26.890356, 27.867739, 26.938593, 28.96858, 24.919792, 25.851633, 28.032238, 28.025458, 25.85061]\n",
      "filterCatalogSalesWhereYearAfter2000 | node_14 durations: [26.891188, 28.795038, 24.684579, 28.933155, 29.748276, 26.891679, 26.731212, 25.010384, 26.741359, 25.786857, 28.808846, 27.849488, 25.789243, 27.838396, 26.896155, 25.792484, 26.719847, 27.831078, 26.740523, 28.787663, 24.702004, 25.789858, 27.986612, 27.830858, 25.781677]\n",
      "filterCatalogSalesWhereYearAfter2000 | node_15 durations: [26.701322, 28.75836, 24.654709, 28.90987, 29.7014, 26.867489, 26.722342, 24.995449, 26.711637, 25.602707, 28.752232, 27.654076, 25.606612, 27.648652, 26.859856, 25.607937, 26.706434, 27.659735, 26.711599, 28.761379, 24.670497, 25.607695, 27.841805, 27.645512, 25.605435]\n",
      "filterCatalogSalesWhereYearAfter2000 | node_16 durations: [26.604424, 28.68947, 24.599054, 28.789745, 29.627455, 26.76968, 26.60614, 24.900183, 26.553366, 25.621258, 28.694477, 27.547588, 25.518948, 27.542978, 26.762517, 25.637471, 26.599455, 27.491492, 26.622803, 28.653262, 24.591153, 25.544654, 27.850909, 27.595158, 25.566994]\n",
      "filterCatalogSalesWhereYearAfter2000 | node_17 durations: [26.467114, 28.468131, 24.523021, 28.685792, 29.610061, 26.620317, 26.466395, 24.605709, 26.463441, 25.415667, 28.48569, 27.598714, 25.528718, 27.450257, 26.574399, 25.531312, 26.516186, 27.553569, 26.509581, 28.496919, 24.45272, 25.472279, 27.658223, 27.499395, 25.524012]\n",
      "filterCatalogSalesWhereYearAfter2000 | node_18 durations: [26.410125, 28.451057, 24.356116, 28.602056, 29.372647, 26.573263, 26.397725, 24.521021, 26.428262, 25.447914, 28.435776, 27.500072, 25.324529, 27.33526, 26.548282, 25.451954, 26.395281, 27.337242, 26.393262, 28.456671, 24.344304, 25.446247, 27.648313, 27.33712, 25.29867]\n",
      "filterCatalogSalesWhereYearAfter2000 | node_19 durations: [26.274515, 28.287273, 24.354115, 28.429071, 29.375003, 26.403656, 26.234002, 24.35351, 26.395029, 25.291877, 28.279028, 27.341379, 25.296017, 27.378036, 26.391582, 25.33108, 26.277168, 27.332858, 26.237208, 28.327488, 24.206379, 25.300146, 27.49582, 27.333392, 25.330694]\n",
      "filterStoreSalesWhereProfitNegative | node_11 durations: [27.993126, 27.197061, 27.040054, 27.072203, 27.039415, 32.239611, 28.159384, 28.007475, 27.043574, 32.24364, 29.104369, 27.155027, 28.134108, 27.032143, 27.039349, 33.175843, 26.248262, 27.032347, 29.24255, 27.984266, 34.282168, 27.040786, 28.303396, 28.144192, 28.144049]\n",
      "filterStoreSalesWhereProfitNegative | node_12 durations: [27.911392, 27.096739, 26.985246, 26.931162, 26.938128, 32.219465, 28.014693, 28.024039, 26.936257, 32.219169, 28.975311, 26.939196, 28.028245, 26.936562, 26.931177, 32.996657, 26.081033, 26.933811, 29.118473, 27.88375, 34.250714, 26.934829, 28.181315, 28.027243, 28.034065]\n",
      "filterStoreSalesWhereProfitNegative | node_13 durations: [27.889793, 27.10627, 26.96013, 26.946416, 26.952748, 32.076493, 27.931897, 27.878148, 26.866724, 32.08147, 28.821469, 26.856143, 27.888195, 26.955197, 26.796342, 32.953909, 26.009713, 26.783568, 29.131503, 27.932873, 34.109372, 26.794806, 28.042524, 28.041508, 27.942702]\n",
      "filterStoreSalesWhereProfitNegative | node_14 durations: [27.677618, 26.895328, 26.730553, 26.732206, 26.730866, 31.896404, 27.835305, 27.837164, 26.733562, 32.044437, 28.78274, 26.7395, 27.841489, 26.736628, 26.729779, 32.867491, 25.945577, 26.743598, 28.973184, 27.717649, 34.007381, 26.740641, 28.004981, 27.842177, 27.850168]\n",
      "filterStoreSalesWhereProfitNegative | node_15 durations: [27.69444, 26.86798, 26.708871, 26.706642, 26.722535, 31.89547, 27.665283, 27.652651, 26.718344, 31.897819, 28.63404, 26.714566, 27.821763, 26.711968, 26.702188, 32.633354, 25.765038, 26.718138, 28.914278, 27.653117, 33.761632, 26.710758, 27.849084, 27.850403, 27.677868]\n",
      "filterStoreSalesWhereProfitNegative | node_16 durations: [27.563814, 26.668125, 26.53561, 26.60935, 26.653708, 31.748214, 27.701695, 27.538278, 26.503767, 31.757108, 28.641429, 26.60321, 27.70399, 26.528085, 26.518171, 32.681906, 25.678977, 26.499899, 28.702337, 27.548899, 33.627903, 26.611496, 27.860998, 27.74991, 27.551313]\n",
      "filterStoreSalesWhereProfitNegative | node_17 durations: [27.395668, 26.609603, 26.459592, 26.50096, 26.535904, 31.742284, 27.547251, 27.454238, 26.461169, 31.753897, 28.550707, 26.45795, 27.62423, 26.456956, 26.458064, 32.541634, 25.56835, 26.461115, 28.644027, 27.55682, 33.468843, 26.501553, 27.758907, 27.555187, 27.55789]\n",
      "filterStoreSalesWhereProfitNegative | node_18 durations: [27.338295, 26.581361, 26.385082, 26.398966, 26.39307, 31.581788, 27.494164, 27.335823, 26.394703, 31.577603, 28.442661, 26.396183, 27.448758, 26.336547, 26.40371, 32.361745, 25.61362, 26.390736, 28.589919, 27.338542, 33.466307, 26.427893, 27.656927, 27.500366, 27.342026]\n",
      "filterStoreSalesWhereProfitNegative | node_19 durations: [27.337524, 26.389024, 26.386605, 26.23732, 26.227062, 31.422844, 27.342351, 27.335933, 26.234823, 31.264587, 28.28439, 26.238352, 27.333886, 26.241273, 26.271321, 32.364495, 25.448029, 26.260278, 28.44471, 27.343651, 33.309421, 26.236462, 27.504588, 27.504929, 27.341514]\n"
     ]
    }
   ],
   "source": [
    "preprocess_selected_function(function_names[8:12], workers_summary)"
   ],
   "metadata": {
    "collapsed": false,
    "pycharm": {
     "name": "#%%\n"
    }
   }
  },
  {
   "cell_type": "code",
   "execution_count": 18,
   "outputs": [
    {
     "data": {
      "text/plain": "5074895"
     },
     "execution_count": 18,
     "metadata": {},
     "output_type": "execute_result"
    }
   ],
   "source": [
    "gc.collect()"
   ],
   "metadata": {
    "collapsed": false,
    "pycharm": {
     "name": "#%%\n"
    }
   }
  },
  {
   "cell_type": "code",
   "execution_count": 19,
   "outputs": [
    {
     "name": "stdout",
     "output_type": "stream",
     "text": [
      "filterStoreSalesWhereProfitNegativeAndYearAfter2000 | node_11 durations: [33.456209, 32.386506, 38.364144, 30.336481, 37.25829, 34.269387, 38.237914, 36.317637, 32.1851, 31.138678, 31.261796, 32.063719, 33.487978, 32.514028, 33.298407, 32.08175, 30.181976, 38.520632, 37.281671, 38.212929, 33.163853, 33.144335, 39.472273, 32.237299, 31.131474]\n",
      "filterStoreSalesWhereProfitNegativeAndYearAfter2000 | node_12 durations: [33.160799, 32.232547, 38.278497, 30.200082, 37.041876, 34.246617, 38.133922, 36.225155, 32.077935, 30.999419, 31.235241, 32.025622, 33.461934, 32.382556, 33.174391, 32.029682, 30.051129, 38.447727, 37.198379, 38.120634, 32.980677, 32.998416, 39.465482, 32.0344, 30.976682]\n",
      "filterStoreSalesWhereProfitNegativeAndYearAfter2000 | node_13 durations: [33.082126, 32.051496, 38.162721, 30.166782, 37.067583, 34.099641, 38.001646, 36.192089, 32.087338, 31.002177, 31.153855, 31.936326, 33.295259, 32.391349, 33.040502, 31.882302, 29.914336, 38.317837, 37.186239, 38.012409, 32.878101, 33.010955, 39.417666, 31.934629, 30.996732]\n",
      "filterStoreSalesWhereProfitNegativeAndYearAfter2000 | node_14 durations: [32.896628, 31.92982, 38.048608, 30.043016, 36.96036, 33.968398, 37.908088, 36.015727, 31.937631, 30.83522, 30.979184, 31.772638, 33.186091, 32.242561, 32.913733, 31.774158, 29.886682, 38.196572, 36.951216, 37.947692, 32.867092, 32.870838, 39.199852, 31.924993, 30.823223]\n",
      "filterStoreSalesWhereProfitNegativeAndYearAfter2000 | node_15 durations: [32.847782, 31.895036, 38.034916, 29.86323, 36.765971, 33.941156, 37.728114, 35.999239, 31.903788, 30.840757, 30.958486, 31.756685, 33.003429, 32.065643, 32.859134, 31.739623, 29.725903, 38.076102, 36.939512, 37.71619, 32.68609, 32.839454, 39.184431, 31.749296, 30.798107]\n",
      "filterStoreSalesWhereProfitNegativeAndYearAfter2000 | node_16 durations: [32.673978, 31.828068, 37.937395, 29.870819, 36.719463, 33.720167, 37.651164, 35.791004, 31.751614, 30.654839, 30.812854, 31.693828, 32.880134, 32.051159, 32.844165, 31.578322, 29.731402, 38.008879, 36.876338, 37.665531, 32.676869, 32.61809, 39.061762, 31.737698, 30.654865]\n",
      "filterStoreSalesWhereProfitNegativeAndYearAfter2000 | node_17 durations: [32.694688, 31.642026, 37.810094, 29.71717, 36.527011, 33.766747, 37.655482, 35.792023, 31.742994, 30.512264, 30.700161, 31.602574, 32.69737, 31.859569, 32.691138, 31.59833, 29.544004, 37.977337, 36.718709, 37.668595, 32.501867, 32.53234, 38.912076, 31.536437, 30.601677]\n",
      "filterStoreSalesWhereProfitNegativeAndYearAfter2000 | node_18 durations: [32.526488, 31.573131, 37.702234, 29.687142, 36.450376, 33.624448, 37.539971, 35.659537, 31.573671, 30.483397, 30.632302, 31.413918, 32.680516, 31.887044, 32.687304, 31.416605, 29.534462, 37.872375, 36.602329, 37.55021, 32.518804, 32.517959, 38.807788, 31.422658, 30.449325]\n",
      "filterStoreSalesWhereProfitNegativeAndYearAfter2000 | node_19 durations: [32.382135, 31.268419, 37.549049, 29.510883, 36.448213, 33.460886, 37.390141, 35.351669, 31.446596, 30.326349, 30.321477, 31.416682, 32.532093, 31.753102, 32.529838, 31.422992, 29.384995, 37.552894, 36.607478, 37.406267, 32.369916, 32.363963, 38.807748, 31.433078, 30.31676]\n",
      "filterStoreSalesWhereYearAfter2000 | node_11 durations: [32.082364, 28.144795, 28.299641, 31.138638, 30.038247, 29.080253, 31.127555, 29.079157, 30.189506, 29.083224, 30.032997, 31.140384, 30.347696, 29.120219, 31.139687, 29.238882, 29.084853, 29.086249, 33.175359, 29.089282, 32.075528, 35.225899, 29.089798, 29.245066, 28.148066]\n",
      "filterStoreSalesWhereYearAfter2000 | node_12 durations: [32.072403, 28.034617, 28.130995, 30.97921, 30.04693, 28.950591, 31.023581, 29.051075, 30.051077, 29.019837, 29.902425, 30.996053, 30.209827, 28.956215, 31.131848, 29.270961, 28.924879, 29.088529, 33.003338, 29.00467, 32.063029, 35.026608, 29.105733, 29.11067, 28.021903]\n",
      "filterStoreSalesWhereYearAfter2000 | node_13 durations: [31.922868, 28.048955, 28.034247, 30.991286, 29.840965, 28.956937, 30.985545, 28.960867, 29.9063, 28.974249, 29.919881, 31.008412, 30.21586, 28.960047, 30.988216, 29.145728, 28.820422, 28.971564, 33.018576, 28.96894, 31.878094, 35.036318, 28.968452, 29.124376, 27.887074]\n",
      "filterStoreSalesWhereYearAfter2000 | node_14 durations: [31.911245, 27.842279, 27.98688, 30.872735, 29.875198, 28.772403, 30.832775, 28.777234, 29.876833, 28.769347, 29.751859, 30.879813, 30.060944, 28.775274, 30.817815, 28.932755, 28.78214, 28.783789, 32.891922, 28.773379, 31.923899, 34.797441, 28.775896, 28.935812, 27.845221]\n",
      "filterStoreSalesWhereYearAfter2000 | node_15 durations: [31.738218, 27.832482, 27.809504, 30.794249, 29.686087, 28.747505, 30.793947, 28.747772, 29.689242, 28.75293, 29.700151, 30.650034, 29.855394, 28.754154, 30.789338, 28.934854, 28.621524, 28.785751, 32.836634, 28.749686, 31.750038, 34.729179, 28.747176, 28.899724, 27.648778]\n",
      "filterStoreSalesWhereYearAfter2000 | node_16 durations: [31.583868, 27.637888, 27.855517, 30.670935, 29.568113, 28.63798, 30.65469, 28.682472, 29.557796, 28.624745, 29.538267, 30.665314, 29.882133, 28.627051, 30.651662, 28.785544, 28.64388, 28.648931, 32.735522, 28.638429, 31.583146, 34.703421, 28.689859, 28.725102, 27.652007]\n",
      "filterStoreSalesWhereYearAfter2000 | node_17 durations: [31.564773, 27.558221, 27.65939, 30.530632, 29.576471, 28.575642, 30.501686, 28.483491, 29.52888, 28.479585, 29.474071, 30.520553, 29.731381, 28.485441, 30.627679, 28.742763, 28.490776, 28.484788, 32.546963, 28.598351, 31.598819, 34.624191, 28.478572, 28.647585, 27.565189]\n",
      "filterStoreSalesWhereYearAfter2000 | node_18 durations: [31.427874, 27.504558, 27.508115, 30.482676, 29.390359, 28.446097, 30.511485, 28.443838, 29.385422, 28.441311, 29.390523, 30.518335, 29.702081, 28.460296, 30.491029, 28.593346, 28.451151, 28.441497, 32.53758, 28.436369, 31.435569, 34.411464, 28.459556, 28.609817, 27.340892]\n",
      "filterStoreSalesWhereYearAfter2000 | node_19 durations: [31.266193, 27.345063, 27.505483, 30.339914, 29.388909, 28.300818, 30.379608, 28.277475, 29.379999, 28.303047, 29.234541, 30.332688, 29.388074, 28.281828, 30.327555, 28.596236, 28.291622, 28.284958, 32.374685, 28.265871, 31.427006, 34.421396, 28.285201, 28.432031, 27.326882]\n",
      "maxNetProfitGroupedBySoldDate | node_11 durations: [120.129805, 82.721816, 89.788926, 89.004739, 85.700383, 123.28888, 87.109841, 87.75064, 87.94559, 87.739998, 111.175981, 90.295725, 95.131232, 82.857193, 88.04648, 87.104617, 123.116247, 86.791823, 89.768275, 85.788026, 83.792712, 81.760442, 88.92599, 86.95265, 118.23188]\n",
      "maxNetProfitGroupedBySoldDate | node_12 durations: [119.96262, 82.693259, 89.650093, 89.035633, 85.732536, 123.230492, 86.958422, 87.750078, 87.909916, 87.709881, 111.089874, 90.246405, 95.053951, 82.668927, 87.904797, 86.931211, 123.056337, 86.687311, 89.615223, 85.567905, 83.686606, 81.568986, 88.863765, 86.827371, 118.106506]\n",
      "maxNetProfitGroupedBySoldDate | node_13 durations: [119.900847, 82.49667, 89.681444, 88.910337, 85.613326, 123.145259, 86.850761, 87.636307, 87.793734, 87.653398, 110.998265, 90.127085, 94.833244, 82.655144, 87.812554, 86.88018, 122.960999, 86.636001, 89.521189, 85.599029, 83.58819, 81.560846, 88.720504, 86.711106, 118.021123]\n",
      "maxNetProfitGroupedBySoldDate | node_14 durations: [119.75792, 82.404113, 89.440456, 88.709917, 85.553346, 123.004708, 86.815815, 87.441605, 87.614297, 87.451708, 110.85728, 89.800121, 94.836727, 82.560903, 87.753103, 86.813876, 122.818783, 86.486527, 89.495141, 85.392433, 83.466841, 81.470825, 88.693941, 86.660905, 117.898479]\n",
      "maxNetProfitGroupedBySoldDate | node_15 durations: [119.712065, 82.330782, 89.414006, 88.610909, 85.318299, 122.872862, 86.731526, 87.363232, 87.513503, 87.358628, 110.764536, 89.818936, 94.750621, 82.331778, 87.67043, 86.572791, 122.742062, 86.415152, 89.409538, 85.317035, 83.42938, 81.386319, 88.606212, 86.575916, 117.843579]\n",
      "maxNetProfitGroupedBySoldDate | node_16 durations: [119.617042, 82.283126, 89.276974, 88.529361, 85.255345, 122.897385, 86.657784, 87.270017, 87.483083, 87.300183, 110.638766, 89.639648, 94.599494, 82.308843, 87.421335, 86.498289, 122.584327, 86.330135, 89.29224, 85.292547, 83.223572, 81.198153, 88.524429, 86.478259, 117.740137]\n",
      "maxNetProfitGroupedBySoldDate | node_17 durations: [119.481704, 82.158602, 89.163096, 88.388066, 85.244258, 122.585344, 86.518764, 87.215748, 87.152396, 87.139556, 110.614276, 89.623321, 94.499643, 82.163246, 87.461295, 86.500466, 122.597566, 86.202155, 89.15397, 85.10358, 83.250763, 81.072332, 88.367513, 86.340853, 117.60508]\n",
      "maxNetProfitGroupedBySoldDate | node_18 durations: [119.428445, 82.134824, 89.11179, 88.315195, 85.023627, 122.407248, 86.426216, 87.159661, 87.067003, 87.056865, 110.475717, 89.42798, 94.451873, 82.182595, 87.230853, 86.26715, 122.420233, 86.117348, 89.095769, 85.02013, 83.140061, 81.095143, 88.332097, 86.267774, 117.541688]\n",
      "maxNetProfitGroupedBySoldDate | node_19 durations: [119.403401, 82.02969, 89.097061, 88.159735, 85.000297, 122.414557, 86.349149, 87.056406, 87.073715, 87.058314, 110.274755, 89.414152, 94.276759, 82.010212, 87.214708, 86.264289, 122.400095, 85.956972, 88.929436, 85.007142, 82.97652, 80.863283, 88.152373, 86.208084, 117.228838]\n",
      "maxNetProfitGroupedBySoldDateWhereProfitNegative | node_11 durations: [109.075784, 81.837138, 81.682067, 112.042808, 78.843654, 78.683887, 87.981573, 85.772667, 79.009644, 81.657025, 79.778931, 113.471097, 81.089229, 107.342561, 81.695061, 79.782955, 84.95342, 76.692336, 81.850847, 84.823597, 78.859151, 81.678477, 118.348288, 79.160072, 78.840632]\n",
      "maxNetProfitGroupedBySoldDateWhereProfitNegative | node_12 durations: [109.084125, 81.85355, 81.543029, 112.052047, 78.730064, 78.623893, 87.908331, 85.733872, 78.789377, 81.553954, 79.679281, 113.443334, 80.919603, 107.217722, 81.702991, 79.672821, 84.813829, 76.493074, 81.84862, 84.808707, 78.74465, 81.555003, 118.175265, 79.04398, 78.743149]\n",
      "maxNetProfitGroupedBySoldDateWhereProfitNegative | node_13 durations: [108.986692, 81.740382, 81.582757, 111.853714, 78.616747, 78.490314, 87.795986, 85.592557, 78.794477, 81.464683, 79.456958, 113.381356, 80.793306, 107.108353, 81.637664, 79.542945, 84.533475, 76.447946, 81.681854, 84.681274, 78.622889, 81.57961, 118.154546, 78.934362, 78.649987]\n",
      "maxNetProfitGroupedBySoldDateWhereProfitNegative | node_14 durations: [108.853254, 81.652708, 81.441623, 111.824998, 78.494227, 78.33926, 87.799973, 85.525717, 78.652102, 81.494657, 79.429675, 113.156712, 80.703624, 107.087283, 81.487257, 79.463389, 84.466436, 76.287931, 81.647373, 84.582715, 78.623982, 81.322705, 118.026608, 78.765645, 78.4957]\n",
      "maxNetProfitGroupedBySoldDateWhereProfitNegative | node_15 durations: [108.700066, 81.462201, 81.310557, 111.648533, 78.324766, 78.316028, 87.587171, 85.396555, 78.635065, 81.296125, 79.260379, 113.212327, 80.670838, 106.933011, 81.413279, 79.263211, 84.286336, 76.271414, 81.537768, 84.444771, 78.468778, 81.285867, 117.932549, 78.779217, 78.467123]\n",
      "maxNetProfitGroupedBySoldDateWhereProfitNegative | node_16 durations: [108.741396, 81.373388, 81.226669, 111.541779, 78.2639, 78.256376, 87.588135, 85.266888, 78.420138, 81.223042, 79.201396, 113.092937, 80.596203, 106.776759, 81.215297, 79.200818, 84.325376, 76.098197, 81.38919, 84.324229, 78.420701, 81.217419, 117.778036, 78.569382, 78.333632]\n",
      "maxNetProfitGroupedBySoldDateWhereProfitNegative | node_17 durations: [108.628124, 81.410893, 81.116913, 111.404315, 78.148073, 78.10757, 87.462535, 85.277829, 78.425147, 81.089674, 79.223261, 112.958102, 80.438298, 106.752029, 81.083152, 79.068102, 84.177748, 76.10022, 81.392139, 84.214076, 78.282867, 81.088129, 117.659464, 78.450596, 78.267029]\n",
      "maxNetProfitGroupedBySoldDateWhereProfitNegative | node_18 durations: [108.506485, 81.285717, 80.994125, 111.335827, 78.079814, 78.019155, 87.269469, 85.08083, 78.161203, 81.138033, 79.093547, 112.892149, 80.348544, 106.618486, 80.992975, 79.111422, 84.125772, 75.956726, 81.143946, 84.129749, 78.151098, 81.086306, 117.616474, 78.314535, 78.158428]\n",
      "maxNetProfitGroupedBySoldDateWhereProfitNegative | node_19 durations: [108.233982, 81.219047, 80.903628, 111.225572, 78.077141, 77.918891, 87.17182, 85.00198, 77.999229, 81.049774, 78.940284, 112.646228, 80.27517, 106.511732, 80.908538, 79.016663, 83.896311, 75.878055, 81.070354, 84.055731, 77.886766, 80.90425, 117.51852, 78.118381, 78.072595]\n"
     ]
    }
   ],
   "source": [
    "preprocess_selected_function(function_names[12:16], workers_summary)"
   ],
   "metadata": {
    "collapsed": false,
    "pycharm": {
     "name": "#%%\n"
    }
   }
  },
  {
   "cell_type": "code",
   "execution_count": 20,
   "outputs": [
    {
     "data": {
      "text/plain": "4954801"
     },
     "execution_count": 20,
     "metadata": {},
     "output_type": "execute_result"
    }
   ],
   "source": [
    "gc.collect()"
   ],
   "metadata": {
    "collapsed": false,
    "pycharm": {
     "name": "#%%\n"
    }
   }
  },
  {
   "cell_type": "code",
   "execution_count": 21,
   "outputs": [
    {
     "name": "stdout",
     "output_type": "stream",
     "text": [
      "Error: ./../2GB-9N-spark-listener/preprocessed-data/workers-mean-data/maxNetProfitGroupedBySoldDateWhereYearAfter2000 - Nie można utworzyć pliku, który już istnieje.\n",
      "Error: ./../2GB-9N-spark-listener/node_11/maxNetProfitGroupedBySoldDateWhereYearAfter2000/plots - Nie można utworzyć pliku, który już istnieje.\n",
      "Error: ./../2GB-9N-spark-listener/node_11/maxNetProfitGroupedBySoldDateWhereYearAfter2000/plots/RAM - Nie można utworzyć pliku, który już istnieje.\n",
      "Error: ./../2GB-9N-spark-listener/node_11/maxNetProfitGroupedBySoldDateWhereYearAfter2000/plots/CPU - Nie można utworzyć pliku, który już istnieje.\n",
      "maxNetProfitGroupedBySoldDateWhereYearAfter2000 | node_11 durations: [84.849998, 115.208797, 108.117614, 87.818043, 85.776212, 112.055034, 86.724388, 85.13967, 116.47636, 114.121416, 86.882428, 121.025179, 84.82125, 82.81113, 87.053021, 91.905391, 121.188667, 81.78957, 90.353062, 90.813751, 84.834962, 86.887392, 93.952202, 88.876801, 88.82284]\n",
      "maxNetProfitGroupedBySoldDateWhereYearAfter2000 | node_12 durations: [84.863284, 115.066226, 108.000457, 87.648965, 85.646173, 111.861546, 86.765929, 85.02078, 116.330505, 114.006718, 86.723008, 121.055603, 84.855455, 82.787797, 86.907502, 91.72923, 121.016412, 81.759228, 90.333404, 90.771094, 84.655868, 86.885329, 93.902718, 88.777002, 88.765069]\n",
      "maxNetProfitGroupedBySoldDateWhereYearAfter2000 | node_13 durations: [84.743203, 114.956302, 107.888216, 87.563647, 85.594895, 111.785119, 86.657301, 84.943174, 116.212284, 114.032315, 86.638466, 120.906814, 84.629045, 82.730408, 86.850205, 91.764202, 120.872452, 81.668776, 90.245296, 90.683074, 84.532605, 86.738218, 93.778299, 88.678735, 88.659346]\n",
      "maxNetProfitGroupedBySoldDateWhereYearAfter2000 | node_14 durations: [84.605107, 114.84598, 107.753615, 87.473079, 85.452868, 111.772348, 86.482082, 84.789543, 116.080446, 113.925777, 86.557271, 120.778314, 84.623227, 82.586819, 86.688648, 91.564461, 120.827151, 81.484865, 90.112922, 90.591565, 84.473062, 86.538304, 93.619465, 88.583555, 88.574272]\n",
      "maxNetProfitGroupedBySoldDateWhereYearAfter2000 | node_15 durations: [84.46282, 114.840786, 107.689046, 87.478937, 85.386462, 111.637072, 86.346162, 84.778204, 116.048508, 113.732454, 86.361028, 120.767935, 84.497412, 82.566462, 86.622583, 91.538114, 120.745618, 81.304885, 89.95142, 90.459699, 84.446668, 86.48552, 93.568285, 88.397959, 88.390082]\n",
      "maxNetProfitGroupedBySoldDateWhereYearAfter2000 | node_16 durations: [84.39246, 114.759857, 107.656509, 87.353011, 85.334435, 111.547136, 86.273938, 84.526891, 116.009597, 113.64246, 86.26535, 120.57773, 84.389406, 82.459348, 86.429108, 91.38507, 120.638334, 81.320519, 89.851146, 90.319284, 84.327073, 86.426688, 93.425084, 88.295459, 88.283047]\n",
      "maxNetProfitGroupedBySoldDateWhereYearAfter2000 | node_17 durations: [84.279921, 114.601451, 107.523125, 87.223134, 85.210204, 111.391394, 86.151746, 84.555066, 115.86204, 113.661969, 86.29895, 120.4327, 84.39556, 82.31584, 86.438631, 91.25392, 120.655683, 81.170159, 89.873278, 90.311204, 84.254906, 86.26786, 93.449113, 88.168084, 88.170584]\n",
      "maxNetProfitGroupedBySoldDateWhereYearAfter2000 | node_18 durations: [84.155927, 114.512615, 107.423064, 87.148774, 85.078109, 111.33205, 86.057577, 84.480059, 115.781396, 113.535875, 86.189685, 120.460117, 84.299371, 82.245144, 86.359848, 91.249227, 120.660128, 81.139033, 89.514247, 90.109283, 84.131957, 86.223517, 93.251877, 88.142145, 88.090267]\n",
      "maxNetProfitGroupedBySoldDateWhereYearAfter2000 | node_19 durations: [84.202126, 114.357121, 107.268459, 87.059871, 85.085083, 111.22653, 86.048882, 84.311451, 115.627268, 113.261367, 86.068463, 120.337713, 84.196978, 82.151388, 86.252882, 91.18982, 120.502479, 81.047162, 89.369509, 90.14173, 84.006507, 86.07882, 93.176016, 87.985592, 88.00556]\n",
      "maxWholeSaleCostGroupedBySoldDate | node_11 durations: [88.999356, 90.249373, 89.784557, 85.84954, 119.141096, 120.135708, 119.015771, 87.896103, 121.233968, 86.798811, 87.104546, 93.199964, 85.854932, 76.815603, 89.942153, 112.122172, 85.067467, 86.968969, 114.15399, 86.160648, 90.896525, 91.829698, 85.701991, 87.819246, 86.920179]\n",
      "maxWholeSaleCostGroupedBySoldDate | node_12 durations: [88.851674, 90.084449, 89.661277, 85.734525, 119.024772, 119.942207, 118.875296, 87.840687, 121.024829, 86.731409, 86.972326, 93.025752, 85.682171, 76.707136, 89.785026, 112.053716, 84.941861, 86.833288, 114.041808, 86.040598, 90.845841, 91.739821, 85.587459, 87.775868, 86.817059]\n",
      "maxWholeSaleCostGroupedBySoldDate | node_13 durations: [88.770122, 89.946095, 89.655451, 85.615304, 118.954793, 119.870845, 118.898074, 87.805283, 120.955092, 86.552454, 86.866458, 92.947688, 85.599368, 76.573684, 89.672059, 112.067956, 84.788459, 86.691943, 113.958521, 85.914532, 90.611215, 91.657482, 85.484686, 87.620938, 86.698802]\n",
      "maxWholeSaleCostGroupedBySoldDate | node_14 durations: [88.544864, 89.961388, 89.496677, 85.556573, 118.855268, 119.799904, 118.775675, 87.757582, 120.789043, 86.497221, 86.827575, 92.791182, 85.410052, 76.435524, 89.569519, 111.820599, 84.761315, 86.500862, 113.862792, 85.697715, 90.583288, 91.532016, 85.405288, 87.589155, 86.642888]\n",
      "maxWholeSaleCostGroupedBySoldDate | node_15 durations: [88.478248, 89.733381, 89.415279, 85.483645, 118.644225, 119.752057, 118.636006, 87.610762, 120.748931, 86.424442, 86.733693, 92.722534, 85.325554, 76.383672, 89.426166, 111.771282, 84.359433, 86.412912, 113.754304, 85.318341, 90.500573, 91.447194, 85.314179, 87.515659, 86.572084]\n",
      "maxWholeSaleCostGroupedBySoldDate | node_16 durations: [88.498538, 89.776073, 89.322188, 85.30094, 118.665518, 119.591799, 118.516954, 87.452307, 120.564917, 86.332588, 86.657489, 92.556378, 85.252784, 76.258227, 89.447524, 111.689609, 84.313338, 86.339716, 113.714791, 85.248435, 90.368966, 91.303665, 85.252116, 87.417603, 86.48337]\n",
      "maxWholeSaleCostGroupedBySoldDate | node_17 durations: [88.360149, 89.604935, 89.304998, 85.256436, 118.560043, 119.471437, 118.387268, 87.44427, 120.446582, 86.194772, 86.493225, 92.566605, 85.254964, 76.152295, 89.317981, 111.533026, 84.201468, 86.337633, 113.549119, 85.164588, 90.234609, 91.319679, 85.102383, 87.309386, 86.343067]\n",
      "maxWholeSaleCostGroupedBySoldDate | node_18 durations: [88.300311, 89.499609, 89.100686, 85.160761, 118.473064, 119.416806, 118.329311, 87.36809, 120.364092, 86.10608, 86.420279, 92.386625, 85.095883, 76.049764, 89.245127, 111.569166, 84.058452, 86.256787, 113.455343, 85.013958, 90.190678, 91.245713, 85.018998, 87.200768, 86.269407]\n",
      "maxWholeSaleCostGroupedBySoldDate | node_19 durations: [88.15033, 89.392352, 89.095448, 85.091879, 118.321956, 119.389898, 118.314139, 87.197085, 120.355093, 86.03911, 86.272482, 92.337035, 85.007668, 75.902061, 89.15855, 111.390192, 83.905143, 86.036349, 113.437516, 84.995327, 90.042128, 91.124496, 84.935272, 87.057949, 86.098805]\n",
      "minNetProfitGroupedBySoldDate | node_11 durations: [116.79402, 97.174836, 93.22949, 128.142043, 88.975048, 87.024158, 87.984271, 89.916908, 88.829976, 88.829122, 89.296224, 87.734242, 88.034606, 87.738563, 88.987876, 91.03713, 119.027119, 88.956043, 86.002413, 84.903806, 87.888475, 86.945421, 88.053408, 90.105207, 88.052632]\n",
      "minNetProfitGroupedBySoldDate | node_12 durations: [116.833345, 97.119643, 93.059858, 127.918336, 88.865313, 86.986797, 87.87152, 89.788412, 88.703168, 88.761433, 89.174032, 87.759976, 87.918781, 87.773204, 89.031185, 91.038114, 119.023744, 88.854635, 86.054257, 84.811111, 87.76424, 86.994827, 87.924659, 89.982066, 87.91631]\n",
      "minNetProfitGroupedBySoldDate | node_13 durations: [116.756985, 97.041925, 93.019102, 127.385865, 88.716438, 86.883881, 87.823874, 89.702735, 88.590887, 88.58913, 89.061269, 87.64702, 87.77228, 87.660952, 88.917999, 90.934955, 118.83759, 88.755117, 85.928933, 84.68086, 87.653627, 86.861421, 87.831334, 89.877638, 87.797903]\n",
      "minNetProfitGroupedBySoldDate | node_14 durations: [116.688339, 96.903203, 92.636515, 127.404682, 88.558578, 86.677346, 87.619386, 89.672039, 88.40708, 88.546833, 88.875953, 87.452515, 87.77343, 87.470953, 88.728404, 90.736276, 118.766787, 88.5696, 85.733415, 84.632627, 87.457328, 86.677018, 87.763727, 89.777451, 87.768507]\n",
      "minNetProfitGroupedBySoldDate | node_15 durations: [116.546838, 93.60371, 92.560368, 127.37756, 88.473767, 86.590876, 87.549304, 89.43019, 88.338197, 88.486621, 88.789348, 87.384483, 87.537276, 87.386964, 88.617924, 90.686741, 118.650728, 88.477504, 85.640018, 84.494669, 87.382198, 86.592434, 87.536342, 89.5877, 87.700946]\n",
      "minNetProfitGroupedBySoldDate | node_16 durations: [116.315226, 93.471042, 92.526266, 127.209367, 88.349678, 86.639727, 87.415294, 89.304684, 88.236565, 88.349622, 88.809425, 87.406277, 87.566084, 87.283069, 88.51828, 90.518354, 118.520906, 88.38628, 85.647046, 84.448048, 87.291917, 86.512092, 87.442559, 89.595785, 87.556567]\n",
      "minNetProfitGroupedBySoldDate | node_17 durations: [116.202219, 93.385208, 92.412053, 127.142664, 88.375158, 86.508368, 87.416377, 89.297848, 88.19491, 88.195433, 88.608343, 87.312637, 87.454284, 87.264837, 88.541976, 90.335937, 118.524683, 88.362235, 85.581989, 84.328234, 87.290083, 86.392779, 87.432084, 89.499588, 87.45012]\n",
      "minNetProfitGroupedBySoldDate | node_18 durations: [115.91398, 93.338862, 92.300078, 126.967509, 88.144909, 86.414068, 87.362956, 89.205588, 88.117377, 88.082855, 88.576464, 87.208023, 87.368326, 87.157216, 88.306987, 90.200258, 118.473063, 88.253151, 85.478812, 84.236126, 87.04848, 86.289486, 87.205128, 89.402615, 87.369897]\n",
      "minNetProfitGroupedBySoldDate | node_19 durations: [115.755068, 93.161964, 92.202457, 126.95052, 88.138354, 86.243024, 87.18865, 89.082921, 87.96625, 88.124413, 88.445785, 87.026956, 87.200918, 86.965656, 88.305632, 90.042589, 118.297541, 88.128522, 85.318046, 84.057394, 86.971148, 86.25105, 87.138808, 89.244196, 87.202005]\n",
      "minNetProfitGroupedBySoldDateWhereProfitNegative | node_11 durations: [113.042323, 89.939664, 84.00075, 85.875188, 113.053431, 77.754389, 109.277238, 76.586309, 76.824783, 112.109619, 111.943888, 84.206155, 80.658454, 80.822997, 83.651929, 82.757728, 110.997018, 78.930543, 88.993773, 83.855641, 78.705336, 73.751989, 115.09232, 112.422026, 110.329637]\n",
      "minNetProfitGroupedBySoldDateWhereProfitNegative | node_12 durations: [112.938967, 89.930502, 83.850063, 85.731029, 113.093645, 77.651759, 109.065224, 76.541348, 76.706574, 112.009658, 111.839179, 84.177863, 80.665421, 80.749623, 83.693029, 82.613708, 110.907092, 78.878922, 88.836696, 83.718337, 78.562318, 73.743603, 114.976708, 112.224012, 110.316587]\n",
      "minNetProfitGroupedBySoldDateWhereProfitNegative | node_13 durations: [112.837522, 89.808608, 83.736026, 85.615539, 112.9811, 77.518788, 108.999008, 76.471673, 76.587336, 111.93834, 111.728871, 84.050236, 80.483797, 80.638677, 83.577671, 82.491429, 110.828977, 78.710837, 88.731302, 83.575643, 78.4623, 73.634581, 114.868699, 112.210313, 110.183567]\n",
      "minNetProfitGroupedBySoldDateWhereProfitNegative | node_14 durations: [112.717845, 89.73519, 83.657861, 85.496282, 112.758593, 77.366891, 108.957829, 76.432608, 76.427567, 111.956565, 111.58385, 83.8122, 80.446424, 80.45062, 83.357405, 82.413011, 110.706407, 78.642197, 88.68658, 83.496908, 78.464934, 73.537729, 114.779073, 112.097745, 110.094473]\n",
      "minNetProfitGroupedBySoldDateWhereProfitNegative | node_15 durations: [112.65823, 89.580114, 83.587194, 85.476794, 112.788979, 77.288615, 108.879954, 76.322481, 76.352628, 111.719589, 111.560241, 83.756016, 80.296911, 80.29596, 83.275276, 82.280903, 110.586801, 78.634055, 88.579919, 83.427134, 78.248741, 73.371143, 114.652138, 112.045654, 109.985273]\n",
      "minNetProfitGroupedBySoldDateWhereProfitNegative | node_16 durations: [112.630651, 89.449707, 83.536005, 85.262701, 112.670036, 77.302104, 108.729861, 76.232708, 76.23016, 111.677827, 111.374786, 83.687538, 80.122196, 80.27517, 83.210265, 82.307383, 110.432445, 78.400579, 88.506678, 83.385793, 78.243176, 73.23853, 114.4942, 111.987461, 109.823508]\n",
      "minNetProfitGroupedBySoldDateWhereProfitNegative | node_17 durations: [112.521036, 89.455189, 83.384802, 85.272091, 112.471247, 77.18148, 108.611719, 76.087047, 76.10832, 111.560235, 111.2982, 83.564814, 80.141788, 80.154567, 83.101425, 82.160175, 110.434193, 78.420047, 88.371818, 83.239232, 78.141147, 73.280478, 114.383817, 111.849352, 109.838814]\n",
      "minNetProfitGroupedBySoldDateWhereProfitNegative | node_18 durations: [112.364999, 89.251931, 83.287295, 85.176361, 112.505663, 76.9809, 108.592067, 76.064571, 76.05919, 111.568864, 111.257151, 83.490164, 79.98044, 80.149736, 83.07055, 82.029893, 110.29831, 78.257997, 88.312373, 83.124364, 78.087374, 73.080052, 114.419353, 111.724826, 109.683831]\n",
      "minNetProfitGroupedBySoldDateWhereProfitNegative | node_19 durations: [112.196906, 89.273094, 83.141894, 85.022009, 112.319769, 76.849315, 108.444443, 75.909815, 76.055585, 111.257943, 111.116219, 83.435887, 79.843579, 79.993394, 82.976782, 82.039532, 110.155708, 78.123925, 88.150476, 83.080548, 77.94787, 73.080256, 114.258523, 111.570833, 109.536252]\n"
     ]
    }
   ],
   "source": [
    "preprocess_selected_function(function_names[16:20], workers_summary)"
   ],
   "metadata": {
    "collapsed": false,
    "pycharm": {
     "name": "#%%\n"
    }
   }
  },
  {
   "cell_type": "code",
   "execution_count": 22,
   "outputs": [
    {
     "data": {
      "text/plain": "4928965"
     },
     "execution_count": 22,
     "metadata": {},
     "output_type": "execute_result"
    }
   ],
   "source": [
    "gc.collect()"
   ],
   "metadata": {
    "collapsed": false,
    "pycharm": {
     "name": "#%%\n"
    }
   }
  },
  {
   "cell_type": "code",
   "execution_count": 23,
   "outputs": [
    {
     "name": "stdout",
     "output_type": "stream",
     "text": [
      "Error: ./../2GB-9N-spark-listener/preprocessed-data/workers-mean-data/minNetProfitGroupedBySoldDateWhereYearAfter2000 - Nie można utworzyć pliku, który już istnieje.\n",
      "Error: ./../2GB-9N-spark-listener/node_11/minNetProfitGroupedBySoldDateWhereYearAfter2000/plots - Nie można utworzyć pliku, który już istnieje.\n",
      "Error: ./../2GB-9N-spark-listener/node_11/minNetProfitGroupedBySoldDateWhereYearAfter2000/plots/RAM - Nie można utworzyć pliku, który już istnieje.\n",
      "Error: ./../2GB-9N-spark-listener/node_11/minNetProfitGroupedBySoldDateWhereYearAfter2000/plots/CPU - Nie można utworzyć pliku, który już istnieje.\n",
      "minNetProfitGroupedBySoldDateWhereYearAfter2000 | node_11 durations: [87.820386, 99.011105, 88.103636, 91.941617, 87.829076, 85.157592, 113.015655, 85.89536, 82.779566, 88.014497, 87.047204, 85.811936, 94.929443, 88.773712, 83.888772, 95.878417, 84.824949, 114.130258, 93.18397, 119.309947, 88.915068, 84.829717, 87.056774, 122.137603, 122.177823]\n",
      "minNetProfitGroupedBySoldDateWhereYearAfter2000 | node_12 durations: [87.723077, 98.882557, 88.02181, 91.722395, 87.828773, 85.026284, 112.909975, 85.827819, 82.665541, 87.835489, 86.901358, 85.647952, 94.748152, 88.737296, 83.790518, 95.915884, 84.837198, 113.983311, 92.958357, 119.240465, 88.753068, 84.595607, 87.021704, 122.055508, 122.118952]\n",
      "minNetProfitGroupedBySoldDateWhereYearAfter2000 | node_13 durations: [87.72009, 98.777148, 88.043948, 91.638697, 87.755066, 84.924924, 112.771528, 85.727364, 82.585861, 87.872816, 86.624725, 85.54209, 94.707476, 88.608608, 83.66518, 95.754122, 84.691325, 113.857875, 92.897406, 119.161947, 88.654556, 84.612803, 86.972905, 121.828101, 121.968343]\n",
      "minNetProfitGroupedBySoldDateWhereYearAfter2000 | node_14 durations: [87.496183, 98.653737, 87.925051, 91.563438, 87.609674, 84.834691, 112.788975, 85.585989, 82.422645, 87.760878, 86.517355, 85.565712, 94.695804, 88.588227, 83.531606, 95.674218, 84.605174, 113.752272, 92.819165, 119.025465, 88.604382, 84.511683, 86.843072, 121.773152, 121.874884]\n",
      "minNetProfitGroupedBySoldDateWhereYearAfter2000 | node_15 durations: [87.455203, 98.618343, 87.767617, 91.526483, 87.456061, 84.752768, 112.607358, 85.54074, 82.404345, 87.603751, 86.348685, 85.384696, 94.499283, 88.382262, 83.340739, 95.610228, 84.446404, 113.784986, 92.655557, 118.903134, 88.526843, 84.430477, 86.783844, 121.679004, 121.880928]\n",
      "minNetProfitGroupedBySoldDateWhereYearAfter2000 | node_16 durations: [87.322202, 98.427415, 87.668527, 91.331117, 87.388016, 84.554839, 112.550632, 85.493139, 82.296453, 87.515999, 86.269247, 85.337079, 94.490835, 88.287799, 83.246668, 95.438107, 84.484041, 113.645274, 92.652145, 118.776022, 88.418125, 84.392174, 86.580649, 121.574748, 121.740834]\n",
      "minNetProfitGroupedBySoldDateWhereYearAfter2000 | node_17 durations: [87.194508, 98.425924, 87.525649, 91.254657, 87.38728, 84.579497, 112.416544, 85.336838, 82.255147, 87.367287, 86.251897, 85.175794, 94.378477, 88.307182, 83.2418, 95.435269, 84.343928, 113.540584, 92.496633, 118.658437, 88.296576, 84.243689, 86.620465, 121.463593, 121.736473]\n",
      "minNetProfitGroupedBySoldDateWhereYearAfter2000 | node_18 durations: [87.117919, 98.230933, 87.521951, 91.226759, 87.291614, 84.456737, 112.284301, 85.28346, 82.086503, 87.307532, 86.202579, 85.088514, 94.173911, 88.209439, 83.0382, 95.308379, 84.263354, 113.413524, 92.351205, 118.628227, 88.246926, 84.167948, 86.487633, 121.424557, 121.578611]\n",
      "minNetProfitGroupedBySoldDateWhereYearAfter2000 | node_19 durations: [87.134053, 98.18759, 87.343659, 91.11728, 87.135858, 84.351382, 112.19246, 85.158274, 82.0054, 87.206882, 86.082739, 84.994488, 94.111005, 88.12297, 82.949083, 95.212916, 84.051768, 113.272965, 92.375045, 118.457712, 88.134196, 84.069394, 86.22953, 121.281477, 121.445693]\n",
      "minWholeSaleCostGroupedBySoldDate | node_11 durations: [89.48643, 89.794184, 117.309719, 89.003408, 85.860807, 84.855926, 89.113368, 90.814279, 75.712203, 85.859823, 85.859637, 84.918487, 88.841459, 123.437025, 119.039964, 75.792891, 87.908905, 75.632707, 83.813922, 87.282445, 95.921343, 83.671393, 86.020638, 82.719522, 88.071956]\n",
      "minWholeSaleCostGroupedBySoldDate | node_12 durations: [89.308682, 89.648997, 117.155944, 88.875956, 85.743492, 84.797622, 88.99759, 90.717646, 75.614267, 85.743762, 85.88169, 84.813777, 88.803906, 123.230036, 119.036294, 75.649175, 87.732408, 75.619902, 83.699806, 87.131325, 95.732422, 83.572687, 85.89798, 82.607365, 87.912947]\n",
      "minWholeSaleCostGroupedBySoldDate | node_13 durations: [89.205123, 89.643993, 117.028705, 88.719878, 85.638979, 84.697462, 88.866042, 90.582804, 75.478581, 85.757743, 85.757622, 84.673128, 88.589794, 123.117249, 118.926315, 75.644026, 87.671955, 75.496492, 83.596554, 87.028168, 95.747682, 83.579122, 85.759194, 82.50757, 87.783038]\n",
      "minWholeSaleCostGroupedBySoldDate | node_14 durations: [89.178751, 89.483014, 117.013915, 88.657054, 85.517575, 84.608743, 88.8506, 90.544973, 75.329483, 85.563166, 85.551575, 84.632513, 88.54801, 123.146253, 118.868585, 75.49033, 87.529611, 75.328607, 83.512277, 86.960128, 95.603115, 83.36094, 85.710007, 82.39858, 87.705532]\n",
      "minWholeSaleCostGroupedBySoldDate | node_15 durations: [89.079948, 89.405108, 116.628337, 88.609977, 85.474417, 84.534951, 88.77914, 90.510025, 75.252277, 85.57318, 85.473634, 84.689269, 88.456707, 123.022243, 118.644605, 75.417812, 87.507912, 75.261898, 83.279618, 86.889556, 95.525852, 83.273953, 85.620933, 82.338988, 87.518699]\n",
      "minWholeSaleCostGroupedBySoldDate | node_16 durations: [88.988059, 89.282998, 116.563138, 88.524361, 85.416791, 84.454134, 88.671714, 90.377741, 75.138567, 85.411148, 85.432617, 84.476581, 88.368422, 122.886422, 118.666866, 75.29406, 87.437524, 75.128879, 83.222425, 86.791831, 95.406513, 83.239885, 85.42925, 82.28908, 87.46147]\n",
      "minWholeSaleCostGroupedBySoldDate | node_17 durations: [88.848808, 89.303828, 116.537644, 88.383027, 85.190079, 84.159397, 88.521115, 90.251035, 75.140267, 85.271745, 85.33142, 84.479527, 88.233697, 122.754924, 118.553403, 75.306053, 87.280555, 75.000714, 83.111964, 86.651245, 95.234384, 83.232703, 85.421122, 82.155015, 87.293501]\n",
      "minWholeSaleCostGroupedBySoldDate | node_18 durations: [88.780435, 89.092385, 116.43567, 88.314684, 85.167149, 84.072105, 88.429638, 90.207349, 74.977637, 85.180841, 85.164379, 84.393753, 88.15552, 122.731314, 118.481149, 75.103448, 87.209434, 74.957663, 82.983072, 86.593388, 95.238037, 83.129332, 85.266423, 82.031312, 87.218992]\n",
      "minWholeSaleCostGroupedBySoldDate | node_19 durations: [88.701382, 89.097406, 116.280968, 88.156086, 85.016908, 83.911494, 88.299419, 90.042365, 74.950026, 85.169599, 85.105737, 84.231009, 87.98723, 122.546116, 118.32967, 75.054063, 87.04806, 74.841157, 82.966773, 86.431884, 95.058893, 82.972554, 85.007425, 82.031466, 87.15968]\n",
      "summaryNetProfitGroupedBySoldDate | node_11 durations: [104.099574, 134.437374, 124.37024, 139.628252, 131.611315, 97.188393, 137.591807, 136.79525, 100.941548, 133.181316, 105.189192, 131.4308, 102.988401, 101.107714, 96.851321, 106.130431, 97.173618, 97.946683, 90.975129, 97.956759, 130.203662, 135.549333, 105.366956, 100.176583, 105.352668]\n",
      "summaryNetProfitGroupedBySoldDate | node_12 durations: [103.961374, 134.363691, 124.149573, 139.492737, 131.477768, 96.968395, 137.394951, 136.797729, 100.849728, 133.19613, 105.188162, 131.332437, 102.856313, 101.03117, 96.786724, 106.01279, 97.120648, 97.783965, 90.720812, 97.920394, 130.055176, 135.499022, 105.202963, 100.079706, 105.333899]\n",
      "summaryNetProfitGroupedBySoldDate | node_13 durations: [103.967598, 134.191442, 124.144051, 139.462763, 131.348997, 96.937281, 137.217543, 136.590865, 100.740869, 133.091953, 105.078366, 131.09906, 102.750159, 100.790364, 96.710216, 105.874304, 97.011243, 97.779423, 90.585253, 97.768119, 129.920178, 135.417199, 105.102722, 99.966912, 105.269169]\n",
      "summaryNetProfitGroupedBySoldDate | node_14 durations: [103.809927, 134.041133, 123.948034, 139.35923, 131.134422, 96.887716, 137.119382, 136.452535, 100.579491, 132.946027, 104.913758, 131.033115, 102.714722, 100.672343, 96.573183, 105.86725, 96.898603, 97.533929, 90.60295, 97.681783, 129.893278, 135.278889, 105.036023, 99.887594, 105.051058]\n",
      "summaryNetProfitGroupedBySoldDate | node_15 durations: [103.702745, 134.067109, 123.854517, 138.930426, 131.066658, 96.798251, 137.0494, 136.401905, 100.529809, 132.790968, 104.820696, 130.890026, 102.626978, 100.569042, 96.486456, 105.749834, 96.799913, 97.539272, 90.517824, 97.592533, 129.80895, 135.192394, 104.975876, 99.634014, 104.974888]\n",
      "summaryNetProfitGroupedBySoldDate | node_16 durations: [103.618137, 133.887597, 123.663252, 138.899778, 130.948155, 96.584249, 136.983378, 136.395039, 100.478882, 132.672107, 104.675992, 130.950558, 102.491092, 100.475574, 96.424799, 105.621793, 96.745645, 97.396158, 90.37612, 97.373345, 129.716364, 135.158495, 104.831635, 99.581113, 104.845729]\n",
      "summaryNetProfitGroupedBySoldDate | node_17 durations: [103.472834, 133.848983, 123.673154, 138.76565, 130.966498, 96.493212, 136.908279, 136.263118, 100.351715, 132.69293, 104.630342, 130.816453, 102.35412, 100.339198, 96.351157, 105.46963, 96.596203, 97.383941, 90.262346, 97.391151, 129.590792, 135.120505, 104.701099, 99.509924, 104.857217]\n",
      "summaryNetProfitGroupedBySoldDate | node_18 durations: [103.393063, 133.713159, 123.513185, 138.596641, 130.878231, 96.485814, 136.713315, 136.083409, 100.250108, 132.614962, 104.434516, 130.741233, 102.29606, 100.256943, 96.166585, 105.427054, 96.488885, 97.277451, 90.192556, 97.26043, 129.481209, 134.985299, 104.653331, 99.463645, 104.652289]\n",
      "summaryNetProfitGroupedBySoldDate | node_19 durations: [103.394763, 133.569767, 123.342007, 138.581866, 130.565821, 96.318079, 136.682744, 136.067048, 100.226824, 132.455249, 104.333723, 130.578419, 102.262832, 100.259117, 96.106497, 105.279521, 96.307318, 97.113567, 90.03908, 97.208269, 129.326797, 134.825077, 104.51074, 99.319835, 104.652162]\n",
      "summaryWholeSaleCostGroupedBySoldDate | node_11 durations: [92.947087, 97.179783, 125.463554, 102.995329, 102.197147, 99.045777, 110.390506, 102.241042, 97.025128, 100.938932, 101.405948, 99.270497, 100.154917, 103.338953, 101.110552, 104.091385, 97.021712, 98.943403, 134.298215, 99.211218, 102.038287, 97.019885, 105.182441, 102.02999, 103.170707]\n",
      "summaryWholeSaleCostGroupedBySoldDate | node_12 durations: [92.774487, 96.956899, 125.308651, 102.900934, 102.08938, 98.849627, 110.224168, 102.080103, 96.949972, 100.844207, 101.313373, 99.142662, 99.931203, 103.182543, 100.982504, 103.965104, 96.960364, 98.966803, 134.280779, 98.980672, 101.861404, 96.802381, 105.037435, 101.976316, 103.15418]\n",
      "summaryWholeSaleCostGroupedBySoldDate | node_13 durations: [92.783408, 96.987698, 125.252475, 102.788846, 101.95883, 98.73965, 110.223671, 101.914929, 96.831647, 100.744522, 101.122213, 99.034274, 99.959659, 103.089638, 100.71023, 103.84765, 96.853711, 98.879925, 134.186249, 98.92739, 101.804994, 96.685892, 104.975297, 101.820731, 103.058182]\n",
      "summaryWholeSaleCostGroupedBySoldDate | node_14 durations: [92.638919, 96.85173, 125.075935, 102.708996, 101.934015, 98.598569, 110.11655, 101.934858, 96.744134, 100.660042, 100.990627, 98.937008, 99.72078, 103.002974, 100.667773, 103.658784, 96.743613, 98.783199, 134.023217, 98.780072, 101.760698, 96.579967, 104.901925, 101.766992, 102.869718]\n",
      "summaryWholeSaleCostGroupedBySoldDate | node_15 durations: [92.528259, 96.668212, 124.943459, 102.620317, 101.846717, 98.52078, 110.033378, 101.689236, 96.669458, 100.587591, 100.898987, 98.863666, 99.651701, 102.940552, 100.592781, 103.564454, 96.760744, 98.708599, 133.975102, 98.68908, 101.697141, 96.467334, 104.831169, 101.692856, 102.797077]\n",
      "summaryWholeSaleCostGroupedBySoldDate | node_16 durations: [92.56623, 96.602129, 124.925582, 102.563018, 101.750423, 98.482532, 109.832438, 101.723253, 96.486922, 100.484757, 100.824343, 98.772309, 99.553675, 102.836061, 100.482205, 103.586717, 96.584096, 98.600582, 133.912613, 98.619762, 101.602716, 96.451411, 104.67587, 101.565674, 102.652322]\n",
      "summaryWholeSaleCostGroupedBySoldDate | node_17 durations: [92.401153, 96.494714, 124.768277, 102.509606, 101.740433, 98.344252, 109.824393, 101.592491, 96.431045, 100.345537, 100.694057, 98.661471, 99.56542, 102.68996, 100.346072, 103.433294, 96.491912, 98.508926, 133.764559, 98.506912, 101.443207, 96.368743, 104.553054, 101.42204, 102.587394]\n",
      "summaryWholeSaleCostGroupedBySoldDate | node_18 durations: [92.240612, 96.489659, 124.758611, 102.287462, 101.507345, 98.272258, 109.675079, 101.511918, 96.316389, 100.350504, 100.564017, 98.508198, 99.461358, 102.604282, 100.234991, 103.325762, 96.464606, 98.355568, 133.707768, 98.428296, 101.351637, 96.168647, 104.490677, 101.344475, 102.441401]\n",
      "summaryWholeSaleCostGroupedBySoldDate | node_19 durations: [92.241326, 96.323922, 124.592618, 102.283211, 101.496902, 98.169603, 109.58104, 101.355288, 96.153974, 100.24909, 100.55884, 98.51015, 99.297576, 102.452565, 100.191622, 103.204538, 96.321434, 98.209666, 133.549485, 98.356624, 101.192203, 96.152562, 104.342082, 101.260852, 102.411068]\n"
     ]
    }
   ],
   "source": [
    "preprocess_selected_function(function_names[20:24], workers_summary)"
   ],
   "metadata": {
    "collapsed": false,
    "pycharm": {
     "name": "#%%\n"
    }
   }
  },
  {
   "cell_type": "code",
   "execution_count": 24,
   "outputs": [
    {
     "data": {
      "text/plain": "4894528"
     },
     "execution_count": 24,
     "metadata": {},
     "output_type": "execute_result"
    }
   ],
   "source": [
    "gc.collect()"
   ],
   "metadata": {
    "collapsed": false,
    "pycharm": {
     "name": "#%%\n"
    }
   }
  },
  {
   "cell_type": "code",
   "execution_count": 25,
   "outputs": [
    {
     "name": "stdout",
     "output_type": "stream",
     "text": [
      "sumNetProfitGroupedBySoldDate | node_11 durations: [88.895613, 87.039433, 89.126693, 87.05643, 85.997258, 92.133115, 120.127847, 80.812335, 92.143445, 87.727376, 118.390503, 86.000002, 88.833154, 86.947033, 87.880881, 120.122965, 85.850513, 120.113647, 92.929046, 95.127782, 86.784819, 89.937894, 88.040155, 118.058631, 88.75969]\n",
      "sumNetProfitGroupedBySoldDate | node_12 durations: [88.692518, 86.823025, 88.995959, 87.009402, 85.879062, 91.962746, 119.963787, 80.690765, 91.978655, 87.61009, 118.235142, 85.754807, 88.69636, 86.918714, 87.760838, 120.093803, 85.728448, 120.096765, 92.878525, 95.056993, 86.689196, 89.898383, 87.905119, 117.942231, 88.672917]\n",
      "sumNetProfitGroupedBySoldDate | node_13 durations: [88.569822, 86.700003, 88.723672, 86.879191, 85.770188, 91.814271, 119.989233, 80.622306, 91.982863, 87.490574, 118.273662, 85.770296, 88.727613, 86.860366, 87.630607, 120.009109, 85.591965, 119.984602, 92.763987, 94.94743, 86.486976, 89.7988, 87.782641, 117.960212, 88.548786]\n",
      "sumNetProfitGroupedBySoldDate | node_14 durations: [88.535861, 86.655593, 88.708812, 86.804944, 85.700355, 91.683976, 119.817086, 80.513225, 91.834979, 87.424721, 118.041628, 85.555886, 88.503096, 86.664705, 87.545192, 119.857533, 85.393467, 119.836407, 92.635958, 94.824409, 86.496771, 89.635635, 87.585847, 117.788025, 88.523069]\n",
      "sumNetProfitGroupedBySoldDate | node_15 durations: [88.452713, 86.570968, 88.606945, 86.732893, 85.631802, 91.588441, 119.744104, 80.435769, 91.758837, 87.361975, 117.99789, 85.470714, 88.464817, 86.568969, 87.532658, 119.72471, 85.322858, 119.745166, 92.395095, 94.735042, 86.411801, 89.509794, 87.521588, 117.666614, 88.465583]\n",
      "sumNetProfitGroupedBySoldDate | node_16 durations: [88.375605, 86.477366, 88.506926, 86.634375, 85.410225, 91.632529, 119.622595, 80.283834, 91.633405, 87.276805, 117.930173, 85.40059, 88.357025, 86.504899, 87.438851, 119.615802, 85.256233, 119.620686, 92.393398, 94.721486, 86.197682, 89.468035, 87.436125, 117.608306, 88.363445]\n",
      "sumNetProfitGroupedBySoldDate | node_17 durations: [88.219613, 86.340225, 88.371015, 86.494673, 85.408161, 91.486608, 119.475268, 80.287478, 91.636042, 87.123856, 117.772291, 85.400033, 88.234961, 86.359468, 87.321691, 119.508651, 85.100745, 119.516843, 92.269372, 94.604092, 86.200527, 89.303075, 87.285466, 117.470635, 88.247406]\n",
      "sumNetProfitGroupedBySoldDate | node_18 durations: [88.153188, 86.262953, 88.318949, 86.418021, 85.32995, 91.398839, 119.430101, 80.134935, 91.541153, 87.045151, 117.699696, 85.257548, 88.151247, 86.358756, 87.246983, 119.393318, 85.0092, 119.396375, 92.180704, 94.222024, 86.116246, 89.210737, 87.142412, 117.36587, 88.153108]\n",
      "sumNetProfitGroupedBySoldDate | node_19 durations: [88.009956, 86.269562, 88.106055, 86.266819, 85.185984, 91.3033, 119.280476, 79.985746, 91.460379, 86.958458, 117.552491, 85.178023, 87.957751, 85.960727, 87.05891, 119.273899, 85.020215, 119.435618, 92.035881, 94.061934, 86.049003, 89.125581, 87.054824, 117.223176, 88.090886]\n",
      "sumNetProfitGroupedBySoldDateWhereProfitNegative | node_11 durations: [86.05074, 113.300356, 86.087383, 81.831302, 77.850656, 82.957527, 82.941677, 84.822096, 81.67445, 113.453635, 79.932943, 78.928923, 121.347668, 77.743639, 77.899617, 82.872086, 78.697948, 78.95611, 82.778453, 79.795356, 86.978669, 77.749042, 77.744301, 81.625958, 83.890704]\n",
      "sumNetProfitGroupedBySoldDateWhereProfitNegative | node_12 durations: [86.038487, 113.135738, 85.91801, 81.691354, 77.652062, 82.774667, 82.787788, 84.697209, 81.545683, 113.428673, 79.854826, 78.890098, 121.218525, 77.791243, 77.84193, 82.792461, 78.592786, 78.920896, 82.784626, 79.666816, 86.989612, 77.657409, 77.648571, 81.555595, 83.725161]\n",
      "sumNetProfitGroupedBySoldDateWhereProfitNegative | node_13 durations: [85.816523, 113.028007, 85.762349, 81.577885, 77.682096, 82.692933, 82.737366, 84.547412, 81.433552, 113.331487, 79.719838, 78.783282, 121.118054, 77.690529, 77.691248, 82.690447, 78.492032, 78.786316, 82.675786, 79.555713, 86.88203, 77.596022, 77.591569, 81.439605, 83.661487]\n",
      "sumNetProfitGroupedBySoldDateWhereProfitNegative | node_14 durations: [85.722961, 112.944192, 85.728284, 81.482128, 77.5609, 82.58264, 82.578579, 84.476189, 81.326691, 113.215148, 79.602629, 78.650298, 121.066942, 77.560083, 77.711209, 82.588187, 78.345206, 78.657423, 82.55722, 79.442746, 86.79565, 77.390043, 77.389834, 81.317415, 83.529641]\n",
      "sumNetProfitGroupedBySoldDateWhereProfitNegative | node_15 durations: [85.676091, 112.946588, 85.704319, 81.320967, 77.523661, 82.569244, 82.555508, 84.441515, 81.294863, 113.213068, 79.571516, 78.616585, 120.934413, 77.363617, 77.523515, 82.558587, 78.298568, 78.617006, 82.398742, 79.25324, 86.657803, 77.306936, 77.371369, 81.306705, 83.509918]\n",
      "sumNetProfitGroupedBySoldDateWhereProfitNegative | node_16 durations: [85.549663, 112.791847, 85.587541, 81.248323, 77.327402, 82.451266, 82.477835, 84.33474, 81.213832, 113.108471, 79.359718, 78.526387, 120.881652, 77.321956, 77.484577, 82.457263, 78.184824, 78.580969, 82.320503, 79.182009, 86.5044, 77.18011, 77.325532, 81.227874, 83.394802]\n",
      "sumNetProfitGroupedBySoldDateWhereProfitNegative | node_17 durations: [85.435374, 112.699106, 85.37278, 81.247321, 77.195323, 82.31103, 82.326558, 84.179358, 81.112143, 113.035893, 79.355483, 78.442663, 120.782204, 77.187353, 77.350284, 82.311589, 78.107694, 78.426621, 82.335923, 79.173945, 86.384153, 77.190404, 77.196658, 81.074597, 83.250237]\n",
      "sumNetProfitGroupedBySoldDateWhereProfitNegative | node_18 durations: [85.470475, 112.573613, 85.384386, 81.129053, 77.214117, 82.25668, 82.253777, 84.076315, 80.996722, 112.893957, 79.245866, 78.14713, 120.618164, 77.092524, 77.157528, 82.232097, 77.938065, 78.308891, 82.239302, 79.095716, 86.346255, 77.05538, 77.042772, 80.998782, 83.295607]\n",
      "sumNetProfitGroupedBySoldDateWhereProfitNegative | node_19 durations: [85.352972, 112.473486, 84.983472, 80.912601, 77.131099, 82.164189, 82.166148, 84.108339, 80.894929, 112.775995, 79.16477, 78.068149, 120.491368, 76.974203, 77.125741, 82.160357, 77.920171, 78.231644, 82.01262, 78.941537, 86.249114, 76.987361, 76.894038, 80.902143, 83.095144]\n",
      "sumNetProfitGroupedBySoldDateWhereYearAfter2000 | node_11 durations: [96.960936, 120.409584, 110.004315, 90.153669, 82.778547, 94.316172, 88.008212, 87.847407, 97.113313, 87.920603, 96.030516, 85.782834, 89.063379, 112.047231, 87.756129, 119.311541, 99.005147, 123.39719, 93.889545, 85.140701, 85.778272, 84.039841, 85.808569, 103.034833, 88.824484]\n",
      "sumNetProfitGroupedBySoldDateWhereYearAfter2000 | node_12 durations: [96.853096, 120.321424, 109.850779, 90.165526, 82.629558, 94.169389, 87.834714, 87.846246, 97.001259, 87.820502, 95.96669, 85.645603, 88.760108, 111.880741, 87.654779, 119.312297, 98.897836, 123.312146, 93.755834, 85.046715, 85.651178, 83.864567, 85.650668, 102.95205, 88.772871]\n",
      "sumNetProfitGroupedBySoldDateWhereYearAfter2000 | node_13 durations: [96.774758, 120.248774, 109.770224, 90.065846, 82.515558, 94.118058, 87.885613, 87.737708, 96.91547, 87.756708, 95.862497, 85.599554, 88.674815, 111.733889, 87.626544, 119.191748, 98.758878, 123.226496, 93.643077, 84.934975, 85.597803, 83.763986, 85.548053, 102.838759, 88.661998]\n",
      "sumNetProfitGroupedBySoldDateWhereYearAfter2000 | node_14 durations: [96.756949, 120.043999, 109.633752, 89.991823, 82.442003, 94.090938, 87.78055, 87.656733, 96.747434, 87.61591, 95.800045, 85.420145, 88.572696, 111.610576, 87.477744, 119.103318, 98.632434, 123.111507, 93.589231, 84.964391, 85.418224, 83.674648, 85.432388, 102.734369, 88.576152]\n",
      "sumNetProfitGroupedBySoldDateWhereYearAfter2000 | node_15 durations: [96.563857, 119.957837, 109.557436, 89.796723, 82.397583, 93.871121, 87.591527, 87.456503, 96.719928, 87.441532, 95.634635, 85.396783, 88.548752, 111.65761, 87.434547, 118.917497, 98.620359, 122.96213, 93.43566, 84.764404, 85.402474, 83.656788, 85.416773, 102.697055, 88.514476]\n",
      "sumNetProfitGroupedBySoldDateWhereYearAfter2000 | node_16 durations: [96.419121, 119.86576, 109.528494, 89.732201, 82.215044, 93.769724, 87.52595, 87.363305, 96.668991, 87.330496, 95.647015, 85.322434, 88.463407, 111.550241, 87.35163, 118.94184, 98.435506, 122.842415, 93.409571, 84.735185, 85.223095, 83.477016, 85.327953, 102.590061, 88.300519]\n",
      "sumNetProfitGroupedBySoldDateWhereYearAfter2000 | node_17 durations: [96.379558, 119.75107, 109.413755, 89.368745, 82.173841, 93.760775, 87.494043, 87.382398, 96.575329, 87.391988, 95.505471, 85.181109, 88.337341, 111.401549, 87.213954, 118.774918, 98.438406, 122.884135, 93.289843, 84.565391, 85.225793, 83.459008, 85.206009, 102.508205, 88.322106]\n",
      "sumNetProfitGroupedBySoldDateWhereYearAfter2000 | node_18 durations: [96.325353, 119.584714, 109.313534, 89.331217, 82.102073, 93.600591, 87.275644, 87.222138, 96.413595, 87.146069, 95.460845, 85.11809, 88.2287, 111.343685, 87.127145, 118.751323, 98.312578, 122.537226, 93.283585, 84.598459, 85.050478, 83.353076, 85.124936, 102.411612, 88.161577]\n",
      "sumNetProfitGroupedBySoldDateWhereYearAfter2000 | node_19 durations: [96.269345, 119.559059, 109.17958, 89.228787, 81.947351, 93.310908, 87.028723, 87.126134, 96.404161, 87.194787, 95.35561, 84.95838, 88.142122, 111.226915, 87.0351, 118.608336, 98.235342, 122.378537, 93.173677, 84.20544, 85.003532, 83.257262, 84.991008, 102.265796, 88.123427]\n",
      "sumWholeSaleCostGroupedBySoldDate | node_11 durations: [88.832074, 88.931855, 122.136861, 89.079312, 87.418388, 75.944225, 85.142715, 85.843605, 88.99222, 88.829988, 89.778519, 86.792282, 82.714885, 119.33673, 90.867365, 87.819611, 77.660301, 86.88956, 86.953061, 84.987771, 85.966899, 88.836746, 88.042464, 89.098685, 86.946127]\n",
      "sumWholeSaleCostGroupedBySoldDate | node_12 durations: [88.816023, 88.69774, 121.995663, 88.979933, 87.325368, 75.794879, 85.122033, 85.668421, 88.879909, 88.708195, 89.639767, 86.645379, 82.506836, 119.226523, 90.714348, 87.764482, 77.490248, 86.721247, 86.843624, 84.964719, 85.900133, 88.857131, 87.92584, 89.002566, 86.932391]\n",
      "sumWholeSaleCostGroupedBySoldDate | node_13 durations: [88.747062, 88.722511, 121.890341, 88.916822, 87.039206, 75.832099, 85.027841, 85.648712, 88.745867, 88.597603, 89.686429, 86.546041, 82.540131, 119.082597, 90.614586, 87.65736, 77.387267, 86.562143, 86.876538, 84.864359, 85.802739, 88.62293, 87.80973, 88.911566, 86.761911]\n",
      "sumWholeSaleCostGroupedBySoldDate | node_14 durations: [88.681447, 88.563171, 121.910971, 88.719931, 86.827396, 75.659639, 84.943007, 85.559128, 88.721483, 88.566938, 89.441356, 86.505598, 82.2876, 119.069921, 90.599973, 87.456791, 77.38789, 86.503914, 86.620051, 84.62685, 85.73022, 88.559739, 87.609517, 88.874263, 86.668979]\n",
      "sumWholeSaleCostGroupedBySoldDate | node_15 durations: [88.483614, 88.489289, 121.819584, 88.637184, 86.865193, 75.587164, 84.874339, 85.347332, 88.585746, 88.478894, 89.436372, 86.431851, 82.330545, 118.964859, 90.373076, 87.379328, 77.319621, 86.443906, 86.600514, 84.5106, 85.650445, 88.477212, 87.547934, 88.638607, 86.449815]\n",
      "sumWholeSaleCostGroupedBySoldDate | node_16 durations: [88.346308, 88.341814, 121.629261, 88.644439, 86.64722, 75.439665, 84.771462, 85.379659, 88.496053, 88.341021, 89.290201, 86.332007, 82.132011, 118.822282, 90.402044, 87.41461, 77.178295, 86.329507, 86.493119, 84.453883, 85.421322, 88.463475, 87.476667, 88.582703, 86.4805]\n",
      "sumWholeSaleCostGroupedBySoldDate | node_17 durations: [88.221929, 88.352882, 121.653366, 88.512588, 86.674358, 75.45489, 84.577539, 85.244392, 88.375335, 88.173181, 89.257391, 86.183695, 82.012384, 118.676731, 90.218962, 87.298485, 77.023145, 86.173719, 86.346622, 84.335002, 85.413696, 88.222874, 87.462663, 88.51036, 86.330214]\n",
      "sumWholeSaleCostGroupedBySoldDate | node_18 durations: [88.143735, 88.151365, 121.464517, 88.312666, 86.555041, 75.341074, 84.539516, 85.149764, 88.229643, 88.079644, 89.088757, 86.105814, 82.016307, 118.638944, 90.132683, 87.158734, 76.988225, 86.112483, 86.265647, 84.226044, 85.318129, 88.153093, 87.364399, 88.464967, 86.270669]\n",
      "sumWholeSaleCostGroupedBySoldDate | node_19 durations: [88.147486, 88.042603, 121.285283, 88.279058, 86.419706, 75.248158, 84.360346, 84.988948, 88.147487, 87.98415, 89.091334, 86.095843, 81.857778, 118.470179, 90.005443, 87.035736, 76.824283, 86.09275, 86.245412, 84.062128, 85.152708, 88.148074, 87.135586, 88.292142, 86.102105]\n"
     ]
    }
   ],
   "source": [
    "preprocess_selected_function(function_names[24:28], workers_summary)"
   ],
   "metadata": {
    "collapsed": false,
    "pycharm": {
     "name": "#%%\n"
    }
   }
  },
  {
   "cell_type": "code",
   "execution_count": 26,
   "outputs": [
    {
     "data": {
      "text/plain": "4891366"
     },
     "execution_count": 26,
     "metadata": {},
     "output_type": "execute_result"
    }
   ],
   "source": [
    "gc.collect()"
   ],
   "metadata": {
    "collapsed": false,
    "pycharm": {
     "name": "#%%\n"
    }
   }
  },
  {
   "cell_type": "code",
   "execution_count": 27,
   "outputs": [
    {
     "ename": "UnboundLocalError",
     "evalue": "local variable 'base_data' referenced before assignment",
     "output_type": "error",
     "traceback": [
      "\u001B[1;31m---------------------------------------------------------------------------\u001B[0m",
      "\u001B[1;31mUnboundLocalError\u001B[0m                         Traceback (most recent call last)",
      "\u001B[1;32m<ipython-input-27-eca57dc1a8a8>\u001B[0m in \u001B[0;36m<module>\u001B[1;34m\u001B[0m\n\u001B[1;32m----> 1\u001B[1;33m \u001B[0mpreprocess_selected_function\u001B[0m\u001B[1;33m(\u001B[0m\u001B[0mfunction_names\u001B[0m\u001B[1;33m[\u001B[0m\u001B[1;36m28\u001B[0m\u001B[1;33m:\u001B[0m\u001B[1;33m]\u001B[0m\u001B[1;33m,\u001B[0m \u001B[0mworkers_summary\u001B[0m\u001B[1;33m)\u001B[0m\u001B[1;33m\u001B[0m\u001B[1;33m\u001B[0m\u001B[0m\n\u001B[0m\u001B[0;32m      2\u001B[0m \u001B[1;33m\u001B[0m\u001B[0m\n",
      "\u001B[1;32m<ipython-input-11-0b740b3fc158>\u001B[0m in \u001B[0;36mpreprocess_selected_function\u001B[1;34m(f_names, workers_summary)\u001B[0m\n\u001B[0;32m     57\u001B[0m     \u001B[0mworkers_summary\u001B[0m\u001B[1;33m.\u001B[0m\u001B[0mto_csv\u001B[0m\u001B[1;33m(\u001B[0m\u001B[1;34m\"{0}/experiments_mean_duration.csv\"\u001B[0m\u001B[1;33m.\u001B[0m\u001B[0mformat\u001B[0m\u001B[1;33m(\u001B[0m\u001B[0mmean_dir\u001B[0m\u001B[1;33m)\u001B[0m\u001B[1;33m,\u001B[0m \u001B[0mindex\u001B[0m\u001B[1;33m=\u001B[0m\u001B[1;32mFalse\u001B[0m\u001B[1;33m,\u001B[0m \u001B[0mmode\u001B[0m\u001B[1;33m=\u001B[0m\u001B[1;34m\"a\"\u001B[0m\u001B[1;33m,\u001B[0m \u001B[0mheader\u001B[0m\u001B[1;33m=\u001B[0m\u001B[1;32mFalse\u001B[0m\u001B[1;33m)\u001B[0m\u001B[1;33m\u001B[0m\u001B[1;33m\u001B[0m\u001B[0m\n\u001B[0;32m     58\u001B[0m \u001B[1;33m\u001B[0m\u001B[0m\n\u001B[1;32m---> 59\u001B[1;33m     \u001B[1;32mdel\u001B[0m \u001B[0mbase_data\u001B[0m\u001B[1;33m\u001B[0m\u001B[1;33m\u001B[0m\u001B[0m\n\u001B[0m\u001B[0;32m     60\u001B[0m     \u001B[1;32mdel\u001B[0m \u001B[0mexperiment_interval\u001B[0m\u001B[1;33m\u001B[0m\u001B[1;33m\u001B[0m\u001B[0m\n\u001B[0;32m     61\u001B[0m     \u001B[1;32mdel\u001B[0m \u001B[0mexperiment_duration\u001B[0m\u001B[1;33m\u001B[0m\u001B[1;33m\u001B[0m\u001B[0m\n",
      "\u001B[1;31mUnboundLocalError\u001B[0m: local variable 'base_data' referenced before assignment"
     ]
    }
   ],
   "source": [
    "preprocess_selected_function(function_names[28:], workers_summary)"
   ],
   "metadata": {
    "collapsed": false,
    "pycharm": {
     "name": "#%%\n"
    }
   }
  },
  {
   "cell_type": "code",
   "execution_count": null,
   "outputs": [],
   "source": [
    "gc.collect()"
   ],
   "metadata": {
    "collapsed": false,
    "pycharm": {
     "name": "#%%\n"
    }
   }
  },
  {
   "cell_type": "markdown",
   "source": [
    "### Aggregating data from master node #20"
   ],
   "metadata": {
    "collapsed": false
   }
  },
  {
   "cell_type": "code",
   "execution_count": 20,
   "outputs": [
    {
     "name": "stdout",
     "output_type": "stream",
     "text": [
      "Error: ./../2GB-9N-spark-listener/preprocessed-data - Nie można utworzyć pliku, który już istnieje.\n",
      "Progress:\n"
     ]
    },
    {
     "ename": "ValueError",
     "evalue": "x and y must have same first dimension, but have shapes (150,) and (479,)",
     "output_type": "error",
     "traceback": [
      "\u001B[1;31m---------------------------------------------------------------------------\u001B[0m",
      "\u001B[1;31mValueError\u001B[0m                                Traceback (most recent call last)",
      "\u001B[1;32m<ipython-input-20-11e91112bcd0>\u001B[0m in \u001B[0;36m<module>\u001B[1;34m\u001B[0m\n\u001B[0;32m     26\u001B[0m     \u001B[0mexperiment_number\u001B[0m \u001B[1;33m=\u001B[0m \u001B[1;36m1\u001B[0m\u001B[1;33m\u001B[0m\u001B[1;33m\u001B[0m\u001B[0m\n\u001B[0;32m     27\u001B[0m     \u001B[1;32mfor\u001B[0m \u001B[0mfile\u001B[0m \u001B[1;32min\u001B[0m \u001B[0mp\u001B[0m\u001B[1;33m.\u001B[0m\u001B[0mglob\u001B[0m\u001B[1;33m(\u001B[0m\u001B[1;34m'*.csv'\u001B[0m\u001B[1;33m)\u001B[0m\u001B[1;33m:\u001B[0m\u001B[1;33m\u001B[0m\u001B[1;33m\u001B[0m\u001B[0m\n\u001B[1;32m---> 28\u001B[1;33m         \u001B[0mmaster_new_data\u001B[0m\u001B[1;33m,\u001B[0m \u001B[1;33m(\u001B[0m\u001B[0mduration\u001B[0m\u001B[1;33m,\u001B[0m \u001B[0minterval\u001B[0m\u001B[1;33m)\u001B[0m \u001B[1;33m=\u001B[0m \u001B[0mpreprocess_file\u001B[0m\u001B[1;33m(\u001B[0m\u001B[0mfiles_path\u001B[0m\u001B[1;33m,\u001B[0m \u001B[0mmaster_plot_directory\u001B[0m\u001B[1;33m,\u001B[0m \u001B[0mfile\u001B[0m\u001B[1;33m.\u001B[0m\u001B[0mname\u001B[0m\u001B[1;33m,\u001B[0m \u001B[0mexperiment_number\u001B[0m\u001B[1;33m)\u001B[0m\u001B[1;33m\u001B[0m\u001B[1;33m\u001B[0m\u001B[0m\n\u001B[0m\u001B[0;32m     29\u001B[0m         \u001B[0mmaster_data\u001B[0m \u001B[1;33m=\u001B[0m \u001B[0mpd\u001B[0m\u001B[1;33m.\u001B[0m\u001B[0mconcat\u001B[0m\u001B[1;33m(\u001B[0m\u001B[1;33m(\u001B[0m\u001B[0mmaster_data\u001B[0m\u001B[1;33m,\u001B[0m \u001B[0mmaster_new_data\u001B[0m\u001B[1;33m)\u001B[0m\u001B[1;33m)\u001B[0m\u001B[1;33m\u001B[0m\u001B[1;33m\u001B[0m\u001B[0m\n\u001B[0;32m     30\u001B[0m         \u001B[0mexperiment_durations\u001B[0m\u001B[1;33m.\u001B[0m\u001B[0mappend\u001B[0m\u001B[1;33m(\u001B[0m\u001B[0mduration\u001B[0m\u001B[1;33m)\u001B[0m\u001B[1;33m\u001B[0m\u001B[1;33m\u001B[0m\u001B[0m\n",
      "\u001B[1;32m<ipython-input-5-ba335dcbb232>\u001B[0m in \u001B[0;36mpreprocess_file\u001B[1;34m(file_path, save_path, filename, iteration)\u001B[0m\n\u001B[0;32m     25\u001B[0m \u001B[1;33m\u001B[0m\u001B[0m\n\u001B[0;32m     26\u001B[0m     \u001B[0mgenerate_plot\u001B[0m\u001B[1;33m(\u001B[0m\u001B[0magg_read_data\u001B[0m\u001B[1;33m.\u001B[0m\u001B[0mindex\u001B[0m\u001B[1;33m,\u001B[0m \u001B[0magg_read_data\u001B[0m\u001B[1;33m.\u001B[0m\u001B[0mCPU\u001B[0m\u001B[1;33m,\u001B[0m \u001B[1;34m\"{0}/CPU/{1}_CPU.png\"\u001B[0m\u001B[1;33m.\u001B[0m\u001B[0mformat\u001B[0m\u001B[1;33m(\u001B[0m\u001B[0msave_path\u001B[0m\u001B[1;33m,\u001B[0m \u001B[0miteration\u001B[0m\u001B[1;33m)\u001B[0m\u001B[1;33m,\u001B[0m \u001B[0mylabel\u001B[0m\u001B[1;33m=\u001B[0m\u001B[1;34m\"Procentowe zużycie CPU\"\u001B[0m\u001B[1;33m)\u001B[0m\u001B[1;33m\u001B[0m\u001B[1;33m\u001B[0m\u001B[0m\n\u001B[1;32m---> 27\u001B[1;33m     \u001B[0mgenerate_plot\u001B[0m\u001B[1;33m(\u001B[0m\u001B[0magg_read_data\u001B[0m\u001B[1;33m.\u001B[0m\u001B[0mindex\u001B[0m\u001B[1;33m[\u001B[0m\u001B[1;33m:\u001B[0m\u001B[1;36m150\u001B[0m\u001B[1;33m]\u001B[0m\u001B[1;33m,\u001B[0m \u001B[0magg_read_data\u001B[0m\u001B[1;33m.\u001B[0m\u001B[0mRAM\u001B[0m\u001B[1;33m,\u001B[0m \u001B[1;34m\"{0}/RAM/{1}_RAM.png\"\u001B[0m\u001B[1;33m.\u001B[0m\u001B[0mformat\u001B[0m\u001B[1;33m(\u001B[0m\u001B[0msave_path\u001B[0m\u001B[1;33m,\u001B[0m \u001B[0miteration\u001B[0m\u001B[1;33m)\u001B[0m\u001B[1;33m,\u001B[0m \u001B[0mylabel\u001B[0m\u001B[1;33m=\u001B[0m\u001B[1;34m\"Procentowe zużycie RAM\"\u001B[0m\u001B[1;33m)\u001B[0m\u001B[1;33m\u001B[0m\u001B[1;33m\u001B[0m\u001B[0m\n\u001B[0m\u001B[0;32m     28\u001B[0m \u001B[1;33m\u001B[0m\u001B[0m\n\u001B[0;32m     29\u001B[0m     \u001B[1;32mreturn\u001B[0m \u001B[0magg_read_data\u001B[0m\u001B[1;33m,\u001B[0m \u001B[0mget_timestamp_info\u001B[0m\u001B[1;33m(\u001B[0m\u001B[0magg_read_data\u001B[0m\u001B[1;33m)\u001B[0m\u001B[1;33m\u001B[0m\u001B[1;33m\u001B[0m\u001B[0m\n",
      "\u001B[1;32m<ipython-input-5-ba335dcbb232>\u001B[0m in \u001B[0;36mgenerate_plot\u001B[1;34m(data_x, data_y, plot_path, title, ylabel)\u001B[0m\n\u001B[0;32m     32\u001B[0m     \u001B[0mfig\u001B[0m \u001B[1;33m=\u001B[0m \u001B[0mplt\u001B[0m\u001B[1;33m.\u001B[0m\u001B[0mfigure\u001B[0m\u001B[1;33m(\u001B[0m\u001B[0mfigsize\u001B[0m\u001B[1;33m=\u001B[0m\u001B[1;33m(\u001B[0m\u001B[1;36m10\u001B[0m\u001B[1;33m,\u001B[0m\u001B[1;36m10\u001B[0m\u001B[1;33m)\u001B[0m\u001B[1;33m)\u001B[0m\u001B[1;33m\u001B[0m\u001B[1;33m\u001B[0m\u001B[0m\n\u001B[0;32m     33\u001B[0m     \u001B[0mfig\u001B[0m\u001B[1;33m.\u001B[0m\u001B[0mpatch\u001B[0m\u001B[1;33m.\u001B[0m\u001B[0mset_facecolor\u001B[0m\u001B[1;33m(\u001B[0m\u001B[1;34m'white'\u001B[0m\u001B[1;33m)\u001B[0m\u001B[1;33m\u001B[0m\u001B[1;33m\u001B[0m\u001B[0m\n\u001B[1;32m---> 34\u001B[1;33m     \u001B[0mplt\u001B[0m\u001B[1;33m.\u001B[0m\u001B[0mplot\u001B[0m\u001B[1;33m(\u001B[0m\u001B[0mdata_x\u001B[0m\u001B[1;33m,\u001B[0m \u001B[0mdata_y\u001B[0m\u001B[1;33m,\u001B[0m \u001B[1;34m'r.-'\u001B[0m\u001B[1;33m)\u001B[0m\u001B[1;33m\u001B[0m\u001B[1;33m\u001B[0m\u001B[0m\n\u001B[0m\u001B[0;32m     35\u001B[0m     \u001B[0mplt\u001B[0m\u001B[1;33m.\u001B[0m\u001B[0mtitle\u001B[0m\u001B[1;33m(\u001B[0m\u001B[0mtitle\u001B[0m\u001B[1;33m)\u001B[0m\u001B[1;33m\u001B[0m\u001B[1;33m\u001B[0m\u001B[0m\n\u001B[0;32m     36\u001B[0m     \u001B[0mplt\u001B[0m\u001B[1;33m.\u001B[0m\u001B[0mxlabel\u001B[0m\u001B[1;33m(\u001B[0m\u001B[1;34m\"Numer próbki\"\u001B[0m\u001B[1;33m,\u001B[0m \u001B[0mfontsize\u001B[0m\u001B[1;33m=\u001B[0m\u001B[1;36m15\u001B[0m\u001B[1;33m)\u001B[0m\u001B[1;33m\u001B[0m\u001B[1;33m\u001B[0m\u001B[0m\n",
      "\u001B[1;32m~\\miniconda3\\envs\\data-processing\\lib\\site-packages\\matplotlib\\pyplot.py\u001B[0m in \u001B[0;36mplot\u001B[1;34m(scalex, scaley, data, *args, **kwargs)\u001B[0m\n\u001B[0;32m   2838\u001B[0m \u001B[1;33m@\u001B[0m\u001B[0m_copy_docstring_and_deprecators\u001B[0m\u001B[1;33m(\u001B[0m\u001B[0mAxes\u001B[0m\u001B[1;33m.\u001B[0m\u001B[0mplot\u001B[0m\u001B[1;33m)\u001B[0m\u001B[1;33m\u001B[0m\u001B[1;33m\u001B[0m\u001B[0m\n\u001B[0;32m   2839\u001B[0m \u001B[1;32mdef\u001B[0m \u001B[0mplot\u001B[0m\u001B[1;33m(\u001B[0m\u001B[1;33m*\u001B[0m\u001B[0margs\u001B[0m\u001B[1;33m,\u001B[0m \u001B[0mscalex\u001B[0m\u001B[1;33m=\u001B[0m\u001B[1;32mTrue\u001B[0m\u001B[1;33m,\u001B[0m \u001B[0mscaley\u001B[0m\u001B[1;33m=\u001B[0m\u001B[1;32mTrue\u001B[0m\u001B[1;33m,\u001B[0m \u001B[0mdata\u001B[0m\u001B[1;33m=\u001B[0m\u001B[1;32mNone\u001B[0m\u001B[1;33m,\u001B[0m \u001B[1;33m**\u001B[0m\u001B[0mkwargs\u001B[0m\u001B[1;33m)\u001B[0m\u001B[1;33m:\u001B[0m\u001B[1;33m\u001B[0m\u001B[1;33m\u001B[0m\u001B[0m\n\u001B[1;32m-> 2840\u001B[1;33m     return gca().plot(\n\u001B[0m\u001B[0;32m   2841\u001B[0m         \u001B[1;33m*\u001B[0m\u001B[0margs\u001B[0m\u001B[1;33m,\u001B[0m \u001B[0mscalex\u001B[0m\u001B[1;33m=\u001B[0m\u001B[0mscalex\u001B[0m\u001B[1;33m,\u001B[0m \u001B[0mscaley\u001B[0m\u001B[1;33m=\u001B[0m\u001B[0mscaley\u001B[0m\u001B[1;33m,\u001B[0m\u001B[1;33m\u001B[0m\u001B[1;33m\u001B[0m\u001B[0m\n\u001B[0;32m   2842\u001B[0m         **({\"data\": data} if data is not None else {}), **kwargs)\n",
      "\u001B[1;32m~\\miniconda3\\envs\\data-processing\\lib\\site-packages\\matplotlib\\axes\\_axes.py\u001B[0m in \u001B[0;36mplot\u001B[1;34m(self, scalex, scaley, data, *args, **kwargs)\u001B[0m\n\u001B[0;32m   1741\u001B[0m         \"\"\"\n\u001B[0;32m   1742\u001B[0m         \u001B[0mkwargs\u001B[0m \u001B[1;33m=\u001B[0m \u001B[0mcbook\u001B[0m\u001B[1;33m.\u001B[0m\u001B[0mnormalize_kwargs\u001B[0m\u001B[1;33m(\u001B[0m\u001B[0mkwargs\u001B[0m\u001B[1;33m,\u001B[0m \u001B[0mmlines\u001B[0m\u001B[1;33m.\u001B[0m\u001B[0mLine2D\u001B[0m\u001B[1;33m)\u001B[0m\u001B[1;33m\u001B[0m\u001B[1;33m\u001B[0m\u001B[0m\n\u001B[1;32m-> 1743\u001B[1;33m         \u001B[0mlines\u001B[0m \u001B[1;33m=\u001B[0m \u001B[1;33m[\u001B[0m\u001B[1;33m*\u001B[0m\u001B[0mself\u001B[0m\u001B[1;33m.\u001B[0m\u001B[0m_get_lines\u001B[0m\u001B[1;33m(\u001B[0m\u001B[1;33m*\u001B[0m\u001B[0margs\u001B[0m\u001B[1;33m,\u001B[0m \u001B[0mdata\u001B[0m\u001B[1;33m=\u001B[0m\u001B[0mdata\u001B[0m\u001B[1;33m,\u001B[0m \u001B[1;33m**\u001B[0m\u001B[0mkwargs\u001B[0m\u001B[1;33m)\u001B[0m\u001B[1;33m]\u001B[0m\u001B[1;33m\u001B[0m\u001B[1;33m\u001B[0m\u001B[0m\n\u001B[0m\u001B[0;32m   1744\u001B[0m         \u001B[1;32mfor\u001B[0m \u001B[0mline\u001B[0m \u001B[1;32min\u001B[0m \u001B[0mlines\u001B[0m\u001B[1;33m:\u001B[0m\u001B[1;33m\u001B[0m\u001B[1;33m\u001B[0m\u001B[0m\n\u001B[0;32m   1745\u001B[0m             \u001B[0mself\u001B[0m\u001B[1;33m.\u001B[0m\u001B[0madd_line\u001B[0m\u001B[1;33m(\u001B[0m\u001B[0mline\u001B[0m\u001B[1;33m)\u001B[0m\u001B[1;33m\u001B[0m\u001B[1;33m\u001B[0m\u001B[0m\n",
      "\u001B[1;32m~\\miniconda3\\envs\\data-processing\\lib\\site-packages\\matplotlib\\axes\\_base.py\u001B[0m in \u001B[0;36m__call__\u001B[1;34m(self, data, *args, **kwargs)\u001B[0m\n\u001B[0;32m    271\u001B[0m                 \u001B[0mthis\u001B[0m \u001B[1;33m+=\u001B[0m \u001B[0margs\u001B[0m\u001B[1;33m[\u001B[0m\u001B[1;36m0\u001B[0m\u001B[1;33m]\u001B[0m\u001B[1;33m,\u001B[0m\u001B[1;33m\u001B[0m\u001B[1;33m\u001B[0m\u001B[0m\n\u001B[0;32m    272\u001B[0m                 \u001B[0margs\u001B[0m \u001B[1;33m=\u001B[0m \u001B[0margs\u001B[0m\u001B[1;33m[\u001B[0m\u001B[1;36m1\u001B[0m\u001B[1;33m:\u001B[0m\u001B[1;33m]\u001B[0m\u001B[1;33m\u001B[0m\u001B[1;33m\u001B[0m\u001B[0m\n\u001B[1;32m--> 273\u001B[1;33m             \u001B[1;32myield\u001B[0m \u001B[1;32mfrom\u001B[0m \u001B[0mself\u001B[0m\u001B[1;33m.\u001B[0m\u001B[0m_plot_args\u001B[0m\u001B[1;33m(\u001B[0m\u001B[0mthis\u001B[0m\u001B[1;33m,\u001B[0m \u001B[0mkwargs\u001B[0m\u001B[1;33m)\u001B[0m\u001B[1;33m\u001B[0m\u001B[1;33m\u001B[0m\u001B[0m\n\u001B[0m\u001B[0;32m    274\u001B[0m \u001B[1;33m\u001B[0m\u001B[0m\n\u001B[0;32m    275\u001B[0m     \u001B[1;32mdef\u001B[0m \u001B[0mget_next_color\u001B[0m\u001B[1;33m(\u001B[0m\u001B[0mself\u001B[0m\u001B[1;33m)\u001B[0m\u001B[1;33m:\u001B[0m\u001B[1;33m\u001B[0m\u001B[1;33m\u001B[0m\u001B[0m\n",
      "\u001B[1;32m~\\miniconda3\\envs\\data-processing\\lib\\site-packages\\matplotlib\\axes\\_base.py\u001B[0m in \u001B[0;36m_plot_args\u001B[1;34m(self, tup, kwargs)\u001B[0m\n\u001B[0;32m    397\u001B[0m \u001B[1;33m\u001B[0m\u001B[0m\n\u001B[0;32m    398\u001B[0m         \u001B[1;32mif\u001B[0m \u001B[0mx\u001B[0m\u001B[1;33m.\u001B[0m\u001B[0mshape\u001B[0m\u001B[1;33m[\u001B[0m\u001B[1;36m0\u001B[0m\u001B[1;33m]\u001B[0m \u001B[1;33m!=\u001B[0m \u001B[0my\u001B[0m\u001B[1;33m.\u001B[0m\u001B[0mshape\u001B[0m\u001B[1;33m[\u001B[0m\u001B[1;36m0\u001B[0m\u001B[1;33m]\u001B[0m\u001B[1;33m:\u001B[0m\u001B[1;33m\u001B[0m\u001B[1;33m\u001B[0m\u001B[0m\n\u001B[1;32m--> 399\u001B[1;33m             raise ValueError(f\"x and y must have same first dimension, but \"\n\u001B[0m\u001B[0;32m    400\u001B[0m                              f\"have shapes {x.shape} and {y.shape}\")\n\u001B[0;32m    401\u001B[0m         \u001B[1;32mif\u001B[0m \u001B[0mx\u001B[0m\u001B[1;33m.\u001B[0m\u001B[0mndim\u001B[0m \u001B[1;33m>\u001B[0m \u001B[1;36m2\u001B[0m \u001B[1;32mor\u001B[0m \u001B[0my\u001B[0m\u001B[1;33m.\u001B[0m\u001B[0mndim\u001B[0m \u001B[1;33m>\u001B[0m \u001B[1;36m2\u001B[0m\u001B[1;33m:\u001B[0m\u001B[1;33m\u001B[0m\u001B[1;33m\u001B[0m\u001B[0m\n",
      "\u001B[1;31mValueError\u001B[0m: x and y must have same first dimension, but have shapes (150,) and (479,)"
     ]
    },
    {
     "data": {
      "text/plain": "<Figure size 720x720 with 1 Axes>",
      "image/png": "[encoded data removed]"
     },
     "metadata": {},
     "output_type": "display_data"
    }
   ],
   "source": [
    "create_directory(f\"./../{working_directory}/preprocessed-data\")\n",
    "\n",
    "master_dir = f\"./../{working_directory}/preprocessed-data/master-mean-data\"\n",
    "create_directory(master_dir)\n",
    "master_mean_summary = pd.DataFrame(columns=[\"function_name\",\n",
    "                                            \"mean_duration\",\n",
    "                                            \"mean_interval\"])\n",
    "\n",
    "print(\"Progress:\")\n",
    "for function in function_names:\n",
    "    files_path = f\"./../{working_directory}/node_20{function}\"\n",
    "    p = Path(files_path)\n",
    "    master_data = pd.DataFrame()\n",
    "\n",
    "    experiment_durations = []\n",
    "    experiment_intervals = []\n",
    "\n",
    "    master_experiment_directory = \"{0}{1}\".format(master_dir, function)\n",
    "    master_plot_directory = \"{0}/plots\".format(files_path)\n",
    "\n",
    "    create_directory(master_experiment_directory)\n",
    "    create_directory(master_plot_directory)\n",
    "    create_directory(\"{0}/CPU\".format(master_plot_directory))\n",
    "    create_directory(\"{0}/RAM\".format(master_plot_directory))\n",
    "\n",
    "    experiment_number = 1\n",
    "    for file in p.glob('*.csv'):\n",
    "        master_new_data, (duration, interval) = preprocess_file(files_path, master_plot_directory, file.name, experiment_number)\n",
    "        master_data = pd.concat((master_data, master_new_data))\n",
    "        experiment_durations.append(duration)\n",
    "        experiment_intervals.append(interval)\n",
    "        experiment_number += 1\n",
    "\n",
    "    master_mean_summary = master_mean_summary.append({\"function_name\": function[1:],\n",
    "                                                      \"mean_duration\": round(mean(experiment_durations), 3),\n",
    "                                                      \"mean_interval\": round(mean(experiment_intervals), 3)},\n",
    "                                                     ignore_index=True)\n",
    "\n",
    "    master_data = master_data.groupby(master_data.index).mean()\n",
    "    master_data.to_csv(\"{0}/mean_data.csv\".format(master_experiment_directory), index=False)\n",
    "\n",
    "    generate_plot(master_data.index, master_data.CPU, \"{0}/mean_CPU.png\".format(master_experiment_directory), ylabel=\"Średnie procentowe zużycie CPU\")\n",
    "    generate_plot(master_data.index, master_data.RAM, \"{0}/mean_RAM.png\".format(master_experiment_directory), ylabel=\"Średnie procentowe zużycie RAM\")\n",
    "\n",
    "    print(\"- {0} - done\".format(function[1:]))\n",
    "\n",
    "    # Deleting variables\n",
    "    del master_data\n",
    "    del experiment_intervals\n",
    "    del experiment_durations\n",
    "    del master_new_data\n",
    "\n",
    "master_mean_summary.to_csv(\"{0}/experiments_mean_duration.csv\".format(master_dir), index=False)\n",
    "\n",
    "del master_mean_summary\n",
    "gc.collect()"
   ],
   "metadata": {
    "collapsed": false,
    "pycharm": {
     "name": "#%%\n"
    }
   }
  },
  {
   "cell_type": "markdown",
   "source": [
    "### Preprocessing spark internal metrics\n",
    "\n",
    "Stage and task metrics"
   ],
   "metadata": {
    "collapsed": false
   }
  },
  {
   "cell_type": "code",
   "execution_count": null,
   "outputs": [],
   "source": [
    "stage_metrics_all = pd.read_csv(f\"./../{working_directory}/stage_metrics.csv\")\n",
    "task_metrics_all = pd.read_csv(f\"./../{working_directory}/task_metrics.csv\")\n",
    "\n",
    "stage_metrics = stage_metrics_all[[\"function_name\", \"stage_id\", \"num_tasks\", \"executor_run_time\", \"result_size\"]].copy()\n",
    "stage_metrics[\"stage_time\"]= stage_metrics_all[\"completion_time\"] - stage_metrics_all[\"submission_time\"]\n",
    "stage_metrics = stage_metrics.groupby([\"function_name\", \"stage_id\"]).agg({\n",
    "    \"stage_time\": \"mean\",\n",
    "    \"num_tasks\": \"max\",\n",
    "    \"executor_run_time\": \"mean\",\n",
    "    \"result_size\": \"mean\"\n",
    "})\n",
    "\n",
    "task_metrics = task_metrics_all[[\"function_name\", \"stage_id\", \"task_type\"]]\n",
    "task_metrics = task_metrics.groupby([\"function_name\", \"stage_id\"]).agg({\"task_type\": \"unique\"})\n",
    "\n",
    "spark_metrics = task_metrics.join(stage_metrics).reset_index().rename(columns={\n",
    "    \"stage_time\": \"mean_stage_time\",\n",
    "    \"task_type\": \"task_types\",\n",
    "    \"executor_run_time\": \"mean_executor_run_time\",\n",
    "    \"result_size\": \"mean_result_size\"\n",
    "})\n",
    "\n",
    "spark_metrics.to_csv(f\"./../{working_directory}/preprocessed-data/spark_metrics.csv\", index=False)\n",
    "spark_metrics"
   ],
   "metadata": {
    "collapsed": false,
    "pycharm": {
     "name": "#%%\n"
    }
   }
  },
  {
   "cell_type": "markdown",
   "source": [
    "### Clear preprocessed data"
   ],
   "metadata": {
    "collapsed": false
   }
  },
  {
   "cell_type": "code",
   "execution_count": 1,
   "outputs": [
    {
     "ename": "NameError",
     "evalue": "name 'function_names' is not defined",
     "output_type": "error",
     "traceback": [
      "\u001B[1;31m---------------------------------------------------------------------------\u001B[0m",
      "\u001B[1;31mNameError\u001B[0m                                 Traceback (most recent call last)",
      "\u001B[1;32m<ipython-input-1-ccba7d7cc490>\u001B[0m in \u001B[0;36m<module>\u001B[1;34m\u001B[0m\n\u001B[1;32m----> 1\u001B[1;33m \u001B[1;32mfor\u001B[0m \u001B[0mfunction_name\u001B[0m \u001B[1;32min\u001B[0m \u001B[0mfunction_names\u001B[0m\u001B[1;33m:\u001B[0m\u001B[1;33m\u001B[0m\u001B[1;33m\u001B[0m\u001B[0m\n\u001B[0m\u001B[0;32m      2\u001B[0m     \u001B[1;32mfor\u001B[0m \u001B[0mnode_dir\u001B[0m \u001B[1;32min\u001B[0m \u001B[0mnodes_directories\u001B[0m\u001B[1;33m:\u001B[0m\u001B[1;33m\u001B[0m\u001B[1;33m\u001B[0m\u001B[0m\n\u001B[0;32m      3\u001B[0m         \u001B[1;32mtry\u001B[0m\u001B[1;33m:\u001B[0m\u001B[1;33m\u001B[0m\u001B[1;33m\u001B[0m\u001B[0m\n\u001B[0;32m      4\u001B[0m             \u001B[0mshutil\u001B[0m\u001B[1;33m.\u001B[0m\u001B[0mrmtree\u001B[0m\u001B[1;33m(\u001B[0m\u001B[1;34mf\"./../{working_directory}{node_dir}{function_name}/plots\"\u001B[0m\u001B[1;33m)\u001B[0m\u001B[1;33m\u001B[0m\u001B[1;33m\u001B[0m\u001B[0m\n\u001B[0;32m      5\u001B[0m         \u001B[1;32mexcept\u001B[0m \u001B[0mOSError\u001B[0m \u001B[1;32mas\u001B[0m \u001B[0me\u001B[0m\u001B[1;33m:\u001B[0m\u001B[1;33m\u001B[0m\u001B[1;33m\u001B[0m\u001B[0m\n",
      "\u001B[1;31mNameError\u001B[0m: name 'function_names' is not defined"
     ]
    }
   ],
   "source": [
    "for function_name in function_names:\n",
    "    for node_dir in nodes_directories:\n",
    "        try:\n",
    "            shutil.rmtree(f\"./../{working_directory}{node_dir}{function_name}/plots\")\n",
    "        except OSError as e:\n",
    "            print(\"Error: %s - %s.\" % (e.filename, e.strerror))\n",
    "\n",
    "try:\n",
    "    shutil.rmtree(f\"./../{working_directory}/preprocessed-data\")\n",
    "except OSError as e:\n",
    "    print(\"Error: %s - %s.\" % (e.filename, e.strerror))\n"
   ],
   "metadata": {
    "collapsed": false,
    "pycharm": {
     "name": "#%%\n"
    }
   }
  },
  {
   "cell_type": "markdown",
   "source": [
    "## Clear smoothed data"
   ],
   "metadata": {
    "collapsed": false,
    "pycharm": {
     "name": "#%% md\n"
    }
   }
  },
  {
   "cell_type": "code",
   "execution_count": 32,
   "outputs": [],
   "source": [
    "for function_name in function_names:\n",
    "    try:\n",
    "        os.remove(f'./../experiments_data/preprocessed-data/workers-mean-data{function_name}/smooth_mean_CPU.png')\n",
    "        os.remove(f'./../experiments_data/preprocessed-data/workers-mean-data{function_name}/smooth_mean_data.csv')\n",
    "        os.remove(f'./../experiments_data/preprocessed-data/workers-mean-data{function_name}/smooth_mean_RAM.png')\n",
    "    except OSError as e:\n",
    "        print(\"Error: %s - %s.\" % (e.filename, e.strerror))\n"
   ],
   "metadata": {
    "collapsed": false,
    "pycharm": {
     "name": "#%%\n"
    }
   }
  },
  {
   "cell_type": "markdown",
   "source": [
    "## Plots with 150 samples"
   ],
   "metadata": {
    "collapsed": false,
    "pycharm": {
     "name": "#%% md\n"
    }
   }
  },
  {
   "cell_type": "code",
   "execution_count": 11,
   "outputs": [
    {
     "data": {
      "text/plain": "(               timestamp    CPU  RAM\n 0    1628393744649273000  213.3  5.9\n 1    1628393744805647000  206.7  6.1\n 2    1628393744963275000  140.0  6.3\n 3    1628393745120312000  140.0  6.4\n 4    1628393745277183000  126.7  6.5\n ..                   ...    ...  ...\n 197  1628393775691554000    0.0  5.2\n 198  1628393775848865000    0.0  5.2\n 199  1628393776006404000    0.0  5.2\n 200  1628393776163769000    0.0  5.2\n 201  1628393776321209000    0.0  5.2\n \n [202 rows x 3 columns],\n (31.671936, 0.158))"
     },
     "execution_count": 11,
     "metadata": {},
     "output_type": "execute_result"
    }
   ],
   "source": [
    "preprocess_file(\"./../1GB-5N/node_11/minNetProfitGroupedBySoldDateWhereYearAfter2000\", \"./../overleaf/figures/first\", \"08_08_2021_09_56_17.csv\", 5)\n",
    "preprocess_file(\"./../1GB-5N/node_11/filterCatalogSalesWhereProfitNegative\", \"./../overleaf/figures/first\", \"08_08_2021_02_06_21.csv\", 17)\n",
    "preprocess_file(\"./../1GB-5N/node_11/avgWholeSaleCostGroupedBySoldDate\", \"./../overleaf/figures/first\", \"07_08_2021_11_34_29.csv\", 16)\n",
    "preprocess_file(\"./../1GB-5N/node_11/maxNetProfitGroupedBySoldDateWhereProfitNegative\", \"./../overleaf/figures/first\", \"08_08_2021_07_04_51.csv\", 2)\n",
    "preprocess_file(\"./../1GB-5N/node_11/filterStoreSalesWhereYearAfter2000\", \"./../overleaf/figures/first\", \"08_08_2021_03_35_44.csv\", 12)\n"
   ],
   "metadata": {
    "collapsed": false,
    "pycharm": {
     "name": "#%%\n"
    }
   }
  },
  {
   "cell_type": "markdown",
   "source": [
    "## Overhead measurement"
   ],
   "metadata": {
    "collapsed": false,
    "pycharm": {
     "name": "#%% md\n"
    }
   }
  },
  {
   "cell_type": "code",
   "execution_count": 5,
   "outputs": [],
   "source": [
    "data_listener = pd.read_csv(f\"./../1GB-9N-spark-listener/preprocessed-data/workers-mean-data/experiments_mean_duration.csv\")[[\"function_name\",\"mean_duration\"]]\n",
    "data_no_listener = pd.read_csv(f\"./../1GB-9N/preprocessed-data/workers-mean-data/experiments_mean_duration.csv\")[[\"function_name\",\"mean_duration\"]]\n",
    "listener_mean_data_comparison = pd.merge(data_listener, data_no_listener, on=\"function_name\")\n",
    "listener_mean_data_comparison[\"delta_length [listener minus no listener]\"] = round(listener_mean_data_comparison[\"mean_duration_x\"] - listener_mean_data_comparison[\"mean_duration_y\"], 3)\n",
    "listener_mean_data_comparison = listener_mean_data_comparison.rename(columns={\"mean_duration_x\": \"mean_duration_listener\",\n",
    "                                              \"mean_duration_y\": \"mean_duration_no_listener\"})\n",
    "listener_mean_data_comparison.to_csv(f\"./../1GB-9N-spark-listener/preprocessed-data/workers-mean-data/mean_duration_comparison.csv\", index=False)\n",
    "\n"
   ],
   "metadata": {
    "collapsed": false,
    "pycharm": {
     "name": "#%%\n"
    }
   }
  }
 ]
}