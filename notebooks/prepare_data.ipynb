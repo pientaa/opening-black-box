{
 "nbformat": 4,
 "nbformat_minor": 0,
 "metadata": {
  "colab": {
   "name": "prepare_data.ipynb",
   "provenance": []
  },
  "kernelspec": {
   "name": "pycharm-afd99e2c",
   "language": "python",
   "display_name": "PyCharm (opening-black-box)"
  },
  "language_info": {
   "name": "python"
  }
 },
 "cells": [
  {
   "cell_type": "code",
   "metadata": {
    "id": "FQnQig-Tqwrs"
   },
   "source": [
    "import pandas as pd   \n",
    "import matplotlib.pyplot as plt\n",
    "import matplotlib.colors as colors\n",
    "import os\n",
    "import shutil\n",
    "import gc\n",
    "from pathlib import Path\n",
    "from tsmoothie.smoother import *\n",
    "from statistics import mean"
   ],
   "execution_count": 34,
   "outputs": []
  },
  {
   "cell_type": "markdown",
   "source": [
    "# Notebook for preprocessing data from experiments"
   ],
   "metadata": {
    "collapsed": false,
    "pycharm": {
     "name": "#%% md\n"
    }
   }
  },
  {
   "cell_type": "markdown",
   "source": [
    "Set working directory. Default is `experiments_data`."
   ],
   "metadata": {
    "collapsed": false
   }
  },
  {
   "cell_type": "code",
   "execution_count": 35,
   "outputs": [],
   "source": [
    "working_directory = \"2GB-7N\""
   ],
   "metadata": {
    "collapsed": false,
    "pycharm": {
     "name": "#%%\n"
    }
   }
  },
  {
   "cell_type": "code",
   "execution_count": 36,
   "outputs": [],
   "source": [
    "def get_subdirectories(directory=\"\"):\n",
    "    subdirectories = []\n",
    "    p = Path(f\"./../{working_directory}/{directory}\")\n",
    "    for item in p.glob('*/'):\n",
    "        if item.suffix not in (['.csv', '.zip']):\n",
    "            subdirectories.append(directory + \"/\" + item.name)\n",
    "    return subdirectories\n",
    "\n",
    "def get_timestamp_info(data):\n",
    "    data['timestamp'] = pd.to_datetime(data['timestamp'])\n",
    "    start_time = data['timestamp'].min()\n",
    "    stop_time = data['timestamp'].max()\n",
    "\n",
    "    data['timestamp'] = pd.to_numeric(data['timestamp'])\n",
    "    mean_interval = mean(data.diff(axis=0)['timestamp'][1:].tolist())\n",
    "    mean_interval = round(mean_interval / 1000000000, 3)\n",
    "\n",
    "    return (stop_time - start_time).total_seconds(), mean_interval\n",
    "\n",
    "def preprocess_file(file_path, save_path, filename, iteration):\n",
    "    read_data = pd.read_csv(file_path + \"/\" + filename)\n",
    "    agg_read_data = read_data.\\\n",
    "        groupby('timestamp', as_index=False).\\\n",
    "        agg({\"CPU\": \"sum\", \"RAM\": \"sum\"})\n",
    "\n",
    "    generate_plot(agg_read_data.index, agg_read_data.CPU, \"{0}/CPU/{1}_CPU.png\".format(save_path, iteration))\n",
    "    generate_plot(agg_read_data.index, agg_read_data.RAM, \"{0}/RAM/{1}_RAM.png\".format(save_path, iteration))\n",
    "\n",
    "    return agg_read_data, get_timestamp_info(agg_read_data)\n",
    "\n",
    "def generate_plot(data_x=\"\", data_y=\"\", plot_path=\"\", title=\"\"):\n",
    "    fig = plt.figure(figsize=(20,10))\n",
    "    fig.patch.set_facecolor('white')\n",
    "    plt.plot(data_x, data_y, 'r.-')\n",
    "    plt.title(title)\n",
    "    plt.savefig(plot_path)\n",
    "    plt.close(fig)\n",
    "\n",
    "def create_directory(path):\n",
    "    try:\n",
    "        os.mkdir(path)\n",
    "    except OSError as e:\n",
    "        print(\"Error: %s - %s.\" % (e.filename, e.strerror))\n",
    "\n",
    "def smooth_data(mean_data, path, function_name):\n",
    "        smoother = ConvolutionSmoother(window_len=7, window_type=\"ones\")\n",
    "        cpu_data = mean_data['CPU']\n",
    "        ram_data = mean_data['RAM']\n",
    "\n",
    "        smoother.smooth(cpu_data)\n",
    "        smooth_cpu_data = smoother.smooth_data[0]\n",
    "        smoother.smooth(ram_data)\n",
    "        smooth_ram_data = smoother.smooth_data[0]\n",
    "\n",
    "        generate_plot(data_x=mean_data.index,\n",
    "                      data_y=smooth_cpu_data,\n",
    "                      plot_path=\"{0}/smooth_mean_CPU.png\".format(path),\n",
    "                      title=\"Smoothed {0}\".format(function_name))\n",
    "        generate_plot(data_x=mean_data.index,\n",
    "                      data_y=smooth_ram_data,\n",
    "                      plot_path=\"{0}/smooth_mean_RAM.png\".format(path),\n",
    "                      title=\"Smoothed {0}\".format(function_name))\n",
    "\n",
    "        smooth_data = pd.DataFrame(list(zip(smooth_cpu_data, smooth_ram_data)), columns=['CPU', 'RAM'])\n",
    "        smooth_data.to_csv(\"{0}/smooth_mean_data.csv\".format(path), index=False)"
   ],
   "metadata": {
    "collapsed": false,
    "pycharm": {
     "name": "#%%\n"
    }
   }
  },
  {
   "cell_type": "markdown",
   "source": [
    "Check for subdirectories. Number of subdirectories should much the number of nodes used for experiments."
   ],
   "metadata": {
    "collapsed": false,
    "pycharm": {
     "name": "#%% md\n"
    }
   }
  },
  {
   "cell_type": "code",
   "execution_count": 37,
   "outputs": [
    {
     "data": {
      "text/plain": "['/node_11',\n '/node_12',\n '/node_13',\n '/node_14',\n '/node_15',\n '/node_16',\n '/node_17',\n '/node_20']"
     },
     "execution_count": 37,
     "metadata": {},
     "output_type": "execute_result"
    }
   ],
   "source": [
    "all_directories = get_subdirectories()\n",
    "nodes_directories = [x for x in all_directories if \"node\" in x]\n",
    "nodes_directories"
   ],
   "metadata": {
    "collapsed": false,
    "pycharm": {
     "name": "#%%\n"
    }
   }
  },
  {
   "cell_type": "code",
   "execution_count": 38,
   "outputs": [
    {
     "data": {
      "text/plain": "[['/node_11/avgNetProfitGroupedBySoldDate',\n  '/node_11/avgNetProfitGroupedBySoldDateWhereProfitNegative',\n  '/node_11/avgNetProfitGroupedBySoldDateWhereYearAfter2000',\n  '/node_11/avgWholeSaleCostGroupedBySoldDate',\n  '/node_11/countDistinctTicketNumber',\n  '/node_11/countNetProfitGroupedBySoldDate',\n  '/node_11/countNetProfitGroupedBySoldDateWhereProfitNegative',\n  '/node_11/countNetProfitGroupedBySoldDateWhereYearAfter2000',\n  '/node_11/countWholeSaleCostGroupedBySoldDate',\n  '/node_11/filterCatalogSalesWhereProfitNegative',\n  '/node_11/filterCatalogSalesWhereProfitNegativeAndYearAfter2000',\n  '/node_11/filterCatalogSalesWhereYearAfter2000',\n  '/node_11/filterStoreSalesWhereProfitNegative',\n  '/node_11/filterStoreSalesWhereProfitNegativeAndYearAfter2000',\n  '/node_11/filterStoreSalesWhereYearAfter2000',\n  '/node_11/maxNetProfitGroupedBySoldDate',\n  '/node_11/maxNetProfitGroupedBySoldDateWhereProfitNegative',\n  '/node_11/maxNetProfitGroupedBySoldDateWhereYearAfter2000',\n  '/node_11/maxWholeSaleCostGroupedBySoldDate',\n  '/node_11/minNetProfitGroupedBySoldDate',\n  '/node_11/minNetProfitGroupedBySoldDateWhereProfitNegative',\n  '/node_11/minNetProfitGroupedBySoldDateWhereYearAfter2000',\n  '/node_11/minWholeSaleCostGroupedBySoldDate',\n  '/node_11/summaryNetProfitGroupedBySoldDate',\n  '/node_11/summaryWholeSaleCostGroupedBySoldDate',\n  '/node_11/sumNetProfitGroupedBySoldDate',\n  '/node_11/sumNetProfitGroupedBySoldDateWhereProfitNegative',\n  '/node_11/sumNetProfitGroupedBySoldDateWhereYearAfter2000',\n  '/node_11/sumWholeSaleCostGroupedBySoldDate'],\n ['/node_12/avgNetProfitGroupedBySoldDate',\n  '/node_12/avgNetProfitGroupedBySoldDateWhereProfitNegative',\n  '/node_12/avgNetProfitGroupedBySoldDateWhereYearAfter2000',\n  '/node_12/avgWholeSaleCostGroupedBySoldDate',\n  '/node_12/countDistinctTicketNumber',\n  '/node_12/countNetProfitGroupedBySoldDate',\n  '/node_12/countNetProfitGroupedBySoldDateWhereProfitNegative',\n  '/node_12/countNetProfitGroupedBySoldDateWhereYearAfter2000',\n  '/node_12/countWholeSaleCostGroupedBySoldDate',\n  '/node_12/filterCatalogSalesWhereProfitNegative',\n  '/node_12/filterCatalogSalesWhereProfitNegativeAndYearAfter2000',\n  '/node_12/filterCatalogSalesWhereYearAfter2000',\n  '/node_12/filterStoreSalesWhereProfitNegative',\n  '/node_12/filterStoreSalesWhereProfitNegativeAndYearAfter2000',\n  '/node_12/filterStoreSalesWhereYearAfter2000',\n  '/node_12/maxNetProfitGroupedBySoldDate',\n  '/node_12/maxNetProfitGroupedBySoldDateWhereProfitNegative',\n  '/node_12/maxNetProfitGroupedBySoldDateWhereYearAfter2000',\n  '/node_12/maxWholeSaleCostGroupedBySoldDate',\n  '/node_12/minNetProfitGroupedBySoldDate',\n  '/node_12/minNetProfitGroupedBySoldDateWhereProfitNegative',\n  '/node_12/minNetProfitGroupedBySoldDateWhereYearAfter2000',\n  '/node_12/minWholeSaleCostGroupedBySoldDate',\n  '/node_12/summaryNetProfitGroupedBySoldDate',\n  '/node_12/summaryWholeSaleCostGroupedBySoldDate',\n  '/node_12/sumNetProfitGroupedBySoldDate',\n  '/node_12/sumNetProfitGroupedBySoldDateWhereProfitNegative',\n  '/node_12/sumNetProfitGroupedBySoldDateWhereYearAfter2000',\n  '/node_12/sumWholeSaleCostGroupedBySoldDate'],\n ['/node_13/avgNetProfitGroupedBySoldDate',\n  '/node_13/avgNetProfitGroupedBySoldDateWhereProfitNegative',\n  '/node_13/avgNetProfitGroupedBySoldDateWhereYearAfter2000',\n  '/node_13/avgWholeSaleCostGroupedBySoldDate',\n  '/node_13/countDistinctTicketNumber',\n  '/node_13/countNetProfitGroupedBySoldDate',\n  '/node_13/countNetProfitGroupedBySoldDateWhereProfitNegative',\n  '/node_13/countNetProfitGroupedBySoldDateWhereYearAfter2000',\n  '/node_13/countWholeSaleCostGroupedBySoldDate',\n  '/node_13/filterCatalogSalesWhereProfitNegative',\n  '/node_13/filterCatalogSalesWhereProfitNegativeAndYearAfter2000',\n  '/node_13/filterCatalogSalesWhereYearAfter2000',\n  '/node_13/filterStoreSalesWhereProfitNegative',\n  '/node_13/filterStoreSalesWhereProfitNegativeAndYearAfter2000',\n  '/node_13/filterStoreSalesWhereYearAfter2000',\n  '/node_13/maxNetProfitGroupedBySoldDate',\n  '/node_13/maxNetProfitGroupedBySoldDateWhereProfitNegative',\n  '/node_13/maxNetProfitGroupedBySoldDateWhereYearAfter2000',\n  '/node_13/maxWholeSaleCostGroupedBySoldDate',\n  '/node_13/minNetProfitGroupedBySoldDate',\n  '/node_13/minNetProfitGroupedBySoldDateWhereProfitNegative',\n  '/node_13/minNetProfitGroupedBySoldDateWhereYearAfter2000',\n  '/node_13/minWholeSaleCostGroupedBySoldDate',\n  '/node_13/summaryNetProfitGroupedBySoldDate',\n  '/node_13/summaryWholeSaleCostGroupedBySoldDate',\n  '/node_13/sumNetProfitGroupedBySoldDate',\n  '/node_13/sumNetProfitGroupedBySoldDateWhereProfitNegative',\n  '/node_13/sumNetProfitGroupedBySoldDateWhereYearAfter2000',\n  '/node_13/sumWholeSaleCostGroupedBySoldDate'],\n ['/node_14/avgNetProfitGroupedBySoldDate',\n  '/node_14/avgNetProfitGroupedBySoldDateWhereProfitNegative',\n  '/node_14/avgNetProfitGroupedBySoldDateWhereYearAfter2000',\n  '/node_14/avgWholeSaleCostGroupedBySoldDate',\n  '/node_14/countDistinctTicketNumber',\n  '/node_14/countNetProfitGroupedBySoldDate',\n  '/node_14/countNetProfitGroupedBySoldDateWhereProfitNegative',\n  '/node_14/countNetProfitGroupedBySoldDateWhereYearAfter2000',\n  '/node_14/countWholeSaleCostGroupedBySoldDate',\n  '/node_14/filterCatalogSalesWhereProfitNegative',\n  '/node_14/filterCatalogSalesWhereProfitNegativeAndYearAfter2000',\n  '/node_14/filterCatalogSalesWhereYearAfter2000',\n  '/node_14/filterStoreSalesWhereProfitNegative',\n  '/node_14/filterStoreSalesWhereProfitNegativeAndYearAfter2000',\n  '/node_14/filterStoreSalesWhereYearAfter2000',\n  '/node_14/maxNetProfitGroupedBySoldDate',\n  '/node_14/maxNetProfitGroupedBySoldDateWhereProfitNegative',\n  '/node_14/maxNetProfitGroupedBySoldDateWhereYearAfter2000',\n  '/node_14/maxWholeSaleCostGroupedBySoldDate',\n  '/node_14/minNetProfitGroupedBySoldDate',\n  '/node_14/minNetProfitGroupedBySoldDateWhereProfitNegative',\n  '/node_14/minNetProfitGroupedBySoldDateWhereYearAfter2000',\n  '/node_14/minWholeSaleCostGroupedBySoldDate',\n  '/node_14/summaryNetProfitGroupedBySoldDate',\n  '/node_14/summaryWholeSaleCostGroupedBySoldDate',\n  '/node_14/sumNetProfitGroupedBySoldDate',\n  '/node_14/sumNetProfitGroupedBySoldDateWhereProfitNegative',\n  '/node_14/sumNetProfitGroupedBySoldDateWhereYearAfter2000',\n  '/node_14/sumWholeSaleCostGroupedBySoldDate'],\n ['/node_15/avgNetProfitGroupedBySoldDate',\n  '/node_15/avgNetProfitGroupedBySoldDateWhereProfitNegative',\n  '/node_15/avgNetProfitGroupedBySoldDateWhereYearAfter2000',\n  '/node_15/avgWholeSaleCostGroupedBySoldDate',\n  '/node_15/countDistinctTicketNumber',\n  '/node_15/countNetProfitGroupedBySoldDate',\n  '/node_15/countNetProfitGroupedBySoldDateWhereProfitNegative',\n  '/node_15/countNetProfitGroupedBySoldDateWhereYearAfter2000',\n  '/node_15/countWholeSaleCostGroupedBySoldDate',\n  '/node_15/filterCatalogSalesWhereProfitNegative',\n  '/node_15/filterCatalogSalesWhereProfitNegativeAndYearAfter2000',\n  '/node_15/filterCatalogSalesWhereYearAfter2000',\n  '/node_15/filterStoreSalesWhereProfitNegative',\n  '/node_15/filterStoreSalesWhereProfitNegativeAndYearAfter2000',\n  '/node_15/filterStoreSalesWhereYearAfter2000',\n  '/node_15/maxNetProfitGroupedBySoldDate',\n  '/node_15/maxNetProfitGroupedBySoldDateWhereProfitNegative',\n  '/node_15/maxNetProfitGroupedBySoldDateWhereYearAfter2000',\n  '/node_15/maxWholeSaleCostGroupedBySoldDate',\n  '/node_15/minNetProfitGroupedBySoldDate',\n  '/node_15/minNetProfitGroupedBySoldDateWhereProfitNegative',\n  '/node_15/minNetProfitGroupedBySoldDateWhereYearAfter2000',\n  '/node_15/minWholeSaleCostGroupedBySoldDate',\n  '/node_15/summaryNetProfitGroupedBySoldDate',\n  '/node_15/summaryWholeSaleCostGroupedBySoldDate',\n  '/node_15/sumNetProfitGroupedBySoldDate',\n  '/node_15/sumNetProfitGroupedBySoldDateWhereProfitNegative',\n  '/node_15/sumNetProfitGroupedBySoldDateWhereYearAfter2000',\n  '/node_15/sumWholeSaleCostGroupedBySoldDate'],\n ['/node_16/avgNetProfitGroupedBySoldDate',\n  '/node_16/avgNetProfitGroupedBySoldDateWhereProfitNegative',\n  '/node_16/avgNetProfitGroupedBySoldDateWhereYearAfter2000',\n  '/node_16/avgWholeSaleCostGroupedBySoldDate',\n  '/node_16/countDistinctTicketNumber',\n  '/node_16/countNetProfitGroupedBySoldDate',\n  '/node_16/countNetProfitGroupedBySoldDateWhereProfitNegative',\n  '/node_16/countNetProfitGroupedBySoldDateWhereYearAfter2000',\n  '/node_16/countWholeSaleCostGroupedBySoldDate',\n  '/node_16/filterCatalogSalesWhereProfitNegative',\n  '/node_16/filterCatalogSalesWhereProfitNegativeAndYearAfter2000',\n  '/node_16/filterCatalogSalesWhereYearAfter2000',\n  '/node_16/filterStoreSalesWhereProfitNegative',\n  '/node_16/filterStoreSalesWhereProfitNegativeAndYearAfter2000',\n  '/node_16/filterStoreSalesWhereYearAfter2000',\n  '/node_16/maxNetProfitGroupedBySoldDate',\n  '/node_16/maxNetProfitGroupedBySoldDateWhereProfitNegative',\n  '/node_16/maxNetProfitGroupedBySoldDateWhereYearAfter2000',\n  '/node_16/maxWholeSaleCostGroupedBySoldDate',\n  '/node_16/minNetProfitGroupedBySoldDate',\n  '/node_16/minNetProfitGroupedBySoldDateWhereProfitNegative',\n  '/node_16/minNetProfitGroupedBySoldDateWhereYearAfter2000',\n  '/node_16/minWholeSaleCostGroupedBySoldDate',\n  '/node_16/summaryNetProfitGroupedBySoldDate',\n  '/node_16/summaryWholeSaleCostGroupedBySoldDate',\n  '/node_16/sumNetProfitGroupedBySoldDate',\n  '/node_16/sumNetProfitGroupedBySoldDateWhereProfitNegative',\n  '/node_16/sumNetProfitGroupedBySoldDateWhereYearAfter2000',\n  '/node_16/sumWholeSaleCostGroupedBySoldDate'],\n ['/node_17/avgNetProfitGroupedBySoldDate',\n  '/node_17/avgNetProfitGroupedBySoldDateWhereProfitNegative',\n  '/node_17/avgNetProfitGroupedBySoldDateWhereYearAfter2000',\n  '/node_17/avgWholeSaleCostGroupedBySoldDate',\n  '/node_17/countDistinctTicketNumber',\n  '/node_17/countNetProfitGroupedBySoldDate',\n  '/node_17/countNetProfitGroupedBySoldDateWhereProfitNegative',\n  '/node_17/countNetProfitGroupedBySoldDateWhereYearAfter2000',\n  '/node_17/countWholeSaleCostGroupedBySoldDate',\n  '/node_17/filterCatalogSalesWhereProfitNegative',\n  '/node_17/filterCatalogSalesWhereProfitNegativeAndYearAfter2000',\n  '/node_17/filterCatalogSalesWhereYearAfter2000',\n  '/node_17/filterStoreSalesWhereProfitNegative',\n  '/node_17/filterStoreSalesWhereProfitNegativeAndYearAfter2000',\n  '/node_17/filterStoreSalesWhereYearAfter2000',\n  '/node_17/maxNetProfitGroupedBySoldDate',\n  '/node_17/maxNetProfitGroupedBySoldDateWhereProfitNegative',\n  '/node_17/maxNetProfitGroupedBySoldDateWhereYearAfter2000',\n  '/node_17/maxWholeSaleCostGroupedBySoldDate',\n  '/node_17/minNetProfitGroupedBySoldDate',\n  '/node_17/minNetProfitGroupedBySoldDateWhereProfitNegative',\n  '/node_17/minNetProfitGroupedBySoldDateWhereYearAfter2000',\n  '/node_17/minWholeSaleCostGroupedBySoldDate',\n  '/node_17/summaryNetProfitGroupedBySoldDate',\n  '/node_17/summaryWholeSaleCostGroupedBySoldDate',\n  '/node_17/sumNetProfitGroupedBySoldDate',\n  '/node_17/sumNetProfitGroupedBySoldDateWhereProfitNegative',\n  '/node_17/sumNetProfitGroupedBySoldDateWhereYearAfter2000',\n  '/node_17/sumWholeSaleCostGroupedBySoldDate'],\n ['/node_20/avgNetProfitGroupedBySoldDate',\n  '/node_20/avgNetProfitGroupedBySoldDateWhereProfitNegative',\n  '/node_20/avgNetProfitGroupedBySoldDateWhereYearAfter2000',\n  '/node_20/avgWholeSaleCostGroupedBySoldDate',\n  '/node_20/countDistinctTicketNumber',\n  '/node_20/countNetProfitGroupedBySoldDate',\n  '/node_20/countNetProfitGroupedBySoldDateWhereProfitNegative',\n  '/node_20/countNetProfitGroupedBySoldDateWhereYearAfter2000',\n  '/node_20/countWholeSaleCostGroupedBySoldDate',\n  '/node_20/filterCatalogSalesWhereProfitNegative',\n  '/node_20/filterCatalogSalesWhereProfitNegativeAndYearAfter2000',\n  '/node_20/filterCatalogSalesWhereYearAfter2000',\n  '/node_20/filterStoreSalesWhereProfitNegative',\n  '/node_20/filterStoreSalesWhereProfitNegativeAndYearAfter2000',\n  '/node_20/filterStoreSalesWhereYearAfter2000',\n  '/node_20/maxNetProfitGroupedBySoldDate',\n  '/node_20/maxNetProfitGroupedBySoldDateWhereProfitNegative',\n  '/node_20/maxNetProfitGroupedBySoldDateWhereYearAfter2000',\n  '/node_20/maxWholeSaleCostGroupedBySoldDate',\n  '/node_20/minNetProfitGroupedBySoldDate',\n  '/node_20/minNetProfitGroupedBySoldDateWhereProfitNegative',\n  '/node_20/minNetProfitGroupedBySoldDateWhereYearAfter2000',\n  '/node_20/minWholeSaleCostGroupedBySoldDate',\n  '/node_20/summaryNetProfitGroupedBySoldDate',\n  '/node_20/summaryWholeSaleCostGroupedBySoldDate',\n  '/node_20/sumNetProfitGroupedBySoldDate',\n  '/node_20/sumNetProfitGroupedBySoldDateWhereProfitNegative',\n  '/node_20/sumNetProfitGroupedBySoldDateWhereYearAfter2000',\n  '/node_20/sumWholeSaleCostGroupedBySoldDate']]"
     },
     "execution_count": 38,
     "metadata": {},
     "output_type": "execute_result"
    }
   ],
   "source": [
    "data_directories = []\n",
    "data_directories_groups = []\n",
    "for directory in nodes_directories:\n",
    "    cur_node_subdirectories = get_subdirectories(directory)\n",
    "    data_directories.append(cur_node_subdirectories)\n",
    "\n",
    "data_directories_groups = data_directories\n",
    "data_directories = [item for sublist in data_directories for item in sublist]\n",
    "data_directories_groups"
   ],
   "metadata": {
    "collapsed": false,
    "pycharm": {
     "name": "#%%\n"
    }
   }
  },
  {
   "cell_type": "markdown",
   "source": [
    "Check for function names in each node directory.\n",
    "These names should match the names in `experiments-plan.csv`.\n"
   ],
   "metadata": {
    "collapsed": false
   }
  },
  {
   "cell_type": "code",
   "execution_count": 39,
   "outputs": [
    {
     "data": {
      "text/plain": "['/avgNetProfitGroupedBySoldDate',\n '/avgNetProfitGroupedBySoldDateWhereProfitNegative',\n '/avgNetProfitGroupedBySoldDateWhereYearAfter2000',\n '/avgWholeSaleCostGroupedBySoldDate',\n '/countDistinctTicketNumber',\n '/countNetProfitGroupedBySoldDate',\n '/countNetProfitGroupedBySoldDateWhereProfitNegative',\n '/countNetProfitGroupedBySoldDateWhereYearAfter2000',\n '/countWholeSaleCostGroupedBySoldDate',\n '/filterCatalogSalesWhereProfitNegative',\n '/filterCatalogSalesWhereProfitNegativeAndYearAfter2000',\n '/filterCatalogSalesWhereYearAfter2000',\n '/filterStoreSalesWhereProfitNegative',\n '/filterStoreSalesWhereProfitNegativeAndYearAfter2000',\n '/filterStoreSalesWhereYearAfter2000',\n '/maxNetProfitGroupedBySoldDate',\n '/maxNetProfitGroupedBySoldDateWhereProfitNegative',\n '/maxNetProfitGroupedBySoldDateWhereYearAfter2000',\n '/maxWholeSaleCostGroupedBySoldDate',\n '/minNetProfitGroupedBySoldDate',\n '/minNetProfitGroupedBySoldDateWhereProfitNegative',\n '/minNetProfitGroupedBySoldDateWhereYearAfter2000',\n '/minWholeSaleCostGroupedBySoldDate',\n '/summaryNetProfitGroupedBySoldDate',\n '/summaryWholeSaleCostGroupedBySoldDate',\n '/sumNetProfitGroupedBySoldDate',\n '/sumNetProfitGroupedBySoldDateWhereProfitNegative',\n '/sumNetProfitGroupedBySoldDateWhereYearAfter2000',\n '/sumWholeSaleCostGroupedBySoldDate']"
     },
     "execution_count": 39,
     "metadata": {},
     "output_type": "execute_result"
    }
   ],
   "source": [
    "function_names = data_directories_groups[1]\n",
    "function_names = list(map(lambda x: x[8:], data_directories_groups[1]))\n",
    "function_names"
   ],
   "metadata": {
    "collapsed": false,
    "pycharm": {
     "name": "#%%\n"
    }
   }
  },
  {
   "cell_type": "markdown",
   "source": [
    "### Aggregating data from all nodes (11-19)"
   ],
   "metadata": {
    "collapsed": false
   }
  },
  {
   "cell_type": "code",
   "execution_count": 40,
   "outputs": [
    {
     "data": {
      "text/plain": "['/node_11',\n '/node_12',\n '/node_13',\n '/node_14',\n '/node_15',\n '/node_16',\n '/node_17']"
     },
     "execution_count": 40,
     "metadata": {},
     "output_type": "execute_result"
    }
   ],
   "source": [
    "master_dir_index = nodes_directories.index('/node_20')\n",
    "workers_directories = nodes_directories.copy()\n",
    "del workers_directories[master_dir_index]\n",
    "\n",
    "workers_directories"
   ],
   "metadata": {
    "collapsed": false,
    "pycharm": {
     "name": "#%%\n"
    }
   }
  },
  {
   "cell_type": "code",
   "execution_count": 41,
   "outputs": [
    {
     "name": "stdout",
     "output_type": "stream",
     "text": [
      "Error: ./../2GB-7N/preprocessed-data - Nie można utworzyć pliku, który już istnieje.\n",
      "Error: ./../2GB-7N/preprocessed-data/workers-mean-data - Nie można utworzyć pliku, który już istnieje.\n"
     ]
    }
   ],
   "source": [
    "create_directory(f\"./../{working_directory}/preprocessed-data\")\n",
    "\n",
    "mean_dir = f\"./../{working_directory}/preprocessed-data/workers-mean-data\"\n",
    "create_directory(mean_dir)\n",
    "workers_summary = pd.DataFrame(columns=[\"function_name\",\n",
    "                                             \"mean_duration\",\n",
    "                                             \"mean_interval\",\n",
    "                                             \"nodes_durations\",\n",
    "                                             \"nodes_intervals\"])\n",
    "\n",
    "workers_summary.to_csv(\"{0}/experiments_mean_duration.csv\".format(mean_dir), index=False)"
   ],
   "metadata": {
    "collapsed": false,
    "pycharm": {
     "name": "#%%\n"
    }
   }
  },
  {
   "cell_type": "code",
   "execution_count": 42,
   "outputs": [],
   "source": [
    "def preprocess_selected_function(f_names, workers_summary):\n",
    "    for function_name in f_names:\n",
    "        base_data = pd.DataFrame()\n",
    "        experiment_duration = []\n",
    "        experiment_interval = []\n",
    "        nodes_durations = []\n",
    "        nodes_intervals = []\n",
    "\n",
    "        experiment_mean_dir = \"{0}{1}\".format(mean_dir, function_name)\n",
    "        create_directory(experiment_mean_dir)\n",
    "\n",
    "        for node_dir in workers_directories:\n",
    "            file_path = f\"./../{working_directory}{node_dir}{function_name}\"\n",
    "            p = Path(file_path)\n",
    "            plots_path = \"{0}/plots\".format(file_path)\n",
    "\n",
    "            create_directory(plots_path)\n",
    "            create_directory(plots_path + \"/RAM\")\n",
    "            create_directory(plots_path + \"/CPU\")\n",
    "\n",
    "            experiment_number = 1\n",
    "            node_intervals = []\n",
    "            node_durations = []\n",
    "\n",
    "            for file in p.glob('*.csv'):\n",
    "                new_data, (duration, interval) = preprocess_file(file_path, plots_path, file.name, experiment_number)\n",
    "                base_data = pd.concat((base_data, new_data))\n",
    "\n",
    "                experiment_duration.append(duration)\n",
    "                experiment_interval.append(interval)\n",
    "                node_intervals.append(interval)\n",
    "                node_durations.append(duration)\n",
    "\n",
    "                experiment_number += 1\n",
    "\n",
    "            print(\"{0} | {1} durations: {2}\".format(function_name[1:], node_dir[1:], node_durations))\n",
    "\n",
    "            nodes_intervals.append((node_dir[1:], round(mean(node_intervals), 3)))\n",
    "            nodes_durations.append((node_dir[1:], round(mean(node_durations), 3)))\n",
    "\n",
    "        mean_interval = round(mean(experiment_interval), 3)\n",
    "\n",
    "        base_data[\"timestamp\"] = base_data.apply(lambda row: mean_interval * row.name, axis = 1)\n",
    "        base_data = base_data.groupby(base_data.index).mean()\n",
    "        base_data.to_csv(\"{0}/mean_data.csv\".format(experiment_mean_dir), index=False)\n",
    "\n",
    "        generate_plot(base_data.index, base_data.CPU, \"{0}/mean_CPU.png\".format(experiment_mean_dir), function_name[1:] + \" CPU\")\n",
    "        generate_plot(base_data.index, base_data.RAM, \"{0}/mean_RAM.png\".format(experiment_mean_dir), function_name[1:] + \" RAM\")\n",
    "\n",
    "        # smooth_data(base_data, experiment_mean_dir, function_name)\n",
    "        workers_summary = workers_summary.append({\"function_name\": function_name[1:],\n",
    "                                                            \"mean_duration\": round(mean(experiment_duration), 3),\n",
    "                                                            \"mean_interval\": mean_interval,\n",
    "                                                            \"nodes_durations\": nodes_durations,\n",
    "                                                            \"nodes_intervals\": nodes_intervals}, ignore_index=True)\n",
    "\n",
    "    workers_summary.to_csv(\"{0}/experiments_mean_duration.csv\".format(mean_dir), index=False, mode=\"a\", header=False)\n",
    "\n",
    "    del base_data\n",
    "    del experiment_interval\n",
    "    del experiment_duration\n",
    "    del nodes_durations\n",
    "    del nodes_intervals\n",
    "    del new_data\n",
    "    del node_intervals\n",
    "    del node_durations\n",
    "    del workers_summary\n",
    "    gc.collect()"
   ],
   "metadata": {
    "collapsed": false,
    "pycharm": {
     "name": "#%%\n"
    }
   }
  },
  {
   "cell_type": "code",
   "execution_count": 43,
   "outputs": [
    {
     "name": "stdout",
     "output_type": "stream",
     "text": [
      "Functions: 29\n"
     ]
    }
   ],
   "source": [
    "print(f\"Functions: {len(function_names)}\")"
   ],
   "metadata": {
    "collapsed": false,
    "pycharm": {
     "name": "#%%\n"
    }
   }
  },
  {
   "cell_type": "code",
   "execution_count": 44,
   "outputs": [
    {
     "name": "stdout",
     "output_type": "stream",
     "text": [
      "Error: ./../2GB-7N/preprocessed-data/workers-mean-data/avgNetProfitGroupedBySoldDate - Nie można utworzyć pliku, który już istnieje.\n",
      "Error: ./../2GB-7N/node_11/avgNetProfitGroupedBySoldDate/plots - Nie można utworzyć pliku, który już istnieje.\n",
      "Error: ./../2GB-7N/node_11/avgNetProfitGroupedBySoldDate/plots/RAM - Nie można utworzyć pliku, który już istnieje.\n",
      "Error: ./../2GB-7N/node_11/avgNetProfitGroupedBySoldDate/plots/CPU - Nie można utworzyć pliku, który już istnieje.\n",
      "avgNetProfitGroupedBySoldDate | node_11 durations: [159.686872, 197.066502, 171.631743, 260.043755, 262.087055, 182.635314, 259.87533, 265.556478, 199.158209, 261.914677, 265.68328, 187.670128, 191.286303, 185.943335, 182.641714, 149.287882, 192.138398, 190.970412, 181.633067, 263.659356, 169.884794, 170.563387, 263.955449, 188.919251, 201.45631]\n",
      "Error: ./../2GB-7N/node_12/avgNetProfitGroupedBySoldDate/plots - Nie można utworzyć pliku, który już istnieje.\n",
      "Error: ./../2GB-7N/node_12/avgNetProfitGroupedBySoldDate/plots/RAM - Nie można utworzyć pliku, który już istnieje.\n",
      "Error: ./../2GB-7N/node_12/avgNetProfitGroupedBySoldDate/plots/CPU - Nie można utworzyć pliku, który już istnieje.\n",
      "avgNetProfitGroupedBySoldDate | node_12 durations: [159.537047, 196.855717, 171.494732, 260.035671, 262.052211, 182.649769, 259.748958, 265.507013, 199.00064, 261.796205, 265.53384, 187.67775, 191.078274, 185.797027, 182.552098, 149.298989, 191.980447, 190.916165, 181.57134, 263.573788, 169.831415, 170.436808, 263.909476, 188.961175, 201.325929]\n",
      "Error: ./../2GB-7N/node_13/avgNetProfitGroupedBySoldDate/plots - Nie można utworzyć pliku, który już istnieje.\n",
      "Error: ./../2GB-7N/node_13/avgNetProfitGroupedBySoldDate/plots/RAM - Nie można utworzyć pliku, który już istnieje.\n",
      "Error: ./../2GB-7N/node_13/avgNetProfitGroupedBySoldDate/plots/CPU - Nie można utworzyć pliku, który już istnieje.\n",
      "avgNetProfitGroupedBySoldDate | node_13 durations: [159.442915, 196.815337, 171.339632, 259.873829, 261.937329, 182.527467, 259.741766, 265.339272, 198.991503, 261.751186, 265.459963, 187.625873, 191.085983, 185.795635, 182.524109, 149.143187, 191.989885, 190.775846, 181.556407, 263.44448, 169.668382, 170.422249, 263.771364, 188.736788, 201.326402]\n",
      "Error: ./../2GB-7N/node_14/avgNetProfitGroupedBySoldDate/plots - Nie można utworzyć pliku, który już istnieje.\n",
      "Error: ./../2GB-7N/node_14/avgNetProfitGroupedBySoldDate/plots/RAM - Nie można utworzyć pliku, który już istnieje.\n",
      "Error: ./../2GB-7N/node_14/avgNetProfitGroupedBySoldDate/plots/CPU - Nie można utworzyć pliku, który już istnieje.\n",
      "avgNetProfitGroupedBySoldDate | node_14 durations: [159.319382, 196.742468, 171.296784, 259.72529, 261.905442, 182.315732, 259.493839, 265.237755, 198.782719, 261.616442, 265.467299, 187.456728, 190.924147, 185.716428, 182.339509, 149.084222, 191.869229, 190.667722, 181.327687, 263.341727, 169.691244, 170.300753, 263.648835, 188.710939, 201.189198]\n",
      "Error: ./../2GB-7N/node_15/avgNetProfitGroupedBySoldDate/plots - Nie można utworzyć pliku, który już istnieje.\n",
      "Error: ./../2GB-7N/node_15/avgNetProfitGroupedBySoldDate/plots/RAM - Nie można utworzyć pliku, który już istnieje.\n",
      "Error: ./../2GB-7N/node_15/avgNetProfitGroupedBySoldDate/plots/CPU - Nie można utworzyć pliku, który już istnieje.\n",
      "avgNetProfitGroupedBySoldDate | node_15 durations: [159.157091, 196.679868, 171.256851, 259.691147, 261.866114, 182.248504, 259.411155, 265.214577, 198.754093, 261.56797, 265.359804, 187.423594, 190.908585, 185.596519, 182.27322, 148.948925, 191.692062, 190.587088, 181.308016, 263.30993, 169.519139, 170.256004, 263.51675, 188.575915, 201.107952]\n",
      "Error: ./../2GB-7N/node_16/avgNetProfitGroupedBySoldDate/plots - Nie można utworzyć pliku, który już istnieje.\n",
      "Error: ./../2GB-7N/node_16/avgNetProfitGroupedBySoldDate/plots/RAM - Nie można utworzyć pliku, który już istnieje.\n",
      "Error: ./../2GB-7N/node_16/avgNetProfitGroupedBySoldDate/plots/CPU - Nie można utworzyć pliku, który już istnieje.\n",
      "avgNetProfitGroupedBySoldDate | node_16 durations: [159.159248, 196.600966, 171.140901, 259.619006, 261.752079, 182.183276, 259.425839, 265.042515, 198.716887, 261.484692, 265.161822, 187.296155, 190.742588, 185.446478, 182.191562, 148.780544, 191.616697, 190.569223, 181.264389, 263.207851, 169.42528, 170.046467, 263.47459, 188.540292, 200.796395]\n",
      "Error: ./../2GB-7N/node_17/avgNetProfitGroupedBySoldDate/plots - Nie można utworzyć pliku, który już istnieje.\n",
      "Error: ./../2GB-7N/node_17/avgNetProfitGroupedBySoldDate/plots/RAM - Nie można utworzyć pliku, który już istnieje.\n",
      "Error: ./../2GB-7N/node_17/avgNetProfitGroupedBySoldDate/plots/CPU - Nie można utworzyć pliku, który już istnieje.\n",
      "avgNetProfitGroupedBySoldDate | node_17 durations: [158.985116, 196.41873, 171.028059, 259.575479, 261.596259, 182.159245, 259.218753, 264.976678, 198.56418, 261.427027, 265.100074, 187.189391, 190.625833, 185.440179, 182.013271, 148.781432, 191.474331, 190.391961, 181.054849, 263.084544, 169.400062, 170.035339, 263.428562, 188.376253, 200.6443]\n",
      "avgNetProfitGroupedBySoldDateWhereProfitNegative | node_11 durations: [143.327887, 154.478019, 206.176516, 157.320536, 149.310012, 163.757062, 144.266672, 208.080186, 154.653203, 154.650405, 156.211566, 162.735371, 163.72672, 166.652189, 150.365695, 156.501422, 157.451662, 142.205865, 157.454207, 163.730991, 154.334345, 143.002317, 209.624229, 150.240565, 157.601421]\n",
      "avgNetProfitGroupedBySoldDateWhereProfitNegative | node_12 durations: [143.325678, 154.514365, 206.064538, 157.312424, 149.223491, 163.687035, 144.254622, 208.025789, 154.49665, 154.655919, 156.105535, 162.639888, 163.654839, 166.601939, 150.199857, 156.269394, 157.360175, 142.085299, 157.456223, 163.518839, 154.18854, 143.041153, 209.419105, 150.140695, 157.545219]\n",
      "avgNetProfitGroupedBySoldDateWhereProfitNegative | node_13 durations: [143.155201, 154.406142, 205.768864, 157.120426, 149.099149, 163.597619, 144.099502, 207.851282, 154.394318, 154.56273, 155.43728, 162.503658, 163.457743, 166.56422, 150.105819, 156.157912, 157.391744, 142.0269, 157.404242, 163.459471, 154.129676, 142.808855, 209.336999, 150.157853, 157.408432]\n",
      "avgNetProfitGroupedBySoldDateWhereProfitNegative | node_14 durations: [143.065569, 154.23651, 205.724001, 157.050871, 149.050161, 163.648722, 144.037657, 207.788509, 154.224983, 154.375319, 155.319364, 162.391717, 163.484821, 166.46659, 149.989725, 156.119736, 157.213987, 141.97616, 157.228652, 163.340979, 154.064809, 142.774728, 209.189283, 149.992767, 157.376581]\n",
      "avgNetProfitGroupedBySoldDateWhereProfitNegative | node_15 durations: [143.054767, 154.203142, 205.580594, 157.041657, 148.880482, 163.488656, 143.849342, 207.765263, 154.046666, 154.39027, 155.164574, 162.369653, 163.32618, 166.30173, 149.958786, 155.939943, 157.184617, 141.798523, 157.192045, 163.340249, 153.89731, 142.744505, 209.125915, 149.967762, 157.191162]\n",
      "avgNetProfitGroupedBySoldDateWhereProfitNegative | node_16 durations: [142.867018, 154.015862, 205.467568, 156.881899, 148.752004, 163.506291, 143.794885, 207.627106, 154.006286, 154.1671, 155.114982, 162.233437, 163.267505, 166.291411, 149.833347, 155.869876, 156.975284, 141.710528, 156.969739, 163.200169, 153.09363, 142.627704, 209.019001, 149.803774, 157.100977]\n",
      "avgNetProfitGroupedBySoldDateWhereProfitNegative | node_17 durations: [142.835861, 153.994126, 205.360584, 156.743353, 148.687801, 163.433274, 143.690194, 207.521068, 153.930551, 154.090122, 155.022638, 162.158919, 163.077071, 166.196828, 149.836291, 155.804496, 157.020715, 141.608059, 156.896136, 163.131674, 153.03935, 142.586041, 208.895841, 149.75396, 156.969762]\n",
      "avgNetProfitGroupedBySoldDateWhereYearAfter2000 | node_11 durations: [152.448864, 137.109825, 159.667367, 220.331052, 159.538396, 151.645221, 225.528298, 204.76346, 156.508234, 155.445978, 154.664754, 148.522595, 140.468706, 153.403316, 222.510082, 219.230244, 202.274874, 238.685945, 157.801832, 151.500452, 156.979186, 154.339481, 159.487882, 222.040109, 145.379422]\n",
      "avgNetProfitGroupedBySoldDateWhereYearAfter2000 | node_12 durations: [152.277438, 137.03303, 159.644901, 220.178562, 159.394678, 151.480401, 225.513251, 204.759778, 156.454386, 155.47532, 154.584493, 148.351556, 140.35898, 153.196989, 222.382439, 219.124099, 202.127697, 238.651747, 157.678734, 151.44371, 156.892043, 154.313282, 159.470186, 221.960666, 145.245581]\n",
      "avgNetProfitGroupedBySoldDateWhereYearAfter2000 | node_13 durations: [152.231388, 136.907993, 159.578361, 220.193685, 159.34626, 151.420878, 225.298379, 204.661495, 156.267101, 155.291731, 154.420414, 148.328298, 140.170837, 153.127246, 222.281376, 219.107271, 202.040618, 238.497971, 157.619401, 151.269876, 156.847034, 154.128383, 159.274663, 221.901374, 145.20888]\n",
      "avgNetProfitGroupedBySoldDateWhereYearAfter2000 | node_14 durations: [152.081437, 136.79351, 159.324176, 220.044083, 159.163027, 151.388485, 225.201291, 204.441308, 156.261134, 155.158801, 154.3821, 148.271258, 139.937002, 153.119162, 222.225515, 218.932442, 201.967296, 238.411491, 157.590932, 151.281439, 156.754582, 154.070088, 159.251497, 221.731241, 145.108829]\n",
      "avgNetProfitGroupedBySoldDateWhereYearAfter2000 | node_15 durations: [152.002232, 136.763994, 159.248909, 219.866929, 159.08142, 151.236323, 225.166671, 204.45276, 156.11744, 155.167081, 154.200122, 148.115234, 139.925975, 152.936428, 222.125987, 218.897763, 201.826247, 238.369278, 157.352332, 151.217964, 156.740673, 153.912944, 159.06245, 221.747938, 144.951838]\n",
      "avgNetProfitGroupedBySoldDateWhereYearAfter2000 | node_16 durations: [151.88564, 136.597132, 159.270318, 219.7829, 159.037957, 151.128829, 224.975143, 204.338656, 155.909303, 154.99239, 154.209051, 148.008388, 139.797336, 152.816986, 221.960493, 218.69502, 201.773232, 238.148021, 157.353785, 150.985408, 156.558726, 153.907901, 159.001058, 221.517047, 144.924121]\n",
      "avgNetProfitGroupedBySoldDateWhereYearAfter2000 | node_17 durations: [151.846565, 136.509337, 159.130691, 219.701318, 158.849372, 151.031471, 224.911569, 204.141717, 155.876133, 154.983583, 154.033608, 147.969645, 139.734947, 152.784766, 221.908192, 218.714592, 201.692806, 238.165445, 157.280598, 150.939715, 156.52225, 153.708613, 159.006349, 221.502228, 144.711411]\n",
      "avgWholeSaleCostGroupedBySoldDate | node_11 durations: [185.171761, 188.005881, 171.664507, 159.712641, 181.102163, 167.724463, 217.097956, 172.03682, 258.59569, 188.180875, 233.310451, 186.97243, 169.637328, 182.828174, 173.712731, 188.181015, 259.872605, 178.178082, 263.779505, 188.017556, 263.811088, 187.088958, 189.771847, 185.031616, 167.885872]\n",
      "avgWholeSaleCostGroupedBySoldDate | node_12 durations: [185.154384, 187.945719, 171.517234, 159.532575, 181.026209, 167.599976, 216.959249, 171.818295, 258.570045, 188.088141, 233.12692, 186.890668, 169.518087, 182.822727, 173.666874, 188.120056, 259.793283, 178.090581, 263.718135, 187.955325, 263.688843, 187.088771, 189.662338, 184.846852, 167.767737]\n",
      "avgWholeSaleCostGroupedBySoldDate | node_13 durations: [184.74897, 187.793027, 171.382803, 159.494448, 180.848314, 167.60876, 216.849685, 171.766282, 258.491928, 188.034133, 233.324912, 186.663212, 169.427036, 182.630701, 173.629459, 187.918917, 259.740237, 177.997359, 263.616337, 187.806618, 263.618393, 186.991879, 189.666236, 184.781224, 167.702784]\n",
      "avgWholeSaleCostGroupedBySoldDate | node_14 durations: [184.682367, 187.717715, 171.324663, 159.409326, 180.753988, 167.398035, 216.811255, 171.654818, 258.426851, 187.828834, 233.105129, 186.577011, 169.285425, 182.655338, 173.543816, 187.842478, 259.70103, 177.783875, 263.445874, 187.712702, 263.5258, 186.727976, 189.581022, 184.695759, 167.559664]\n",
      "avgWholeSaleCostGroupedBySoldDate | node_15 durations: [184.612494, 187.605979, 171.276699, 159.180219, 180.693901, 167.348264, 216.596618, 171.582717, 258.40183, 187.756238, 233.084436, 186.509834, 169.220529, 182.57163, 173.461832, 187.800936, 259.508019, 177.707935, 263.414399, 187.609644, 263.417405, 186.663975, 189.523732, 184.645548, 167.503826]\n",
      "avgWholeSaleCostGroupedBySoldDate | node_16 durations: [184.447043, 187.521489, 171.112248, 159.145974, 180.540449, 167.236182, 216.568338, 171.424042, 258.231058, 187.710174, 232.888321, 186.447661, 169.109437, 182.451128, 173.316186, 187.699553, 259.47448, 177.61207, 263.2247, 187.420513, 263.373808, 186.617858, 189.406165, 184.471096, 167.389384]\n",
      "avgWholeSaleCostGroupedBySoldDate | node_17 durations: [184.471973, 187.427403, 170.988388, 159.060211, 180.403895, 167.24104, 216.421072, 171.26203, 258.165558, 187.660668, 232.887114, 186.356665, 168.999937, 182.352309, 173.173647, 187.55456, 259.401001, 177.439531, 263.16673, 187.340166, 263.279983, 186.448843, 189.245365, 184.436982, 167.229766]\n"
     ]
    }
   ],
   "source": [
    "preprocess_selected_function(function_names[0:4], workers_summary)"
   ],
   "metadata": {
    "collapsed": false,
    "pycharm": {
     "name": "#%%\n"
    }
   }
  },
  {
   "cell_type": "code",
   "execution_count": 45,
   "outputs": [
    {
     "data": {
      "text/plain": "3820825"
     },
     "execution_count": 45,
     "metadata": {},
     "output_type": "execute_result"
    }
   ],
   "source": [
    "gc.collect()"
   ],
   "metadata": {
    "collapsed": false,
    "pycharm": {
     "name": "#%%\n"
    }
   }
  },
  {
   "cell_type": "code",
   "execution_count": 46,
   "outputs": [
    {
     "name": "stdout",
     "output_type": "stream",
     "text": [
      "countDistinctTicketNumber | node_11 durations: [14293.021701]\n",
      "countDistinctTicketNumber | node_12 durations: [14306.142132]\n",
      "countDistinctTicketNumber | node_13 durations: [14321.122873]\n",
      "countDistinctTicketNumber | node_14 durations: [14328.245443]\n",
      "countDistinctTicketNumber | node_15 durations: [14347.779445]\n",
      "countDistinctTicketNumber | node_16 durations: [14354.741218]\n",
      "countDistinctTicketNumber | node_17 durations: [14365.340233]\n",
      "countNetProfitGroupedBySoldDate | node_11 durations: [258.794085, 264.926348, 272.013215, 190.398921, 185.056001, 201.97428, 187.724772, 185.080028, 184.915228, 163.783363, 184.962756, 248.470512, 190.782365, 265.41318, 260.847476, 184.020746, 197.501603, 186.924178, 257.742843, 275.038828, 180.870353, 260.095956, 149.291455, 257.565171, 191.749704]\n",
      "countNetProfitGroupedBySoldDate | node_12 durations: [258.636164, 264.838114, 271.851284, 190.333658, 184.92823, 201.783937, 187.606673, 185.016825, 184.693307, 163.706428, 184.75498, 248.239086, 190.75495, 265.314869, 260.82597, 183.972995, 197.404028, 186.710784, 257.685724, 274.894745, 180.636534, 260.062252, 149.259385, 257.498915, 191.66204]\n",
      "countNetProfitGroupedBySoldDate | node_13 durations: [258.586591, 264.664358, 271.773337, 190.186465, 184.80689, 201.740023, 187.607162, 184.904466, 184.663362, 163.621866, 184.661984, 248.176256, 190.692381, 265.24938, 260.766297, 183.746543, 197.258075, 186.641152, 257.498542, 274.885469, 180.557843, 259.980649, 149.119816, 257.299525, 191.622689]\n",
      "countNetProfitGroupedBySoldDate | node_14 durations: [258.354174, 264.547557, 271.68663, 190.084076, 184.749885, 201.551352, 187.569795, 184.799994, 184.572132, 163.527856, 184.58082, 248.136538, 190.559204, 265.241626, 260.594721, 183.605654, 197.294549, 186.457854, 257.516035, 274.794711, 180.465059, 259.900862, 149.025037, 257.251855, 191.552473]\n",
      "countNetProfitGroupedBySoldDate | node_15 durations: [258.222782, 264.369899, 271.498956, 189.907444, 184.738976, 201.529697, 187.40066, 184.587129, 184.418874, 163.361114, 184.560774, 248.050682, 190.38008, 265.013612, 260.598066, 183.618737, 197.130164, 186.465636, 257.386568, 274.682163, 180.330681, 259.827066, 148.916356, 257.159123, 191.497236]\n",
      "countNetProfitGroupedBySoldDate | node_16 durations: [258.154529, 264.362415, 271.537393, 189.634719, 184.632069, 201.438332, 187.277162, 184.493816, 184.340358, 163.349271, 184.444582, 247.929196, 190.374742, 264.848543, 260.351898, 183.510464, 197.077793, 186.344501, 257.24256, 274.609614, 180.304219, 259.704437, 148.840346, 257.069934, 191.280592]\n",
      "countNetProfitGroupedBySoldDate | node_17 durations: [258.003532, 264.202722, 271.348837, 189.584277, 184.50264, 201.294691, 187.186744, 184.493095, 184.269793, 163.184023, 184.330469, 247.874208, 190.359133, 264.467661, 260.276091, 183.360597, 196.871484, 186.163124, 257.184121, 274.41899, 180.254447, 259.489392, 148.72916, 256.863342, 191.307531]\n"
     ]
    },
    {
     "ename": "KeyboardInterrupt",
     "evalue": "",
     "output_type": "error",
     "traceback": [
      "\u001B[1;31m---------------------------------------------------------------------------\u001B[0m",
      "\u001B[1;31mAttributeError\u001B[0m                            Traceback (most recent call last)",
      "\u001B[1;32m~\\miniconda3\\envs\\data-processing\\lib\\site-packages\\PIL\\ImageFile.py\u001B[0m in \u001B[0;36m_save\u001B[1;34m(im, fp, tile, bufsize)\u001B[0m\n\u001B[0;32m    499\u001B[0m     \u001B[1;32mtry\u001B[0m\u001B[1;33m:\u001B[0m\u001B[1;33m\u001B[0m\u001B[1;33m\u001B[0m\u001B[0m\n\u001B[1;32m--> 500\u001B[1;33m         \u001B[0mfh\u001B[0m \u001B[1;33m=\u001B[0m \u001B[0mfp\u001B[0m\u001B[1;33m.\u001B[0m\u001B[0mfileno\u001B[0m\u001B[1;33m(\u001B[0m\u001B[1;33m)\u001B[0m\u001B[1;33m\u001B[0m\u001B[1;33m\u001B[0m\u001B[0m\n\u001B[0m\u001B[0;32m    501\u001B[0m         \u001B[0mfp\u001B[0m\u001B[1;33m.\u001B[0m\u001B[0mflush\u001B[0m\u001B[1;33m(\u001B[0m\u001B[1;33m)\u001B[0m\u001B[1;33m\u001B[0m\u001B[1;33m\u001B[0m\u001B[0m\n",
      "\u001B[1;31mAttributeError\u001B[0m: '_idat' object has no attribute 'fileno'",
      "\nDuring handling of the above exception, another exception occurred:\n",
      "\u001B[1;31mKeyboardInterrupt\u001B[0m                         Traceback (most recent call last)",
      "\u001B[1;32m<ipython-input-46-4c8f8b3b5f6b>\u001B[0m in \u001B[0;36m<module>\u001B[1;34m\u001B[0m\n\u001B[1;32m----> 1\u001B[1;33m \u001B[0mpreprocess_selected_function\u001B[0m\u001B[1;33m(\u001B[0m\u001B[0mfunction_names\u001B[0m\u001B[1;33m[\u001B[0m\u001B[1;36m4\u001B[0m\u001B[1;33m:\u001B[0m\u001B[1;36m8\u001B[0m\u001B[1;33m]\u001B[0m\u001B[1;33m,\u001B[0m \u001B[0mworkers_summary\u001B[0m\u001B[1;33m)\u001B[0m\u001B[1;33m\u001B[0m\u001B[1;33m\u001B[0m\u001B[0m\n\u001B[0m\u001B[0;32m      2\u001B[0m \u001B[1;33m\u001B[0m\u001B[0m\n",
      "\u001B[1;32m<ipython-input-42-79cf66691625>\u001B[0m in \u001B[0;36mpreprocess_selected_function\u001B[1;34m(f_names, workers_summary)\u001B[0m\n\u001B[0;32m     24\u001B[0m \u001B[1;33m\u001B[0m\u001B[0m\n\u001B[0;32m     25\u001B[0m             \u001B[1;32mfor\u001B[0m \u001B[0mfile\u001B[0m \u001B[1;32min\u001B[0m \u001B[0mp\u001B[0m\u001B[1;33m.\u001B[0m\u001B[0mglob\u001B[0m\u001B[1;33m(\u001B[0m\u001B[1;34m'*.csv'\u001B[0m\u001B[1;33m)\u001B[0m\u001B[1;33m:\u001B[0m\u001B[1;33m\u001B[0m\u001B[1;33m\u001B[0m\u001B[0m\n\u001B[1;32m---> 26\u001B[1;33m                 \u001B[0mnew_data\u001B[0m\u001B[1;33m,\u001B[0m \u001B[1;33m(\u001B[0m\u001B[0mduration\u001B[0m\u001B[1;33m,\u001B[0m \u001B[0minterval\u001B[0m\u001B[1;33m)\u001B[0m \u001B[1;33m=\u001B[0m \u001B[0mpreprocess_file\u001B[0m\u001B[1;33m(\u001B[0m\u001B[0mfile_path\u001B[0m\u001B[1;33m,\u001B[0m \u001B[0mplots_path\u001B[0m\u001B[1;33m,\u001B[0m \u001B[0mfile\u001B[0m\u001B[1;33m.\u001B[0m\u001B[0mname\u001B[0m\u001B[1;33m,\u001B[0m \u001B[0mexperiment_number\u001B[0m\u001B[1;33m)\u001B[0m\u001B[1;33m\u001B[0m\u001B[1;33m\u001B[0m\u001B[0m\n\u001B[0m\u001B[0;32m     27\u001B[0m                 \u001B[0mbase_data\u001B[0m \u001B[1;33m=\u001B[0m \u001B[0mpd\u001B[0m\u001B[1;33m.\u001B[0m\u001B[0mconcat\u001B[0m\u001B[1;33m(\u001B[0m\u001B[1;33m(\u001B[0m\u001B[0mbase_data\u001B[0m\u001B[1;33m,\u001B[0m \u001B[0mnew_data\u001B[0m\u001B[1;33m)\u001B[0m\u001B[1;33m)\u001B[0m\u001B[1;33m\u001B[0m\u001B[1;33m\u001B[0m\u001B[0m\n\u001B[0;32m     28\u001B[0m \u001B[1;33m\u001B[0m\u001B[0m\n",
      "\u001B[1;32m<ipython-input-36-2e9a1df738a9>\u001B[0m in \u001B[0;36mpreprocess_file\u001B[1;34m(file_path, save_path, filename, iteration)\u001B[0m\n\u001B[0;32m     24\u001B[0m         \u001B[0magg\u001B[0m\u001B[1;33m(\u001B[0m\u001B[1;33m{\u001B[0m\u001B[1;34m\"CPU\"\u001B[0m\u001B[1;33m:\u001B[0m \u001B[1;34m\"sum\"\u001B[0m\u001B[1;33m,\u001B[0m \u001B[1;34m\"RAM\"\u001B[0m\u001B[1;33m:\u001B[0m \u001B[1;34m\"sum\"\u001B[0m\u001B[1;33m}\u001B[0m\u001B[1;33m)\u001B[0m\u001B[1;33m\u001B[0m\u001B[1;33m\u001B[0m\u001B[0m\n\u001B[0;32m     25\u001B[0m \u001B[1;33m\u001B[0m\u001B[0m\n\u001B[1;32m---> 26\u001B[1;33m     \u001B[0mgenerate_plot\u001B[0m\u001B[1;33m(\u001B[0m\u001B[0magg_read_data\u001B[0m\u001B[1;33m.\u001B[0m\u001B[0mindex\u001B[0m\u001B[1;33m,\u001B[0m \u001B[0magg_read_data\u001B[0m\u001B[1;33m.\u001B[0m\u001B[0mCPU\u001B[0m\u001B[1;33m,\u001B[0m \u001B[1;34m\"{0}/CPU/{1}_CPU.png\"\u001B[0m\u001B[1;33m.\u001B[0m\u001B[0mformat\u001B[0m\u001B[1;33m(\u001B[0m\u001B[0msave_path\u001B[0m\u001B[1;33m,\u001B[0m \u001B[0miteration\u001B[0m\u001B[1;33m)\u001B[0m\u001B[1;33m)\u001B[0m\u001B[1;33m\u001B[0m\u001B[1;33m\u001B[0m\u001B[0m\n\u001B[0m\u001B[0;32m     27\u001B[0m     \u001B[0mgenerate_plot\u001B[0m\u001B[1;33m(\u001B[0m\u001B[0magg_read_data\u001B[0m\u001B[1;33m.\u001B[0m\u001B[0mindex\u001B[0m\u001B[1;33m,\u001B[0m \u001B[0magg_read_data\u001B[0m\u001B[1;33m.\u001B[0m\u001B[0mRAM\u001B[0m\u001B[1;33m,\u001B[0m \u001B[1;34m\"{0}/RAM/{1}_RAM.png\"\u001B[0m\u001B[1;33m.\u001B[0m\u001B[0mformat\u001B[0m\u001B[1;33m(\u001B[0m\u001B[0msave_path\u001B[0m\u001B[1;33m,\u001B[0m \u001B[0miteration\u001B[0m\u001B[1;33m)\u001B[0m\u001B[1;33m)\u001B[0m\u001B[1;33m\u001B[0m\u001B[1;33m\u001B[0m\u001B[0m\n\u001B[0;32m     28\u001B[0m \u001B[1;33m\u001B[0m\u001B[0m\n",
      "\u001B[1;32m<ipython-input-36-2e9a1df738a9>\u001B[0m in \u001B[0;36mgenerate_plot\u001B[1;34m(data_x, data_y, plot_path, title)\u001B[0m\n\u001B[0;32m     34\u001B[0m     \u001B[0mplt\u001B[0m\u001B[1;33m.\u001B[0m\u001B[0mplot\u001B[0m\u001B[1;33m(\u001B[0m\u001B[0mdata_x\u001B[0m\u001B[1;33m,\u001B[0m \u001B[0mdata_y\u001B[0m\u001B[1;33m,\u001B[0m \u001B[1;34m'r.-'\u001B[0m\u001B[1;33m)\u001B[0m\u001B[1;33m\u001B[0m\u001B[1;33m\u001B[0m\u001B[0m\n\u001B[0;32m     35\u001B[0m     \u001B[0mplt\u001B[0m\u001B[1;33m.\u001B[0m\u001B[0mtitle\u001B[0m\u001B[1;33m(\u001B[0m\u001B[0mtitle\u001B[0m\u001B[1;33m)\u001B[0m\u001B[1;33m\u001B[0m\u001B[1;33m\u001B[0m\u001B[0m\n\u001B[1;32m---> 36\u001B[1;33m     \u001B[0mplt\u001B[0m\u001B[1;33m.\u001B[0m\u001B[0msavefig\u001B[0m\u001B[1;33m(\u001B[0m\u001B[0mplot_path\u001B[0m\u001B[1;33m)\u001B[0m\u001B[1;33m\u001B[0m\u001B[1;33m\u001B[0m\u001B[0m\n\u001B[0m\u001B[0;32m     37\u001B[0m     \u001B[0mplt\u001B[0m\u001B[1;33m.\u001B[0m\u001B[0mclose\u001B[0m\u001B[1;33m(\u001B[0m\u001B[0mfig\u001B[0m\u001B[1;33m)\u001B[0m\u001B[1;33m\u001B[0m\u001B[1;33m\u001B[0m\u001B[0m\n\u001B[0;32m     38\u001B[0m \u001B[1;33m\u001B[0m\u001B[0m\n",
      "\u001B[1;32m~\\miniconda3\\envs\\data-processing\\lib\\site-packages\\matplotlib\\pyplot.py\u001B[0m in \u001B[0;36msavefig\u001B[1;34m(*args, **kwargs)\u001B[0m\n\u001B[0;32m    857\u001B[0m \u001B[1;32mdef\u001B[0m \u001B[0msavefig\u001B[0m\u001B[1;33m(\u001B[0m\u001B[1;33m*\u001B[0m\u001B[0margs\u001B[0m\u001B[1;33m,\u001B[0m \u001B[1;33m**\u001B[0m\u001B[0mkwargs\u001B[0m\u001B[1;33m)\u001B[0m\u001B[1;33m:\u001B[0m\u001B[1;33m\u001B[0m\u001B[1;33m\u001B[0m\u001B[0m\n\u001B[0;32m    858\u001B[0m     \u001B[0mfig\u001B[0m \u001B[1;33m=\u001B[0m \u001B[0mgcf\u001B[0m\u001B[1;33m(\u001B[0m\u001B[1;33m)\u001B[0m\u001B[1;33m\u001B[0m\u001B[1;33m\u001B[0m\u001B[0m\n\u001B[1;32m--> 859\u001B[1;33m     \u001B[0mres\u001B[0m \u001B[1;33m=\u001B[0m \u001B[0mfig\u001B[0m\u001B[1;33m.\u001B[0m\u001B[0msavefig\u001B[0m\u001B[1;33m(\u001B[0m\u001B[1;33m*\u001B[0m\u001B[0margs\u001B[0m\u001B[1;33m,\u001B[0m \u001B[1;33m**\u001B[0m\u001B[0mkwargs\u001B[0m\u001B[1;33m)\u001B[0m\u001B[1;33m\u001B[0m\u001B[1;33m\u001B[0m\u001B[0m\n\u001B[0m\u001B[0;32m    860\u001B[0m     \u001B[0mfig\u001B[0m\u001B[1;33m.\u001B[0m\u001B[0mcanvas\u001B[0m\u001B[1;33m.\u001B[0m\u001B[0mdraw_idle\u001B[0m\u001B[1;33m(\u001B[0m\u001B[1;33m)\u001B[0m   \u001B[1;31m# need this if 'transparent=True' to reset colors\u001B[0m\u001B[1;33m\u001B[0m\u001B[1;33m\u001B[0m\u001B[0m\n\u001B[0;32m    861\u001B[0m     \u001B[1;32mreturn\u001B[0m \u001B[0mres\u001B[0m\u001B[1;33m\u001B[0m\u001B[1;33m\u001B[0m\u001B[0m\n",
      "\u001B[1;32m~\\miniconda3\\envs\\data-processing\\lib\\site-packages\\matplotlib\\figure.py\u001B[0m in \u001B[0;36msavefig\u001B[1;34m(self, fname, transparent, **kwargs)\u001B[0m\n\u001B[0;32m   2309\u001B[0m                 \u001B[0mpatch\u001B[0m\u001B[1;33m.\u001B[0m\u001B[0mset_edgecolor\u001B[0m\u001B[1;33m(\u001B[0m\u001B[1;34m'none'\u001B[0m\u001B[1;33m)\u001B[0m\u001B[1;33m\u001B[0m\u001B[1;33m\u001B[0m\u001B[0m\n\u001B[0;32m   2310\u001B[0m \u001B[1;33m\u001B[0m\u001B[0m\n\u001B[1;32m-> 2311\u001B[1;33m         \u001B[0mself\u001B[0m\u001B[1;33m.\u001B[0m\u001B[0mcanvas\u001B[0m\u001B[1;33m.\u001B[0m\u001B[0mprint_figure\u001B[0m\u001B[1;33m(\u001B[0m\u001B[0mfname\u001B[0m\u001B[1;33m,\u001B[0m \u001B[1;33m**\u001B[0m\u001B[0mkwargs\u001B[0m\u001B[1;33m)\u001B[0m\u001B[1;33m\u001B[0m\u001B[1;33m\u001B[0m\u001B[0m\n\u001B[0m\u001B[0;32m   2312\u001B[0m \u001B[1;33m\u001B[0m\u001B[0m\n\u001B[0;32m   2313\u001B[0m         \u001B[1;32mif\u001B[0m \u001B[0mtransparent\u001B[0m\u001B[1;33m:\u001B[0m\u001B[1;33m\u001B[0m\u001B[1;33m\u001B[0m\u001B[0m\n",
      "\u001B[1;32m~\\miniconda3\\envs\\data-processing\\lib\\site-packages\\matplotlib\\backend_bases.py\u001B[0m in \u001B[0;36mprint_figure\u001B[1;34m(self, filename, dpi, facecolor, edgecolor, orientation, format, bbox_inches, pad_inches, bbox_extra_artists, backend, **kwargs)\u001B[0m\n\u001B[0;32m   2208\u001B[0m \u001B[1;33m\u001B[0m\u001B[0m\n\u001B[0;32m   2209\u001B[0m             \u001B[1;32mtry\u001B[0m\u001B[1;33m:\u001B[0m\u001B[1;33m\u001B[0m\u001B[1;33m\u001B[0m\u001B[0m\n\u001B[1;32m-> 2210\u001B[1;33m                 result = print_method(\n\u001B[0m\u001B[0;32m   2211\u001B[0m                     \u001B[0mfilename\u001B[0m\u001B[1;33m,\u001B[0m\u001B[1;33m\u001B[0m\u001B[1;33m\u001B[0m\u001B[0m\n\u001B[0;32m   2212\u001B[0m                     \u001B[0mdpi\u001B[0m\u001B[1;33m=\u001B[0m\u001B[0mdpi\u001B[0m\u001B[1;33m,\u001B[0m\u001B[1;33m\u001B[0m\u001B[1;33m\u001B[0m\u001B[0m\n",
      "\u001B[1;32m~\\miniconda3\\envs\\data-processing\\lib\\site-packages\\matplotlib\\backend_bases.py\u001B[0m in \u001B[0;36mwrapper\u001B[1;34m(*args, **kwargs)\u001B[0m\n\u001B[0;32m   1637\u001B[0m             \u001B[0mkwargs\u001B[0m\u001B[1;33m.\u001B[0m\u001B[0mpop\u001B[0m\u001B[1;33m(\u001B[0m\u001B[0marg\u001B[0m\u001B[1;33m)\u001B[0m\u001B[1;33m\u001B[0m\u001B[1;33m\u001B[0m\u001B[0m\n\u001B[0;32m   1638\u001B[0m \u001B[1;33m\u001B[0m\u001B[0m\n\u001B[1;32m-> 1639\u001B[1;33m         \u001B[1;32mreturn\u001B[0m \u001B[0mfunc\u001B[0m\u001B[1;33m(\u001B[0m\u001B[1;33m*\u001B[0m\u001B[0margs\u001B[0m\u001B[1;33m,\u001B[0m \u001B[1;33m**\u001B[0m\u001B[0mkwargs\u001B[0m\u001B[1;33m)\u001B[0m\u001B[1;33m\u001B[0m\u001B[1;33m\u001B[0m\u001B[0m\n\u001B[0m\u001B[0;32m   1640\u001B[0m \u001B[1;33m\u001B[0m\u001B[0m\n\u001B[0;32m   1641\u001B[0m     \u001B[1;32mreturn\u001B[0m \u001B[0mwrapper\u001B[0m\u001B[1;33m\u001B[0m\u001B[1;33m\u001B[0m\u001B[0m\n",
      "\u001B[1;32m~\\miniconda3\\envs\\data-processing\\lib\\site-packages\\matplotlib\\backends\\backend_agg.py\u001B[0m in \u001B[0;36mprint_png\u001B[1;34m(self, filename_or_obj, metadata, pil_kwargs, *args)\u001B[0m\n\u001B[0;32m    508\u001B[0m         \"\"\"\n\u001B[0;32m    509\u001B[0m         \u001B[0mFigureCanvasAgg\u001B[0m\u001B[1;33m.\u001B[0m\u001B[0mdraw\u001B[0m\u001B[1;33m(\u001B[0m\u001B[0mself\u001B[0m\u001B[1;33m)\u001B[0m\u001B[1;33m\u001B[0m\u001B[1;33m\u001B[0m\u001B[0m\n\u001B[1;32m--> 510\u001B[1;33m         mpl.image.imsave(\n\u001B[0m\u001B[0;32m    511\u001B[0m             \u001B[0mfilename_or_obj\u001B[0m\u001B[1;33m,\u001B[0m \u001B[0mself\u001B[0m\u001B[1;33m.\u001B[0m\u001B[0mbuffer_rgba\u001B[0m\u001B[1;33m(\u001B[0m\u001B[1;33m)\u001B[0m\u001B[1;33m,\u001B[0m \u001B[0mformat\u001B[0m\u001B[1;33m=\u001B[0m\u001B[1;34m\"png\"\u001B[0m\u001B[1;33m,\u001B[0m \u001B[0morigin\u001B[0m\u001B[1;33m=\u001B[0m\u001B[1;34m\"upper\"\u001B[0m\u001B[1;33m,\u001B[0m\u001B[1;33m\u001B[0m\u001B[1;33m\u001B[0m\u001B[0m\n\u001B[0;32m    512\u001B[0m             dpi=self.figure.dpi, metadata=metadata, pil_kwargs=pil_kwargs)\n",
      "\u001B[1;32m~\\miniconda3\\envs\\data-processing\\lib\\site-packages\\matplotlib\\image.py\u001B[0m in \u001B[0;36mimsave\u001B[1;34m(fname, arr, vmin, vmax, cmap, format, origin, dpi, metadata, pil_kwargs)\u001B[0m\n\u001B[0;32m   1609\u001B[0m         \u001B[0mpil_kwargs\u001B[0m\u001B[1;33m.\u001B[0m\u001B[0msetdefault\u001B[0m\u001B[1;33m(\u001B[0m\u001B[1;34m\"format\"\u001B[0m\u001B[1;33m,\u001B[0m \u001B[0mformat\u001B[0m\u001B[1;33m)\u001B[0m\u001B[1;33m\u001B[0m\u001B[1;33m\u001B[0m\u001B[0m\n\u001B[0;32m   1610\u001B[0m         \u001B[0mpil_kwargs\u001B[0m\u001B[1;33m.\u001B[0m\u001B[0msetdefault\u001B[0m\u001B[1;33m(\u001B[0m\u001B[1;34m\"dpi\"\u001B[0m\u001B[1;33m,\u001B[0m \u001B[1;33m(\u001B[0m\u001B[0mdpi\u001B[0m\u001B[1;33m,\u001B[0m \u001B[0mdpi\u001B[0m\u001B[1;33m)\u001B[0m\u001B[1;33m)\u001B[0m\u001B[1;33m\u001B[0m\u001B[1;33m\u001B[0m\u001B[0m\n\u001B[1;32m-> 1611\u001B[1;33m         \u001B[0mimage\u001B[0m\u001B[1;33m.\u001B[0m\u001B[0msave\u001B[0m\u001B[1;33m(\u001B[0m\u001B[0mfname\u001B[0m\u001B[1;33m,\u001B[0m \u001B[1;33m**\u001B[0m\u001B[0mpil_kwargs\u001B[0m\u001B[1;33m)\u001B[0m\u001B[1;33m\u001B[0m\u001B[1;33m\u001B[0m\u001B[0m\n\u001B[0m\u001B[0;32m   1612\u001B[0m \u001B[1;33m\u001B[0m\u001B[0m\n\u001B[0;32m   1613\u001B[0m \u001B[1;33m\u001B[0m\u001B[0m\n",
      "\u001B[1;32m~\\miniconda3\\envs\\data-processing\\lib\\site-packages\\PIL\\Image.py\u001B[0m in \u001B[0;36msave\u001B[1;34m(self, fp, format, **params)\u001B[0m\n\u001B[0;32m   2170\u001B[0m \u001B[1;33m\u001B[0m\u001B[0m\n\u001B[0;32m   2171\u001B[0m         \u001B[1;32mtry\u001B[0m\u001B[1;33m:\u001B[0m\u001B[1;33m\u001B[0m\u001B[1;33m\u001B[0m\u001B[0m\n\u001B[1;32m-> 2172\u001B[1;33m             \u001B[0msave_handler\u001B[0m\u001B[1;33m(\u001B[0m\u001B[0mself\u001B[0m\u001B[1;33m,\u001B[0m \u001B[0mfp\u001B[0m\u001B[1;33m,\u001B[0m \u001B[0mfilename\u001B[0m\u001B[1;33m)\u001B[0m\u001B[1;33m\u001B[0m\u001B[1;33m\u001B[0m\u001B[0m\n\u001B[0m\u001B[0;32m   2173\u001B[0m         \u001B[1;32mfinally\u001B[0m\u001B[1;33m:\u001B[0m\u001B[1;33m\u001B[0m\u001B[1;33m\u001B[0m\u001B[0m\n\u001B[0;32m   2174\u001B[0m             \u001B[1;31m# do what we can to clean up\u001B[0m\u001B[1;33m\u001B[0m\u001B[1;33m\u001B[0m\u001B[1;33m\u001B[0m\u001B[0m\n",
      "\u001B[1;32m~\\miniconda3\\envs\\data-processing\\lib\\site-packages\\PIL\\PngImagePlugin.py\u001B[0m in \u001B[0;36m_save\u001B[1;34m(im, fp, filename, chunk, save_all)\u001B[0m\n\u001B[0;32m   1333\u001B[0m         \u001B[0m_write_multiple_frames\u001B[0m\u001B[1;33m(\u001B[0m\u001B[0mim\u001B[0m\u001B[1;33m,\u001B[0m \u001B[0mfp\u001B[0m\u001B[1;33m,\u001B[0m \u001B[0mchunk\u001B[0m\u001B[1;33m,\u001B[0m \u001B[0mrawmode\u001B[0m\u001B[1;33m)\u001B[0m\u001B[1;33m\u001B[0m\u001B[1;33m\u001B[0m\u001B[0m\n\u001B[0;32m   1334\u001B[0m     \u001B[1;32melse\u001B[0m\u001B[1;33m:\u001B[0m\u001B[1;33m\u001B[0m\u001B[1;33m\u001B[0m\u001B[0m\n\u001B[1;32m-> 1335\u001B[1;33m         \u001B[0mImageFile\u001B[0m\u001B[1;33m.\u001B[0m\u001B[0m_save\u001B[0m\u001B[1;33m(\u001B[0m\u001B[0mim\u001B[0m\u001B[1;33m,\u001B[0m \u001B[0m_idat\u001B[0m\u001B[1;33m(\u001B[0m\u001B[0mfp\u001B[0m\u001B[1;33m,\u001B[0m \u001B[0mchunk\u001B[0m\u001B[1;33m)\u001B[0m\u001B[1;33m,\u001B[0m \u001B[1;33m[\u001B[0m\u001B[1;33m(\u001B[0m\u001B[1;34m\"zip\"\u001B[0m\u001B[1;33m,\u001B[0m \u001B[1;33m(\u001B[0m\u001B[1;36m0\u001B[0m\u001B[1;33m,\u001B[0m \u001B[1;36m0\u001B[0m\u001B[1;33m)\u001B[0m \u001B[1;33m+\u001B[0m \u001B[0mim\u001B[0m\u001B[1;33m.\u001B[0m\u001B[0msize\u001B[0m\u001B[1;33m,\u001B[0m \u001B[1;36m0\u001B[0m\u001B[1;33m,\u001B[0m \u001B[0mrawmode\u001B[0m\u001B[1;33m)\u001B[0m\u001B[1;33m]\u001B[0m\u001B[1;33m)\u001B[0m\u001B[1;33m\u001B[0m\u001B[1;33m\u001B[0m\u001B[0m\n\u001B[0m\u001B[0;32m   1336\u001B[0m \u001B[1;33m\u001B[0m\u001B[0m\n\u001B[0;32m   1337\u001B[0m     \u001B[1;32mif\u001B[0m \u001B[0minfo\u001B[0m\u001B[1;33m:\u001B[0m\u001B[1;33m\u001B[0m\u001B[1;33m\u001B[0m\u001B[0m\n",
      "\u001B[1;32m~\\miniconda3\\envs\\data-processing\\lib\\site-packages\\PIL\\ImageFile.py\u001B[0m in \u001B[0;36m_save\u001B[1;34m(im, fp, tile, bufsize)\u001B[0m\n\u001B[0;32m    512\u001B[0m             \u001B[1;32melse\u001B[0m\u001B[1;33m:\u001B[0m\u001B[1;33m\u001B[0m\u001B[1;33m\u001B[0m\u001B[0m\n\u001B[0;32m    513\u001B[0m                 \u001B[1;32mwhile\u001B[0m \u001B[1;32mTrue\u001B[0m\u001B[1;33m:\u001B[0m\u001B[1;33m\u001B[0m\u001B[1;33m\u001B[0m\u001B[0m\n\u001B[1;32m--> 514\u001B[1;33m                     \u001B[0ml\u001B[0m\u001B[1;33m,\u001B[0m \u001B[0ms\u001B[0m\u001B[1;33m,\u001B[0m \u001B[0md\u001B[0m \u001B[1;33m=\u001B[0m \u001B[0me\u001B[0m\u001B[1;33m.\u001B[0m\u001B[0mencode\u001B[0m\u001B[1;33m(\u001B[0m\u001B[0mbufsize\u001B[0m\u001B[1;33m)\u001B[0m\u001B[1;33m\u001B[0m\u001B[1;33m\u001B[0m\u001B[0m\n\u001B[0m\u001B[0;32m    515\u001B[0m                     \u001B[0mfp\u001B[0m\u001B[1;33m.\u001B[0m\u001B[0mwrite\u001B[0m\u001B[1;33m(\u001B[0m\u001B[0md\u001B[0m\u001B[1;33m)\u001B[0m\u001B[1;33m\u001B[0m\u001B[1;33m\u001B[0m\u001B[0m\n\u001B[0;32m    516\u001B[0m                     \u001B[1;32mif\u001B[0m \u001B[0ms\u001B[0m\u001B[1;33m:\u001B[0m\u001B[1;33m\u001B[0m\u001B[1;33m\u001B[0m\u001B[0m\n",
      "\u001B[1;31mKeyboardInterrupt\u001B[0m: "
     ]
    },
    {
     "data": {
      "text/plain": "<Figure size 1440x720 with 1 Axes>",
      "image/png": "[encoded data removed]"
     },
     "metadata": {},
     "output_type": "display_data"
    }
   ],
   "source": [
    "preprocess_selected_function(function_names[4:8], workers_summary)"
   ],
   "metadata": {
    "collapsed": false,
    "pycharm": {
     "name": "#%%\n"
    }
   }
  },
  {
   "cell_type": "code",
   "execution_count": null,
   "outputs": [],
   "source": [
    "gc.collect()"
   ],
   "metadata": {
    "collapsed": false,
    "pycharm": {
     "name": "#%%\n"
    }
   }
  },
  {
   "cell_type": "code",
   "execution_count": null,
   "outputs": [],
   "source": [
    "preprocess_selected_function(function_names[8:12], workers_summary)"
   ],
   "metadata": {
    "collapsed": false,
    "pycharm": {
     "name": "#%%\n"
    }
   }
  },
  {
   "cell_type": "code",
   "execution_count": null,
   "outputs": [],
   "source": [
    "gc.collect()"
   ],
   "metadata": {
    "collapsed": false,
    "pycharm": {
     "name": "#%%\n"
    }
   }
  },
  {
   "cell_type": "code",
   "execution_count": null,
   "outputs": [],
   "source": [
    "preprocess_selected_function(function_names[12:16], workers_summary)"
   ],
   "metadata": {
    "collapsed": false,
    "pycharm": {
     "name": "#%%\n"
    }
   }
  },
  {
   "cell_type": "code",
   "execution_count": null,
   "outputs": [],
   "source": [
    "gc.collect()"
   ],
   "metadata": {
    "collapsed": false,
    "pycharm": {
     "name": "#%%\n"
    }
   }
  },
  {
   "cell_type": "code",
   "execution_count": null,
   "outputs": [],
   "source": [
    "preprocess_selected_function(function_names[16:20], workers_summary)"
   ],
   "metadata": {
    "collapsed": false,
    "pycharm": {
     "name": "#%%\n"
    }
   }
  },
  {
   "cell_type": "code",
   "execution_count": null,
   "outputs": [],
   "source": [
    "gc.collect()"
   ],
   "metadata": {
    "collapsed": false,
    "pycharm": {
     "name": "#%%\n"
    }
   }
  },
  {
   "cell_type": "code",
   "execution_count": null,
   "outputs": [],
   "source": [
    "preprocess_selected_function(function_names[20:24], workers_summary)"
   ],
   "metadata": {
    "collapsed": false,
    "pycharm": {
     "name": "#%%\n"
    }
   }
  },
  {
   "cell_type": "code",
   "execution_count": null,
   "outputs": [],
   "source": [
    "gc.collect()"
   ],
   "metadata": {
    "collapsed": false,
    "pycharm": {
     "name": "#%%\n"
    }
   }
  },
  {
   "cell_type": "code",
   "execution_count": null,
   "outputs": [],
   "source": [
    "preprocess_selected_function(function_names[24:28], workers_summary)"
   ],
   "metadata": {
    "collapsed": false,
    "pycharm": {
     "name": "#%%\n"
    }
   }
  },
  {
   "cell_type": "code",
   "execution_count": null,
   "outputs": [],
   "source": [
    "gc.collect()"
   ],
   "metadata": {
    "collapsed": false,
    "pycharm": {
     "name": "#%%\n"
    }
   }
  },
  {
   "cell_type": "code",
   "execution_count": null,
   "outputs": [],
   "source": [
    "preprocess_selected_function(function_names[28:], workers_summary)"
   ],
   "metadata": {
    "collapsed": false,
    "pycharm": {
     "name": "#%%\n"
    }
   }
  },
  {
   "cell_type": "code",
   "execution_count": null,
   "outputs": [],
   "source": [
    "gc.collect()"
   ],
   "metadata": {
    "collapsed": false,
    "pycharm": {
     "name": "#%%\n"
    }
   }
  },
  {
   "cell_type": "markdown",
   "source": [
    "### Aggregating data from master node #20"
   ],
   "metadata": {
    "collapsed": false
   }
  },
  {
   "cell_type": "code",
   "execution_count": null,
   "outputs": [],
   "source": [
    "create_directory(f\"./../{working_directory}/preprocessed-data\")\n",
    "\n",
    "master_dir = f\"./../{working_directory}/preprocessed-data/master-mean-data\"\n",
    "create_directory(master_dir)\n",
    "master_mean_summary = pd.DataFrame(columns=[\"function_name\",\n",
    "                                            \"mean_duration\",\n",
    "                                            \"mean_interval\"])\n",
    "\n",
    "print(\"Progress:\")\n",
    "for function in function_names:\n",
    "    files_path = f\"./../{working_directory}/node_20{function}\"\n",
    "    p = Path(files_path)\n",
    "    master_data = pd.DataFrame()\n",
    "\n",
    "    experiment_durations = []\n",
    "    experiment_intervals = []\n",
    "\n",
    "    master_experiment_directory = \"{0}{1}\".format(master_dir, function)\n",
    "    master_plot_directory = \"{0}/plots\".format(files_path)\n",
    "\n",
    "    create_directory(master_experiment_directory)\n",
    "    create_directory(master_plot_directory)\n",
    "    create_directory(\"{0}/CPU\".format(master_plot_directory))\n",
    "    create_directory(\"{0}/RAM\".format(master_plot_directory))\n",
    "\n",
    "    experiment_number = 1\n",
    "    for file in p.glob('*.csv'):\n",
    "        master_new_data, (duration, interval) = preprocess_file(files_path, master_plot_directory, file.name, experiment_number)\n",
    "        master_data = pd.concat((master_data, master_new_data))\n",
    "        experiment_durations.append(duration)\n",
    "        experiment_intervals.append(interval)\n",
    "        experiment_number += 1\n",
    "\n",
    "    master_mean_summary = master_mean_summary.append({\"function_name\": function[1:],\n",
    "                                                      \"mean_duration\": round(mean(experiment_durations), 3),\n",
    "                                                      \"mean_interval\": round(mean(experiment_intervals), 3)},\n",
    "                                                     ignore_index=True)\n",
    "\n",
    "    master_data = master_data.groupby(master_data.index).mean()\n",
    "    master_data.to_csv(\"{0}/mean_data.csv\".format(master_experiment_directory), index=False)\n",
    "\n",
    "    generate_plot(master_data.index, master_data.CPU, \"{0}/mean_CPU.png\".format(master_experiment_directory))\n",
    "    generate_plot(master_data.index, master_data.RAM, \"{0}/mean_RAM.png\".format(master_experiment_directory))\n",
    "\n",
    "    smooth_data(master_data, master_experiment_directory, function[1:])\n",
    "    print(\"- {0} - done\".format(function[1:]))\n",
    "\n",
    "    # Deleting variables\n",
    "    del master_data\n",
    "    del experiment_intervals\n",
    "    del experiment_durations\n",
    "    del master_new_data\n",
    "\n",
    "master_mean_summary.to_csv(\"{0}/experiments_mean_duration.csv\".format(master_dir), index=False)\n",
    "\n",
    "del master_mean_summary\n",
    "gc.collect()"
   ],
   "metadata": {
    "collapsed": false,
    "pycharm": {
     "name": "#%%\n"
    }
   }
  },
  {
   "cell_type": "markdown",
   "source": [
    "### Preprocessing spark internal metrics\n",
    "\n",
    "Stage and task metrics"
   ],
   "metadata": {
    "collapsed": false
   }
  },
  {
   "cell_type": "code",
   "execution_count": null,
   "outputs": [],
   "source": [
    "stage_metrics_all = pd.read_csv(f\"./../{working_directory}/stage_metrics.csv\")\n",
    "task_metrics_all = pd.read_csv(f\"./../{working_directory}/task_metrics.csv\")\n",
    "\n",
    "stage_metrics = stage_metrics_all[[\"function_name\", \"stage_id\", \"num_tasks\", \"executor_run_time\", \"result_size\"]].copy()\n",
    "stage_metrics[\"stage_time\"]= stage_metrics_all[\"completion_time\"] - stage_metrics_all[\"submission_time\"]\n",
    "stage_metrics = stage_metrics.groupby([\"function_name\", \"stage_id\"]).agg({\n",
    "    \"stage_time\": \"mean\",\n",
    "    \"num_tasks\": \"max\",\n",
    "    \"executor_run_time\": \"mean\",\n",
    "    \"result_size\": \"mean\"\n",
    "})\n",
    "\n",
    "task_metrics = task_metrics_all[[\"function_name\", \"stage_id\", \"task_type\"]]\n",
    "task_metrics = task_metrics.groupby([\"function_name\", \"stage_id\"]).agg({\"task_type\": \"unique\"})\n",
    "\n",
    "spark_metrics = task_metrics.join(stage_metrics).reset_index().rename(columns={\n",
    "    \"stage_time\": \"mean_stage_time\",\n",
    "    \"task_type\": \"task_types\",\n",
    "    \"executor_run_time\": \"mean_executor_run_time\",\n",
    "    \"result_size\": \"mean_result_size\"\n",
    "})\n",
    "\n",
    "spark_metrics.to_csv(f\"./../{working_directory}/preprocessed-data/spark_metrics.csv\", index=False)\n",
    "spark_metrics"
   ],
   "metadata": {
    "collapsed": false,
    "pycharm": {
     "name": "#%%\n"
    }
   }
  },
  {
   "cell_type": "markdown",
   "source": [
    "### Clear preprocessed data"
   ],
   "metadata": {
    "collapsed": false
   }
  },
  {
   "cell_type": "code",
   "execution_count": null,
   "outputs": [],
   "source": [
    "for function_name in function_names:\n",
    "    for node_dir in nodes_directories:\n",
    "        try:\n",
    "            shutil.rmtree(f\"./../{working_directory}{node_dir}{function_name}/plots\")\n",
    "        except OSError as e:\n",
    "            print(\"Error: %s - %s.\" % (e.filename, e.strerror))\n",
    "\n",
    "try:\n",
    "    shutil.rmtree(f\"./../{working_directory}/preprocessed-data\")\n",
    "except OSError as e:\n",
    "    print(\"Error: %s - %s.\" % (e.filename, e.strerror))\n"
   ],
   "metadata": {
    "collapsed": false,
    "pycharm": {
     "name": "#%%\n"
    }
   }
  },
  {
   "cell_type": "markdown",
   "source": [
    "Clear smoothed data"
   ],
   "metadata": {
    "collapsed": false,
    "pycharm": {
     "name": "#%% md\n"
    }
   }
  },
  {
   "cell_type": "code",
   "execution_count": 32,
   "outputs": [],
   "source": [
    "for function_name in function_names:\n",
    "    try:\n",
    "        os.remove(f'./../experiments_data/preprocessed-data/workers-mean-data{function_name}/smooth_mean_CPU.png')\n",
    "        os.remove(f'./../experiments_data/preprocessed-data/workers-mean-data{function_name}/smooth_mean_data.csv')\n",
    "        os.remove(f'./../experiments_data/preprocessed-data/workers-mean-data{function_name}/smooth_mean_RAM.png')\n",
    "    except OSError as e:\n",
    "        print(\"Error: %s - %s.\" % (e.filename, e.strerror))"
   ],
   "metadata": {
    "collapsed": false,
    "pycharm": {
     "name": "#%%\n"
    }
   }
  }
 ]
}