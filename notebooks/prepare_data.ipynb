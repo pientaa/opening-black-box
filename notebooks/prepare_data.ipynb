{
 "nbformat": 4,
 "nbformat_minor": 0,
 "metadata": {
  "colab": {
   "name": "prepare_data.ipynb",
   "provenance": []
  },
  "kernelspec": {
   "name": "pycharm-afd99e2c",
   "language": "python",
   "display_name": "PyCharm (opening-black-box)"
  },
  "language_info": {
   "name": "python"
  }
 },
 "cells": [
  {
   "cell_type": "code",
   "metadata": {
    "id": "FQnQig-Tqwrs"
   },
   "source": [
    "import pandas as pd   \n",
    "import matplotlib.pyplot as plt\n",
    "import matplotlib.colors as colors\n",
    "import os\n",
    "import shutil\n",
    "import gc\n",
    "from pathlib import Path\n",
    "from tsmoothie.smoother import *\n",
    "from statistics import mean"
   ],
   "execution_count": 1,
   "outputs": []
  },
  {
   "cell_type": "markdown",
   "source": [
    "# Notebook for preprocessing data from experiments"
   ],
   "metadata": {
    "collapsed": false,
    "pycharm": {
     "name": "#%% md\n"
    }
   }
  },
  {
   "cell_type": "markdown",
   "source": [
    "Set working directory. Default is `experiments_data`."
   ],
   "metadata": {
    "collapsed": false
   }
  },
  {
   "cell_type": "code",
   "execution_count": 35,
   "outputs": [],
   "source": [
    "working_directory = \"1GB-9N\""
   ],
   "metadata": {
    "collapsed": false,
    "pycharm": {
     "name": "#%%\n"
    }
   }
  },
  {
   "cell_type": "code",
   "execution_count": 36,
   "outputs": [],
   "source": [
    "def get_subdirectories(directory=\"\"):\n",
    "    subdirectories = []\n",
    "    p = Path(f\"./../{working_directory}/{directory}\")\n",
    "    for item in p.glob('*/'):\n",
    "        if item.suffix not in (['.csv', '.zip']):\n",
    "            subdirectories.append(directory + \"/\" + item.name)\n",
    "    return subdirectories\n",
    "\n",
    "def get_timestamp_info(data):\n",
    "    data['timestamp'] = pd.to_datetime(data['timestamp'])\n",
    "    start_time = data['timestamp'].min()\n",
    "    stop_time = data['timestamp'].max()\n",
    "\n",
    "    data['timestamp'] = pd.to_numeric(data['timestamp'])\n",
    "    mean_interval = mean(data.diff(axis=0)['timestamp'][1:].tolist())\n",
    "    mean_interval = round(mean_interval / 1000000000, 3)\n",
    "\n",
    "    return (stop_time - start_time).total_seconds(), mean_interval\n",
    "\n",
    "def preprocess_file(file_path, save_path, filename, iteration):\n",
    "    read_data = pd.read_csv(file_path + \"/\" + filename)\n",
    "    agg_read_data = read_data.\\\n",
    "        groupby('timestamp', as_index=False).\\\n",
    "        agg({\"CPU\": \"sum\", \"RAM\": \"sum\"})\n",
    "\n",
    "    generate_plot(agg_read_data.index, agg_read_data.CPU, \"{0}/CPU/{1}_CPU.png\".format(save_path, iteration))\n",
    "    generate_plot(agg_read_data.index, agg_read_data.RAM, \"{0}/RAM/{1}_RAM.png\".format(save_path, iteration))\n",
    "\n",
    "    return agg_read_data, get_timestamp_info(agg_read_data)\n",
    "\n",
    "def generate_plot(data_x=\"\", data_y=\"\", plot_path=\"\", title=\"\"):\n",
    "    fig = plt.figure(figsize=(20,10))\n",
    "    fig.patch.set_facecolor('white')\n",
    "    plt.plot(data_x, data_y, 'r.-')\n",
    "    plt.title(title)\n",
    "    plt.savefig(plot_path)\n",
    "    plt.close(fig)\n",
    "\n",
    "def create_directory(path):\n",
    "    try:\n",
    "        os.mkdir(path)\n",
    "    except OSError as e:\n",
    "        print(\"Error: %s - %s.\" % (e.filename, e.strerror))\n",
    "\n",
    "def smooth_data(mean_data, path, function_name):\n",
    "        smoother = ConvolutionSmoother(window_len=7, window_type=\"ones\")\n",
    "        cpu_data = mean_data['CPU']\n",
    "        ram_data = mean_data['RAM']\n",
    "\n",
    "        smoother.smooth(cpu_data)\n",
    "        smooth_cpu_data = smoother.smooth_data[0]\n",
    "        smoother.smooth(ram_data)\n",
    "        smooth_ram_data = smoother.smooth_data[0]\n",
    "\n",
    "        generate_plot(data_x=mean_data.index,\n",
    "                      data_y=smooth_cpu_data,\n",
    "                      plot_path=\"{0}/smooth_mean_CPU.png\".format(path),\n",
    "                      title=\"Smoothed {0}\".format(function_name))\n",
    "        generate_plot(data_x=mean_data.index,\n",
    "                      data_y=smooth_ram_data,\n",
    "                      plot_path=\"{0}/smooth_mean_RAM.png\".format(path),\n",
    "                      title=\"Smoothed {0}\".format(function_name))\n",
    "\n",
    "        smooth_data = pd.DataFrame(list(zip(smooth_cpu_data, smooth_ram_data)), columns=['CPU', 'RAM'])\n",
    "        smooth_data.to_csv(\"{0}/smooth_mean_data.csv\".format(path), index=False)"
   ],
   "metadata": {
    "collapsed": false,
    "pycharm": {
     "name": "#%%\n"
    }
   }
  },
  {
   "cell_type": "markdown",
   "source": [
    "Check for subdirectories. Number of subdirectories should much the number of nodes used for experiments."
   ],
   "metadata": {
    "collapsed": false,
    "pycharm": {
     "name": "#%% md\n"
    }
   }
  },
  {
   "cell_type": "code",
   "execution_count": 37,
   "outputs": [
    {
     "data": {
      "text/plain": "['/node_11',\n '/node_12',\n '/node_13',\n '/node_14',\n '/node_15',\n '/node_16',\n '/node_17',\n '/node_18',\n '/node_19',\n '/node_20']"
     },
     "execution_count": 37,
     "metadata": {},
     "output_type": "execute_result"
    }
   ],
   "source": [
    "all_directories = get_subdirectories()\n",
    "nodes_directories = [x for x in all_directories if \"node\" in x]\n",
    "nodes_directories"
   ],
   "metadata": {
    "collapsed": false,
    "pycharm": {
     "name": "#%%\n"
    }
   }
  },
  {
   "cell_type": "code",
   "execution_count": 38,
   "outputs": [
    {
     "data": {
      "text/plain": "[['/node_11/avgNetProfitGroupedBySoldDate',\n  '/node_11/avgNetProfitGroupedBySoldDateWhereProfitNegative',\n  '/node_11/avgNetProfitGroupedBySoldDateWhereYearAfter2000',\n  '/node_11/avgWholeSaleCostGroupedBySoldDate',\n  '/node_11/countNetProfitGroupedBySoldDate',\n  '/node_11/countNetProfitGroupedBySoldDateWhereProfitNegative',\n  '/node_11/countNetProfitGroupedBySoldDateWhereYearAfter2000',\n  '/node_11/countWholeSaleCostGroupedBySoldDate',\n  '/node_11/filterCatalogSalesWhereProfitNegative',\n  '/node_11/filterCatalogSalesWhereProfitNegativeAndYearAfter2000',\n  '/node_11/filterCatalogSalesWhereYearAfter2000',\n  '/node_11/filterStoreSalesWhereProfitNegative',\n  '/node_11/filterStoreSalesWhereProfitNegativeAndYearAfter2000',\n  '/node_11/filterStoreSalesWhereYearAfter2000',\n  '/node_11/maxNetProfitGroupedBySoldDate',\n  '/node_11/maxNetProfitGroupedBySoldDateWhereProfitNegative',\n  '/node_11/maxNetProfitGroupedBySoldDateWhereYearAfter2000',\n  '/node_11/maxWholeSaleCostGroupedBySoldDate',\n  '/node_11/minNetProfitGroupedBySoldDate',\n  '/node_11/minNetProfitGroupedBySoldDateWhereProfitNegative',\n  '/node_11/minNetProfitGroupedBySoldDateWhereYearAfter2000',\n  '/node_11/minWholeSaleCostGroupedBySoldDate',\n  '/node_11/summaryNetProfitGroupedBySoldDate',\n  '/node_11/summaryWholeSaleCostGroupedBySoldDate',\n  '/node_11/sumNetProfitGroupedBySoldDate',\n  '/node_11/sumNetProfitGroupedBySoldDateWhereProfitNegative',\n  '/node_11/sumNetProfitGroupedBySoldDateWhereYearAfter2000',\n  '/node_11/sumWholeSaleCostGroupedBySoldDate'],\n ['/node_12/avgNetProfitGroupedBySoldDate',\n  '/node_12/avgNetProfitGroupedBySoldDateWhereProfitNegative',\n  '/node_12/avgNetProfitGroupedBySoldDateWhereYearAfter2000',\n  '/node_12/avgWholeSaleCostGroupedBySoldDate',\n  '/node_12/countNetProfitGroupedBySoldDate',\n  '/node_12/countNetProfitGroupedBySoldDateWhereProfitNegative',\n  '/node_12/countNetProfitGroupedBySoldDateWhereYearAfter2000',\n  '/node_12/countWholeSaleCostGroupedBySoldDate',\n  '/node_12/filterCatalogSalesWhereProfitNegative',\n  '/node_12/filterCatalogSalesWhereProfitNegativeAndYearAfter2000',\n  '/node_12/filterCatalogSalesWhereYearAfter2000',\n  '/node_12/filterStoreSalesWhereProfitNegative',\n  '/node_12/filterStoreSalesWhereProfitNegativeAndYearAfter2000',\n  '/node_12/filterStoreSalesWhereYearAfter2000',\n  '/node_12/maxNetProfitGroupedBySoldDate',\n  '/node_12/maxNetProfitGroupedBySoldDateWhereProfitNegative',\n  '/node_12/maxNetProfitGroupedBySoldDateWhereYearAfter2000',\n  '/node_12/maxWholeSaleCostGroupedBySoldDate',\n  '/node_12/minNetProfitGroupedBySoldDate',\n  '/node_12/minNetProfitGroupedBySoldDateWhereProfitNegative',\n  '/node_12/minNetProfitGroupedBySoldDateWhereYearAfter2000',\n  '/node_12/minWholeSaleCostGroupedBySoldDate',\n  '/node_12/summaryNetProfitGroupedBySoldDate',\n  '/node_12/summaryWholeSaleCostGroupedBySoldDate',\n  '/node_12/sumNetProfitGroupedBySoldDate',\n  '/node_12/sumNetProfitGroupedBySoldDateWhereProfitNegative',\n  '/node_12/sumNetProfitGroupedBySoldDateWhereYearAfter2000',\n  '/node_12/sumWholeSaleCostGroupedBySoldDate'],\n ['/node_13/avgNetProfitGroupedBySoldDate',\n  '/node_13/avgNetProfitGroupedBySoldDateWhereProfitNegative',\n  '/node_13/avgNetProfitGroupedBySoldDateWhereYearAfter2000',\n  '/node_13/avgWholeSaleCostGroupedBySoldDate',\n  '/node_13/countNetProfitGroupedBySoldDate',\n  '/node_13/countNetProfitGroupedBySoldDateWhereProfitNegative',\n  '/node_13/countNetProfitGroupedBySoldDateWhereYearAfter2000',\n  '/node_13/countWholeSaleCostGroupedBySoldDate',\n  '/node_13/filterCatalogSalesWhereProfitNegative',\n  '/node_13/filterCatalogSalesWhereProfitNegativeAndYearAfter2000',\n  '/node_13/filterCatalogSalesWhereYearAfter2000',\n  '/node_13/filterStoreSalesWhereProfitNegative',\n  '/node_13/filterStoreSalesWhereProfitNegativeAndYearAfter2000',\n  '/node_13/filterStoreSalesWhereYearAfter2000',\n  '/node_13/maxNetProfitGroupedBySoldDate',\n  '/node_13/maxNetProfitGroupedBySoldDateWhereProfitNegative',\n  '/node_13/maxNetProfitGroupedBySoldDateWhereYearAfter2000',\n  '/node_13/maxWholeSaleCostGroupedBySoldDate',\n  '/node_13/minNetProfitGroupedBySoldDate',\n  '/node_13/minNetProfitGroupedBySoldDateWhereProfitNegative',\n  '/node_13/minNetProfitGroupedBySoldDateWhereYearAfter2000',\n  '/node_13/minWholeSaleCostGroupedBySoldDate',\n  '/node_13/summaryNetProfitGroupedBySoldDate',\n  '/node_13/summaryWholeSaleCostGroupedBySoldDate',\n  '/node_13/sumNetProfitGroupedBySoldDate',\n  '/node_13/sumNetProfitGroupedBySoldDateWhereProfitNegative',\n  '/node_13/sumNetProfitGroupedBySoldDateWhereYearAfter2000',\n  '/node_13/sumWholeSaleCostGroupedBySoldDate'],\n ['/node_14/avgNetProfitGroupedBySoldDate',\n  '/node_14/avgNetProfitGroupedBySoldDateWhereProfitNegative',\n  '/node_14/avgNetProfitGroupedBySoldDateWhereYearAfter2000',\n  '/node_14/avgWholeSaleCostGroupedBySoldDate',\n  '/node_14/countNetProfitGroupedBySoldDate',\n  '/node_14/countNetProfitGroupedBySoldDateWhereProfitNegative',\n  '/node_14/countNetProfitGroupedBySoldDateWhereYearAfter2000',\n  '/node_14/countWholeSaleCostGroupedBySoldDate',\n  '/node_14/filterCatalogSalesWhereProfitNegative',\n  '/node_14/filterCatalogSalesWhereProfitNegativeAndYearAfter2000',\n  '/node_14/filterCatalogSalesWhereYearAfter2000',\n  '/node_14/filterStoreSalesWhereProfitNegative',\n  '/node_14/filterStoreSalesWhereProfitNegativeAndYearAfter2000',\n  '/node_14/filterStoreSalesWhereYearAfter2000',\n  '/node_14/maxNetProfitGroupedBySoldDate',\n  '/node_14/maxNetProfitGroupedBySoldDateWhereProfitNegative',\n  '/node_14/maxNetProfitGroupedBySoldDateWhereYearAfter2000',\n  '/node_14/maxWholeSaleCostGroupedBySoldDate',\n  '/node_14/minNetProfitGroupedBySoldDate',\n  '/node_14/minNetProfitGroupedBySoldDateWhereProfitNegative',\n  '/node_14/minNetProfitGroupedBySoldDateWhereYearAfter2000',\n  '/node_14/minWholeSaleCostGroupedBySoldDate',\n  '/node_14/summaryNetProfitGroupedBySoldDate',\n  '/node_14/summaryWholeSaleCostGroupedBySoldDate',\n  '/node_14/sumNetProfitGroupedBySoldDate',\n  '/node_14/sumNetProfitGroupedBySoldDateWhereProfitNegative',\n  '/node_14/sumNetProfitGroupedBySoldDateWhereYearAfter2000',\n  '/node_14/sumWholeSaleCostGroupedBySoldDate'],\n ['/node_15/avgNetProfitGroupedBySoldDate',\n  '/node_15/avgNetProfitGroupedBySoldDateWhereProfitNegative',\n  '/node_15/avgNetProfitGroupedBySoldDateWhereYearAfter2000',\n  '/node_15/avgWholeSaleCostGroupedBySoldDate',\n  '/node_15/countNetProfitGroupedBySoldDate',\n  '/node_15/countNetProfitGroupedBySoldDateWhereProfitNegative',\n  '/node_15/countNetProfitGroupedBySoldDateWhereYearAfter2000',\n  '/node_15/countWholeSaleCostGroupedBySoldDate',\n  '/node_15/filterCatalogSalesWhereProfitNegative',\n  '/node_15/filterCatalogSalesWhereProfitNegativeAndYearAfter2000',\n  '/node_15/filterCatalogSalesWhereYearAfter2000',\n  '/node_15/filterStoreSalesWhereProfitNegative',\n  '/node_15/filterStoreSalesWhereProfitNegativeAndYearAfter2000',\n  '/node_15/filterStoreSalesWhereYearAfter2000',\n  '/node_15/maxNetProfitGroupedBySoldDate',\n  '/node_15/maxNetProfitGroupedBySoldDateWhereProfitNegative',\n  '/node_15/maxNetProfitGroupedBySoldDateWhereYearAfter2000',\n  '/node_15/maxWholeSaleCostGroupedBySoldDate',\n  '/node_15/minNetProfitGroupedBySoldDate',\n  '/node_15/minNetProfitGroupedBySoldDateWhereProfitNegative',\n  '/node_15/minNetProfitGroupedBySoldDateWhereYearAfter2000',\n  '/node_15/minWholeSaleCostGroupedBySoldDate',\n  '/node_15/summaryNetProfitGroupedBySoldDate',\n  '/node_15/summaryWholeSaleCostGroupedBySoldDate',\n  '/node_15/sumNetProfitGroupedBySoldDate',\n  '/node_15/sumNetProfitGroupedBySoldDateWhereProfitNegative',\n  '/node_15/sumNetProfitGroupedBySoldDateWhereYearAfter2000',\n  '/node_15/sumWholeSaleCostGroupedBySoldDate'],\n ['/node_16/avgNetProfitGroupedBySoldDate',\n  '/node_16/avgNetProfitGroupedBySoldDateWhereProfitNegative',\n  '/node_16/avgNetProfitGroupedBySoldDateWhereYearAfter2000',\n  '/node_16/avgWholeSaleCostGroupedBySoldDate',\n  '/node_16/countNetProfitGroupedBySoldDate',\n  '/node_16/countNetProfitGroupedBySoldDateWhereProfitNegative',\n  '/node_16/countNetProfitGroupedBySoldDateWhereYearAfter2000',\n  '/node_16/countWholeSaleCostGroupedBySoldDate',\n  '/node_16/filterCatalogSalesWhereProfitNegative',\n  '/node_16/filterCatalogSalesWhereProfitNegativeAndYearAfter2000',\n  '/node_16/filterCatalogSalesWhereYearAfter2000',\n  '/node_16/filterStoreSalesWhereProfitNegative',\n  '/node_16/filterStoreSalesWhereProfitNegativeAndYearAfter2000',\n  '/node_16/filterStoreSalesWhereYearAfter2000',\n  '/node_16/maxNetProfitGroupedBySoldDate',\n  '/node_16/maxNetProfitGroupedBySoldDateWhereProfitNegative',\n  '/node_16/maxNetProfitGroupedBySoldDateWhereYearAfter2000',\n  '/node_16/maxWholeSaleCostGroupedBySoldDate',\n  '/node_16/minNetProfitGroupedBySoldDate',\n  '/node_16/minNetProfitGroupedBySoldDateWhereProfitNegative',\n  '/node_16/minNetProfitGroupedBySoldDateWhereYearAfter2000',\n  '/node_16/minWholeSaleCostGroupedBySoldDate',\n  '/node_16/summaryNetProfitGroupedBySoldDate',\n  '/node_16/summaryWholeSaleCostGroupedBySoldDate',\n  '/node_16/sumNetProfitGroupedBySoldDate',\n  '/node_16/sumNetProfitGroupedBySoldDateWhereProfitNegative',\n  '/node_16/sumNetProfitGroupedBySoldDateWhereYearAfter2000',\n  '/node_16/sumWholeSaleCostGroupedBySoldDate'],\n ['/node_17/avgNetProfitGroupedBySoldDate',\n  '/node_17/avgNetProfitGroupedBySoldDateWhereProfitNegative',\n  '/node_17/avgNetProfitGroupedBySoldDateWhereYearAfter2000',\n  '/node_17/avgWholeSaleCostGroupedBySoldDate',\n  '/node_17/countNetProfitGroupedBySoldDate',\n  '/node_17/countNetProfitGroupedBySoldDateWhereProfitNegative',\n  '/node_17/countNetProfitGroupedBySoldDateWhereYearAfter2000',\n  '/node_17/countWholeSaleCostGroupedBySoldDate',\n  '/node_17/filterCatalogSalesWhereProfitNegative',\n  '/node_17/filterCatalogSalesWhereProfitNegativeAndYearAfter2000',\n  '/node_17/filterCatalogSalesWhereYearAfter2000',\n  '/node_17/filterStoreSalesWhereProfitNegative',\n  '/node_17/filterStoreSalesWhereProfitNegativeAndYearAfter2000',\n  '/node_17/filterStoreSalesWhereYearAfter2000',\n  '/node_17/maxNetProfitGroupedBySoldDate',\n  '/node_17/maxNetProfitGroupedBySoldDateWhereProfitNegative',\n  '/node_17/maxNetProfitGroupedBySoldDateWhereYearAfter2000',\n  '/node_17/maxWholeSaleCostGroupedBySoldDate',\n  '/node_17/minNetProfitGroupedBySoldDate',\n  '/node_17/minNetProfitGroupedBySoldDateWhereProfitNegative',\n  '/node_17/minNetProfitGroupedBySoldDateWhereYearAfter2000',\n  '/node_17/minWholeSaleCostGroupedBySoldDate',\n  '/node_17/summaryNetProfitGroupedBySoldDate',\n  '/node_17/summaryWholeSaleCostGroupedBySoldDate',\n  '/node_17/sumNetProfitGroupedBySoldDate',\n  '/node_17/sumNetProfitGroupedBySoldDateWhereProfitNegative',\n  '/node_17/sumNetProfitGroupedBySoldDateWhereYearAfter2000',\n  '/node_17/sumWholeSaleCostGroupedBySoldDate'],\n ['/node_18/avgNetProfitGroupedBySoldDate',\n  '/node_18/avgNetProfitGroupedBySoldDateWhereProfitNegative',\n  '/node_18/avgNetProfitGroupedBySoldDateWhereYearAfter2000',\n  '/node_18/avgWholeSaleCostGroupedBySoldDate',\n  '/node_18/countNetProfitGroupedBySoldDate',\n  '/node_18/countNetProfitGroupedBySoldDateWhereProfitNegative',\n  '/node_18/countNetProfitGroupedBySoldDateWhereYearAfter2000',\n  '/node_18/countWholeSaleCostGroupedBySoldDate',\n  '/node_18/filterCatalogSalesWhereProfitNegative',\n  '/node_18/filterCatalogSalesWhereProfitNegativeAndYearAfter2000',\n  '/node_18/filterCatalogSalesWhereYearAfter2000',\n  '/node_18/filterStoreSalesWhereProfitNegative',\n  '/node_18/filterStoreSalesWhereProfitNegativeAndYearAfter2000',\n  '/node_18/filterStoreSalesWhereYearAfter2000',\n  '/node_18/maxNetProfitGroupedBySoldDate',\n  '/node_18/maxNetProfitGroupedBySoldDateWhereProfitNegative',\n  '/node_18/maxNetProfitGroupedBySoldDateWhereYearAfter2000',\n  '/node_18/maxWholeSaleCostGroupedBySoldDate',\n  '/node_18/minNetProfitGroupedBySoldDate',\n  '/node_18/minNetProfitGroupedBySoldDateWhereProfitNegative',\n  '/node_18/minNetProfitGroupedBySoldDateWhereYearAfter2000',\n  '/node_18/minWholeSaleCostGroupedBySoldDate',\n  '/node_18/summaryNetProfitGroupedBySoldDate',\n  '/node_18/summaryWholeSaleCostGroupedBySoldDate',\n  '/node_18/sumNetProfitGroupedBySoldDate',\n  '/node_18/sumNetProfitGroupedBySoldDateWhereProfitNegative',\n  '/node_18/sumNetProfitGroupedBySoldDateWhereYearAfter2000',\n  '/node_18/sumWholeSaleCostGroupedBySoldDate'],\n ['/node_19/avgNetProfitGroupedBySoldDate',\n  '/node_19/avgNetProfitGroupedBySoldDateWhereProfitNegative',\n  '/node_19/avgNetProfitGroupedBySoldDateWhereYearAfter2000',\n  '/node_19/avgWholeSaleCostGroupedBySoldDate',\n  '/node_19/countNetProfitGroupedBySoldDate',\n  '/node_19/countNetProfitGroupedBySoldDateWhereProfitNegative',\n  '/node_19/countNetProfitGroupedBySoldDateWhereYearAfter2000',\n  '/node_19/countWholeSaleCostGroupedBySoldDate',\n  '/node_19/filterCatalogSalesWhereProfitNegative',\n  '/node_19/filterCatalogSalesWhereProfitNegativeAndYearAfter2000',\n  '/node_19/filterCatalogSalesWhereYearAfter2000',\n  '/node_19/filterStoreSalesWhereProfitNegative',\n  '/node_19/filterStoreSalesWhereProfitNegativeAndYearAfter2000',\n  '/node_19/filterStoreSalesWhereYearAfter2000',\n  '/node_19/maxNetProfitGroupedBySoldDate',\n  '/node_19/maxNetProfitGroupedBySoldDateWhereProfitNegative',\n  '/node_19/maxNetProfitGroupedBySoldDateWhereYearAfter2000',\n  '/node_19/maxWholeSaleCostGroupedBySoldDate',\n  '/node_19/minNetProfitGroupedBySoldDate',\n  '/node_19/minNetProfitGroupedBySoldDateWhereProfitNegative',\n  '/node_19/minNetProfitGroupedBySoldDateWhereYearAfter2000',\n  '/node_19/minWholeSaleCostGroupedBySoldDate',\n  '/node_19/summaryNetProfitGroupedBySoldDate',\n  '/node_19/summaryWholeSaleCostGroupedBySoldDate',\n  '/node_19/sumNetProfitGroupedBySoldDate',\n  '/node_19/sumNetProfitGroupedBySoldDateWhereProfitNegative',\n  '/node_19/sumNetProfitGroupedBySoldDateWhereYearAfter2000',\n  '/node_19/sumWholeSaleCostGroupedBySoldDate'],\n []]"
     },
     "execution_count": 38,
     "metadata": {},
     "output_type": "execute_result"
    }
   ],
   "source": [
    "data_directories = []\n",
    "data_directories_groups = []\n",
    "for directory in nodes_directories:\n",
    "    cur_node_subdirectories = get_subdirectories(directory)\n",
    "    data_directories.append(cur_node_subdirectories)\n",
    "\n",
    "data_directories_groups = data_directories\n",
    "data_directories = [item for sublist in data_directories for item in sublist]\n",
    "data_directories_groups"
   ],
   "metadata": {
    "collapsed": false,
    "pycharm": {
     "name": "#%%\n"
    }
   }
  },
  {
   "cell_type": "markdown",
   "source": [
    "Check for function names in each node directory.\n",
    "These names should match the names in `experiments-plan.csv`.\n"
   ],
   "metadata": {
    "collapsed": false
   }
  },
  {
   "cell_type": "code",
   "execution_count": 39,
   "outputs": [
    {
     "data": {
      "text/plain": "['/avgNetProfitGroupedBySoldDate',\n '/avgNetProfitGroupedBySoldDateWhereProfitNegative',\n '/avgNetProfitGroupedBySoldDateWhereYearAfter2000',\n '/avgWholeSaleCostGroupedBySoldDate',\n '/countNetProfitGroupedBySoldDate',\n '/countNetProfitGroupedBySoldDateWhereProfitNegative',\n '/countNetProfitGroupedBySoldDateWhereYearAfter2000',\n '/countWholeSaleCostGroupedBySoldDate',\n '/filterCatalogSalesWhereProfitNegative',\n '/filterCatalogSalesWhereProfitNegativeAndYearAfter2000',\n '/filterCatalogSalesWhereYearAfter2000',\n '/filterStoreSalesWhereProfitNegative',\n '/filterStoreSalesWhereProfitNegativeAndYearAfter2000',\n '/filterStoreSalesWhereYearAfter2000',\n '/maxNetProfitGroupedBySoldDate',\n '/maxNetProfitGroupedBySoldDateWhereProfitNegative',\n '/maxNetProfitGroupedBySoldDateWhereYearAfter2000',\n '/maxWholeSaleCostGroupedBySoldDate',\n '/minNetProfitGroupedBySoldDate',\n '/minNetProfitGroupedBySoldDateWhereProfitNegative',\n '/minNetProfitGroupedBySoldDateWhereYearAfter2000',\n '/minWholeSaleCostGroupedBySoldDate',\n '/summaryNetProfitGroupedBySoldDate',\n '/summaryWholeSaleCostGroupedBySoldDate',\n '/sumNetProfitGroupedBySoldDate',\n '/sumNetProfitGroupedBySoldDateWhereProfitNegative',\n '/sumNetProfitGroupedBySoldDateWhereYearAfter2000',\n '/sumWholeSaleCostGroupedBySoldDate']"
     },
     "execution_count": 39,
     "metadata": {},
     "output_type": "execute_result"
    }
   ],
   "source": [
    "function_names = data_directories_groups[1]\n",
    "function_names = list(map(lambda x: x[8:], data_directories_groups[1]))\n",
    "function_names"
   ],
   "metadata": {
    "collapsed": false,
    "pycharm": {
     "name": "#%%\n"
    }
   }
  },
  {
   "cell_type": "markdown",
   "source": [
    "### Aggregating data from all nodes (11-19)"
   ],
   "metadata": {
    "collapsed": false
   }
  },
  {
   "cell_type": "code",
   "execution_count": 40,
   "outputs": [
    {
     "data": {
      "text/plain": "['/node_11',\n '/node_12',\n '/node_13',\n '/node_14',\n '/node_15',\n '/node_16',\n '/node_17',\n '/node_18',\n '/node_19']"
     },
     "execution_count": 40,
     "metadata": {},
     "output_type": "execute_result"
    }
   ],
   "source": [
    "master_dir_index = nodes_directories.index('/node_20')\n",
    "workers_directories = nodes_directories.copy()\n",
    "del workers_directories[master_dir_index]\n",
    "\n",
    "workers_directories"
   ],
   "metadata": {
    "collapsed": false,
    "pycharm": {
     "name": "#%%\n"
    }
   }
  },
  {
   "cell_type": "code",
   "execution_count": 41,
   "outputs": [],
   "source": [
    "create_directory(f\"./../{working_directory}/preprocessed-data\")\n",
    "\n",
    "mean_dir = f\"./../{working_directory}/preprocessed-data/workers-mean-data\"\n",
    "create_directory(mean_dir)\n",
    "workers_summary = pd.DataFrame(columns=[\"function_name\",\n",
    "                                             \"mean_duration\",\n",
    "                                             \"mean_interval\",\n",
    "                                             \"nodes_durations\",\n",
    "                                             \"nodes_intervals\"])\n",
    "\n",
    "workers_summary.to_csv(\"{0}/experiments_mean_duration.csv\".format(mean_dir), index=False)"
   ],
   "metadata": {
    "collapsed": false,
    "pycharm": {
     "name": "#%%\n"
    }
   }
  },
  {
   "cell_type": "code",
   "execution_count": 45,
   "outputs": [],
   "source": [
    "def preprocess_selected_function(f_names, workers_summary):\n",
    "    for function_name in f_names:\n",
    "        base_data = pd.DataFrame()\n",
    "        experiment_duration = []\n",
    "        experiment_interval = []\n",
    "        nodes_durations = []\n",
    "        nodes_intervals = []\n",
    "\n",
    "        experiment_mean_dir = \"{0}{1}\".format(mean_dir, function_name)\n",
    "        create_directory(experiment_mean_dir)\n",
    "\n",
    "        for node_dir in workers_directories:\n",
    "            file_path = f\"./../{working_directory}{node_dir}{function_name}\"\n",
    "            p = Path(file_path)\n",
    "            plots_path = \"{0}/plots\".format(file_path)\n",
    "\n",
    "            create_directory(plots_path)\n",
    "            create_directory(plots_path + \"/RAM\")\n",
    "            create_directory(plots_path + \"/CPU\")\n",
    "\n",
    "            experiment_number = 1\n",
    "            node_intervals = []\n",
    "            node_durations = []\n",
    "\n",
    "            for file in p.glob('*.csv'):\n",
    "                new_data, (duration, interval) = preprocess_file(file_path, plots_path, file.name, experiment_number)\n",
    "                base_data = pd.concat((base_data, new_data))\n",
    "\n",
    "                experiment_duration.append(duration)\n",
    "                experiment_interval.append(interval)\n",
    "                node_intervals.append(interval)\n",
    "                node_durations.append(duration)\n",
    "\n",
    "                experiment_number += 1\n",
    "\n",
    "            print(\"{0} | {1} durations: {2}\".format(function_name[1:], node_dir[1:], node_durations))\n",
    "\n",
    "            nodes_intervals.append((node_dir[1:], round(mean(node_intervals), 3)))\n",
    "            nodes_durations.append((node_dir[1:], round(mean(node_durations), 3)))\n",
    "\n",
    "        mean_interval = round(mean(experiment_interval), 3)\n",
    "\n",
    "        base_data[\"timestamp\"] = base_data.apply(lambda row: mean_interval * row.name, axis = 1)\n",
    "        base_data = base_data.groupby(base_data.index).mean()\n",
    "        base_data.to_csv(\"{0}/mean_data.csv\".format(experiment_mean_dir), index=False)\n",
    "\n",
    "        generate_plot(base_data.index, base_data.CPU, \"{0}/mean_CPU.png\".format(experiment_mean_dir), function_name[1:] + \" CPU\")\n",
    "        generate_plot(base_data.index, base_data.RAM, \"{0}/mean_RAM.png\".format(experiment_mean_dir), function_name[1:] + \" RAM\")\n",
    "\n",
    "        # smooth_data(base_data, experiment_mean_dir, function_name)\n",
    "        workers_summary = workers_summary.append({\"function_name\": function_name[1:],\n",
    "                                                            \"mean_duration\": round(mean(experiment_duration), 3),\n",
    "                                                            \"mean_interval\": mean_interval,\n",
    "                                                            \"nodes_durations\": nodes_durations,\n",
    "                                                            \"nodes_intervals\": nodes_intervals}, ignore_index=True)\n",
    "\n",
    "    workers_summary.to_csv(\"{0}/experiments_mean_duration.csv\".format(mean_dir), index=False, mode=\"a\", header=False)\n",
    "\n",
    "    del base_data\n",
    "    del experiment_interval\n",
    "    del experiment_duration\n",
    "    del nodes_durations\n",
    "    del nodes_intervals\n",
    "    del new_data\n",
    "    del node_intervals\n",
    "    del node_durations\n",
    "    del workers_summary\n",
    "    gc.collect()"
   ],
   "metadata": {
    "collapsed": false,
    "pycharm": {
     "name": "#%%\n"
    }
   }
  },
  {
   "cell_type": "code",
   "execution_count": 46,
   "outputs": [
    {
     "name": "stdout",
     "output_type": "stream",
     "text": [
      "Functions: 28\n"
     ]
    }
   ],
   "source": [
    "print(f\"Functions: {len(function_names)}\")"
   ],
   "metadata": {
    "collapsed": false,
    "pycharm": {
     "name": "#%%\n"
    }
   }
  },
  {
   "cell_type": "code",
   "execution_count": 47,
   "outputs": [
    {
     "name": "stdout",
     "output_type": "stream",
     "text": [
      "Error: ./../1GB-9N/preprocessed-data/workers-mean-data/avgNetProfitGroupedBySoldDate - Nie można utworzyć pliku, który już istnieje.\n",
      "avgNetProfitGroupedBySoldDate | node_11 durations: [88.746793, 87.15337, 87.798018, 91.110898, 77.578098, 91.750292, 92.834669, 118.332791, 120.522102, 88.899015, 85.130526, 121.157775, 114.074639, 85.923986, 119.115364, 85.905887, 88.751661, 120.546455, 87.801847, 85.915134, 85.760761, 88.898936, 119.273165, 89.820416, 88.922587]\n",
      "avgNetProfitGroupedBySoldDate | node_12 durations: [88.669688, 86.969832, 87.716031, 91.017339, 77.493691, 91.635009, 92.675926, 118.225313, 120.402587, 88.68349, 84.94376, 121.017818, 114.042143, 85.890112, 119.007348, 85.882583, 88.677782, 120.40188, 87.74126, 85.878489, 85.733567, 88.849275, 119.145433, 89.770635, 88.83798]\n",
      "avgNetProfitGroupedBySoldDate | node_13 durations: [88.575387, 86.853412, 87.649073, 91.063528, 77.37734, 91.680124, 92.612891, 118.104082, 120.311037, 88.567847, 84.82644, 120.945591, 113.828122, 85.78722, 118.902467, 85.646617, 88.554419, 120.313534, 87.648949, 85.644336, 85.606853, 88.761034, 119.107522, 89.680258, 88.866551]\n",
      "avgNetProfitGroupedBySoldDate | node_14 durations: [88.542945, 86.821188, 87.598646, 90.937465, 77.387144, 91.530666, 92.468785, 118.030406, 120.308087, 88.545109, 84.767967, 120.756206, 113.704355, 85.639344, 118.805405, 85.555316, 88.500214, 120.264905, 87.440929, 85.540521, 85.404349, 88.699071, 119.059471, 89.604803, 88.705421]\n",
      "avgNetProfitGroupedBySoldDate | node_15 durations: [88.372118, 86.76944, 87.445984, 90.588835, 77.181536, 91.358689, 92.472589, 117.949187, 120.160342, 88.37641, 84.749562, 120.766726, 113.590793, 85.552454, 118.701508, 85.550233, 88.394958, 120.142411, 87.443559, 85.548569, 85.330133, 88.539674, 118.857636, 89.479237, 88.646839]\n",
      "avgNetProfitGroupedBySoldDate | node_16 durations: [88.382151, 86.553773, 87.35161, 90.571227, 77.198815, 91.35239, 92.300432, 117.800524, 120.130236, 88.316158, 84.662494, 120.600389, 113.591663, 85.476377, 118.573293, 85.437292, 88.235778, 120.082505, 87.344421, 85.379809, 85.302307, 88.405845, 118.77424, 89.323508, 88.570586]\n",
      "avgNetProfitGroupedBySoldDate | node_17 durations: [88.214927, 86.527741, 87.31471, 90.449391, 77.028455, 91.273087, 92.273896, 117.66459, 119.977868, 88.239764, 84.490155, 120.566719, 113.410889, 85.320274, 118.430604, 85.280285, 88.228589, 119.984579, 87.159467, 85.400895, 85.145516, 88.367275, 118.714875, 89.311409, 88.369096]\n",
      "avgNetProfitGroupedBySoldDate | node_18 durations: [88.212096, 86.460687, 87.250724, 90.260649, 76.881701, 91.139614, 92.086738, 117.649003, 119.946156, 88.177781, 84.421816, 120.41897, 113.344471, 85.21783, 118.387382, 85.202996, 88.072113, 119.802909, 87.055898, 85.19712, 85.059921, 88.299781, 118.690381, 89.14126, 88.356503]\n",
      "avgNetProfitGroupedBySoldDate | node_19 durations: [88.096668, 86.284073, 87.056882, 90.210133, 76.830429, 90.996287, 92.08782, 117.547752, 119.745941, 87.998243, 84.382102, 120.354764, 113.308721, 85.175509, 118.334352, 85.160431, 87.996723, 119.734195, 87.061091, 85.171319, 85.004884, 88.150764, 118.478367, 89.097444, 88.284706]\n",
      "avgNetProfitGroupedBySoldDateWhereProfitNegative | node_11 durations: [119.439676, 81.756896, 81.99295, 78.844033, 120.084407, 111.267234, 78.837405, 81.837195, 81.988691, 81.042776, 78.842023, 81.983351, 120.513633, 115.196066, 73.652702, 81.839937, 114.098439, 78.83388, 84.837926, 79.707813, 111.216435, 84.839111, 78.995076, 82.019479, 78.672238]\n",
      "avgNetProfitGroupedBySoldDateWhereProfitNegative | node_12 durations: [119.473705, 81.674696, 81.841965, 78.734344, 120.107944, 111.117621, 78.734953, 81.704514, 81.837271, 80.913717, 78.727905, 81.844968, 120.42304, 115.033011, 73.603642, 81.867739, 113.903684, 78.737851, 84.80378, 79.67931, 111.07567, 84.662828, 78.901045, 81.838846, 78.574899]\n",
      "avgNetProfitGroupedBySoldDateWhereProfitNegative | node_13 durations: [119.388006, 81.567091, 81.712338, 78.60233, 119.918129, 111.102374, 78.604431, 81.713092, 81.731408, 80.807264, 78.590655, 81.70077, 120.291809, 115.006023, 73.469307, 81.710022, 113.923754, 78.637016, 84.70524, 79.530404, 110.974336, 84.519342, 78.820853, 81.731657, 78.455687]\n",
      "avgNetProfitGroupedBySoldDateWhereProfitNegative | node_14 durations: [119.256757, 81.470336, 81.58051, 78.47916, 119.899654, 110.872645, 78.633884, 81.62318, 81.623288, 80.687483, 78.493861, 81.622199, 120.245864, 114.926632, 73.363347, 81.637235, 113.712709, 78.644454, 84.610069, 79.429399, 110.86869, 84.445603, 78.633887, 81.635121, 78.471661]\n",
      "avgNetProfitGroupedBySoldDateWhereProfitNegative | node_15 durations: [119.025065, 81.280063, 81.606562, 78.469668, 119.81581, 110.868042, 78.457131, 81.445731, 81.603952, 80.622572, 78.473629, 81.599061, 120.133753, 114.769561, 73.276371, 81.597011, 113.685784, 78.401221, 84.440621, 79.254828, 110.86378, 84.432532, 78.570511, 81.5946, 78.310436]\n",
      "avgNetProfitGroupedBySoldDateWhereProfitNegative | node_16 durations: [118.825541, 81.272669, 81.421271, 78.312152, 119.69893, 110.664563, 78.447725, 81.390215, 81.423888, 80.468355, 78.310922, 81.543165, 120.038787, 114.715907, 73.167707, 81.398672, 113.488722, 78.348958, 84.353911, 79.214039, 110.652768, 84.200383, 78.453991, 81.252834, 78.15484]\n",
      "avgNetProfitGroupedBySoldDateWhereProfitNegative | node_17 durations: [118.871338, 81.082759, 81.375331, 78.302455, 119.49552, 110.636524, 78.275024, 81.246016, 81.380066, 80.404163, 78.262981, 81.380644, 119.974487, 114.635192, 73.097216, 81.237081, 113.424907, 78.266721, 84.327834, 79.046216, 110.621686, 84.178505, 78.43798, 81.216301, 78.107711]\n",
      "avgNetProfitGroupedBySoldDateWhereProfitNegative | node_18 durations: [118.698659, 80.96108, 81.289832, 78.14956, 119.503821, 110.52926, 78.149418, 81.130497, 81.291005, 80.348745, 78.143005, 81.30306, 119.810776, 114.449809, 72.962663, 81.286954, 113.361724, 78.181719, 84.276244, 79.028224, 110.525307, 84.116733, 78.312059, 81.128182, 77.924563]\n",
      "avgNetProfitGroupedBySoldDateWhereProfitNegative | node_19 durations: [118.623981, 80.864988, 80.989108, 78.10302, 119.292797, 110.483467, 77.939447, 81.063453, 81.244301, 80.311921, 78.022762, 81.247291, 119.749507, 114.401621, 72.774042, 81.092156, 113.274169, 78.127806, 84.069241, 78.891316, 110.47532, 83.917904, 78.266177, 80.930926, 77.939761]\n",
      "avgNetProfitGroupedBySoldDateWhereYearAfter2000 | node_11 durations: [88.930849, 125.255951, 95.063592, 92.058618, 111.268008, 87.797196, 116.142746, 94.160421, 123.706312, 97.897325, 100.232236, 83.844685, 84.77871, 89.857672, 83.693181, 86.093, 91.902327, 82.765494, 89.859325, 93.96075, 94.905061, 87.892797, 85.114934, 97.885847, 83.868672]\n",
      "avgNetProfitGroupedBySoldDateWhereYearAfter2000 | node_12 durations: [88.801729, 125.038743, 94.964516, 91.889772, 111.171533, 87.762351, 115.991611, 94.191056, 123.610277, 97.844079, 100.132946, 83.770308, 84.704474, 89.676953, 83.62816, 85.959521, 91.858194, 82.60702, 89.640754, 93.715495, 94.809661, 87.661297, 85.012303, 97.774235, 83.758292]\n",
      "avgNetProfitGroupedBySoldDateWhereYearAfter2000 | node_13 durations: [88.654644, 125.038998, 95.026943, 91.918464, 111.040551, 87.63413, 115.864893, 93.824418, 123.515115, 97.689089, 99.994721, 83.679819, 84.646901, 89.550547, 83.517503, 85.814661, 91.770563, 82.540986, 89.669797, 93.755976, 94.701844, 87.70586, 84.897213, 97.661582, 83.661331]\n",
      "avgNetProfitGroupedBySoldDateWhereYearAfter2000 | node_14 durations: [88.524176, 124.8855, 94.835181, 91.672159, 110.894228, 87.415535, 115.74952, 93.748742, 123.377813, 97.677044, 99.870644, 83.551128, 84.462832, 89.49178, 83.51058, 85.559331, 91.564256, 82.403544, 89.592175, 93.584457, 94.529, 87.601823, 84.606145, 97.587749, 83.523183]\n",
      "avgNetProfitGroupedBySoldDateWhereYearAfter2000 | node_15 durations: [88.373673, 124.869038, 94.646113, 91.665155, 110.799765, 87.418746, 115.627604, 93.717905, 123.309375, 97.489546, 99.854269, 83.470956, 84.465435, 89.326207, 83.334366, 85.385943, 91.488689, 82.393182, 89.479985, 93.425619, 94.495455, 87.434508, 84.441496, 97.516473, 83.497451]\n",
      "avgNetProfitGroupedBySoldDateWhereYearAfter2000 | node_16 durations: [88.287512, 124.694173, 94.58715, 91.600168, 110.7298, 87.225473, 115.546759, 93.620795, 123.162552, 97.507259, 99.694937, 83.331191, 84.274091, 89.246571, 83.190918, 85.380955, 91.43768, 82.339453, 89.340599, 93.450231, 94.400012, 87.273134, 84.43597, 97.376928, 83.302271]\n",
      "avgNetProfitGroupedBySoldDateWhereYearAfter2000 | node_17 durations: [88.131336, 124.545059, 94.563274, 91.428218, 110.701326, 87.271282, 115.502003, 93.439061, 123.114135, 97.32397, 99.644768, 83.154129, 84.237465, 89.190258, 83.184857, 85.305364, 91.260537, 82.123777, 89.313747, 93.334824, 94.247396, 87.238861, 84.249027, 97.335567, 83.332656]\n",
      "avgNetProfitGroupedBySoldDateWhereYearAfter2000 | node_18 durations: [88.066122, 124.561168, 94.345808, 91.339345, 110.55987, 87.107335, 115.456526, 93.400555, 122.965526, 97.203646, 99.544834, 83.038773, 84.118301, 89.150761, 83.026454, 85.218829, 91.19672, 82.077953, 89.153126, 93.254978, 94.188967, 87.058317, 84.143913, 97.172128, 83.179455]\n",
      "avgNetProfitGroupedBySoldDateWhereYearAfter2000 | node_19 durations: [87.999299, 124.477903, 94.375786, 91.300867, 110.494715, 87.058495, 115.378587, 93.314209, 122.748517, 97.155396, 99.492433, 82.911741, 84.08187, 88.94866, 82.970661, 85.047055, 91.161331, 82.03715, 89.011597, 93.074985, 94.146036, 87.093538, 84.088424, 97.16305, 83.024118]\n",
      "avgWholeSaleCostGroupedBySoldDate | node_11 durations: [88.898706, 85.754385, 87.322602, 87.014922, 76.945324, 85.919762, 87.748657, 75.835027, 86.799592, 86.979894, 82.92841, 88.111392, 89.22024, 85.914299, 75.96821, 77.72119, 88.739384, 85.755249, 87.798574, 88.739823, 84.813226, 85.753995, 86.964428, 116.431843, 86.220934]\n",
      "avgWholeSaleCostGroupedBySoldDate | node_12 durations: [88.792433, 85.580325, 87.134481, 86.945826, 76.552536, 85.866325, 87.641798, 75.76899, 86.643236, 86.803959, 82.846699, 87.99414, 88.998958, 85.770837, 75.781923, 77.622309, 88.655236, 85.71658, 87.587255, 88.689848, 84.79037, 85.723148, 86.806486, 116.35941, 86.175919]\n",
      "avgWholeSaleCostGroupedBySoldDate | node_13 durations: [88.730573, 85.614779, 87.073036, 86.730387, 76.452529, 85.765123, 87.639154, 75.655097, 86.540859, 86.844711, 82.655087, 87.944659, 88.981363, 85.607431, 75.642368, 77.504837, 88.659318, 85.603713, 87.484226, 88.662272, 84.699163, 85.599566, 86.691023, 116.256486, 86.063867]\n",
      "avgWholeSaleCostGroupedBySoldDate | node_14 durations: [88.548897, 85.393872, 86.960036, 86.661489, 76.423571, 85.695904, 87.595056, 75.632123, 86.497238, 86.667421, 82.55874, 87.905089, 88.847059, 85.549707, 75.646598, 77.374465, 88.534687, 85.559436, 87.438511, 88.542127, 84.60227, 85.552338, 86.653042, 116.168216, 86.025167]\n",
      "avgWholeSaleCostGroupedBySoldDate | node_15 durations: [88.538507, 85.382276, 86.952589, 86.634042, 76.263571, 85.536657, 87.425361, 75.489618, 86.329738, 86.64741, 82.535606, 87.736597, 88.856635, 85.400595, 75.47361, 77.362148, 88.381327, 85.380984, 87.437275, 88.372403, 84.442754, 85.37944, 86.488412, 116.047259, 85.863366]\n",
      "avgWholeSaleCostGroupedBySoldDate | node_16 durations: [88.406398, 85.303022, 86.866327, 86.464269, 76.247675, 85.435577, 87.30924, 75.329855, 86.376884, 86.522155, 82.332702, 87.617118, 88.709424, 85.289147, 75.33796, 77.212989, 88.275771, 85.277327, 87.181225, 88.251636, 84.359498, 85.313908, 86.393974, 115.94252, 85.749445]\n",
      "avgWholeSaleCostGroupedBySoldDate | node_17 durations: [88.383897, 85.121081, 86.519413, 86.34687, 76.113784, 85.425721, 87.278228, 75.338273, 86.211573, 86.382124, 82.30231, 87.606186, 88.528158, 85.262686, 75.315116, 77.176736, 88.218043, 85.269768, 87.167937, 88.246485, 84.190685, 85.215446, 86.360918, 115.905562, 85.736221]\n",
      "avgWholeSaleCostGroupedBySoldDate | node_18 durations: [88.197293, 85.03513, 86.462079, 86.301832, 76.083391, 85.217693, 87.072316, 75.152363, 86.144357, 86.3029, 82.215196, 87.25069, 88.508675, 85.050968, 75.154532, 76.970267, 88.188463, 85.170597, 87.089227, 88.03842, 84.145207, 85.048766, 86.149182, 115.84906, 85.51785]\n",
      "avgWholeSaleCostGroupedBySoldDate | node_19 durations: [88.158309, 85.00783, 86.264593, 86.249927, 75.896082, 85.255559, 87.03852, 75.104071, 86.061427, 86.250964, 82.176937, 87.197587, 88.465871, 85.00405, 75.11128, 76.999639, 87.996544, 85.005101, 86.884742, 87.989771, 84.070801, 85.007622, 86.07341, 115.647899, 85.477577]\n"
     ]
    }
   ],
   "source": [
    "preprocess_selected_function(function_names[0:4], workers_summary)"
   ],
   "metadata": {
    "collapsed": false,
    "pycharm": {
     "name": "#%%\n"
    }
   }
  },
  {
   "cell_type": "code",
   "execution_count": 48,
   "outputs": [
    {
     "data": {
      "text/plain": "4920196"
     },
     "execution_count": 48,
     "metadata": {},
     "output_type": "execute_result"
    }
   ],
   "source": [
    "gc.collect()"
   ],
   "metadata": {
    "collapsed": false,
    "pycharm": {
     "name": "#%%\n"
    }
   }
  },
  {
   "cell_type": "code",
   "execution_count": 49,
   "outputs": [
    {
     "name": "stdout",
     "output_type": "stream",
     "text": [
      "countNetProfitGroupedBySoldDate | node_11 durations: [88.738044, 86.969684, 119.584273, 76.784317, 114.074945, 87.014826, 93.150079, 90.953185, 80.64924, 85.921963, 87.792424, 119.272997, 86.871016, 88.913084, 88.919853, 76.643492, 95.993718, 86.705752, 86.853002, 119.272186, 80.663067, 84.903742, 86.860521, 76.668114, 87.807851]\n",
      "countNetProfitGroupedBySoldDate | node_12 durations: [88.697097, 86.828443, 119.462564, 76.709481, 114.045731, 86.817264, 93.036276, 90.863301, 80.585207, 85.736373, 87.748093, 119.142781, 86.649107, 88.831991, 88.75468, 76.554366, 96.005775, 86.658411, 86.647432, 119.155276, 80.62269, 84.793746, 86.812396, 76.536631, 87.758605]\n",
      "countNetProfitGroupedBySoldDate | node_13 durations: [88.561652, 86.705133, 119.422304, 76.574038, 113.966008, 86.705314, 93.031098, 90.76121, 80.516586, 85.772517, 87.631529, 119.080566, 86.552554, 88.748862, 88.584643, 76.425512, 95.863903, 86.463269, 86.545012, 119.069816, 80.472312, 84.674609, 86.679846, 76.434462, 87.642321]\n",
      "countNetProfitGroupedBySoldDate | node_14 durations: [88.518446, 86.651996, 119.368456, 76.437288, 113.865481, 86.655272, 92.949884, 90.703433, 80.373488, 85.562237, 87.59309, 118.867277, 86.501442, 88.705794, 88.538536, 76.434657, 95.778707, 86.49779, 86.493429, 118.879859, 80.35654, 84.616346, 86.667149, 76.277267, 87.605304]\n",
      "countNetProfitGroupedBySoldDate | node_15 durations: [88.388401, 86.343652, 119.042795, 76.43241, 113.701818, 86.496187, 92.788321, 90.578532, 80.367484, 85.547781, 87.436892, 118.898391, 86.491342, 88.545507, 88.394819, 76.276126, 95.637115, 86.350816, 86.338083, 118.899685, 80.352696, 84.447003, 86.499292, 76.271042, 87.473778]\n",
      "countNetProfitGroupedBySoldDate | node_16 durations: [88.25237, 86.230478, 118.911875, 76.250889, 113.60392, 86.490003, 92.745371, 90.44625, 80.177195, 85.46531, 87.334153, 118.733602, 86.377798, 88.237633, 88.397213, 76.144178, 95.564231, 86.232828, 86.226382, 118.796767, 80.178753, 84.346973, 86.385706, 76.133437, 87.273363]\n",
      "countNetProfitGroupedBySoldDate | node_17 durations: [88.239192, 86.206183, 118.876183, 76.240407, 113.582235, 86.366575, 92.602697, 90.361382, 80.140904, 85.30552, 87.298991, 118.720514, 86.214043, 88.217698, 88.21467, 76.077419, 95.53081, 86.198196, 86.176793, 118.717019, 80.146849, 84.322903, 86.373887, 76.092279, 87.303161]\n",
      "countNetProfitGroupedBySoldDate | node_18 durations: [88.200547, 86.169308, 118.823771, 76.178141, 113.503898, 86.301232, 92.423782, 90.23858, 80.011967, 85.296601, 87.178605, 118.53504, 86.143695, 88.033553, 88.183741, 75.911516, 95.422357, 85.996292, 86.101716, 118.529425, 80.025192, 84.255382, 86.141122, 75.933656, 87.083051]\n",
      "countNetProfitGroupedBySoldDate | node_19 durations: [88.0053, 85.927586, 118.658001, 76.068465, 113.302131, 86.219959, 92.245478, 90.223409, 79.990691, 85.021766, 87.064604, 118.499423, 85.960709, 87.988885, 88.005338, 75.899442, 95.236658, 85.970836, 85.918469, 118.506949, 79.990209, 84.063873, 86.061362, 75.908052, 87.061619]\n",
      "countNetProfitGroupedBySoldDateWhereProfitNegative | node_11 durations: [112.193092, 83.727108, 78.684239, 87.967159, 75.937013, 113.452713, 109.998104, 112.988775, 88.908998, 82.04151, 85.922019, 79.728003, 84.103914, 83.87528, 78.009686, 82.934013, 81.754623, 108.097507, 81.667265, 109.986534, 78.850091, 82.769844, 80.732242, 81.679562, 79.776333]\n",
      "countNetProfitGroupedBySoldDateWhereProfitNegative | node_12 durations: [112.170457, 83.716355, 78.585091, 87.924454, 75.931479, 113.421804, 109.857147, 112.93, 88.875273, 82.01711, 85.747034, 79.679487, 84.014354, 83.873271, 77.955598, 82.77018, 81.690167, 107.978717, 81.693734, 109.864638, 78.753599, 82.75502, 80.600413, 81.69462, 79.686859]\n",
      "countNetProfitGroupedBySoldDateWhereProfitNegative | node_13 durations: [112.04555, 83.587354, 78.484352, 87.798876, 75.798537, 113.197408, 109.867111, 112.83525, 88.733985, 81.8943, 85.656581, 79.562189, 83.910832, 83.734535, 77.664876, 82.673595, 81.564729, 107.850534, 81.586692, 109.729392, 78.619951, 82.664643, 80.47127, 81.560522, 79.697808]\n",
      "countNetProfitGroupedBySoldDateWhereProfitNegative | node_14 durations: [111.835729, 83.517185, 78.329561, 87.617736, 75.666535, 113.075402, 109.626947, 112.770487, 88.710301, 81.787938, 85.571791, 79.44337, 83.672223, 83.668505, 77.543041, 82.571459, 81.474345, 107.797261, 81.478161, 109.638528, 78.502195, 82.583089, 80.32497, 81.479384, 79.588799]\n",
      "countNetProfitGroupedBySoldDateWhereProfitNegative | node_15 durations: [111.800695, 83.346971, 78.312501, 87.55362, 75.63104, 113.058641, 109.525112, 112.61734, 88.537838, 81.616152, 85.544133, 79.409119, 83.664362, 83.517093, 77.529665, 82.561627, 81.292198, 107.714258, 81.408144, 109.588424, 78.425888, 82.412239, 80.217308, 81.318048, 79.415453]\n",
      "countNetProfitGroupedBySoldDateWhereProfitNegative | node_16 durations: [111.759845, 83.273825, 78.145836, 87.483334, 75.489672, 113.016421, 109.441327, 112.578355, 88.434702, 81.561739, 85.466326, 79.233169, 83.570531, 83.438124, 77.351612, 82.480579, 81.309152, 107.546103, 81.266099, 109.405515, 78.469481, 82.341609, 80.204071, 81.258167, 79.284455]\n",
      "countNetProfitGroupedBySoldDateWhereProfitNegative | node_17 durations: [111.597708, 83.241191, 78.113807, 87.320524, 75.318582, 112.801783, 109.364401, 112.50418, 88.399121, 81.527847, 85.41454, 79.195943, 83.416639, 83.264891, 77.198593, 82.342725, 81.217293, 107.503998, 81.221371, 109.376879, 78.346004, 82.154816, 80.134155, 81.232775, 79.216146]\n",
      "countNetProfitGroupedBySoldDateWhereProfitNegative | node_18 durations: [111.458694, 83.16787, 78.06611, 87.265163, 75.306556, 112.724558, 109.249476, 112.269969, 88.210231, 81.272849, 85.275624, 79.080764, 83.333436, 83.059962, 77.124254, 82.232005, 81.119074, 107.370263, 81.139919, 109.282059, 78.151115, 82.074407, 80.042131, 81.126611, 79.083025]\n",
      "countNetProfitGroupedBySoldDateWhereProfitNegative | node_19 durations: [111.440572, 82.974376, 77.965642, 87.226616, 75.126829, 112.684534, 109.236293, 112.21333, 88.164857, 81.274341, 85.180147, 78.996554, 83.300897, 82.984266, 77.000436, 82.132484, 80.932112, 107.337036, 80.940318, 109.232007, 78.112888, 82.05083, 79.900091, 81.036112, 78.972625]\n",
      "countNetProfitGroupedBySoldDateWhereYearAfter2000 | node_11 durations: [81.921271, 87.652159, 84.96628, 121.461612, 83.879914, 115.037695, 87.946199, 88.10854, 86.810437, 118.208155, 114.421209, 83.223639, 80.878759, 84.927488, 117.265491, 88.981411, 84.98631, 116.12739, 88.073293, 90.228656, 86.823536, 96.946221, 86.851756, 90.88568, 117.073668]\n",
      "countNetProfitGroupedBySoldDateWhereYearAfter2000 | node_12 durations: [81.847657, 87.664397, 84.880653, 121.266938, 83.784663, 114.921419, 87.827124, 88.110587, 86.672932, 118.154734, 114.269491, 83.095567, 80.821537, 84.76064, 117.225208, 88.942816, 84.942277, 115.980074, 87.868623, 90.164316, 86.693108, 96.853719, 86.682875, 90.674126, 117.051939]\n",
      "countNetProfitGroupedBySoldDateWhereYearAfter2000 | node_13 durations: [81.726944, 87.551403, 84.741493, 121.153111, 83.651526, 114.806637, 87.855164, 87.983061, 86.587489, 118.049778, 114.157049, 83.045874, 80.667198, 84.736004, 117.138759, 88.81113, 84.908273, 116.027774, 87.871356, 90.02719, 86.609058, 96.86996, 86.690073, 90.653229, 116.968363]\n",
      "countNetProfitGroupedBySoldDateWhereYearAfter2000 | node_14 durations: [81.633414, 87.424668, 84.777734, 121.135227, 83.511721, 114.807022, 87.625956, 87.769709, 86.530301, 117.893259, 114.057184, 82.872118, 80.673228, 84.625727, 117.026883, 88.717649, 84.785498, 115.816759, 87.763402, 89.971756, 86.503581, 96.72919, 86.511225, 90.616309, 116.873337]\n",
      "countNetProfitGroupedBySoldDateWhereYearAfter2000 | node_15 durations: [81.442147, 87.266334, 84.602689, 121.04628, 83.496293, 114.684247, 87.593317, 87.578724, 86.506666, 117.929639, 113.932166, 82.864988, 80.507548, 84.449652, 116.986255, 88.542216, 84.609055, 115.734701, 87.590991, 89.920723, 86.365892, 96.701592, 86.482803, 90.409893, 116.707308]\n",
      "countNetProfitGroupedBySoldDateWhereYearAfter2000 | node_16 durations: [81.403702, 87.195514, 84.451528, 120.990202, 83.327316, 114.587199, 87.530686, 87.411914, 86.31892, 117.725168, 113.844645, 82.699326, 80.465035, 84.452704, 116.789491, 88.476362, 84.607442, 115.698957, 87.541661, 89.753435, 86.317353, 96.563086, 86.384387, 90.342824, 116.683284]\n",
      "countNetProfitGroupedBySoldDateWhereYearAfter2000 | node_17 durations: [81.371015, 87.207817, 84.335827, 120.808082, 83.170522, 114.409062, 87.375471, 87.357906, 86.271994, 117.686378, 113.810337, 82.645025, 80.320455, 84.267954, 116.766051, 88.320527, 84.528068, 115.5007, 87.366739, 89.688754, 86.280113, 96.37795, 86.25388, 90.300145, 116.465126]\n",
      "countNetProfitGroupedBySoldDateWhereYearAfter2000 | node_18 durations: [81.251649, 87.097233, 84.288346, 120.74616, 83.175425, 114.299171, 87.25532, 87.281362, 86.160671, 117.469004, 113.678353, 82.385729, 80.180435, 84.267893, 116.705725, 88.22366, 84.436617, 115.445247, 87.41403, 89.621062, 86.167394, 96.390134, 86.134556, 90.246185, 116.353237]\n",
      "countNetProfitGroupedBySoldDateWhereYearAfter2000 | node_19 durations: [81.097695, 86.919398, 84.181018, 120.683155, 83.023676, 114.2515, 87.168444, 87.231519, 86.121337, 117.406043, 113.62135, 82.193164, 80.151788, 84.103769, 116.495179, 88.195372, 84.26463, 115.357765, 87.216161, 89.441879, 86.002469, 96.178772, 85.978119, 90.064285, 116.311449]\n",
      "countWholeSaleCostGroupedBySoldDate | node_11 durations: [84.669454, 89.860248, 123.556468, 86.864099, 85.912798, 118.030167, 118.35301, 88.779302, 86.876321, 84.840255, 115.189025, 84.781995, 82.746817, 91.051597, 115.190037, 87.021709, 87.17976, 89.227556, 89.025518, 87.967037, 85.723527, 87.009018, 88.913178, 86.869534, 86.376369]\n",
      "countWholeSaleCostGroupedBySoldDate | node_12 durations: [84.639556, 89.631491, 123.402406, 86.837455, 85.872606, 117.929121, 118.235635, 88.726579, 86.679833, 84.654489, 115.134102, 84.630561, 82.608708, 90.853643, 115.132554, 86.817206, 86.968988, 89.012258, 88.862073, 87.782412, 85.609712, 86.974439, 88.674209, 86.783864, 86.05216]\n",
      "countWholeSaleCostGroupedBySoldDate | node_13 durations: [84.53143, 89.526739, 123.296529, 86.6958, 85.778377, 117.823466, 118.201696, 88.610782, 86.559253, 84.531084, 115.040961, 84.532582, 82.491701, 90.739878, 114.997512, 86.853192, 86.770364, 88.8919, 88.728493, 87.798849, 85.577266, 86.857529, 88.604153, 86.695131, 85.769658]\n",
      "countWholeSaleCostGroupedBySoldDate | node_14 durations: [84.461093, 89.448629, 123.197818, 86.674578, 85.556833, 117.651843, 118.124456, 88.546961, 86.529735, 84.460945, 114.820366, 84.463679, 82.415186, 90.75766, 114.663482, 86.667452, 86.665537, 88.713097, 88.715663, 87.606553, 85.39857, 86.673451, 88.552579, 86.661005, 85.716945]\n",
      "countWholeSaleCostGroupedBySoldDate | node_15 durations: [84.386774, 89.344441, 123.133662, 86.492154, 85.558206, 117.698207, 117.96491, 88.389527, 86.454049, 84.447111, 114.844115, 84.278395, 82.406508, 90.589276, 114.628543, 86.640181, 86.649265, 88.685701, 88.535894, 87.600487, 85.235247, 86.4977, 88.375954, 86.493852, 85.546392]\n",
      "countWholeSaleCostGroupedBySoldDate | node_16 durations: [84.22537, 89.348151, 123.129321, 86.413555, 85.461332, 117.511428, 117.691637, 88.283667, 86.399446, 84.20794, 114.728417, 84.201441, 82.187179, 90.589622, 114.563985, 86.511901, 86.550805, 88.562502, 88.557158, 87.483197, 85.149731, 86.379098, 88.293377, 86.391639, 85.458601]\n",
      "countWholeSaleCostGroupedBySoldDate | node_17 durations: [84.175392, 89.161984, 122.919058, 86.227966, 85.099791, 117.496308, 117.666971, 88.216102, 86.209298, 84.175103, 114.533325, 84.176994, 82.147853, 90.405082, 114.367332, 86.386805, 86.380948, 88.553821, 88.376084, 87.296345, 85.123268, 86.353989, 88.239396, 86.351024, 85.42124]\n",
      "countWholeSaleCostGroupedBySoldDate | node_18 durations: [84.108534, 89.137602, 122.784375, 86.139364, 85.063556, 117.304922, 117.440517, 88.049176, 86.165857, 84.104642, 114.4595, 84.095479, 82.072893, 90.258922, 114.256032, 86.308097, 86.314534, 88.363796, 88.353616, 87.247583, 85.063053, 86.216804, 88.19563, 86.318962, 85.209201]\n",
      "countWholeSaleCostGroupedBySoldDate | node_19 durations: [83.933438, 88.969354, 122.746938, 86.142135, 84.972034, 117.250691, 117.400326, 88.006321, 85.969676, 83.940539, 114.421435, 83.929449, 81.879734, 90.245467, 114.251346, 86.146203, 86.120944, 88.329796, 88.268818, 87.220193, 84.87495, 86.285481, 88.005078, 86.202988, 85.173451]\n"
     ]
    }
   ],
   "source": [
    "preprocess_selected_function(function_names[4:8], workers_summary)"
   ],
   "metadata": {
    "collapsed": false,
    "pycharm": {
     "name": "#%%\n"
    }
   }
  },
  {
   "cell_type": "code",
   "execution_count": 50,
   "outputs": [
    {
     "data": {
      "text/plain": "4926520"
     },
     "execution_count": 50,
     "metadata": {},
     "output_type": "execute_result"
    }
   ],
   "source": [
    "gc.collect()"
   ],
   "metadata": {
    "collapsed": false,
    "pycharm": {
     "name": "#%%\n"
    }
   }
  },
  {
   "cell_type": "code",
   "execution_count": 51,
   "outputs": [
    {
     "name": "stdout",
     "output_type": "stream",
     "text": [
      "filterCatalogSalesWhereProfitNegative | node_11 durations: [22.046945, 22.338127, 22.025271, 22.030013, 22.187334, 22.111067, 22.0221, 22.179276, 25.184001, 22.025745, 22.179818, 22.025276, 20.910819, 22.182145, 25.013706, 21.072974, 24.383193, 24.087425, 23.14857, 22.971371, 22.1712, 22.975104, 25.023002, 21.092953, 22.345256]\n",
      "filterCatalogSalesWhereProfitNegative | node_12 durations: [21.945781, 22.175775, 21.967119, 21.840377, 22.12024, 22.118965, 21.956419, 22.109856, 25.059756, 21.944843, 22.108499, 21.944972, 20.858602, 22.10473, 24.908317, 21.074387, 24.198351, 23.96808, 23.041345, 22.884539, 22.104998, 22.945387, 24.97601, 20.862401, 22.187948]\n",
      "filterCatalogSalesWhereProfitNegative | node_13 durations: [21.85258, 22.116176, 21.850943, 21.810703, 21.975564, 21.951656, 21.812528, 21.958902, 24.99211, 21.802665, 22.013286, 21.802227, 20.868168, 21.973621, 24.914273, 20.876255, 24.146143, 23.825162, 23.058082, 22.899984, 21.959994, 22.754309, 24.764592, 20.880217, 22.163134]\n",
      "filterCatalogSalesWhereProfitNegative | node_14 durations: [21.691922, 22.018072, 21.699571, 21.705417, 21.858185, 21.862272, 21.705593, 21.862681, 24.840942, 21.701487, 21.858149, 21.703597, 20.748809, 21.852315, 24.714996, 20.755111, 24.055778, 23.752441, 22.836562, 22.801567, 21.853512, 22.691551, 24.693032, 20.749099, 22.018558]\n",
      "filterCatalogSalesWhereProfitNegative | node_15 durations: [21.541224, 22.016664, 21.560191, 21.571952, 21.574896, 21.539293, 21.586404, 21.855561, 24.694547, 21.541516, 21.698347, 21.695032, 20.602523, 21.852602, 24.690374, 20.756659, 23.893634, 23.572015, 22.806472, 22.64399, 21.858602, 22.650269, 24.676562, 20.597545, 21.857343]\n",
      "filterCatalogSalesWhereProfitNegative | node_16 durations: [21.49454, 21.95757, 21.505107, 21.497534, 21.498017, 21.538388, 21.489753, 21.714755, 24.602384, 21.495402, 21.643417, 21.80401, 20.558416, 21.692634, 24.531537, 20.55827, 23.834891, 23.524784, 22.787468, 22.584247, 21.641377, 22.585967, 24.604235, 20.470792, 21.804124]\n",
      "filterCatalogSalesWhereProfitNegative | node_17 durations: [21.479176, 21.853917, 21.50189, 21.486456, 21.376506, 21.484362, 21.373869, 21.638664, 24.597262, 21.365304, 21.52879, 21.698864, 20.453624, 21.655256, 24.438944, 20.596686, 23.658333, 23.515608, 22.593155, 22.443644, 21.568703, 22.42451, 24.449573, 20.397003, 21.797062]\n",
      "filterCatalogSalesWhereProfitNegative | node_18 durations: [21.383968, 21.696374, 21.397181, 21.388267, 21.392084, 21.379941, 21.390117, 21.529227, 24.51392, 21.245782, 21.531137, 21.533844, 20.285165, 21.534817, 24.359409, 20.440232, 23.426424, 23.42651, 22.489114, 22.320733, 21.541883, 22.322953, 24.365681, 20.276883, 21.690641]\n",
      "filterCatalogSalesWhereProfitNegative | node_19 durations: [21.201176, 21.529057, 21.214583, 21.215346, 21.217454, 21.219182, 21.229195, 21.369689, 24.346128, 21.215946, 21.371363, 21.391703, 20.269486, 21.39436, 24.350555, 20.27232, 23.261205, 23.260262, 22.478815, 22.328135, 21.371464, 22.159765, 24.193258, 20.268783, 21.522473]\n",
      "filterCatalogSalesWhereProfitNegativeAndYearAfter2000 | node_11 durations: [27.194088, 29.107278, 29.134547, 27.079254, 28.174889, 29.137903, 28.010326, 30.390212, 26.289753, 28.168321, 26.111429, 27.073986, 26.131505, 30.047898, 29.266977, 28.033065, 27.05546, 27.226837, 27.054833, 29.110584, 27.056995, 26.278066, 29.111253, 30.044654, 29.118297]\n",
      "filterCatalogSalesWhereProfitNegativeAndYearAfter2000 | node_12 durations: [27.1772, 29.094879, 28.954901, 26.861252, 28.020413, 28.944234, 28.016225, 30.345669, 26.143012, 28.175102, 25.99022, 26.926473, 25.992275, 30.047028, 29.101866, 28.021621, 27.080179, 27.177122, 26.927503, 28.957029, 26.89311, 26.147901, 28.956583, 30.042524, 28.941862]\n",
      "filterCatalogSalesWhereProfitNegativeAndYearAfter2000 | node_13 durations: [27.099825, 28.975553, 28.966933, 26.785086, 27.888592, 28.96579, 27.82511, 30.214151, 25.959085, 28.010836, 25.855152, 26.938756, 25.815574, 29.904427, 28.996757, 27.850802, 26.898728, 27.056835, 26.934529, 28.963317, 26.932153, 26.096142, 28.871357, 29.94407, 28.837997]\n",
      "filterCatalogSalesWhereProfitNegativeAndYearAfter2000 | node_14 durations: [26.896274, 28.776348, 28.776871, 26.735753, 27.837777, 28.773109, 27.854315, 30.216514, 25.943314, 27.990838, 25.785198, 26.887827, 25.788456, 29.721057, 28.933117, 27.831909, 26.742614, 26.887153, 26.73922, 28.784756, 26.728065, 25.937614, 28.798005, 29.764624, 28.778364]\n",
      "filterCatalogSalesWhereProfitNegativeAndYearAfter2000 | node_15 durations: [26.883975, 28.771014, 28.648468, 26.579557, 27.720733, 28.628999, 27.677409, 29.904913, 25.786996, 27.881235, 25.626701, 26.717921, 25.628406, 29.741786, 28.792015, 27.688573, 26.730949, 26.886943, 26.733278, 28.751783, 26.720437, 25.793483, 28.776036, 29.707539, 28.791181]\n",
      "filterCatalogSalesWhereProfitNegativeAndYearAfter2000 | node_16 durations: [26.783937, 28.585926, 28.667104, 26.528399, 27.56811, 28.652235, 27.574701, 29.743809, 25.638813, 27.724324, 25.537343, 26.586631, 25.538035, 29.586821, 28.799475, 27.560652, 26.623005, 26.773772, 26.526682, 28.643434, 26.62059, 25.690014, 28.657017, 29.582304, 28.582295]\n",
      "filterCatalogSalesWhereProfitNegativeAndYearAfter2000 | node_17 durations: [26.659119, 28.486503, 28.4861, 26.464808, 27.498779, 28.535214, 27.556663, 29.740785, 25.586485, 27.559922, 25.46442, 26.506309, 25.471477, 29.581745, 28.644017, 27.539363, 26.557605, 26.620133, 26.575448, 28.481531, 26.404348, 25.561041, 28.483132, 29.569163, 28.486825]\n",
      "filterCatalogSalesWhereProfitNegativeAndYearAfter2000 | node_18 durations: [26.564544, 28.446607, 28.464664, 26.408519, 27.355841, 28.458646, 27.514431, 29.548967, 25.464953, 27.513419, 25.45318, 26.405635, 25.468407, 29.435863, 28.492172, 27.347543, 26.408744, 26.572955, 26.409416, 28.461144, 26.410589, 25.461912, 28.451984, 29.387493, 28.455729]\n",
      "filterCatalogSalesWhereProfitNegativeAndYearAfter2000 | node_19 durations: [26.547669, 28.278259, 28.28223, 26.237087, 27.332786, 28.2758, 27.337562, 29.543268, 25.452299, 27.499536, 25.293279, 26.393774, 25.295171, 29.373989, 28.438144, 27.343162, 26.392037, 26.401036, 26.243855, 28.304436, 26.232652, 25.457849, 28.276945, 29.405605, 28.278225]\n",
      "filterCatalogSalesWhereYearAfter2000 | node_11 durations: [27.079877, 29.060858, 30.039398, 27.063781, 27.421705, 26.119801, 26.113263, 26.130209, 24.252234, 25.022715, 27.219116, 29.11002, 26.127683, 26.122315, 25.178068, 26.118168, 26.122933, 27.069299, 26.115868, 29.262006, 27.101274, 26.270366, 27.057633, 24.072222, 25.961563]\n",
      "filterCatalogSalesWhereYearAfter2000 | node_12 durations: [26.945803, 29.008263, 29.985928, 27.083755, 27.321363, 25.995062, 25.929253, 26.001719, 24.073426, 25.079025, 27.027022, 28.949165, 25.997678, 26.08142, 25.149657, 25.993666, 25.989628, 27.003637, 25.987896, 29.140648, 27.049846, 26.1868, 26.928324, 23.967381, 25.931417]\n",
      "filterCatalogSalesWhereYearAfter2000 | node_13 durations: [26.946507, 28.843321, 29.906119, 26.945192, 27.254222, 25.85926, 25.849303, 25.794702, 23.991177, 24.924108, 26.941724, 28.963524, 25.862634, 25.944459, 25.017487, 25.852532, 25.849177, 26.941283, 25.806552, 29.013523, 26.936982, 26.126336, 26.912112, 23.826102, 25.799082]\n",
      "filterCatalogSalesWhereYearAfter2000 | node_14 durations: [26.767618, 28.806387, 29.747924, 26.735111, 27.050423, 25.787396, 25.80017, 25.790697, 23.911526, 24.83993, 26.889614, 28.781504, 25.819972, 25.787281, 24.848838, 25.795326, 25.784441, 26.73062, 25.787655, 28.961124, 26.743167, 25.945889, 26.730445, 23.747272, 25.63782]\n",
      "filterCatalogSalesWhereYearAfter2000 | node_15 durations: [26.733263, 28.624727, 29.716659, 26.736731, 26.753627, 25.63454, 25.627455, 25.630193, 23.736938, 24.733348, 26.750113, 28.678457, 25.632552, 25.782438, 24.845992, 25.632717, 25.652281, 26.73282, 25.737969, 28.911695, 26.728364, 25.946008, 26.730359, 23.585724, 25.621468]\n",
      "filterCatalogSalesWhereYearAfter2000 | node_16 durations: [26.630676, 28.575426, 29.487069, 26.603686, 26.781293, 25.638656, 25.531702, 25.535288, 23.67359, 24.620082, 26.782428, 28.650189, 25.558142, 25.697022, 24.643006, 25.542102, 25.642349, 26.636262, 25.526835, 28.765299, 26.680904, 25.848854, 26.71279, 23.51494, 25.551829]\n",
      "filterCatalogSalesWhereYearAfter2000 | node_17 durations: [26.510187, 28.535263, 29.408685, 26.460937, 26.618806, 25.534509, 25.479027, 25.418047, 23.666102, 24.579721, 26.659534, 28.56209, 25.540587, 25.537207, 24.597064, 25.535619, 25.528813, 26.466573, 25.414777, 28.675876, 26.470941, 25.678714, 26.617433, 23.452377, 25.418024]\n",
      "filterCatalogSalesWhereYearAfter2000 | node_18 durations: [26.419215, 28.319374, 29.393466, 26.407612, 26.573969, 25.337841, 25.315095, 25.312328, 23.584171, 24.378998, 26.563516, 28.450796, 25.313767, 25.460682, 24.521082, 25.368569, 25.330251, 26.411915, 25.322016, 28.468356, 26.412427, 25.627375, 26.580387, 23.415772, 25.312862]\n",
      "filterCatalogSalesWhereYearAfter2000 | node_19 durations: [26.244939, 28.285687, 29.227838, 26.262539, 26.399893, 25.297227, 25.299352, 25.302739, 23.414008, 24.348298, 26.391756, 28.283173, 25.294081, 25.309673, 24.359673, 25.336689, 25.298433, 26.260451, 25.302738, 28.429917, 26.389246, 25.320888, 26.553691, 23.254756, 25.135138]\n",
      "filterStoreSalesWhereProfitNegative | node_11 durations: [27.068672, 27.058533, 32.092743, 26.434703, 28.010346, 27.214518, 27.060411, 27.094896, 33.362654, 28.121824, 32.146427, 27.060537, 28.326736, 25.962897, 27.033999, 26.118162, 29.11257, 28.170861, 27.372137, 33.353223, 31.155662, 27.058658, 28.32047, 26.11929, 32.101189]\n",
      "filterStoreSalesWhereProfitNegative | node_12 durations: [26.926158, 26.846231, 31.91019, 26.23127, 27.929693, 27.126866, 26.920465, 26.921221, 33.147147, 28.017613, 32.054044, 26.924857, 28.17497, 25.88326, 26.935261, 26.0482, 28.960291, 28.022612, 27.237834, 33.232843, 30.964936, 26.975307, 28.180168, 25.983889, 32.06307]\n",
      "filterStoreSalesWhereProfitNegative | node_13 durations: [26.945876, 26.788861, 31.928116, 26.166259, 27.891206, 27.104938, 26.940202, 26.840387, 33.166875, 27.882767, 31.934411, 26.934596, 28.084551, 25.851408, 26.931721, 25.996223, 28.966524, 27.877108, 27.167259, 33.157251, 30.996176, 26.940262, 28.09414, 25.917091, 31.914603]\n",
      "filterStoreSalesWhereProfitNegative | node_14 durations: [26.738944, 26.726382, 31.7627, 26.105113, 27.840741, 27.054203, 26.740098, 26.729539, 33.068392, 27.852301, 31.755101, 26.729646, 28.009308, 25.777526, 26.732222, 25.793431, 28.794944, 27.861392, 27.048115, 33.137603, 30.792094, 26.890061, 28.022162, 25.785821, 31.763798]\n",
      "filterStoreSalesWhereProfitNegative | node_15 durations: [26.611453, 26.575065, 31.737791, 25.941011, 27.720843, 26.882686, 26.722561, 26.734526, 32.834535, 27.674191, 31.709903, 26.733226, 27.83295, 25.62605, 26.723638, 25.789423, 28.772832, 27.68907, 26.880403, 33.019629, 30.661087, 26.727236, 27.834989, 25.631789, 31.733011]\n",
      "filterStoreSalesWhereProfitNegative | node_16 durations: [26.521663, 26.474033, 31.601543, 25.846682, 27.562196, 26.62033, 26.64148, 26.639541, 32.707786, 27.584229, 31.602013, 26.528968, 27.727922, 25.472606, 26.627687, 25.625212, 28.566624, 27.628617, 26.687721, 32.850199, 30.600561, 26.623265, 27.719506, 25.527916, 31.605395]\n",
      "filterStoreSalesWhereProfitNegative | node_17 durations: [26.471964, 26.459523, 31.517098, 25.845693, 27.556449, 26.4539, 26.501437, 26.460364, 32.536449, 27.559667, 31.447857, 26.54195, 27.717255, 25.373534, 26.45833, 25.536505, 28.489107, 27.564408, 26.619823, 32.696804, 30.515009, 26.464489, 27.718495, 25.570431, 31.525323]\n",
      "filterStoreSalesWhereProfitNegative | node_18 durations: [26.41364, 26.408077, 31.436449, 25.743688, 27.355676, 26.445082, 26.432153, 26.414108, 32.393356, 27.356644, 31.44349, 26.413322, 27.516257, 25.304593, 26.436486, 25.465319, 28.451161, 27.35875, 26.562932, 32.689675, 30.494126, 26.446193, 27.515184, 25.468207, 31.447687]\n",
      "filterStoreSalesWhereProfitNegative | node_19 durations: [26.240755, 26.196817, 31.273035, 25.605393, 27.340008, 26.392045, 26.242436, 26.393406, 32.375608, 27.340336, 31.263661, 26.239905, 27.498547, 25.147489, 26.245801, 25.299805, 28.288779, 27.337934, 26.392275, 32.524672, 30.325586, 26.393651, 27.508601, 25.301168, 31.418991]\n"
     ]
    }
   ],
   "source": [
    "preprocess_selected_function(function_names[8:12], workers_summary)"
   ],
   "metadata": {
    "collapsed": false,
    "pycharm": {
     "name": "#%%\n"
    }
   }
  },
  {
   "cell_type": "code",
   "execution_count": 52,
   "outputs": [
    {
     "data": {
      "text/plain": "5058279"
     },
     "execution_count": 52,
     "metadata": {},
     "output_type": "execute_result"
    }
   ],
   "source": [
    "gc.collect()"
   ],
   "metadata": {
    "collapsed": false,
    "pycharm": {
     "name": "#%%\n"
    }
   }
  },
  {
   "cell_type": "code",
   "execution_count": 53,
   "outputs": [
    {
     "name": "stdout",
     "output_type": "stream",
     "text": [
      "filterStoreSalesWhereProfitNegativeAndYearAfter2000 | node_11 durations: [31.324907, 38.233243, 32.260057, 32.100293, 32.108474, 32.103139, 32.271414, 32.098345, 33.208976, 38.243107, 33.197188, 34.156858, 32.086542, 34.297735, 32.068076, 32.215758, 36.34493, 32.12056, 32.254742, 37.604413, 32.094517, 33.221824, 38.225943, 31.152463, 29.120499]\n",
      "filterStoreSalesWhereProfitNegativeAndYearAfter2000 | node_12 durations: [31.290682, 38.119947, 32.219913, 32.107101, 32.072382, 32.024024, 32.212334, 32.065737, 33.152646, 38.130508, 32.990822, 34.090887, 32.006122, 34.077633, 31.90792, 32.067222, 36.252, 32.008576, 32.059986, 37.446197, 31.950786, 33.115435, 38.089071, 31.07603, 28.953024]\n",
      "filterStoreSalesWhereProfitNegativeAndYearAfter2000 | node_13 durations: [31.136743, 37.936879, 32.0841, 31.875794, 31.916186, 31.854854, 32.131903, 31.860662, 32.978407, 37.977688, 33.005743, 33.942226, 31.919223, 34.095982, 31.884109, 31.921892, 36.23034, 31.915565, 32.004905, 37.27731, 31.91486, 33.011052, 37.989286, 30.987105, 28.814312]\n",
      "filterStoreSalesWhereProfitNegativeAndYearAfter2000 | node_14 durations: [30.979579, 37.875985, 32.085885, 31.767999, 31.771628, 31.763061, 32.076796, 31.755453, 32.884813, 37.857156, 32.867915, 33.841695, 31.76466, 33.806279, 31.762992, 31.924854, 36.019835, 31.767845, 31.800641, 37.273547, 31.75381, 32.86713, 37.90051, 30.818101, 28.780911]\n",
      "filterStoreSalesWhereProfitNegativeAndYearAfter2000 | node_15 durations: [30.996171, 37.90449, 31.951067, 31.754948, 31.751741, 31.760291, 31.926528, 31.771385, 32.866875, 37.734014, 32.719935, 33.803046, 31.761648, 33.795041, 31.606265, 31.77866, 36.012981, 31.766018, 31.760826, 37.108037, 31.765752, 32.860959, 37.770232, 30.658119, 28.641773]\n",
      "filterStoreSalesWhereProfitNegativeAndYearAfter2000 | node_16 durations: [30.790776, 37.828533, 31.771187, 31.613043, 31.601161, 31.60933, 31.861062, 31.583804, 32.74952, 37.720647, 32.685706, 33.6463, 31.650707, 33.631353, 31.490757, 31.700776, 35.814352, 31.610386, 31.766094, 37.059668, 31.606041, 32.638942, 37.734432, 30.664216, 28.610378]\n",
      "filterStoreSalesWhereProfitNegativeAndYearAfter2000 | node_17 durations: [30.662441, 37.716374, 31.705287, 31.584102, 31.529842, 31.592204, 31.752239, 31.597275, 32.552718, 37.673401, 32.624654, 33.631473, 31.597463, 33.651232, 31.44563, 31.590246, 35.797401, 31.597872, 31.557605, 36.890849, 31.525596, 32.552431, 37.666122, 30.604777, 28.492679]\n",
      "filterStoreSalesWhereProfitNegativeAndYearAfter2000 | node_18 durations: [30.63048, 37.567128, 31.605439, 31.429688, 31.438933, 31.439267, 31.597084, 31.454503, 32.548849, 37.461616, 32.519185, 33.46706, 31.478208, 33.520432, 31.285652, 31.439451, 35.687995, 31.43517, 31.445405, 36.782364, 31.42873, 32.546301, 37.567138, 30.493688, 28.454708]\n",
      "filterStoreSalesWhereProfitNegativeAndYearAfter2000 | node_19 durations: [30.481305, 37.399866, 31.585428, 31.391675, 31.423496, 31.263117, 31.577162, 31.262692, 32.368597, 37.395858, 32.364967, 33.310699, 31.264212, 33.303035, 31.271585, 31.424354, 35.504119, 31.271406, 31.438784, 36.761964, 31.268941, 32.376416, 37.391281, 30.330888, 28.282287]\n",
      "filterStoreSalesWhereYearAfter2000 | node_11 durations: [30.055858, 30.206915, 29.268915, 28.32734, 28.177386, 32.282821, 30.209686, 28.162428, 34.138677, 30.358418, 29.270384, 29.268327, 32.114465, 29.131614, 33.212088, 29.11615, 28.018215, 30.216266, 31.317787, 32.259728, 28.169985, 28.168759, 30.244545, 27.074471, 28.329643]\n",
      "filterStoreSalesWhereYearAfter2000 | node_12 durations: [30.055694, 29.989852, 29.24121, 28.132063, 27.959547, 32.211908, 30.032475, 28.181998, 34.126217, 30.042779, 29.256072, 29.107581, 32.105382, 28.947781, 33.147546, 29.069147, 28.027472, 30.04081, 31.15884, 32.21876, 28.10813, 28.029252, 30.194943, 26.940042, 28.16708]\n",
      "filterStoreSalesWhereYearAfter2000 | node_13 durations: [29.914961, 29.996609, 29.122998, 28.037582, 27.880465, 32.076443, 29.895181, 27.982872, 33.988637, 29.993006, 29.061902, 29.118183, 32.003816, 28.964232, 32.971846, 28.871873, 27.885149, 29.849818, 31.042884, 32.074294, 27.938713, 27.852677, 30.041042, 26.949514, 28.136249]\n",
      "filterStoreSalesWhereYearAfter2000 | node_14 durations: [29.91484, 29.881979, 28.928474, 28.00067, 27.825498, 32.060223, 29.872891, 27.991862, 33.807273, 29.896083, 28.94373, 28.937221, 31.903687, 28.782622, 32.87158, 28.775405, 27.842571, 29.876918, 30.978996, 31.939112, 27.845633, 27.831277, 30.038602, 26.749302, 27.992342]\n",
      "filterStoreSalesWhereYearAfter2000 | node_15 durations: [29.738673, 29.721274, 28.933322, 27.879681, 27.686369, 31.778296, 29.735641, 27.840404, 33.822046, 29.724866, 28.938445, 28.93522, 31.800273, 28.779173, 32.762492, 28.793491, 27.722137, 29.726958, 30.831829, 31.758878, 27.687834, 27.682691, 29.882588, 26.607643, 27.832125]\n",
      "filterStoreSalesWhereYearAfter2000 | node_16 durations: [29.59314, 29.591999, 28.800524, 27.72559, 27.660167, 31.620145, 29.75025, 27.6854, 33.6895, 29.596769, 28.751283, 28.810157, 31.724621, 28.672513, 32.697635, 28.590054, 27.569745, 29.576829, 30.721, 31.815719, 27.558656, 27.664316, 29.748039, 26.487716, 27.716364]\n",
      "filterStoreSalesWhereYearAfter2000 | node_17 durations: [29.576795, 29.574005, 28.647953, 27.717373, 27.555041, 31.599429, 29.574455, 27.701176, 33.564278, 29.581112, 28.647095, 28.635698, 31.479627, 28.487491, 32.532547, 28.49297, 27.505748, 29.542439, 30.61839, 31.601696, 27.496545, 27.551057, 29.662177, 26.438736, 27.750704]\n",
      "filterStoreSalesWhereYearAfter2000 | node_18 durations: [29.404115, 29.41342, 28.647792, 27.515272, 27.359707, 31.440665, 29.55786, 27.507409, 33.489422, 29.403548, 28.623914, 28.63433, 31.446241, 28.476083, 32.399272, 28.452591, 27.356108, 29.394009, 30.659633, 31.486855, 27.509712, 27.341159, 29.555394, 26.262189, 27.50987]\n",
      "filterStoreSalesWhereYearAfter2000 | node_19 durations: [29.384798, 29.382679, 28.454462, 27.502914, 27.342431, 31.428071, 29.418069, 27.353141, 33.317606, 29.385161, 28.448575, 28.444589, 31.312588, 28.264013, 32.371467, 28.293091, 27.346795, 29.375129, 30.481736, 31.281558, 27.348382, 27.346852, 29.542892, 26.253117, 27.491242]\n",
      "maxNetProfitGroupedBySoldDate | node_11 durations: [78.839923, 89.226677, 86.072412, 86.697933, 85.981126, 112.998734, 85.776425, 123.218539, 84.757572, 88.128175, 88.13719, 87.189668, 86.710564, 119.445225, 119.292801, 90.021241, 86.826156, 85.869347, 120.39613, 87.022305, 87.819695, 86.821963, 87.921343, 90.181092, 87.040462]\n",
      "maxNetProfitGroupedBySoldDate | node_12 durations: [78.731279, 89.145786, 86.034385, 86.673761, 85.86267, 112.825078, 85.639321, 123.20826, 84.643067, 88.07247, 88.08957, 86.9941, 86.670359, 119.348503, 119.164047, 89.963424, 86.820282, 85.729143, 120.258558, 86.819642, 87.740571, 86.654857, 87.745227, 90.112707, 86.974728]\n",
      "maxNetProfitGroupedBySoldDate | node_13 durations: [78.623958, 89.039293, 85.941098, 86.54393, 85.768716, 112.837392, 85.643883, 122.978925, 84.511218, 87.93878, 87.953309, 86.705544, 86.543743, 119.117019, 119.068227, 89.831156, 86.546119, 85.610278, 120.152093, 86.713346, 87.648627, 86.551141, 87.796599, 90.008799, 86.867821]\n",
      "maxNetProfitGroupedBySoldDate | node_14 durations: [78.416771, 88.866821, 85.705801, 86.504395, 85.717188, 112.755316, 85.572694, 122.966456, 84.398547, 87.924454, 87.920722, 86.669082, 86.506205, 119.061545, 119.00144, 89.641224, 86.509604, 85.558921, 120.092429, 86.651764, 87.549773, 86.508025, 87.602245, 89.816563, 86.772796]\n",
      "maxNetProfitGroupedBySoldDate | node_15 durations: [78.466275, 88.852026, 85.714933, 86.33621, 85.393286, 112.62131, 85.361176, 122.86789, 84.300281, 87.748691, 87.754587, 86.619267, 86.299378, 118.915725, 118.8966, 89.658977, 86.490314, 85.398785, 120.03335, 86.510636, 87.454887, 86.363871, 87.454007, 89.810494, 86.664478]\n",
      "maxNetProfitGroupedBySoldDate | node_16 durations: [78.14826, 88.726133, 85.613667, 86.210345, 85.310904, 112.564109, 85.315737, 122.794475, 84.190663, 87.760803, 87.419813, 86.38429, 86.234809, 118.894093, 118.912208, 89.496085, 86.259979, 85.316751, 119.910172, 86.399005, 87.263777, 86.224582, 87.486751, 89.647895, 86.623721]\n",
      "maxNetProfitGroupedBySoldDate | node_17 durations: [78.119014, 88.682983, 85.435307, 86.211438, 85.259672, 112.353878, 85.118395, 122.611179, 84.045062, 87.606971, 87.298418, 86.387428, 86.230026, 118.714765, 118.720653, 89.476869, 86.209655, 85.258428, 119.808967, 86.354244, 87.143999, 86.163672, 87.357583, 89.580118, 86.415692]\n",
      "maxNetProfitGroupedBySoldDate | node_18 durations: [78.075177, 88.511985, 85.362015, 86.08848, 85.05355, 112.251516, 85.05323, 122.490662, 83.973561, 87.248638, 87.256172, 86.325501, 86.121394, 118.698963, 118.700413, 89.256424, 86.20369, 85.224017, 119.621828, 86.284196, 87.102679, 86.152433, 87.207968, 89.455695, 86.321815]\n",
      "maxNetProfitGroupedBySoldDate | node_19 durations: [77.940159, 88.436547, 85.316857, 85.969169, 85.011932, 112.229829, 85.030764, 122.516294, 83.924178, 87.221963, 87.231171, 86.127022, 85.889562, 118.663753, 118.505274, 89.265695, 86.081092, 85.024936, 119.600141, 86.210774, 86.918378, 85.965434, 87.06959, 89.430681, 86.297161]\n",
      "maxNetProfitGroupedBySoldDateWhereProfitNegative | node_11 durations: [86.863487, 81.831317, 84.922795, 82.777366, 84.983395, 77.829604, 114.092123, 78.864707, 76.635165, 86.072515, 78.682634, 112.989372, 79.882122, 88.909564, 81.980029, 79.629638, 112.035007, 84.812809, 110.308114, 83.751955, 83.886708, 114.097392, 84.81974, 79.939413, 81.984465]\n",
      "maxNetProfitGroupedBySoldDateWhereProfitNegative | node_12 durations: [86.761807, 81.696819, 84.805626, 82.622268, 84.95065, 77.801027, 113.937602, 78.742281, 76.550274, 85.905334, 78.570109, 112.983234, 79.766766, 88.677785, 81.829961, 79.667241, 112.012921, 84.640232, 110.134175, 83.706089, 83.714921, 114.042549, 84.801153, 79.814679, 81.863737]\n",
      "maxNetProfitGroupedBySoldDateWhereProfitNegative | node_13 durations: [86.685023, 81.559013, 84.683239, 82.50335, 84.837915, 77.674486, 113.783265, 78.753933, 76.418573, 85.771488, 78.449133, 112.838421, 79.68239, 88.597839, 81.703701, 79.543536, 111.90919, 84.532154, 110.036917, 83.569828, 83.589833, 113.924576, 84.675146, 79.847763, 81.723321]\n",
      "maxNetProfitGroupedBySoldDateWhereProfitNegative | node_14 durations: [86.662943, 81.463991, 84.621278, 82.37766, 84.759456, 77.530625, 113.714519, 78.332868, 76.437528, 85.725207, 78.324965, 112.804208, 79.5823, 88.547997, 81.633596, 79.427755, 111.781352, 84.454536, 109.94419, 83.51185, 83.459326, 113.705059, 84.603251, 79.735254, 81.624298]\n",
      "maxNetProfitGroupedBySoldDateWhereProfitNegative | node_15 durations: [86.497663, 81.45749, 84.446028, 82.410418, 84.564286, 77.372226, 113.570702, 78.317854, 76.2689, 85.556529, 78.326224, 112.604626, 79.421737, 88.532538, 81.61486, 79.263511, 111.657514, 84.456154, 109.925055, 83.319406, 83.491397, 113.681503, 84.433163, 79.553898, 81.604836]\n",
      "maxNetProfitGroupedBySoldDateWhereProfitNegative | node_16 durations: [86.376059, 81.250154, 84.360202, 82.178202, 84.529158, 77.351079, 113.467078, 78.141159, 76.257054, 85.449658, 78.139682, 112.512113, 79.369465, 88.420133, 81.412855, 79.226235, 111.587067, 84.362179, 109.860808, 83.275363, 83.266283, 113.609732, 84.279794, 79.513548, 81.548065]\n",
      "maxNetProfitGroupedBySoldDateWhereProfitNegative | node_17 durations: [86.389218, 81.224822, 84.204435, 82.151249, 84.500373, 77.037785, 113.411502, 78.090847, 76.094355, 85.428737, 78.117366, 112.488749, 79.347178, 88.235557, 81.383888, 79.059763, 111.453487, 84.180569, 109.694267, 83.236488, 83.268721, 113.443052, 84.185598, 79.211749, 81.386239]\n",
      "maxNetProfitGroupedBySoldDateWhereProfitNegative | node_18 durations: [86.279184, 81.126168, 84.110635, 82.06747, 84.268123, 77.034453, 113.367498, 77.978625, 75.939942, 85.2732, 78.074389, 112.423512, 79.233937, 88.119104, 81.270881, 79.080717, 111.323056, 84.108404, 109.582874, 83.128112, 83.176875, 113.35139, 84.127027, 79.176386, 81.289677]\n",
      "maxNetProfitGroupedBySoldDateWhereProfitNegative | node_19 durations: [86.126605, 80.928155, 84.090194, 81.893529, 84.23275, 76.86035, 113.164697, 77.898819, 75.894783, 85.179391, 77.952242, 112.206625, 79.042237, 88.015861, 81.086512, 78.987416, 111.26744, 84.074033, 109.518725, 82.983511, 83.058607, 113.299437, 84.027247, 78.985198, 81.027915]\n"
     ]
    }
   ],
   "source": [
    "preprocess_selected_function(function_names[12:16], workers_summary)"
   ],
   "metadata": {
    "collapsed": false,
    "pycharm": {
     "name": "#%%\n"
    }
   }
  },
  {
   "cell_type": "code",
   "execution_count": 63,
   "outputs": [
    {
     "data": {
      "text/plain": "104"
     },
     "execution_count": 63,
     "metadata": {},
     "output_type": "execute_result"
    }
   ],
   "source": [
    "gc.collect()"
   ],
   "metadata": {
    "collapsed": false,
    "pycharm": {
     "name": "#%%\n"
    }
   }
  },
  {
   "cell_type": "code",
   "execution_count": 55,
   "outputs": [
    {
     "name": "stdout",
     "output_type": "stream",
     "text": [
      "maxNetProfitGroupedBySoldDateWhereYearAfter2000 | node_11 durations: [87.967959, 84.982727, 89.856406, 84.828804, 84.800149, 87.034703, 84.842478, 85.892316, 93.463474, 89.998728, 95.998959, 114.237541, 85.927445, 115.22138, 107.974284, 115.212557, 112.987367, 114.408837, 117.558652, 88.922311, 117.077262, 114.251791, 92.859967, 85.75609, 93.835355]\n",
      "maxNetProfitGroupedBySoldDateWhereYearAfter2000 | node_12 durations: [87.963924, 84.875943, 89.680869, 84.711123, 84.726209, 86.887573, 84.796599, 85.77157, 93.417431, 89.837752, 95.917396, 114.130428, 85.803061, 115.071909, 107.818517, 115.231823, 113.029551, 114.252741, 117.40492, 88.936943, 117.06432, 113.95177, 92.863538, 85.732152, 93.862691]\n",
      "maxNetProfitGroupedBySoldDateWhereYearAfter2000 | node_13 durations: [87.880157, 84.733467, 89.572005, 84.574493, 84.577233, 86.834857, 84.721907, 85.669592, 93.326251, 89.87972, 95.788409, 113.999118, 85.685733, 115.065247, 107.84379, 115.06759, 112.903474, 114.184419, 117.278419, 88.779141, 116.946575, 113.852927, 92.644388, 85.605957, 93.760186]\n",
      "maxNetProfitGroupedBySoldDateWhereYearAfter2000 | node_14 durations: [87.740593, 84.614737, 89.466464, 84.445914, 84.43421, 86.662569, 84.619298, 85.561518, 93.169306, 89.792513, 95.595938, 113.878625, 85.548212, 115.0165, 107.728127, 114.940639, 112.761409, 114.20216, 117.146308, 88.655975, 116.81277, 113.693895, 92.630586, 85.506256, 93.57467]\n",
      "maxNetProfitGroupedBySoldDateWhereYearAfter2000 | node_15 durations: [87.603767, 84.585721, 89.471062, 84.462226, 84.445963, 86.488652, 84.432741, 85.556478, 93.0844, 89.614303, 95.603945, 113.714735, 85.54549, 114.893467, 107.526492, 114.937131, 112.623938, 113.999911, 117.180003, 88.551286, 116.670056, 113.679071, 92.466788, 85.373681, 93.561436]\n",
      "maxNetProfitGroupedBySoldDateWhereYearAfter2000 | node_16 durations: [87.43177, 84.268049, 89.26523, 84.260245, 84.258143, 86.46924, 84.41378, 85.354509, 93.023568, 89.598238, 95.527125, 113.655959, 85.365092, 114.777201, 107.52466, 114.771184, 112.616014, 113.860639, 116.953735, 88.482972, 116.621123, 113.548062, 92.358457, 85.333019, 93.445194]\n",
      "maxNetProfitGroupedBySoldDateWhereYearAfter2000 | node_17 durations: [87.377305, 84.225702, 89.234208, 84.246515, 84.11705, 86.41943, 84.227032, 85.337809, 92.72656, 89.50243, 95.451183, 113.508369, 85.333862, 114.729746, 107.354445, 114.720325, 112.545721, 113.813334, 116.916561, 88.485241, 116.596881, 113.475094, 92.322497, 85.11799, 93.26696]\n",
      "maxNetProfitGroupedBySoldDateWhereYearAfter2000 | node_18 durations: [87.226669, 84.147052, 89.176713, 84.137373, 84.148341, 86.181174, 84.134714, 85.241346, 92.615117, 89.305988, 95.308921, 113.526492, 85.229746, 114.61096, 107.373415, 114.622034, 112.437932, 113.683197, 116.680458, 88.375318, 116.37741, 113.394005, 92.169125, 85.061152, 93.23989]\n",
      "maxNetProfitGroupedBySoldDateWhereYearAfter2000 | node_19 durations: [87.243434, 84.039933, 88.993878, 83.929036, 83.921849, 86.117907, 84.128516, 85.035196, 92.569754, 89.448166, 95.248957, 113.318997, 85.186142, 114.423321, 107.189672, 114.430112, 112.239531, 113.654538, 116.462829, 88.180131, 116.310699, 113.305786, 92.10091, 84.953153, 93.103916]\n",
      "maxWholeSaleCostGroupedBySoldDate | node_11 durations: [121.157729, 91.849438, 115.968996, 88.752364, 88.907406, 122.422612, 82.140103, 114.23867, 89.841964, 86.711818, 92.842109, 87.005058, 83.10348, 89.846408, 87.809589, 121.318965, 119.288888, 90.175789, 90.88795, 87.761003, 84.829106, 85.917449, 118.334797, 85.762239, 81.670261]\n",
      "maxWholeSaleCostGroupedBySoldDate | node_12 durations: [121.082707, 91.779471, 115.8956, 88.673929, 88.808165, 122.416653, 82.100856, 114.179398, 89.753644, 86.657167, 92.73523, 86.814098, 82.93331, 89.763182, 87.760506, 121.347434, 119.178088, 90.068873, 90.693433, 87.602788, 84.79206, 85.888055, 118.217311, 85.747803, 81.671354]\n",
      "maxWholeSaleCostGroupedBySoldDate | node_13 durations: [120.936031, 91.664016, 115.791439, 88.560144, 88.586958, 122.334333, 82.018186, 114.074312, 89.64448, 86.542425, 92.698744, 86.772413, 82.798817, 89.667586, 87.62517, 120.968561, 119.074501, 89.961033, 90.586409, 87.636303, 84.677479, 85.760798, 118.14197, 85.612965, 81.561055]\n",
      "maxWholeSaleCostGroupedBySoldDate | node_14 durations: [120.791122, 91.51987, 115.733897, 88.383521, 88.539431, 122.112146, 81.931243, 114.020794, 89.490294, 86.509251, 92.630236, 86.660332, 82.732769, 89.637522, 87.43805, 120.987166, 119.032016, 89.922718, 90.588453, 87.444796, 84.615438, 85.708562, 117.959181, 85.555211, 81.462522]\n",
      "maxWholeSaleCostGroupedBySoldDate | node_15 durations: [120.775344, 91.368302, 115.584637, 88.371535, 88.519123, 122.019605, 81.773988, 113.918272, 89.475238, 86.460489, 92.414386, 86.650573, 82.656631, 89.474506, 87.439533, 120.769745, 118.883427, 89.796343, 90.42529, 87.434375, 84.456731, 85.557209, 117.910762, 85.359695, 81.303179]\n",
      "maxWholeSaleCostGroupedBySoldDate | node_16 durations: [120.62915, 91.355696, 115.617291, 88.230784, 88.405237, 122.028487, 81.730274, 113.765599, 89.329056, 86.240777, 92.309347, 86.530357, 82.486152, 89.331105, 87.320137, 120.744796, 118.788021, 89.661785, 90.306465, 87.335587, 84.374634, 85.454909, 117.829505, 85.285193, 81.248978]\n",
      "maxWholeSaleCostGroupedBySoldDate | node_17 durations: [120.582795, 91.172934, 115.448007, 88.208738, 88.216459, 121.855003, 81.673484, 113.718132, 89.306208, 86.21496, 92.282025, 86.34634, 82.467287, 89.333613, 87.288752, 120.584852, 118.707816, 89.627222, 90.195497, 87.271431, 84.186315, 85.435556, 117.675685, 85.128506, 81.070149]\n",
      "maxWholeSaleCostGroupedBySoldDate | node_18 durations: [120.414112, 91.173164, 115.391245, 88.149172, 88.215136, 121.829056, 81.442974, 113.507506, 89.077068, 86.169458, 92.138007, 86.305833, 82.302972, 89.139658, 87.1908, 120.578049, 118.536205, 89.382404, 90.095715, 87.09967, 84.101096, 85.369168, 117.590169, 85.050137, 81.075189]\n",
      "maxWholeSaleCostGroupedBySoldDate | node_19 durations: [120.365741, 91.103879, 115.321792, 88.00489, 88.003683, 121.627395, 81.394191, 113.479322, 89.050752, 85.967505, 92.083094, 86.265214, 82.195725, 89.025979, 87.055998, 120.366, 118.483447, 89.263737, 90.032623, 87.057988, 84.012349, 85.169858, 117.537994, 85.025414, 80.92249]\n",
      "minNetProfitGroupedBySoldDate | node_11 durations: [87.296725, 119.572233, 88.10256, 119.420189, 87.327827, 120.371584, 91.046813, 87.951954, 89.364698, 118.636608, 113.288415, 85.992476, 115.168991, 87.950076, 86.847502, 117.056633, 88.27327, 83.69879, 90.000498, 89.057305, 86.077356, 89.046148, 90.932834, 85.745151, 86.065602]\n",
      "minNetProfitGroupedBySoldDate | node_12 durations: [87.271002, 119.460884, 88.048985, 119.326772, 86.960702, 120.240701, 90.900339, 87.846604, 89.302563, 118.546343, 113.092796, 85.803367, 114.963141, 87.886425, 86.67068, 116.982232, 88.225883, 83.701327, 89.92057, 88.987368, 85.729291, 88.858005, 90.860774, 85.715546, 85.970205]\n",
      "minNetProfitGroupedBySoldDate | node_13 durations: [87.13345, 119.357132, 87.938422, 119.205221, 86.866377, 120.135452, 90.903257, 87.774031, 89.175414, 118.440093, 113.004322, 85.750195, 114.901586, 87.769391, 86.621665, 116.882054, 88.146589, 83.567838, 89.641582, 88.857331, 85.607399, 88.829171, 90.762312, 85.611315, 85.767981]\n",
      "minNetProfitGroupedBySoldDate | node_14 durations: [87.090906, 119.359909, 87.869006, 119.12838, 86.813673, 120.142713, 90.68947, 87.588381, 89.005728, 118.41274, 112.919505, 85.689833, 114.90328, 87.739144, 86.4921, 116.7921, 88.071525, 83.505843, 89.474194, 88.699355, 85.547636, 88.685855, 90.733125, 85.539101, 85.69922]\n",
      "minNetProfitGroupedBySoldDate | node_15 durations: [87.025207, 119.228229, 87.748641, 119.013431, 86.74424, 120.133067, 90.573001, 87.582864, 88.987705, 118.224493, 112.893621, 85.534038, 114.786739, 87.581181, 86.43645, 116.680641, 87.846472, 83.3349, 89.471411, 88.633039, 85.470094, 88.684319, 90.677209, 85.379798, 85.539686]\n",
      "minNetProfitGroupedBySoldDate | node_16 durations: [86.882413, 119.03342, 87.616165, 118.895635, 86.549767, 119.990463, 90.57491, 87.478295, 88.88658, 118.119609, 112.658694, 85.459647, 114.689414, 87.310098, 86.37485, 116.603042, 87.762422, 83.264994, 89.374559, 88.572106, 85.318244, 88.573183, 90.73689, 85.309829, 85.585632]\n",
      "minNetProfitGroupedBySoldDate | node_17 durations: [86.806256, 119.007209, 87.602535, 118.710544, 86.514879, 119.924634, 90.396173, 87.291102, 88.782071, 118.100625, 112.511949, 85.41154, 114.498818, 87.294748, 86.201623, 116.510436, 87.679223, 83.099787, 89.23887, 88.375122, 85.265039, 88.514377, 90.548969, 85.278463, 85.424643]\n",
      "minNetProfitGroupedBySoldDate | node_18 durations: [86.596889, 118.981748, 87.410142, 118.708089, 86.453103, 119.783564, 90.381259, 87.250011, 88.659951, 118.053206, 112.402438, 85.195441, 114.430576, 87.239067, 86.133491, 116.321598, 87.563777, 83.118714, 89.127333, 88.35873, 85.205464, 88.345845, 90.554083, 85.092581, 85.347423]\n",
      "minNetProfitGroupedBySoldDate | node_19 durations: [86.563627, 118.775077, 87.139602, 118.636414, 86.366648, 119.701641, 90.181991, 87.198366, 88.610558, 117.702392, 112.327761, 85.161235, 114.390421, 87.027814, 86.093911, 116.267068, 87.518945, 82.969193, 89.074744, 88.29978, 85.009284, 88.304582, 90.346501, 84.985161, 85.15317]\n",
      "minNetProfitGroupedBySoldDateWhereProfitNegative | node_11 durations: [84.195941, 85.085458, 77.732032, 87.812969, 82.777164, 87.190372, 80.893747, 84.826773, 110.936836, 83.984095, 81.664993, 80.092701, 79.627779, 113.13924, 78.678057, 112.993078, 81.969419, 81.980205, 82.928295, 78.847597, 79.150027, 84.899563, 79.621318, 81.611453, 112.047081]\n",
      "minNetProfitGroupedBySoldDateWhereProfitNegative | node_12 durations: [84.189218, 84.943038, 77.647319, 87.745839, 82.614738, 87.129069, 80.770469, 84.637861, 110.9292, 83.854288, 81.527478, 79.981441, 79.514635, 113.099255, 78.578375, 113.000212, 81.874624, 81.83864, 82.780996, 78.75203, 79.067953, 84.82908, 79.505052, 81.534152, 112.019668]\n",
      "minNetProfitGroupedBySoldDateWhereProfitNegative | node_13 durations: [84.059046, 84.853238, 77.522054, 87.561211, 82.509225, 87.018959, 80.770326, 84.599451, 110.840544, 83.892252, 81.476637, 79.701585, 79.406661, 113.003216, 78.445146, 112.836792, 81.750582, 81.659904, 82.721508, 78.623221, 78.915589, 84.674176, 79.438102, 81.40518, 111.909453]\n",
      "minNetProfitGroupedBySoldDateWhereProfitNegative | node_14 durations: [83.844641, 84.780479, 77.385153, 87.552973, 82.428463, 86.671737, 80.550104, 84.464551, 110.730974, 83.667958, 81.480937, 79.59784, 79.356536, 112.933324, 78.327325, 112.794362, 81.627273, 81.643395, 82.576579, 78.571015, 78.798988, 84.614483, 79.362858, 81.310716, 111.681918]\n",
      "minNetProfitGroupedBySoldDateWhereProfitNegative | node_15 durations: [83.755655, 84.607426, 77.36572, 87.438463, 82.352341, 86.657693, 80.516064, 84.394054, 110.67955, 83.671516, 81.300054, 79.56259, 79.266409, 112.716717, 78.317349, 112.584342, 81.461386, 81.615934, 82.55125, 78.468872, 78.780253, 84.604339, 79.263604, 81.294121, 111.691481]\n",
      "minNetProfitGroupedBySoldDateWhereProfitNegative | node_16 durations: [83.589089, 84.510146, 77.223138, 87.319369, 82.189641, 86.487529, 80.490858, 84.250389, 110.552321, 83.52713, 81.285498, 79.368308, 79.23655, 112.717559, 78.158804, 112.524292, 81.404138, 81.403655, 82.352353, 78.316558, 78.59387, 84.507742, 79.237374, 81.135754, 111.593165]\n",
      "minNetProfitGroupedBySoldDateWhereProfitNegative | node_17 durations: [83.558262, 84.330551, 77.169707, 87.292802, 82.173236, 86.490621, 80.136188, 84.193152, 110.375594, 83.410313, 81.092121, 79.350653, 79.046423, 112.649438, 78.138466, 112.491205, 81.245744, 81.375622, 82.334265, 78.267583, 78.57518, 84.326784, 79.054072, 81.067437, 111.418764]\n",
      "minNetProfitGroupedBySoldDateWhereProfitNegative | node_18 durations: [83.440317, 84.265169, 77.034466, 87.10696, 82.087038, 86.25798, 80.025216, 84.12538, 110.35657, 83.321188, 80.971044, 79.190838, 79.07038, 112.412757, 77.985824, 112.396766, 81.136542, 81.224298, 82.227973, 78.140985, 78.447704, 84.275408, 78.931845, 80.967738, 111.326536]\n",
      "minNetProfitGroupedBySoldDateWhereProfitNegative | node_19 durations: [83.302699, 84.077068, 77.012627, 87.072704, 81.982492, 86.289881, 79.988132, 83.921838, 110.18709, 83.148802, 80.895374, 79.046119, 78.910825, 112.377403, 77.95597, 112.209544, 81.091339, 81.094356, 82.043045, 77.948891, 78.266066, 84.231768, 78.906269, 80.896986, 111.276705]\n"
     ]
    }
   ],
   "source": [
    "preprocess_selected_function(function_names[16:20], workers_summary)"
   ],
   "metadata": {
    "collapsed": false,
    "pycharm": {
     "name": "#%%\n"
    }
   }
  },
  {
   "cell_type": "code",
   "execution_count": 56,
   "outputs": [
    {
     "data": {
      "text/plain": "4928938"
     },
     "execution_count": 56,
     "metadata": {},
     "output_type": "execute_result"
    }
   ],
   "source": [
    "gc.collect()"
   ],
   "metadata": {
    "collapsed": false,
    "pycharm": {
     "name": "#%%\n"
    }
   }
  },
  {
   "cell_type": "code",
   "execution_count": 57,
   "outputs": [
    {
     "name": "stdout",
     "output_type": "stream",
     "text": [
      "minNetProfitGroupedBySoldDateWhereYearAfter2000 | node_11 durations: [94.09699, 116.312745, 86.879763, 96.092777, 92.869645, 90.15333, 81.987514, 118.64019, 115.034231, 116.13745, 94.894594, 113.151107, 87.835642, 93.966197, 119.138702, 96.95351, 127.456563, 86.860129, 110.298711, 92.825979, 85.977646, 81.68446, 82.781335, 112.023962, 84.812339]\n",
      "minNetProfitGroupedBySoldDateWhereYearAfter2000 | node_12 durations: [93.894937, 116.137993, 86.878379, 95.910857, 92.803716, 90.136234, 81.758293, 118.475228, 114.901606, 115.997743, 94.83839, 113.050598, 87.662259, 93.755446, 119.08154, 96.806781, 127.35251, 86.72395, 110.150383, 92.813517, 85.855461, 81.625567, 82.694293, 111.882757, 84.636315]\n",
      "minNetProfitGroupedBySoldDateWhereYearAfter2000 | node_13 durations: [93.925224, 116.066648, 86.74293, 95.796053, 92.686442, 90.026444, 81.738561, 118.49301, 114.812839, 115.885048, 94.659298, 112.763744, 87.534059, 93.63527, 118.866599, 96.741675, 127.353217, 86.626893, 110.038708, 92.67604, 85.843915, 81.619123, 82.540382, 111.899177, 84.672564]\n",
      "minNetProfitGroupedBySoldDateWhereYearAfter2000 | node_14 durations: [93.735921, 115.915531, 86.64684, 95.799157, 92.591497, 89.948664, 81.64093, 118.324662, 114.831614, 115.769741, 94.668973, 112.785412, 87.452755, 93.541173, 118.844183, 96.540033, 127.242631, 86.538612, 109.936351, 92.654721, 85.713526, 81.475394, 82.440568, 111.67587, 84.457701]\n",
      "minNetProfitGroupedBySoldDateWhereYearAfter2000 | node_15 durations: [93.7234, 115.910851, 86.497306, 95.597606, 92.463007, 89.778073, 81.459909, 118.253062, 114.636725, 115.7504, 94.511525, 112.589861, 87.442647, 93.571622, 118.730406, 96.44004, 127.195066, 86.510138, 109.782378, 92.610377, 85.530113, 81.438161, 82.381752, 111.66972, 84.430532]\n",
      "minNetProfitGroupedBySoldDateWhereYearAfter2000 | node_16 durations: [93.622534, 115.703999, 86.488831, 95.509983, 92.38964, 89.704611, 81.44474, 118.201185, 114.634489, 115.589595, 94.394796, 112.590188, 87.265794, 93.459139, 118.667481, 96.408351, 127.045568, 86.321069, 109.706322, 92.530809, 85.518334, 81.278157, 82.253642, 111.59376, 84.296444]\n",
      "minNetProfitGroupedBySoldDateWhereYearAfter2000 | node_17 durations: [93.452251, 115.511211, 86.291832, 95.431522, 92.198109, 89.68637, 81.299387, 118.000397, 114.454856, 115.545615, 94.347166, 112.423626, 87.188542, 93.292796, 118.473939, 96.39372, 126.861674, 86.269784, 109.549899, 92.330263, 85.330802, 81.134841, 82.095331, 111.410601, 84.24872]\n",
      "minNetProfitGroupedBySoldDateWhereYearAfter2000 | node_18 durations: [93.427548, 115.414367, 86.314114, 95.288373, 92.128982, 89.306123, 81.281119, 117.948103, 114.362955, 115.413757, 94.241366, 112.417956, 87.100587, 93.246676, 118.413594, 96.252012, 126.893405, 86.171657, 109.421814, 92.306504, 85.229627, 81.145809, 82.049505, 111.316224, 84.128291]\n",
      "minNetProfitGroupedBySoldDateWhereYearAfter2000 | node_19 durations: [93.201545, 115.358761, 86.231301, 95.245676, 92.098824, 89.287925, 81.131182, 117.900339, 114.26073, 115.366749, 94.148459, 112.224407, 86.933914, 93.06668, 118.351206, 96.197941, 126.719553, 86.081241, 109.224338, 92.095861, 85.170603, 80.949629, 81.98911, 111.272859, 84.069791]\n",
      "minWholeSaleCostGroupedBySoldDate | node_11 durations: [91.111084, 90.795536, 86.869465, 120.394874, 87.798709, 87.847496, 118.024344, 112.02801, 86.229752, 88.736044, 120.388758, 80.881106, 85.924573, 114.403674, 85.802344, 118.332267, 86.70398, 119.445969, 87.022178, 89.854168, 89.232101, 116.14497, 81.905588, 122.27166, 85.918974]\n",
      "minWholeSaleCostGroupedBySoldDate | node_12 durations: [91.015815, 90.689891, 86.701649, 120.252215, 87.739629, 87.752933, 117.910147, 111.842088, 86.030582, 88.685731, 120.105097, 80.731573, 85.741206, 114.343697, 85.585124, 118.2457, 86.640082, 119.318225, 86.835514, 89.77201, 89.09738, 116.074129, 81.680592, 122.103583, 85.875784]\n",
      "minWholeSaleCostGroupedBySoldDate | node_13 durations: [90.896143, 90.603519, 86.723607, 120.180953, 87.626636, 87.643485, 117.823532, 111.742259, 85.929258, 88.576311, 119.992583, 80.640438, 85.644163, 114.24219, 85.620884, 118.129043, 86.544038, 119.213404, 86.695564, 89.707272, 89.046477, 115.964657, 81.72428, 122.030125, 85.763954]\n",
      "minWholeSaleCostGroupedBySoldDate | node_14 durations: [90.728055, 90.597389, 86.555143, 120.127113, 87.597443, 87.439858, 117.805737, 111.723146, 85.715754, 88.482411, 120.003567, 80.520821, 85.517975, 114.15781, 85.414455, 118.044276, 86.499745, 119.204277, 86.66482, 89.486063, 88.861582, 115.895163, 81.61542, 121.882262, 85.550533]\n",
      "minWholeSaleCostGroupedBySoldDate | node_15 durations: [90.728556, 90.410219, 86.601182, 119.9774, 87.442503, 87.387052, 117.740346, 111.648552, 85.540724, 88.400988, 119.835995, 80.521911, 85.553799, 114.06445, 85.381028, 117.9504, 86.462705, 118.911041, 86.644691, 89.327434, 88.78279, 115.750653, 81.452203, 121.827183, 85.382337]\n",
      "minWholeSaleCostGroupedBySoldDate | node_16 durations: [90.630603, 90.402232, 86.394241, 119.841631, 87.326642, 87.34643, 117.501216, 111.428773, 85.440566, 88.410299, 119.674866, 80.330139, 85.467471, 113.945529, 85.317193, 117.842429, 86.245234, 118.74308, 86.527464, 89.35025, 88.712178, 115.663062, 81.400415, 121.752309, 85.317141]\n",
      "minWholeSaleCostGroupedBySoldDate | node_17 durations: [90.547256, 90.25401, 86.363893, 119.659716, 87.312802, 87.147514, 117.523007, 111.397732, 85.429461, 88.225535, 119.678016, 80.288119, 85.272597, 113.891882, 85.117737, 117.771033, 86.209866, 118.771749, 86.372323, 89.154493, 88.555408, 115.600236, 81.210419, 121.663421, 85.275124]\n",
      "minWholeSaleCostGroupedBySoldDate | node_18 durations: [90.39599, 90.09115, 86.163378, 119.487217, 87.250799, 87.086668, 117.286999, 111.307002, 85.363802, 88.198344, 119.476782, 80.17861, 85.27898, 113.669455, 85.053072, 117.607588, 86.156156, 118.547798, 86.316712, 89.137453, 88.501774, 115.395837, 81.135457, 121.514324, 85.166144]\n",
      "minWholeSaleCostGroupedBySoldDate | node_19 durations: [90.303232, 90.042143, 86.108739, 119.440777, 87.062518, 87.074116, 117.230817, 111.239735, 85.16003, 88.010169, 119.435193, 80.153591, 85.17897, 113.467947, 85.013294, 117.534289, 85.973278, 118.486739, 86.112087, 88.945606, 88.15802, 115.367277, 81.086398, 121.467815, 84.943768]\n",
      "summaryNetProfitGroupedBySoldDate | node_11 durations: [98.028683, 131.547421, 128.853756, 97.887327, 102.277047, 99.139446, 102.130314, 102.263913, 102.125308, 105.260778, 101.175176, 98.972815, 132.344195, 106.228748, 102.272992, 137.535649, 98.026006, 98.989846, 126.353892, 136.580495, 103.383039, 91.814978, 133.440681, 101.172004, 102.901742]\n",
      "summaryNetProfitGroupedBySoldDate | node_12 durations: [97.894239, 131.448437, 128.804041, 97.858216, 102.210616, 98.775178, 102.060806, 102.203582, 102.072566, 105.081551, 100.947063, 98.927132, 132.230742, 106.098092, 102.112852, 137.513811, 98.001134, 98.950532, 126.320386, 136.426135, 103.299472, 91.678582, 133.469361, 101.109171, 102.831597]\n",
      "summaryNetProfitGroupedBySoldDate | node_13 durations: [97.879606, 131.354284, 128.71277, 97.741896, 102.096547, 98.716634, 101.952044, 102.149761, 101.956554, 104.940132, 100.85866, 98.818355, 132.21241, 105.997464, 102.098944, 137.363343, 97.842097, 98.847973, 126.229831, 136.337783, 103.194168, 91.670943, 133.3711, 101.020039, 102.717343]\n",
      "summaryNetProfitGroupedBySoldDate | node_14 durations: [97.669701, 131.337741, 128.490345, 97.668482, 101.916512, 98.610409, 101.770857, 101.918825, 101.894794, 104.880597, 100.813725, 98.626304, 132.068031, 105.98161, 101.903974, 137.300147, 97.833847, 98.723254, 126.21178, 136.293906, 103.006788, 91.526933, 133.190619, 100.794034, 102.705934]\n",
      "summaryNetProfitGroupedBySoldDate | node_15 durations: [97.648754, 131.306732, 128.534306, 97.474364, 101.888548, 98.594019, 101.730846, 101.893705, 101.771372, 104.891859, 100.818282, 98.588836, 132.07338, 105.838443, 101.890567, 137.238802, 97.666437, 98.600738, 126.104206, 136.200887, 102.982378, 91.509928, 133.186344, 100.801881, 102.509718]\n",
      "summaryNetProfitGroupedBySoldDate | node_16 durations: [97.500052, 131.065858, 128.421259, 97.452434, 101.850961, 98.413421, 101.632411, 101.791621, 101.642605, 104.765521, 100.577572, 98.395146, 131.957627, 105.854527, 101.78405, 136.927704, 97.588514, 98.510631, 125.916114, 136.006022, 102.823981, 91.361549, 132.94885, 100.676233, 102.43244]\n",
      "summaryNetProfitGroupedBySoldDate | node_17 durations: [97.39469, 131.083599, 128.032658, 97.279468, 101.75728, 98.330481, 101.607875, 101.646706, 101.468445, 104.574543, 100.511687, 98.329598, 131.916943, 105.64179, 101.592989, 136.918967, 97.284637, 98.509017, 125.77802, 135.978908, 102.694086, 91.218758, 132.854999, 100.541231, 102.396582]\n",
      "summaryNetProfitGroupedBySoldDate | node_18 durations: [97.305973, 130.944237, 127.964011, 97.16322, 101.55027, 98.254173, 101.389701, 101.406921, 101.405987, 104.537246, 100.457487, 98.247839, 131.732697, 105.655013, 101.556681, 136.785171, 97.154681, 98.37286, 125.757907, 135.827751, 102.660761, 91.169423, 132.853754, 100.461796, 102.193694]\n",
      "summaryNetProfitGroupedBySoldDate | node_19 durations: [97.260706, 130.9018, 127.910129, 97.121847, 101.508675, 98.211963, 101.30507, 101.358341, 101.403534, 104.498699, 100.412942, 98.113244, 131.692255, 105.446305, 101.47479, 136.703339, 97.104794, 98.210289, 125.707754, 135.784705, 102.448605, 91.145004, 132.789408, 100.409705, 102.205027]\n",
      "summaryWholeSaleCostGroupedBySoldDate | node_11 durations: [103.058407, 96.91964, 98.9043, 92.840816, 130.298366, 91.891567, 97.87463, 97.084852, 103.059756, 132.79581, 104.947661, 100.079816, 103.226271, 99.985066, 103.998255, 96.135288, 99.003749, 102.279857, 102.113819, 106.204532, 105.106314, 103.193919, 125.246161, 105.107802, 104.006724]\n",
      "summaryWholeSaleCostGroupedBySoldDate | node_12 durations: [102.882795, 96.757769, 98.78536, 92.737216, 130.223011, 91.780033, 97.857681, 96.917979, 102.959945, 132.670978, 104.874153, 100.041861, 103.052015, 99.878661, 103.919651, 96.020948, 98.818695, 102.051132, 102.039054, 106.137786, 105.043754, 102.985589, 125.222337, 105.014143, 103.9486]\n",
      "summaryWholeSaleCostGroupedBySoldDate | node_13 durations: [102.744851, 96.648776, 98.696154, 92.757217, 130.123827, 91.624293, 97.756344, 96.815208, 102.845908, 132.527857, 104.735889, 99.987431, 102.910695, 99.765558, 103.753809, 95.877964, 98.831363, 102.081861, 101.989741, 105.985884, 104.90903, 102.877076, 125.122648, 104.935642, 103.859923]\n",
      "summaryWholeSaleCostGroupedBySoldDate | node_14 durations: [102.694441, 96.568491, 98.579764, 92.64235, 130.048085, 91.539091, 97.67033, 96.823769, 102.84248, 132.369279, 104.736808, 99.669225, 102.858059, 99.712731, 103.630471, 95.772403, 98.605533, 101.910014, 101.901704, 105.843688, 104.892208, 102.855507, 125.038643, 104.867188, 103.785437]\n",
      "summaryWholeSaleCostGroupedBySoldDate | node_15 durations: [102.527534, 96.549042, 98.621044, 92.46358, 129.852564, 91.516614, 97.479699, 96.703949, 102.688752, 132.400837, 104.555195, 99.542016, 102.661926, 99.668455, 103.615329, 95.756196, 98.58579, 101.757728, 101.730995, 105.827537, 104.73477, 102.683941, 124.937376, 104.721837, 103.620027]\n",
      "summaryWholeSaleCostGroupedBySoldDate | node_16 durations: [102.445714, 96.371744, 98.372527, 92.324596, 129.804434, 91.353229, 97.416565, 96.646463, 102.566872, 132.299792, 104.490581, 99.470725, 102.45755, 99.610836, 103.51526, 95.604426, 98.516534, 101.664934, 101.619152, 105.654663, 104.603553, 102.691716, 124.812506, 104.613849, 103.495396]\n",
      "summaryWholeSaleCostGroupedBySoldDate | node_17 durations: [102.375545, 96.332605, 98.373153, 92.255565, 129.746658, 91.343457, 97.403288, 96.483505, 102.407174, 132.237576, 104.394499, 99.358622, 102.389951, 99.433721, 103.297883, 95.546484, 98.326569, 101.636732, 101.588056, 105.633751, 104.540014, 102.518574, 124.759512, 104.547556, 103.449877]\n",
      "summaryWholeSaleCostGroupedBySoldDate | node_18 durations: [102.33788, 96.232662, 98.266759, 92.126621, 129.557242, 91.129293, 97.29564, 96.402319, 102.354521, 132.08684, 104.390861, 99.359703, 102.3464, 99.36338, 103.289968, 95.496758, 98.243138, 101.55152, 101.551189, 105.479773, 104.375574, 102.488961, 124.657185, 104.380736, 103.439722]\n",
      "summaryWholeSaleCostGroupedBySoldDate | node_19 durations: [102.143452, 96.054065, 98.214292, 92.044306, 129.476045, 91.146119, 97.172967, 96.326353, 102.292677, 132.004911, 104.180216, 99.15202, 102.2893, 99.299552, 103.2402, 95.377398, 98.202869, 101.345949, 101.315438, 105.429071, 104.333883, 102.292779, 124.440749, 104.333344, 103.230232]\n"
     ]
    }
   ],
   "source": [
    "preprocess_selected_function(function_names[20:24], workers_summary)"
   ],
   "metadata": {
    "collapsed": false,
    "pycharm": {
     "name": "#%%\n"
    }
   }
  },
  {
   "cell_type": "code",
   "execution_count": 58,
   "outputs": [
    {
     "data": {
      "text/plain": "4934527"
     },
     "execution_count": 58,
     "metadata": {},
     "output_type": "execute_result"
    }
   ],
   "source": [
    "gc.collect()"
   ],
   "metadata": {
    "collapsed": false,
    "pycharm": {
     "name": "#%%\n"
    }
   }
  },
  {
   "cell_type": "code",
   "execution_count": 59,
   "outputs": [
    {
     "name": "stdout",
     "output_type": "stream",
     "text": [
      "sumNetProfitGroupedBySoldDate | node_11 durations: [90.971476, 86.708836, 82.938553, 90.022286, 112.054318, 92.387879, 87.973353, 87.814172, 89.855791, 93.172355, 120.377918, 121.346454, 85.915915, 125.260064, 90.781606, 120.243832, 87.938611, 85.92753, 81.770384, 91.90376, 119.284323, 87.824239, 113.954311, 98.357588, 85.770704]\n",
      "sumNetProfitGroupedBySoldDate | node_12 durations: [90.868947, 86.68725, 82.833273, 89.886375, 112.018613, 92.289112, 87.929761, 87.766406, 89.768332, 93.042027, 120.257782, 121.199856, 85.799199, 125.09044, 90.703193, 120.25012, 87.749615, 85.897456, 81.694052, 91.800602, 119.16723, 87.737281, 113.871952, 98.33263, 85.763992]\n",
      "sumNetProfitGroupedBySoldDate | node_13 durations: [90.903426, 86.572165, 82.659532, 89.821139, 111.910653, 91.916749, 87.814029, 87.639001, 89.63837, 92.945582, 120.067905, 121.111858, 85.761196, 124.996932, 90.743778, 120.162591, 87.645318, 85.812894, 81.578361, 91.691025, 119.06858, 87.647164, 113.768506, 98.228545, 85.621661]\n",
      "sumNetProfitGroupedBySoldDate | node_14 durations: [90.761441, 86.507833, 82.566058, 89.650306, 111.72064, 91.857371, 87.77737, 87.598735, 89.455995, 92.807224, 119.990595, 120.986657, 85.562265, 124.900582, 90.595035, 119.986645, 87.615673, 85.722126, 81.469193, 91.47466, 118.921963, 87.60375, 113.724406, 98.156672, 85.561678]\n",
      "sumNetProfitGroupedBySoldDate | node_15 durations: [90.702896, 86.442125, 82.422179, 89.642378, 111.664804, 91.665138, 87.550615, 87.44585, 89.327984, 92.777546, 120.018834, 120.936544, 85.569935, 124.889371, 90.42747, 119.853756, 87.445999, 85.55454, 81.29873, 91.384089, 118.86627, 87.396497, 113.58915, 97.648265, 85.402602]\n",
      "sumNetProfitGroupedBySoldDate | node_16 durations: [90.574941, 86.266751, 82.342476, 89.497215, 111.593945, 91.686958, 87.506486, 87.3005, 89.233421, 92.630029, 119.85436, 120.791936, 85.463216, 124.727467, 90.314296, 119.745402, 87.486828, 85.46701, 81.252256, 91.407675, 118.763171, 87.336357, 113.630942, 97.439942, 85.295927]\n",
      "sumNetProfitGroupedBySoldDate | node_17 durations: [90.411677, 86.216311, 82.328169, 89.357597, 111.406174, 91.492856, 87.46305, 87.286509, 89.191683, 92.590781, 119.798346, 120.75506, 85.28369, 124.631102, 90.253976, 119.657179, 87.352114, 85.432675, 81.182574, 91.198536, 118.623939, 87.322774, 113.432885, 97.413791, 85.262653]\n",
      "sumNetProfitGroupedBySoldDate | node_18 durations: [90.404684, 86.175612, 82.221274, 89.296821, 111.30412, 91.509966, 87.258587, 87.04704, 89.142972, 92.510693, 119.491974, 120.589061, 85.212194, 124.521897, 90.206384, 119.645358, 87.256803, 85.207301, 81.119043, 91.100656, 118.541396, 87.142638, 113.350128, 97.319363, 85.172457]\n",
      "sumNetProfitGroupedBySoldDate | node_19 durations: [90.362715, 85.977623, 82.041084, 89.271576, 111.257421, 91.312893, 87.117282, 87.066384, 88.95025, 92.421281, 119.446715, 120.547807, 85.040134, 124.468355, 90.047507, 119.434289, 87.065398, 85.183114, 80.934076, 91.146576, 118.515344, 87.076506, 113.294813, 97.261196, 84.983179]\n",
      "sumNetProfitGroupedBySoldDateWhereProfitNegative | node_11 durations: [112.483553, 76.630583, 112.036248, 121.173887, 81.834958, 109.992422, 79.150839, 84.661973, 118.499078, 78.678309, 82.788773, 89.06771, 78.692751, 82.726441, 121.490749, 112.049499, 84.801017, 78.698496, 84.757993, 71.512967, 83.712503, 107.167636, 83.090284, 111.101776, 121.341446]\n",
      "sumNetProfitGroupedBySoldDateWhereProfitNegative | node_12 durations: [112.508739, 76.556007, 111.859639, 120.955281, 81.684099, 109.990931, 78.738412, 84.67441, 118.397986, 78.583576, 82.661372, 88.858016, 78.582469, 82.610869, 121.372179, 111.883163, 84.649805, 78.584706, 84.641971, 71.417263, 83.542936, 107.045257, 82.922371, 110.914282, 121.198092]\n",
      "sumNetProfitGroupedBySoldDateWhereProfitNegative | node_13 durations: [112.209989, 76.467432, 111.781731, 120.933844, 81.710061, 109.880413, 78.751246, 84.512754, 118.288605, 78.459585, 82.513135, 88.852565, 78.617643, 82.481691, 121.223674, 111.745176, 84.531583, 78.624541, 84.533822, 71.422859, 83.432867, 106.915435, 82.806442, 110.859274, 120.941099]\n",
      "sumNetProfitGroupedBySoldDateWhereProfitNegative | node_14 durations: [112.135021, 76.282715, 111.668639, 120.847753, 81.479686, 109.77794, 78.650558, 84.462701, 118.12844, 78.480861, 82.35331, 88.509208, 78.489587, 82.421836, 121.13792, 111.622902, 84.462669, 78.490338, 84.462299, 71.249453, 83.363279, 106.800508, 82.729627, 110.697356, 120.785596]\n",
      "sumNetProfitGroupedBySoldDateWhereProfitNegative | node_15 durations: [112.067559, 76.274346, 111.642909, 120.767544, 81.454953, 109.608314, 78.467005, 84.290093, 118.055332, 78.311668, 82.240248, 88.392184, 78.275115, 82.397045, 121.085515, 111.623152, 84.405649, 78.307144, 84.293712, 71.250418, 83.349958, 106.709352, 82.71874, 110.686207, 120.732114]\n",
      "sumNetProfitGroupedBySoldDateWhereProfitNegative | node_16 durations: [111.885547, 76.112343, 111.567404, 120.605921, 81.380336, 109.564645, 78.437499, 84.208216, 117.952623, 78.142697, 82.197173, 88.406708, 78.175967, 82.180137, 120.765192, 111.425181, 84.359692, 78.288783, 84.272983, 71.11695, 83.282022, 106.658984, 82.640756, 110.499374, 120.619799]\n",
      "sumNetProfitGroupedBySoldDateWhereProfitNegative | node_17 durations: [111.731098, 76.092535, 111.395349, 120.590834, 81.237164, 109.429765, 78.417597, 84.212719, 117.946172, 78.108492, 82.155904, 88.200906, 78.134359, 82.154693, 120.735876, 111.402865, 84.172607, 78.104851, 84.179493, 70.94776, 83.071176, 106.590183, 82.46496, 110.510272, 120.610956]\n",
      "sumNetProfitGroupedBySoldDateWhereProfitNegative | node_18 durations: [111.62347, 75.926882, 111.306325, 120.436083, 81.127675, 109.421581, 78.283757, 84.123811, 117.769593, 77.976101, 82.088557, 88.053895, 78.053633, 82.016621, 120.588771, 111.324032, 84.133541, 78.143671, 84.113616, 70.915097, 83.022314, 106.453182, 82.32637, 110.3783, 120.444714]\n",
      "sumNetProfitGroupedBySoldDateWhereProfitNegative | node_19 durations: [111.575097, 75.826929, 111.276767, 120.37583, 81.092913, 109.237326, 78.202098, 83.92043, 117.715154, 77.875747, 81.886737, 88.011453, 77.955848, 81.889883, 120.529, 111.270221, 83.933368, 77.950979, 83.921092, 70.722521, 82.937045, 106.402099, 82.202142, 110.326912, 120.404864]\n",
      "sumNetProfitGroupedBySoldDateWhereYearAfter2000 | node_11 durations: [88.072285, 92.849394, 116.139218, 87.97323, 94.903945, 95.208905, 84.967285, 87.807458, 93.157823, 83.714913, 123.387009, 86.85659, 83.72215, 84.970492, 87.010864, 94.266315, 82.914323, 84.813857, 92.871155, 88.834002, 88.756553, 87.809572, 90.023914, 92.997085, 125.115561]\n",
      "sumNetProfitGroupedBySoldDateWhereYearAfter2000 | node_12 durations: [88.007108, 92.663024, 115.980841, 87.811107, 94.849995, 95.124978, 84.880836, 87.675147, 93.089731, 83.640078, 123.165877, 86.743587, 83.700458, 84.85551, 86.869809, 94.193554, 82.804503, 84.756511, 92.798534, 88.749323, 88.682985, 87.670873, 89.861088, 92.976642, 125.001698]\n",
      "sumNetProfitGroupedBySoldDateWhereYearAfter2000 | node_13 durations: [87.902957, 92.681032, 115.898434, 87.69989, 94.695567, 95.022604, 84.727008, 87.541817, 92.975897, 83.482752, 123.16581, 86.600308, 83.521506, 84.745222, 86.775221, 94.079583, 82.654422, 84.609283, 92.681853, 88.657409, 88.600817, 87.677553, 89.738417, 92.852964, 124.890273]\n",
      "sumNetProfitGroupedBySoldDateWhereYearAfter2000 | node_14 durations: [87.749639, 92.509566, 115.753994, 87.602936, 94.701153, 94.870021, 84.627452, 87.451744, 92.796247, 83.522307, 122.994403, 86.529832, 83.48107, 84.483906, 86.658061, 94.051527, 82.56928, 84.47668, 92.497029, 88.569098, 88.539023, 87.449564, 89.671227, 92.801068, 124.78695]\n",
      "sumNetProfitGroupedBySoldDateWhereYearAfter2000 | node_15 durations: [87.558339, 92.45901, 115.658506, 87.583719, 94.514692, 94.655778, 84.599204, 87.388867, 92.76134, 83.313656, 123.004001, 86.340551, 83.333034, 84.279209, 86.650178, 93.89581, 82.537752, 84.448819, 92.427942, 88.378475, 88.361715, 87.451009, 89.648361, 92.61712, 124.707885]\n",
      "sumNetProfitGroupedBySoldDateWhereYearAfter2000 | node_16 durations: [87.553088, 92.352646, 115.576844, 87.372034, 94.477781, 94.532342, 84.401809, 87.276349, 92.69826, 83.194082, 122.904265, 86.305506, 83.258834, 84.323094, 86.451767, 93.768024, 82.434917, 84.274134, 92.378016, 88.304365, 88.293017, 87.251535, 89.576676, 92.537136, 124.62343]\n",
      "sumNetProfitGroupedBySoldDateWhereYearAfter2000 | node_17 durations: [87.360916, 92.183038, 115.545727, 87.287839, 94.370064, 94.517922, 84.385248, 87.210026, 92.492465, 83.167688, 122.690006, 86.249651, 83.252248, 84.096217, 86.434188, 93.735036, 82.169744, 84.239404, 92.333151, 88.275748, 88.224219, 87.219488, 89.39575, 92.487601, 124.546477]\n",
      "sumNetProfitGroupedBySoldDateWhereYearAfter2000 | node_18 durations: [87.28414, 92.122886, 115.459561, 87.302765, 94.175583, 94.2986, 84.303439, 87.063881, 92.476351, 83.034197, 122.639162, 86.0277, 83.010277, 84.124117, 86.333432, 93.700745, 82.044859, 84.14209, 92.15475, 88.064831, 88.040768, 87.114624, 89.28279, 92.302743, 124.529622]\n",
      "sumNetProfitGroupedBySoldDateWhereYearAfter2000 | node_19 durations: [87.231, 92.091461, 115.370773, 87.069338, 94.140356, 94.295354, 84.184444, 87.074826, 92.416906, 83.034697, 122.605717, 86.046895, 82.995172, 83.93586, 86.270128, 93.5355, 82.041783, 84.084095, 92.112485, 88.027724, 88.015089, 87.070545, 89.278271, 92.248179, 124.328641]\n",
      "sumWholeSaleCostGroupedBySoldDate | node_11 durations: [86.995157, 87.010555, 114.381601, 91.08843, 88.741335, 86.837647, 89.854522, 115.004742, 75.049614, 87.946555, 84.807928, 76.620491, 115.4734, 85.889707, 89.064512, 88.998658, 121.308348, 87.791755, 87.806479, 86.701564, 87.798345, 88.751721, 88.208706, 114.073529, 89.067851]\n",
      "sumWholeSaleCostGroupedBySoldDate | node_12 durations: [86.963186, 86.824732, 114.21613, 91.008883, 88.682605, 86.810472, 89.779457, 114.980037, 74.98363, 87.903443, 84.795482, 76.579205, 115.455828, 85.896143, 88.98785, 88.832197, 121.168764, 87.744622, 87.739022, 86.573061, 87.692592, 88.545487, 88.063808, 114.051963, 88.847954]\n",
      "sumWholeSaleCostGroupedBySoldDate | node_13 durations: [86.850129, 86.676159, 114.074831, 90.890525, 88.563084, 86.692704, 89.668107, 114.866328, 74.858432, 87.752932, 84.538176, 76.494328, 115.347795, 85.781733, 88.811472, 88.892956, 121.100159, 87.629206, 87.652572, 86.550571, 87.643057, 88.543639, 88.03871, 113.835036, 88.880819]\n",
      "sumWholeSaleCostGroupedBySoldDate | node_14 durations: [86.642959, 86.636662, 114.012283, 90.875199, 88.533155, 86.489145, 89.630651, 114.731167, 74.692485, 87.744064, 84.455108, 76.423876, 115.248847, 85.542387, 88.666948, 88.687997, 121.081994, 87.46038, 87.608433, 86.337606, 87.437152, 88.379416, 87.905655, 113.841028, 88.68885]\n",
      "sumWholeSaleCostGroupedBySoldDate | node_15 durations: [86.631477, 86.639156, 113.994579, 90.724969, 88.471377, 86.479702, 89.583089, 114.633242, 74.388316, 87.59681, 84.436797, 76.277044, 115.114326, 85.37945, 88.696375, 88.684677, 120.967805, 87.436901, 87.368905, 86.29926, 87.42371, 88.373383, 87.733892, 113.689512, 88.68414]\n",
      "sumWholeSaleCostGroupedBySoldDate | node_16 durations: [86.47687, 86.522806, 113.768572, 90.565331, 88.395599, 86.293209, 89.530488, 114.541941, 74.315198, 87.453228, 84.376091, 76.263584, 115.049371, 85.283076, 88.548881, 88.556019, 120.789632, 87.295783, 87.325206, 86.254163, 87.319594, 88.271102, 87.494607, 113.618501, 88.594876]\n",
      "sumWholeSaleCostGroupedBySoldDate | node_17 durations: [86.497252, 86.342632, 113.69591, 90.544236, 88.214665, 86.191164, 89.471986, 114.518333, 74.351118, 87.430522, 84.170545, 76.076739, 114.980176, 85.275224, 88.526667, 88.373809, 120.731048, 87.282564, 87.297263, 86.047461, 87.114109, 88.071103, 87.46023, 113.567478, 88.52259]\n",
      "sumWholeSaleCostGroupedBySoldDate | node_18 durations: [86.305403, 86.264332, 113.654191, 90.402908, 88.189708, 86.14682, 89.302352, 114.440692, 74.191545, 87.250486, 84.089923, 75.934811, 114.611073, 85.203028, 88.370034, 88.348566, 120.559466, 87.087746, 87.066598, 86.013187, 87.08804, 87.997271, 87.241381, 113.346338, 88.451888]\n",
      "sumWholeSaleCostGroupedBySoldDate | node_19 durations: [86.175967, 86.197689, 113.597937, 90.345533, 88.034639, 86.045477, 89.145191, 114.224106, 74.16131, 87.001017, 84.052827, 75.898796, 114.551221, 84.990454, 88.311041, 88.234127, 120.521515, 86.973233, 87.047455, 85.952696, 87.053973, 87.829778, 87.207974, 113.29536, 88.32095]\n"
     ]
    }
   ],
   "source": [
    "preprocess_selected_function(function_names[24:28], workers_summary)"
   ],
   "metadata": {
    "collapsed": false,
    "pycharm": {
     "name": "#%%\n"
    }
   }
  },
  {
   "cell_type": "code",
   "execution_count": 60,
   "outputs": [
    {
     "data": {
      "text/plain": "4945014"
     },
     "execution_count": 60,
     "metadata": {},
     "output_type": "execute_result"
    }
   ],
   "source": [
    "gc.collect()"
   ],
   "metadata": {
    "collapsed": false,
    "pycharm": {
     "name": "#%%\n"
    }
   }
  },
  {
   "cell_type": "code",
   "execution_count": 61,
   "outputs": [
    {
     "ename": "UnboundLocalError",
     "evalue": "local variable 'base_data' referenced before assignment",
     "output_type": "error",
     "traceback": [
      "\u001B[1;31m---------------------------------------------------------------------------\u001B[0m",
      "\u001B[1;31mUnboundLocalError\u001B[0m                         Traceback (most recent call last)",
      "\u001B[1;32m<ipython-input-61-eca57dc1a8a8>\u001B[0m in \u001B[0;36m<module>\u001B[1;34m\u001B[0m\n\u001B[1;32m----> 1\u001B[1;33m \u001B[0mpreprocess_selected_function\u001B[0m\u001B[1;33m(\u001B[0m\u001B[0mfunction_names\u001B[0m\u001B[1;33m[\u001B[0m\u001B[1;36m28\u001B[0m\u001B[1;33m:\u001B[0m\u001B[1;33m]\u001B[0m\u001B[1;33m,\u001B[0m \u001B[0mworkers_summary\u001B[0m\u001B[1;33m)\u001B[0m\u001B[1;33m\u001B[0m\u001B[1;33m\u001B[0m\u001B[0m\n\u001B[0m\u001B[0;32m      2\u001B[0m \u001B[1;33m\u001B[0m\u001B[0m\n",
      "\u001B[1;32m<ipython-input-45-79cf66691625>\u001B[0m in \u001B[0;36mpreprocess_selected_function\u001B[1;34m(f_names, workers_summary)\u001B[0m\n\u001B[0;32m     57\u001B[0m     \u001B[0mworkers_summary\u001B[0m\u001B[1;33m.\u001B[0m\u001B[0mto_csv\u001B[0m\u001B[1;33m(\u001B[0m\u001B[1;34m\"{0}/experiments_mean_duration.csv\"\u001B[0m\u001B[1;33m.\u001B[0m\u001B[0mformat\u001B[0m\u001B[1;33m(\u001B[0m\u001B[0mmean_dir\u001B[0m\u001B[1;33m)\u001B[0m\u001B[1;33m,\u001B[0m \u001B[0mindex\u001B[0m\u001B[1;33m=\u001B[0m\u001B[1;32mFalse\u001B[0m\u001B[1;33m,\u001B[0m \u001B[0mmode\u001B[0m\u001B[1;33m=\u001B[0m\u001B[1;34m\"a\"\u001B[0m\u001B[1;33m,\u001B[0m \u001B[0mheader\u001B[0m\u001B[1;33m=\u001B[0m\u001B[1;32mFalse\u001B[0m\u001B[1;33m)\u001B[0m\u001B[1;33m\u001B[0m\u001B[1;33m\u001B[0m\u001B[0m\n\u001B[0;32m     58\u001B[0m \u001B[1;33m\u001B[0m\u001B[0m\n\u001B[1;32m---> 59\u001B[1;33m     \u001B[1;32mdel\u001B[0m \u001B[0mbase_data\u001B[0m\u001B[1;33m\u001B[0m\u001B[1;33m\u001B[0m\u001B[0m\n\u001B[0m\u001B[0;32m     60\u001B[0m     \u001B[1;32mdel\u001B[0m \u001B[0mexperiment_interval\u001B[0m\u001B[1;33m\u001B[0m\u001B[1;33m\u001B[0m\u001B[0m\n\u001B[0;32m     61\u001B[0m     \u001B[1;32mdel\u001B[0m \u001B[0mexperiment_duration\u001B[0m\u001B[1;33m\u001B[0m\u001B[1;33m\u001B[0m\u001B[0m\n",
      "\u001B[1;31mUnboundLocalError\u001B[0m: local variable 'base_data' referenced before assignment"
     ]
    }
   ],
   "source": [
    "preprocess_selected_function(function_names[28:], workers_summary)"
   ],
   "metadata": {
    "collapsed": false,
    "pycharm": {
     "name": "#%%\n"
    }
   }
  },
  {
   "cell_type": "code",
   "execution_count": null,
   "outputs": [],
   "source": [
    "gc.collect()"
   ],
   "metadata": {
    "collapsed": false,
    "pycharm": {
     "name": "#%%\n"
    }
   }
  },
  {
   "cell_type": "markdown",
   "source": [
    "### Aggregating data from master node #20"
   ],
   "metadata": {
    "collapsed": false
   }
  },
  {
   "cell_type": "code",
   "execution_count": 62,
   "outputs": [
    {
     "name": "stdout",
     "output_type": "stream",
     "text": [
      "Error: ./../1GB-9N/preprocessed-data - Nie można utworzyć pliku, który już istnieje.\n",
      "Progress:\n",
      "Error: ./../1GB-9N/node_20/avgNetProfitGroupedBySoldDate/plots - System nie może odnaleźć określonej ścieżki.\n",
      "Error: ./../1GB-9N/node_20/avgNetProfitGroupedBySoldDate/plots/CPU - System nie może odnaleźć określonej ścieżki.\n",
      "Error: ./../1GB-9N/node_20/avgNetProfitGroupedBySoldDate/plots/RAM - System nie może odnaleźć określonej ścieżki.\n"
     ]
    },
    {
     "ename": "StatisticsError",
     "evalue": "mean requires at least one data point",
     "output_type": "error",
     "traceback": [
      "\u001B[1;31m---------------------------------------------------------------------------\u001B[0m",
      "\u001B[1;31mStatisticsError\u001B[0m                           Traceback (most recent call last)",
      "\u001B[1;32m<ipython-input-62-15249ef14a1a>\u001B[0m in \u001B[0;36m<module>\u001B[1;34m\u001B[0m\n\u001B[0;32m     33\u001B[0m \u001B[1;33m\u001B[0m\u001B[0m\n\u001B[0;32m     34\u001B[0m     master_mean_summary = master_mean_summary.append({\"function_name\": function[1:],\n\u001B[1;32m---> 35\u001B[1;33m                                                       \u001B[1;34m\"mean_duration\"\u001B[0m\u001B[1;33m:\u001B[0m \u001B[0mround\u001B[0m\u001B[1;33m(\u001B[0m\u001B[0mmean\u001B[0m\u001B[1;33m(\u001B[0m\u001B[0mexperiment_durations\u001B[0m\u001B[1;33m)\u001B[0m\u001B[1;33m,\u001B[0m \u001B[1;36m3\u001B[0m\u001B[1;33m)\u001B[0m\u001B[1;33m,\u001B[0m\u001B[1;33m\u001B[0m\u001B[1;33m\u001B[0m\u001B[0m\n\u001B[0m\u001B[0;32m     36\u001B[0m                                                       \"mean_interval\": round(mean(experiment_intervals), 3)},\n\u001B[0;32m     37\u001B[0m                                                      ignore_index=True)\n",
      "\u001B[1;32m~\\miniconda3\\envs\\data-processing\\lib\\statistics.py\u001B[0m in \u001B[0;36mmean\u001B[1;34m(data)\u001B[0m\n\u001B[0;32m    313\u001B[0m     \u001B[0mn\u001B[0m \u001B[1;33m=\u001B[0m \u001B[0mlen\u001B[0m\u001B[1;33m(\u001B[0m\u001B[0mdata\u001B[0m\u001B[1;33m)\u001B[0m\u001B[1;33m\u001B[0m\u001B[1;33m\u001B[0m\u001B[0m\n\u001B[0;32m    314\u001B[0m     \u001B[1;32mif\u001B[0m \u001B[0mn\u001B[0m \u001B[1;33m<\u001B[0m \u001B[1;36m1\u001B[0m\u001B[1;33m:\u001B[0m\u001B[1;33m\u001B[0m\u001B[1;33m\u001B[0m\u001B[0m\n\u001B[1;32m--> 315\u001B[1;33m         \u001B[1;32mraise\u001B[0m \u001B[0mStatisticsError\u001B[0m\u001B[1;33m(\u001B[0m\u001B[1;34m'mean requires at least one data point'\u001B[0m\u001B[1;33m)\u001B[0m\u001B[1;33m\u001B[0m\u001B[1;33m\u001B[0m\u001B[0m\n\u001B[0m\u001B[0;32m    316\u001B[0m     \u001B[0mT\u001B[0m\u001B[1;33m,\u001B[0m \u001B[0mtotal\u001B[0m\u001B[1;33m,\u001B[0m \u001B[0mcount\u001B[0m \u001B[1;33m=\u001B[0m \u001B[0m_sum\u001B[0m\u001B[1;33m(\u001B[0m\u001B[0mdata\u001B[0m\u001B[1;33m)\u001B[0m\u001B[1;33m\u001B[0m\u001B[1;33m\u001B[0m\u001B[0m\n\u001B[0;32m    317\u001B[0m     \u001B[1;32massert\u001B[0m \u001B[0mcount\u001B[0m \u001B[1;33m==\u001B[0m \u001B[0mn\u001B[0m\u001B[1;33m\u001B[0m\u001B[1;33m\u001B[0m\u001B[0m\n",
      "\u001B[1;31mStatisticsError\u001B[0m: mean requires at least one data point"
     ]
    }
   ],
   "source": [
    "create_directory(f\"./../{working_directory}/preprocessed-data\")\n",
    "\n",
    "master_dir = f\"./../{working_directory}/preprocessed-data/master-mean-data\"\n",
    "create_directory(master_dir)\n",
    "master_mean_summary = pd.DataFrame(columns=[\"function_name\",\n",
    "                                            \"mean_duration\",\n",
    "                                            \"mean_interval\"])\n",
    "\n",
    "print(\"Progress:\")\n",
    "for function in function_names:\n",
    "    files_path = f\"./../{working_directory}/node_20{function}\"\n",
    "    p = Path(files_path)\n",
    "    master_data = pd.DataFrame()\n",
    "\n",
    "    experiment_durations = []\n",
    "    experiment_intervals = []\n",
    "\n",
    "    master_experiment_directory = \"{0}{1}\".format(master_dir, function)\n",
    "    master_plot_directory = \"{0}/plots\".format(files_path)\n",
    "\n",
    "    create_directory(master_experiment_directory)\n",
    "    create_directory(master_plot_directory)\n",
    "    create_directory(\"{0}/CPU\".format(master_plot_directory))\n",
    "    create_directory(\"{0}/RAM\".format(master_plot_directory))\n",
    "\n",
    "    experiment_number = 1\n",
    "    for file in p.glob('*.csv'):\n",
    "        master_new_data, (duration, interval) = preprocess_file(files_path, master_plot_directory, file.name, experiment_number)\n",
    "        master_data = pd.concat((master_data, master_new_data))\n",
    "        experiment_durations.append(duration)\n",
    "        experiment_intervals.append(interval)\n",
    "        experiment_number += 1\n",
    "\n",
    "    master_mean_summary = master_mean_summary.append({\"function_name\": function[1:],\n",
    "                                                      \"mean_duration\": round(mean(experiment_durations), 3),\n",
    "                                                      \"mean_interval\": round(mean(experiment_intervals), 3)},\n",
    "                                                     ignore_index=True)\n",
    "\n",
    "    master_data = master_data.groupby(master_data.index).mean()\n",
    "    master_data.to_csv(\"{0}/mean_data.csv\".format(master_experiment_directory), index=False)\n",
    "\n",
    "    generate_plot(master_data.index, master_data.CPU, \"{0}/mean_CPU.png\".format(master_experiment_directory))\n",
    "    generate_plot(master_data.index, master_data.RAM, \"{0}/mean_RAM.png\".format(master_experiment_directory))\n",
    "\n",
    "    smooth_data(master_data, master_experiment_directory, function[1:])\n",
    "    print(\"- {0} - done\".format(function[1:]))\n",
    "\n",
    "    # Deleting variables\n",
    "    del master_data\n",
    "    del experiment_intervals\n",
    "    del experiment_durations\n",
    "    del master_new_data\n",
    "\n",
    "master_mean_summary.to_csv(\"{0}/experiments_mean_duration.csv\".format(master_dir), index=False)\n",
    "\n",
    "del master_mean_summary\n",
    "gc.collect()"
   ],
   "metadata": {
    "collapsed": false,
    "pycharm": {
     "name": "#%%\n"
    }
   }
  },
  {
   "cell_type": "markdown",
   "source": [
    "### Preprocessing spark internal metrics\n",
    "\n",
    "Stage and task metrics"
   ],
   "metadata": {
    "collapsed": false
   }
  },
  {
   "cell_type": "code",
   "execution_count": 119,
   "outputs": [
    {
     "data": {
      "text/plain": "                                       function_name  stage_id  \\\n0              filterCatalogSalesWhereProfitNegative         0   \n1  filterCatalogSalesWhereProfitNegativeAndYearAf...         0   \n2  filterCatalogSalesWhereProfitNegativeAndYearAf...         1   \n3  filterCatalogSalesWhereProfitNegativeAndYearAf...         2   \n4               filterCatalogSalesWhereYearAfter2000         0   \n5               filterCatalogSalesWhereYearAfter2000         1   \n6               filterCatalogSalesWhereYearAfter2000         2   \n7                  minWholeSaleCostGroupedBySoldDate         0   \n8                  minWholeSaleCostGroupedBySoldDate         1   \n\n         task_types  mean_stage_time  num_tasks  mean_executor_run_time  \\\n0      [ResultTask]      8648.600000          1             5320.680000   \n1  [ShuffleMapTask]      4451.920000          1             1138.280000   \n2  [ShuffleMapTask]      9042.400000          1             5856.400000   \n3      [ResultTask]      4889.160000        200             2714.200000   \n4  [ShuffleMapTask]      5665.640000          1             3988.400000   \n5  [ShuffleMapTask]      4416.720000          1             1827.520000   \n6      [ResultTask]      7334.560000        200             3117.160000   \n7  [ShuffleMapTask]     73356.904762          1            69276.612245   \n8      [ResultTask]       622.564626        200              475.836735   \n\n   mean_result_size  \n0       1474.000000  \n1       2046.320000  \n2       2032.360000  \n3     820732.440000  \n4       1995.800000  \n5       2019.080000  \n6     808346.200000  \n7       2117.789116  \n8          0.000000  ",
      "text/html": "<div>\n<style scoped>\n    .dataframe tbody tr th:only-of-type {\n        vertical-align: middle;\n    }\n\n    .dataframe tbody tr th {\n        vertical-align: top;\n    }\n\n    .dataframe thead th {\n        text-align: right;\n    }\n</style>\n<table border=\"1\" class=\"dataframe\">\n  <thead>\n    <tr style=\"text-align: right;\">\n      <th></th>\n      <th>function_name</th>\n      <th>stage_id</th>\n      <th>task_types</th>\n      <th>mean_stage_time</th>\n      <th>num_tasks</th>\n      <th>mean_executor_run_time</th>\n      <th>mean_result_size</th>\n    </tr>\n  </thead>\n  <tbody>\n    <tr>\n      <th>0</th>\n      <td>filterCatalogSalesWhereProfitNegative</td>\n      <td>0</td>\n      <td>[ResultTask]</td>\n      <td>8648.600000</td>\n      <td>1</td>\n      <td>5320.680000</td>\n      <td>1474.000000</td>\n    </tr>\n    <tr>\n      <th>1</th>\n      <td>filterCatalogSalesWhereProfitNegativeAndYearAf...</td>\n      <td>0</td>\n      <td>[ShuffleMapTask]</td>\n      <td>4451.920000</td>\n      <td>1</td>\n      <td>1138.280000</td>\n      <td>2046.320000</td>\n    </tr>\n    <tr>\n      <th>2</th>\n      <td>filterCatalogSalesWhereProfitNegativeAndYearAf...</td>\n      <td>1</td>\n      <td>[ShuffleMapTask]</td>\n      <td>9042.400000</td>\n      <td>1</td>\n      <td>5856.400000</td>\n      <td>2032.360000</td>\n    </tr>\n    <tr>\n      <th>3</th>\n      <td>filterCatalogSalesWhereProfitNegativeAndYearAf...</td>\n      <td>2</td>\n      <td>[ResultTask]</td>\n      <td>4889.160000</td>\n      <td>200</td>\n      <td>2714.200000</td>\n      <td>820732.440000</td>\n    </tr>\n    <tr>\n      <th>4</th>\n      <td>filterCatalogSalesWhereYearAfter2000</td>\n      <td>0</td>\n      <td>[ShuffleMapTask]</td>\n      <td>5665.640000</td>\n      <td>1</td>\n      <td>3988.400000</td>\n      <td>1995.800000</td>\n    </tr>\n    <tr>\n      <th>5</th>\n      <td>filterCatalogSalesWhereYearAfter2000</td>\n      <td>1</td>\n      <td>[ShuffleMapTask]</td>\n      <td>4416.720000</td>\n      <td>1</td>\n      <td>1827.520000</td>\n      <td>2019.080000</td>\n    </tr>\n    <tr>\n      <th>6</th>\n      <td>filterCatalogSalesWhereYearAfter2000</td>\n      <td>2</td>\n      <td>[ResultTask]</td>\n      <td>7334.560000</td>\n      <td>200</td>\n      <td>3117.160000</td>\n      <td>808346.200000</td>\n    </tr>\n    <tr>\n      <th>7</th>\n      <td>minWholeSaleCostGroupedBySoldDate</td>\n      <td>0</td>\n      <td>[ShuffleMapTask]</td>\n      <td>73356.904762</td>\n      <td>1</td>\n      <td>69276.612245</td>\n      <td>2117.789116</td>\n    </tr>\n    <tr>\n      <th>8</th>\n      <td>minWholeSaleCostGroupedBySoldDate</td>\n      <td>1</td>\n      <td>[ResultTask]</td>\n      <td>622.564626</td>\n      <td>200</td>\n      <td>475.836735</td>\n      <td>0.000000</td>\n    </tr>\n  </tbody>\n</table>\n</div>"
     },
     "execution_count": 119,
     "metadata": {},
     "output_type": "execute_result"
    }
   ],
   "source": [
    "stage_metrics_all = pd.read_csv(f\"./../{working_directory}/stage_metrics.csv\")\n",
    "task_metrics_all = pd.read_csv(f\"./../{working_directory}/task_metrics.csv\")\n",
    "\n",
    "stage_metrics = stage_metrics_all[[\"function_name\", \"stage_id\", \"num_tasks\", \"executor_run_time\", \"result_size\"]].copy()\n",
    "stage_metrics[\"stage_time\"]= stage_metrics_all[\"completion_time\"] - stage_metrics_all[\"submission_time\"]\n",
    "stage_metrics = stage_metrics.groupby([\"function_name\", \"stage_id\"]).agg({\n",
    "    \"stage_time\": \"mean\",\n",
    "    \"num_tasks\": \"max\",\n",
    "    \"executor_run_time\": \"mean\",\n",
    "    \"result_size\": \"mean\"\n",
    "})\n",
    "\n",
    "task_metrics = task_metrics_all[[\"function_name\", \"stage_id\", \"task_type\"]]\n",
    "task_metrics = task_metrics.groupby([\"function_name\", \"stage_id\"]).agg({\"task_type\": \"unique\"})\n",
    "\n",
    "spark_metrics = task_metrics.join(stage_metrics).reset_index().rename(columns={\n",
    "    \"stage_time\": \"mean_stage_time\",\n",
    "    \"task_type\": \"task_types\",\n",
    "    \"executor_run_time\": \"mean_executor_run_time\",\n",
    "    \"result_size\": \"mean_result_size\"\n",
    "})\n",
    "\n",
    "spark_metrics.to_csv(f\"./../{working_directory}/preprocessed-data/spark_metrics.csv\", index=False)\n",
    "spark_metrics"
   ],
   "metadata": {
    "collapsed": false,
    "pycharm": {
     "name": "#%%\n"
    }
   }
  },
  {
   "cell_type": "markdown",
   "source": [
    "### Clear preprocessed data"
   ],
   "metadata": {
    "collapsed": false
   }
  },
  {
   "cell_type": "code",
   "execution_count": 42,
   "outputs": [
    {
     "name": "stdout",
     "output_type": "stream",
     "text": [
      "Error: ./../experiments_data/node_20/avgNetProfitGroupedBySoldDate/plots - System nie może odnaleźć określonej ścieżki.\n",
      "Error: ./../experiments_data/node_20/avgNetProfitGroupedBySoldDateWhereProfitNegative/plots - System nie może odnaleźć określonej ścieżki.\n",
      "Error: ./../experiments_data/node_11/avgWholeSaleCostGroupedBySoldDate/plots - System nie może odnaleźć określonej ścieżki.\n",
      "Error: ./../experiments_data/node_12/avgWholeSaleCostGroupedBySoldDate/plots - System nie może odnaleźć określonej ścieżki.\n",
      "Error: ./../experiments_data/node_13/avgWholeSaleCostGroupedBySoldDate/plots - System nie może odnaleźć określonej ścieżki.\n",
      "Error: ./../experiments_data/node_14/avgWholeSaleCostGroupedBySoldDate/plots - System nie może odnaleźć określonej ścieżki.\n",
      "Error: ./../experiments_data/node_15/avgWholeSaleCostGroupedBySoldDate/plots - System nie może odnaleźć określonej ścieżki.\n",
      "Error: ./../experiments_data/node_16/avgWholeSaleCostGroupedBySoldDate/plots - System nie może odnaleźć określonej ścieżki.\n",
      "Error: ./../experiments_data/node_17/avgWholeSaleCostGroupedBySoldDate/plots - System nie może odnaleźć określonej ścieżki.\n",
      "Error: ./../experiments_data/node_18/avgWholeSaleCostGroupedBySoldDate/plots - System nie może odnaleźć określonej ścieżki.\n",
      "Error: ./../experiments_data/node_19/avgWholeSaleCostGroupedBySoldDate/plots - System nie może odnaleźć określonej ścieżki.\n",
      "Error: ./../experiments_data/node_20/avgWholeSaleCostGroupedBySoldDate/plots - System nie może odnaleźć określonej ścieżki.\n",
      "Error: ./../experiments_data/node_11/countDistinctTicketNumber/plots - System nie może odnaleźć określonej ścieżki.\n",
      "Error: ./../experiments_data/node_12/countDistinctTicketNumber/plots - System nie może odnaleźć określonej ścieżki.\n",
      "Error: ./../experiments_data/node_13/countDistinctTicketNumber/plots - System nie może odnaleźć określonej ścieżki.\n",
      "Error: ./../experiments_data/node_14/countDistinctTicketNumber/plots - System nie może odnaleźć określonej ścieżki.\n",
      "Error: ./../experiments_data/node_15/countDistinctTicketNumber/plots - System nie może odnaleźć określonej ścieżki.\n",
      "Error: ./../experiments_data/node_16/countDistinctTicketNumber/plots - System nie może odnaleźć określonej ścieżki.\n",
      "Error: ./../experiments_data/node_17/countDistinctTicketNumber/plots - System nie może odnaleźć określonej ścieżki.\n",
      "Error: ./../experiments_data/node_18/countDistinctTicketNumber/plots - System nie może odnaleźć określonej ścieżki.\n",
      "Error: ./../experiments_data/node_19/countDistinctTicketNumber/plots - System nie może odnaleźć określonej ścieżki.\n",
      "Error: ./../experiments_data/node_20/countDistinctTicketNumber/plots - System nie może odnaleźć określonej ścieżki.\n",
      "Error: ./../experiments_data/node_20/countNetProfitGroupedBySoldDate/plots - System nie może odnaleźć określonej ścieżki.\n",
      "Error: ./../experiments_data/node_20/countNetProfitGroupedBySoldDateWhereProfitNegative/plots - System nie może odnaleźć określonej ścieżki.\n",
      "Error: ./../experiments_data/node_20/countWholeSaleCostGroupedBySoldDate/plots - System nie może odnaleźć określonej ścieżki.\n",
      "Error: ./../experiments_data/node_20/filterCatalogSalesWhereProfitNegative/plots - System nie może odnaleźć określonej ścieżki.\n",
      "Error: ./../experiments_data/node_11/filterCatalogSalesWhereProfitNegativeAndYearAfter2000/plots - System nie może odnaleźć określonej ścieżki.\n",
      "Error: ./../experiments_data/node_12/filterCatalogSalesWhereProfitNegativeAndYearAfter2000/plots - System nie może odnaleźć określonej ścieżki.\n",
      "Error: ./../experiments_data/node_13/filterCatalogSalesWhereProfitNegativeAndYearAfter2000/plots - System nie może odnaleźć określonej ścieżki.\n",
      "Error: ./../experiments_data/node_14/filterCatalogSalesWhereProfitNegativeAndYearAfter2000/plots - System nie może odnaleźć określonej ścieżki.\n",
      "Error: ./../experiments_data/node_15/filterCatalogSalesWhereProfitNegativeAndYearAfter2000/plots - System nie może odnaleźć określonej ścieżki.\n",
      "Error: ./../experiments_data/node_16/filterCatalogSalesWhereProfitNegativeAndYearAfter2000/plots - System nie może odnaleźć określonej ścieżki.\n",
      "Error: ./../experiments_data/node_17/filterCatalogSalesWhereProfitNegativeAndYearAfter2000/plots - System nie może odnaleźć określonej ścieżki.\n",
      "Error: ./../experiments_data/node_18/filterCatalogSalesWhereProfitNegativeAndYearAfter2000/plots - System nie może odnaleźć określonej ścieżki.\n",
      "Error: ./../experiments_data/node_19/filterCatalogSalesWhereProfitNegativeAndYearAfter2000/plots - System nie może odnaleźć określonej ścieżki.\n",
      "Error: ./../experiments_data/node_20/filterCatalogSalesWhereProfitNegativeAndYearAfter2000/plots - System nie może odnaleźć określonej ścieżki.\n",
      "Error: ./../experiments_data/node_11/filterCatalogSalesWhereYearAfter2000/plots - System nie może odnaleźć określonej ścieżki.\n",
      "Error: ./../experiments_data/node_12/filterCatalogSalesWhereYearAfter2000/plots - System nie może odnaleźć określonej ścieżki.\n",
      "Error: ./../experiments_data/node_13/filterCatalogSalesWhereYearAfter2000/plots - System nie może odnaleźć określonej ścieżki.\n",
      "Error: ./../experiments_data/node_14/filterCatalogSalesWhereYearAfter2000/plots - System nie może odnaleźć określonej ścieżki.\n",
      "Error: ./../experiments_data/node_15/filterCatalogSalesWhereYearAfter2000/plots - System nie może odnaleźć określonej ścieżki.\n",
      "Error: ./../experiments_data/node_16/filterCatalogSalesWhereYearAfter2000/plots - System nie może odnaleźć określonej ścieżki.\n",
      "Error: ./../experiments_data/node_17/filterCatalogSalesWhereYearAfter2000/plots - System nie może odnaleźć określonej ścieżki.\n",
      "Error: ./../experiments_data/node_18/filterCatalogSalesWhereYearAfter2000/plots - System nie może odnaleźć określonej ścieżki.\n",
      "Error: ./../experiments_data/node_19/filterCatalogSalesWhereYearAfter2000/plots - System nie może odnaleźć określonej ścieżki.\n",
      "Error: ./../experiments_data/node_20/filterCatalogSalesWhereYearAfter2000/plots - System nie może odnaleźć określonej ścieżki.\n",
      "Error: ./../experiments_data/node_11/filterStoreSalesWhereProfitNegative/plots - System nie może odnaleźć określonej ścieżki.\n",
      "Error: ./../experiments_data/node_12/filterStoreSalesWhereProfitNegative/plots - System nie może odnaleźć określonej ścieżki.\n",
      "Error: ./../experiments_data/node_13/filterStoreSalesWhereProfitNegative/plots - System nie może odnaleźć określonej ścieżki.\n",
      "Error: ./../experiments_data/node_14/filterStoreSalesWhereProfitNegative/plots - System nie może odnaleźć określonej ścieżki.\n",
      "Error: ./../experiments_data/node_15/filterStoreSalesWhereProfitNegative/plots - System nie może odnaleźć określonej ścieżki.\n",
      "Error: ./../experiments_data/node_16/filterStoreSalesWhereProfitNegative/plots - System nie może odnaleźć określonej ścieżki.\n",
      "Error: ./../experiments_data/node_17/filterStoreSalesWhereProfitNegative/plots - System nie może odnaleźć określonej ścieżki.\n",
      "Error: ./../experiments_data/node_18/filterStoreSalesWhereProfitNegative/plots - System nie może odnaleźć określonej ścieżki.\n",
      "Error: ./../experiments_data/node_19/filterStoreSalesWhereProfitNegative/plots - System nie może odnaleźć określonej ścieżki.\n",
      "Error: ./../experiments_data/node_20/filterStoreSalesWhereProfitNegative/plots - System nie może odnaleźć określonej ścieżki.\n",
      "Error: ./../experiments_data/node_11/filterStoreSalesWhereProfitNegativeAndYearAfter2000/plots - System nie może odnaleźć określonej ścieżki.\n",
      "Error: ./../experiments_data/node_12/filterStoreSalesWhereProfitNegativeAndYearAfter2000/plots - System nie może odnaleźć określonej ścieżki.\n",
      "Error: ./../experiments_data/node_13/filterStoreSalesWhereProfitNegativeAndYearAfter2000/plots - System nie może odnaleźć określonej ścieżki.\n",
      "Error: ./../experiments_data/node_14/filterStoreSalesWhereProfitNegativeAndYearAfter2000/plots - System nie może odnaleźć określonej ścieżki.\n",
      "Error: ./../experiments_data/node_15/filterStoreSalesWhereProfitNegativeAndYearAfter2000/plots - System nie może odnaleźć określonej ścieżki.\n",
      "Error: ./../experiments_data/node_16/filterStoreSalesWhereProfitNegativeAndYearAfter2000/plots - System nie może odnaleźć określonej ścieżki.\n",
      "Error: ./../experiments_data/node_17/filterStoreSalesWhereProfitNegativeAndYearAfter2000/plots - System nie może odnaleźć określonej ścieżki.\n",
      "Error: ./../experiments_data/node_18/filterStoreSalesWhereProfitNegativeAndYearAfter2000/plots - System nie może odnaleźć określonej ścieżki.\n",
      "Error: ./../experiments_data/node_19/filterStoreSalesWhereProfitNegativeAndYearAfter2000/plots - System nie może odnaleźć określonej ścieżki.\n",
      "Error: ./../experiments_data/node_20/filterStoreSalesWhereProfitNegativeAndYearAfter2000/plots - System nie może odnaleźć określonej ścieżki.\n",
      "Error: ./../experiments_data/node_11/filterStoreSalesWhereYearAfter2000/plots - System nie może odnaleźć określonej ścieżki.\n",
      "Error: ./../experiments_data/node_12/filterStoreSalesWhereYearAfter2000/plots - System nie może odnaleźć określonej ścieżki.\n",
      "Error: ./../experiments_data/node_13/filterStoreSalesWhereYearAfter2000/plots - System nie może odnaleźć określonej ścieżki.\n",
      "Error: ./../experiments_data/node_14/filterStoreSalesWhereYearAfter2000/plots - System nie może odnaleźć określonej ścieżki.\n",
      "Error: ./../experiments_data/node_15/filterStoreSalesWhereYearAfter2000/plots - System nie może odnaleźć określonej ścieżki.\n",
      "Error: ./../experiments_data/node_16/filterStoreSalesWhereYearAfter2000/plots - System nie może odnaleźć określonej ścieżki.\n",
      "Error: ./../experiments_data/node_17/filterStoreSalesWhereYearAfter2000/plots - System nie może odnaleźć określonej ścieżki.\n",
      "Error: ./../experiments_data/node_18/filterStoreSalesWhereYearAfter2000/plots - System nie może odnaleźć określonej ścieżki.\n",
      "Error: ./../experiments_data/node_19/filterStoreSalesWhereYearAfter2000/plots - System nie może odnaleźć określonej ścieżki.\n",
      "Error: ./../experiments_data/node_20/filterStoreSalesWhereYearAfter2000/plots - System nie może odnaleźć określonej ścieżki.\n",
      "Error: ./../experiments_data/node_11/maxNetProfitGroupedBySoldDate/plots - System nie może odnaleźć określonej ścieżki.\n",
      "Error: ./../experiments_data/node_12/maxNetProfitGroupedBySoldDate/plots - System nie może odnaleźć określonej ścieżki.\n",
      "Error: ./../experiments_data/node_13/maxNetProfitGroupedBySoldDate/plots - System nie może odnaleźć określonej ścieżki.\n",
      "Error: ./../experiments_data/node_14/maxNetProfitGroupedBySoldDate/plots - System nie może odnaleźć określonej ścieżki.\n",
      "Error: ./../experiments_data/node_15/maxNetProfitGroupedBySoldDate/plots - System nie może odnaleźć określonej ścieżki.\n",
      "Error: ./../experiments_data/node_16/maxNetProfitGroupedBySoldDate/plots - System nie może odnaleźć określonej ścieżki.\n",
      "Error: ./../experiments_data/node_17/maxNetProfitGroupedBySoldDate/plots - System nie może odnaleźć określonej ścieżki.\n",
      "Error: ./../experiments_data/node_18/maxNetProfitGroupedBySoldDate/plots - System nie może odnaleźć określonej ścieżki.\n",
      "Error: ./../experiments_data/node_19/maxNetProfitGroupedBySoldDate/plots - System nie może odnaleźć określonej ścieżki.\n",
      "Error: ./../experiments_data/node_20/maxNetProfitGroupedBySoldDate/plots - System nie może odnaleźć określonej ścieżki.\n",
      "Error: ./../experiments_data/node_11/maxNetProfitGroupedBySoldDateWhereProfitNegative/plots - System nie może odnaleźć określonej ścieżki.\n",
      "Error: ./../experiments_data/node_12/maxNetProfitGroupedBySoldDateWhereProfitNegative/plots - System nie może odnaleźć określonej ścieżki.\n",
      "Error: ./../experiments_data/node_13/maxNetProfitGroupedBySoldDateWhereProfitNegative/plots - System nie może odnaleźć określonej ścieżki.\n",
      "Error: ./../experiments_data/node_14/maxNetProfitGroupedBySoldDateWhereProfitNegative/plots - System nie może odnaleźć określonej ścieżki.\n",
      "Error: ./../experiments_data/node_15/maxNetProfitGroupedBySoldDateWhereProfitNegative/plots - System nie może odnaleźć określonej ścieżki.\n",
      "Error: ./../experiments_data/node_16/maxNetProfitGroupedBySoldDateWhereProfitNegative/plots - System nie może odnaleźć określonej ścieżki.\n",
      "Error: ./../experiments_data/node_17/maxNetProfitGroupedBySoldDateWhereProfitNegative/plots - System nie może odnaleźć określonej ścieżki.\n",
      "Error: ./../experiments_data/node_18/maxNetProfitGroupedBySoldDateWhereProfitNegative/plots - System nie może odnaleźć określonej ścieżki.\n",
      "Error: ./../experiments_data/node_19/maxNetProfitGroupedBySoldDateWhereProfitNegative/plots - System nie może odnaleźć określonej ścieżki.\n",
      "Error: ./../experiments_data/node_20/maxNetProfitGroupedBySoldDateWhereProfitNegative/plots - System nie może odnaleźć określonej ścieżki.\n",
      "Error: ./../experiments_data/node_11/maxWholeSaleCostGroupedBySoldDate/plots - System nie może odnaleźć określonej ścieżki.\n",
      "Error: ./../experiments_data/node_12/maxWholeSaleCostGroupedBySoldDate/plots - System nie może odnaleźć określonej ścieżki.\n",
      "Error: ./../experiments_data/node_13/maxWholeSaleCostGroupedBySoldDate/plots - System nie może odnaleźć określonej ścieżki.\n",
      "Error: ./../experiments_data/node_14/maxWholeSaleCostGroupedBySoldDate/plots - System nie może odnaleźć określonej ścieżki.\n",
      "Error: ./../experiments_data/node_15/maxWholeSaleCostGroupedBySoldDate/plots - System nie może odnaleźć określonej ścieżki.\n",
      "Error: ./../experiments_data/node_16/maxWholeSaleCostGroupedBySoldDate/plots - System nie może odnaleźć określonej ścieżki.\n",
      "Error: ./../experiments_data/node_17/maxWholeSaleCostGroupedBySoldDate/plots - System nie może odnaleźć określonej ścieżki.\n",
      "Error: ./../experiments_data/node_18/maxWholeSaleCostGroupedBySoldDate/plots - System nie może odnaleźć określonej ścieżki.\n",
      "Error: ./../experiments_data/node_19/maxWholeSaleCostGroupedBySoldDate/plots - System nie może odnaleźć określonej ścieżki.\n",
      "Error: ./../experiments_data/node_20/maxWholeSaleCostGroupedBySoldDate/plots - System nie może odnaleźć określonej ścieżki.\n",
      "Error: ./../experiments_data/node_11/minNetProfitGroupedBySoldDate/plots - System nie może odnaleźć określonej ścieżki.\n",
      "Error: ./../experiments_data/node_12/minNetProfitGroupedBySoldDate/plots - System nie może odnaleźć określonej ścieżki.\n",
      "Error: ./../experiments_data/node_13/minNetProfitGroupedBySoldDate/plots - System nie może odnaleźć określonej ścieżki.\n",
      "Error: ./../experiments_data/node_14/minNetProfitGroupedBySoldDate/plots - System nie może odnaleźć określonej ścieżki.\n",
      "Error: ./../experiments_data/node_15/minNetProfitGroupedBySoldDate/plots - System nie może odnaleźć określonej ścieżki.\n",
      "Error: ./../experiments_data/node_16/minNetProfitGroupedBySoldDate/plots - System nie może odnaleźć określonej ścieżki.\n",
      "Error: ./../experiments_data/node_17/minNetProfitGroupedBySoldDate/plots - System nie może odnaleźć określonej ścieżki.\n",
      "Error: ./../experiments_data/node_18/minNetProfitGroupedBySoldDate/plots - System nie może odnaleźć określonej ścieżki.\n",
      "Error: ./../experiments_data/node_19/minNetProfitGroupedBySoldDate/plots - System nie może odnaleźć określonej ścieżki.\n",
      "Error: ./../experiments_data/node_20/minNetProfitGroupedBySoldDate/plots - System nie może odnaleźć określonej ścieżki.\n",
      "Error: ./../experiments_data/node_11/minNetProfitGroupedBySoldDateWhereProfitNegative/plots - System nie może odnaleźć określonej ścieżki.\n",
      "Error: ./../experiments_data/node_12/minNetProfitGroupedBySoldDateWhereProfitNegative/plots - System nie może odnaleźć określonej ścieżki.\n",
      "Error: ./../experiments_data/node_13/minNetProfitGroupedBySoldDateWhereProfitNegative/plots - System nie może odnaleźć określonej ścieżki.\n",
      "Error: ./../experiments_data/node_14/minNetProfitGroupedBySoldDateWhereProfitNegative/plots - System nie może odnaleźć określonej ścieżki.\n",
      "Error: ./../experiments_data/node_15/minNetProfitGroupedBySoldDateWhereProfitNegative/plots - System nie może odnaleźć określonej ścieżki.\n",
      "Error: ./../experiments_data/node_16/minNetProfitGroupedBySoldDateWhereProfitNegative/plots - System nie może odnaleźć określonej ścieżki.\n",
      "Error: ./../experiments_data/node_17/minNetProfitGroupedBySoldDateWhereProfitNegative/plots - System nie może odnaleźć określonej ścieżki.\n",
      "Error: ./../experiments_data/node_18/minNetProfitGroupedBySoldDateWhereProfitNegative/plots - System nie może odnaleźć określonej ścieżki.\n",
      "Error: ./../experiments_data/node_19/minNetProfitGroupedBySoldDateWhereProfitNegative/plots - System nie może odnaleźć określonej ścieżki.\n",
      "Error: ./../experiments_data/node_20/minNetProfitGroupedBySoldDateWhereProfitNegative/plots - System nie może odnaleźć określonej ścieżki.\n",
      "Error: ./../experiments_data/node_11/minWholeSaleCostGroupedBySoldDate/plots - System nie może odnaleźć określonej ścieżki.\n",
      "Error: ./../experiments_data/node_12/minWholeSaleCostGroupedBySoldDate/plots - System nie może odnaleźć określonej ścieżki.\n",
      "Error: ./../experiments_data/node_13/minWholeSaleCostGroupedBySoldDate/plots - System nie może odnaleźć określonej ścieżki.\n",
      "Error: ./../experiments_data/node_14/minWholeSaleCostGroupedBySoldDate/plots - System nie może odnaleźć określonej ścieżki.\n",
      "Error: ./../experiments_data/node_15/minWholeSaleCostGroupedBySoldDate/plots - System nie może odnaleźć określonej ścieżki.\n",
      "Error: ./../experiments_data/node_16/minWholeSaleCostGroupedBySoldDate/plots - System nie może odnaleźć określonej ścieżki.\n",
      "Error: ./../experiments_data/node_17/minWholeSaleCostGroupedBySoldDate/plots - System nie może odnaleźć określonej ścieżki.\n",
      "Error: ./../experiments_data/node_18/minWholeSaleCostGroupedBySoldDate/plots - System nie może odnaleźć określonej ścieżki.\n",
      "Error: ./../experiments_data/node_19/minWholeSaleCostGroupedBySoldDate/plots - System nie może odnaleźć określonej ścieżki.\n",
      "Error: ./../experiments_data/node_20/minWholeSaleCostGroupedBySoldDate/plots - System nie może odnaleźć określonej ścieżki.\n",
      "Error: ./../experiments_data/node_11/summaryNetProfitGroupedBySoldDate/plots - System nie może odnaleźć określonej ścieżki.\n",
      "Error: ./../experiments_data/node_12/summaryNetProfitGroupedBySoldDate/plots - System nie może odnaleźć określonej ścieżki.\n",
      "Error: ./../experiments_data/node_13/summaryNetProfitGroupedBySoldDate/plots - System nie może odnaleźć określonej ścieżki.\n",
      "Error: ./../experiments_data/node_14/summaryNetProfitGroupedBySoldDate/plots - System nie może odnaleźć określonej ścieżki.\n",
      "Error: ./../experiments_data/node_15/summaryNetProfitGroupedBySoldDate/plots - System nie może odnaleźć określonej ścieżki.\n",
      "Error: ./../experiments_data/node_16/summaryNetProfitGroupedBySoldDate/plots - System nie może odnaleźć określonej ścieżki.\n",
      "Error: ./../experiments_data/node_17/summaryNetProfitGroupedBySoldDate/plots - System nie może odnaleźć określonej ścieżki.\n",
      "Error: ./../experiments_data/node_18/summaryNetProfitGroupedBySoldDate/plots - System nie może odnaleźć określonej ścieżki.\n",
      "Error: ./../experiments_data/node_19/summaryNetProfitGroupedBySoldDate/plots - System nie może odnaleźć określonej ścieżki.\n",
      "Error: ./../experiments_data/node_20/summaryNetProfitGroupedBySoldDate/plots - System nie może odnaleźć określonej ścieżki.\n",
      "Error: ./../experiments_data/node_11/summaryWholeSaleCostGroupedBySoldDate/plots - System nie może odnaleźć określonej ścieżki.\n",
      "Error: ./../experiments_data/node_12/summaryWholeSaleCostGroupedBySoldDate/plots - System nie może odnaleźć określonej ścieżki.\n",
      "Error: ./../experiments_data/node_13/summaryWholeSaleCostGroupedBySoldDate/plots - System nie może odnaleźć określonej ścieżki.\n",
      "Error: ./../experiments_data/node_14/summaryWholeSaleCostGroupedBySoldDate/plots - System nie może odnaleźć określonej ścieżki.\n",
      "Error: ./../experiments_data/node_15/summaryWholeSaleCostGroupedBySoldDate/plots - System nie może odnaleźć określonej ścieżki.\n",
      "Error: ./../experiments_data/node_16/summaryWholeSaleCostGroupedBySoldDate/plots - System nie może odnaleźć określonej ścieżki.\n",
      "Error: ./../experiments_data/node_17/summaryWholeSaleCostGroupedBySoldDate/plots - System nie może odnaleźć określonej ścieżki.\n",
      "Error: ./../experiments_data/node_18/summaryWholeSaleCostGroupedBySoldDate/plots - System nie może odnaleźć określonej ścieżki.\n",
      "Error: ./../experiments_data/node_19/summaryWholeSaleCostGroupedBySoldDate/plots - System nie może odnaleźć określonej ścieżki.\n",
      "Error: ./../experiments_data/node_20/summaryWholeSaleCostGroupedBySoldDate/plots - System nie może odnaleźć określonej ścieżki.\n",
      "Error: ./../experiments_data/node_11/sumNetProfitGroupedBySoldDate/plots - System nie może odnaleźć określonej ścieżki.\n",
      "Error: ./../experiments_data/node_12/sumNetProfitGroupedBySoldDate/plots - System nie może odnaleźć określonej ścieżki.\n",
      "Error: ./../experiments_data/node_13/sumNetProfitGroupedBySoldDate/plots - System nie może odnaleźć określonej ścieżki.\n",
      "Error: ./../experiments_data/node_14/sumNetProfitGroupedBySoldDate/plots - System nie może odnaleźć określonej ścieżki.\n",
      "Error: ./../experiments_data/node_15/sumNetProfitGroupedBySoldDate/plots - System nie może odnaleźć określonej ścieżki.\n",
      "Error: ./../experiments_data/node_16/sumNetProfitGroupedBySoldDate/plots - System nie może odnaleźć określonej ścieżki.\n",
      "Error: ./../experiments_data/node_17/sumNetProfitGroupedBySoldDate/plots - System nie może odnaleźć określonej ścieżki.\n",
      "Error: ./../experiments_data/node_18/sumNetProfitGroupedBySoldDate/plots - System nie może odnaleźć określonej ścieżki.\n",
      "Error: ./../experiments_data/node_19/sumNetProfitGroupedBySoldDate/plots - System nie może odnaleźć określonej ścieżki.\n",
      "Error: ./../experiments_data/node_20/sumNetProfitGroupedBySoldDate/plots - System nie może odnaleźć określonej ścieżki.\n",
      "Error: ./../experiments_data/node_11/sumNetProfitGroupedBySoldDateWhereProfitNegative/plots - System nie może odnaleźć określonej ścieżki.\n",
      "Error: ./../experiments_data/node_12/sumNetProfitGroupedBySoldDateWhereProfitNegative/plots - System nie może odnaleźć określonej ścieżki.\n",
      "Error: ./../experiments_data/node_13/sumNetProfitGroupedBySoldDateWhereProfitNegative/plots - System nie może odnaleźć określonej ścieżki.\n",
      "Error: ./../experiments_data/node_14/sumNetProfitGroupedBySoldDateWhereProfitNegative/plots - System nie może odnaleźć określonej ścieżki.\n",
      "Error: ./../experiments_data/node_15/sumNetProfitGroupedBySoldDateWhereProfitNegative/plots - System nie może odnaleźć określonej ścieżki.\n",
      "Error: ./../experiments_data/node_16/sumNetProfitGroupedBySoldDateWhereProfitNegative/plots - System nie może odnaleźć określonej ścieżki.\n",
      "Error: ./../experiments_data/node_17/sumNetProfitGroupedBySoldDateWhereProfitNegative/plots - System nie może odnaleźć określonej ścieżki.\n",
      "Error: ./../experiments_data/node_18/sumNetProfitGroupedBySoldDateWhereProfitNegative/plots - System nie może odnaleźć określonej ścieżki.\n",
      "Error: ./../experiments_data/node_19/sumNetProfitGroupedBySoldDateWhereProfitNegative/plots - System nie może odnaleźć określonej ścieżki.\n",
      "Error: ./../experiments_data/node_20/sumNetProfitGroupedBySoldDateWhereProfitNegative/plots - System nie może odnaleźć określonej ścieżki.\n",
      "Error: ./../experiments_data/node_11/sumWholeSaleCostGroupedBySoldDate/plots - System nie może odnaleźć określonej ścieżki.\n",
      "Error: ./../experiments_data/node_12/sumWholeSaleCostGroupedBySoldDate/plots - System nie może odnaleźć określonej ścieżki.\n",
      "Error: ./../experiments_data/node_13/sumWholeSaleCostGroupedBySoldDate/plots - System nie może odnaleźć określonej ścieżki.\n",
      "Error: ./../experiments_data/node_14/sumWholeSaleCostGroupedBySoldDate/plots - System nie może odnaleźć określonej ścieżki.\n",
      "Error: ./../experiments_data/node_15/sumWholeSaleCostGroupedBySoldDate/plots - System nie może odnaleźć określonej ścieżki.\n",
      "Error: ./../experiments_data/node_16/sumWholeSaleCostGroupedBySoldDate/plots - System nie może odnaleźć określonej ścieżki.\n",
      "Error: ./../experiments_data/node_17/sumWholeSaleCostGroupedBySoldDate/plots - System nie może odnaleźć określonej ścieżki.\n",
      "Error: ./../experiments_data/node_18/sumWholeSaleCostGroupedBySoldDate/plots - System nie może odnaleźć określonej ścieżki.\n",
      "Error: ./../experiments_data/node_19/sumWholeSaleCostGroupedBySoldDate/plots - System nie może odnaleźć określonej ścieżki.\n",
      "Error: ./../experiments_data/node_20/sumWholeSaleCostGroupedBySoldDate/plots - System nie może odnaleźć określonej ścieżki.\n"
     ]
    }
   ],
   "source": [
    "for function_name in function_names:\n",
    "    for node_dir in nodes_directories:\n",
    "        try:\n",
    "            shutil.rmtree(f\"./../{working_directory}{node_dir}{function_name}/plots\")\n",
    "        except OSError as e:\n",
    "            print(\"Error: %s - %s.\" % (e.filename, e.strerror))\n",
    "\n",
    "try:\n",
    "    shutil.rmtree(f\"./../{working_directory}/preprocessed-data\")\n",
    "except OSError as e:\n",
    "    print(\"Error: %s - %s.\" % (e.filename, e.strerror))\n"
   ],
   "metadata": {
    "collapsed": false,
    "pycharm": {
     "name": "#%%\n"
    }
   }
  },
  {
   "cell_type": "markdown",
   "source": [
    "Clear smoothed data"
   ],
   "metadata": {
    "collapsed": false,
    "pycharm": {
     "name": "#%% md\n"
    }
   }
  },
  {
   "cell_type": "code",
   "execution_count": 32,
   "outputs": [],
   "source": [
    "for function_name in function_names:\n",
    "    try:\n",
    "        os.remove(f'./../experiments_data/preprocessed-data/workers-mean-data{function_name}/smooth_mean_CPU.png')\n",
    "        os.remove(f'./../experiments_data/preprocessed-data/workers-mean-data{function_name}/smooth_mean_data.csv')\n",
    "        os.remove(f'./../experiments_data/preprocessed-data/workers-mean-data{function_name}/smooth_mean_RAM.png')\n",
    "    except OSError as e:\n",
    "        print(\"Error: %s - %s.\" % (e.filename, e.strerror))"
   ],
   "metadata": {
    "collapsed": false,
    "pycharm": {
     "name": "#%%\n"
    }
   }
  }
 ]
}