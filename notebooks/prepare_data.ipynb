{
 "nbformat": 4,
 "nbformat_minor": 0,
 "metadata": {
  "colab": {
   "name": "prepare_data.ipynb",
   "provenance": []
  },
  "kernelspec": {
   "name": "pycharm-afd99e2c",
   "language": "python",
   "display_name": "PyCharm (opening-black-box)"
  },
  "language_info": {
   "name": "python"
  }
 },
 "cells": [
  {
   "cell_type": "code",
   "metadata": {
    "id": "FQnQig-Tqwrs"
   },
   "source": [
    "import pandas as pd   \n",
    "import matplotlib.pyplot as plt\n",
    "import matplotlib.colors as colors\n",
    "import os\n",
    "import shutil\n",
    "import gc\n",
    "from pathlib import Path\n",
    "from tsmoothie.smoother import *\n",
    "from statistics import mean\n"
   ],
   "execution_count": 1,
   "outputs": []
  },
  {
   "cell_type": "markdown",
   "source": [
    "# Notebook for preprocessing data from experiments\n",
    "\n",
    "Defined functions:"
   ],
   "metadata": {
    "collapsed": false,
    "pycharm": {
     "name": "#%% md\n"
    }
   }
  },
  {
   "cell_type": "code",
   "execution_count": 2,
   "outputs": [],
   "source": [
    "def get_subdirectories(directory=\"\"):\n",
    "    subdirectories = []\n",
    "    p = Path(\"./../experiments_data/\" + directory)\n",
    "    for item in p.glob('*/'):\n",
    "        if item.suffix not in (['.csv', '.zip']):\n",
    "            subdirectories.append(directory + \"/\" + item.name)\n",
    "    return subdirectories\n",
    "\n",
    "def get_timestamp_info(data):\n",
    "    data['timestamp'] = pd.to_datetime(data['timestamp'])\n",
    "    start_time = data['timestamp'].min()\n",
    "    stop_time = data['timestamp'].max()\n",
    "\n",
    "    data['timestamp'] = pd.to_numeric(data['timestamp'])\n",
    "    mean_interval = mean(data.diff(axis=0)['timestamp'][1:].tolist())\n",
    "    mean_interval = round(mean_interval / 1000000000, 3)\n",
    "\n",
    "    return (stop_time - start_time).total_seconds(), mean_interval\n",
    "\n",
    "def preprocess_file(file_path, save_path, filename, iteration):\n",
    "    read_data = pd.read_csv(file_path + \"/\" + filename)\n",
    "    agg_read_data = read_data.\\\n",
    "        groupby('timestamp', as_index=False).\\\n",
    "        agg({\"CPU\": \"sum\", \"RAM\": \"sum\"})\n",
    "\n",
    "    generate_plot(agg_read_data.index, agg_read_data.CPU, \"{0}/CPU/{1}_CPU.png\".format(save_path, iteration))\n",
    "    generate_plot(agg_read_data.index, agg_read_data.RAM, \"{0}/RAM/{1}_RAM.png\".format(save_path, iteration))\n",
    "\n",
    "    return agg_read_data, get_timestamp_info(agg_read_data)\n",
    "\n",
    "def generate_plot(data_x=\"\", data_y=\"\", plot_path=\"\", title=\"\"):\n",
    "    fig = plt.figure(figsize=(20,10))\n",
    "    fig.patch.set_facecolor('white')\n",
    "    plt.plot(data_x, data_y, 'r.-')\n",
    "    plt.title(title)\n",
    "    plt.savefig(plot_path)\n",
    "    plt.close(fig)\n",
    "\n",
    "def create_directory(path):\n",
    "    try:\n",
    "        os.mkdir(path)\n",
    "    except OSError as e:\n",
    "        print(\"Error: %s - %s.\" % (e.filename, e.strerror))\n",
    "\n",
    "def smooth_data(mean_data, path, function_name):\n",
    "        smoother = ConvolutionSmoother(window_len=7, window_type=\"ones\")\n",
    "        cpu_data = mean_data['CPU']\n",
    "        ram_data = mean_data['RAM']\n",
    "\n",
    "        smoother.smooth(cpu_data)\n",
    "        smooth_cpu_data = smoother.smooth_data[0]\n",
    "        smoother.smooth(ram_data)\n",
    "        smooth_ram_data = smoother.smooth_data[0]\n",
    "\n",
    "        generate_plot(data_x=mean_data.index,\n",
    "                      data_y=smooth_cpu_data,\n",
    "                      plot_path=\"{0}/smooth_mean_CPU.png\".format(path),\n",
    "                      title=\"Smoothed {0}\".format(function_name))\n",
    "        generate_plot(data_x=mean_data.index,\n",
    "                      data_y=smooth_ram_data,\n",
    "                      plot_path=\"{0}/smooth_mean_RAM.png\".format(path),\n",
    "                      title=\"Smoothed {0}\".format(function_name))\n",
    "\n",
    "        smooth_data = pd.DataFrame(list(zip(smooth_cpu_data, smooth_ram_data)), columns=['CPU', 'RAM'])\n",
    "        smooth_data.to_csv(\"{0}/smooth_mean_data.csv\".format(path), index=False)"
   ],
   "metadata": {
    "collapsed": false,
    "pycharm": {
     "name": "#%%\n"
    }
   }
  },
  {
   "cell_type": "markdown",
   "source": [
    "Check for subdirectories. Number of subdirectories should much the number of nodes used for experiments."
   ],
   "metadata": {
    "collapsed": false,
    "pycharm": {
     "name": "#%% md\n"
    }
   }
  },
  {
   "cell_type": "code",
   "execution_count": 3,
   "outputs": [
    {
     "data": {
      "text/plain": "['/node_11',\n '/node_12',\n '/node_13',\n '/node_14',\n '/node_15',\n '/node_16',\n '/node_17',\n '/node_18',\n '/node_19',\n '/node_20']"
     },
     "execution_count": 3,
     "metadata": {},
     "output_type": "execute_result"
    }
   ],
   "source": [
    "all_directories = get_subdirectories()\n",
    "nodes_directories = [x for x in all_directories if \"node\" in x]\n",
    "nodes_directories"
   ],
   "metadata": {
    "collapsed": false,
    "pycharm": {
     "name": "#%%\n"
    }
   }
  },
  {
   "cell_type": "code",
   "execution_count": 4,
   "outputs": [
    {
     "data": {
      "text/plain": "[['/node_11/avgNetProfitGroupedBySoldDate',\n  '/node_11/avgNetProfitGroupedBySoldDateWhereProfitNegative',\n  '/node_11/avgNetProfitGroupedBySoldDateWhereYearAfter2000',\n  '/node_11/avgWholeSaleCostGroupedBySoldDate',\n  '/node_11/countDistinctTicketNumber',\n  '/node_11/countNetProfitGroupedBySoldDate',\n  '/node_11/countNetProfitGroupedBySoldDateWhereProfitNegative',\n  '/node_11/countNetProfitGroupedBySoldDateWhereYearAfter2000',\n  '/node_11/countWholeSaleCostGroupedBySoldDate',\n  '/node_11/filterCatalogSalesWhereProfitNegative',\n  '/node_11/filterCatalogSalesWhereProfitNegativeAndYearAfter2000',\n  '/node_11/filterCatalogSalesWhereYearAfter2000',\n  '/node_11/filterStoreSalesWhereProfitNegative',\n  '/node_11/filterStoreSalesWhereProfitNegativeAndYearAfter2000',\n  '/node_11/filterStoreSalesWhereYearAfter2000',\n  '/node_11/maxNetProfitGroupedBySoldDate',\n  '/node_11/maxNetProfitGroupedBySoldDateWhereProfitNegative',\n  '/node_11/maxNetProfitGroupedBySoldDateWhereYearAfter2000',\n  '/node_11/maxWholeSaleCostGroupedBySoldDate',\n  '/node_11/minNetProfitGroupedBySoldDate',\n  '/node_11/minNetProfitGroupedBySoldDateWhereProfitNegative',\n  '/node_11/minNetProfitGroupedBySoldDateWhereYearAfter2000',\n  '/node_11/minWholeSaleCostGroupedBySoldDate',\n  '/node_11/summaryNetProfitGroupedBySoldDate',\n  '/node_11/summaryWholeSaleCostGroupedBySoldDate',\n  '/node_11/sumNetProfitGroupedBySoldDate',\n  '/node_11/sumNetProfitGroupedBySoldDateWhereProfitNegative',\n  '/node_11/sumNetProfitGroupedBySoldDateWhereYearAfter2000',\n  '/node_11/sumWholeSaleCostGroupedBySoldDate'],\n ['/node_12/avgNetProfitGroupedBySoldDate',\n  '/node_12/avgNetProfitGroupedBySoldDateWhereProfitNegative',\n  '/node_12/avgNetProfitGroupedBySoldDateWhereYearAfter2000',\n  '/node_12/avgWholeSaleCostGroupedBySoldDate',\n  '/node_12/countDistinctTicketNumber',\n  '/node_12/countNetProfitGroupedBySoldDate',\n  '/node_12/countNetProfitGroupedBySoldDateWhereProfitNegative',\n  '/node_12/countNetProfitGroupedBySoldDateWhereYearAfter2000',\n  '/node_12/countWholeSaleCostGroupedBySoldDate',\n  '/node_12/filterCatalogSalesWhereProfitNegative',\n  '/node_12/filterCatalogSalesWhereProfitNegativeAndYearAfter2000',\n  '/node_12/filterCatalogSalesWhereYearAfter2000',\n  '/node_12/filterStoreSalesWhereProfitNegative',\n  '/node_12/filterStoreSalesWhereProfitNegativeAndYearAfter2000',\n  '/node_12/filterStoreSalesWhereYearAfter2000',\n  '/node_12/maxNetProfitGroupedBySoldDate',\n  '/node_12/maxNetProfitGroupedBySoldDateWhereProfitNegative',\n  '/node_12/maxNetProfitGroupedBySoldDateWhereYearAfter2000',\n  '/node_12/maxWholeSaleCostGroupedBySoldDate',\n  '/node_12/minNetProfitGroupedBySoldDate',\n  '/node_12/minNetProfitGroupedBySoldDateWhereProfitNegative',\n  '/node_12/minNetProfitGroupedBySoldDateWhereYearAfter2000',\n  '/node_12/minWholeSaleCostGroupedBySoldDate',\n  '/node_12/summaryNetProfitGroupedBySoldDate',\n  '/node_12/summaryWholeSaleCostGroupedBySoldDate',\n  '/node_12/sumNetProfitGroupedBySoldDate',\n  '/node_12/sumNetProfitGroupedBySoldDateWhereProfitNegative',\n  '/node_12/sumNetProfitGroupedBySoldDateWhereYearAfter2000',\n  '/node_12/sumWholeSaleCostGroupedBySoldDate'],\n ['/node_13/avgNetProfitGroupedBySoldDate',\n  '/node_13/avgNetProfitGroupedBySoldDateWhereProfitNegative',\n  '/node_13/avgNetProfitGroupedBySoldDateWhereYearAfter2000',\n  '/node_13/avgWholeSaleCostGroupedBySoldDate',\n  '/node_13/countDistinctTicketNumber',\n  '/node_13/countNetProfitGroupedBySoldDate',\n  '/node_13/countNetProfitGroupedBySoldDateWhereProfitNegative',\n  '/node_13/countNetProfitGroupedBySoldDateWhereYearAfter2000',\n  '/node_13/countWholeSaleCostGroupedBySoldDate',\n  '/node_13/filterCatalogSalesWhereProfitNegative',\n  '/node_13/filterCatalogSalesWhereProfitNegativeAndYearAfter2000',\n  '/node_13/filterCatalogSalesWhereYearAfter2000',\n  '/node_13/filterStoreSalesWhereProfitNegative',\n  '/node_13/filterStoreSalesWhereProfitNegativeAndYearAfter2000',\n  '/node_13/filterStoreSalesWhereYearAfter2000',\n  '/node_13/maxNetProfitGroupedBySoldDate',\n  '/node_13/maxNetProfitGroupedBySoldDateWhereProfitNegative',\n  '/node_13/maxNetProfitGroupedBySoldDateWhereYearAfter2000',\n  '/node_13/maxWholeSaleCostGroupedBySoldDate',\n  '/node_13/minNetProfitGroupedBySoldDate',\n  '/node_13/minNetProfitGroupedBySoldDateWhereProfitNegative',\n  '/node_13/minNetProfitGroupedBySoldDateWhereYearAfter2000',\n  '/node_13/minWholeSaleCostGroupedBySoldDate',\n  '/node_13/summaryNetProfitGroupedBySoldDate',\n  '/node_13/summaryWholeSaleCostGroupedBySoldDate',\n  '/node_13/sumNetProfitGroupedBySoldDate',\n  '/node_13/sumNetProfitGroupedBySoldDateWhereProfitNegative',\n  '/node_13/sumNetProfitGroupedBySoldDateWhereYearAfter2000',\n  '/node_13/sumWholeSaleCostGroupedBySoldDate'],\n ['/node_14/avgNetProfitGroupedBySoldDate',\n  '/node_14/avgNetProfitGroupedBySoldDateWhereProfitNegative',\n  '/node_14/avgNetProfitGroupedBySoldDateWhereYearAfter2000',\n  '/node_14/avgWholeSaleCostGroupedBySoldDate',\n  '/node_14/countDistinctTicketNumber',\n  '/node_14/countNetProfitGroupedBySoldDate',\n  '/node_14/countNetProfitGroupedBySoldDateWhereProfitNegative',\n  '/node_14/countNetProfitGroupedBySoldDateWhereYearAfter2000',\n  '/node_14/countWholeSaleCostGroupedBySoldDate',\n  '/node_14/filterCatalogSalesWhereProfitNegative',\n  '/node_14/filterCatalogSalesWhereProfitNegativeAndYearAfter2000',\n  '/node_14/filterCatalogSalesWhereYearAfter2000',\n  '/node_14/filterStoreSalesWhereProfitNegative',\n  '/node_14/filterStoreSalesWhereProfitNegativeAndYearAfter2000',\n  '/node_14/filterStoreSalesWhereYearAfter2000',\n  '/node_14/maxNetProfitGroupedBySoldDate',\n  '/node_14/maxNetProfitGroupedBySoldDateWhereProfitNegative',\n  '/node_14/maxNetProfitGroupedBySoldDateWhereYearAfter2000',\n  '/node_14/maxWholeSaleCostGroupedBySoldDate',\n  '/node_14/minNetProfitGroupedBySoldDate',\n  '/node_14/minNetProfitGroupedBySoldDateWhereProfitNegative',\n  '/node_14/minNetProfitGroupedBySoldDateWhereYearAfter2000',\n  '/node_14/minWholeSaleCostGroupedBySoldDate',\n  '/node_14/summaryNetProfitGroupedBySoldDate',\n  '/node_14/summaryWholeSaleCostGroupedBySoldDate',\n  '/node_14/sumNetProfitGroupedBySoldDate',\n  '/node_14/sumNetProfitGroupedBySoldDateWhereProfitNegative',\n  '/node_14/sumNetProfitGroupedBySoldDateWhereYearAfter2000',\n  '/node_14/sumWholeSaleCostGroupedBySoldDate'],\n ['/node_15/avgNetProfitGroupedBySoldDate',\n  '/node_15/avgNetProfitGroupedBySoldDateWhereProfitNegative',\n  '/node_15/avgNetProfitGroupedBySoldDateWhereYearAfter2000',\n  '/node_15/avgWholeSaleCostGroupedBySoldDate',\n  '/node_15/countDistinctTicketNumber',\n  '/node_15/countNetProfitGroupedBySoldDate',\n  '/node_15/countNetProfitGroupedBySoldDateWhereProfitNegative',\n  '/node_15/countNetProfitGroupedBySoldDateWhereYearAfter2000',\n  '/node_15/countWholeSaleCostGroupedBySoldDate',\n  '/node_15/filterCatalogSalesWhereProfitNegative',\n  '/node_15/filterCatalogSalesWhereProfitNegativeAndYearAfter2000',\n  '/node_15/filterCatalogSalesWhereYearAfter2000',\n  '/node_15/filterStoreSalesWhereProfitNegative',\n  '/node_15/filterStoreSalesWhereProfitNegativeAndYearAfter2000',\n  '/node_15/filterStoreSalesWhereYearAfter2000',\n  '/node_15/maxNetProfitGroupedBySoldDate',\n  '/node_15/maxNetProfitGroupedBySoldDateWhereProfitNegative',\n  '/node_15/maxNetProfitGroupedBySoldDateWhereYearAfter2000',\n  '/node_15/maxWholeSaleCostGroupedBySoldDate',\n  '/node_15/minNetProfitGroupedBySoldDate',\n  '/node_15/minNetProfitGroupedBySoldDateWhereProfitNegative',\n  '/node_15/minNetProfitGroupedBySoldDateWhereYearAfter2000',\n  '/node_15/minWholeSaleCostGroupedBySoldDate',\n  '/node_15/summaryNetProfitGroupedBySoldDate',\n  '/node_15/summaryWholeSaleCostGroupedBySoldDate',\n  '/node_15/sumNetProfitGroupedBySoldDate',\n  '/node_15/sumNetProfitGroupedBySoldDateWhereProfitNegative',\n  '/node_15/sumNetProfitGroupedBySoldDateWhereYearAfter2000',\n  '/node_15/sumWholeSaleCostGroupedBySoldDate'],\n ['/node_16/avgNetProfitGroupedBySoldDate',\n  '/node_16/avgNetProfitGroupedBySoldDateWhereProfitNegative',\n  '/node_16/avgNetProfitGroupedBySoldDateWhereYearAfter2000',\n  '/node_16/avgWholeSaleCostGroupedBySoldDate',\n  '/node_16/countDistinctTicketNumber',\n  '/node_16/countNetProfitGroupedBySoldDate',\n  '/node_16/countNetProfitGroupedBySoldDateWhereProfitNegative',\n  '/node_16/countNetProfitGroupedBySoldDateWhereYearAfter2000',\n  '/node_16/countWholeSaleCostGroupedBySoldDate',\n  '/node_16/filterCatalogSalesWhereProfitNegative',\n  '/node_16/filterCatalogSalesWhereProfitNegativeAndYearAfter2000',\n  '/node_16/filterCatalogSalesWhereYearAfter2000',\n  '/node_16/filterStoreSalesWhereProfitNegative',\n  '/node_16/filterStoreSalesWhereProfitNegativeAndYearAfter2000',\n  '/node_16/filterStoreSalesWhereYearAfter2000',\n  '/node_16/maxNetProfitGroupedBySoldDate',\n  '/node_16/maxNetProfitGroupedBySoldDateWhereProfitNegative',\n  '/node_16/maxNetProfitGroupedBySoldDateWhereYearAfter2000',\n  '/node_16/maxWholeSaleCostGroupedBySoldDate',\n  '/node_16/minNetProfitGroupedBySoldDate',\n  '/node_16/minNetProfitGroupedBySoldDateWhereProfitNegative',\n  '/node_16/minNetProfitGroupedBySoldDateWhereYearAfter2000',\n  '/node_16/minWholeSaleCostGroupedBySoldDate',\n  '/node_16/summaryNetProfitGroupedBySoldDate',\n  '/node_16/summaryWholeSaleCostGroupedBySoldDate',\n  '/node_16/sumNetProfitGroupedBySoldDate',\n  '/node_16/sumNetProfitGroupedBySoldDateWhereProfitNegative',\n  '/node_16/sumNetProfitGroupedBySoldDateWhereYearAfter2000',\n  '/node_16/sumWholeSaleCostGroupedBySoldDate'],\n ['/node_17/avgNetProfitGroupedBySoldDate',\n  '/node_17/avgNetProfitGroupedBySoldDateWhereProfitNegative',\n  '/node_17/avgNetProfitGroupedBySoldDateWhereYearAfter2000',\n  '/node_17/avgWholeSaleCostGroupedBySoldDate',\n  '/node_17/countDistinctTicketNumber',\n  '/node_17/countNetProfitGroupedBySoldDate',\n  '/node_17/countNetProfitGroupedBySoldDateWhereProfitNegative',\n  '/node_17/countNetProfitGroupedBySoldDateWhereYearAfter2000',\n  '/node_17/countWholeSaleCostGroupedBySoldDate',\n  '/node_17/filterCatalogSalesWhereProfitNegative',\n  '/node_17/filterCatalogSalesWhereProfitNegativeAndYearAfter2000',\n  '/node_17/filterCatalogSalesWhereYearAfter2000',\n  '/node_17/filterStoreSalesWhereProfitNegative',\n  '/node_17/filterStoreSalesWhereProfitNegativeAndYearAfter2000',\n  '/node_17/filterStoreSalesWhereYearAfter2000',\n  '/node_17/maxNetProfitGroupedBySoldDate',\n  '/node_17/maxNetProfitGroupedBySoldDateWhereProfitNegative',\n  '/node_17/maxNetProfitGroupedBySoldDateWhereYearAfter2000',\n  '/node_17/maxWholeSaleCostGroupedBySoldDate',\n  '/node_17/minNetProfitGroupedBySoldDate',\n  '/node_17/minNetProfitGroupedBySoldDateWhereProfitNegative',\n  '/node_17/minNetProfitGroupedBySoldDateWhereYearAfter2000',\n  '/node_17/minWholeSaleCostGroupedBySoldDate',\n  '/node_17/summaryNetProfitGroupedBySoldDate',\n  '/node_17/summaryWholeSaleCostGroupedBySoldDate',\n  '/node_17/sumNetProfitGroupedBySoldDate',\n  '/node_17/sumNetProfitGroupedBySoldDateWhereProfitNegative',\n  '/node_17/sumNetProfitGroupedBySoldDateWhereYearAfter2000',\n  '/node_17/sumWholeSaleCostGroupedBySoldDate'],\n ['/node_18/avgNetProfitGroupedBySoldDate',\n  '/node_18/avgNetProfitGroupedBySoldDateWhereProfitNegative',\n  '/node_18/avgNetProfitGroupedBySoldDateWhereYearAfter2000',\n  '/node_18/avgWholeSaleCostGroupedBySoldDate',\n  '/node_18/countDistinctTicketNumber',\n  '/node_18/countNetProfitGroupedBySoldDate',\n  '/node_18/countNetProfitGroupedBySoldDateWhereProfitNegative',\n  '/node_18/countNetProfitGroupedBySoldDateWhereYearAfter2000',\n  '/node_18/countWholeSaleCostGroupedBySoldDate',\n  '/node_18/filterCatalogSalesWhereProfitNegative',\n  '/node_18/filterCatalogSalesWhereProfitNegativeAndYearAfter2000',\n  '/node_18/filterCatalogSalesWhereYearAfter2000',\n  '/node_18/filterStoreSalesWhereProfitNegative',\n  '/node_18/filterStoreSalesWhereProfitNegativeAndYearAfter2000',\n  '/node_18/filterStoreSalesWhereYearAfter2000',\n  '/node_18/maxNetProfitGroupedBySoldDate',\n  '/node_18/maxNetProfitGroupedBySoldDateWhereProfitNegative',\n  '/node_18/maxNetProfitGroupedBySoldDateWhereYearAfter2000',\n  '/node_18/maxWholeSaleCostGroupedBySoldDate',\n  '/node_18/minNetProfitGroupedBySoldDate',\n  '/node_18/minNetProfitGroupedBySoldDateWhereProfitNegative',\n  '/node_18/minNetProfitGroupedBySoldDateWhereYearAfter2000',\n  '/node_18/minWholeSaleCostGroupedBySoldDate',\n  '/node_18/summaryNetProfitGroupedBySoldDate',\n  '/node_18/summaryWholeSaleCostGroupedBySoldDate',\n  '/node_18/sumNetProfitGroupedBySoldDate',\n  '/node_18/sumNetProfitGroupedBySoldDateWhereProfitNegative',\n  '/node_18/sumNetProfitGroupedBySoldDateWhereYearAfter2000',\n  '/node_18/sumWholeSaleCostGroupedBySoldDate'],\n ['/node_19/avgNetProfitGroupedBySoldDate',\n  '/node_19/avgNetProfitGroupedBySoldDateWhereProfitNegative',\n  '/node_19/avgNetProfitGroupedBySoldDateWhereYearAfter2000',\n  '/node_19/avgWholeSaleCostGroupedBySoldDate',\n  '/node_19/countDistinctTicketNumber',\n  '/node_19/countNetProfitGroupedBySoldDate',\n  '/node_19/countNetProfitGroupedBySoldDateWhereProfitNegative',\n  '/node_19/countNetProfitGroupedBySoldDateWhereYearAfter2000',\n  '/node_19/countWholeSaleCostGroupedBySoldDate',\n  '/node_19/filterCatalogSalesWhereProfitNegative',\n  '/node_19/filterCatalogSalesWhereProfitNegativeAndYearAfter2000',\n  '/node_19/filterCatalogSalesWhereYearAfter2000',\n  '/node_19/filterStoreSalesWhereProfitNegative',\n  '/node_19/filterStoreSalesWhereProfitNegativeAndYearAfter2000',\n  '/node_19/filterStoreSalesWhereYearAfter2000',\n  '/node_19/maxNetProfitGroupedBySoldDate',\n  '/node_19/maxNetProfitGroupedBySoldDateWhereProfitNegative',\n  '/node_19/maxNetProfitGroupedBySoldDateWhereYearAfter2000',\n  '/node_19/maxWholeSaleCostGroupedBySoldDate',\n  '/node_19/minNetProfitGroupedBySoldDate',\n  '/node_19/minNetProfitGroupedBySoldDateWhereProfitNegative',\n  '/node_19/minNetProfitGroupedBySoldDateWhereYearAfter2000',\n  '/node_19/minWholeSaleCostGroupedBySoldDate',\n  '/node_19/summaryNetProfitGroupedBySoldDate',\n  '/node_19/summaryWholeSaleCostGroupedBySoldDate',\n  '/node_19/sumNetProfitGroupedBySoldDate',\n  '/node_19/sumNetProfitGroupedBySoldDateWhereProfitNegative',\n  '/node_19/sumNetProfitGroupedBySoldDateWhereYearAfter2000',\n  '/node_19/sumWholeSaleCostGroupedBySoldDate'],\n ['/node_20/avgNetProfitGroupedBySoldDate',\n  '/node_20/avgNetProfitGroupedBySoldDateWhereProfitNegative',\n  '/node_20/avgNetProfitGroupedBySoldDateWhereYearAfter2000',\n  '/node_20/avgWholeSaleCostGroupedBySoldDate',\n  '/node_20/countDistinctTicketNumber',\n  '/node_20/countNetProfitGroupedBySoldDate',\n  '/node_20/countNetProfitGroupedBySoldDateWhereProfitNegative',\n  '/node_20/countNetProfitGroupedBySoldDateWhereYearAfter2000',\n  '/node_20/countWholeSaleCostGroupedBySoldDate',\n  '/node_20/filterCatalogSalesWhereProfitNegative',\n  '/node_20/filterCatalogSalesWhereProfitNegativeAndYearAfter2000',\n  '/node_20/filterCatalogSalesWhereYearAfter2000',\n  '/node_20/filterStoreSalesWhereProfitNegative',\n  '/node_20/filterStoreSalesWhereProfitNegativeAndYearAfter2000',\n  '/node_20/filterStoreSalesWhereYearAfter2000',\n  '/node_20/maxNetProfitGroupedBySoldDate',\n  '/node_20/maxNetProfitGroupedBySoldDateWhereProfitNegative',\n  '/node_20/maxNetProfitGroupedBySoldDateWhereYearAfter2000',\n  '/node_20/maxWholeSaleCostGroupedBySoldDate',\n  '/node_20/minNetProfitGroupedBySoldDate',\n  '/node_20/minNetProfitGroupedBySoldDateWhereProfitNegative',\n  '/node_20/minNetProfitGroupedBySoldDateWhereYearAfter2000',\n  '/node_20/minWholeSaleCostGroupedBySoldDate',\n  '/node_20/summaryNetProfitGroupedBySoldDate',\n  '/node_20/summaryWholeSaleCostGroupedBySoldDate',\n  '/node_20/sumNetProfitGroupedBySoldDate',\n  '/node_20/sumNetProfitGroupedBySoldDateWhereProfitNegative',\n  '/node_20/sumNetProfitGroupedBySoldDateWhereYearAfter2000',\n  '/node_20/sumWholeSaleCostGroupedBySoldDate']]"
     },
     "execution_count": 4,
     "metadata": {},
     "output_type": "execute_result"
    }
   ],
   "source": [
    "data_directories = []\n",
    "data_directories_groups = []\n",
    "for directory in nodes_directories:\n",
    "    cur_node_subdirectories = get_subdirectories(directory)\n",
    "    data_directories.append(cur_node_subdirectories)\n",
    "\n",
    "data_directories_groups = data_directories\n",
    "data_directories = [item for sublist in data_directories for item in sublist]\n",
    "data_directories_groups"
   ],
   "metadata": {
    "collapsed": false,
    "pycharm": {
     "name": "#%%\n"
    }
   }
  },
  {
   "cell_type": "markdown",
   "source": [
    "Check for function names in each node directory.\n",
    "These names should match the names in `experiments-plan.csv`.\n"
   ],
   "metadata": {
    "collapsed": false
   }
  },
  {
   "cell_type": "code",
   "execution_count": 5,
   "outputs": [
    {
     "data": {
      "text/plain": "['/avgNetProfitGroupedBySoldDate',\n '/avgNetProfitGroupedBySoldDateWhereProfitNegative',\n '/avgNetProfitGroupedBySoldDateWhereYearAfter2000',\n '/avgWholeSaleCostGroupedBySoldDate',\n '/countDistinctTicketNumber',\n '/countNetProfitGroupedBySoldDate',\n '/countNetProfitGroupedBySoldDateWhereProfitNegative',\n '/countNetProfitGroupedBySoldDateWhereYearAfter2000',\n '/countWholeSaleCostGroupedBySoldDate',\n '/filterCatalogSalesWhereProfitNegative',\n '/filterCatalogSalesWhereProfitNegativeAndYearAfter2000',\n '/filterCatalogSalesWhereYearAfter2000',\n '/filterStoreSalesWhereProfitNegative',\n '/filterStoreSalesWhereProfitNegativeAndYearAfter2000',\n '/filterStoreSalesWhereYearAfter2000',\n '/maxNetProfitGroupedBySoldDate',\n '/maxNetProfitGroupedBySoldDateWhereProfitNegative',\n '/maxNetProfitGroupedBySoldDateWhereYearAfter2000',\n '/maxWholeSaleCostGroupedBySoldDate',\n '/minNetProfitGroupedBySoldDate',\n '/minNetProfitGroupedBySoldDateWhereProfitNegative',\n '/minNetProfitGroupedBySoldDateWhereYearAfter2000',\n '/minWholeSaleCostGroupedBySoldDate',\n '/summaryNetProfitGroupedBySoldDate',\n '/summaryWholeSaleCostGroupedBySoldDate',\n '/sumNetProfitGroupedBySoldDate',\n '/sumNetProfitGroupedBySoldDateWhereProfitNegative',\n '/sumNetProfitGroupedBySoldDateWhereYearAfter2000',\n '/sumWholeSaleCostGroupedBySoldDate']"
     },
     "execution_count": 5,
     "metadata": {},
     "output_type": "execute_result"
    }
   ],
   "source": [
    "function_names = data_directories_groups[1]\n",
    "function_names = list(map(lambda x: x[8:], data_directories_groups[1]))\n",
    "function_names"
   ],
   "metadata": {
    "collapsed": false,
    "pycharm": {
     "name": "#%%\n"
    }
   }
  },
  {
   "cell_type": "markdown",
   "source": [
    "### Aggregating data from all nodes (11-19)"
   ],
   "metadata": {
    "collapsed": false
   }
  },
  {
   "cell_type": "code",
   "execution_count": 7,
   "outputs": [
    {
     "data": {
      "text/plain": "['/node_11',\n '/node_12',\n '/node_13',\n '/node_14',\n '/node_15',\n '/node_16',\n '/node_17',\n '/node_18',\n '/node_19']"
     },
     "execution_count": 7,
     "metadata": {},
     "output_type": "execute_result"
    }
   ],
   "source": [
    "master_dir_index = nodes_directories.index('/node_20')\n",
    "workers_directories = nodes_directories.copy()\n",
    "del workers_directories[master_dir_index]\n",
    "\n",
    "workers_directories"
   ],
   "metadata": {
    "collapsed": false,
    "pycharm": {
     "name": "#%%\n"
    }
   }
  },
  {
   "cell_type": "code",
   "execution_count": 8,
   "outputs": [],
   "source": [
    "create_directory(\"./../experiments_data/preprocessed-data\")\n",
    "\n",
    "mean_dir = \"./../experiments_data/preprocessed-data/workers-mean-data\"\n",
    "create_directory(mean_dir)\n",
    "workers_summary = pd.DataFrame(columns=[\"function_name\",\n",
    "                                             \"mean_duration\",\n",
    "                                             \"mean_interval\",\n",
    "                                             \"nodes_durations\",\n",
    "                                             \"nodes_intervals\"])\n",
    "\n",
    "workers_summary.to_csv(\"{0}/experiments_mean_duration.csv\".format(mean_dir), index=False)"
   ],
   "metadata": {
    "collapsed": false,
    "pycharm": {
     "name": "#%%\n"
    }
   }
  },
  {
   "cell_type": "code",
   "execution_count": 9,
   "outputs": [],
   "source": [
    "def preprocess_selected_function(f_names, workers_summary):\n",
    "    for function_name in f_names:\n",
    "        base_data = pd.DataFrame()\n",
    "        experiment_duration = []\n",
    "        experiment_interval = []\n",
    "        nodes_durations = []\n",
    "        nodes_intervals = []\n",
    "\n",
    "        experiment_mean_dir = \"{0}{1}\".format(mean_dir, function_name)\n",
    "        create_directory(experiment_mean_dir)\n",
    "\n",
    "        for node_dir in workers_directories:\n",
    "            file_path = \"./../experiments_data{0}{1}\".format(node_dir, function_name)\n",
    "            p = Path(file_path)\n",
    "            plots_path = \"{0}/plots\".format(file_path)\n",
    "\n",
    "            create_directory(plots_path)\n",
    "            create_directory(plots_path + \"/RAM\")\n",
    "            create_directory(plots_path + \"/CPU\")\n",
    "\n",
    "            experiment_number = 1\n",
    "            node_intervals = []\n",
    "            node_durations = []\n",
    "\n",
    "            for file in p.glob('*.csv'):\n",
    "                new_data, (duration, interval) = preprocess_file(file_path, plots_path, file.name, experiment_number)\n",
    "                base_data = pd.concat((base_data, new_data))\n",
    "\n",
    "                experiment_duration.append(duration)\n",
    "                experiment_interval.append(interval)\n",
    "                node_intervals.append(interval)\n",
    "                node_durations.append(duration)\n",
    "\n",
    "                experiment_number += 1\n",
    "\n",
    "            print(\"{0} | {1} durations: {2}\".format(function_name[1:], node_dir[1:], node_durations))\n",
    "\n",
    "            nodes_intervals.append((node_dir[1:], round(mean(node_intervals), 3)))\n",
    "            nodes_durations.append((node_dir[1:], round(mean(node_durations), 3)))\n",
    "\n",
    "        mean_interval = round(mean(experiment_interval), 3)\n",
    "\n",
    "        base_data[\"timestamp\"] = base_data.apply(lambda row: mean_interval * row.name, axis = 1)\n",
    "        base_data = base_data.groupby(base_data.index).mean()\n",
    "        base_data.to_csv(\"{0}/mean_data.csv\".format(experiment_mean_dir), index=False)\n",
    "\n",
    "        generate_plot(base_data.index, base_data.CPU, \"{0}/mean_CPU.png\".format(experiment_mean_dir), function_name[1:] + \" CPU\")\n",
    "        generate_plot(base_data.index, base_data.RAM, \"{0}/mean_RAM.png\".format(experiment_mean_dir), function_name[1:] + \" RAM\")\n",
    "\n",
    "        smooth_data(base_data, experiment_mean_dir, function_name)\n",
    "        workers_summary = workers_summary.append({\"function_name\": function_name[1:],\n",
    "                                                            \"mean_duration\": round(mean(experiment_duration), 3),\n",
    "                                                            \"mean_interval\": mean_interval,\n",
    "                                                            \"nodes_durations\": nodes_durations,\n",
    "                                                            \"nodes_intervals\": nodes_intervals}, ignore_index=True)\n",
    "\n",
    "    workers_summary.to_csv(\"{0}/experiments_mean_duration.csv\".format(mean_dir), index=False, mode=\"a\", header=False)\n",
    "\n",
    "    del base_data\n",
    "    del experiment_interval\n",
    "    del experiment_duration\n",
    "    del nodes_durations\n",
    "    del nodes_intervals\n",
    "    del new_data\n",
    "    del node_intervals\n",
    "    del node_durations\n",
    "    del workers_summary\n",
    "    gc.collect()"
   ],
   "metadata": {
    "collapsed": false,
    "pycharm": {
     "name": "#%%\n"
    }
   }
  },
  {
   "cell_type": "code",
   "execution_count": 11,
   "outputs": [
    {
     "name": "stdout",
     "output_type": "stream",
     "text": [
      "Functions: 29\n"
     ]
    }
   ],
   "source": [
    "print(f\"Functions: {len(function_names)}\")"
   ],
   "metadata": {
    "collapsed": false,
    "pycharm": {
     "name": "#%%\n"
    }
   }
  },
  {
   "cell_type": "code",
   "execution_count": 12,
   "outputs": [
    {
     "name": "stdout",
     "output_type": "stream",
     "text": [
      "avgNetProfitGroupedBySoldDate | node_11 durations: [87.822398, 84.907424, 89.099357, 92.924271, 90.079271, 87.966551, 86.321541, 87.894025, 96.055341, 88.994081, 87.994335, 87.981834, 87.967983, 90.823126, 83.805095, 88.98613, 103.145599, 87.082761, 86.949464, 88.944837, 90.099927, 91.035731, 87.89128, 92.125014, 89.149373]\n",
      "avgNetProfitGroupedBySoldDate | node_12 durations: [87.743202, 84.841107, 88.986009, 92.87524, 89.943532, 87.88085, 86.065347, 87.830646, 95.871999, 88.793743, 87.888862, 87.906723, 87.875244, 90.830752, 83.682032, 88.813933, 103.00797, 87.109781, 86.815343, 88.824717, 89.959431, 91.00031, 87.784691, 92.04767, 89.135653]\n",
      "avgNetProfitGroupedBySoldDate | node_13 durations: [87.680449, 84.72492, 88.925269, 92.824557, 89.856521, 87.706383, 85.972686, 87.690253, 95.785617, 88.773838, 87.757352, 87.827618, 87.685697, 90.642284, 83.637552, 88.7594, 102.953407, 86.930823, 86.746311, 88.788489, 89.851092, 90.948315, 87.676418, 91.89312, 89.078901]\n",
      "avgNetProfitGroupedBySoldDate | node_14 durations: [87.639379, 84.669252, 88.768258, 92.591526, 89.872614, 87.670197, 85.928899, 87.727723, 95.793576, 88.652059, 87.661513, 87.822556, 87.648931, 90.655496, 83.549139, 88.75921, 102.805409, 86.883087, 86.71529, 88.660739, 89.867197, 90.738217, 87.66183, 91.837166, 88.922838]\n",
      "avgNetProfitGroupedBySoldDate | node_15 durations: [87.435106, 84.477717, 88.654927, 92.628328, 89.767287, 87.573716, 85.854159, 87.582451, 95.619299, 88.572318, 87.589963, 87.723161, 87.562344, 90.547875, 83.458067, 88.590589, 102.717133, 86.791197, 86.542092, 88.655951, 89.624652, 90.766961, 87.457465, 91.694931, 88.848306]\n",
      "avgNetProfitGroupedBySoldDate | node_16 durations: [87.43672, 84.32926, 88.534221, 92.412392, 89.638177, 87.43722, 85.730444, 87.44068, 95.547387, 88.383794, 87.460126, 87.577677, 87.361814, 90.398051, 83.389766, 88.545313, 102.692202, 86.663843, 86.505197, 88.531527, 89.611967, 90.54544, 87.453624, 91.643727, 88.697102]\n",
      "avgNetProfitGroupedBySoldDate | node_17 durations: [87.346308, 84.229762, 88.41594, 92.317822, 89.512966, 87.336642, 85.622782, 87.411745, 95.50852, 88.273683, 87.337035, 87.504827, 87.346749, 90.296933, 83.295225, 88.419996, 102.590491, 86.554096, 86.404118, 88.431199, 89.537293, 90.56365, 87.347893, 91.547132, 88.544139]\n",
      "avgNetProfitGroupedBySoldDate | node_18 durations: [87.250763, 84.254404, 88.34166, 92.220217, 89.285141, 87.2629, 85.401975, 87.217963, 95.410321, 88.179514, 87.241319, 87.390385, 87.232842, 90.218618, 83.124592, 88.349487, 102.441316, 86.446141, 86.295908, 88.327243, 89.440576, 90.379405, 87.242621, 91.483052, 88.578478]\n",
      "avgNetProfitGroupedBySoldDate | node_19 durations: [87.045274, 84.138695, 88.184667, 92.168565, 89.251287, 87.14873, 85.267144, 87.134187, 95.18685, 88.100245, 87.149219, 87.209382, 87.166842, 90.146814, 83.098979, 88.267902, 102.411382, 86.201275, 86.215998, 88.231348, 89.240195, 90.459865, 87.11243, 91.385084, 88.393966]\n",
      "avgNetProfitGroupedBySoldDateWhereProfitNegative | node_11 durations: [86.927119, 94.003557, 87.864667, 87.883759, 94.156684, 93.991223, 82.029516, 93.9966, 85.039469, 91.309061, 84.888048, 81.808018, 87.871465, 92.054978, 91.196021, 89.86305, 94.933517, 90.159708, 86.23349, 89.925891, 91.017395, 88.119311, 89.923109, 88.231837, 93.987687]\n",
      "avgNetProfitGroupedBySoldDateWhereProfitNegative | node_12 durations: [86.888044, 93.904755, 87.877009, 87.88519, 94.193499, 93.933882, 81.807963, 93.877748, 84.888797, 91.274622, 84.847725, 81.814563, 87.783211, 92.090813, 91.207422, 89.83826, 94.907022, 90.111905, 86.167684, 89.853732, 90.903272, 88.042433, 89.899811, 88.028865, 93.844419]\n",
      "avgNetProfitGroupedBySoldDateWhereProfitNegative | node_13 durations: [86.757045, 93.765947, 87.69018, 87.689411, 94.06723, 93.903392, 81.742708, 93.92515, 84.721787, 91.124593, 84.718607, 81.618107, 87.694486, 91.894977, 91.125592, 89.711932, 94.84481, 90.018516, 85.967355, 89.707281, 90.787943, 87.996156, 89.71378, 88.023291, 93.782618]\n",
      "avgNetProfitGroupedBySoldDateWhereProfitNegative | node_14 durations: [86.641026, 93.630497, 87.678406, 87.658369, 93.874672, 93.798145, 81.675788, 93.753597, 84.736871, 90.977576, 84.586982, 81.523442, 87.646032, 91.786633, 90.966796, 89.551932, 94.759007, 89.884018, 85.921634, 89.585262, 90.673522, 87.828638, 89.716347, 87.834051, 93.662097]\n",
      "avgNetProfitGroupedBySoldDateWhereProfitNegative | node_15 durations: [86.605489, 93.567146, 87.592689, 87.574845, 93.875259, 93.56738, 81.577282, 93.585429, 84.58345, 90.949861, 84.603113, 81.616437, 87.446048, 91.659024, 90.932977, 89.477144, 94.569183, 89.83944, 85.857973, 89.466327, 90.586838, 87.738203, 89.520296, 87.724181, 93.60878]\n",
      "avgNetProfitGroupedBySoldDateWhereProfitNegative | node_16 durations: [86.370994, 93.52958, 87.455493, 87.454797, 93.682252, 93.578296, 81.544613, 93.536961, 84.500466, 90.883896, 84.47946, 81.535906, 87.441011, 91.659789, 90.707409, 89.477269, 94.472341, 89.646006, 85.757778, 89.496952, 90.420904, 87.651512, 89.48039, 87.619121, 93.531673]\n",
      "avgNetProfitGroupedBySoldDateWhereProfitNegative | node_17 durations: [86.357335, 93.352321, 87.344999, 87.293285, 93.666373, 93.370111, 81.411208, 93.516549, 84.346259, 90.712169, 84.330213, 81.364415, 87.335014, 91.493689, 90.694177, 89.320622, 94.425226, 89.615879, 85.572319, 89.322098, 90.407667, 87.611787, 89.303755, 87.593788, 93.378403]\n",
      "avgNetProfitGroupedBySoldDateWhereProfitNegative | node_18 durations: [86.244377, 93.331719, 87.256317, 87.193043, 93.498589, 93.320342, 81.23415, 93.331662, 84.375921, 90.660771, 84.208873, 81.277806, 87.203093, 91.442527, 90.508477, 89.238034, 94.276333, 89.440413, 85.520912, 89.248515, 90.184002, 87.510106, 89.195519, 87.45908, 93.334469]\n",
      "avgNetProfitGroupedBySoldDateWhereProfitNegative | node_19 durations: [86.213431, 93.216463, 87.142605, 87.144786, 93.19606, 93.146299, 81.013084, 93.327904, 84.233416, 90.502819, 84.161135, 81.139508, 87.157497, 91.370476, 90.478166, 89.081568, 94.245176, 89.344785, 85.377213, 89.191864, 90.095057, 87.291478, 89.190759, 87.133195, 93.276213]\n",
      "avgNetProfitGroupedBySoldDateWhereYearAfter2000 | node_11 durations: [97.078228, 109.533387, 107.31518, 108.188376, 106.293487, 103.274073, 108.145528, 110.383008, 98.033196, 97.170593, 111.321984, 108.292281, 102.127049, 99.15375, 106.112033, 106.249106, 103.114405, 107.493706, 106.242391, 107.834048, 108.338496, 105.132104, 99.511362, 110.519825, 107.207274]\n",
      "avgNetProfitGroupedBySoldDateWhereYearAfter2000 | node_12 durations: [96.993586, 109.361078, 107.310712, 108.112763, 106.224898, 103.07453, 108.187515, 110.240063, 97.937759, 96.981738, 111.152321, 108.21037, 102.033427, 99.046231, 106.035532, 106.185719, 103.086824, 107.290038, 106.128085, 107.793884, 108.224546, 104.989258, 99.423003, 110.399635, 107.104134]\n",
      "avgNetProfitGroupedBySoldDateWhereYearAfter2000 | node_13 durations: [96.87001, 109.345178, 107.157059, 108.097695, 106.055968, 102.938663, 107.994192, 110.120044, 97.977778, 96.874665, 111.05642, 108.089976, 102.011232, 98.917824, 105.91694, 106.08102, 102.950145, 107.166776, 106.074151, 107.63344, 108.254379, 104.970031, 99.365967, 110.271864, 106.993292]\n",
      "avgNetProfitGroupedBySoldDateWhereYearAfter2000 | node_14 durations: [96.82923, 109.263244, 107.081659, 107.999707, 105.96925, 102.979045, 107.861423, 110.049476, 97.744519, 96.819537, 111.020322, 108.017986, 101.855994, 98.890373, 105.814402, 105.951401, 102.800529, 107.187027, 105.964162, 107.542939, 108.025111, 104.864427, 99.185152, 110.067139, 106.913371]\n",
      "avgNetProfitGroupedBySoldDateWhereYearAfter2000 | node_15 durations: [96.744518, 109.188106, 106.937622, 107.904575, 105.862251, 102.868486, 107.757861, 110.071, 97.667261, 96.718724, 110.906506, 107.90053, 101.784868, 98.776534, 105.869307, 105.859754, 102.723733, 107.088975, 105.852831, 107.306351, 107.944289, 104.743181, 99.111278, 109.956688, 106.780155]\n",
      "avgNetProfitGroupedBySoldDateWhereYearAfter2000 | node_16 durations: [96.631027, 108.939404, 106.924284, 107.687502, 105.693863, 102.682728, 107.693067, 109.859758, 97.572977, 96.583666, 110.802498, 107.702055, 101.616615, 98.669449, 105.664649, 105.951338, 102.705086, 106.914699, 105.814618, 107.083419, 107.982765, 104.725021, 98.990595, 109.888394, 106.758737]\n",
      "avgNetProfitGroupedBySoldDateWhereYearAfter2000 | node_17 durations: [96.456655, 108.970927, 106.846939, 107.68368, 105.707673, 102.501283, 107.605075, 109.843413, 97.52669, 96.572881, 110.711217, 107.706949, 101.574432, 98.552414, 105.586112, 105.777077, 102.664851, 106.820182, 105.766318, 106.971367, 107.884945, 104.612962, 98.97284, 109.794224, 106.713881]\n",
      "avgNetProfitGroupedBySoldDateWhereYearAfter2000 | node_18 durations: [96.489184, 108.790879, 106.712572, 107.482798, 105.492136, 102.441088, 107.508304, 109.685866, 97.440698, 96.46277, 110.645015, 107.493769, 101.523002, 98.514034, 105.456695, 105.75163, 102.481732, 106.742576, 105.612194, 106.865151, 107.653015, 104.498576, 98.846272, 109.695411, 106.538665]\n",
      "avgNetProfitGroupedBySoldDateWhereYearAfter2000 | node_19 durations: [96.383533, 108.702103, 106.528768, 107.491374, 105.448139, 102.441121, 107.446497, 109.545484, 97.396513, 96.298318, 110.479029, 107.492511, 101.294261, 98.355259, 105.444034, 105.611846, 102.415628, 106.678318, 105.548857, 106.706952, 107.66743, 104.334906, 98.669991, 109.68497, 106.489563]\n",
      "avgWholeSaleCostGroupedBySoldDate | node_11 durations: [90.992231, 93.981509, 91.981803, 93.08818, 85.058983, 87.881589, 94.129194, 89.403479, 91.191559, 92.889746, 89.147426, 86.006654, 87.89521, 93.233193, 90.261024, 84.033719, 90.087721, 96.068712, 87.83404, 91.981073, 90.095546, 88.942113, 88.1382, 89.910849, 91.118371]\n",
      "avgWholeSaleCostGroupedBySoldDate | node_12 durations: [90.769747, 93.79599, 91.928759, 93.094365, 84.907906, 87.783897, 93.977153, 89.278351, 91.115254, 92.864766, 89.121518, 85.890086, 87.766477, 93.1806, 90.12801, 83.974752, 90.012608, 95.868775, 87.672271, 91.929598, 89.945659, 88.840042, 87.984791, 89.812322, 91.118807]\n",
      "avgWholeSaleCostGroupedBySoldDate | node_13 durations: [90.65605, 93.698148, 91.728311, 92.991654, 84.788161, 87.690739, 93.925021, 89.240076, 90.934559, 92.814358, 88.921438, 85.825167, 87.677211, 93.00504, 90.02156, 83.798599, 89.874573, 95.79196, 87.68617, 91.865963, 89.873299, 88.783628, 87.972743, 89.70023, 90.959619]\n",
      "avgWholeSaleCostGroupedBySoldDate | node_14 durations: [90.649931, 93.665431, 91.581172, 92.853941, 84.654316, 87.656218, 93.815952, 89.063033, 90.901869, 92.699656, 88.929511, 85.626732, 87.651487, 92.880308, 89.91969, 83.720562, 89.7126, 95.711533, 87.548449, 91.777581, 89.849692, 88.640612, 87.799248, 89.550967, 90.839532]\n",
      "avgWholeSaleCostGroupedBySoldDate | node_15 durations: [90.601914, 93.562918, 91.573308, 92.783328, 84.598215, 87.590706, 93.721482, 89.0182, 90.716376, 92.625685, 88.809523, 85.533889, 87.455486, 92.749675, 89.895104, 83.705349, 89.623006, 95.599215, 87.414672, 91.686259, 89.635305, 88.502304, 87.635701, 89.459079, 90.877326]\n",
      "avgWholeSaleCostGroupedBySoldDate | node_16 durations: [90.385766, 93.521609, 91.471696, 92.72966, 84.483, 87.441603, 93.668141, 88.842388, 90.558821, 92.431748, 88.699435, 85.417787, 87.452167, 92.731207, 89.851431, 83.537123, 89.616469, 95.51916, 87.436523, 91.499269, 89.623125, 88.516123, 87.603056, 89.460988, 90.706673]\n",
      "avgWholeSaleCostGroupedBySoldDate | node_17 durations: [90.32206, 93.410434, 91.339456, 92.494022, 84.40384, 87.347151, 93.589608, 88.751323, 90.485931, 92.335644, 88.65621, 85.322493, 87.350926, 92.654315, 89.677151, 83.451571, 89.521439, 95.453113, 87.198648, 91.476708, 89.48268, 88.417827, 87.500267, 89.360131, 90.614833]\n",
      "avgWholeSaleCostGroupedBySoldDate | node_18 durations: [90.21383, 93.213906, 91.338867, 92.420474, 84.280053, 87.226631, 93.371432, 88.608671, 90.376475, 92.258399, 88.494346, 85.207889, 87.232982, 92.581782, 89.590079, 83.400298, 89.29633, 95.282354, 87.244774, 91.331705, 89.452633, 88.347994, 87.392795, 89.27548, 90.521951]\n",
      "avgWholeSaleCostGroupedBySoldDate | node_19 durations: [90.12946, 93.120573, 91.249608, 92.296588, 84.141359, 87.221736, 93.360488, 88.383045, 90.386626, 92.121468, 88.386752, 85.253722, 87.06268, 92.48679, 89.522515, 83.202968, 89.274045, 95.170134, 87.138281, 91.325778, 89.37516, 88.106146, 87.306132, 89.196946, 90.434973]\n"
     ]
    }
   ],
   "source": [
    "preprocess_selected_function(function_names[0:4], workers_summary)"
   ],
   "metadata": {
    "collapsed": false,
    "pycharm": {
     "name": "#%%\n"
    }
   }
  },
  {
   "cell_type": "code",
   "execution_count": 13,
   "outputs": [
    {
     "data": {
      "text/plain": "4984822"
     },
     "execution_count": 13,
     "metadata": {},
     "output_type": "execute_result"
    }
   ],
   "source": [
    "gc.collect()"
   ],
   "metadata": {
    "collapsed": false,
    "pycharm": {
     "name": "#%%\n"
    }
   }
  },
  {
   "cell_type": "code",
   "execution_count": 14,
   "outputs": [
    {
     "name": "stdout",
     "output_type": "stream",
     "text": [
      "countDistinctTicketNumber | node_11 durations: [119.615432, 169.66512, 150.642707, 119.347481, 177.201195, 117.461817, 138.665544, 167.926047, 124.360457, 121.237346, 125.470905, 142.61534, 174.384321, 151.413672, 183.159475, 154.724639, 167.942303, 136.478331, 122.650754, 178.237092, 166.845164, 115.219133, 127.364988, 115.329739, 126.579539]\n",
      "countDistinctTicketNumber | node_12 durations: [119.51689, 169.582475, 150.544528, 119.104442, 177.085709, 117.333894, 138.535104, 167.875872, 124.338815, 121.240257, 125.429545, 142.561693, 174.189775, 151.290455, 183.08601, 154.687037, 167.79898, 136.505282, 122.420959, 178.23657, 166.792416, 115.182259, 127.278564, 115.3066, 126.530138]\n",
      "countDistinctTicketNumber | node_13 durations: [119.476118, 169.457289, 150.468719, 118.987009, 176.93664, 117.298403, 138.469839, 167.7426, 124.137524, 121.18548, 125.374507, 142.364779, 174.136277, 151.243156, 183.013847, 154.657093, 167.737064, 136.425387, 122.425213, 178.192392, 166.658688, 115.120208, 127.235579, 115.244707, 126.31245]\n",
      "countDistinctTicketNumber | node_14 durations: [119.277511, 169.372059, 150.280892, 119.030526, 176.93782, 117.155122, 138.314, 167.633834, 124.086128, 121.031393, 125.174685, 142.370511, 174.071203, 151.060926, 182.898983, 154.515562, 167.576875, 136.207939, 122.355159, 178.035685, 166.657839, 114.940676, 127.070723, 115.068116, 126.264714]\n",
      "countDistinctTicketNumber | node_15 durations: [119.179208, 169.307886, 150.271677, 118.942776, 176.883179, 117.024216, 138.259737, 167.610919, 123.953901, 120.921508, 125.085055, 142.240708, 173.926074, 151.051853, 182.876128, 154.349688, 167.52117, 136.198365, 122.228911, 177.840786, 166.615807, 114.811453, 127.084392, 114.948253, 126.159756]\n",
      "countDistinctTicketNumber | node_16 durations: [119.16662, 169.127939, 150.150777, 118.716845, 176.77046, 116.95296, 138.160718, 167.410867, 123.907424, 120.884632, 124.960114, 142.0643, 173.822946, 150.951708, 182.695002, 154.348744, 167.457405, 135.990365, 122.141189, 177.859145, 166.514615, 114.836616, 126.923605, 114.974364, 126.025282]\n",
      "countDistinctTicketNumber | node_17 durations: [118.959314, 169.111977, 150.132084, 118.753722, 176.423138, 116.780868, 138.097935, 167.38953, 123.818804, 120.714236, 124.949049, 142.025403, 173.795148, 150.698229, 182.629679, 154.13549, 167.369448, 136.004525, 121.890724, 177.648499, 166.411263, 114.756274, 126.763666, 114.88314, 125.948987]\n",
      "countDistinctTicketNumber | node_18 durations: [118.959925, 168.811289, 149.948442, 118.527646, 176.361898, 116.568167, 138.022939, 167.255649, 123.686882, 120.560628, 124.795089, 141.988176, 173.722288, 150.609003, 182.48586, 154.063971, 167.258289, 135.816506, 121.800954, 177.620113, 166.241848, 114.581295, 126.697517, 114.747344, 125.883945]\n",
      "countDistinctTicketNumber | node_19 durations: [118.813253, 168.482875, 149.889731, 118.51012, 176.242661, 116.490579, 137.805158, 167.229743, 123.564224, 120.570081, 124.645715, 141.82827, 173.490386, 150.494645, 182.313451, 153.991449, 167.177039, 135.76908, 121.686595, 177.445157, 166.111337, 114.426323, 126.564529, 114.678011, 125.826722]\n",
      "countNetProfitGroupedBySoldDate | node_11 durations: [91.035315, 83.95217, 83.173108, 87.083108, 88.99221, 89.925563, 94.17184, 88.051232, 89.149289, 87.032439, 78.781482, 83.905218, 84.208504, 91.980866, 89.905916, 94.171621, 91.97952, 89.144084, 91.027535, 89.944895, 95.116193, 87.880793, 86.95329, 86.469202, 93.970158]\n",
      "countNetProfitGroupedBySoldDate | node_12 durations: [91.014015, 83.886243, 83.059062, 86.957353, 88.834898, 89.814419, 94.136321, 87.961216, 88.889854, 86.957946, 78.695658, 83.845625, 84.154938, 91.941874, 89.780393, 94.094101, 91.909291, 88.99995, 91.017496, 89.757399, 95.031221, 87.740246, 86.956953, 86.381474, 93.876962]\n",
      "countNetProfitGroupedBySoldDate | node_13 durations: [90.958924, 83.794732, 82.904187, 86.899001, 88.776153, 89.850721, 93.930003, 87.85162, 88.781317, 86.896507, 78.697675, 83.647697, 84.105643, 91.725664, 89.716186, 93.914555, 91.733611, 88.96319, 90.810679, 89.731394, 94.997456, 87.684447, 86.754527, 86.144142, 93.743344]\n",
      "countNetProfitGroupedBySoldDate | node_14 durations: [90.815475, 83.648459, 82.937942, 86.754252, 88.599122, 89.697973, 93.819715, 87.823521, 88.596524, 86.711946, 78.535568, 83.628656, 83.895383, 91.668825, 89.572364, 93.815266, 91.680091, 88.827302, 90.817885, 89.545734, 94.812783, 87.501338, 86.733069, 86.096709, 93.654118]\n",
      "countNetProfitGroupedBySoldDate | node_15 durations: [90.728377, 83.642421, 82.865339, 86.643924, 88.54077, 89.426956, 93.728878, 87.633376, 88.553671, 86.645235, 78.41483, 83.553512, 83.774255, 91.62601, 89.577352, 93.798806, 91.51493, 88.67641, 90.585839, 89.444584, 94.806474, 87.422832, 86.684687, 86.004709, 93.596764]\n",
      "countNetProfitGroupedBySoldDate | node_16 durations: [90.551219, 83.565448, 82.619167, 86.510718, 88.382119, 89.318269, 93.681065, 87.593297, 88.373399, 86.53117, 78.255979, 83.409209, 83.788255, 91.495578, 89.459972, 93.670497, 91.492991, 88.530235, 90.563, 89.466126, 94.595406, 87.355252, 86.508298, 85.895029, 93.371705]\n",
      "countNetProfitGroupedBySoldDate | node_17 durations: [90.430122, 83.425584, 82.645138, 86.447942, 88.411089, 89.354276, 93.600722, 87.498675, 88.412256, 86.53937, 78.29504, 83.287785, 83.604859, 91.385977, 89.355588, 93.551794, 91.371617, 88.50565, 90.326792, 89.2774, 94.466474, 87.300552, 86.38068, 85.757354, 93.369186]\n",
      "countNetProfitGroupedBySoldDate | node_18 durations: [90.36713, 83.338625, 82.497923, 86.371165, 88.267141, 89.199699, 93.461543, 87.37908, 88.228481, 86.422891, 78.113132, 83.279505, 83.594943, 91.298631, 89.25024, 93.500901, 91.293285, 88.311132, 90.31367, 89.198605, 94.451227, 87.141952, 86.366874, 85.655814, 93.190154]\n",
      "countNetProfitGroupedBySoldDate | node_19 durations: [90.30315, 83.186607, 82.327807, 86.197716, 88.097225, 89.081169, 93.457081, 87.371414, 88.079302, 86.052362, 78.092088, 83.069024, 83.205672, 91.25344, 89.202555, 93.30803, 91.101389, 88.258874, 90.152774, 89.171401, 94.39505, 87.008153, 86.14273, 85.487844, 93.134811]\n",
      "countNetProfitGroupedBySoldDateWhereProfitNegative | node_11 durations: [91.033762, 93.052919, 89.133647, 96.207114, 85.050243, 92.981622, 82.893263, 93.065912, 87.110041, 89.919754, 91.061212, 92.060871, 88.202108, 94.957405, 82.845033, 84.026552, 79.701792, 94.157293, 92.129053, 80.799807, 79.118536, 83.00634, 88.978189, 91.964525, 85.986324]\n",
      "countNetProfitGroupedBySoldDateWhereProfitNegative | node_12 durations: [90.995979, 92.974625, 88.980088, 95.989504, 85.049061, 92.782043, 82.734108, 92.902931, 86.924555, 89.922685, 91.018944, 91.968422, 88.042525, 94.927704, 82.777832, 83.844127, 79.655293, 94.144547, 92.09985, 80.722169, 78.993251, 82.895315, 88.840011, 91.806709, 86.023367]\n",
      "countNetProfitGroupedBySoldDateWhereProfitNegative | node_13 durations: [90.944291, 92.832895, 88.940423, 95.961087, 84.878054, 92.681527, 82.708378, 92.823397, 86.912405, 89.696517, 90.808146, 91.906279, 87.888506, 94.844411, 82.640705, 83.802342, 79.572975, 94.055945, 92.041455, 80.682976, 78.94884, 82.771684, 88.776231, 91.735256, 85.822323]\n",
      "countNetProfitGroupedBySoldDateWhereProfitNegative | node_14 durations: [90.752419, 92.728897, 88.75287, 95.899116, 84.843662, 92.574677, 82.623803, 92.732651, 86.756642, 89.701666, 90.749006, 91.7596, 87.842439, 94.675106, 82.595456, 83.731936, 79.483697, 93.88928, 91.821727, 80.569715, 78.855303, 82.694341, 88.681432, 91.653781, 85.746626]\n",
      "countNetProfitGroupedBySoldDateWhereProfitNegative | node_15 durations: [90.747476, 92.607222, 88.705761, 95.715543, 84.795801, 92.61933, 82.481195, 92.617248, 86.649773, 89.632018, 90.719876, 91.670048, 87.717821, 94.536492, 82.451431, 83.660471, 79.311116, 93.733642, 91.722931, 80.4578, 78.75994, 82.553649, 88.544014, 91.527468, 85.716436]\n",
      "countNetProfitGroupedBySoldDateWhereProfitNegative | node_16 durations: [90.735557, 92.593738, 88.53948, 95.706229, 84.644661, 92.43078, 82.332378, 92.45705, 86.534537, 89.483299, 90.559776, 91.655171, 87.613147, 94.465286, 82.31677, 83.568592, 79.216025, 93.693425, 91.650446, 80.30416, 78.579289, 82.479518, 88.539658, 91.514357, 85.591263]\n",
      "countNetProfitGroupedBySoldDateWhereProfitNegative | node_17 durations: [90.656895, 92.452312, 88.413327, 95.543019, 84.502031, 92.423389, 82.310068, 92.427318, 86.408347, 89.323447, 90.419252, 91.485595, 87.443399, 94.413796, 82.312656, 83.398745, 79.202145, 93.663413, 91.571495, 80.299858, 78.572321, 82.323398, 88.438534, 91.349595, 85.434689]\n",
      "countNetProfitGroupedBySoldDateWhereProfitNegative | node_18 durations: [90.506166, 92.391515, 88.376832, 95.388409, 84.421378, 92.253267, 82.182893, 92.23741, 86.431891, 89.211895, 90.33941, 91.443168, 87.454485, 94.278173, 82.189421, 83.354823, 79.006521, 93.496686, 91.442096, 80.140304, 78.391512, 82.295518, 88.31953, 91.292224, 85.412492]\n",
      "countNetProfitGroupedBySoldDateWhereProfitNegative | node_19 durations: [90.453458, 92.179382, 88.252882, 95.339022, 84.149147, 92.181391, 82.125334, 92.254299, 86.206363, 89.11237, 90.298721, 91.390807, 87.379641, 94.114244, 82.117165, 83.223026, 79.04751, 93.428447, 91.373888, 80.071376, 78.323377, 82.102606, 88.150608, 91.145383, 85.276039]\n",
      "countNetProfitGroupedBySoldDateWhereYearAfter2000 | node_11 durations: [97.183718, 105.323767, 105.111442, 105.292544, 104.72525, 98.036771, 109.406366, 103.279026, 108.490242, 109.273574, 100.256458, 100.189641, 104.214006, 104.213062, 103.143098, 108.501861, 103.120056, 106.263068, 106.438592, 99.38465, 102.400688, 98.094738, 107.379794, 100.245853, 107.522732]\n",
      "countNetProfitGroupedBySoldDateWhereYearAfter2000 | node_12 durations: [97.041388, 105.293264, 105.091658, 105.269458, 104.59419, 97.975377, 109.331875, 103.260263, 108.49175, 109.176562, 100.145811, 100.124133, 104.228968, 104.086996, 103.122701, 108.354821, 103.110396, 106.188963, 106.358031, 99.164514, 102.298501, 97.968956, 107.303866, 100.144812, 107.410212]\n",
      "countNetProfitGroupedBySoldDateWhereYearAfter2000 | node_13 durations: [96.887571, 105.136188, 104.973246, 105.138654, 104.507285, 97.813132, 109.197138, 103.10497, 108.356714, 109.027612, 100.000874, 99.994982, 104.069152, 104.027503, 102.967761, 108.23793, 102.902426, 106.083709, 106.231825, 99.055601, 102.184074, 97.96295, 107.186968, 100.131279, 107.464872]\n",
      "countNetProfitGroupedBySoldDateWhereYearAfter2000 | node_14 durations: [96.79051, 105.016885, 104.850974, 105.018023, 104.389078, 97.751182, 109.095994, 103.129641, 108.170918, 108.952861, 99.965098, 99.806497, 103.914578, 103.8855, 102.801993, 108.177666, 102.791514, 105.955875, 106.115138, 99.040044, 102.016353, 97.760922, 107.061116, 99.97986, 107.219814]\n",
      "countNetProfitGroupedBySoldDateWhereYearAfter2000 | node_15 durations: [96.765468, 104.919324, 104.77389, 104.928341, 104.133393, 97.693286, 109.022813, 102.87636, 108.089431, 108.879316, 99.877395, 99.733305, 103.826749, 103.827005, 102.721717, 108.099363, 102.726359, 105.86643, 106.026336, 98.928837, 101.935528, 97.674468, 106.953672, 99.895633, 107.14766]\n",
      "countNetProfitGroupedBySoldDateWhereYearAfter2000 | node_16 durations: [96.627249, 104.877334, 104.750732, 104.745041, 104.109688, 97.554223, 108.921953, 102.849078, 108.025447, 108.786008, 99.749908, 99.573547, 103.788205, 103.646236, 102.570162, 107.942295, 102.563269, 105.834905, 105.829195, 98.815821, 101.911923, 97.588633, 106.917485, 99.776956, 107.072328]\n",
      "countNetProfitGroupedBySoldDateWhereYearAfter2000 | node_17 durations: [96.551234, 104.791279, 104.638717, 104.687469, 103.860845, 97.476497, 108.77738, 102.754322, 107.917803, 108.718171, 99.636508, 99.514138, 103.644389, 103.627139, 102.536859, 107.907508, 102.605014, 105.756001, 105.735171, 98.682823, 101.84327, 97.496764, 106.70509, 99.584118, 107.054223]\n",
      "countNetProfitGroupedBySoldDateWhereYearAfter2000 | node_18 durations: [96.434037, 104.697072, 104.500702, 104.648806, 103.754809, 97.274401, 108.739712, 102.635201, 107.799304, 108.586235, 99.483875, 99.468963, 103.54551, 103.402756, 102.455237, 107.771794, 102.481767, 105.63459, 105.639061, 98.530943, 101.665328, 97.422421, 106.537523, 99.465488, 106.856925]\n",
      "countNetProfitGroupedBySoldDateWhereYearAfter2000 | node_19 durations: [96.247602, 104.477185, 104.334638, 104.495627, 103.690079, 97.268469, 108.582028, 102.596268, 107.63278, 108.415675, 99.469015, 99.329425, 103.378607, 103.296112, 102.285796, 107.646006, 102.279245, 105.527297, 105.573386, 98.491385, 101.630169, 97.376493, 106.352395, 99.421337, 106.704102]\n"
     ]
    }
   ],
   "source": [
    "preprocess_selected_function(function_names[4:8], workers_summary)"
   ],
   "metadata": {
    "collapsed": false,
    "pycharm": {
     "name": "#%%\n"
    }
   }
  },
  {
   "cell_type": "code",
   "execution_count": 15,
   "outputs": [
    {
     "data": {
      "text/plain": "4980643"
     },
     "execution_count": 15,
     "metadata": {},
     "output_type": "execute_result"
    }
   ],
   "source": [
    "gc.collect()"
   ],
   "metadata": {
    "collapsed": false,
    "pycharm": {
     "name": "#%%\n"
    }
   }
  },
  {
   "cell_type": "code",
   "execution_count": 16,
   "outputs": [
    {
     "name": "stdout",
     "output_type": "stream",
     "text": [
      "countWholeSaleCostGroupedBySoldDate | node_11 durations: [87.062889, 91.973628, 87.093185, 92.078315, 86.93812, 85.890847, 89.209882, 91.142132, 86.927334, 86.943104, 89.173888, 99.057538, 88.977095, 87.876296, 88.966295, 89.923414, 90.021583, 88.187119, 83.903123, 90.076528, 88.339159, 83.792643, 85.944721, 89.844022, 90.085871]\n",
      "countWholeSaleCostGroupedBySoldDate | node_12 durations: [86.940694, 91.794177, 86.977401, 91.966715, 86.797568, 85.730242, 89.113905, 91.015367, 86.812101, 86.816074, 88.982929, 98.9568, 88.794799, 87.773494, 88.825902, 89.914074, 89.915989, 88.136118, 83.712505, 89.91519, 88.205459, 83.697733, 85.781906, 89.769428, 89.990733]\n",
      "countWholeSaleCostGroupedBySoldDate | node_13 durations: [86.752741, 91.746285, 86.896553, 91.901919, 86.658424, 85.653866, 89.092905, 90.820267, 86.755846, 86.744293, 88.930312, 98.881885, 88.754753, 87.678111, 88.772118, 89.698823, 89.86668, 88.009599, 83.63461, 89.875837, 88.14397, 83.63066, 85.677841, 89.726062, 90.016438]\n",
      "countWholeSaleCostGroupedBySoldDate | node_14 durations: [86.645025, 91.594019, 86.77229, 91.910572, 86.571551, 85.611952, 88.935124, 90.841579, 86.589443, 86.704416, 88.77722, 98.728141, 88.598319, 87.622827, 88.589586, 89.711769, 89.716511, 87.89351, 83.622461, 89.775354, 87.994662, 83.555098, 85.511965, 89.559797, 89.930202]\n",
      "countWholeSaleCostGroupedBySoldDate | node_15 durations: [86.648708, 91.520459, 86.627514, 91.69096, 86.373798, 85.513558, 88.817089, 90.733302, 86.535739, 86.64969, 88.730487, 98.614335, 88.531072, 87.423651, 88.569927, 89.514674, 89.657101, 87.723931, 83.447379, 89.552831, 87.917375, 83.490813, 85.533395, 89.470306, 89.682436]\n",
      "countWholeSaleCostGroupedBySoldDate | node_16 durations: [86.534587, 91.332231, 86.527553, 91.646417, 86.35791, 85.429827, 88.86234, 90.560825, 86.359187, 86.536369, 88.558644, 98.569656, 88.466164, 87.454994, 88.390632, 89.48068, 89.621366, 87.768509, 83.416905, 89.479677, 87.766515, 83.408452, 85.424992, 89.468825, 89.640536]\n",
      "countWholeSaleCostGroupedBySoldDate | node_17 durations: [86.223021, 91.31584, 86.44121, 91.469513, 86.198133, 85.260852, 88.71299, 90.424931, 86.367566, 86.364929, 88.528722, 98.498181, 88.375204, 87.292679, 88.394332, 89.355659, 89.470619, 87.603221, 83.248008, 89.470092, 87.764981, 83.292859, 85.277221, 89.315897, 89.624217]\n",
      "countWholeSaleCostGroupedBySoldDate | node_18 durations: [86.103273, 91.291507, 86.43193, 91.454976, 86.084807, 85.245391, 88.616938, 90.358294, 86.238471, 86.233048, 88.45756, 98.359533, 88.15146, 87.207385, 88.287405, 89.247054, 89.40798, 87.515351, 83.116802, 89.379984, 87.624539, 83.089377, 85.162087, 89.251316, 89.398079]\n",
      "countWholeSaleCostGroupedBySoldDate | node_19 durations: [86.042523, 91.097626, 86.271655, 91.237138, 86.052764, 85.085396, 88.412893, 90.290899, 86.198467, 86.143065, 88.208949, 98.199776, 88.096103, 87.14707, 88.145975, 89.179266, 89.365595, 87.382013, 83.050198, 89.202161, 87.468437, 83.00851, 85.095467, 89.099746, 89.336979]\n",
      "filterCatalogSalesWhereProfitNegative | node_11 durations: [22.17019, 22.007665, 22.011031, 22.011485, 22.161817, 22.334642, 22.966296, 21.991296, 22.173836, 22.008057, 22.005384, 22.967119, 22.008963, 24.211775, 24.014524, 22.157162, 22.005242, 23.105363, 23.261947, 24.058724, 23.106675, 22.328277, 22.01224, 22.147129, 22.008129]\n",
      "filterCatalogSalesWhereProfitNegative | node_12 durations: [22.005044, 21.980203, 21.912274, 21.924924, 22.131129, 22.290437, 22.916153, 21.972882, 22.136989, 21.985994, 21.979202, 22.908783, 22.007511, 24.127096, 23.989608, 22.160041, 21.979714, 23.030933, 23.180721, 23.985628, 22.892159, 22.124856, 21.955066, 22.145992, 21.988635]\n",
      "filterCatalogSalesWhereProfitNegative | node_13 durations: [21.957885, 21.907346, 21.801088, 21.798555, 21.954955, 22.115575, 22.892153, 21.797838, 22.059282, 21.805005, 21.886375, 22.891261, 21.803558, 23.983006, 23.833491, 21.958464, 21.803445, 22.894166, 23.04563, 23.820864, 22.891234, 22.119548, 21.80347, 21.957703, 21.79958]\n",
      "filterCatalogSalesWhereProfitNegative | node_14 durations: [21.906082, 21.76542, 21.763003, 21.754904, 21.904616, 22.070254, 22.703147, 21.749598, 21.902954, 21.768018, 21.689644, 22.69488, 21.744187, 23.96726, 23.72791, 21.896025, 21.695798, 22.838731, 22.86994, 23.803106, 22.687497, 21.901597, 21.740213, 21.754797, 21.763103]\n",
      "filterCatalogSalesWhereProfitNegative | node_15 durations: [21.683644, 21.567754, 21.587824, 21.740037, 21.876316, 21.972428, 22.652809, 21.717935, 21.8758, 21.591166, 21.572123, 22.601932, 21.568973, 23.785021, 23.691974, 21.730722, 21.71527, 22.606771, 22.825668, 23.629469, 22.684099, 21.889592, 21.576511, 21.583562, 21.665965]\n",
      "filterCatalogSalesWhereProfitNegative | node_16 durations: [21.627054, 21.474034, 21.468554, 21.60177, 21.623867, 21.77781, 22.558885, 21.621479, 21.778296, 21.620973, 21.467549, 22.558912, 21.622203, 23.80008, 23.647482, 21.705999, 21.569366, 22.560559, 22.715358, 23.489149, 22.559688, 21.742087, 21.468082, 21.470106, 21.624917]\n",
      "filterCatalogSalesWhereProfitNegative | node_17 durations: [21.492547, 21.415529, 21.493692, 21.519653, 21.415725, 21.789972, 22.4289, 21.486993, 21.584881, 21.419414, 21.502733, 22.509292, 21.480075, 23.679667, 23.420309, 21.650305, 21.485137, 22.42864, 22.589029, 23.527836, 22.419273, 21.736863, 21.491781, 21.497702, 21.496054]\n",
      "filterCatalogSalesWhereProfitNegative | node_18 durations: [21.399018, 21.377941, 21.381014, 21.362235, 21.349333, 21.680866, 22.317389, 21.368229, 21.533558, 21.375845, 21.353361, 22.3185, 21.369501, 23.569165, 23.41601, 21.532338, 21.360588, 22.322563, 22.629947, 23.413115, 22.313499, 21.51993, 21.389095, 21.368993, 21.35671]\n",
      "filterCatalogSalesWhereProfitNegative | node_19 durations: [21.300395, 21.211861, 21.260901, 21.262975, 21.261203, 21.594646, 22.3386, 21.28049, 21.419364, 21.211558, 21.269009, 22.205902, 21.271762, 23.462369, 23.333687, 21.425941, 21.246465, 22.218935, 22.521006, 23.268542, 22.309143, 21.50806, 21.249559, 21.264401, 21.238468]\n",
      "filterCatalogSalesWhereProfitNegativeAndYearAfter2000 | node_11 durations: [28.295708, 28.155133, 29.089238, 28.140779, 27.378106, 28.143324, 27.04652, 28.141206, 29.097816, 28.317267, 27.044249, 27.361691, 28.303473, 28.15309, 28.157621, 28.301633, 27.062182, 27.356288, 28.474933, 29.086825, 28.299944, 28.142252, 28.15725, 28.1429, 28.146618]\n",
      "filterCatalogSalesWhereProfitNegativeAndYearAfter2000 | node_12 durations: [28.213958, 28.042528, 29.141733, 27.96767, 27.287228, 28.133498, 26.982755, 28.013276, 28.982272, 28.218933, 27.019521, 26.985177, 28.270042, 28.096431, 28.049433, 28.116898, 26.969473, 27.354452, 28.36795, 29.007592, 28.206166, 27.958309, 27.982647, 28.081269, 27.950386]\n",
      "filterCatalogSalesWhereProfitNegativeAndYearAfter2000 | node_13 durations: [28.18328, 27.887137, 28.967492, 27.874877, 27.25218, 28.031275, 26.953008, 27.870262, 28.961821, 28.031148, 26.939529, 26.943277, 28.032288, 27.866832, 27.880644, 28.046232, 26.943899, 27.079282, 28.341337, 28.96707, 28.184027, 27.869267, 27.871386, 27.893229, 27.876166]\n",
      "filterCatalogSalesWhereProfitNegativeAndYearAfter2000 | node_14 durations: [28.049563, 27.907362, 28.860403, 27.80183, 27.108129, 27.888423, 26.799143, 27.814779, 28.855179, 27.972742, 26.785206, 26.884608, 28.058088, 27.90936, 27.740404, 27.907077, 26.789351, 26.960883, 28.206239, 28.851272, 27.976132, 27.818726, 27.811703, 27.896599, 27.890671]\n",
      "filterCatalogSalesWhereProfitNegativeAndYearAfter2000 | node_15 durations: [27.945076, 27.710267, 28.826669, 27.706348, 27.085345, 27.724186, 26.782107, 27.683811, 28.814234, 27.857207, 26.613805, 26.791406, 27.934622, 27.727516, 27.721596, 27.890208, 26.761187, 26.848866, 28.105077, 28.801796, 27.869376, 27.721763, 27.714976, 27.729502, 27.719787]\n",
      "filterCatalogSalesWhereProfitNegativeAndYearAfter2000 | node_16 durations: [27.826814, 27.693822, 28.62657, 27.661348, 26.918009, 27.691228, 26.603823, 27.694078, 28.62999, 27.847669, 26.596383, 26.602548, 27.842144, 27.688427, 27.686835, 27.686825, 26.597189, 26.762952, 27.999492, 28.627838, 27.846824, 27.691244, 27.639773, 27.69515, 27.69027]\n",
      "filterCatalogSalesWhereProfitNegativeAndYearAfter2000 | node_17 durations: [27.649232, 27.556483, 28.65339, 27.463349, 26.78523, 27.569603, 26.46906, 27.60947, 28.50295, 27.69927, 26.467951, 26.533834, 27.719121, 27.463428, 27.475431, 27.57753, 26.536892, 26.636547, 27.925078, 28.543115, 27.675977, 27.556799, 27.566431, 27.567516, 27.510119]\n",
      "filterCatalogSalesWhereProfitNegativeAndYearAfter2000 | node_18 durations: [27.680102, 27.385697, 28.462654, 27.50588, 26.740961, 27.521038, 26.424768, 27.50737, 28.459978, 27.65188, 26.420635, 26.43074, 27.659605, 27.499118, 27.351693, 27.521802, 26.432137, 26.555639, 27.668028, 28.483277, 27.523019, 27.374038, 27.500146, 27.500538, 27.356172]\n",
      "filterCatalogSalesWhereProfitNegativeAndYearAfter2000 | node_19 durations: [27.494501, 27.266899, 28.336672, 27.394174, 26.630807, 27.412534, 26.353689, 27.408858, 28.26892, 27.481822, 26.217197, 26.400039, 27.585393, 27.406018, 27.256117, 27.423661, 26.306116, 26.242485, 27.59695, 28.341476, 27.455921, 27.317407, 27.396252, 27.417215, 27.251787]\n",
      "filterCatalogSalesWhereYearAfter2000 | node_11 durations: [27.207069, 27.059646, 27.065315, 29.095429, 29.557075, 27.070922, 27.36229, 28.154531, 28.289514, 28.137564, 27.508555, 27.062652, 28.140697, 26.27217, 27.058973, 28.145839, 29.088873, 27.363064, 27.032881, 28.303848, 27.198617, 28.303139, 27.200254, 28.299287, 26.102357]\n",
      "filterCatalogSalesWhereYearAfter2000 | node_12 durations: [27.115807, 26.965592, 26.999777, 28.993276, 29.381635, 27.026846, 26.97301, 28.138983, 28.186593, 28.062267, 27.262807, 26.951047, 28.00795, 26.195244, 26.97144, 27.961964, 29.084703, 27.304426, 26.977307, 28.21953, 26.975312, 28.182719, 26.946217, 28.23474, 25.942912]\n",
      "filterCatalogSalesWhereYearAfter2000 | node_13 durations: [26.927588, 26.925002, 26.934816, 28.965105, 29.1224, 26.941485, 26.941895, 28.03165, 28.030279, 27.874674, 27.253725, 26.932551, 27.87804, 25.862218, 26.946827, 27.87375, 28.960361, 27.095226, 26.940311, 27.991081, 26.938608, 28.028376, 26.935701, 28.189357, 25.850446]\n",
      "filterCatalogSalesWhereYearAfter2000 | node_14 durations: [26.785542, 26.788499, 26.807545, 28.882984, 28.993364, 26.785088, 26.799628, 27.893109, 27.910862, 27.748409, 27.118295, 26.790889, 27.763495, 25.847205, 26.809974, 27.827433, 28.868058, 27.108929, 26.804358, 27.889796, 26.776436, 27.912316, 26.790287, 28.080687, 25.845622]\n",
      "filterCatalogSalesWhereYearAfter2000 | node_15 durations: [26.787483, 26.759873, 26.752643, 28.727662, 28.979611, 26.758592, 26.642028, 27.710626, 27.942008, 27.726307, 27.072578, 26.617617, 27.705943, 25.671206, 26.701412, 27.72167, 28.819842, 26.946214, 26.765745, 27.859085, 26.775669, 27.855857, 26.759397, 27.876715, 25.674786]\n",
      "filterCatalogSalesWhereYearAfter2000 | node_16 durations: [26.608862, 26.606291, 26.602234, 28.62702, 28.787639, 26.596818, 26.599783, 27.685693, 27.851033, 27.702492, 26.921466, 26.602978, 27.692943, 25.672143, 26.605804, 27.692041, 28.630915, 26.60481, 26.60644, 27.690796, 26.600174, 27.693659, 26.599366, 27.847438, 25.516747]\n",
      "filterCatalogSalesWhereYearAfter2000 | node_17 durations: [26.503847, 26.474217, 26.447864, 28.50714, 28.658073, 26.484309, 26.554237, 27.559392, 27.636685, 27.46812, 26.928566, 26.505025, 27.476029, 25.539721, 26.49657, 27.593678, 28.494639, 26.517999, 26.453258, 27.709884, 26.536319, 27.623188, 26.502914, 27.776742, 25.548461]\n",
      "filterCatalogSalesWhereYearAfter2000 | node_18 durations: [26.400718, 26.426875, 26.406538, 28.485479, 28.632366, 26.409841, 26.420336, 27.507824, 27.655463, 27.521105, 26.764491, 26.396189, 27.502479, 25.47512, 26.420809, 27.500601, 28.468091, 26.409114, 26.400106, 27.513666, 26.406153, 27.52355, 26.404478, 27.684442, 25.32684]\n",
      "filterCatalogSalesWhereYearAfter2000 | node_19 durations: [26.315088, 26.303866, 26.303952, 28.28542, 28.512924, 26.353618, 26.319361, 27.404778, 27.418078, 27.341693, 26.61366, 26.295492, 27.271228, 25.344473, 26.29285, 27.263326, 28.355461, 26.463591, 26.294429, 27.397758, 26.300804, 27.372795, 26.293404, 27.399087, 25.356666]\n"
     ]
    }
   ],
   "source": [
    "preprocess_selected_function(function_names[8:12], workers_summary)"
   ],
   "metadata": {
    "collapsed": false,
    "pycharm": {
     "name": "#%%\n"
    }
   }
  },
  {
   "cell_type": "code",
   "execution_count": 17,
   "outputs": [
    {
     "data": {
      "text/plain": "5059297"
     },
     "execution_count": 17,
     "metadata": {},
     "output_type": "execute_result"
    }
   ],
   "source": [
    "gc.collect()"
   ],
   "metadata": {
    "collapsed": false,
    "pycharm": {
     "name": "#%%\n"
    }
   }
  },
  {
   "cell_type": "code",
   "execution_count": 18,
   "outputs": [
    {
     "name": "stdout",
     "output_type": "stream",
     "text": [
      "filterStoreSalesWhereProfitNegative | node_11 durations: [28.457978, 28.306069, 29.09073, 28.299063, 28.296141, 28.14698, 26.291294, 26.273867, 27.139326, 28.142481, 27.058048, 27.227028, 27.157048, 29.244512, 28.143678, 27.358965, 26.25543, 28.084672, 26.25813, 28.13543, 28.091728, 28.150212, 27.035579, 29.089944, 29.246602]\n",
      "filterStoreSalesWhereProfitNegative | node_12 durations: [28.380107, 28.207359, 28.997939, 28.207988, 28.10552, 28.095105, 26.209703, 26.194642, 26.961309, 28.071607, 26.983207, 27.126799, 27.032572, 29.207615, 28.066614, 27.27205, 26.188263, 28.05079, 26.129633, 28.062815, 28.051049, 28.087707, 26.987303, 28.994067, 29.267047]\n",
      "filterStoreSalesWhereProfitNegative | node_13 durations: [28.166756, 28.100584, 28.962781, 28.023774, 28.028338, 27.876882, 25.859817, 26.009055, 26.902393, 27.871448, 26.936741, 26.936771, 26.9339, 29.125517, 27.873727, 27.244041, 26.001364, 27.880803, 26.000607, 27.954151, 27.991244, 28.032314, 26.937564, 28.969574, 29.077164]\n",
      "filterStoreSalesWhereProfitNegative | node_14 durations: [28.143267, 28.050805, 28.835702, 28.05885, 27.904168, 27.892531, 25.705329, 26.006507, 26.79797, 27.818676, 26.713508, 26.791786, 26.785487, 29.025289, 27.890138, 26.877656, 25.944058, 27.739351, 26.007057, 27.741579, 27.742988, 27.897418, 26.878523, 28.843434, 28.921255]\n",
      "filterStoreSalesWhereProfitNegative | node_15 durations: [28.036253, 27.962482, 28.810386, 27.866912, 27.885661, 27.710873, 25.751656, 25.812863, 26.686475, 27.714352, 26.625043, 26.782604, 26.753673, 28.800958, 27.720421, 26.753178, 25.817645, 27.788279, 25.83177, 27.702768, 27.723107, 27.867749, 26.756497, 28.80907, 28.808405]\n",
      "filterStoreSalesWhereProfitNegative | node_16 durations: [28.007638, 27.844765, 28.621751, 27.849698, 27.701786, 27.629146, 25.662795, 25.824035, 26.606235, 27.640682, 26.597166, 26.603995, 26.60438, 28.780528, 27.641913, 26.756031, 25.827622, 27.675924, 25.670903, 27.532592, 27.534706, 27.694882, 26.600387, 28.628116, 28.778753]\n",
      "filterStoreSalesWhereProfitNegative | node_17 durations: [27.883893, 27.717396, 28.643276, 27.780261, 27.725362, 27.590087, 25.534126, 25.674214, 26.476849, 27.550172, 26.538417, 26.458703, 26.474487, 28.651905, 27.604857, 26.6315, 25.700023, 27.555572, 25.53261, 27.561181, 27.55896, 27.562261, 26.590549, 28.529273, 28.661015]\n",
      "filterStoreSalesWhereProfitNegative | node_18 durations: [27.765983, 27.670358, 28.451845, 27.667779, 27.519952, 27.503522, 25.464664, 25.618505, 26.40425, 27.470199, 26.407408, 26.379619, 26.407584, 28.610007, 27.507531, 26.518989, 25.58765, 27.348877, 25.436592, 27.470556, 27.34799, 27.505759, 26.407134, 28.452245, 28.607355]\n",
      "filterStoreSalesWhereProfitNegative | node_19 durations: [27.656541, 27.570436, 28.352806, 27.565946, 27.41648, 27.407007, 25.240752, 25.510709, 26.311512, 27.333353, 26.304041, 26.313059, 26.31992, 28.445011, 27.403975, 26.389248, 25.504423, 27.267284, 25.439617, 27.263158, 27.264684, 27.416164, 26.304813, 28.425909, 28.506533]\n",
      "filterStoreSalesWhereProfitNegativeAndYearAfter2000 | node_11 durations: [35.22085, 33.183868, 35.22961, 33.179463, 33.333172, 33.174149, 33.345294, 33.182036, 33.158816, 33.353021, 34.27706, 33.298843, 33.343971, 34.122163, 32.233963, 34.134816, 34.119825, 32.34706, 33.355921, 35.220927, 33.285615, 33.172578, 33.44795, 34.241296, 35.225683]\n",
      "filterStoreSalesWhereProfitNegativeAndYearAfter2000 | node_12 durations: [35.153083, 33.028014, 35.13393, 33.10176, 33.33892, 33.085948, 33.195427, 33.01599, 33.04521, 33.356874, 34.174124, 33.192759, 33.320401, 34.064452, 32.000033, 34.100322, 34.027588, 32.158005, 33.266066, 35.196483, 33.097586, 33.050451, 33.26409, 34.132557, 35.219625]\n",
      "filterStoreSalesWhereProfitNegativeAndYearAfter2000 | node_13 durations: [35.034048, 33.017137, 35.044351, 33.018551, 33.16666, 33.013442, 33.172463, 33.016139, 33.007538, 33.175425, 34.100686, 33.172277, 33.175013, 33.951436, 31.923984, 33.954935, 33.955466, 31.977091, 33.163512, 35.031805, 33.016832, 33.015207, 33.17099, 33.950364, 35.029227]\n",
      "filterStoreSalesWhereProfitNegativeAndYearAfter2000 | node_14 durations: [34.849585, 32.933138, 34.84576, 32.933988, 33.104641, 32.94216, 33.11669, 32.951781, 32.94702, 33.016043, 33.87586, 32.94057, 33.008328, 33.87824, 31.89985, 33.873909, 33.881232, 31.836379, 33.107221, 34.984171, 32.940653, 32.94797, 33.109086, 33.894073, 34.899248]\n",
      "filterStoreSalesWhereProfitNegativeAndYearAfter2000 | node_15 durations: [34.808042, 32.755152, 34.869899, 32.738109, 32.920499, 32.767718, 32.815862, 32.76595, 32.776365, 32.978026, 33.873404, 32.91478, 32.896556, 33.729757, 31.733493, 33.834362, 33.851292, 31.82173, 32.920312, 34.820712, 32.765705, 32.771057, 32.922328, 33.754581, 34.863652]\n",
      "filterStoreSalesWhereProfitNegativeAndYearAfter2000 | node_16 durations: [34.705109, 32.664914, 34.694963, 32.665174, 32.828806, 32.672442, 32.66683, 32.665431, 32.671414, 32.832385, 33.767718, 32.82882, 32.833059, 33.75913, 31.751217, 33.760758, 33.764831, 31.734483, 32.827858, 34.691581, 32.667219, 32.671681, 32.829141, 33.761173, 34.697495]\n",
      "filterStoreSalesWhereProfitNegativeAndYearAfter2000 | node_17 durations: [34.558184, 32.551254, 34.564972, 32.543361, 32.851095, 32.548824, 32.551712, 32.553399, 32.542574, 32.737374, 33.636224, 32.669824, 32.697832, 33.549119, 31.616484, 33.623781, 33.64003, 31.629954, 32.708197, 34.616799, 32.542817, 32.655927, 32.823597, 33.645101, 34.57182]\n",
      "filterStoreSalesWhereProfitNegativeAndYearAfter2000 | node_18 durations: [34.581429, 32.495741, 34.567754, 32.567687, 32.632571, 32.539231, 32.423474, 32.493186, 32.543436, 32.692329, 33.472761, 32.548406, 32.689061, 33.481363, 31.460694, 33.510665, 33.485984, 31.43194, 32.651235, 34.581308, 32.535643, 32.51131, 32.687636, 33.490904, 34.571437]\n",
      "filterStoreSalesWhereProfitNegativeAndYearAfter2000 | node_19 durations: [34.483621, 32.297726, 34.358489, 32.375334, 32.511428, 32.442983, 32.33484, 32.441681, 32.362589, 32.622383, 33.470739, 32.451964, 32.505098, 33.394687, 31.38437, 33.38234, 33.413492, 31.353967, 32.460924, 34.511026, 32.465812, 32.449463, 32.616828, 33.314096, 34.367729]\n",
      "filterStoreSalesWhereYearAfter2000 | node_11 durations: [29.236947, 30.186066, 30.182032, 30.183053, 29.546297, 30.183134, 30.177058, 30.174375, 29.068323, 30.174654, 29.084072, 29.224665, 30.196179, 30.180005, 31.294958, 30.182793, 31.121844, 30.16378, 30.194461, 31.125207, 30.178543, 30.185699, 30.183848, 30.17073, 30.168316]\n",
      "filterStoreSalesWhereYearAfter2000 | node_12 durations: [29.138808, 30.073085, 30.070423, 30.014764, 29.349298, 30.132724, 30.057677, 30.027127, 28.986109, 30.085277, 28.991402, 28.993883, 30.022765, 30.089531, 31.15289, 30.081599, 31.014342, 30.089352, 30.074881, 31.054944, 30.082993, 30.079095, 30.083932, 30.084043, 30.126819]\n",
      "filterStoreSalesWhereYearAfter2000 | node_13 durations: [28.99074, 29.89578, 29.903272, 29.904163, 29.275212, 29.882496, 29.907213, 29.896188, 28.968223, 29.900406, 28.986942, 28.963677, 29.898638, 29.950373, 30.98854, 29.904388, 30.990144, 30.05121, 29.900801, 30.987025, 29.888781, 29.897125, 29.900396, 29.904346, 30.043144]\n",
      "filterStoreSalesWhereYearAfter2000 | node_14 durations: [28.836085, 29.876846, 29.863682, 29.848341, 28.997968, 29.781164, 29.790535, 29.780885, 28.830159, 29.80897, 28.761913, 28.849555, 29.858259, 29.791405, 30.901283, 29.785108, 30.897196, 29.866336, 29.946658, 30.895322, 29.868346, 29.861071, 29.782079, 29.788549, 29.946822]\n",
      "filterStoreSalesWhereYearAfter2000 | node_15 durations: [28.67443, 29.679235, 29.748636, 29.773436, 28.985608, 29.763937, 29.76089, 29.760469, 28.812294, 29.775614, 28.722033, 28.729994, 29.827657, 29.683631, 30.874683, 29.755027, 30.871779, 29.748201, 29.778387, 30.857898, 29.750255, 29.77057, 29.769537, 29.769758, 29.762038]\n",
      "filterStoreSalesWhereYearAfter2000 | node_16 durations: [28.628152, 29.720052, 29.722055, 29.71774, 28.786438, 29.714556, 29.564498, 29.563848, 28.590799, 29.563363, 28.62483, 28.625479, 29.716681, 29.71397, 30.805422, 29.715326, 30.652617, 29.722359, 29.723402, 30.652608, 29.722295, 29.728182, 29.71774, 29.717082, 29.869532]\n",
      "filterStoreSalesWhereYearAfter2000 | node_17 durations: [28.530651, 29.635567, 29.515595, 29.56578, 28.787802, 29.580613, 29.462612, 29.461524, 28.565823, 29.472031, 28.50376, 28.64872, 29.580832, 29.555972, 30.657914, 29.496735, 30.630492, 29.622038, 29.649674, 30.641798, 29.616703, 29.648519, 29.534382, 29.539114, 29.740935]\n",
      "filterStoreSalesWhereYearAfter2000 | node_18 durations: [28.444665, 29.434066, 29.432565, 29.403789, 28.583339, 29.381436, 29.380161, 29.384615, 28.438851, 29.396115, 28.440173, 28.477674, 29.531223, 29.402249, 30.486259, 29.581123, 30.453063, 29.543314, 29.541421, 30.482416, 29.405892, 29.41437, 29.409664, 29.378343, 29.69917]\n",
      "filterStoreSalesWhereYearAfter2000 | node_19 durations: [28.373581, 29.302017, 29.292863, 29.304065, 28.504226, 29.370279, 29.305849, 29.298217, 28.353672, 29.363999, 28.281337, 28.36221, 29.307396, 29.306504, 30.433018, 29.494804, 30.460599, 29.380892, 29.295179, 30.406231, 29.308442, 29.346802, 29.3725, 29.303349, 29.610959]\n",
      "maxNetProfitGroupedBySoldDate | node_11 durations: [86.940107, 91.028987, 85.990594, 85.848909, 83.805718, 88.978937, 90.086957, 91.079432, 85.028331, 88.936515, 89.982943, 89.001544, 92.126225, 88.225924, 91.040902, 86.007564, 90.090749, 88.979931, 91.026198, 84.983993, 87.043986, 89.085713, 90.001705, 89.147151, 90.073938]\n",
      "maxNetProfitGroupedBySoldDate | node_12 durations: [86.863101, 90.943313, 85.90053, 85.719894, 83.775975, 88.874556, 89.962502, 91.011082, 84.948153, 88.828129, 89.923748, 88.855099, 91.952863, 88.209593, 90.870719, 85.870312, 89.937439, 88.808898, 90.915612, 84.925399, 86.945144, 89.058508, 89.942146, 88.970168, 89.967644]\n",
      "maxNetProfitGroupedBySoldDate | node_13 durations: [86.75565, 90.804856, 85.822184, 85.741619, 83.61549, 88.779888, 89.867185, 90.946117, 84.874994, 88.659163, 89.872012, 88.776915, 91.887159, 87.990624, 90.801266, 85.813561, 89.862903, 88.785803, 90.69996, 84.882303, 86.905738, 88.918085, 89.787432, 88.937456, 89.877248]\n",
      "maxNetProfitGroupedBySoldDate | node_14 durations: [86.734832, 90.672812, 85.765481, 85.620699, 83.452542, 88.59308, 89.716392, 90.714896, 84.822591, 88.607016, 89.709554, 88.611119, 91.756449, 87.974295, 90.648889, 85.681853, 89.679277, 88.614435, 90.679336, 84.675708, 86.862637, 88.782, 89.692035, 88.774051, 89.870163]\n",
      "maxNetProfitGroupedBySoldDate | node_15 durations: [86.627288, 90.571896, 85.709797, 85.526609, 83.487249, 88.59963, 89.627016, 90.733793, 84.617822, 88.507887, 89.613683, 88.59305, 91.645244, 87.786079, 90.587558, 85.693116, 89.612966, 88.574526, 90.587952, 84.575536, 86.642835, 88.728409, 89.480273, 88.733484, 89.790524]\n",
      "maxNetProfitGroupedBySoldDate | node_16 durations: [86.389988, 90.430117, 85.591757, 85.417144, 83.409316, 88.400088, 89.481824, 90.554247, 84.500747, 88.394198, 89.597488, 88.381223, 91.649867, 87.70084, 90.50327, 85.575605, 89.472283, 88.409404, 90.41838, 84.492873, 86.663317, 88.553252, 89.468533, 88.685001, 89.626478]\n",
      "maxNetProfitGroupedBySoldDate | node_17 durations: [86.37453, 90.43176, 85.386437, 85.268772, 83.258182, 88.402328, 89.505343, 90.571858, 84.511576, 88.241869, 89.505453, 88.293769, 91.539448, 87.625213, 90.326972, 85.439212, 89.478519, 88.397673, 90.290315, 84.340898, 86.439296, 88.553809, 89.335068, 88.449065, 89.633836]\n",
      "maxNetProfitGroupedBySoldDate | node_18 durations: [86.264524, 90.19878, 85.32164, 85.216255, 83.125158, 88.322543, 89.259966, 90.35449, 84.383545, 88.15012, 89.425028, 88.172667, 91.451329, 87.53068, 90.200052, 85.33503, 89.26312, 88.165643, 90.205131, 84.247926, 86.41365, 88.461748, 89.265959, 88.352448, 89.370613]\n",
      "maxNetProfitGroupedBySoldDate | node_19 durations: [86.192409, 90.208651, 85.243844, 85.074785, 83.024105, 88.086192, 89.197238, 90.239122, 84.168901, 88.104671, 89.210108, 88.118618, 91.23436, 87.477949, 90.145959, 85.264587, 89.136143, 88.178658, 90.133847, 84.207207, 86.353711, 88.260307, 89.194878, 88.265985, 89.190303]\n"
     ]
    }
   ],
   "source": [
    "preprocess_selected_function(function_names[12:16], workers_summary)"
   ],
   "metadata": {
    "collapsed": false,
    "pycharm": {
     "name": "#%%\n"
    }
   }
  },
  {
   "cell_type": "code",
   "execution_count": 19,
   "outputs": [
    {
     "data": {
      "text/plain": "4984525"
     },
     "execution_count": 19,
     "metadata": {},
     "output_type": "execute_result"
    }
   ],
   "source": [
    "gc.collect()"
   ],
   "metadata": {
    "collapsed": false,
    "pycharm": {
     "name": "#%%\n"
    }
   }
  },
  {
   "cell_type": "code",
   "execution_count": 20,
   "outputs": [
    {
     "name": "stdout",
     "output_type": "stream",
     "text": [
      "maxNetProfitGroupedBySoldDateWhereProfitNegative | node_11 durations: [91.017589, 92.906581, 88.186944, 87.23987, 93.09427, 86.102387, 81.352671, 90.087258, 92.122352, 88.95045, 92.888663, 93.984237, 93.003548, 82.828082, 86.913372, 85.919045, 90.109815, 89.122077, 91.020374, 93.368989, 93.143097, 84.148469, 88.961259, 91.964322, 87.076159]\n",
      "maxNetProfitGroupedBySoldDateWhereProfitNegative | node_12 durations: [90.859902, 92.891222, 88.079784, 87.098624, 92.96578, 86.021493, 81.172767, 89.948286, 92.0293, 88.803851, 92.778571, 93.94938, 92.882382, 82.751776, 86.857093, 85.865702, 90.066139, 88.97966, 90.858267, 93.191883, 93.033706, 84.002706, 88.836891, 91.939831, 86.953755]\n",
      "maxNetProfitGroupedBySoldDateWhereProfitNegative | node_13 durations: [90.705653, 92.816703, 87.99171, 87.074365, 92.973658, 85.819745, 81.15618, 89.853373, 91.901565, 88.640758, 92.68175, 93.935113, 92.67743, 82.638257, 86.742056, 85.664592, 89.873516, 88.846729, 90.861278, 93.164281, 92.97136, 83.861212, 88.777214, 91.744262, 86.9643]\n",
      "maxNetProfitGroupedBySoldDateWhereProfitNegative | node_14 durations: [90.557728, 92.633097, 87.894114, 86.868174, 92.85942, 85.829288, 81.055943, 89.721316, 91.817226, 88.613494, 92.586119, 93.824647, 92.721331, 82.47632, 86.55173, 85.527144, 89.875851, 88.793915, 90.705475, 93.083422, 92.87427, 83.795658, 88.787324, 91.776967, 86.878849]\n",
      "maxNetProfitGroupedBySoldDateWhereProfitNegative | node_15 durations: [90.581904, 92.620322, 87.80244, 86.845695, 92.803457, 85.707428, 80.87631, 89.655595, 91.773119, 88.456906, 92.487092, 93.602031, 92.630985, 82.388414, 86.500427, 85.434575, 89.772484, 88.703601, 90.594068, 92.957553, 92.784487, 83.651974, 88.710628, 91.627852, 86.64904]\n",
      "maxNetProfitGroupedBySoldDateWhereProfitNegative | node_16 durations: [90.418956, 92.433668, 87.755892, 86.681224, 92.602382, 85.604393, 80.756312, 89.48367, 91.658786, 88.401146, 92.427796, 93.528555, 92.439186, 82.334622, 86.363811, 85.440639, 89.629423, 88.55884, 90.427063, 92.75715, 92.594257, 83.586393, 88.537359, 91.504459, 86.674014]\n",
      "maxNetProfitGroupedBySoldDateWhereProfitNegative | node_17 durations: [90.381003, 92.275063, 87.593596, 86.608808, 92.596362, 85.425727, 80.760753, 89.470884, 91.642502, 88.373713, 92.284862, 93.526835, 92.296532, 82.307491, 86.385028, 85.287212, 89.511533, 88.453956, 90.392367, 92.735089, 92.544948, 83.542874, 88.418976, 91.337091, 86.490391]\n",
      "maxNetProfitGroupedBySoldDateWhereProfitNegative | node_18 durations: [90.191491, 92.294447, 87.500307, 86.57902, 92.236768, 85.305824, 80.606589, 89.241599, 91.449322, 88.144744, 92.251333, 93.322406, 92.222984, 82.222212, 86.260156, 85.170384, 89.399964, 88.45349, 90.347193, 92.70036, 92.529345, 83.42282, 88.359699, 91.331571, 86.403498]\n",
      "maxNetProfitGroupedBySoldDateWhereProfitNegative | node_19 durations: [90.127144, 92.083673, 87.476011, 86.381781, 92.228584, 85.33391, 80.517173, 89.229799, 91.387226, 88.10843, 92.191763, 93.212116, 92.211029, 82.035215, 86.190982, 85.112317, 89.253411, 88.305369, 90.142444, 92.590929, 92.354654, 83.207057, 88.246656, 91.215959, 86.208802]\n",
      "maxNetProfitGroupedBySoldDateWhereYearAfter2000 | node_11 durations: [110.348933, 99.479525, 105.305835, 105.503735, 100.139024, 107.389651, 105.222459, 101.199622, 102.029931, 104.242575, 110.368694, 102.17451, 106.273228, 102.345439, 98.232523, 103.134693, 103.409064, 98.372044, 103.115836, 106.253899, 99.686637, 105.604644, 108.178109, 102.665047, 108.454944]\n",
      "maxNetProfitGroupedBySoldDateWhereYearAfter2000 | node_12 durations: [110.262249, 99.335397, 105.15998, 105.398088, 100.039021, 107.336896, 105.096545, 101.108442, 102.020974, 104.03722, 110.316545, 101.992522, 106.121774, 102.33861, 98.12483, 103.118332, 103.253597, 98.335836, 103.088079, 106.076809, 99.632564, 105.545442, 108.198716, 102.605157, 108.26474]\n",
      "maxNetProfitGroupedBySoldDateWhereYearAfter2000 | node_13 durations: [110.220102, 99.084791, 105.134128, 105.294793, 99.998682, 107.315551, 105.124551, 101.093857, 101.886926, 104.047262, 110.167788, 101.874397, 105.938873, 102.196148, 97.978162, 102.964688, 103.129179, 98.285641, 102.950852, 106.077493, 99.542103, 105.455254, 107.945033, 102.516618, 108.288722]\n",
      "maxNetProfitGroupedBySoldDateWhereYearAfter2000 | node_14 durations: [110.025857, 99.011913, 105.043639, 105.186955, 99.814047, 107.234965, 105.02358, 100.930601, 101.887595, 103.924163, 110.055958, 101.863143, 105.985954, 102.020766, 97.934692, 102.830555, 103.101183, 98.102021, 102.814994, 105.962912, 99.342386, 105.327164, 107.861532, 102.335149, 108.188758]\n",
      "maxNetProfitGroupedBySoldDateWhereYearAfter2000 | node_15 durations: [109.961641, 98.947904, 104.942632, 105.081487, 99.71633, 107.126886, 104.920931, 100.844074, 101.642307, 103.833237, 109.975319, 101.765201, 105.88285, 102.078127, 97.809674, 102.742221, 103.043178, 98.001823, 102.714124, 105.867652, 99.24018, 105.257189, 107.771067, 102.254745, 108.075697]\n",
      "maxNetProfitGroupedBySoldDateWhereYearAfter2000 | node_16 durations: [109.866084, 98.823298, 104.738711, 104.898194, 99.611837, 106.929448, 104.739588, 100.70528, 101.624846, 103.676859, 109.86842, 101.644761, 105.669245, 101.951328, 97.722633, 102.701653, 102.870905, 97.90223, 102.724337, 105.661519, 99.140733, 105.190486, 107.68658, 102.116229, 107.857826]\n",
      "maxNetProfitGroupedBySoldDateWhereYearAfter2000 | node_17 durations: [109.760836, 98.728056, 104.644797, 104.840569, 99.503512, 106.944309, 104.607537, 100.612844, 101.555012, 103.526285, 109.74345, 101.527247, 105.54772, 101.809802, 97.651907, 102.573721, 102.827127, 97.816227, 102.506281, 105.564724, 99.095343, 105.079337, 107.59127, 101.974803, 107.73308]\n",
      "maxNetProfitGroupedBySoldDateWhereYearAfter2000 | node_18 durations: [109.741019, 98.525371, 104.66235, 104.686924, 99.473218, 106.714208, 104.638887, 100.567329, 101.408911, 103.442539, 109.67687, 101.371133, 105.481931, 101.635381, 97.55697, 102.460776, 102.643758, 97.687706, 102.478894, 105.433847, 98.978463, 105.013083, 107.485089, 101.819778, 107.66372]\n",
      "maxNetProfitGroupedBySoldDateWhereYearAfter2000 | node_19 durations: [109.525396, 98.518252, 104.450584, 104.632303, 99.294804, 106.666788, 104.483021, 100.421212, 101.289899, 103.366968, 109.379478, 101.374504, 105.44547, 101.646824, 97.416925, 102.424248, 102.415028, 97.676618, 102.450589, 105.44112, 98.798984, 104.867738, 107.464862, 101.662194, 107.608382]\n",
      "maxWholeSaleCostGroupedBySoldDate | node_11 durations: [88.208222, 94.962551, 86.949989, 92.130307, 87.974413, 88.954845, 89.932309, 97.080247, 88.919171, 89.137033, 88.045058, 100.128278, 89.926338, 84.910961, 90.090109, 90.975261, 79.089382, 84.738946, 80.849363, 94.97322, 100.319918, 89.935894, 86.939432, 85.151877, 88.203094]\n",
      "maxWholeSaleCostGroupedBySoldDate | node_12 durations: [88.055485, 94.886397, 86.840055, 92.104989, 87.890274, 88.835564, 89.94469, 97.092061, 88.831308, 89.034898, 87.920767, 100.057568, 89.764419, 84.781031, 90.10116, 90.709691, 79.006059, 84.634009, 80.765091, 94.877041, 100.181207, 89.779498, 86.776568, 85.094944, 88.042245]\n",
      "maxWholeSaleCostGroupedBySoldDate | node_13 durations: [87.975007, 94.833653, 86.747881, 92.040765, 87.81721, 88.766134, 89.860254, 96.868593, 88.709588, 88.934902, 87.842084, 99.817591, 89.720166, 84.72141, 89.884055, 90.647091, 78.817257, 84.586443, 80.672129, 94.74194, 100.132379, 89.703328, 86.761145, 85.055386, 87.983422]\n",
      "maxWholeSaleCostGroupedBySoldDate | node_14 durations: [87.862312, 94.65643, 86.709406, 91.809997, 87.642626, 88.581699, 89.722701, 96.808064, 88.607819, 88.825825, 87.801313, 99.707753, 89.560649, 84.502845, 89.854619, 90.631822, 78.830074, 84.522179, 80.590845, 94.609028, 99.952211, 89.713368, 86.557087, 84.968584, 87.819998]\n",
      "maxWholeSaleCostGroupedBySoldDate | node_15 durations: [87.733004, 94.684879, 86.623661, 91.832182, 87.558663, 88.544688, 89.635587, 96.784614, 88.532721, 88.668162, 87.647818, 99.712907, 89.448802, 84.482017, 89.701532, 90.537066, 78.603823, 84.408027, 80.529657, 94.535599, 99.979092, 89.620089, 86.458383, 84.824568, 87.732443]\n",
      "maxWholeSaleCostGroupedBySoldDate | node_16 durations: [87.609051, 94.59903, 86.520682, 91.635064, 87.441529, 88.43005, 89.468393, 96.633967, 88.385524, 88.694365, 87.618677, 99.59389, 89.468599, 84.338922, 89.633518, 90.4082, 78.569077, 84.328508, 80.438334, 94.453445, 99.889229, 89.488315, 86.347921, 84.647911, 87.59866]\n",
      "maxWholeSaleCostGroupedBySoldDate | node_17 durations: [87.489571, 94.509745, 86.412212, 91.491937, 87.32648, 88.276845, 89.386129, 96.367969, 88.277997, 88.500097, 87.491997, 99.489267, 89.359799, 84.250353, 89.531466, 90.391713, 78.465413, 84.203214, 80.332569, 94.345682, 99.627066, 89.430523, 86.308245, 84.688017, 87.639684]\n",
      "maxWholeSaleCostGroupedBySoldDate | node_18 durations: [87.343551, 94.260638, 86.283057, 91.492649, 87.22936, 88.181419, 89.274645, 96.34706, 88.186391, 88.494686, 87.371148, 99.342398, 89.262712, 84.142617, 89.437882, 90.211766, 78.343015, 84.077362, 80.160137, 94.300068, 99.654251, 89.221367, 86.135919, 84.559618, 87.476702]\n",
      "maxWholeSaleCostGroupedBySoldDate | node_19 durations: [87.301056, 94.241433, 86.245455, 91.284001, 87.234543, 88.113424, 89.18339, 96.172485, 88.146205, 88.375565, 87.30776, 99.299011, 89.085901, 83.986421, 89.362067, 90.114589, 78.150898, 83.987244, 80.20514, 94.124117, 99.445514, 89.201727, 86.13783, 84.348797, 87.445614]\n",
      "minNetProfitGroupedBySoldDate | node_11 durations: [88.341041, 88.454042, 86.948804, 90.034868, 85.899825, 87.137742, 94.180562, 86.952406, 95.288698, 89.152832, 94.036147, 91.930778, 91.037439, 86.166009, 89.083146, 88.055729, 94.347821, 88.924721, 88.840977, 87.014113, 103.307389, 87.926209, 90.262097, 87.822727, 88.046268]\n",
      "minNetProfitGroupedBySoldDate | node_12 durations: [88.233602, 88.203376, 86.952396, 89.907764, 85.874975, 86.932113, 93.974905, 86.79954, 95.207448, 88.979064, 93.972712, 91.931549, 90.858253, 86.023141, 88.97428, 87.924033, 94.279293, 88.82834, 88.851407, 86.951, 103.150857, 87.833384, 90.0939, 87.718223, 88.020612]\n",
      "minNetProfitGroupedBySoldDate | node_13 durations: [88.164764, 88.135144, 86.887218, 89.85814, 85.807425, 86.919902, 93.908392, 86.738591, 95.010728, 88.926609, 93.911867, 91.881121, 90.799551, 85.980329, 88.946711, 87.854598, 94.233706, 88.807505, 88.770067, 86.889646, 103.097575, 87.681427, 90.020822, 87.688497, 87.836367]\n",
      "minNetProfitGroupedBySoldDate | node_14 durations: [88.000658, 87.965021, 86.762072, 89.736652, 85.665422, 86.774903, 93.797586, 86.598226, 94.955005, 88.903678, 93.825605, 91.760148, 90.859547, 85.82078, 88.932649, 87.669873, 94.107651, 88.617936, 88.596644, 86.739029, 102.925364, 87.653735, 89.875557, 87.662859, 87.814103]\n",
      "minNetProfitGroupedBySoldDate | node_15 durations: [87.910814, 87.913117, 86.628051, 89.624741, 85.533053, 86.634, 93.712445, 86.642196, 94.847637, 88.731751, 93.597146, 91.662727, 90.721501, 85.66086, 88.692288, 87.555723, 93.899293, 88.492649, 88.461332, 86.686084, 102.855423, 87.451553, 89.929785, 87.569864, 87.617428]\n",
      "minNetProfitGroupedBySoldDate | node_16 durations: [87.903237, 87.740549, 86.492755, 89.46678, 85.4232, 86.550282, 93.657743, 86.485874, 94.606702, 88.69123, 93.494433, 91.483709, 90.715175, 85.564315, 88.680576, 87.582847, 93.822804, 88.522786, 88.370795, 86.507424, 102.829684, 87.430523, 89.769319, 87.374761, 87.518469]\n",
      "minNetProfitGroupedBySoldDate | node_17 durations: [87.795779, 87.669126, 86.412284, 89.409436, 85.312492, 86.553397, 93.482907, 86.434557, 94.605562, 88.511905, 93.41746, 91.45797, 90.65556, 85.492371, 88.587078, 87.354945, 93.810326, 88.295611, 88.299107, 86.435258, 102.636671, 87.356541, 89.69667, 87.352476, 87.438526]\n",
      "minNetProfitGroupedBySoldDate | node_18 durations: [87.687951, 87.666447, 86.400045, 89.291518, 85.197625, 86.446194, 93.382325, 86.226828, 94.466338, 88.466727, 93.337684, 91.323988, 90.539261, 85.432353, 88.438791, 87.381378, 93.61186, 88.32707, 88.181664, 86.45149, 102.608991, 87.237332, 89.605044, 87.228632, 87.390513]\n",
      "minNetProfitGroupedBySoldDate | node_19 durations: [87.451158, 87.469666, 86.169747, 89.188115, 85.157768, 86.256146, 93.303529, 86.186105, 94.406109, 88.277527, 93.253514, 91.225978, 90.439347, 85.336537, 88.2832, 87.159429, 93.613861, 88.226197, 88.094185, 86.049281, 102.478592, 87.186112, 89.499435, 87.157631, 87.2963]\n"
     ]
    }
   ],
   "source": [
    "preprocess_selected_function(function_names[16:20], workers_summary)"
   ],
   "metadata": {
    "collapsed": false,
    "pycharm": {
     "name": "#%%\n"
    }
   }
  },
  {
   "cell_type": "code",
   "execution_count": 21,
   "outputs": [
    {
     "data": {
      "text/plain": "4960026"
     },
     "execution_count": 21,
     "metadata": {},
     "output_type": "execute_result"
    }
   ],
   "source": [
    "gc.collect()"
   ],
   "metadata": {
    "collapsed": false,
    "pycharm": {
     "name": "#%%\n"
    }
   }
  },
  {
   "cell_type": "code",
   "execution_count": 22,
   "outputs": [
    {
     "name": "stdout",
     "output_type": "stream",
     "text": [
      "minNetProfitGroupedBySoldDateWhereProfitNegative | node_11 durations: [93.166971, 93.207447, 96.992611, 82.77677, 89.905805, 94.952717, 85.991355, 79.934533, 89.285473, 89.120706, 87.816385, 87.874629, 87.248448, 87.083491, 89.126807, 94.000364, 93.998703, 90.090427, 80.881657, 84.830854, 90.901664, 83.941054, 87.239084, 88.983936, 93.212161]\n",
      "minNetProfitGroupedBySoldDateWhereProfitNegative | node_12 durations: [93.05562, 93.022727, 96.931532, 82.753459, 89.757736, 94.899422, 85.864797, 79.766972, 89.145196, 89.123384, 87.750201, 87.786797, 87.069469, 86.954444, 89.048635, 93.944071, 93.960874, 89.988657, 80.725846, 84.71445, 90.892245, 83.833642, 87.204329, 88.880437, 92.974443]\n",
      "minNetProfitGroupedBySoldDateWhereProfitNegative | node_13 durations: [92.974422, 92.979844, 96.862849, 82.711652, 89.70752, 94.856169, 85.80587, 79.756116, 89.091096, 88.875202, 87.689411, 87.693978, 86.965194, 86.765502, 88.944158, 93.929087, 93.828026, 89.862921, 80.674056, 84.729711, 90.796402, 83.634941, 87.077698, 88.77295, 93.001533]\n",
      "minNetProfitGroupedBySoldDateWhereProfitNegative | node_14 durations: [92.879433, 92.880519, 96.666759, 82.555176, 89.557318, 94.687261, 85.68229, 79.631667, 88.994312, 88.815214, 87.492278, 87.510845, 86.881926, 86.731747, 88.830668, 93.816273, 93.671265, 89.807875, 80.580188, 84.582204, 90.671755, 83.558619, 86.978878, 88.789528, 92.884163]\n",
      "minNetProfitGroupedBySoldDateWhereProfitNegative | node_15 durations: [92.807834, 92.838102, 96.53832, 82.402945, 89.517825, 94.691603, 85.587189, 79.497254, 88.835351, 88.73536, 87.592074, 87.48438, 86.814036, 86.623303, 88.697734, 93.645714, 93.584745, 89.789611, 80.41128, 84.487877, 90.58595, 83.503226, 86.796865, 88.584646, 92.704529]\n",
      "minNetProfitGroupedBySoldDateWhereProfitNegative | node_16 durations: [92.598656, 92.596963, 96.498978, 82.313127, 89.387541, 94.45693, 85.589844, 79.514678, 88.697425, 88.703944, 87.467389, 87.297679, 86.66573, 86.51709, 88.696127, 93.53653, 93.532318, 89.628943, 80.298968, 84.345717, 90.419957, 83.429207, 86.670354, 88.560729, 92.742835]\n",
      "minNetProfitGroupedBySoldDateWhereProfitNegative | node_17 durations: [92.573644, 92.508779, 96.384066, 82.310531, 89.316541, 94.390301, 85.427744, 79.343311, 88.701725, 88.540022, 87.359308, 87.316537, 86.504588, 86.385404, 88.535883, 93.520061, 93.362023, 89.484985, 80.302719, 84.333967, 90.391196, 83.318535, 86.663997, 88.396502, 92.58577]\n",
      "minNetProfitGroupedBySoldDateWhereProfitNegative | node_18 durations: [92.392024, 92.398564, 96.326127, 82.135304, 89.145779, 94.268248, 85.232242, 79.313334, 88.620986, 88.468695, 87.196292, 87.20259, 86.422307, 86.259592, 88.454762, 93.339421, 93.334199, 89.404308, 80.070159, 84.228113, 90.193186, 83.104108, 86.596542, 88.316635, 92.392661]\n",
      "minNetProfitGroupedBySoldDateWhereProfitNegative | node_19 durations: [92.357133, 92.328094, 96.214959, 82.117637, 89.0528, 94.265217, 85.126448, 79.095148, 88.415123, 88.403763, 87.148784, 87.131898, 86.418275, 86.199386, 88.403475, 93.300981, 93.153837, 89.060341, 80.065721, 84.156428, 90.151015, 83.037421, 86.359199, 88.201392, 92.323545]\n",
      "minNetProfitGroupedBySoldDateWhereYearAfter2000 | node_11 durations: [108.199539, 100.169354, 107.353424, 106.248118, 99.114214, 107.157909, 109.243366, 103.431051, 103.096809, 100.271099, 102.178114, 98.113886, 107.192587, 104.273688, 99.033228, 107.243723, 109.539247, 103.147164, 98.241398, 100.131544, 111.442495, 97.215759, 99.314241, 101.083725, 106.287424]\n",
      "minNetProfitGroupedBySoldDateWhereYearAfter2000 | node_12 durations: [108.152024, 99.98338, 107.162142, 106.183194, 99.052155, 107.087464, 109.178388, 103.283439, 103.070485, 100.278381, 102.058792, 97.928833, 107.066946, 104.058106, 99.045088, 107.161329, 109.483072, 103.11171, 98.27341, 99.962061, 111.333337, 96.982392, 99.194196, 101.071927, 106.168464]\n",
      "minNetProfitGroupedBySoldDateWhereYearAfter2000 | node_13 durations: [108.096965, 99.988068, 107.150485, 106.070561, 98.917796, 106.99694, 109.03595, 103.10911, 102.977355, 100.145754, 101.876155, 97.833552, 107.011917, 103.873635, 98.894535, 107.003655, 109.351737, 102.955676, 98.125741, 99.836017, 111.214071, 96.857643, 99.068424, 100.928508, 106.088317]\n",
      "minNetProfitGroupedBySoldDateWhereYearAfter2000 | node_14 durations: [108.018113, 99.809924, 107.045989, 105.966407, 98.877177, 106.941891, 108.979565, 102.997182, 102.81274, 99.984624, 101.863878, 97.781509, 106.941631, 103.899882, 98.731524, 106.921923, 109.27046, 102.790795, 97.936241, 99.784738, 111.158537, 96.841409, 99.039957, 100.917831, 105.97662]\n",
      "minNetProfitGroupedBySoldDateWhereYearAfter2000 | node_15 durations: [107.888363, 99.73681, 106.834999, 105.869286, 98.782057, 106.800789, 108.882142, 102.994144, 102.725556, 99.905595, 101.783741, 97.668929, 106.805183, 103.820291, 98.633366, 106.825356, 109.122703, 102.738535, 97.850654, 99.754831, 111.058425, 96.752934, 98.927719, 100.77114, 105.901341]\n",
      "minNetProfitGroupedBySoldDateWhereYearAfter2000 | node_16 durations: [107.708251, 99.600635, 106.746481, 105.843285, 98.668695, 106.760024, 108.782711, 102.86801, 102.71097, 99.907242, 101.649039, 97.580781, 106.75407, 103.644743, 98.674881, 106.764503, 109.104976, 102.699117, 97.72703, 99.612765, 110.987019, 96.647329, 98.826348, 100.685007, 105.678674]\n",
      "minNetProfitGroupedBySoldDateWhereYearAfter2000 | node_17 durations: [107.723017, 99.50259, 106.643063, 105.73319, 98.470831, 106.692366, 108.680244, 102.752158, 102.636264, 99.735993, 101.492738, 97.530895, 106.634566, 103.512235, 98.531024, 106.637109, 108.995949, 102.591473, 97.640902, 99.485258, 110.907002, 96.527952, 98.725127, 100.62871, 105.633742]\n",
      "minNetProfitGroupedBySoldDateWhereYearAfter2000 | node_18 durations: [107.483956, 99.467049, 106.559503, 105.61112, 98.401981, 106.531547, 108.569218, 102.66651, 102.483593, 99.623096, 101.391104, 97.44293, 106.528088, 103.408417, 98.384116, 106.54911, 108.937504, 102.470746, 97.52955, 99.45533, 110.65731, 96.363339, 98.65853, 100.468898, 105.606955]\n",
      "minNetProfitGroupedBySoldDateWhereYearAfter2000 | node_19 durations: [107.447605, 99.351847, 106.458925, 105.398544, 98.296883, 106.371349, 108.424886, 102.404013, 102.292783, 99.449907, 101.350577, 97.22352, 106.414342, 103.378064, 98.291079, 106.517699, 108.752618, 102.419971, 97.552485, 99.231361, 110.611851, 96.3077, 98.524228, 100.393911, 105.402205]\n",
      "minWholeSaleCostGroupedBySoldDate | node_11 durations: [90.16633, 95.118032, 93.246324, 86.015174, 88.991893, 90.887283, 88.045594, 86.080772, 88.216462, 87.822728, 96.229556, 88.982233, 96.383534, 86.158027, 87.269916, 89.878437, 91.114167, 91.187631, 79.864125, 90.082339, 88.99293, 84.915607, 87.057403, 91.98887, 91.969648]\n",
      "minWholeSaleCostGroupedBySoldDate | node_12 durations: [90.06482, 95.070972, 93.202781, 85.863992, 88.984237, 90.831331, 87.886229, 86.035057, 88.088779, 87.770719, 96.067159, 88.828793, 96.31324, 86.025483, 87.251301, 89.794031, 91.006221, 91.160706, 79.784653, 90.095016, 88.913513, 84.774597, 86.974842, 91.94105, 91.80842]\n",
      "minWholeSaleCostGroupedBySoldDate | node_13 durations: [90.026853, 95.014041, 93.139464, 85.806186, 88.768409, 90.825304, 87.827341, 85.963626, 87.9872, 87.670177, 95.938942, 88.782455, 96.1797, 85.997659, 87.051492, 89.701147, 90.798032, 90.96372, 79.751576, 89.813882, 88.785401, 84.746717, 86.734678, 91.897672, 91.725289]\n",
      "minWholeSaleCostGroupedBySoldDate | node_14 durations: [89.854664, 94.780752, 92.892639, 85.622481, 88.771701, 90.674691, 87.714842, 85.773962, 87.807578, 87.662216, 95.957495, 88.611156, 96.019306, 85.922405, 87.037723, 89.530087, 90.804507, 90.963128, 79.620233, 89.752155, 88.691257, 84.496604, 86.710448, 91.778358, 91.601318]\n",
      "minWholeSaleCostGroupedBySoldDate | node_15 durations: [89.792661, 94.710787, 92.805994, 85.513679, 88.682179, 90.566644, 87.597124, 85.689219, 87.752862, 87.445377, 95.793831, 88.552762, 95.963141, 85.752538, 86.919667, 89.485154, 90.734537, 90.869017, 79.525844, 89.651437, 88.707241, 84.430519, 86.525649, 91.687644, 91.523425]\n",
      "minWholeSaleCostGroupedBySoldDate | node_16 durations: [89.62999, 94.611355, 92.616812, 85.563494, 88.548258, 90.406103, 87.461399, 85.575988, 87.616211, 87.454919, 95.680411, 88.535307, 95.833369, 85.59103, 86.824399, 89.458749, 90.573729, 90.710723, 79.499191, 89.62025, 88.526112, 84.337235, 86.512168, 91.499883, 91.501442]\n",
      "minWholeSaleCostGroupedBySoldDate | node_17 durations: [89.505622, 94.550988, 92.489935, 85.370567, 88.459066, 90.428671, 87.337574, 85.443981, 87.633074, 87.314667, 95.594101, 88.342008, 95.693969, 85.592004, 86.713949, 89.338259, 90.423522, 90.59421, 79.400293, 89.499584, 88.409267, 84.253787, 86.319917, 91.381441, 91.410571]\n",
      "minWholeSaleCostGroupedBySoldDate | node_18 durations: [89.477786, 94.276105, 92.40733, 85.333246, 88.327882, 90.211422, 87.217418, 85.356625, 87.534414, 87.214304, 95.5493, 88.318051, 95.70728, 85.504895, 86.438322, 89.267995, 90.378255, 90.535495, 79.214328, 89.415684, 88.321771, 84.224453, 86.277096, 91.244065, 91.310362]\n",
      "minWholeSaleCostGroupedBySoldDate | node_19 durations: [89.353087, 94.084694, 92.362151, 85.174937, 88.147804, 90.218928, 87.166406, 85.075852, 87.389862, 87.142055, 95.383533, 88.177659, 95.640762, 85.433405, 86.345717, 89.047065, 90.223638, 90.390116, 79.20981, 89.080784, 88.235855, 83.993284, 86.218303, 91.117885, 91.236071]\n",
      "summaryNetProfitGroupedBySoldDate | node_11 durations: [104.088255, 105.364911, 104.2393, 107.242477, 103.147131, 107.170452, 104.095589, 108.18574, 106.421177, 110.19482, 103.242787, 107.397407, 102.374247, 103.100276, 106.147701, 104.074019, 106.136347, 103.307354, 106.401887, 107.239635, 106.928205, 103.145549, 104.081297, 107.30285, 105.213272]\n",
      "summaryNetProfitGroupedBySoldDate | node_12 durations: [104.068426, 105.330793, 104.095695, 107.072103, 103.140396, 107.140865, 104.077849, 108.136324, 106.274891, 110.160521, 103.1851, 107.342494, 102.311279, 103.018384, 106.123055, 103.943682, 106.102102, 103.147168, 106.270274, 107.091282, 106.836785, 102.997452, 104.087107, 107.187092, 105.108834]\n",
      "summaryNetProfitGroupedBySoldDate | node_13 durations: [103.826426, 105.104005, 104.060741, 106.980197, 102.966149, 106.997985, 104.024203, 107.922745, 106.208969, 110.09633, 103.099939, 107.1533, 102.325857, 102.965091, 106.081439, 103.884091, 105.887754, 103.107167, 106.235206, 106.999217, 106.676794, 102.940485, 103.892293, 107.05584, 105.124582]\n",
      "summaryNetProfitGroupedBySoldDate | node_14 durations: [103.866008, 104.992191, 103.907171, 106.866362, 102.9076, 106.953785, 103.919104, 107.84767, 106.087779, 109.901706, 102.960977, 107.047068, 102.188043, 102.802343, 105.945201, 103.752476, 105.786127, 102.944186, 106.10371, 106.874662, 106.40368, 102.803507, 103.904064, 106.922306, 104.984487]\n",
      "summaryNetProfitGroupedBySoldDate | node_15 durations: [103.655703, 104.896888, 103.77514, 106.781963, 102.831931, 106.783201, 103.817006, 107.835879, 105.998292, 109.945541, 102.753459, 106.990191, 102.084281, 102.696021, 105.911109, 103.628983, 105.680168, 102.849202, 105.998064, 106.813707, 106.319352, 102.712031, 103.791697, 106.810552, 104.919951]\n",
      "summaryNetProfitGroupedBySoldDate | node_16 durations: [103.627725, 104.871276, 103.77963, 106.723453, 102.689508, 106.733911, 103.624688, 107.685332, 105.801452, 109.864093, 102.705083, 106.880559, 101.902125, 102.540511, 105.809749, 103.635081, 105.64873, 102.851564, 105.956099, 106.727412, 106.240755, 102.684276, 103.623402, 106.738992, 104.717788]\n",
      "summaryNetProfitGroupedBySoldDate | node_17 durations: [103.536506, 104.785177, 103.583205, 106.648902, 102.586193, 106.638837, 103.527826, 107.59448, 105.835163, 109.679816, 102.575294, 106.860232, 101.806625, 102.437628, 105.578667, 103.515107, 105.54916, 102.747756, 105.878067, 106.637399, 106.176508, 102.600237, 103.521557, 106.648734, 104.614761]\n",
      "summaryNetProfitGroupedBySoldDate | node_18 durations: [103.395261, 104.69457, 103.596331, 106.566122, 102.464746, 106.413723, 103.449309, 107.502933, 105.632055, 109.561936, 102.574569, 106.735886, 101.689169, 102.339548, 105.464021, 103.464295, 105.477818, 102.643771, 105.637346, 106.57119, 105.951486, 102.47314, 103.404105, 106.579902, 104.515625]\n",
      "summaryNetProfitGroupedBySoldDate | node_19 durations: [103.389455, 104.502785, 103.380401, 106.391914, 102.279477, 106.38076, 103.381656, 107.33198, 105.427765, 109.525391, 102.424261, 106.542198, 101.631812, 102.276886, 105.406666, 103.367049, 105.295309, 102.525724, 105.580295, 106.372931, 105.889246, 102.279928, 103.37044, 106.512508, 104.502957]\n"
     ]
    }
   ],
   "source": [
    "preprocess_selected_function(function_names[20:24], workers_summary)"
   ],
   "metadata": {
    "collapsed": false,
    "pycharm": {
     "name": "#%%\n"
    }
   }
  },
  {
   "cell_type": "code",
   "execution_count": 23,
   "outputs": [
    {
     "data": {
      "text/plain": "4999538"
     },
     "execution_count": 23,
     "metadata": {},
     "output_type": "execute_result"
    }
   ],
   "source": [
    "gc.collect()"
   ],
   "metadata": {
    "collapsed": false,
    "pycharm": {
     "name": "#%%\n"
    }
   }
  },
  {
   "cell_type": "code",
   "execution_count": 24,
   "outputs": [
    {
     "name": "stdout",
     "output_type": "stream",
     "text": [
      "summaryWholeSaleCostGroupedBySoldDate | node_11 durations: [104.254034, 104.468931, 110.183837, 108.184488, 104.36198, 105.366118, 112.274545, 107.087601, 121.24367, 106.305051, 107.39919, 111.33435, 109.29825, 103.275957, 108.186001, 110.21912, 106.373728, 112.40959, 106.139356, 104.368241, 105.202911, 106.143396, 108.281347, 104.101395, 105.369098]\n",
      "summaryWholeSaleCostGroupedBySoldDate | node_12 durations: [104.15796, 104.225392, 110.1985, 108.125228, 104.22207, 105.253133, 112.187407, 107.043745, 121.156377, 106.169955, 107.246472, 111.102801, 109.249989, 103.15347, 108.136078, 110.253066, 106.292577, 112.355972, 106.038496, 104.240051, 105.020843, 106.099882, 108.289198, 104.081509, 105.210156]\n",
      "summaryWholeSaleCostGroupedBySoldDate | node_13 durations: [104.060943, 104.193571, 110.109059, 107.93795, 104.06189, 105.146416, 111.975292, 107.012023, 121.168886, 106.053607, 107.223422, 111.040964, 109.11236, 103.105663, 107.919734, 110.129432, 106.209253, 112.150549, 105.909091, 104.196537, 104.970586, 105.900614, 108.074211, 103.89173, 105.144762]\n",
      "summaryWholeSaleCostGroupedBySoldDate | node_14 durations: [103.883687, 104.041432, 109.891691, 107.835091, 104.019849, 105.000714, 111.930679, 106.904006, 121.082587, 106.020199, 107.130561, 111.006585, 109.075351, 102.937083, 107.924904, 110.055004, 106.11256, 112.150661, 105.797514, 104.043067, 104.833772, 105.938982, 107.987308, 103.889121, 105.141224]\n",
      "summaryWholeSaleCostGroupedBySoldDate | node_15 durations: [103.81659, 103.922646, 109.802704, 107.869187, 103.951482, 104.895781, 111.787508, 106.73065, 120.988338, 105.841599, 106.942295, 110.827268, 108.973585, 102.848626, 107.720101, 109.947587, 105.995315, 111.996567, 105.743908, 103.969539, 104.804494, 105.771259, 107.917611, 103.700092, 104.919564]\n",
      "summaryWholeSaleCostGroupedBySoldDate | node_16 durations: [103.783073, 103.922093, 109.696849, 107.77027, 103.789018, 104.862842, 111.710669, 106.580379, 120.755236, 105.811308, 106.885931, 110.778572, 108.757782, 102.834905, 107.669787, 109.848154, 105.958568, 111.868391, 105.641904, 103.776433, 104.726815, 105.638607, 107.826719, 103.623627, 104.863809]\n",
      "summaryWholeSaleCostGroupedBySoldDate | node_17 durations: [103.680289, 103.776166, 109.604378, 107.589595, 103.746828, 104.67782, 111.643787, 106.548511, 120.654984, 105.713654, 106.811111, 110.687246, 108.773608, 102.760051, 107.513623, 109.75227, 105.800032, 111.779938, 105.599569, 103.697556, 104.62645, 105.62301, 107.736135, 103.530021, 104.781712]\n",
      "summaryWholeSaleCostGroupedBySoldDate | node_18 durations: [103.603147, 103.587934, 109.539457, 107.579951, 103.583564, 104.674393, 111.523178, 106.414548, 120.704922, 105.470843, 106.7242, 110.628006, 108.614017, 102.388157, 107.520973, 109.551403, 105.776478, 111.794636, 105.476258, 103.607392, 104.512602, 105.475358, 107.665222, 103.439581, 104.638577]\n",
      "summaryWholeSaleCostGroupedBySoldDate | node_19 durations: [103.343114, 103.398957, 109.401839, 107.332996, 103.530122, 104.469253, 111.427003, 106.374928, 120.564885, 105.403956, 106.547665, 110.462454, 108.570778, 102.274431, 107.346781, 109.515621, 105.564562, 111.587112, 105.407452, 103.53654, 104.453031, 105.445534, 107.632906, 103.380834, 104.636614]\n",
      "sumNetProfitGroupedBySoldDate | node_11 durations: [85.998597, 96.152077, 88.985791, 91.958289, 86.933423, 91.123723, 94.262163, 91.022389, 90.07162, 85.975842, 86.921691, 97.159744, 84.975467, 95.167574, 94.008781, 87.867638, 88.9242, 86.86928, 87.877069, 88.030961, 102.167754, 94.012796, 87.845593, 88.836757, 94.154082]\n",
      "sumNetProfitGroupedBySoldDate | node_12 durations: [86.022329, 95.997224, 89.033969, 91.822543, 86.83368, 90.992498, 94.190419, 90.884758, 89.91833, 85.852664, 86.774183, 97.091974, 84.932747, 95.066941, 93.981653, 87.856511, 88.827392, 86.803332, 87.893236, 87.908865, 102.08354, 93.832697, 87.891061, 88.840822, 93.962358]\n",
      "sumNetProfitGroupedBySoldDate | node_13 durations: [85.816131, 95.855498, 88.793048, 91.743649, 86.752527, 90.812112, 94.071167, 90.694902, 89.866304, 85.820166, 86.619793, 97.047919, 84.864447, 94.919679, 93.765886, 87.685753, 88.775212, 86.760223, 87.630933, 87.851612, 101.996063, 93.74886, 87.693758, 88.776617, 93.859542]\n",
      "sumNetProfitGroupedBySoldDate | node_14 durations: [85.788649, 95.718272, 88.677069, 91.595367, 86.553043, 90.811188, 93.976384, 90.637881, 89.720493, 85.674688, 86.571718, 96.919521, 84.71692, 94.940016, 93.731174, 87.666183, 88.665727, 86.565563, 87.664332, 87.688002, 101.856802, 93.642818, 87.669856, 88.678488, 93.812456]\n",
      "sumNetProfitGroupedBySoldDate | node_15 durations: [85.759553, 95.777265, 88.645414, 91.575322, 86.466556, 90.730934, 93.868891, 90.489783, 89.677854, 85.554565, 86.472633, 96.900325, 84.651059, 94.821851, 93.568552, 87.595779, 88.520301, 86.487499, 87.471498, 87.611664, 101.7588, 93.598839, 87.590301, 88.532427, 93.73756]\n",
      "sumNetProfitGroupedBySoldDate | node_16 durations: [85.569898, 95.554196, 88.54828, 91.486211, 86.35523, 90.556135, 93.68056, 90.392164, 89.630357, 85.422654, 86.362448, 96.798279, 84.492124, 94.602133, 93.531134, 87.446143, 88.380856, 86.371556, 87.466305, 87.623917, 101.769986, 93.520527, 87.430444, 88.389507, 93.51401]\n",
      "sumNetProfitGroupedBySoldDate | node_17 durations: [85.44337, 95.561229, 88.405912, 91.360864, 86.219465, 90.43544, 93.527346, 90.265655, 89.499822, 85.286721, 86.211086, 96.577145, 84.360357, 94.606463, 93.454406, 87.376195, 88.395156, 86.360279, 87.262493, 87.466323, 101.628747, 93.381555, 87.363103, 88.284348, 93.40756]\n",
      "sumNetProfitGroupedBySoldDate | node_18 durations: [85.448798, 95.377068, 88.298518, 91.221654, 86.252118, 90.355279, 93.502596, 90.194046, 89.349695, 85.322567, 86.209701, 96.481474, 84.218894, 94.282072, 93.33203, 87.196313, 88.304337, 86.175634, 87.199736, 87.312557, 101.487025, 93.338149, 87.204342, 88.147286, 93.340088]\n",
      "sumNetProfitGroupedBySoldDate | node_19 durations: [85.256514, 95.349949, 88.274184, 91.093338, 86.050244, 90.257875, 93.452462, 90.122713, 89.341401, 85.113077, 86.030632, 96.444606, 84.149029, 94.2465, 93.148484, 87.136425, 88.091559, 86.025362, 87.056932, 87.290173, 101.486442, 93.275739, 87.142046, 88.084355, 93.303715]\n",
      "sumNetProfitGroupedBySoldDateWhereProfitNegative | node_11 durations: [89.953944, 98.402034, 87.251451, 85.117688, 86.005846, 87.864297, 91.006605, 90.860254, 88.180081, 87.239188, 90.950909, 93.052429, 90.064692, 83.944666, 87.871054, 89.939267, 94.156005, 87.883819, 83.94299, 91.012729, 88.184585, 84.901078, 87.875948, 91.018572, 80.950387]\n",
      "sumNetProfitGroupedBySoldDateWhereProfitNegative | node_12 durations: [89.919844, 98.375953, 87.125269, 85.083358, 86.021703, 87.861704, 90.851205, 90.880063, 88.08757, 86.955186, 90.854663, 92.872456, 90.088066, 83.849573, 87.7287, 89.929526, 94.138419, 87.730325, 83.84479, 90.768684, 88.215151, 84.782091, 87.865053, 90.873872, 80.875838]\n",
      "sumNetProfitGroupedBySoldDateWhereProfitNegative | node_13 durations: [89.720831, 98.26166, 86.982238, 85.048247, 85.818453, 87.697458, 90.795679, 90.793916, 87.993794, 86.898824, 90.805547, 92.784498, 89.852461, 83.642449, 87.706369, 89.698623, 93.929467, 87.679555, 83.697214, 90.797076, 88.089986, 84.746293, 87.68892, 90.826753, 80.740939]\n",
      "sumNetProfitGroupedBySoldDateWhereProfitNegative | node_14 durations: [89.607535, 98.090317, 86.883545, 84.983222, 85.762982, 87.693968, 90.664103, 90.676658, 87.886398, 86.852313, 90.667457, 92.744705, 89.877141, 83.569732, 87.661245, 89.719206, 93.819498, 87.519667, 83.576873, 90.673601, 87.88007, 84.5842, 87.665148, 90.701049, 80.71651]\n",
      "sumNetProfitGroupedBySoldDateWhereProfitNegative | node_15 durations: [89.62371, 98.001752, 86.846617, 84.764922, 85.636496, 87.599063, 90.497877, 90.459777, 87.757078, 86.702828, 90.59151, 92.620595, 89.726972, 83.492659, 87.42932, 89.578216, 93.874683, 87.418814, 83.430431, 90.581521, 87.748724, 84.48375, 87.581245, 90.586012, 80.661802]\n",
      "sumNetProfitGroupedBySoldDateWhereProfitNegative | node_16 durations: [89.519892, 97.883446, 86.682389, 84.652899, 85.596968, 87.462875, 90.407324, 90.418013, 87.615085, 86.564598, 90.416906, 92.441977, 89.632021, 83.394734, 87.450093, 89.499766, 93.526623, 87.451632, 83.410414, 90.427754, 87.758761, 84.484474, 87.410842, 90.437797, 80.454783]\n",
      "sumNetProfitGroupedBySoldDateWhereProfitNegative | node_17 durations: [89.309557, 97.712023, 86.696102, 84.654369, 85.420954, 87.289669, 90.390558, 90.394909, 87.611784, 86.490787, 90.402699, 92.42558, 89.468837, 83.26556, 87.330983, 89.318519, 93.505615, 87.283444, 83.244835, 90.398724, 87.597956, 84.353417, 87.307888, 90.404342, 80.446647]\n",
      "sumNetProfitGroupedBySoldDateWhereProfitNegative | node_18 durations: [89.246035, 97.567251, 86.573746, 84.527157, 85.330023, 87.317442, 90.200725, 90.200704, 87.369872, 86.419969, 90.201006, 92.239301, 89.397516, 83.194163, 87.148344, 89.242288, 93.303109, 87.112952, 83.126235, 90.199171, 87.558778, 84.225015, 87.221489, 90.186338, 80.258078]\n",
      "sumNetProfitGroupedBySoldDateWhereProfitNegative | node_19 durations: [89.21688, 97.371786, 86.421455, 84.467761, 85.265297, 87.112321, 90.184002, 90.106174, 87.336593, 86.326852, 90.150867, 92.21059, 89.36499, 83.160018, 87.017428, 89.196887, 93.252976, 86.994719, 83.117263, 90.231689, 87.475573, 83.997561, 87.164915, 90.185962, 80.06206]\n",
      "sumNetProfitGroupedBySoldDateWhereYearAfter2000 | node_11 durations: [102.169722, 107.24139, 109.427486, 107.372324, 105.505355, 105.516837, 98.342226, 106.229143, 98.260006, 99.28134, 105.339795, 108.471611, 101.2665, 107.36805, 107.360035, 98.096676, 100.16293, 97.25935, 106.137429, 106.234997, 108.189375, 111.302157, 107.368996, 101.378872, 99.128434]\n",
      "sumNetProfitGroupedBySoldDateWhereYearAfter2000 | node_12 durations: [102.022916, 107.11557, 109.318586, 107.266062, 105.372775, 105.419139, 98.196149, 106.216215, 98.214096, 99.178131, 105.179354, 108.436939, 101.186817, 107.414826, 107.290765, 97.971187, 99.960792, 97.166635, 106.119814, 106.186321, 108.159823, 111.155947, 107.392097, 101.326233, 99.088775]\n",
      "sumNetProfitGroupedBySoldDateWhereYearAfter2000 | node_13 durations: [102.020928, 107.030081, 109.200488, 107.172759, 105.314552, 105.298846, 98.12932, 106.0713, 98.118918, 99.05444, 105.158202, 108.265707, 101.095288, 107.328102, 107.173125, 97.954115, 100.003705, 97.216611, 106.079295, 106.072135, 107.954323, 111.080832, 107.165084, 101.096397, 98.906697]\n",
      "sumNetProfitGroupedBySoldDateWhereYearAfter2000 | node_14 durations: [101.853477, 106.918616, 109.085609, 107.176629, 105.188502, 105.184703, 98.073551, 105.999674, 97.926679, 99.011864, 105.016112, 108.167652, 100.902774, 107.202817, 107.031887, 97.778389, 99.7632, 96.971482, 105.986336, 105.975839, 107.84081, 111.032591, 107.066666, 101.089873, 98.885494]\n",
      "sumNetProfitGroupedBySoldDateWhereYearAfter2000 | node_15 durations: [101.770976, 106.841304, 109.051845, 107.00536, 105.096502, 105.069725, 97.97992, 105.882707, 97.855017, 98.892541, 104.967132, 108.083449, 100.851881, 106.970924, 106.953301, 97.684698, 99.748314, 96.884955, 105.841568, 105.873703, 107.850396, 110.910567, 106.967, 100.982077, 98.786821]\n",
      "sumNetProfitGroupedBySoldDateWhereYearAfter2000 | node_16 durations: [101.640328, 106.7514, 108.93333, 106.916386, 104.894978, 105.0523, 97.885617, 105.661999, 97.832475, 98.846274, 104.888418, 107.995321, 100.682031, 106.93544, 106.750956, 97.601204, 99.608155, 96.798274, 105.681523, 105.804092, 107.686443, 110.805309, 106.927276, 100.867271, 98.674133]\n",
      "sumNetProfitGroupedBySoldDateWhereYearAfter2000 | node_17 durations: [101.561958, 106.626301, 108.820347, 106.855116, 104.821273, 104.95861, 97.648942, 105.694486, 97.745359, 98.702607, 104.760119, 107.934706, 100.586718, 106.90187, 106.787416, 97.526038, 99.499123, 96.691898, 105.714179, 105.606347, 107.665407, 110.579863, 106.792754, 100.736868, 98.558819]\n",
      "sumNetProfitGroupedBySoldDateWhereYearAfter2000 | node_18 durations: [101.510502, 106.564813, 108.730342, 106.69931, 104.666249, 104.800849, 97.611716, 105.605992, 97.634787, 98.55939, 104.647837, 107.787438, 100.477423, 106.727707, 106.568428, 97.442839, 99.449473, 96.638988, 105.462272, 105.608892, 107.483208, 110.460235, 106.676043, 100.560465, 98.3673]\n",
      "sumNetProfitGroupedBySoldDateWhereYearAfter2000 | node_19 durations: [101.306317, 106.366263, 108.5866, 106.545363, 104.632534, 104.751518, 97.504414, 105.43443, 97.546293, 98.498476, 104.638248, 107.638899, 100.369435, 106.684798, 106.516614, 97.360336, 99.298711, 96.330093, 105.41676, 105.429826, 107.473682, 110.48859, 106.563849, 100.566398, 98.284575]\n"
     ]
    }
   ],
   "source": [
    "preprocess_selected_function(function_names[24:28], workers_summary)"
   ],
   "metadata": {
    "collapsed": false,
    "pycharm": {
     "name": "#%%\n"
    }
   }
  },
  {
   "cell_type": "code",
   "execution_count": 25,
   "outputs": [
    {
     "data": {
      "text/plain": "5012726"
     },
     "execution_count": 25,
     "metadata": {},
     "output_type": "execute_result"
    }
   ],
   "source": [
    "gc.collect()"
   ],
   "metadata": {
    "collapsed": false,
    "pycharm": {
     "name": "#%%\n"
    }
   }
  },
  {
   "cell_type": "code",
   "execution_count": 28,
   "outputs": [
    {
     "name": "stdout",
     "output_type": "stream",
     "text": [
      "sumWholeSaleCostGroupedBySoldDate | node_11 durations: [87.180087, 87.112903, 85.997868, 88.057087, 92.139779, 87.976308, 86.127558, 87.886241, 88.431763, 84.839246, 84.971022, 89.005767, 92.042799, 93.012998, 81.288571, 84.91375, 91.037745, 90.097453, 93.073796, 93.065261, 86.960233, 86.243926, 89.905548, 89.940939, 93.075523]\n",
      "sumWholeSaleCostGroupedBySoldDate | node_12 durations: [87.111375, 86.971526, 86.025645, 88.029324, 92.074515, 87.74115, 85.965545, 87.78974, 88.344879, 84.775759, 84.900303, 88.853711, 91.954652, 92.867575, 81.197116, 84.774016, 91.000492, 89.912984, 92.980888, 92.897283, 86.841714, 86.013987, 89.812168, 89.908776, 93.045756]\n",
      "sumWholeSaleCostGroupedBySoldDate | node_13 durations: [87.075858, 86.890652, 85.818319, 87.911697, 92.037165, 87.680111, 85.814683, 87.679759, 88.153255, 84.7339, 84.67759, 88.767762, 91.761309, 92.826748, 81.059927, 84.720843, 90.895682, 89.858355, 92.836007, 92.83134, 86.73731, 85.958956, 89.719904, 89.704522, 92.839288]\n",
      "sumWholeSaleCostGroupedBySoldDate | node_14 durations: [86.871536, 86.731586, 85.780556, 87.693453, 91.926419, 87.660469, 85.77533, 87.67414, 88.135411, 84.593451, 84.639294, 88.652636, 91.69669, 92.634611, 81.017628, 84.65672, 90.822404, 89.871783, 92.865322, 92.703412, 86.593791, 85.968064, 89.574189, 89.706324, 92.659971]\n",
      "sumWholeSaleCostGroupedBySoldDate | node_15 durations: [86.767432, 86.689979, 85.579635, 87.723916, 91.732246, 87.438009, 85.66763, 87.576922, 88.028546, 84.43403, 84.484025, 88.579042, 91.541566, 92.608719, 80.800979, 84.527425, 90.719985, 89.769195, 92.74062, 92.612421, 86.480826, 85.862302, 89.598059, 89.600003, 92.618678]\n",
      "sumWholeSaleCostGroupedBySoldDate | node_16 durations: [86.667647, 86.663142, 85.588041, 87.589851, 91.625447, 87.446194, 85.557238, 87.432131, 87.894522, 84.331983, 84.484388, 88.536335, 91.473739, 92.417333, 80.749823, 84.323679, 90.570312, 89.607929, 92.574654, 92.425171, 86.366535, 85.72652, 89.456455, 89.456907, 92.574378]\n",
      "sumWholeSaleCostGroupedBySoldDate | node_17 durations: [86.590447, 86.55696, 85.477909, 87.401845, 91.522835, 87.352643, 85.473769, 87.360157, 87.825387, 84.234946, 84.23947, 88.434166, 91.410067, 92.337924, 80.669232, 84.242828, 90.40628, 89.447205, 92.501774, 92.452447, 86.27432, 85.5368, 89.364432, 89.383148, 92.518483]\n",
      "sumWholeSaleCostGroupedBySoldDate | node_18 durations: [86.603015, 86.432693, 85.368063, 87.381772, 91.4816, 87.23262, 85.354344, 87.228708, 87.707843, 84.100422, 84.248883, 88.332512, 91.327551, 92.268867, 80.624626, 84.159955, 90.376619, 89.445782, 92.437395, 92.263262, 86.14066, 85.514833, 89.278734, 89.224714, 92.278737]\n",
      "sumWholeSaleCostGroupedBySoldDate | node_19 durations: [86.406867, 86.366384, 85.285738, 87.307437, 91.421767, 87.159836, 85.268078, 87.106435, 87.566825, 84.130706, 84.17001, 88.256363, 91.255246, 92.233515, 80.448281, 84.148032, 90.320383, 89.102778, 92.286796, 92.161295, 86.121735, 85.435036, 89.212759, 89.191532, 92.179151]\n"
     ]
    }
   ],
   "source": [
    "preprocess_selected_function(function_names[28:], workers_summary)"
   ],
   "metadata": {
    "collapsed": false,
    "pycharm": {
     "name": "#%%\n"
    }
   }
  },
  {
   "cell_type": "code",
   "execution_count": null,
   "outputs": [],
   "source": [
    "gc.collect()"
   ],
   "metadata": {
    "collapsed": false,
    "pycharm": {
     "name": "#%%\n"
    }
   }
  },
  {
   "cell_type": "markdown",
   "source": [
    "### Aggregating data from master node #20"
   ],
   "metadata": {
    "collapsed": false
   }
  },
  {
   "cell_type": "code",
   "execution_count": 56,
   "outputs": [
    {
     "name": "stdout",
     "output_type": "stream",
     "text": [
      "Error: ./../experiments_data/preprocessed-data - Nie można utworzyć pliku, który już istnieje.\n",
      "Progress:\n",
      "- avgNetProfitGroupedBySoldDate - done\n",
      "- avgNetProfitGroupedBySoldDateWhereProfitNegative - done\n",
      "- avgWholeSaleCostGroupedBySoldDate - done\n",
      "- countDistinctTicketNumber - done\n",
      "- countNetProfitGroupedBySoldDate - done\n",
      "- countNetProfitGroupedBySoldDateWhereProfitNegative - done\n",
      "- countWholeSaleCostGroupedBySoldDate - done\n",
      "- filterCatalogSalesWhereProfitNegative - done\n",
      "- filterCatalogSalesWhereProfitNegativeAndYearAfter2000 - done\n",
      "- filterCatalogSalesWhereYearAfter2000 - done\n",
      "- filterStoreSalesWhereProfitNegative - done\n",
      "- filterStoreSalesWhereProfitNegativeAndYearAfter2000 - done\n",
      "- filterStoreSalesWhereYearAfter2000 - done\n",
      "- maxNetProfitGroupedBySoldDate - done\n",
      "- maxNetProfitGroupedBySoldDateWhereProfitNegative - done\n",
      "- maxWholeSaleCostGroupedBySoldDate - done\n",
      "- minNetProfitGroupedBySoldDate - done\n",
      "- minNetProfitGroupedBySoldDateWhereProfitNegative - done\n",
      "- minWholeSaleCostGroupedBySoldDate - done\n",
      "- summaryNetProfitGroupedBySoldDate - done\n",
      "- summaryWholeSaleCostGroupedBySoldDate - done\n",
      "- sumNetProfitGroupedBySoldDate - done\n",
      "- sumNetProfitGroupedBySoldDateWhereProfitNegative - done\n",
      "- sumWholeSaleCostGroupedBySoldDate - done\n"
     ]
    },
    {
     "data": {
      "text/plain": "0"
     },
     "execution_count": 56,
     "metadata": {},
     "output_type": "execute_result"
    }
   ],
   "source": [
    "create_directory(\"./../experiments_data/preprocessed-data\")\n",
    "\n",
    "master_dir = \"./../experiments_data/preprocessed-data/master-mean-data\"\n",
    "create_directory(master_dir)\n",
    "master_mean_summary = pd.DataFrame(columns=[\"function_name\",\n",
    "                                            \"mean_duration\",\n",
    "                                            \"mean_interval\"])\n",
    "\n",
    "print(\"Progress:\")\n",
    "for function in function_names:\n",
    "    files_path = \"./../experiments_data/node_20{0}\".format(function)\n",
    "    p = Path(files_path)\n",
    "    master_data = pd.DataFrame()\n",
    "\n",
    "    experiment_durations = []\n",
    "    experiment_intervals = []\n",
    "\n",
    "    master_experiment_directory = \"{0}{1}\".format(master_dir, function)\n",
    "    master_plot_directory = \"{0}/plots\".format(files_path)\n",
    "\n",
    "    create_directory(master_experiment_directory)\n",
    "    create_directory(master_plot_directory)\n",
    "    create_directory(\"{0}/CPU\".format(master_plot_directory))\n",
    "    create_directory(\"{0}/RAM\".format(master_plot_directory))\n",
    "\n",
    "    experiment_number = 1\n",
    "    for file in p.glob('*.csv'):\n",
    "        master_new_data, (duration, interval) = preprocess_file(files_path, master_plot_directory, file.name, experiment_number)\n",
    "        master_data = pd.concat((master_data, master_new_data))\n",
    "        experiment_durations.append(duration)\n",
    "        experiment_intervals.append(interval)\n",
    "        experiment_number += 1\n",
    "\n",
    "    master_mean_summary = master_mean_summary.append({\"function_name\": function[1:],\n",
    "                                                      \"mean_duration\": round(mean(experiment_durations), 3),\n",
    "                                                      \"mean_interval\": round(mean(experiment_intervals), 3)},\n",
    "                                                     ignore_index=True)\n",
    "\n",
    "    master_data = master_data.groupby(master_data.index).mean()\n",
    "    master_data.to_csv(\"{0}/mean_data.csv\".format(master_experiment_directory), index=False)\n",
    "\n",
    "    generate_plot(master_data.index, master_data.CPU, \"{0}/mean_CPU.png\".format(master_experiment_directory))\n",
    "    generate_plot(master_data.index, master_data.RAM, \"{0}/mean_RAM.png\".format(master_experiment_directory))\n",
    "\n",
    "    smooth_data(master_data, master_experiment_directory, function[1:])\n",
    "    print(\"- {0} - done\".format(function[1:]))\n",
    "\n",
    "    # Deleting variables\n",
    "    del master_data\n",
    "    del experiment_intervals\n",
    "    del experiment_durations\n",
    "    del master_new_data\n",
    "\n",
    "master_mean_summary.to_csv(\"{0}/experiments_mean_duration.csv\".format(master_dir), index=False)\n",
    "\n",
    "del master_mean_summary\n",
    "gc.collect()"
   ],
   "metadata": {
    "collapsed": false,
    "pycharm": {
     "name": "#%%\n"
    }
   }
  },
  {
   "cell_type": "markdown",
   "source": [
    "### Preprocessing spark internal metrics\n",
    "\n",
    "Stage and task metrics"
   ],
   "metadata": {
    "collapsed": false
   }
  },
  {
   "cell_type": "code",
   "execution_count": 119,
   "outputs": [
    {
     "data": {
      "text/plain": "                                       function_name  stage_id  \\\n0              filterCatalogSalesWhereProfitNegative         0   \n1  filterCatalogSalesWhereProfitNegativeAndYearAf...         0   \n2  filterCatalogSalesWhereProfitNegativeAndYearAf...         1   \n3  filterCatalogSalesWhereProfitNegativeAndYearAf...         2   \n4               filterCatalogSalesWhereYearAfter2000         0   \n5               filterCatalogSalesWhereYearAfter2000         1   \n6               filterCatalogSalesWhereYearAfter2000         2   \n7                  minWholeSaleCostGroupedBySoldDate         0   \n8                  minWholeSaleCostGroupedBySoldDate         1   \n\n         task_types  mean_stage_time  num_tasks  mean_executor_run_time  \\\n0      [ResultTask]      8648.600000          1             5320.680000   \n1  [ShuffleMapTask]      4451.920000          1             1138.280000   \n2  [ShuffleMapTask]      9042.400000          1             5856.400000   \n3      [ResultTask]      4889.160000        200             2714.200000   \n4  [ShuffleMapTask]      5665.640000          1             3988.400000   \n5  [ShuffleMapTask]      4416.720000          1             1827.520000   \n6      [ResultTask]      7334.560000        200             3117.160000   \n7  [ShuffleMapTask]     73356.904762          1            69276.612245   \n8      [ResultTask]       622.564626        200              475.836735   \n\n   mean_result_size  \n0       1474.000000  \n1       2046.320000  \n2       2032.360000  \n3     820732.440000  \n4       1995.800000  \n5       2019.080000  \n6     808346.200000  \n7       2117.789116  \n8          0.000000  ",
      "text/html": "<div>\n<style scoped>\n    .dataframe tbody tr th:only-of-type {\n        vertical-align: middle;\n    }\n\n    .dataframe tbody tr th {\n        vertical-align: top;\n    }\n\n    .dataframe thead th {\n        text-align: right;\n    }\n</style>\n<table border=\"1\" class=\"dataframe\">\n  <thead>\n    <tr style=\"text-align: right;\">\n      <th></th>\n      <th>function_name</th>\n      <th>stage_id</th>\n      <th>task_types</th>\n      <th>mean_stage_time</th>\n      <th>num_tasks</th>\n      <th>mean_executor_run_time</th>\n      <th>mean_result_size</th>\n    </tr>\n  </thead>\n  <tbody>\n    <tr>\n      <th>0</th>\n      <td>filterCatalogSalesWhereProfitNegative</td>\n      <td>0</td>\n      <td>[ResultTask]</td>\n      <td>8648.600000</td>\n      <td>1</td>\n      <td>5320.680000</td>\n      <td>1474.000000</td>\n    </tr>\n    <tr>\n      <th>1</th>\n      <td>filterCatalogSalesWhereProfitNegativeAndYearAf...</td>\n      <td>0</td>\n      <td>[ShuffleMapTask]</td>\n      <td>4451.920000</td>\n      <td>1</td>\n      <td>1138.280000</td>\n      <td>2046.320000</td>\n    </tr>\n    <tr>\n      <th>2</th>\n      <td>filterCatalogSalesWhereProfitNegativeAndYearAf...</td>\n      <td>1</td>\n      <td>[ShuffleMapTask]</td>\n      <td>9042.400000</td>\n      <td>1</td>\n      <td>5856.400000</td>\n      <td>2032.360000</td>\n    </tr>\n    <tr>\n      <th>3</th>\n      <td>filterCatalogSalesWhereProfitNegativeAndYearAf...</td>\n      <td>2</td>\n      <td>[ResultTask]</td>\n      <td>4889.160000</td>\n      <td>200</td>\n      <td>2714.200000</td>\n      <td>820732.440000</td>\n    </tr>\n    <tr>\n      <th>4</th>\n      <td>filterCatalogSalesWhereYearAfter2000</td>\n      <td>0</td>\n      <td>[ShuffleMapTask]</td>\n      <td>5665.640000</td>\n      <td>1</td>\n      <td>3988.400000</td>\n      <td>1995.800000</td>\n    </tr>\n    <tr>\n      <th>5</th>\n      <td>filterCatalogSalesWhereYearAfter2000</td>\n      <td>1</td>\n      <td>[ShuffleMapTask]</td>\n      <td>4416.720000</td>\n      <td>1</td>\n      <td>1827.520000</td>\n      <td>2019.080000</td>\n    </tr>\n    <tr>\n      <th>6</th>\n      <td>filterCatalogSalesWhereYearAfter2000</td>\n      <td>2</td>\n      <td>[ResultTask]</td>\n      <td>7334.560000</td>\n      <td>200</td>\n      <td>3117.160000</td>\n      <td>808346.200000</td>\n    </tr>\n    <tr>\n      <th>7</th>\n      <td>minWholeSaleCostGroupedBySoldDate</td>\n      <td>0</td>\n      <td>[ShuffleMapTask]</td>\n      <td>73356.904762</td>\n      <td>1</td>\n      <td>69276.612245</td>\n      <td>2117.789116</td>\n    </tr>\n    <tr>\n      <th>8</th>\n      <td>minWholeSaleCostGroupedBySoldDate</td>\n      <td>1</td>\n      <td>[ResultTask]</td>\n      <td>622.564626</td>\n      <td>200</td>\n      <td>475.836735</td>\n      <td>0.000000</td>\n    </tr>\n  </tbody>\n</table>\n</div>"
     },
     "execution_count": 119,
     "metadata": {},
     "output_type": "execute_result"
    }
   ],
   "source": [
    "stage_metrics_all = pd.read_csv(\"./../experiments_data/stage_metrics.csv\")\n",
    "task_metrics_all = pd.read_csv(\"./../experiments_data/task_metrics.csv\")\n",
    "\n",
    "stage_metrics = stage_metrics_all[[\"function_name\", \"stage_id\", \"num_tasks\", \"executor_run_time\", \"result_size\"]].copy()\n",
    "stage_metrics[\"stage_time\"]= stage_metrics_all[\"completion_time\"] - stage_metrics_all[\"submission_time\"]\n",
    "stage_metrics = stage_metrics.groupby([\"function_name\", \"stage_id\"]).agg({\n",
    "    \"stage_time\": \"mean\",\n",
    "    \"num_tasks\": \"max\",\n",
    "    \"executor_run_time\": \"mean\",\n",
    "    \"result_size\": \"mean\"\n",
    "})\n",
    "\n",
    "task_metrics = task_metrics_all[[\"function_name\", \"stage_id\", \"task_type\"]]\n",
    "task_metrics = task_metrics.groupby([\"function_name\", \"stage_id\"]).agg({\"task_type\": \"unique\"})\n",
    "\n",
    "spark_metrics = task_metrics.join(stage_metrics).reset_index().rename(columns={\n",
    "    \"stage_time\": \"mean_stage_time\",\n",
    "    \"task_type\": \"task_types\",\n",
    "    \"executor_run_time\": \"mean_executor_run_time\",\n",
    "    \"result_size\": \"mean_result_size\"\n",
    "})\n",
    "\n",
    "spark_metrics.to_csv(\"./../experiments_data/preprocessed-data/spark_metrics.csv\", index=False)\n",
    "spark_metrics"
   ],
   "metadata": {
    "collapsed": false,
    "pycharm": {
     "name": "#%%\n"
    }
   }
  },
  {
   "cell_type": "markdown",
   "source": [
    "### Clear preprocessed data"
   ],
   "metadata": {
    "collapsed": false
   }
  },
  {
   "cell_type": "code",
   "execution_count": 42,
   "outputs": [
    {
     "name": "stdout",
     "output_type": "stream",
     "text": [
      "Error: ./../experiments_data/node_20/avgNetProfitGroupedBySoldDate/plots - System nie może odnaleźć określonej ścieżki.\n",
      "Error: ./../experiments_data/node_20/avgNetProfitGroupedBySoldDateWhereProfitNegative/plots - System nie może odnaleźć określonej ścieżki.\n",
      "Error: ./../experiments_data/node_11/avgWholeSaleCostGroupedBySoldDate/plots - System nie może odnaleźć określonej ścieżki.\n",
      "Error: ./../experiments_data/node_12/avgWholeSaleCostGroupedBySoldDate/plots - System nie może odnaleźć określonej ścieżki.\n",
      "Error: ./../experiments_data/node_13/avgWholeSaleCostGroupedBySoldDate/plots - System nie może odnaleźć określonej ścieżki.\n",
      "Error: ./../experiments_data/node_14/avgWholeSaleCostGroupedBySoldDate/plots - System nie może odnaleźć określonej ścieżki.\n",
      "Error: ./../experiments_data/node_15/avgWholeSaleCostGroupedBySoldDate/plots - System nie może odnaleźć określonej ścieżki.\n",
      "Error: ./../experiments_data/node_16/avgWholeSaleCostGroupedBySoldDate/plots - System nie może odnaleźć określonej ścieżki.\n",
      "Error: ./../experiments_data/node_17/avgWholeSaleCostGroupedBySoldDate/plots - System nie może odnaleźć określonej ścieżki.\n",
      "Error: ./../experiments_data/node_18/avgWholeSaleCostGroupedBySoldDate/plots - System nie może odnaleźć określonej ścieżki.\n",
      "Error: ./../experiments_data/node_19/avgWholeSaleCostGroupedBySoldDate/plots - System nie może odnaleźć określonej ścieżki.\n",
      "Error: ./../experiments_data/node_20/avgWholeSaleCostGroupedBySoldDate/plots - System nie może odnaleźć określonej ścieżki.\n",
      "Error: ./../experiments_data/node_11/countDistinctTicketNumber/plots - System nie może odnaleźć określonej ścieżki.\n",
      "Error: ./../experiments_data/node_12/countDistinctTicketNumber/plots - System nie może odnaleźć określonej ścieżki.\n",
      "Error: ./../experiments_data/node_13/countDistinctTicketNumber/plots - System nie może odnaleźć określonej ścieżki.\n",
      "Error: ./../experiments_data/node_14/countDistinctTicketNumber/plots - System nie może odnaleźć określonej ścieżki.\n",
      "Error: ./../experiments_data/node_15/countDistinctTicketNumber/plots - System nie może odnaleźć określonej ścieżki.\n",
      "Error: ./../experiments_data/node_16/countDistinctTicketNumber/plots - System nie może odnaleźć określonej ścieżki.\n",
      "Error: ./../experiments_data/node_17/countDistinctTicketNumber/plots - System nie może odnaleźć określonej ścieżki.\n",
      "Error: ./../experiments_data/node_18/countDistinctTicketNumber/plots - System nie może odnaleźć określonej ścieżki.\n",
      "Error: ./../experiments_data/node_19/countDistinctTicketNumber/plots - System nie może odnaleźć określonej ścieżki.\n",
      "Error: ./../experiments_data/node_20/countDistinctTicketNumber/plots - System nie może odnaleźć określonej ścieżki.\n",
      "Error: ./../experiments_data/node_20/countNetProfitGroupedBySoldDate/plots - System nie może odnaleźć określonej ścieżki.\n",
      "Error: ./../experiments_data/node_20/countNetProfitGroupedBySoldDateWhereProfitNegative/plots - System nie może odnaleźć określonej ścieżki.\n",
      "Error: ./../experiments_data/node_20/countWholeSaleCostGroupedBySoldDate/plots - System nie może odnaleźć określonej ścieżki.\n",
      "Error: ./../experiments_data/node_20/filterCatalogSalesWhereProfitNegative/plots - System nie może odnaleźć określonej ścieżki.\n",
      "Error: ./../experiments_data/node_11/filterCatalogSalesWhereProfitNegativeAndYearAfter2000/plots - System nie może odnaleźć określonej ścieżki.\n",
      "Error: ./../experiments_data/node_12/filterCatalogSalesWhereProfitNegativeAndYearAfter2000/plots - System nie może odnaleźć określonej ścieżki.\n",
      "Error: ./../experiments_data/node_13/filterCatalogSalesWhereProfitNegativeAndYearAfter2000/plots - System nie może odnaleźć określonej ścieżki.\n",
      "Error: ./../experiments_data/node_14/filterCatalogSalesWhereProfitNegativeAndYearAfter2000/plots - System nie może odnaleźć określonej ścieżki.\n",
      "Error: ./../experiments_data/node_15/filterCatalogSalesWhereProfitNegativeAndYearAfter2000/plots - System nie może odnaleźć określonej ścieżki.\n",
      "Error: ./../experiments_data/node_16/filterCatalogSalesWhereProfitNegativeAndYearAfter2000/plots - System nie może odnaleźć określonej ścieżki.\n",
      "Error: ./../experiments_data/node_17/filterCatalogSalesWhereProfitNegativeAndYearAfter2000/plots - System nie może odnaleźć określonej ścieżki.\n",
      "Error: ./../experiments_data/node_18/filterCatalogSalesWhereProfitNegativeAndYearAfter2000/plots - System nie może odnaleźć określonej ścieżki.\n",
      "Error: ./../experiments_data/node_19/filterCatalogSalesWhereProfitNegativeAndYearAfter2000/plots - System nie może odnaleźć określonej ścieżki.\n",
      "Error: ./../experiments_data/node_20/filterCatalogSalesWhereProfitNegativeAndYearAfter2000/plots - System nie może odnaleźć określonej ścieżki.\n",
      "Error: ./../experiments_data/node_11/filterCatalogSalesWhereYearAfter2000/plots - System nie może odnaleźć określonej ścieżki.\n",
      "Error: ./../experiments_data/node_12/filterCatalogSalesWhereYearAfter2000/plots - System nie może odnaleźć określonej ścieżki.\n",
      "Error: ./../experiments_data/node_13/filterCatalogSalesWhereYearAfter2000/plots - System nie może odnaleźć określonej ścieżki.\n",
      "Error: ./../experiments_data/node_14/filterCatalogSalesWhereYearAfter2000/plots - System nie może odnaleźć określonej ścieżki.\n",
      "Error: ./../experiments_data/node_15/filterCatalogSalesWhereYearAfter2000/plots - System nie może odnaleźć określonej ścieżki.\n",
      "Error: ./../experiments_data/node_16/filterCatalogSalesWhereYearAfter2000/plots - System nie może odnaleźć określonej ścieżki.\n",
      "Error: ./../experiments_data/node_17/filterCatalogSalesWhereYearAfter2000/plots - System nie może odnaleźć określonej ścieżki.\n",
      "Error: ./../experiments_data/node_18/filterCatalogSalesWhereYearAfter2000/plots - System nie może odnaleźć określonej ścieżki.\n",
      "Error: ./../experiments_data/node_19/filterCatalogSalesWhereYearAfter2000/plots - System nie może odnaleźć określonej ścieżki.\n",
      "Error: ./../experiments_data/node_20/filterCatalogSalesWhereYearAfter2000/plots - System nie może odnaleźć określonej ścieżki.\n",
      "Error: ./../experiments_data/node_11/filterStoreSalesWhereProfitNegative/plots - System nie może odnaleźć określonej ścieżki.\n",
      "Error: ./../experiments_data/node_12/filterStoreSalesWhereProfitNegative/plots - System nie może odnaleźć określonej ścieżki.\n",
      "Error: ./../experiments_data/node_13/filterStoreSalesWhereProfitNegative/plots - System nie może odnaleźć określonej ścieżki.\n",
      "Error: ./../experiments_data/node_14/filterStoreSalesWhereProfitNegative/plots - System nie może odnaleźć określonej ścieżki.\n",
      "Error: ./../experiments_data/node_15/filterStoreSalesWhereProfitNegative/plots - System nie może odnaleźć określonej ścieżki.\n",
      "Error: ./../experiments_data/node_16/filterStoreSalesWhereProfitNegative/plots - System nie może odnaleźć określonej ścieżki.\n",
      "Error: ./../experiments_data/node_17/filterStoreSalesWhereProfitNegative/plots - System nie może odnaleźć określonej ścieżki.\n",
      "Error: ./../experiments_data/node_18/filterStoreSalesWhereProfitNegative/plots - System nie może odnaleźć określonej ścieżki.\n",
      "Error: ./../experiments_data/node_19/filterStoreSalesWhereProfitNegative/plots - System nie może odnaleźć określonej ścieżki.\n",
      "Error: ./../experiments_data/node_20/filterStoreSalesWhereProfitNegative/plots - System nie może odnaleźć określonej ścieżki.\n",
      "Error: ./../experiments_data/node_11/filterStoreSalesWhereProfitNegativeAndYearAfter2000/plots - System nie może odnaleźć określonej ścieżki.\n",
      "Error: ./../experiments_data/node_12/filterStoreSalesWhereProfitNegativeAndYearAfter2000/plots - System nie może odnaleźć określonej ścieżki.\n",
      "Error: ./../experiments_data/node_13/filterStoreSalesWhereProfitNegativeAndYearAfter2000/plots - System nie może odnaleźć określonej ścieżki.\n",
      "Error: ./../experiments_data/node_14/filterStoreSalesWhereProfitNegativeAndYearAfter2000/plots - System nie może odnaleźć określonej ścieżki.\n",
      "Error: ./../experiments_data/node_15/filterStoreSalesWhereProfitNegativeAndYearAfter2000/plots - System nie może odnaleźć określonej ścieżki.\n",
      "Error: ./../experiments_data/node_16/filterStoreSalesWhereProfitNegativeAndYearAfter2000/plots - System nie może odnaleźć określonej ścieżki.\n",
      "Error: ./../experiments_data/node_17/filterStoreSalesWhereProfitNegativeAndYearAfter2000/plots - System nie może odnaleźć określonej ścieżki.\n",
      "Error: ./../experiments_data/node_18/filterStoreSalesWhereProfitNegativeAndYearAfter2000/plots - System nie może odnaleźć określonej ścieżki.\n",
      "Error: ./../experiments_data/node_19/filterStoreSalesWhereProfitNegativeAndYearAfter2000/plots - System nie może odnaleźć określonej ścieżki.\n",
      "Error: ./../experiments_data/node_20/filterStoreSalesWhereProfitNegativeAndYearAfter2000/plots - System nie może odnaleźć określonej ścieżki.\n",
      "Error: ./../experiments_data/node_11/filterStoreSalesWhereYearAfter2000/plots - System nie może odnaleźć określonej ścieżki.\n",
      "Error: ./../experiments_data/node_12/filterStoreSalesWhereYearAfter2000/plots - System nie może odnaleźć określonej ścieżki.\n",
      "Error: ./../experiments_data/node_13/filterStoreSalesWhereYearAfter2000/plots - System nie może odnaleźć określonej ścieżki.\n",
      "Error: ./../experiments_data/node_14/filterStoreSalesWhereYearAfter2000/plots - System nie może odnaleźć określonej ścieżki.\n",
      "Error: ./../experiments_data/node_15/filterStoreSalesWhereYearAfter2000/plots - System nie może odnaleźć określonej ścieżki.\n",
      "Error: ./../experiments_data/node_16/filterStoreSalesWhereYearAfter2000/plots - System nie może odnaleźć określonej ścieżki.\n",
      "Error: ./../experiments_data/node_17/filterStoreSalesWhereYearAfter2000/plots - System nie może odnaleźć określonej ścieżki.\n",
      "Error: ./../experiments_data/node_18/filterStoreSalesWhereYearAfter2000/plots - System nie może odnaleźć określonej ścieżki.\n",
      "Error: ./../experiments_data/node_19/filterStoreSalesWhereYearAfter2000/plots - System nie może odnaleźć określonej ścieżki.\n",
      "Error: ./../experiments_data/node_20/filterStoreSalesWhereYearAfter2000/plots - System nie może odnaleźć określonej ścieżki.\n",
      "Error: ./../experiments_data/node_11/maxNetProfitGroupedBySoldDate/plots - System nie może odnaleźć określonej ścieżki.\n",
      "Error: ./../experiments_data/node_12/maxNetProfitGroupedBySoldDate/plots - System nie może odnaleźć określonej ścieżki.\n",
      "Error: ./../experiments_data/node_13/maxNetProfitGroupedBySoldDate/plots - System nie może odnaleźć określonej ścieżki.\n",
      "Error: ./../experiments_data/node_14/maxNetProfitGroupedBySoldDate/plots - System nie może odnaleźć określonej ścieżki.\n",
      "Error: ./../experiments_data/node_15/maxNetProfitGroupedBySoldDate/plots - System nie może odnaleźć określonej ścieżki.\n",
      "Error: ./../experiments_data/node_16/maxNetProfitGroupedBySoldDate/plots - System nie może odnaleźć określonej ścieżki.\n",
      "Error: ./../experiments_data/node_17/maxNetProfitGroupedBySoldDate/plots - System nie może odnaleźć określonej ścieżki.\n",
      "Error: ./../experiments_data/node_18/maxNetProfitGroupedBySoldDate/plots - System nie może odnaleźć określonej ścieżki.\n",
      "Error: ./../experiments_data/node_19/maxNetProfitGroupedBySoldDate/plots - System nie może odnaleźć określonej ścieżki.\n",
      "Error: ./../experiments_data/node_20/maxNetProfitGroupedBySoldDate/plots - System nie może odnaleźć określonej ścieżki.\n",
      "Error: ./../experiments_data/node_11/maxNetProfitGroupedBySoldDateWhereProfitNegative/plots - System nie może odnaleźć określonej ścieżki.\n",
      "Error: ./../experiments_data/node_12/maxNetProfitGroupedBySoldDateWhereProfitNegative/plots - System nie może odnaleźć określonej ścieżki.\n",
      "Error: ./../experiments_data/node_13/maxNetProfitGroupedBySoldDateWhereProfitNegative/plots - System nie może odnaleźć określonej ścieżki.\n",
      "Error: ./../experiments_data/node_14/maxNetProfitGroupedBySoldDateWhereProfitNegative/plots - System nie może odnaleźć określonej ścieżki.\n",
      "Error: ./../experiments_data/node_15/maxNetProfitGroupedBySoldDateWhereProfitNegative/plots - System nie może odnaleźć określonej ścieżki.\n",
      "Error: ./../experiments_data/node_16/maxNetProfitGroupedBySoldDateWhereProfitNegative/plots - System nie może odnaleźć określonej ścieżki.\n",
      "Error: ./../experiments_data/node_17/maxNetProfitGroupedBySoldDateWhereProfitNegative/plots - System nie może odnaleźć określonej ścieżki.\n",
      "Error: ./../experiments_data/node_18/maxNetProfitGroupedBySoldDateWhereProfitNegative/plots - System nie może odnaleźć określonej ścieżki.\n",
      "Error: ./../experiments_data/node_19/maxNetProfitGroupedBySoldDateWhereProfitNegative/plots - System nie może odnaleźć określonej ścieżki.\n",
      "Error: ./../experiments_data/node_20/maxNetProfitGroupedBySoldDateWhereProfitNegative/plots - System nie może odnaleźć określonej ścieżki.\n",
      "Error: ./../experiments_data/node_11/maxWholeSaleCostGroupedBySoldDate/plots - System nie może odnaleźć określonej ścieżki.\n",
      "Error: ./../experiments_data/node_12/maxWholeSaleCostGroupedBySoldDate/plots - System nie może odnaleźć określonej ścieżki.\n",
      "Error: ./../experiments_data/node_13/maxWholeSaleCostGroupedBySoldDate/plots - System nie może odnaleźć określonej ścieżki.\n",
      "Error: ./../experiments_data/node_14/maxWholeSaleCostGroupedBySoldDate/plots - System nie może odnaleźć określonej ścieżki.\n",
      "Error: ./../experiments_data/node_15/maxWholeSaleCostGroupedBySoldDate/plots - System nie może odnaleźć określonej ścieżki.\n",
      "Error: ./../experiments_data/node_16/maxWholeSaleCostGroupedBySoldDate/plots - System nie może odnaleźć określonej ścieżki.\n",
      "Error: ./../experiments_data/node_17/maxWholeSaleCostGroupedBySoldDate/plots - System nie może odnaleźć określonej ścieżki.\n",
      "Error: ./../experiments_data/node_18/maxWholeSaleCostGroupedBySoldDate/plots - System nie może odnaleźć określonej ścieżki.\n",
      "Error: ./../experiments_data/node_19/maxWholeSaleCostGroupedBySoldDate/plots - System nie może odnaleźć określonej ścieżki.\n",
      "Error: ./../experiments_data/node_20/maxWholeSaleCostGroupedBySoldDate/plots - System nie może odnaleźć określonej ścieżki.\n",
      "Error: ./../experiments_data/node_11/minNetProfitGroupedBySoldDate/plots - System nie może odnaleźć określonej ścieżki.\n",
      "Error: ./../experiments_data/node_12/minNetProfitGroupedBySoldDate/plots - System nie może odnaleźć określonej ścieżki.\n",
      "Error: ./../experiments_data/node_13/minNetProfitGroupedBySoldDate/plots - System nie może odnaleźć określonej ścieżki.\n",
      "Error: ./../experiments_data/node_14/minNetProfitGroupedBySoldDate/plots - System nie może odnaleźć określonej ścieżki.\n",
      "Error: ./../experiments_data/node_15/minNetProfitGroupedBySoldDate/plots - System nie może odnaleźć określonej ścieżki.\n",
      "Error: ./../experiments_data/node_16/minNetProfitGroupedBySoldDate/plots - System nie może odnaleźć określonej ścieżki.\n",
      "Error: ./../experiments_data/node_17/minNetProfitGroupedBySoldDate/plots - System nie może odnaleźć określonej ścieżki.\n",
      "Error: ./../experiments_data/node_18/minNetProfitGroupedBySoldDate/plots - System nie może odnaleźć określonej ścieżki.\n",
      "Error: ./../experiments_data/node_19/minNetProfitGroupedBySoldDate/plots - System nie może odnaleźć określonej ścieżki.\n",
      "Error: ./../experiments_data/node_20/minNetProfitGroupedBySoldDate/plots - System nie może odnaleźć określonej ścieżki.\n",
      "Error: ./../experiments_data/node_11/minNetProfitGroupedBySoldDateWhereProfitNegative/plots - System nie może odnaleźć określonej ścieżki.\n",
      "Error: ./../experiments_data/node_12/minNetProfitGroupedBySoldDateWhereProfitNegative/plots - System nie może odnaleźć określonej ścieżki.\n",
      "Error: ./../experiments_data/node_13/minNetProfitGroupedBySoldDateWhereProfitNegative/plots - System nie może odnaleźć określonej ścieżki.\n",
      "Error: ./../experiments_data/node_14/minNetProfitGroupedBySoldDateWhereProfitNegative/plots - System nie może odnaleźć określonej ścieżki.\n",
      "Error: ./../experiments_data/node_15/minNetProfitGroupedBySoldDateWhereProfitNegative/plots - System nie może odnaleźć określonej ścieżki.\n",
      "Error: ./../experiments_data/node_16/minNetProfitGroupedBySoldDateWhereProfitNegative/plots - System nie może odnaleźć określonej ścieżki.\n",
      "Error: ./../experiments_data/node_17/minNetProfitGroupedBySoldDateWhereProfitNegative/plots - System nie może odnaleźć określonej ścieżki.\n",
      "Error: ./../experiments_data/node_18/minNetProfitGroupedBySoldDateWhereProfitNegative/plots - System nie może odnaleźć określonej ścieżki.\n",
      "Error: ./../experiments_data/node_19/minNetProfitGroupedBySoldDateWhereProfitNegative/plots - System nie może odnaleźć określonej ścieżki.\n",
      "Error: ./../experiments_data/node_20/minNetProfitGroupedBySoldDateWhereProfitNegative/plots - System nie może odnaleźć określonej ścieżki.\n",
      "Error: ./../experiments_data/node_11/minWholeSaleCostGroupedBySoldDate/plots - System nie może odnaleźć określonej ścieżki.\n",
      "Error: ./../experiments_data/node_12/minWholeSaleCostGroupedBySoldDate/plots - System nie może odnaleźć określonej ścieżki.\n",
      "Error: ./../experiments_data/node_13/minWholeSaleCostGroupedBySoldDate/plots - System nie może odnaleźć określonej ścieżki.\n",
      "Error: ./../experiments_data/node_14/minWholeSaleCostGroupedBySoldDate/plots - System nie może odnaleźć określonej ścieżki.\n",
      "Error: ./../experiments_data/node_15/minWholeSaleCostGroupedBySoldDate/plots - System nie może odnaleźć określonej ścieżki.\n",
      "Error: ./../experiments_data/node_16/minWholeSaleCostGroupedBySoldDate/plots - System nie może odnaleźć określonej ścieżki.\n",
      "Error: ./../experiments_data/node_17/minWholeSaleCostGroupedBySoldDate/plots - System nie może odnaleźć określonej ścieżki.\n",
      "Error: ./../experiments_data/node_18/minWholeSaleCostGroupedBySoldDate/plots - System nie może odnaleźć określonej ścieżki.\n",
      "Error: ./../experiments_data/node_19/minWholeSaleCostGroupedBySoldDate/plots - System nie może odnaleźć określonej ścieżki.\n",
      "Error: ./../experiments_data/node_20/minWholeSaleCostGroupedBySoldDate/plots - System nie może odnaleźć określonej ścieżki.\n",
      "Error: ./../experiments_data/node_11/summaryNetProfitGroupedBySoldDate/plots - System nie może odnaleźć określonej ścieżki.\n",
      "Error: ./../experiments_data/node_12/summaryNetProfitGroupedBySoldDate/plots - System nie może odnaleźć określonej ścieżki.\n",
      "Error: ./../experiments_data/node_13/summaryNetProfitGroupedBySoldDate/plots - System nie może odnaleźć określonej ścieżki.\n",
      "Error: ./../experiments_data/node_14/summaryNetProfitGroupedBySoldDate/plots - System nie może odnaleźć określonej ścieżki.\n",
      "Error: ./../experiments_data/node_15/summaryNetProfitGroupedBySoldDate/plots - System nie może odnaleźć określonej ścieżki.\n",
      "Error: ./../experiments_data/node_16/summaryNetProfitGroupedBySoldDate/plots - System nie może odnaleźć określonej ścieżki.\n",
      "Error: ./../experiments_data/node_17/summaryNetProfitGroupedBySoldDate/plots - System nie może odnaleźć określonej ścieżki.\n",
      "Error: ./../experiments_data/node_18/summaryNetProfitGroupedBySoldDate/plots - System nie może odnaleźć określonej ścieżki.\n",
      "Error: ./../experiments_data/node_19/summaryNetProfitGroupedBySoldDate/plots - System nie może odnaleźć określonej ścieżki.\n",
      "Error: ./../experiments_data/node_20/summaryNetProfitGroupedBySoldDate/plots - System nie może odnaleźć określonej ścieżki.\n",
      "Error: ./../experiments_data/node_11/summaryWholeSaleCostGroupedBySoldDate/plots - System nie może odnaleźć określonej ścieżki.\n",
      "Error: ./../experiments_data/node_12/summaryWholeSaleCostGroupedBySoldDate/plots - System nie może odnaleźć określonej ścieżki.\n",
      "Error: ./../experiments_data/node_13/summaryWholeSaleCostGroupedBySoldDate/plots - System nie może odnaleźć określonej ścieżki.\n",
      "Error: ./../experiments_data/node_14/summaryWholeSaleCostGroupedBySoldDate/plots - System nie może odnaleźć określonej ścieżki.\n",
      "Error: ./../experiments_data/node_15/summaryWholeSaleCostGroupedBySoldDate/plots - System nie może odnaleźć określonej ścieżki.\n",
      "Error: ./../experiments_data/node_16/summaryWholeSaleCostGroupedBySoldDate/plots - System nie może odnaleźć określonej ścieżki.\n",
      "Error: ./../experiments_data/node_17/summaryWholeSaleCostGroupedBySoldDate/plots - System nie może odnaleźć określonej ścieżki.\n",
      "Error: ./../experiments_data/node_18/summaryWholeSaleCostGroupedBySoldDate/plots - System nie może odnaleźć określonej ścieżki.\n",
      "Error: ./../experiments_data/node_19/summaryWholeSaleCostGroupedBySoldDate/plots - System nie może odnaleźć określonej ścieżki.\n",
      "Error: ./../experiments_data/node_20/summaryWholeSaleCostGroupedBySoldDate/plots - System nie może odnaleźć określonej ścieżki.\n",
      "Error: ./../experiments_data/node_11/sumNetProfitGroupedBySoldDate/plots - System nie może odnaleźć określonej ścieżki.\n",
      "Error: ./../experiments_data/node_12/sumNetProfitGroupedBySoldDate/plots - System nie może odnaleźć określonej ścieżki.\n",
      "Error: ./../experiments_data/node_13/sumNetProfitGroupedBySoldDate/plots - System nie może odnaleźć określonej ścieżki.\n",
      "Error: ./../experiments_data/node_14/sumNetProfitGroupedBySoldDate/plots - System nie może odnaleźć określonej ścieżki.\n",
      "Error: ./../experiments_data/node_15/sumNetProfitGroupedBySoldDate/plots - System nie może odnaleźć określonej ścieżki.\n",
      "Error: ./../experiments_data/node_16/sumNetProfitGroupedBySoldDate/plots - System nie może odnaleźć określonej ścieżki.\n",
      "Error: ./../experiments_data/node_17/sumNetProfitGroupedBySoldDate/plots - System nie może odnaleźć określonej ścieżki.\n",
      "Error: ./../experiments_data/node_18/sumNetProfitGroupedBySoldDate/plots - System nie może odnaleźć określonej ścieżki.\n",
      "Error: ./../experiments_data/node_19/sumNetProfitGroupedBySoldDate/plots - System nie może odnaleźć określonej ścieżki.\n",
      "Error: ./../experiments_data/node_20/sumNetProfitGroupedBySoldDate/plots - System nie może odnaleźć określonej ścieżki.\n",
      "Error: ./../experiments_data/node_11/sumNetProfitGroupedBySoldDateWhereProfitNegative/plots - System nie może odnaleźć określonej ścieżki.\n",
      "Error: ./../experiments_data/node_12/sumNetProfitGroupedBySoldDateWhereProfitNegative/plots - System nie może odnaleźć określonej ścieżki.\n",
      "Error: ./../experiments_data/node_13/sumNetProfitGroupedBySoldDateWhereProfitNegative/plots - System nie może odnaleźć określonej ścieżki.\n",
      "Error: ./../experiments_data/node_14/sumNetProfitGroupedBySoldDateWhereProfitNegative/plots - System nie może odnaleźć określonej ścieżki.\n",
      "Error: ./../experiments_data/node_15/sumNetProfitGroupedBySoldDateWhereProfitNegative/plots - System nie może odnaleźć określonej ścieżki.\n",
      "Error: ./../experiments_data/node_16/sumNetProfitGroupedBySoldDateWhereProfitNegative/plots - System nie może odnaleźć określonej ścieżki.\n",
      "Error: ./../experiments_data/node_17/sumNetProfitGroupedBySoldDateWhereProfitNegative/plots - System nie może odnaleźć określonej ścieżki.\n",
      "Error: ./../experiments_data/node_18/sumNetProfitGroupedBySoldDateWhereProfitNegative/plots - System nie może odnaleźć określonej ścieżki.\n",
      "Error: ./../experiments_data/node_19/sumNetProfitGroupedBySoldDateWhereProfitNegative/plots - System nie może odnaleźć określonej ścieżki.\n",
      "Error: ./../experiments_data/node_20/sumNetProfitGroupedBySoldDateWhereProfitNegative/plots - System nie może odnaleźć określonej ścieżki.\n",
      "Error: ./../experiments_data/node_11/sumWholeSaleCostGroupedBySoldDate/plots - System nie może odnaleźć określonej ścieżki.\n",
      "Error: ./../experiments_data/node_12/sumWholeSaleCostGroupedBySoldDate/plots - System nie może odnaleźć określonej ścieżki.\n",
      "Error: ./../experiments_data/node_13/sumWholeSaleCostGroupedBySoldDate/plots - System nie może odnaleźć określonej ścieżki.\n",
      "Error: ./../experiments_data/node_14/sumWholeSaleCostGroupedBySoldDate/plots - System nie może odnaleźć określonej ścieżki.\n",
      "Error: ./../experiments_data/node_15/sumWholeSaleCostGroupedBySoldDate/plots - System nie może odnaleźć określonej ścieżki.\n",
      "Error: ./../experiments_data/node_16/sumWholeSaleCostGroupedBySoldDate/plots - System nie może odnaleźć określonej ścieżki.\n",
      "Error: ./../experiments_data/node_17/sumWholeSaleCostGroupedBySoldDate/plots - System nie może odnaleźć określonej ścieżki.\n",
      "Error: ./../experiments_data/node_18/sumWholeSaleCostGroupedBySoldDate/plots - System nie może odnaleźć określonej ścieżki.\n",
      "Error: ./../experiments_data/node_19/sumWholeSaleCostGroupedBySoldDate/plots - System nie może odnaleźć określonej ścieżki.\n",
      "Error: ./../experiments_data/node_20/sumWholeSaleCostGroupedBySoldDate/plots - System nie może odnaleźć określonej ścieżki.\n"
     ]
    }
   ],
   "source": [
    "for function_name in function_names:\n",
    "    for node_dir in nodes_directories:\n",
    "        try:\n",
    "            shutil.rmtree('./../experiments_data{}{}/plots'.format(node_dir, function_name))\n",
    "        except OSError as e:\n",
    "            print(\"Error: %s - %s.\" % (e.filename, e.strerror))\n",
    "\n",
    "try:\n",
    "    shutil.rmtree('./../experiments_data/preprocessed-data')\n",
    "except OSError as e:\n",
    "    print(\"Error: %s - %s.\" % (e.filename, e.strerror))"
   ],
   "metadata": {
    "collapsed": false,
    "pycharm": {
     "name": "#%%\n"
    }
   }
  }
 ]
}