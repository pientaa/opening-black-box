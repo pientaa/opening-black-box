{
 "nbformat": 4,
 "nbformat_minor": 0,
 "metadata": {
  "colab": {
   "name": "prepare_data.ipynb",
   "provenance": []
  },
  "kernelspec": {
   "name": "pycharm-afd99e2c",
   "language": "python",
   "display_name": "PyCharm (opening-black-box)"
  },
  "language_info": {
   "name": "python"
  }
 },
 "cells": [
  {
   "cell_type": "code",
   "metadata": {
    "id": "FQnQig-Tqwrs"
   },
   "source": [
    "import pandas as pd   \n",
    "import matplotlib.pyplot as plt\n",
    "from datetime import datetime\n",
    "from pathlib import Path\n",
    "from statistics import mean"
   ],
   "execution_count": 1,
   "outputs": []
  },
  {
   "cell_type": "code",
   "execution_count": 2,
   "outputs": [],
   "source": [
    "def get_subdirectories(directory=\"\"):\n",
    "    subdirectories = []\n",
    "    p = Path(\"./../experiments_data/\" + directory)\n",
    "    for item in p.glob('*/'):\n",
    "        if item.suffix not in (['.csv', '.zip']):\n",
    "            subdirectories.append(directory + \"/\" + item.name)\n",
    "    return subdirectories\n",
    "\n",
    "def get_duration(dataframe):\n",
    "    start_time = dataframe['timestamp'].max()\n",
    "    stop_time = dataframe['timestamp'].min()\n",
    "\n",
    "    start_datetime = datetime.strptime(start_time, '%Y-%m-%d %H:%M:%S.%f')\n",
    "    stop_datetime = datetime.strptime(stop_time, '%Y-%m-%d %H:%M:%S.%f')\n",
    "    duration = stop_datetime - start_datetime\n",
    "    return duration.microseconds\n",
    "\n",
    "def preprocess_file(file_path, filename, iteration):\n",
    "    read_data = pd.read_csv(file_path + \"/\" + filename)\n",
    "    agg_read_data = read_data.\\\n",
    "        groupby('timestamp', as_index=False).\\\n",
    "        agg({\"CPU\": \"sum\", \"RAM\": \"sum\"})\n",
    "\n",
    "    fig = plt.figure(figsize=(20,10))\n",
    "    plt.plot(agg_read_data.index, agg_read_data.CPU, 'r.-')\n",
    "    plt.savefig(file_path + \"/\" + str(iteration) + \"CPU.png\")\n",
    "    plt.close(fig)\n",
    "\n",
    "    fig = plt.figure(figsize=(20,10))\n",
    "    plt.plot(agg_read_data.index, agg_read_data.RAM, 'r.-')\n",
    "    plt.savefig(file_path + \"/\" + str(iteration) + \"RAM.png\")\n",
    "    plt.close(fig)\n",
    "\n",
    "    duration = get_duration(agg_read_data)\n",
    "\n",
    "    return agg_read_data, duration"
   ],
   "metadata": {
    "collapsed": false,
    "pycharm": {
     "name": "#%%\n"
    }
   }
  },
  {
   "cell_type": "code",
   "execution_count": 3,
   "outputs": [
    {
     "data": {
      "text/plain": "['/11_experiments_data_2021_05_05_21_37',\n '/12_experiments_data_2021_05_05_21_37',\n '/13_experiments_data_2021_05_05_21_37',\n '/20_experiments_data_2021_05_05_21_37']"
     },
     "execution_count": 3,
     "metadata": {},
     "output_type": "execute_result"
    }
   ],
   "source": [
    "nodes_directories = get_subdirectories()\n",
    "nodes_directories"
   ],
   "metadata": {
    "collapsed": false,
    "pycharm": {
     "name": "#%%\n"
    }
   }
  },
  {
   "cell_type": "code",
   "execution_count": 4,
   "outputs": [
    {
     "data": {
      "text/plain": "['/11_experiments_data_2021_05_05_21_37/countDistinctTicketNumber',\n '/12_experiments_data_2021_05_05_21_37/countDistinctTicketNumber',\n '/13_experiments_data_2021_05_05_21_37/countDistinctTicketNumber',\n '/20_experiments_data_2021_05_05_21_37/countDistinctTicketNumber']"
     },
     "execution_count": 4,
     "metadata": {},
     "output_type": "execute_result"
    }
   ],
   "source": [
    "data_directories = []\n",
    "for directory in nodes_directories:\n",
    "    cur_node_subdirectories = get_subdirectories(directory)\n",
    "    data_directories.append(cur_node_subdirectories)\n",
    "\n",
    "data_directories = [item for sublist in data_directories for item in sublist]\n",
    "data_directories"
   ],
   "metadata": {
    "collapsed": false,
    "pycharm": {
     "name": "#%%\n"
    }
   }
  },
  {
   "cell_type": "code",
   "execution_count": 6,
   "outputs": [],
   "source": [
    "for experiment_directory in data_directories:\n",
    "    path = \"./../experiments_data\" + experiment_directory\n",
    "    p = Path(path)\n",
    "    iteration = 1\n",
    "    agg_base_data = pd.DataFrame()\n",
    "    experiments_durations = []\n",
    "\n",
    "    for file in p.glob('*.csv'):\n",
    "        if iteration == 1:\n",
    "            agg_base_data, duration = preprocess_file(path, file.name, iteration)\n",
    "            experiments_durations.append(duration)\n",
    "\n",
    "        else:\n",
    "            agg_new_data, duration = preprocess_file(path, file.name, iteration)\n",
    "            experiments_durations.append(duration)\n",
    "            \n",
    "            agg_base_data = pd.concat((agg_base_data, agg_new_data))\n",
    "\n",
    "        iteration += 1\n",
    "\n",
    "    experiment_duration_mean = mean(experiments_durations)\n",
    "\n",
    "    agg_base_data = agg_base_data.groupby(agg_base_data.index).mean()\n",
    "\n",
    "    mean_duration_col = [experiment_duration_mean] * agg_base_data.shape[0]\n",
    "    agg_base_data['duration'] = mean_duration_col\n",
    "\n",
    "    agg_base_data.to_csv(path + \"/experiment_mean_data.csv\", index=False)\n",
    "\n",
    "    fig = plt.figure(figsize=(20,10))\n",
    "    plt.plot(agg_base_data.index, agg_base_data.CPU, 'r.-')\n",
    "    plt.savefig(path + \"/\" + \"avg_CPU.png\")\n",
    "    plt.close(fig)\n",
    "\n",
    "    fig = plt.figure(figsize=(20,10))\n",
    "    plt.plot(agg_base_data.index, agg_base_data.RAM, 'r.-')\n",
    "    plt.savefig(path + \"/\" + \"avg_RAM.png\")\n",
    "    plt.close(fig)\n"
   ],
   "metadata": {
    "collapsed": false,
    "pycharm": {
     "name": "#%%\n"
    }
   }
  }
 ]
}