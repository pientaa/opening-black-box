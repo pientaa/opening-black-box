{
 "nbformat": 4,
 "nbformat_minor": 0,
 "metadata": {
  "colab": {
   "name": "prepare_data.ipynb",
   "provenance": []
  },
  "kernelspec": {
   "name": "pycharm-afd99e2c",
   "language": "python",
   "display_name": "PyCharm (opening-black-box)"
  },
  "language_info": {
   "name": "python"
  }
 },
 "cells": [
  {
   "cell_type": "code",
   "metadata": {
    "id": "FQnQig-Tqwrs"
   },
   "source": [
    "import pandas as pd   \n",
    "import matplotlib.pyplot as plt\n",
    "import matplotlib.colors as colors\n",
    "import os\n",
    "import shutil\n",
    "from datetime import datetime\n",
    "from pathlib import Path\n",
    "from tsmoothie.smoother import *\n",
    "from statistics import mean"
   ],
   "execution_count": 1,
   "outputs": []
  },
  {
   "cell_type": "markdown",
   "source": [
    "# Notebook for preprocessing data from experiments\n",
    "\n",
    "Defined functions:"
   ],
   "metadata": {
    "collapsed": false,
    "pycharm": {
     "name": "#%% md\n"
    }
   }
  },
  {
   "cell_type": "code",
   "execution_count": 4,
   "outputs": [],
   "source": [
    "def get_subdirectories(directory=\"\"):\n",
    "    subdirectories = []\n",
    "    p = Path(\"./../experiments_data/\" + directory)\n",
    "    for item in p.glob('*/'):\n",
    "        if item.suffix not in (['.csv', '.zip']):\n",
    "            subdirectories.append(directory + \"/\" + item.name)\n",
    "    return subdirectories\n",
    "\n",
    "def get_timestamp_info(data):\n",
    "    data['timestamp'] = pd.to_datetime(data['timestamp'])\n",
    "    start_time = data['timestamp'].min()\n",
    "    stop_time = data['timestamp'].max()\n",
    "\n",
    "    data['timestamp'] = pd.to_numeric(data['timestamp'])\n",
    "    mean_interval = mean(data.diff(axis=0)['timestamp'][1:].tolist())\n",
    "    mean_interval = round(mean_interval / 1000000000, 3)\n",
    "\n",
    "    return (stop_time - start_time).total_seconds(), mean_interval\n",
    "\n",
    "def preprocess_file(file_path, save_path, filename, iteration):\n",
    "    read_data = pd.read_csv(file_path + \"/\" + filename)\n",
    "    agg_read_data = read_data.\\\n",
    "        groupby('timestamp', as_index=False).\\\n",
    "        agg({\"CPU\": \"sum\", \"RAM\": \"sum\"})\n",
    "\n",
    "    generate_plot(agg_read_data.index, agg_read_data.CPU, \"{0}/CPU/{1}_CPU.png\".format(save_path, iteration))\n",
    "    generate_plot(agg_read_data.index, agg_read_data.RAM, \"{0}/RAM/{1}_RAM.png\".format(save_path, iteration))\n",
    "\n",
    "    return agg_read_data, get_timestamp_info(agg_read_data)\n",
    "\n",
    "def generate_plot(data_x=\"\", data_y=\"\", plot_path=\"\", title=\"\"):\n",
    "    fig = plt.figure(figsize=(20,10))\n",
    "    fig.patch.set_facecolor('white')\n",
    "    plt.plot(data_x, data_y, 'r.-')\n",
    "    plt.title(title)\n",
    "    plt.savefig(plot_path)\n",
    "    plt.close(fig)\n",
    "\n",
    "def create_directory(path):\n",
    "    try:\n",
    "        os.mkdir(path)\n",
    "    except OSError as e:\n",
    "        print(\"Error: %s - %s.\" % (e.filename, e.strerror))\n",
    "\n",
    "def smooth_data(mean_data, path, function_name):\n",
    "        smoother = ConvolutionSmoother(window_len=7, window_type=\"ones\")\n",
    "        cpu_data = mean_data['CPU']\n",
    "        ram_data = mean_data['RAM']\n",
    "\n",
    "        smoother.smooth(cpu_data)\n",
    "        smooth_cpu_data = smoother.smooth_data[0]\n",
    "        smoother.smooth(ram_data)\n",
    "        smooth_ram_data = smoother.smooth_data[0]\n",
    "\n",
    "        generate_plot(data_x=mean_data.index,\n",
    "                      data_y=smooth_cpu_data,\n",
    "                      plot_path=\"{0}/smooth_mean_CPU.png\".format(path),\n",
    "                      title=\"Smoothed {0}\".format(function_name))\n",
    "        generate_plot(data_x=mean_data.index,\n",
    "                      data_y=smooth_ram_data,\n",
    "                      plot_path=\"{0}/smooth_mean_RAM.png\".format(path),\n",
    "                      title=\"Smoothed {0}\".format(function_name))\n",
    "\n",
    "        smooth_data = pd.DataFrame(list(zip(smooth_cpu_data, smooth_ram_data)), columns=['CPU', 'RAM'])\n",
    "        smooth_data.to_csv(\"{0}/smooth_mean_data.csv\".format(path), index=False)"
   ],
   "metadata": {
    "collapsed": false,
    "pycharm": {
     "name": "#%%\n"
    }
   }
  },
  {
   "cell_type": "markdown",
   "source": [
    "Check for subdirectories. Number of subdirectories should much the number of nodes used for experiments."
   ],
   "metadata": {
    "collapsed": false,
    "pycharm": {
     "name": "#%% md\n"
    }
   }
  },
  {
   "cell_type": "code",
   "execution_count": 5,
   "outputs": [
    {
     "data": {
      "text/plain": "['/node_11',\n '/node_12',\n '/node_13',\n '/node_14',\n '/node_15',\n '/node_16',\n '/node_17',\n '/node_18',\n '/node_19',\n '/node_20']"
     },
     "execution_count": 5,
     "metadata": {},
     "output_type": "execute_result"
    }
   ],
   "source": [
    "all_directories = get_subdirectories()\n",
    "nodes_directories = [x for x in all_directories if \"node\" in x]\n",
    "nodes_directories"
   ],
   "metadata": {
    "collapsed": false,
    "pycharm": {
     "name": "#%%\n"
    }
   }
  },
  {
   "cell_type": "code",
   "execution_count": 6,
   "outputs": [
    {
     "data": {
      "text/plain": "[['/node_11/avgNetProfitGroupedBySoldDate',\n  '/node_11/avgWholeSaleCostGroupedBySoldDate',\n  '/node_11/countDistinctTicketNumber',\n  '/node_11/countNetProfitGroupedBySoldDate',\n  '/node_11/countWholeSaleCostGroupedBySoldDate',\n  '/node_11/filterCatalogSalesWhereProfitNegative',\n  '/node_11/filterCatalogSalesWhereProfitNegativeAndYearAfter2000',\n  '/node_11/filterCatalogSalesWhereYearAfter2000',\n  '/node_11/filterStoreSalesWhereProfitNegative',\n  '/node_11/filterStoreSalesWhereProfitNegativeAndYearAfter2000',\n  '/node_11/filterStoreSalesWhereYearAfter2000',\n  '/node_11/maxNetProfitGroupedBySoldDate',\n  '/node_11/maxWholeSaleCostGroupedBySoldDate',\n  '/node_11/minNetProfitGroupedBySoldDate',\n  '/node_11/minWholeSaleCostGroupedBySoldDate',\n  '/node_11/summaryNetProfitGroupedBySoldDate',\n  '/node_11/summaryWholeSaleCostGroupedBySoldDate',\n  '/node_11/sumNetProfitGroupedBySoldDate',\n  '/node_11/sumWholeSaleCostGroupedBySoldDate'],\n ['/node_12/avgNetProfitGroupedBySoldDate',\n  '/node_12/avgWholeSaleCostGroupedBySoldDate',\n  '/node_12/countDistinctTicketNumber',\n  '/node_12/countNetProfitGroupedBySoldDate',\n  '/node_12/countWholeSaleCostGroupedBySoldDate',\n  '/node_12/filterCatalogSalesWhereProfitNegative',\n  '/node_12/filterCatalogSalesWhereProfitNegativeAndYearAfter2000',\n  '/node_12/filterCatalogSalesWhereYearAfter2000',\n  '/node_12/filterStoreSalesWhereProfitNegative',\n  '/node_12/filterStoreSalesWhereProfitNegativeAndYearAfter2000',\n  '/node_12/filterStoreSalesWhereYearAfter2000',\n  '/node_12/maxNetProfitGroupedBySoldDate',\n  '/node_12/maxWholeSaleCostGroupedBySoldDate',\n  '/node_12/minNetProfitGroupedBySoldDate',\n  '/node_12/minWholeSaleCostGroupedBySoldDate',\n  '/node_12/summaryNetProfitGroupedBySoldDate',\n  '/node_12/summaryWholeSaleCostGroupedBySoldDate',\n  '/node_12/sumNetProfitGroupedBySoldDate',\n  '/node_12/sumWholeSaleCostGroupedBySoldDate'],\n ['/node_13/avgNetProfitGroupedBySoldDate',\n  '/node_13/avgWholeSaleCostGroupedBySoldDate',\n  '/node_13/countDistinctTicketNumber',\n  '/node_13/countNetProfitGroupedBySoldDate',\n  '/node_13/countWholeSaleCostGroupedBySoldDate',\n  '/node_13/filterCatalogSalesWhereProfitNegative',\n  '/node_13/filterCatalogSalesWhereProfitNegativeAndYearAfter2000',\n  '/node_13/filterCatalogSalesWhereYearAfter2000',\n  '/node_13/filterStoreSalesWhereProfitNegative',\n  '/node_13/filterStoreSalesWhereProfitNegativeAndYearAfter2000',\n  '/node_13/filterStoreSalesWhereYearAfter2000',\n  '/node_13/maxNetProfitGroupedBySoldDate',\n  '/node_13/maxWholeSaleCostGroupedBySoldDate',\n  '/node_13/minNetProfitGroupedBySoldDate',\n  '/node_13/minWholeSaleCostGroupedBySoldDate',\n  '/node_13/summaryNetProfitGroupedBySoldDate',\n  '/node_13/summaryWholeSaleCostGroupedBySoldDate',\n  '/node_13/sumNetProfitGroupedBySoldDate',\n  '/node_13/sumWholeSaleCostGroupedBySoldDate'],\n ['/node_14/avgNetProfitGroupedBySoldDate',\n  '/node_14/avgWholeSaleCostGroupedBySoldDate',\n  '/node_14/countDistinctTicketNumber',\n  '/node_14/countNetProfitGroupedBySoldDate',\n  '/node_14/countWholeSaleCostGroupedBySoldDate',\n  '/node_14/filterCatalogSalesWhereProfitNegative',\n  '/node_14/filterCatalogSalesWhereProfitNegativeAndYearAfter2000',\n  '/node_14/filterCatalogSalesWhereYearAfter2000',\n  '/node_14/filterStoreSalesWhereProfitNegative',\n  '/node_14/filterStoreSalesWhereProfitNegativeAndYearAfter2000',\n  '/node_14/filterStoreSalesWhereYearAfter2000',\n  '/node_14/maxNetProfitGroupedBySoldDate',\n  '/node_14/maxWholeSaleCostGroupedBySoldDate',\n  '/node_14/minNetProfitGroupedBySoldDate',\n  '/node_14/minWholeSaleCostGroupedBySoldDate',\n  '/node_14/summaryNetProfitGroupedBySoldDate',\n  '/node_14/summaryWholeSaleCostGroupedBySoldDate',\n  '/node_14/sumNetProfitGroupedBySoldDate',\n  '/node_14/sumWholeSaleCostGroupedBySoldDate'],\n ['/node_15/avgNetProfitGroupedBySoldDate',\n  '/node_15/avgWholeSaleCostGroupedBySoldDate',\n  '/node_15/countDistinctTicketNumber',\n  '/node_15/countNetProfitGroupedBySoldDate',\n  '/node_15/countWholeSaleCostGroupedBySoldDate',\n  '/node_15/filterCatalogSalesWhereProfitNegative',\n  '/node_15/filterCatalogSalesWhereProfitNegativeAndYearAfter2000',\n  '/node_15/filterCatalogSalesWhereYearAfter2000',\n  '/node_15/filterStoreSalesWhereProfitNegative',\n  '/node_15/filterStoreSalesWhereProfitNegativeAndYearAfter2000',\n  '/node_15/filterStoreSalesWhereYearAfter2000',\n  '/node_15/maxNetProfitGroupedBySoldDate',\n  '/node_15/maxWholeSaleCostGroupedBySoldDate',\n  '/node_15/minNetProfitGroupedBySoldDate',\n  '/node_15/minWholeSaleCostGroupedBySoldDate',\n  '/node_15/summaryNetProfitGroupedBySoldDate',\n  '/node_15/summaryWholeSaleCostGroupedBySoldDate',\n  '/node_15/sumNetProfitGroupedBySoldDate',\n  '/node_15/sumWholeSaleCostGroupedBySoldDate'],\n ['/node_16/avgNetProfitGroupedBySoldDate',\n  '/node_16/avgWholeSaleCostGroupedBySoldDate',\n  '/node_16/countDistinctTicketNumber',\n  '/node_16/countNetProfitGroupedBySoldDate',\n  '/node_16/countWholeSaleCostGroupedBySoldDate',\n  '/node_16/filterCatalogSalesWhereProfitNegative',\n  '/node_16/filterCatalogSalesWhereProfitNegativeAndYearAfter2000',\n  '/node_16/filterCatalogSalesWhereYearAfter2000',\n  '/node_16/filterStoreSalesWhereProfitNegative',\n  '/node_16/filterStoreSalesWhereProfitNegativeAndYearAfter2000',\n  '/node_16/filterStoreSalesWhereYearAfter2000',\n  '/node_16/maxNetProfitGroupedBySoldDate',\n  '/node_16/maxWholeSaleCostGroupedBySoldDate',\n  '/node_16/minNetProfitGroupedBySoldDate',\n  '/node_16/minWholeSaleCostGroupedBySoldDate',\n  '/node_16/summaryNetProfitGroupedBySoldDate',\n  '/node_16/summaryWholeSaleCostGroupedBySoldDate',\n  '/node_16/sumNetProfitGroupedBySoldDate',\n  '/node_16/sumWholeSaleCostGroupedBySoldDate'],\n ['/node_17/avgNetProfitGroupedBySoldDate',\n  '/node_17/avgWholeSaleCostGroupedBySoldDate',\n  '/node_17/countDistinctTicketNumber',\n  '/node_17/countNetProfitGroupedBySoldDate',\n  '/node_17/countWholeSaleCostGroupedBySoldDate',\n  '/node_17/filterCatalogSalesWhereProfitNegative',\n  '/node_17/filterCatalogSalesWhereProfitNegativeAndYearAfter2000',\n  '/node_17/filterCatalogSalesWhereYearAfter2000',\n  '/node_17/filterStoreSalesWhereProfitNegative',\n  '/node_17/filterStoreSalesWhereProfitNegativeAndYearAfter2000',\n  '/node_17/filterStoreSalesWhereYearAfter2000',\n  '/node_17/maxNetProfitGroupedBySoldDate',\n  '/node_17/maxWholeSaleCostGroupedBySoldDate',\n  '/node_17/minNetProfitGroupedBySoldDate',\n  '/node_17/minWholeSaleCostGroupedBySoldDate',\n  '/node_17/summaryNetProfitGroupedBySoldDate',\n  '/node_17/summaryWholeSaleCostGroupedBySoldDate',\n  '/node_17/sumNetProfitGroupedBySoldDate',\n  '/node_17/sumWholeSaleCostGroupedBySoldDate'],\n ['/node_18/avgNetProfitGroupedBySoldDate',\n  '/node_18/avgWholeSaleCostGroupedBySoldDate',\n  '/node_18/countDistinctTicketNumber',\n  '/node_18/countNetProfitGroupedBySoldDate',\n  '/node_18/countWholeSaleCostGroupedBySoldDate',\n  '/node_18/filterCatalogSalesWhereProfitNegative',\n  '/node_18/filterCatalogSalesWhereProfitNegativeAndYearAfter2000',\n  '/node_18/filterCatalogSalesWhereYearAfter2000',\n  '/node_18/filterStoreSalesWhereProfitNegative',\n  '/node_18/filterStoreSalesWhereProfitNegativeAndYearAfter2000',\n  '/node_18/filterStoreSalesWhereYearAfter2000',\n  '/node_18/maxNetProfitGroupedBySoldDate',\n  '/node_18/maxWholeSaleCostGroupedBySoldDate',\n  '/node_18/minNetProfitGroupedBySoldDate',\n  '/node_18/minWholeSaleCostGroupedBySoldDate',\n  '/node_18/summaryNetProfitGroupedBySoldDate',\n  '/node_18/summaryWholeSaleCostGroupedBySoldDate',\n  '/node_18/sumNetProfitGroupedBySoldDate',\n  '/node_18/sumWholeSaleCostGroupedBySoldDate'],\n ['/node_19/avgNetProfitGroupedBySoldDate',\n  '/node_19/avgWholeSaleCostGroupedBySoldDate',\n  '/node_19/countDistinctTicketNumber',\n  '/node_19/countNetProfitGroupedBySoldDate',\n  '/node_19/countWholeSaleCostGroupedBySoldDate',\n  '/node_19/filterCatalogSalesWhereProfitNegative',\n  '/node_19/filterCatalogSalesWhereProfitNegativeAndYearAfter2000',\n  '/node_19/filterCatalogSalesWhereYearAfter2000',\n  '/node_19/filterStoreSalesWhereProfitNegative',\n  '/node_19/filterStoreSalesWhereProfitNegativeAndYearAfter2000',\n  '/node_19/filterStoreSalesWhereYearAfter2000',\n  '/node_19/maxNetProfitGroupedBySoldDate',\n  '/node_19/maxWholeSaleCostGroupedBySoldDate',\n  '/node_19/minNetProfitGroupedBySoldDate',\n  '/node_19/minWholeSaleCostGroupedBySoldDate',\n  '/node_19/summaryNetProfitGroupedBySoldDate',\n  '/node_19/summaryWholeSaleCostGroupedBySoldDate',\n  '/node_19/sumNetProfitGroupedBySoldDate',\n  '/node_19/sumWholeSaleCostGroupedBySoldDate'],\n ['/node_20/avgNetProfitGroupedBySoldDate',\n  '/node_20/avgWholeSaleCostGroupedBySoldDate',\n  '/node_20/countDistinctTicketNumber',\n  '/node_20/countNetProfitGroupedBySoldDate',\n  '/node_20/countWholeSaleCostGroupedBySoldDate',\n  '/node_20/filterCatalogSalesWhereProfitNegative',\n  '/node_20/filterCatalogSalesWhereProfitNegativeAndYearAfter2000',\n  '/node_20/filterCatalogSalesWhereYearAfter2000',\n  '/node_20/filterStoreSalesWhereProfitNegative',\n  '/node_20/filterStoreSalesWhereProfitNegativeAndYearAfter2000',\n  '/node_20/filterStoreSalesWhereYearAfter2000',\n  '/node_20/maxNetProfitGroupedBySoldDate',\n  '/node_20/maxWholeSaleCostGroupedBySoldDate',\n  '/node_20/minNetProfitGroupedBySoldDate',\n  '/node_20/minWholeSaleCostGroupedBySoldDate',\n  '/node_20/summaryNetProfitGroupedBySoldDate',\n  '/node_20/summaryWholeSaleCostGroupedBySoldDate',\n  '/node_20/sumNetProfitGroupedBySoldDate',\n  '/node_20/sumWholeSaleCostGroupedBySoldDate']]"
     },
     "execution_count": 6,
     "metadata": {},
     "output_type": "execute_result"
    }
   ],
   "source": [
    "data_directories = []\n",
    "data_directories_groups = []\n",
    "for directory in nodes_directories:\n",
    "    cur_node_subdirectories = get_subdirectories(directory)\n",
    "    data_directories.append(cur_node_subdirectories)\n",
    "\n",
    "data_directories_groups = data_directories\n",
    "data_directories = [item for sublist in data_directories for item in sublist]\n",
    "data_directories_groups"
   ],
   "metadata": {
    "collapsed": false,
    "pycharm": {
     "name": "#%%\n"
    }
   }
  },
  {
   "cell_type": "markdown",
   "source": [
    "Check for function names in each node directory.\n",
    "These names should match the names in `experiments-plan.csv`.\n"
   ],
   "metadata": {
    "collapsed": false
   }
  },
  {
   "cell_type": "code",
   "execution_count": 7,
   "outputs": [
    {
     "data": {
      "text/plain": "['/avgNetProfitGroupedBySoldDate',\n '/avgWholeSaleCostGroupedBySoldDate',\n '/countDistinctTicketNumber',\n '/countNetProfitGroupedBySoldDate',\n '/countWholeSaleCostGroupedBySoldDate',\n '/filterCatalogSalesWhereProfitNegative',\n '/filterCatalogSalesWhereProfitNegativeAndYearAfter2000',\n '/filterCatalogSalesWhereYearAfter2000',\n '/filterStoreSalesWhereProfitNegative',\n '/filterStoreSalesWhereProfitNegativeAndYearAfter2000',\n '/filterStoreSalesWhereYearAfter2000',\n '/maxNetProfitGroupedBySoldDate',\n '/maxWholeSaleCostGroupedBySoldDate',\n '/minNetProfitGroupedBySoldDate',\n '/minWholeSaleCostGroupedBySoldDate',\n '/summaryNetProfitGroupedBySoldDate',\n '/summaryWholeSaleCostGroupedBySoldDate',\n '/sumNetProfitGroupedBySoldDate',\n '/sumWholeSaleCostGroupedBySoldDate']"
     },
     "execution_count": 7,
     "metadata": {},
     "output_type": "execute_result"
    }
   ],
   "source": [
    "function_names = data_directories_groups[1]\n",
    "function_names = list(map(lambda x: x[8:], data_directories_groups[1]))\n",
    "function_names"
   ],
   "metadata": {
    "collapsed": false,
    "pycharm": {
     "name": "#%%\n"
    }
   }
  },
  {
   "cell_type": "markdown",
   "source": [
    "### Aggregating data from all nodes (11-19)"
   ],
   "metadata": {
    "collapsed": false
   }
  },
  {
   "cell_type": "code",
   "execution_count": 35,
   "outputs": [],
   "source": [
    "create_directory(\"./../experiments_data/preprocessed-data\")"
   ],
   "metadata": {
    "collapsed": false,
    "pycharm": {
     "name": "#%%\n"
    }
   }
  },
  {
   "cell_type": "code",
   "source": [
    "mean_dir = \"./../experiments_data/preprocessed-data/workers-mean-data\"\n",
    "create_directory(mean_dir)\n",
    "experiments_duration = pd.DataFrame(columns=[\"function_name\",\n",
    "                                             \"mean_duration\",\n",
    "                                             \"mean_interval\",\n",
    "                                             \"nodes_durations\",\n",
    "                                             \"nodes_intervals\"])\n",
    "\n",
    "for function_name in function_names:\n",
    "    base_data = pd.DataFrame()\n",
    "    experiment_duration = []\n",
    "    experiment_interval = []\n",
    "    nodes_durations = []\n",
    "    nodes_intervals = []\n",
    "\n",
    "    experiment_mean_dir = \"{0}{1}\".format(mean_dir, function_name)\n",
    "    create_directory(experiment_mean_dir)\n",
    "\n",
    "    for node_dir in nodes_directories:\n",
    "        file_path = \"./../experiments_data{0}{1}\".format(node_dir, function_name)\n",
    "        p = Path(file_path)\n",
    "        plots_path = \"{0}/plots\".format(file_path)\n",
    "        create_directory(plots_path)\n",
    "        create_directory(plots_path + \"/RAM\")\n",
    "        create_directory(plots_path + \"/CPU\")\n",
    "        experiment_number = 1\n",
    "        node_interval = []\n",
    "        node_duration = []\n",
    "        for file in p.glob('*.csv'):\n",
    "            new_data, (duration, interval) = preprocess_file(file_path, plots_path, file.name, experiment_number)\n",
    "            base_data = pd.concat((base_data, new_data))\n",
    "            experiment_number += 1\n",
    "            experiment_duration.append(duration)\n",
    "            experiment_interval.append(interval)\n",
    "            node_interval.append(interval)\n",
    "            node_duration.append(duration)\n",
    "        print(node_duration)\n",
    "        nodes_intervals.append((node_dir[1:], round(mean(node_interval), 3)))\n",
    "        nodes_durations.append((node_dir[1:], round(mean(node_duration), 3)))\n",
    "\n",
    "    base_data = base_data.groupby(base_data.index).mean()\n",
    "    base_data.to_csv(\"{0}/mean_data.csv\".format(experiment_mean_dir), index=False)\n",
    "\n",
    "    generate_plot(base_data.index, base_data.CPU, \"{0}/mean_CPU.png\".format(experiment_mean_dir), function_name[1:] + \" CPU\")\n",
    "    generate_plot(base_data.index, base_data.RAM, \"{0}/mean_RAM.png\".format(experiment_mean_dir), function_name[1:] + \" RAM\")\n",
    "\n",
    "    smooth_data(base_data, experiment_mean_dir, function_name[1:])\n",
    "    experiments_duration = experiments_duration.append({\"function_name\": function_name[1:],\n",
    "                                                        \"mean_duration\": round(mean(experiment_duration), 3),\n",
    "                                                        \"mean_interval\": round(mean(experiment_interval), 3),\n",
    "                                                        \"nodes_durations\": nodes_durations,\n",
    "                                                        \"nodes_intervals\": nodes_intervals}, ignore_index=True)\n",
    "\n",
    "experiments_duration.to_csv(\"{0}/experiments_mean_duration.csv\".format(mean_dir), index=False)"
   ],
   "metadata": {
    "collapsed": false,
    "pycharm": {
     "name": "#%%\n"
    }
   },
   "execution_count": 36,
   "outputs": [
    {
     "name": "stdout",
     "output_type": "stream",
     "text": [
      "[126.311365, 119.090097, 121.449855, 124.26905, 88.12285, 84.052093, 91.979273, 122.067807, 117.206631, 85.621642, 120.179181, 96.86164, 93.786437, 90.803909, 85.725518, 86.237418, 89.859173, 89.164945, 84.832583, 123.31351, 128.311035, 87.97526, 122.373767, 86.729527, 87.975966]\n",
      "[126.244834, 118.92847, 121.362209, 124.186992, 88.056232, 83.879093, 91.802826, 121.980517, 117.159507, 85.574026, 120.087226, 96.780229, 93.809558, 90.717521, 85.560085, 86.212086, 89.79911, 89.017934, 84.814655, 123.237212, 128.228256, 87.89879, 122.271497, 86.655708, 87.907064]\n",
      "[126.147011, 118.849326, 121.241426, 123.975663, 88.047666, 83.730885, 91.793002, 121.839199, 117.134583, 85.535938, 119.9538, 96.766901, 93.648571, 90.696145, 85.571, 86.18301, 89.763329, 88.987538, 84.629129, 123.21157, 128.187269, 87.749601, 122.168415, 86.48554, 87.751134]\n"
     ]
    }
   ]
  },
  {
   "cell_type": "markdown",
   "source": [
    "### Aggregating data from master node #20"
   ],
   "metadata": {
    "collapsed": false
   }
  },
  {
   "cell_type": "code",
   "execution_count": 31,
   "outputs": [
    {
     "name": "stdout",
     "output_type": "stream",
     "text": [
      "Error: ./../experiments_data/node_20/avgWholeSaleCostGroupedBySoldDate/plots - Nie można utworzyć pliku, który już istnieje.\n",
      "Error: ./../experiments_data/node_20/avgWholeSaleCostGroupedBySoldDate/plots/CPU - Nie można utworzyć pliku, który już istnieje.\n",
      "Error: ./../experiments_data/node_20/avgWholeSaleCostGroupedBySoldDate/plots/RAM - Nie można utworzyć pliku, który już istnieje.\n"
     ]
    }
   ],
   "source": [
    "master_dir = \"./../experiments_data/preprocessed-data/master-mean-data\"\n",
    "create_directory(master_dir)\n",
    "\n",
    "for directory in data_directories_groups[-1]:\n",
    "    files_path = \"./../experiments_data{0}\".format(directory)\n",
    "    p = Path(files_path)\n",
    "    master_data = pd.DataFrame()\n",
    "\n",
    "    master_experiment_directory = \"{0}{1}\".format(master_dir, directory[8:])\n",
    "    master_plot_directory = \"{0}/plots\".format(files_path)\n",
    "    create_directory(master_experiment_directory)\n",
    "    create_directory(master_plot_directory)\n",
    "    create_directory(\"{0}/CPU\".format(master_plot_directory))\n",
    "    create_directory(\"{0}/RAM\".format(master_plot_directory))\n",
    "\n",
    "    experiment_number = 1\n",
    "    for file in p.glob('*.csv'):\n",
    "        master_new_data, duration = preprocess_file(files_path, master_plot_directory, file.name, experiment_number)\n",
    "        master_data = pd.concat((master_data, master_new_data))\n",
    "        experiment_number += 1\n",
    "\n",
    "    master_data = master_data.groupby(master_data.index).mean()\n",
    "    master_data.to_csv(\"{0}/mean_data.csv\".format(master_experiment_directory), index=False)\n",
    "\n",
    "    generate_plot(master_data.index, master_data.CPU, \"{0}/mean_CPU.png\".format(master_experiment_directory))\n",
    "    generate_plot(master_data.index, master_data.RAM, \"{0}/mean_RAM.png\".format(master_experiment_directory))\n",
    "\n",
    "    smooth_data(master_data, master_experiment_directory, directory[9:])"
   ],
   "metadata": {
    "collapsed": false,
    "pycharm": {
     "name": "#%%\n"
    }
   }
  },
  {
   "cell_type": "markdown",
   "source": [
    "### Preprocessing spark internal metrics\n",
    "\n",
    "Stage and task metrics"
   ],
   "metadata": {
    "collapsed": false
   }
  },
  {
   "cell_type": "code",
   "execution_count": 119,
   "outputs": [
    {
     "data": {
      "text/plain": "                                       function_name  stage_id  \\\n0              filterCatalogSalesWhereProfitNegative         0   \n1  filterCatalogSalesWhereProfitNegativeAndYearAf...         0   \n2  filterCatalogSalesWhereProfitNegativeAndYearAf...         1   \n3  filterCatalogSalesWhereProfitNegativeAndYearAf...         2   \n4               filterCatalogSalesWhereYearAfter2000         0   \n5               filterCatalogSalesWhereYearAfter2000         1   \n6               filterCatalogSalesWhereYearAfter2000         2   \n7                  minWholeSaleCostGroupedBySoldDate         0   \n8                  minWholeSaleCostGroupedBySoldDate         1   \n\n         task_types  mean_stage_time  num_tasks  mean_executor_run_time  \\\n0      [ResultTask]      8648.600000          1             5320.680000   \n1  [ShuffleMapTask]      4451.920000          1             1138.280000   \n2  [ShuffleMapTask]      9042.400000          1             5856.400000   \n3      [ResultTask]      4889.160000        200             2714.200000   \n4  [ShuffleMapTask]      5665.640000          1             3988.400000   \n5  [ShuffleMapTask]      4416.720000          1             1827.520000   \n6      [ResultTask]      7334.560000        200             3117.160000   \n7  [ShuffleMapTask]     73356.904762          1            69276.612245   \n8      [ResultTask]       622.564626        200              475.836735   \n\n   mean_result_size  \n0       1474.000000  \n1       2046.320000  \n2       2032.360000  \n3     820732.440000  \n4       1995.800000  \n5       2019.080000  \n6     808346.200000  \n7       2117.789116  \n8          0.000000  ",
      "text/html": "<div>\n<style scoped>\n    .dataframe tbody tr th:only-of-type {\n        vertical-align: middle;\n    }\n\n    .dataframe tbody tr th {\n        vertical-align: top;\n    }\n\n    .dataframe thead th {\n        text-align: right;\n    }\n</style>\n<table border=\"1\" class=\"dataframe\">\n  <thead>\n    <tr style=\"text-align: right;\">\n      <th></th>\n      <th>function_name</th>\n      <th>stage_id</th>\n      <th>task_types</th>\n      <th>mean_stage_time</th>\n      <th>num_tasks</th>\n      <th>mean_executor_run_time</th>\n      <th>mean_result_size</th>\n    </tr>\n  </thead>\n  <tbody>\n    <tr>\n      <th>0</th>\n      <td>filterCatalogSalesWhereProfitNegative</td>\n      <td>0</td>\n      <td>[ResultTask]</td>\n      <td>8648.600000</td>\n      <td>1</td>\n      <td>5320.680000</td>\n      <td>1474.000000</td>\n    </tr>\n    <tr>\n      <th>1</th>\n      <td>filterCatalogSalesWhereProfitNegativeAndYearAf...</td>\n      <td>0</td>\n      <td>[ShuffleMapTask]</td>\n      <td>4451.920000</td>\n      <td>1</td>\n      <td>1138.280000</td>\n      <td>2046.320000</td>\n    </tr>\n    <tr>\n      <th>2</th>\n      <td>filterCatalogSalesWhereProfitNegativeAndYearAf...</td>\n      <td>1</td>\n      <td>[ShuffleMapTask]</td>\n      <td>9042.400000</td>\n      <td>1</td>\n      <td>5856.400000</td>\n      <td>2032.360000</td>\n    </tr>\n    <tr>\n      <th>3</th>\n      <td>filterCatalogSalesWhereProfitNegativeAndYearAf...</td>\n      <td>2</td>\n      <td>[ResultTask]</td>\n      <td>4889.160000</td>\n      <td>200</td>\n      <td>2714.200000</td>\n      <td>820732.440000</td>\n    </tr>\n    <tr>\n      <th>4</th>\n      <td>filterCatalogSalesWhereYearAfter2000</td>\n      <td>0</td>\n      <td>[ShuffleMapTask]</td>\n      <td>5665.640000</td>\n      <td>1</td>\n      <td>3988.400000</td>\n      <td>1995.800000</td>\n    </tr>\n    <tr>\n      <th>5</th>\n      <td>filterCatalogSalesWhereYearAfter2000</td>\n      <td>1</td>\n      <td>[ShuffleMapTask]</td>\n      <td>4416.720000</td>\n      <td>1</td>\n      <td>1827.520000</td>\n      <td>2019.080000</td>\n    </tr>\n    <tr>\n      <th>6</th>\n      <td>filterCatalogSalesWhereYearAfter2000</td>\n      <td>2</td>\n      <td>[ResultTask]</td>\n      <td>7334.560000</td>\n      <td>200</td>\n      <td>3117.160000</td>\n      <td>808346.200000</td>\n    </tr>\n    <tr>\n      <th>7</th>\n      <td>minWholeSaleCostGroupedBySoldDate</td>\n      <td>0</td>\n      <td>[ShuffleMapTask]</td>\n      <td>73356.904762</td>\n      <td>1</td>\n      <td>69276.612245</td>\n      <td>2117.789116</td>\n    </tr>\n    <tr>\n      <th>8</th>\n      <td>minWholeSaleCostGroupedBySoldDate</td>\n      <td>1</td>\n      <td>[ResultTask]</td>\n      <td>622.564626</td>\n      <td>200</td>\n      <td>475.836735</td>\n      <td>0.000000</td>\n    </tr>\n  </tbody>\n</table>\n</div>"
     },
     "execution_count": 119,
     "metadata": {},
     "output_type": "execute_result"
    }
   ],
   "source": [
    "stage_metrics_all = pd.read_csv(\"./../experiments_data/stage_metrics.csv\")\n",
    "task_metrics_all = pd.read_csv(\"./../experiments_data/task_metrics.csv\")\n",
    "\n",
    "stage_metrics = stage_metrics_all[[\"function_name\", \"stage_id\", \"num_tasks\", \"executor_run_time\", \"result_size\"]].copy()\n",
    "stage_metrics[\"stage_time\"]= stage_metrics_all[\"completion_time\"] - stage_metrics_all[\"submission_time\"]\n",
    "stage_metrics = stage_metrics.groupby([\"function_name\", \"stage_id\"]).agg({\n",
    "    \"stage_time\": \"mean\",\n",
    "    \"num_tasks\": \"max\",\n",
    "    \"executor_run_time\": \"mean\",\n",
    "    \"result_size\": \"mean\"\n",
    "})\n",
    "\n",
    "task_metrics = task_metrics_all[[\"function_name\", \"stage_id\", \"task_type\"]]\n",
    "task_metrics = task_metrics.groupby([\"function_name\", \"stage_id\"]).agg({\"task_type\": \"unique\"})\n",
    "\n",
    "spark_metrics = task_metrics.join(stage_metrics).reset_index().rename(columns={\n",
    "    \"stage_time\": \"mean_stage_time\",\n",
    "    \"task_type\": \"task_types\",\n",
    "    \"executor_run_time\": \"mean_executor_run_time\",\n",
    "    \"result_size\": \"mean_result_size\"\n",
    "})\n",
    "\n",
    "spark_metrics.to_csv(\"./../experiments_data/preprocessed-data/spark_metrics.csv\", index=False)\n",
    "spark_metrics"
   ],
   "metadata": {
    "collapsed": false,
    "pycharm": {
     "name": "#%%\n"
    }
   }
  },
  {
   "cell_type": "markdown",
   "source": [
    "### Clear preprocessed data"
   ],
   "metadata": {
    "collapsed": false
   }
  },
  {
   "cell_type": "code",
   "execution_count": 34,
   "outputs": [
    {
     "name": "stdout",
     "output_type": "stream",
     "text": [
      "Error: ./../experiments_data/node_12/avgNetProfitGroupedBySoldDate/plots - System nie może odnaleźć określonej ścieżki.\n",
      "Error: ./../experiments_data/node_13/avgNetProfitGroupedBySoldDate/plots - System nie może odnaleźć określonej ścieżki.\n",
      "Error: ./../experiments_data/node_14/avgNetProfitGroupedBySoldDate/plots - System nie może odnaleźć określonej ścieżki.\n",
      "Error: ./../experiments_data/node_15/avgNetProfitGroupedBySoldDate/plots - System nie może odnaleźć określonej ścieżki.\n",
      "Error: ./../experiments_data/node_16/avgNetProfitGroupedBySoldDate/plots - System nie może odnaleźć określonej ścieżki.\n",
      "Error: ./../experiments_data/node_17/avgNetProfitGroupedBySoldDate/plots - System nie może odnaleźć określonej ścieżki.\n",
      "Error: ./../experiments_data/node_18/avgNetProfitGroupedBySoldDate/plots - System nie może odnaleźć określonej ścieżki.\n",
      "Error: ./../experiments_data/node_19/avgNetProfitGroupedBySoldDate/plots - System nie może odnaleźć określonej ścieżki.\n",
      "Error: ./../experiments_data/node_20/avgNetProfitGroupedBySoldDate/plots - System nie może odnaleźć określonej ścieżki.\n",
      "Error: ./../experiments_data/node_11/avgWholeSaleCostGroupedBySoldDate/plots - System nie może odnaleźć określonej ścieżki.\n",
      "Error: ./../experiments_data/node_12/avgWholeSaleCostGroupedBySoldDate/plots - System nie może odnaleźć określonej ścieżki.\n",
      "Error: ./../experiments_data/node_13/avgWholeSaleCostGroupedBySoldDate/plots - System nie może odnaleźć określonej ścieżki.\n",
      "Error: ./../experiments_data/node_14/avgWholeSaleCostGroupedBySoldDate/plots - System nie może odnaleźć określonej ścieżki.\n",
      "Error: ./../experiments_data/node_15/avgWholeSaleCostGroupedBySoldDate/plots - System nie może odnaleźć określonej ścieżki.\n",
      "Error: ./../experiments_data/node_16/avgWholeSaleCostGroupedBySoldDate/plots - System nie może odnaleźć określonej ścieżki.\n",
      "Error: ./../experiments_data/node_17/avgWholeSaleCostGroupedBySoldDate/plots - System nie może odnaleźć określonej ścieżki.\n",
      "Error: ./../experiments_data/node_18/avgWholeSaleCostGroupedBySoldDate/plots - System nie może odnaleźć określonej ścieżki.\n",
      "Error: ./../experiments_data/node_19/avgWholeSaleCostGroupedBySoldDate/plots - System nie może odnaleźć określonej ścieżki.\n",
      "Error: ./../experiments_data/node_20/avgWholeSaleCostGroupedBySoldDate/plots - System nie może odnaleźć określonej ścieżki.\n",
      "Error: ./../experiments_data/node_11/countDistinctTicketNumber/plots - System nie może odnaleźć określonej ścieżki.\n",
      "Error: ./../experiments_data/node_12/countDistinctTicketNumber/plots - System nie może odnaleźć określonej ścieżki.\n",
      "Error: ./../experiments_data/node_13/countDistinctTicketNumber/plots - System nie może odnaleźć określonej ścieżki.\n",
      "Error: ./../experiments_data/node_14/countDistinctTicketNumber/plots - System nie może odnaleźć określonej ścieżki.\n",
      "Error: ./../experiments_data/node_15/countDistinctTicketNumber/plots - System nie może odnaleźć określonej ścieżki.\n",
      "Error: ./../experiments_data/node_16/countDistinctTicketNumber/plots - System nie może odnaleźć określonej ścieżki.\n",
      "Error: ./../experiments_data/node_17/countDistinctTicketNumber/plots - System nie może odnaleźć określonej ścieżki.\n",
      "Error: ./../experiments_data/node_18/countDistinctTicketNumber/plots - System nie może odnaleźć określonej ścieżki.\n",
      "Error: ./../experiments_data/node_19/countDistinctTicketNumber/plots - System nie może odnaleźć określonej ścieżki.\n",
      "Error: ./../experiments_data/node_20/countDistinctTicketNumber/plots - System nie może odnaleźć określonej ścieżki.\n",
      "Error: ./../experiments_data/node_11/countNetProfitGroupedBySoldDate/plots - System nie może odnaleźć określonej ścieżki.\n",
      "Error: ./../experiments_data/node_12/countNetProfitGroupedBySoldDate/plots - System nie może odnaleźć określonej ścieżki.\n",
      "Error: ./../experiments_data/node_13/countNetProfitGroupedBySoldDate/plots - System nie może odnaleźć określonej ścieżki.\n",
      "Error: ./../experiments_data/node_14/countNetProfitGroupedBySoldDate/plots - System nie może odnaleźć określonej ścieżki.\n",
      "Error: ./../experiments_data/node_15/countNetProfitGroupedBySoldDate/plots - System nie może odnaleźć określonej ścieżki.\n",
      "Error: ./../experiments_data/node_16/countNetProfitGroupedBySoldDate/plots - System nie może odnaleźć określonej ścieżki.\n",
      "Error: ./../experiments_data/node_17/countNetProfitGroupedBySoldDate/plots - System nie może odnaleźć określonej ścieżki.\n",
      "Error: ./../experiments_data/node_18/countNetProfitGroupedBySoldDate/plots - System nie może odnaleźć określonej ścieżki.\n",
      "Error: ./../experiments_data/node_19/countNetProfitGroupedBySoldDate/plots - System nie może odnaleźć określonej ścieżki.\n",
      "Error: ./../experiments_data/node_20/countNetProfitGroupedBySoldDate/plots - System nie może odnaleźć określonej ścieżki.\n",
      "Error: ./../experiments_data/node_11/countWholeSaleCostGroupedBySoldDate/plots - System nie może odnaleźć określonej ścieżki.\n",
      "Error: ./../experiments_data/node_12/countWholeSaleCostGroupedBySoldDate/plots - System nie może odnaleźć określonej ścieżki.\n",
      "Error: ./../experiments_data/node_13/countWholeSaleCostGroupedBySoldDate/plots - System nie może odnaleźć określonej ścieżki.\n",
      "Error: ./../experiments_data/node_14/countWholeSaleCostGroupedBySoldDate/plots - System nie może odnaleźć określonej ścieżki.\n",
      "Error: ./../experiments_data/node_15/countWholeSaleCostGroupedBySoldDate/plots - System nie może odnaleźć określonej ścieżki.\n",
      "Error: ./../experiments_data/node_16/countWholeSaleCostGroupedBySoldDate/plots - System nie może odnaleźć określonej ścieżki.\n",
      "Error: ./../experiments_data/node_17/countWholeSaleCostGroupedBySoldDate/plots - System nie może odnaleźć określonej ścieżki.\n",
      "Error: ./../experiments_data/node_18/countWholeSaleCostGroupedBySoldDate/plots - System nie może odnaleźć określonej ścieżki.\n",
      "Error: ./../experiments_data/node_19/countWholeSaleCostGroupedBySoldDate/plots - System nie może odnaleźć określonej ścieżki.\n",
      "Error: ./../experiments_data/node_20/countWholeSaleCostGroupedBySoldDate/plots - System nie może odnaleźć określonej ścieżki.\n",
      "Error: ./../experiments_data/node_11/filterCatalogSalesWhereProfitNegative/plots - System nie może odnaleźć określonej ścieżki.\n",
      "Error: ./../experiments_data/node_12/filterCatalogSalesWhereProfitNegative/plots - System nie może odnaleźć określonej ścieżki.\n",
      "Error: ./../experiments_data/node_13/filterCatalogSalesWhereProfitNegative/plots - System nie może odnaleźć określonej ścieżki.\n",
      "Error: ./../experiments_data/node_14/filterCatalogSalesWhereProfitNegative/plots - System nie może odnaleźć określonej ścieżki.\n",
      "Error: ./../experiments_data/node_15/filterCatalogSalesWhereProfitNegative/plots - System nie może odnaleźć określonej ścieżki.\n",
      "Error: ./../experiments_data/node_16/filterCatalogSalesWhereProfitNegative/plots - System nie może odnaleźć określonej ścieżki.\n",
      "Error: ./../experiments_data/node_17/filterCatalogSalesWhereProfitNegative/plots - System nie może odnaleźć określonej ścieżki.\n",
      "Error: ./../experiments_data/node_18/filterCatalogSalesWhereProfitNegative/plots - System nie może odnaleźć określonej ścieżki.\n",
      "Error: ./../experiments_data/node_19/filterCatalogSalesWhereProfitNegative/plots - System nie może odnaleźć określonej ścieżki.\n",
      "Error: ./../experiments_data/node_20/filterCatalogSalesWhereProfitNegative/plots - System nie może odnaleźć określonej ścieżki.\n",
      "Error: ./../experiments_data/node_11/filterCatalogSalesWhereProfitNegativeAndYearAfter2000/plots - System nie może odnaleźć określonej ścieżki.\n",
      "Error: ./../experiments_data/node_12/filterCatalogSalesWhereProfitNegativeAndYearAfter2000/plots - System nie może odnaleźć określonej ścieżki.\n",
      "Error: ./../experiments_data/node_13/filterCatalogSalesWhereProfitNegativeAndYearAfter2000/plots - System nie może odnaleźć określonej ścieżki.\n",
      "Error: ./../experiments_data/node_14/filterCatalogSalesWhereProfitNegativeAndYearAfter2000/plots - System nie może odnaleźć określonej ścieżki.\n",
      "Error: ./../experiments_data/node_15/filterCatalogSalesWhereProfitNegativeAndYearAfter2000/plots - System nie może odnaleźć określonej ścieżki.\n",
      "Error: ./../experiments_data/node_16/filterCatalogSalesWhereProfitNegativeAndYearAfter2000/plots - System nie może odnaleźć określonej ścieżki.\n",
      "Error: ./../experiments_data/node_17/filterCatalogSalesWhereProfitNegativeAndYearAfter2000/plots - System nie może odnaleźć określonej ścieżki.\n",
      "Error: ./../experiments_data/node_18/filterCatalogSalesWhereProfitNegativeAndYearAfter2000/plots - System nie może odnaleźć określonej ścieżki.\n",
      "Error: ./../experiments_data/node_19/filterCatalogSalesWhereProfitNegativeAndYearAfter2000/plots - System nie może odnaleźć określonej ścieżki.\n",
      "Error: ./../experiments_data/node_20/filterCatalogSalesWhereProfitNegativeAndYearAfter2000/plots - System nie może odnaleźć określonej ścieżki.\n",
      "Error: ./../experiments_data/node_11/filterCatalogSalesWhereYearAfter2000/plots - System nie może odnaleźć określonej ścieżki.\n",
      "Error: ./../experiments_data/node_12/filterCatalogSalesWhereYearAfter2000/plots - System nie może odnaleźć określonej ścieżki.\n",
      "Error: ./../experiments_data/node_13/filterCatalogSalesWhereYearAfter2000/plots - System nie może odnaleźć określonej ścieżki.\n",
      "Error: ./../experiments_data/node_14/filterCatalogSalesWhereYearAfter2000/plots - System nie może odnaleźć określonej ścieżki.\n",
      "Error: ./../experiments_data/node_15/filterCatalogSalesWhereYearAfter2000/plots - System nie może odnaleźć określonej ścieżki.\n",
      "Error: ./../experiments_data/node_16/filterCatalogSalesWhereYearAfter2000/plots - System nie może odnaleźć określonej ścieżki.\n",
      "Error: ./../experiments_data/node_17/filterCatalogSalesWhereYearAfter2000/plots - System nie może odnaleźć określonej ścieżki.\n",
      "Error: ./../experiments_data/node_18/filterCatalogSalesWhereYearAfter2000/plots - System nie może odnaleźć określonej ścieżki.\n",
      "Error: ./../experiments_data/node_19/filterCatalogSalesWhereYearAfter2000/plots - System nie może odnaleźć określonej ścieżki.\n",
      "Error: ./../experiments_data/node_20/filterCatalogSalesWhereYearAfter2000/plots - System nie może odnaleźć określonej ścieżki.\n",
      "Error: ./../experiments_data/node_11/filterStoreSalesWhereProfitNegative/plots - System nie może odnaleźć określonej ścieżki.\n",
      "Error: ./../experiments_data/node_12/filterStoreSalesWhereProfitNegative/plots - System nie może odnaleźć określonej ścieżki.\n",
      "Error: ./../experiments_data/node_13/filterStoreSalesWhereProfitNegative/plots - System nie może odnaleźć określonej ścieżki.\n",
      "Error: ./../experiments_data/node_14/filterStoreSalesWhereProfitNegative/plots - System nie może odnaleźć określonej ścieżki.\n",
      "Error: ./../experiments_data/node_15/filterStoreSalesWhereProfitNegative/plots - System nie może odnaleźć określonej ścieżki.\n",
      "Error: ./../experiments_data/node_16/filterStoreSalesWhereProfitNegative/plots - System nie może odnaleźć określonej ścieżki.\n",
      "Error: ./../experiments_data/node_17/filterStoreSalesWhereProfitNegative/plots - System nie może odnaleźć określonej ścieżki.\n",
      "Error: ./../experiments_data/node_18/filterStoreSalesWhereProfitNegative/plots - System nie może odnaleźć określonej ścieżki.\n",
      "Error: ./../experiments_data/node_19/filterStoreSalesWhereProfitNegative/plots - System nie może odnaleźć określonej ścieżki.\n",
      "Error: ./../experiments_data/node_20/filterStoreSalesWhereProfitNegative/plots - System nie może odnaleźć określonej ścieżki.\n",
      "Error: ./../experiments_data/node_11/filterStoreSalesWhereProfitNegativeAndYearAfter2000/plots - System nie może odnaleźć określonej ścieżki.\n",
      "Error: ./../experiments_data/node_12/filterStoreSalesWhereProfitNegativeAndYearAfter2000/plots - System nie może odnaleźć określonej ścieżki.\n",
      "Error: ./../experiments_data/node_13/filterStoreSalesWhereProfitNegativeAndYearAfter2000/plots - System nie może odnaleźć określonej ścieżki.\n",
      "Error: ./../experiments_data/node_14/filterStoreSalesWhereProfitNegativeAndYearAfter2000/plots - System nie może odnaleźć określonej ścieżki.\n",
      "Error: ./../experiments_data/node_15/filterStoreSalesWhereProfitNegativeAndYearAfter2000/plots - System nie może odnaleźć określonej ścieżki.\n",
      "Error: ./../experiments_data/node_16/filterStoreSalesWhereProfitNegativeAndYearAfter2000/plots - System nie może odnaleźć określonej ścieżki.\n",
      "Error: ./../experiments_data/node_17/filterStoreSalesWhereProfitNegativeAndYearAfter2000/plots - System nie może odnaleźć określonej ścieżki.\n",
      "Error: ./../experiments_data/node_18/filterStoreSalesWhereProfitNegativeAndYearAfter2000/plots - System nie może odnaleźć określonej ścieżki.\n",
      "Error: ./../experiments_data/node_19/filterStoreSalesWhereProfitNegativeAndYearAfter2000/plots - System nie może odnaleźć określonej ścieżki.\n",
      "Error: ./../experiments_data/node_20/filterStoreSalesWhereProfitNegativeAndYearAfter2000/plots - System nie może odnaleźć określonej ścieżki.\n",
      "Error: ./../experiments_data/node_11/filterStoreSalesWhereYearAfter2000/plots - System nie może odnaleźć określonej ścieżki.\n",
      "Error: ./../experiments_data/node_12/filterStoreSalesWhereYearAfter2000/plots - System nie może odnaleźć określonej ścieżki.\n",
      "Error: ./../experiments_data/node_13/filterStoreSalesWhereYearAfter2000/plots - System nie może odnaleźć określonej ścieżki.\n",
      "Error: ./../experiments_data/node_14/filterStoreSalesWhereYearAfter2000/plots - System nie może odnaleźć określonej ścieżki.\n",
      "Error: ./../experiments_data/node_15/filterStoreSalesWhereYearAfter2000/plots - System nie może odnaleźć określonej ścieżki.\n",
      "Error: ./../experiments_data/node_16/filterStoreSalesWhereYearAfter2000/plots - System nie może odnaleźć określonej ścieżki.\n",
      "Error: ./../experiments_data/node_17/filterStoreSalesWhereYearAfter2000/plots - System nie może odnaleźć określonej ścieżki.\n",
      "Error: ./../experiments_data/node_18/filterStoreSalesWhereYearAfter2000/plots - System nie może odnaleźć określonej ścieżki.\n",
      "Error: ./../experiments_data/node_19/filterStoreSalesWhereYearAfter2000/plots - System nie może odnaleźć określonej ścieżki.\n",
      "Error: ./../experiments_data/node_20/filterStoreSalesWhereYearAfter2000/plots - System nie może odnaleźć określonej ścieżki.\n",
      "Error: ./../experiments_data/node_11/maxNetProfitGroupedBySoldDate/plots - System nie może odnaleźć określonej ścieżki.\n",
      "Error: ./../experiments_data/node_12/maxNetProfitGroupedBySoldDate/plots - System nie może odnaleźć określonej ścieżki.\n",
      "Error: ./../experiments_data/node_13/maxNetProfitGroupedBySoldDate/plots - System nie może odnaleźć określonej ścieżki.\n",
      "Error: ./../experiments_data/node_14/maxNetProfitGroupedBySoldDate/plots - System nie może odnaleźć określonej ścieżki.\n",
      "Error: ./../experiments_data/node_15/maxNetProfitGroupedBySoldDate/plots - System nie może odnaleźć określonej ścieżki.\n",
      "Error: ./../experiments_data/node_16/maxNetProfitGroupedBySoldDate/plots - System nie może odnaleźć określonej ścieżki.\n",
      "Error: ./../experiments_data/node_17/maxNetProfitGroupedBySoldDate/plots - System nie może odnaleźć określonej ścieżki.\n",
      "Error: ./../experiments_data/node_18/maxNetProfitGroupedBySoldDate/plots - System nie może odnaleźć określonej ścieżki.\n",
      "Error: ./../experiments_data/node_19/maxNetProfitGroupedBySoldDate/plots - System nie może odnaleźć określonej ścieżki.\n",
      "Error: ./../experiments_data/node_20/maxNetProfitGroupedBySoldDate/plots - System nie może odnaleźć określonej ścieżki.\n",
      "Error: ./../experiments_data/node_11/maxWholeSaleCostGroupedBySoldDate/plots - System nie może odnaleźć określonej ścieżki.\n",
      "Error: ./../experiments_data/node_12/maxWholeSaleCostGroupedBySoldDate/plots - System nie może odnaleźć określonej ścieżki.\n",
      "Error: ./../experiments_data/node_13/maxWholeSaleCostGroupedBySoldDate/plots - System nie może odnaleźć określonej ścieżki.\n",
      "Error: ./../experiments_data/node_14/maxWholeSaleCostGroupedBySoldDate/plots - System nie może odnaleźć określonej ścieżki.\n",
      "Error: ./../experiments_data/node_15/maxWholeSaleCostGroupedBySoldDate/plots - System nie może odnaleźć określonej ścieżki.\n",
      "Error: ./../experiments_data/node_16/maxWholeSaleCostGroupedBySoldDate/plots - System nie może odnaleźć określonej ścieżki.\n",
      "Error: ./../experiments_data/node_17/maxWholeSaleCostGroupedBySoldDate/plots - System nie może odnaleźć określonej ścieżki.\n",
      "Error: ./../experiments_data/node_18/maxWholeSaleCostGroupedBySoldDate/plots - System nie może odnaleźć określonej ścieżki.\n",
      "Error: ./../experiments_data/node_19/maxWholeSaleCostGroupedBySoldDate/plots - System nie może odnaleźć określonej ścieżki.\n",
      "Error: ./../experiments_data/node_20/maxWholeSaleCostGroupedBySoldDate/plots - System nie może odnaleźć określonej ścieżki.\n",
      "Error: ./../experiments_data/node_11/minNetProfitGroupedBySoldDate/plots - System nie może odnaleźć określonej ścieżki.\n",
      "Error: ./../experiments_data/node_12/minNetProfitGroupedBySoldDate/plots - System nie może odnaleźć określonej ścieżki.\n",
      "Error: ./../experiments_data/node_13/minNetProfitGroupedBySoldDate/plots - System nie może odnaleźć określonej ścieżki.\n",
      "Error: ./../experiments_data/node_14/minNetProfitGroupedBySoldDate/plots - System nie może odnaleźć określonej ścieżki.\n",
      "Error: ./../experiments_data/node_15/minNetProfitGroupedBySoldDate/plots - System nie może odnaleźć określonej ścieżki.\n",
      "Error: ./../experiments_data/node_16/minNetProfitGroupedBySoldDate/plots - System nie może odnaleźć określonej ścieżki.\n",
      "Error: ./../experiments_data/node_17/minNetProfitGroupedBySoldDate/plots - System nie może odnaleźć określonej ścieżki.\n",
      "Error: ./../experiments_data/node_18/minNetProfitGroupedBySoldDate/plots - System nie może odnaleźć określonej ścieżki.\n",
      "Error: ./../experiments_data/node_19/minNetProfitGroupedBySoldDate/plots - System nie może odnaleźć określonej ścieżki.\n",
      "Error: ./../experiments_data/node_20/minNetProfitGroupedBySoldDate/plots - System nie może odnaleźć określonej ścieżki.\n",
      "Error: ./../experiments_data/node_11/minWholeSaleCostGroupedBySoldDate/plots - System nie może odnaleźć określonej ścieżki.\n",
      "Error: ./../experiments_data/node_12/minWholeSaleCostGroupedBySoldDate/plots - System nie może odnaleźć określonej ścieżki.\n",
      "Error: ./../experiments_data/node_13/minWholeSaleCostGroupedBySoldDate/plots - System nie może odnaleźć określonej ścieżki.\n",
      "Error: ./../experiments_data/node_14/minWholeSaleCostGroupedBySoldDate/plots - System nie może odnaleźć określonej ścieżki.\n",
      "Error: ./../experiments_data/node_15/minWholeSaleCostGroupedBySoldDate/plots - System nie może odnaleźć określonej ścieżki.\n",
      "Error: ./../experiments_data/node_16/minWholeSaleCostGroupedBySoldDate/plots - System nie może odnaleźć określonej ścieżki.\n",
      "Error: ./../experiments_data/node_17/minWholeSaleCostGroupedBySoldDate/plots - System nie może odnaleźć określonej ścieżki.\n",
      "Error: ./../experiments_data/node_18/minWholeSaleCostGroupedBySoldDate/plots - System nie może odnaleźć określonej ścieżki.\n",
      "Error: ./../experiments_data/node_19/minWholeSaleCostGroupedBySoldDate/plots - System nie może odnaleźć określonej ścieżki.\n",
      "Error: ./../experiments_data/node_20/minWholeSaleCostGroupedBySoldDate/plots - System nie może odnaleźć określonej ścieżki.\n",
      "Error: ./../experiments_data/node_11/summaryNetProfitGroupedBySoldDate/plots - System nie może odnaleźć określonej ścieżki.\n",
      "Error: ./../experiments_data/node_12/summaryNetProfitGroupedBySoldDate/plots - System nie może odnaleźć określonej ścieżki.\n",
      "Error: ./../experiments_data/node_13/summaryNetProfitGroupedBySoldDate/plots - System nie może odnaleźć określonej ścieżki.\n",
      "Error: ./../experiments_data/node_14/summaryNetProfitGroupedBySoldDate/plots - System nie może odnaleźć określonej ścieżki.\n",
      "Error: ./../experiments_data/node_15/summaryNetProfitGroupedBySoldDate/plots - System nie może odnaleźć określonej ścieżki.\n",
      "Error: ./../experiments_data/node_16/summaryNetProfitGroupedBySoldDate/plots - System nie może odnaleźć określonej ścieżki.\n",
      "Error: ./../experiments_data/node_17/summaryNetProfitGroupedBySoldDate/plots - System nie może odnaleźć określonej ścieżki.\n",
      "Error: ./../experiments_data/node_18/summaryNetProfitGroupedBySoldDate/plots - System nie może odnaleźć określonej ścieżki.\n",
      "Error: ./../experiments_data/node_19/summaryNetProfitGroupedBySoldDate/plots - System nie może odnaleźć określonej ścieżki.\n",
      "Error: ./../experiments_data/node_20/summaryNetProfitGroupedBySoldDate/plots - System nie może odnaleźć określonej ścieżki.\n",
      "Error: ./../experiments_data/node_11/summaryWholeSaleCostGroupedBySoldDate/plots - System nie może odnaleźć określonej ścieżki.\n",
      "Error: ./../experiments_data/node_12/summaryWholeSaleCostGroupedBySoldDate/plots - System nie może odnaleźć określonej ścieżki.\n",
      "Error: ./../experiments_data/node_13/summaryWholeSaleCostGroupedBySoldDate/plots - System nie może odnaleźć określonej ścieżki.\n",
      "Error: ./../experiments_data/node_14/summaryWholeSaleCostGroupedBySoldDate/plots - System nie może odnaleźć określonej ścieżki.\n",
      "Error: ./../experiments_data/node_15/summaryWholeSaleCostGroupedBySoldDate/plots - System nie może odnaleźć określonej ścieżki.\n",
      "Error: ./../experiments_data/node_16/summaryWholeSaleCostGroupedBySoldDate/plots - System nie może odnaleźć określonej ścieżki.\n",
      "Error: ./../experiments_data/node_17/summaryWholeSaleCostGroupedBySoldDate/plots - System nie może odnaleźć określonej ścieżki.\n",
      "Error: ./../experiments_data/node_18/summaryWholeSaleCostGroupedBySoldDate/plots - System nie może odnaleźć określonej ścieżki.\n",
      "Error: ./../experiments_data/node_19/summaryWholeSaleCostGroupedBySoldDate/plots - System nie może odnaleźć określonej ścieżki.\n",
      "Error: ./../experiments_data/node_20/summaryWholeSaleCostGroupedBySoldDate/plots - System nie może odnaleźć określonej ścieżki.\n",
      "Error: ./../experiments_data/node_11/sumNetProfitGroupedBySoldDate/plots - System nie może odnaleźć określonej ścieżki.\n",
      "Error: ./../experiments_data/node_12/sumNetProfitGroupedBySoldDate/plots - System nie może odnaleźć określonej ścieżki.\n",
      "Error: ./../experiments_data/node_13/sumNetProfitGroupedBySoldDate/plots - System nie może odnaleźć określonej ścieżki.\n",
      "Error: ./../experiments_data/node_14/sumNetProfitGroupedBySoldDate/plots - System nie może odnaleźć określonej ścieżki.\n",
      "Error: ./../experiments_data/node_15/sumNetProfitGroupedBySoldDate/plots - System nie może odnaleźć określonej ścieżki.\n",
      "Error: ./../experiments_data/node_16/sumNetProfitGroupedBySoldDate/plots - System nie może odnaleźć określonej ścieżki.\n",
      "Error: ./../experiments_data/node_17/sumNetProfitGroupedBySoldDate/plots - System nie może odnaleźć określonej ścieżki.\n",
      "Error: ./../experiments_data/node_18/sumNetProfitGroupedBySoldDate/plots - System nie może odnaleźć określonej ścieżki.\n",
      "Error: ./../experiments_data/node_19/sumNetProfitGroupedBySoldDate/plots - System nie może odnaleźć określonej ścieżki.\n",
      "Error: ./../experiments_data/node_20/sumNetProfitGroupedBySoldDate/plots - System nie może odnaleźć określonej ścieżki.\n",
      "Error: ./../experiments_data/node_11/sumWholeSaleCostGroupedBySoldDate/plots - System nie może odnaleźć określonej ścieżki.\n",
      "Error: ./../experiments_data/node_12/sumWholeSaleCostGroupedBySoldDate/plots - System nie może odnaleźć określonej ścieżki.\n",
      "Error: ./../experiments_data/node_13/sumWholeSaleCostGroupedBySoldDate/plots - System nie może odnaleźć określonej ścieżki.\n",
      "Error: ./../experiments_data/node_14/sumWholeSaleCostGroupedBySoldDate/plots - System nie może odnaleźć określonej ścieżki.\n",
      "Error: ./../experiments_data/node_15/sumWholeSaleCostGroupedBySoldDate/plots - System nie może odnaleźć określonej ścieżki.\n",
      "Error: ./../experiments_data/node_16/sumWholeSaleCostGroupedBySoldDate/plots - System nie może odnaleźć określonej ścieżki.\n",
      "Error: ./../experiments_data/node_17/sumWholeSaleCostGroupedBySoldDate/plots - System nie może odnaleźć określonej ścieżki.\n",
      "Error: ./../experiments_data/node_18/sumWholeSaleCostGroupedBySoldDate/plots - System nie może odnaleźć określonej ścieżki.\n",
      "Error: ./../experiments_data/node_19/sumWholeSaleCostGroupedBySoldDate/plots - System nie może odnaleźć określonej ścieżki.\n",
      "Error: ./../experiments_data/node_20/sumWholeSaleCostGroupedBySoldDate/plots - System nie może odnaleźć określonej ścieżki.\n",
      "Error: ./../experiments_data/preprocessed-data - System nie może odnaleźć określonej ścieżki.\n"
     ]
    }
   ],
   "source": [
    "for function_name in function_names:\n",
    "    for node_dir in nodes_directories:\n",
    "        try:\n",
    "            shutil.rmtree('./../experiments_data{}{}/plots'.format(node_dir, function_name))\n",
    "        except OSError as e:\n",
    "            print(\"Error: %s - %s.\" % (e.filename, e.strerror))\n",
    "\n",
    "try:\n",
    "    shutil.rmtree('./../experiments_data/preprocessed-data')\n",
    "except OSError as e:\n",
    "    print(\"Error: %s - %s.\" % (e.filename, e.strerror))\n",
    "\n"
   ],
   "metadata": {
    "collapsed": false,
    "pycharm": {
     "name": "#%%\n"
    }
   }
  }
 ]
}